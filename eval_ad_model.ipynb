{
 "cells": [
  {
   "cell_type": "code",
   "execution_count": 8,
   "id": "04e09687",
   "metadata": {},
   "outputs": [],
   "source": [
    "import torch\n",
    "import csv\n",
    "import pandas as pd\n",
    "from torch.utils.data import DataLoader, TensorDataset\n",
    "from transformers import AutoTokenizer, AutoModelForSequenceClassification, AutoConfig\n",
    "from tqdm import tqdm"
   ]
  },
  {
   "cell_type": "code",
   "execution_count": 4,
   "id": "8d9afe01",
   "metadata": {},
   "outputs": [],
   "source": [
    "def get_encode_data(tokenizer, sentences, max_length=128):\n",
    "    encoded_inputs = tokenizer(sentences, padding=True, truncation=True, max_length=max_length)\n",
    "    input_ids = torch.tensor(encoded_inputs['input_ids'])\n",
    "    attention_masks = torch.tensor(encoded_inputs['attention_mask'])\n",
    "\n",
    "    return (input_ids, attention_masks)"
   ]
  },
  {
   "cell_type": "code",
   "execution_count": 5,
   "id": "e6f90722",
   "metadata": {},
   "outputs": [],
   "source": [
    "model_name = 'klue/roberta-base'\n",
    "b_model=128\n",
    "length=256\n",
    "code_file = '/home/osung/work/lm_classification/klue_roberta-base_ad_train.tsv_ad_code.csv'"
   ]
  },
  {
   "cell_type": "code",
   "execution_count": 6,
   "id": "72a7354a",
   "metadata": {},
   "outputs": [],
   "source": [
    "pretrained_file = '/home/osung/work/lm_classification/klue_roberta-base_ad_total.tsv_ad_b128_e10_ml256_20240814_135702.pth'\n",
    "num_labels = 2"
   ]
  },
  {
   "cell_type": "code",
   "execution_count": 7,
   "id": "46ac452f",
   "metadata": {},
   "outputs": [
    {
     "name": "stdout",
     "output_type": "stream",
     "text": [
      "available device:  cuda\n"
     ]
    }
   ],
   "source": [
    "if torch.cuda.is_available():\n",
    "    device = torch.device(\"cuda\")\n",
    "    print('available device: ', device)\n",
    "else:\n",
    "    device = torch.device(\"cpu\")\n",
    "    print('available device: ', device)"
   ]
  },
  {
   "cell_type": "code",
   "execution_count": 120,
   "id": "d8943de0",
   "metadata": {},
   "outputs": [],
   "source": [
    "tokenizer = AutoTokenizer.from_pretrained(model_name, do_lower_case=False,)"
   ]
  },
  {
   "cell_type": "code",
   "execution_count": 121,
   "id": "62dd85d1",
   "metadata": {},
   "outputs": [],
   "source": [
    "#tokenizer.pad_token = tokenizer.eos_token\n",
    "#tokenizer.padding_side = 'left'"
   ]
  },
  {
   "cell_type": "code",
   "execution_count": 122,
   "id": "787da170",
   "metadata": {},
   "outputs": [],
   "source": [
    "pretrained_model_config = AutoConfig.from_pretrained(model_name)"
   ]
  },
  {
   "cell_type": "code",
   "execution_count": 123,
   "id": "7f97985d",
   "metadata": {},
   "outputs": [],
   "source": [
    "pretrained_model_config.num_labels = num_labels"
   ]
  },
  {
   "cell_type": "code",
   "execution_count": 124,
   "id": "bd46e014",
   "metadata": {},
   "outputs": [
    {
     "name": "stderr",
     "output_type": "stream",
     "text": [
      "Some weights of RobertaForSequenceClassification were not initialized from the model checkpoint at klue/roberta-base and are newly initialized: ['classifier.dense.weight', 'classifier.dense.bias', 'classifier.out_proj.bias', 'classifier.out_proj.weight']\n",
      "You should probably TRAIN this model on a down-stream task to be able to use it for predictions and inference.\n"
     ]
    }
   ],
   "source": [
    "model = AutoModelForSequenceClassification.from_pretrained(\n",
    "    model_name,\n",
    "    config=pretrained_model_config,\n",
    ")"
   ]
  },
  {
   "cell_type": "code",
   "execution_count": 15,
   "id": "20acc4f0",
   "metadata": {},
   "outputs": [],
   "source": [
    "#model.config.pad_token_id = model.config.eos_token_id"
   ]
  },
  {
   "cell_type": "code",
   "execution_count": 125,
   "id": "f29bac1f",
   "metadata": {},
   "outputs": [],
   "source": [
    "model = torch.nn.DataParallel(model)"
   ]
  },
  {
   "cell_type": "code",
   "execution_count": 126,
   "id": "981fd1bc",
   "metadata": {},
   "outputs": [],
   "source": [
    "model = model.to(device)"
   ]
  },
  {
   "cell_type": "code",
   "execution_count": 22,
   "id": "9f226a7c",
   "metadata": {},
   "outputs": [],
   "source": [
    "codes = {}\n",
    "with open(code_file, 'r') as file:\n",
    "    reader = csv.reader(file)\n",
    "    for row in reader:\n",
    "        key, value = row\n",
    "        codes[key] = int(value)"
   ]
  },
  {
   "cell_type": "code",
   "execution_count": 23,
   "id": "cd1611aa",
   "metadata": {},
   "outputs": [],
   "source": [
    "codes[True] = codes['True']\n",
    "codes[False] = codes['False']"
   ]
  },
  {
   "cell_type": "code",
   "execution_count": 127,
   "id": "75552400",
   "metadata": {},
   "outputs": [
    {
     "data": {
      "text/plain": [
       "{'False': 0, 'True': 1, True: 1, False: 0}"
      ]
     },
     "execution_count": 127,
     "metadata": {},
     "output_type": "execute_result"
    }
   ],
   "source": [
    "codes"
   ]
  },
  {
   "cell_type": "code",
   "execution_count": 41,
   "id": "1a513d8a",
   "metadata": {},
   "outputs": [
    {
     "name": "stdout",
     "output_type": "stream",
     "text": [
      "DataParallel(\n",
      "  (module): RobertaForSequenceClassification(\n",
      "    (roberta): RobertaModel(\n",
      "      (embeddings): RobertaEmbeddings(\n",
      "        (word_embeddings): Embedding(32000, 768, padding_idx=1)\n",
      "        (position_embeddings): Embedding(514, 768, padding_idx=1)\n",
      "        (token_type_embeddings): Embedding(1, 768)\n",
      "        (LayerNorm): LayerNorm((768,), eps=1e-05, elementwise_affine=True)\n",
      "        (dropout): Dropout(p=0.1, inplace=False)\n",
      "      )\n",
      "      (encoder): RobertaEncoder(\n",
      "        (layer): ModuleList(\n",
      "          (0-11): 12 x RobertaLayer(\n",
      "            (attention): RobertaAttention(\n",
      "              (self): RobertaSelfAttention(\n",
      "                (query): Linear(in_features=768, out_features=768, bias=True)\n",
      "                (key): Linear(in_features=768, out_features=768, bias=True)\n",
      "                (value): Linear(in_features=768, out_features=768, bias=True)\n",
      "                (dropout): Dropout(p=0.1, inplace=False)\n",
      "              )\n",
      "              (output): RobertaSelfOutput(\n",
      "                (dense): Linear(in_features=768, out_features=768, bias=True)\n",
      "                (LayerNorm): LayerNorm((768,), eps=1e-05, elementwise_affine=True)\n",
      "                (dropout): Dropout(p=0.1, inplace=False)\n",
      "              )\n",
      "            )\n",
      "            (intermediate): RobertaIntermediate(\n",
      "              (dense): Linear(in_features=768, out_features=3072, bias=True)\n",
      "              (intermediate_act_fn): GELUActivation()\n",
      "            )\n",
      "            (output): RobertaOutput(\n",
      "              (dense): Linear(in_features=3072, out_features=768, bias=True)\n",
      "              (LayerNorm): LayerNorm((768,), eps=1e-05, elementwise_affine=True)\n",
      "              (dropout): Dropout(p=0.1, inplace=False)\n",
      "            )\n",
      "          )\n",
      "        )\n",
      "      )\n",
      "    )\n",
      "    (classifier): RobertaClassificationHead(\n",
      "      (dense): Linear(in_features=768, out_features=768, bias=True)\n",
      "      (dropout): Dropout(p=0.1, inplace=False)\n",
      "      (out_proj): Linear(in_features=768, out_features=2, bias=True)\n",
      "    )\n",
      "  )\n",
      ")\n"
     ]
    }
   ],
   "source": [
    "print(model)"
   ]
  },
  {
   "cell_type": "code",
   "execution_count": 128,
   "id": "9ea4a06b",
   "metadata": {},
   "outputs": [],
   "source": [
    "loaded_state_dict = torch.load(pretrained_file)"
   ]
  },
  {
   "cell_type": "code",
   "execution_count": 129,
   "id": "49be06c7",
   "metadata": {},
   "outputs": [
    {
     "data": {
      "text/plain": [
       "<All keys matched successfully>"
      ]
     },
     "execution_count": 129,
     "metadata": {},
     "output_type": "execute_result"
    }
   ],
   "source": [
    "model.load_state_dict(loaded_state_dict)"
   ]
  },
  {
   "cell_type": "code",
   "execution_count": 130,
   "id": "f53ea1a3",
   "metadata": {
    "scrolled": true
   },
   "outputs": [
    {
     "data": {
      "text/plain": [
       "DataParallel(\n",
       "  (module): RobertaForSequenceClassification(\n",
       "    (roberta): RobertaModel(\n",
       "      (embeddings): RobertaEmbeddings(\n",
       "        (word_embeddings): Embedding(32000, 768, padding_idx=1)\n",
       "        (position_embeddings): Embedding(514, 768, padding_idx=1)\n",
       "        (token_type_embeddings): Embedding(1, 768)\n",
       "        (LayerNorm): LayerNorm((768,), eps=1e-05, elementwise_affine=True)\n",
       "        (dropout): Dropout(p=0.1, inplace=False)\n",
       "      )\n",
       "      (encoder): RobertaEncoder(\n",
       "        (layer): ModuleList(\n",
       "          (0-11): 12 x RobertaLayer(\n",
       "            (attention): RobertaAttention(\n",
       "              (self): RobertaSelfAttention(\n",
       "                (query): Linear(in_features=768, out_features=768, bias=True)\n",
       "                (key): Linear(in_features=768, out_features=768, bias=True)\n",
       "                (value): Linear(in_features=768, out_features=768, bias=True)\n",
       "                (dropout): Dropout(p=0.1, inplace=False)\n",
       "              )\n",
       "              (output): RobertaSelfOutput(\n",
       "                (dense): Linear(in_features=768, out_features=768, bias=True)\n",
       "                (LayerNorm): LayerNorm((768,), eps=1e-05, elementwise_affine=True)\n",
       "                (dropout): Dropout(p=0.1, inplace=False)\n",
       "              )\n",
       "            )\n",
       "            (intermediate): RobertaIntermediate(\n",
       "              (dense): Linear(in_features=768, out_features=3072, bias=True)\n",
       "              (intermediate_act_fn): GELUActivation()\n",
       "            )\n",
       "            (output): RobertaOutput(\n",
       "              (dense): Linear(in_features=3072, out_features=768, bias=True)\n",
       "              (LayerNorm): LayerNorm((768,), eps=1e-05, elementwise_affine=True)\n",
       "              (dropout): Dropout(p=0.1, inplace=False)\n",
       "            )\n",
       "          )\n",
       "        )\n",
       "      )\n",
       "    )\n",
       "    (classifier): RobertaClassificationHead(\n",
       "      (dense): Linear(in_features=768, out_features=768, bias=True)\n",
       "      (dropout): Dropout(p=0.1, inplace=False)\n",
       "      (out_proj): Linear(in_features=768, out_features=2, bias=True)\n",
       "    )\n",
       "  )\n",
       ")"
      ]
     },
     "execution_count": 130,
     "metadata": {},
     "output_type": "execute_result"
    }
   ],
   "source": [
    "model.eval()"
   ]
  },
  {
   "cell_type": "code",
   "execution_count": 9,
   "id": "f6bd8c34",
   "metadata": {},
   "outputs": [],
   "source": [
    "test_df = pd.read_csv('/home/osung/data/korean/modu/json/combined_news.tsv', sep='\\t')"
   ]
  },
  {
   "cell_type": "code",
   "execution_count": 10,
   "id": "6b4eca1b",
   "metadata": {},
   "outputs": [
    {
     "data": {
      "text/plain": [
       "0    \"대통령, 시장 방문만 하지 말고 실천해달라\" 2008년의 마지막 새벽, 언론의 카...\n",
       "1    진성호 의원, 겨우 이 정도였나 오늘(31일) 한나라당 의원 총회에서 조선일보 출신...\n",
       "2    \"소의 해, 정치인들 싸움 좀 그만하시죠\" 지난해 12월 31일 대구국채보상기념운동...\n",
       "3    'MB악법 저지' 촛불 들고 새해 맞은 대전시민들 촛불의 물결이 전국을 뒤 덮었던 ...\n",
       "4    산(酸) 몰아내니 누이 좋고 매부 좋고 겨울철 우리의 입맛을 돋우는 먹을거리 가운데...\n",
       "5    \"방송장악은 군사독재로 회귀하는 것\" 한나라당이 추진 중인 언론법과 관련해 언론노조...\n",
       "6    '만수'의 해에 국민들은 '명박'했다소의 해에는 뚜벅뚜벅 우보로 가자 지나간 한 해...\n",
       "7    지리산 '2MB OUT 소망 띄우기', 경찰 저지로 무산 지리산 삼신봉에서 새해 첫...\n",
       "8    박희태 \"신라시대 만파식적은 어디 있는가?\" 청와대의 바람과 달리 소위 'MB법안'...\n",
       "9    모두에게 '윈-윈 게임'이 되는 세상, 아름다운 동행 21세기는 IQ(지능지수, I...\n",
       "Name: text, dtype: object"
      ]
     },
     "execution_count": 10,
     "metadata": {},
     "output_type": "execute_result"
    }
   ],
   "source": [
    "test_df.text[:10]"
   ]
  },
  {
   "cell_type": "code",
   "execution_count": 15,
   "id": "33a8f236",
   "metadata": {},
   "outputs": [
    {
     "data": {
      "text/plain": [
       "'그녀의 번뇌와 선택이 시사하는 것 북에서도 단정 수립 기도를... 이강국은 저간의 사정을 이야기했다. 그는 민족의 분단을 막는 일을 자기의 소명으로 알고 있었다. 남한에서 단독정부 수립을 비판하던 그는 미 군정청의 수배를 받게 되자 북한으로 넘어갔다. 북한에 간 그는 소스라치게 놀랐다. 단정 수립 기도는 남한만 하고 있던 것이 아니기 때문이었다. 북한의 김일성도 소련의 지시를 받아 단독 정부 수립을 위해 노골적으로 움직이고 있었다. 이강국은 남로당의 간부였다. 김일성의 북로당은 노동법 전문가이고 외국어에 능통한 그에게 외무국장의 직책을 맡겼다. 이강국은 북로당의 단정 수립 움직임에 제동을 걸었다. 또한 그는 북로당의 여러 정책에 문제를 제기했다. 김일성의 부하들은 그에게 부르주아의 때가 남아 있다고 생각했다. 그는 남한에서 미군정에 소련을 무시하지 말라고 말했던 것처럼 북로당에는 미국을 배척하지 말라고 경고했다. 그러다가 그는 당의 명령에 불복했다는 이유로 직위 해제되었다. 당은 그에게 3개월 동안 감옥에서 자아비판을 하라고 명령했다. 김일성은 감옥에서 나온 그를 다시 남한으로 보내고 싶었다. 그래서 그에게 남로당 재건의 책임을 맡겼다. 박헌영의 남로당은 이미 미군정과 이승만의 탄압으로 궤멸 상태에 있었다. \"나는 남조선 정부와 미군 정보기관에서 현상금을 걸고 수배한 사람이야. 내가 수임이를 함부로 만나게 되면 수임이까지 프락치로 몰리게 되어 있어. 그래도 한 번 수임이를 보고 싶었어. 딱 한 번만 보려고 했던 거지. 이제 수임이를 보았고 행복하게 사는 것을 알았으니 됐어.\" 이강국은 피곤한 듯 발을 뻗으며 담배를 피워 물었다. 밤이 깊어지고 있었다. 괘종시계가 열 번을 쳤는지 열한 번을 쳤는지 그녀는 알 수 없었다. 이강국은 몸을 일으키며 말했다. \"그럼 이제 일어나지.\" \"이 밤에 어딜요?\" \"바래다주마. 오늘 이후로 우리는 만나면 안 돼.\" 김수임은 왈칵 눈물이 솟았다. \"저는 행복하지 않아요. 베어드와 살림을 차린 것은 제가 정말 원했던 일이 아니었어요. 그리고 결혼 수속을 한 것도 아니고요.\" \"그럼 무엇이지?\" \"윤숙 언니의 집요한 설득에 그만 넘어갔어요. 북으로 간 이강국은 절대 돌아올 리가 없다고 했어요.\" 나윤숙의 이름을 들은 이강국의 얼굴에 노기가 나타났다. \"옛날 독서회 추억이 있어 말하지도 않고 생각하지도 않으려 했는데, 나윤숙이는 요즘 해도 너무 하더군.\" 갑자기 이강국의 입에서 험한 욕지거리가 나왔다. \"그년은 일제의 갈보에서 미제의 갈보로 변신했어.\" 김수임은 가슴이 뜨끔했다. 그녀는 잠시 흐느끼다 고개를 쳐들고 말했다. \"선생님, 갈보는 저예요.\" 이강국은 당혹스러운 표정을 지었다. \"미제의 갈보는 저라구요. 하지만 선생님만 떠나지 않는다면 저는 모든 것 다 포기할 수도 있어요.\" \"수임이는 절대 갈보가 아니야. 너는 천성이 착한 여자지.\" 김수임은 고개를 끄덕였다. 이강국은 굳은 표정으로 한참 동안 창밖을 바라보더니 나지막하게 말했다. \"내가 좋은 방법을 생각해 볼게. 오늘은 호텔에 가서 함께 지내자.\" 두 사람은 함께 자리에서 일어났다. 김수임은 차가운 홍릉 골짜기의 공기를 쐬며 눈과 볼에 엷은 웃음을 머금었다. 그녀는 이강국과 함께 있는 동안에는 아무런 번민이나 가책이 없었다. 그녀는 자신이 사랑할 수 있는 유일한 사람은 이강국뿐임을 다시 확신했다. 그렇기에 그가 하는 말들도 구구절절이 옳다고 느꼈다. \"수임아, 한 나라에 두 주인이 있어서는 안 돼. 일본에 당한 설움도 가시지 않은 터에 이제 민족이 갈라진다면 그것은 식민지 못지않은 비극적 결과를 낳을 수도 있기 때문이야. 지금 미· 소 강대국은 우리 동족끼리 원수가 되기를 강요하고 있어. 우리는 투쟁으로 이를 물리칠 수밖에 없어. 한쪽 정부라도 빨리 만들어 권력을 쥐려는 이승만과 김일성은 민족에게 천추의 죄를 짓는 것임을 알아야 해.\" 갈대 같은 김수임, 그녀의 번뇌와 선택이 시사하는 것 그날 밤 이강국의 말은 모두 정당했다. 그러므로 그녀는 그런 이강국을 사랑하는 자신의 행동에도 거리낄 것이 없었다. 문제는 이강국이 떠나자마자 그녀의 마음에 가책과 동요가 생긴다는 데에 있었다. 이강국과 헤어진 그녀가 집으로 돌아가지 않고 나윤숙을 찾아간 이유도 거기에 있었다. 그녀는 나윤숙의 집에서 함께 점심을 지어 먹었다. \"너 베어드와 무슨 일이 생긴 거니?\" 나윤숙이 김수임의 안색을 살피며 말했다. \"베어드는 일본에 출장 갔다고 했잖아.\" 나윤숙은 김수임의 국그릇을 밥그릇의 오른쪽으로 옮겨 놓아주었다. \"사실은 언니….\" 나윤숙은 고개를 번쩍 쳐들어 다시 김수임의 얼굴을 물끄러미 보았다. \"이강국 선생이 왔어.\" 나윤숙은 가슴이 덜컥 내려앉았다. 이강국은 지금 남한에 있어서는 안 되는 사람이었다. 그녀는 침착하게 대처해야 한다고 생각했다. \"네가 원하는 바는 뭐니?\" \"모든 것 포기하고 이강국 선생을 따라가고 싶어.\" \"수임아 냉정해야 해. 지금 베어드를 버릴 수는 없잖아. 사랑도 중요하지만 사람에게는 인간적인 도리라는 것도 있는 거야. 게다가 이강국 선생은 신의를 일단 버린 사람이야. 사랑한다면 너를 그렇게 오래 혼자 놓아 둘 수는 없는 거지. 너의 잘못은 없어. 그 사람이 너무 늦게 온 거야.\" 나윤숙은 온갖 수사를 동원하여 김수임을 설득하는 데 성공했다. 김수임도 눈물을 닦으며 나윤숙의 말에 동의했다. 나윤숙은 군정청에 전화를 걸어 베어드의 운전병을 불렀다. 김수임은 마음의 안정을 찾고 집으로 돌아갔다. 이틀 후 베어드는 예쁜 선물 꾸러미들을 들고 집에 왔다. \"수임, 성탄을 혼자 지내게 해서 정말 미안해.\" \"아니에요. 이렇게 금방 돌아와 주셨잖아요.\" 베어드는 맥아더에게 받은 선물이라며 여자 시계를 내놓았다. \"그리고 이것은 내가 고른 선물이오.\" 베어드는 음반을 꺼내더니 전축 옆으로 갔다. 음반에서는 빙크로스비의 노래가 울려 나왔다. 굵고도 부드럽고 온화한 음성이었다. 노래가 끝나자 베어드는 \"이번에는 당신이 좋아하는 찬송가를 같이 듣고 싶소\"하며 판을 찾아 바꿔 놓았다. 전축에서는 김수임이 어려서부터 즐겨 부르던 찬송가가 울려나왔다. 나 가나안 복지 귀한 성에 들어가려고/ 무거운 짐을 벗어 버렸네/ 나 홀로 다시 방황할 리 전혀 없으니/ 내 생명 시냇가에 살겠네/ 나 길이 살겠네, 나 길이 살겠네/ 내 생명 시냇가에 살겠네/ 나 길이 살겠네, 나 길이 살겠네/ 내 생명 시냇가에 살겠네'"
      ]
     },
     "execution_count": 15,
     "metadata": {},
     "output_type": "execute_result"
    }
   ],
   "source": [
    "test_df.text[50]"
   ]
  },
  {
   "cell_type": "code",
   "execution_count": 52,
   "id": "256b86fd",
   "metadata": {},
   "outputs": [],
   "source": [
    "encode_data = get_encode_data(tokenizer, [test_df.text[0]], max_length=256)"
   ]
  },
  {
   "cell_type": "code",
   "execution_count": 53,
   "id": "6dd39cfc",
   "metadata": {},
   "outputs": [
    {
     "data": {
      "text/plain": [
       "(tensor([[    0,     6,  3698,    16,  3648,  4110,  2154,  1889,  2118,  1041,\n",
       "           2088,  4980,  2097,  2448,  2181,     6,  4898,  2440,  2079,  4178,\n",
       "           5566,    16,  4163,  2079,  5677,  2259,  3671,  7915,  2138,  9991,\n",
       "           2062,    18, 19817,   886,  4132,  2729,  2532,  5698,  2052,  9691,\n",
       "           2651,  3906, 10859,  2121,  2069, 24402,  4833,  3712,  2031,  2079,\n",
       "           4175,  2069,  5037,  2088,  1513,  2359,  2414,   575,    18,   555,\n",
       "           2073,  4808,    16,  3906,  1120,  3991, 27135,  5946,  2031,  2073,\n",
       "           3674,  4098,  2522, 18073,  2090,  1283, 27135,  1237,  2079, 16825,\n",
       "           2530,  2145,  3713,  2170,  3618, 29126,  2170, 16020,  1643, 19329,\n",
       "           2470,  1237,  2069,  3796,  2116,  2088,  1513,  2359,  2062,    18,\n",
       "           1504,  2031,  2079,  4243,  2138,   881,  2015,  3627,  3814,  5566,\n",
       "             23,  2067,  4892,  2079,  4408,  2069,  1428,  2259,  3671, 14597,\n",
       "           2328, 18861, 27854,  2119,  2077,  7149,  6233,  9991,  2062,    18,\n",
       "          14597,  7149,  6233,   543,  2259,  6032,  1378, 27135,  4898,  2440,\n",
       "           2079,  4178,  5566,  2069,  1047,  2259,  5946,  2031,  2079,  3880,\n",
       "           2138,  1435,  2031,  2069,  1295,  1513,  2359,  2062,    18,  6032,\n",
       "          14036, 14728,  2313,    12, 14873,   100,  6405,    13,  1370,  2259,\n",
       "           1041,  4538,    18,     6, 17268,  3046,  2052, 12864,  2178,  2062,\n",
       "           8092,  2951,  2088,    16,    29,  2154, 11445,  3607,  2252,  1889,\n",
       "           2259, 24853,  2157, 13911,  2119, 26712,  2062,    18,    12,  1891,\n",
       "            814,  2170,    13,  3911,  2154,  2252,  2119,  1142,  2015,  4390,\n",
       "           2062,    18,  4064,  2440,  3764,  6032, 14036,  2138,  1902, 13964,\n",
       "             16,  4442,  2052,  4920,  4390,  2062,    18,  6032,  6654,  1432,\n",
       "           2170,  9162,  2073,  4390,  4683,  3605,    18,   831, 20623,  2470,\n",
       "            570,  4172,  2614,   831,  4258,  4000,   568,  2062,    18,  6680,\n",
       "           2031,    35,     3,  1523,  2088,     2]]),\n",
       " tensor([[1, 1, 1, 1, 1, 1, 1, 1, 1, 1, 1, 1, 1, 1, 1, 1, 1, 1, 1, 1, 1, 1, 1, 1,\n",
       "          1, 1, 1, 1, 1, 1, 1, 1, 1, 1, 1, 1, 1, 1, 1, 1, 1, 1, 1, 1, 1, 1, 1, 1,\n",
       "          1, 1, 1, 1, 1, 1, 1, 1, 1, 1, 1, 1, 1, 1, 1, 1, 1, 1, 1, 1, 1, 1, 1, 1,\n",
       "          1, 1, 1, 1, 1, 1, 1, 1, 1, 1, 1, 1, 1, 1, 1, 1, 1, 1, 1, 1, 1, 1, 1, 1,\n",
       "          1, 1, 1, 1, 1, 1, 1, 1, 1, 1, 1, 1, 1, 1, 1, 1, 1, 1, 1, 1, 1, 1, 1, 1,\n",
       "          1, 1, 1, 1, 1, 1, 1, 1, 1, 1, 1, 1, 1, 1, 1, 1, 1, 1, 1, 1, 1, 1, 1, 1,\n",
       "          1, 1, 1, 1, 1, 1, 1, 1, 1, 1, 1, 1, 1, 1, 1, 1, 1, 1, 1, 1, 1, 1, 1, 1,\n",
       "          1, 1, 1, 1, 1, 1, 1, 1, 1, 1, 1, 1, 1, 1, 1, 1, 1, 1, 1, 1, 1, 1, 1, 1,\n",
       "          1, 1, 1, 1, 1, 1, 1, 1, 1, 1, 1, 1, 1, 1, 1, 1, 1, 1, 1, 1, 1, 1, 1, 1,\n",
       "          1, 1, 1, 1, 1, 1, 1, 1, 1, 1, 1, 1, 1, 1, 1, 1, 1, 1, 1, 1, 1, 1, 1, 1,\n",
       "          1, 1, 1, 1, 1, 1, 1, 1, 1, 1, 1, 1, 1, 1, 1, 1]]))"
      ]
     },
     "execution_count": 53,
     "metadata": {},
     "output_type": "execute_result"
    }
   ],
   "source": [
    "encode_data"
   ]
  },
  {
   "cell_type": "code",
   "execution_count": 55,
   "id": "d53e65b8",
   "metadata": {},
   "outputs": [],
   "source": [
    "output = model(encode_data[0], encode_data[1])"
   ]
  },
  {
   "cell_type": "code",
   "execution_count": 56,
   "id": "79475727",
   "metadata": {},
   "outputs": [
    {
     "data": {
      "text/plain": [
       "SequenceClassifierOutput(loss=<generator object gather.<locals>.gather_map.<locals>.<genexpr> at 0x7fde4ecf9f20>, logits=tensor([[-4.2776,  4.4596]], device='cuda:0', grad_fn=<GatherBackward>), hidden_states=None, attentions=None)"
      ]
     },
     "execution_count": 56,
     "metadata": {},
     "output_type": "execute_result"
    }
   ],
   "source": [
    "output"
   ]
  },
  {
   "cell_type": "code",
   "execution_count": 58,
   "id": "4b8bb8b0",
   "metadata": {},
   "outputs": [],
   "source": [
    "_, predicted = torch.max(output.logits, dim=1)"
   ]
  },
  {
   "cell_type": "code",
   "execution_count": 80,
   "id": "3b47eaf1",
   "metadata": {},
   "outputs": [],
   "source": [
    "predicted = predicted.to(torch.device('cuda'))"
   ]
  },
  {
   "cell_type": "code",
   "execution_count": 81,
   "id": "859d9eab",
   "metadata": {},
   "outputs": [],
   "source": [
    "predicted = predicted.item()"
   ]
  },
  {
   "cell_type": "code",
   "execution_count": 82,
   "id": "ccb87944",
   "metadata": {},
   "outputs": [
    {
     "data": {
      "text/plain": [
       "1"
      ]
     },
     "execution_count": 82,
     "metadata": {},
     "output_type": "execute_result"
    }
   ],
   "source": [
    "predicted"
   ]
  },
  {
   "cell_type": "code",
   "execution_count": 60,
   "id": "6c7bf99e",
   "metadata": {},
   "outputs": [
    {
     "data": {
      "text/plain": [
       "{'False': 0, 'True': 1, True: 1, False: 0}"
      ]
     },
     "execution_count": 60,
     "metadata": {},
     "output_type": "execute_result"
    }
   ],
   "source": [
    "codes"
   ]
  },
  {
   "cell_type": "code",
   "execution_count": 16,
   "id": "350b92f9",
   "metadata": {},
   "outputs": [],
   "source": [
    "ad_df = test_df[test_df['text'].apply(lambda x: all(keyword in x for keyword in ['아파트', '분양', '건설', '분양가', '모델하우스']))]"
   ]
  },
  {
   "cell_type": "code",
   "execution_count": 17,
   "id": "978681cf",
   "metadata": {},
   "outputs": [
    {
     "data": {
      "text/plain": [
       "1406      고분양가 그대로 두고 미분양 해소! 바보 아냐? \"건설사들이 '같이 죽든지 아니면 ...\n",
       "2245      아파트 계약자들과 시공사 만남이 '화기애애'? 건설업체가 변하고 있다. 장기침체로 ...\n",
       "2576      도심 재개발 원주민 정든 마을 내쫓길 처지 재개발 보상가 문제로 일부 주민들의 거센...\n",
       "9456      \"서해 조망권이라더니 민둥산 조망권이었나?\" \"강남에 지은 곳보다 건축비가 더 들었...\n",
       "14437     대법, 분양률 높이려 과장 광고한 건설사 제동 신규 아파트 인근에 전철역이 들어선다...\n",
       "17327     \"값 비싼 불량 아파트... 살고 싶지 않다\" 아파트 모델하우스와 홍보책자만큼 한국...\n",
       "62586     소형 평형(구25평형) 아파트 투자가 대세!!! 우미 건설은 영종 하늘 도시 내에 ...\n",
       "62596     청약통장 필요 없는 25평형 아파트 특별분양 “영종하늘도시 우미린” 우미 건설은 영...\n",
       "62609     1500만원대로 2억대 신도시 아파트 잡으세요! -양도세가 얼마인데 100% 면제 ...\n",
       "62666     부동산 재테크 열기, 주목할 만한 곳은? 국내 실물경기 회복에 따라 올해 하반기 이...\n",
       "65401     프리미엄이란 이런곳! 제주도 고급형 빌라 '센텀 일마레' 절찬리 분양중! 제주도는 ...\n",
       "82884     세종시 첫마을 청약에 '떴다방' 등장 세종시 첫마을 '퍼스트프라임' 청약 접수가 9...\n",
       "90738     울산·부산 '포스코 더샵' 이유있는 인기 포스코건설(사장 정동화)이 울산 '문수산 ...\n",
       "109165    현대건설, '광교 힐스테이트 레이크' 14일 오픈 현대건설이 오는 14일 경기도 수...\n",
       "112774    '송도 더샵 마스터뷰' 견본주택 3일간 2만5천여명 방문 GCF 사무국 유치 발표 ...\n",
       "113919    구미 임은 삼도뷰엔빌W '분양 활기'…부동산 경기 청신호? 경북 구미 임은 삼도뷰엔...\n",
       "123700    한화건설, 상암 DMC 바로 앞 1억원대 '오피스텔' 732실 분양 한화건설이 서울...\n",
       "125888    빅3 분양 전쟁…'위례· 김포풍무' 정면승부 분양시장 달군다! 위례신도시와 김포풍무...\n",
       "126839    \"살아보고 사세요\"…아파트 분양 '막장드라마' '3억 할인 실입주금 1억 OK' 수...\n",
       "126850    대우인터 등 대기업들 속속 입주, 송도국제도시 '함박웃음' 최근 인천 송도국제도시가...\n",
       "127663    손대면 외벽 '뿌지직'…서초구 '날림APT' 입주 임박 입주를 일주일도 채 남기지 ...\n",
       "132382    '디에이치 아너힐즈' 7월초 분양…분양가는 얼마? 현대건설은 \"7월 8일 서울시 강...\n",
       "133921    고삐풀린 경품…아파트·스포츠카까지 초고가 경품 봇물 지난 8월 소비자 경품 상한선 ...\n",
       "139507    분양 vs 임대, 건축비 두 배, 품질도 두 배? 일생에 한두 번, 전 재산을 털어...\n",
       "139517    못 믿을 분양가…'유명무실' 분양가심의 일생에 한두 번, 전 재산을 털어 아파트를 ...\n",
       "140538    현대건설, '힐스테이트 동탄 2차' 1월 분양 현대건설이 2018년 1월 경기도 화...\n",
       "141901    \"같은 값이면 넓은 집으로\"…한화건설, '김포 풍무 꿈에그린 유로메트로' 일반분양 ...\n",
       "145189    보이는 만큼 비싸다! '돈을 부르는 물(水) 조망권 아파트' 서울 강남의 '대장' ...\n",
       "154634    현대엔지니어링, 서울 '힐스테이트 세운' 이달말 분양 현대엔지니어링은 서울 세운재정...\n",
       "166697    경실련 \"북위례 분양가 거품 '자이·힐스테이트·리슈빌'서 총 4100억원\" 북위례신...\n",
       "166771    북위례부터 분양원가 공개 본격화…건설업계 \"나 떨고있니\" 분양원가 공시항목 확대 조...\n",
       "168975    서희건설, 초역세권 ‘화성시청역 서희스타힐스’ 분양 중 서희건설은 경기 화성시 신남...\n",
       "169934    분양가상한제에 침묵한 분양시장, 다음주부터 '꿈틀' 분양가상한제 적용 지역 발표 직...\n",
       "170270    대세는 작고 고급진 오피스텔, \"포미족 잡아라\" 개인적로 가치를 두는 제품에 과감한...\n",
       "172489    대우건설, '매교역 푸르지오 SK뷰' 사이버 견본주택 운영 대우건설은 신종 코로나 ...\n",
       "180886    대우건설, 감일 푸르지오 마크베르·아클라우드 감일 분양 대우건설은 하남 감일지구의 ...\n",
       "192697    계룡 푸르지오 분양 시작…뛰어난 생활인프라로 랜드마크 '급부상' 대우건설이 충남 계...\n",
       "282643    “교육·교통·문화 모두 갖춘 강남 최고의 입지” 지상 38층·지하 3층에 15개동 ...\n",
       "286961    오산세교 분납형 임대 ‘큰 관심’ 전국에서 처음으로 대한주택공사가 오산세교신도시에 ...\n",
       "288017    미분양 아파트 발길 늘어 정부가 2·13 대책을 통해 미분양 아파트에 대한 양도세 ...\n",
       "288770    아파트형 공장이 33층! 주택시장 침체와 오피스 공급 부족으로 오피스빌딩이 최근 새...\n",
       "289452    4천500명 몰려 ‘북적북적’ “아파트 분양시장에도 봄바람이 불어오는 건가요?” 1...\n",
       "289950    아파트 분양시장 달아오른다 경기·인천 등 수도권 부동산 시장의 향방을 가늠할 수 있...\n",
       "290066    인천 부동산시장 양극화 인천지역 아파트 청약시장이 과열현상까지 보이고 있는 반면, ...\n",
       "290609    “다시 광교로또” 수만명 발길 “오래전부터 광교신도시로 입성을 결심했던 터라 모델하...\n",
       "291357    불패신화 ‘청라지구’ 이번엔 주상복합! 2009년 상반기 분양시장이 마무리 단계에 ...\n",
       "291506    ‘10년 공공임대’로 내집마련 해볼까’ 상반기 분양시장이 마무리되면서 하반기 분양이...\n",
       "292600    ‘수도권 노른자 ‘청라·판교·광교’ 주목 ‘택지지구도 되는 곳만 된다!’ 분양시장에...\n",
       "294092    영종·청라지구 동시분양 돌입 인천경제자유구역 영종지구(하늘도시)와 청라지구 대규모 ...\n",
       "295555    겨울 비수기에도 뜨거운 분양 열기 지난 3일 국토해양부에 따르면 지난 10월 말 기...\n",
       "Name: text, dtype: object"
      ]
     },
     "execution_count": 17,
     "metadata": {},
     "output_type": "execute_result"
    }
   ],
   "source": [
    "ad_df.text[:50]"
   ]
  },
  {
   "cell_type": "code",
   "execution_count": 20,
   "id": "36c8fc1d",
   "metadata": {},
   "outputs": [
    {
     "data": {
      "text/plain": [
       "'고분양가 그대로 두고 미분양 해소! 바보 아냐? \"건설사들이 \\'같이 죽든지 아니면 미분양을 해소시켜 달라\\'고 하니 정부에서 나선 거다. 그런데 건설사가 \\'(미분양) 책임 없다\\'며 비싼 분양가를 안 내리니 미분양 해소가 되겠느냐.\" 지난 18일 경기 용인시 수지구 성복동에서 만난 공인중개사 김정수(가명)씨가 한숨 쉬듯 말했다. 지난 2월 12일 정부가 미분양 해소를 위해 내놓은 양도소득세 면제·감면 조치의 효과에 대해 묻자 돌아온 답이었다. 김씨의 공인중개사무소 인근에는 2·12 조치의 대표적인 수혜단지로 언론에 보도된 \\'용인 성복 힐스테이트\\'가 있다. 이 아파트를 두고 그는 \"완전히 \\'1+1\\'\"이라며 \"힐스테이트 분양가격으로 인근 아파트 2채를 살 수 있다, 누가 사겠느냐?\"고 지적했다. 언론의 섣부른 보도와는 달리 고분양가 탓에 미분양 해소라는 정책적 효과를 기대할 수 없다는 게 김씨의 생각이다. 또한 그는 양도세 감면·면제 혜택을 보지 못하는 계약자들이 아파트 분양권을 싸게 내놓아, 미분양 해소는 더욱 어렵다고 덧붙였다. 이는 2·12 조치의 다른 수혜단지의 사정도 마찬가지였다. 모델하우스 북적? 빈 책상에 앉은 분양 상담사들 이날 오전에 찾은 경기 성남시 분당구 구미동 \\'용인 성복 힐스테이트\\' 모델하우스는 적막감이 감돌았다. 상담사 3명이 빈 책상에 앉아 방문객을 기다리고 있었다. 이곳의 분위기는 \"용인 지역 미분양 아파트는 앞으로 5년간 양도세가 면제되기 때문에, 2·12 조치 발표 이후 방문객과 문의가 폭주하면서 미분양이 빠르게 소진되고 있다\"는 일부 언론 보도와는 거리가 멀었다. 반면 현대건설 분양팀 관계자는 \"2·12 조치 이후 하루 10명이던 방문객이 200여 명으로 늘었다\"며 \"가계약하겠다는 40~50명을 확보했다\"고 말했다. 현재 모두 2157세대인 이 아파트단지의 미분양 물량은 700여 세대다. 이 관계자는 이어 \"현재 양도세 감면 조치가 어느 정도 효과가 있을지는 지켜봐야 한다\"며 \"경기침체가 가속화되고 있는 상황에서 강남이 오르지 않는 이상, 용인도 가격이 상승하기 어렵다\"고 전했다. \"비싼 미분양 아파트 사는 건 바보 짓\" 성복지구 아파트 건설 현장 인근에서 만난 공인중개사들은 상황을 더 비관적으로 보고 있었다. \"미분양 원인은 다 있다, 힐스테이트는 분양가가 너무 비싸다\"며 \"건설사가 분양가격을 내리거나 부동산 시장이 크게 살아나지 않는 한 미분양 해소는 어렵다\"고 전했다. 힐스테이트 199㎡(60평)형의 경우, 발코니 확장과 장식가구 등 옵션을 모두 포함한 분양가는 10억387만원이다. 3.3㎡(1평)당 분양가는 1673만원. 분양가의 60%에 이르는 중도금의 이자까지 더하면 3.3㎡당 분양가가 1700만원을 넘는다는 게 공인중개사들의 분석이다. 이에 비해 힐스테이트 인근의 엘지빌리지 204㎡(62평) 가격은 6억5천만원으로 3.3㎡당 1000만원 안팎이다. L공인중개사 대표는 \"나중에 가격이 오를지 모르지만, 현재로선 힐스테이트 미분양 아파트를 사는 것은 \\'바보짓\\'이다, 분양가보다 7천만원 떨어진 분양권도 나왔지만 사는 사람이 없다\"고 지적했다. 이어 그는 \"용인 수지 동일하이빌 아파트의 경우 분양가를 10% 인하해서 그나마 미분양 물량이 소진되고 있다\"며 \"건설사들이 충분히 분양가를 인하할 수 있지만, 안 하는 건 사기\"라고 지적했다. 힐스테이트의 가계약자도 가격이 부담되긴 마찬가지다. 모델하우스에서 만난 한 가계약자는 \"분당에 살고 있는데 이사를 오려고 한다\"면서 \"가격이 많이 떨어진 분당 집을 팔고 여기로 오기엔 가격 차이가 너무 크다, 계약을 고민하고 있다\"고 전했다. 양도세 완화 수혜단지? 혜택 받는 아파트 숫자 많지 않아 지난 16일 찾은 경기 고양시 일산동구 식사지구에 건설 중인 일산자이의 모델하우스 분위기도 미분양 해소와는 거리가 멀었다. 이곳 역시 언론에 의해 대표적인 양도세 완화 수혜단지로 꼽혔지만, 실제로는 양도세 완화 대상인 중소형 아파트가 많지 않다. 과밀억제권역에 포함되는 고양시에서는 공급면적이 149㎡(45평) 이내인 미분양과 신규 분양 아파트에 한해서 양도세가 50% 감면된다. 모두 4683세대(112~276㎡)인 일산 자이에서 149㎡ 이하인 아파트(주상 복합 제외)는 559세대에 불과하다. 일산자이 분양사무소 관계자는 \"전체의 20% 정도 미분양이 남았는데, 대부분 대형으로, 이번 조치로 직접적인 수혜는 없다\"면서도 \"대신 2·12 조치를 시작으로 앞으로 많은 규제가 풀릴 것으로 생각하는 투자자들이 움직이고 있다, 주말 동안 70여 세대가 계약됐다\"고 전했다. 하지만 이날 모델하우스에서 만난 사람들은 고분양가 탓에 선뜻 계약 결정을 하지 못했다. 일산 자이의 분양가는 3.3㎡당 1450만원대다. 현재 \\'계약금 3500만원\\', \\'중도금 무이자 융자\\', \\'에어컨 제외한 옵션 무상제공\\' 등을 내걸었지만, 아직 기대만큼 큰 반응은 없다. 모델하우스 방문객 이현진(가명·37)씨는 \"식사지구 맞은편에 2년 전 분양한 아파트의 분양가격은 3.3㎡당 800만원대였고, 지금은 900만원대\"라며 \"다들 (시세차익을) 노리고 투자하는 것이지만, 분양가가 비싼 건 사실\"이라고 말했다. \"양도세 완화 조치로 미분양 해소되지 않는다\" 모델하우스 앞 \\'떴다방(이동식 중개업소)\\'이나 인근 공인중개사무소에서는 \"미분양 해소 효과는 거의 없을 것\"이라고 전망했다. 한 공인중개사는 \"일산 자이에 관심 있는 중개업자는 많지 않다\"며 \"인근의 3.3㎡당 천만원인 아파트도 잘 거래가 안 되는데, 누가 평당 1400만원대 아파트를 사겠느냐\"고 반문했다. \\'떴다방\\' 업자 김미진(가명)씨는 \"(양도세 감면에) 해당하는 아파트도 많지 않을뿐더러, 시세차익을 기대하기 어려우니 양도세 감면 효과는 없고, 미분양 해소도 쉽지 않을 것\"이라고 말했다. 그의 말이다. \"2·12 이전 계약자는 그 이후 계약자보다 손해를 본다고 생각하기 때문에 프리미엄을 받지 않고 팔 것이다. 집값이 언제 오를지 모르는 상황에서 시세차익을 기대하기보다는 싼 기존 분양권을 사는 사람이 많아진다. 누가 미분양을 사겠느냐. 미분양은 해소되지 않는다.\"'"
      ]
     },
     "execution_count": 20,
     "metadata": {},
     "output_type": "execute_result"
    }
   ],
   "source": [
    "test_df.loc[1406].text"
   ]
  },
  {
   "cell_type": "code",
   "execution_count": 83,
   "id": "5f29f97a",
   "metadata": {},
   "outputs": [],
   "source": [
    "def predict_ad(text, model, tokenizer) :\n",
    "    encode_data = get_encode_data(tokenizer, [text], max_length=256)\n",
    "    output = model(encode_data[0], encode_data[1])\n",
    "    _, predicted = torch.max(output.logits, dim=1)\n",
    "    predicted = predicted.item()\n",
    "    \n",
    "    if predicted : \n",
    "        return True\n",
    "    else :\n",
    "        return False"
   ]
  },
  {
   "cell_type": "code",
   "execution_count": 169,
   "id": "61db3b70",
   "metadata": {},
   "outputs": [
    {
     "data": {
      "text/plain": [
       "True"
      ]
     },
     "execution_count": 169,
     "metadata": {},
     "output_type": "execute_result"
    }
   ],
   "source": [
    "predict_ad(test_df.text[282643], model, tokenizer)"
   ]
  },
  {
   "cell_type": "code",
   "execution_count": null,
   "id": "c2b13907",
   "metadata": {},
   "outputs": [],
   "source": []
  }
 ],
 "metadata": {
  "kernelspec": {
   "display_name": "Python 3 (ipykernel)",
   "language": "python",
   "name": "python3"
  },
  "language_info": {
   "codemirror_mode": {
    "name": "ipython",
    "version": 3
   },
   "file_extension": ".py",
   "mimetype": "text/x-python",
   "name": "python",
   "nbconvert_exporter": "python",
   "pygments_lexer": "ipython3",
   "version": "3.9.19"
  }
 },
 "nbformat": 4,
 "nbformat_minor": 5
}
