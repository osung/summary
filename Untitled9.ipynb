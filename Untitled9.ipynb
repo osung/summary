{
 "cells": [
  {
   "cell_type": "code",
   "execution_count": 14,
   "id": "9e9297e7",
   "metadata": {},
   "outputs": [],
   "source": [
    "import pandas as pd\n",
    "import numpy as np\n",
    "import math"
   ]
  },
  {
   "cell_type": "code",
   "execution_count": 2,
   "id": "fd678bb7",
   "metadata": {},
   "outputs": [
    {
     "name": "stderr",
     "output_type": "stream",
     "text": [
      "/tmp/ipykernel_2065895/4131282247.py:1: DtypeWarning: Columns (3) have mixed types. Specify dtype option on import or set low_memory=False.\n",
      "  df = pd.read_csv('/home/osung/data/korean/modu/json/news_PEST_train_ksic_score_clean.tsv', sep='\\t')\n"
     ]
    }
   ],
   "source": [
    "df = pd.read_csv('/home/osung/data/korean/modu/json/news_PEST_train_ksic_score_clean.tsv', sep='\\t')"
   ]
  },
  {
   "cell_type": "code",
   "execution_count": 3,
   "id": "b15ce1f4",
   "metadata": {},
   "outputs": [
    {
     "data": {
      "text/plain": [
       "1071036"
      ]
     },
     "execution_count": 3,
     "metadata": {},
     "output_type": "execute_result"
    }
   ],
   "source": [
    "len(df)"
   ]
  },
  {
   "cell_type": "code",
   "execution_count": 4,
   "id": "cbf63712",
   "metadata": {},
   "outputs": [
    {
     "data": {
      "text/plain": [
       "Index(['id', 'topic', 'text', 'ksic', 'max_scores'], dtype='object')"
      ]
     },
     "execution_count": 4,
     "metadata": {},
     "output_type": "execute_result"
    }
   ],
   "source": [
    "df.columns"
   ]
  },
  {
   "cell_type": "code",
   "execution_count": 5,
   "id": "e1042834",
   "metadata": {},
   "outputs": [
    {
     "data": {
      "text/plain": [
       "array(['c271', 'c333', 'c311', 'c103', 'c181', 'c301', 'c192', 'c151',\n",
       "       'c212', 'c141', 'c262', 'c319', 'c111', 'c172', 'c264', 'c139',\n",
       "       'c222', 'c303', 'c102', 'c201', 'c313', 'c241', 'c108', 'c221',\n",
       "       'c259', 'c273', 'c120', 'c182', 'c106', 'c213', 'c261', 'c332',\n",
       "       'c101', 'c191', 'c171', 'c285', 'c272', 'c134', 'c105', 'c203',\n",
       "       'c252', 'c211', 'c339', 'c334', 'c233', 'c144', 'c304', 'c152',\n",
       "       'c107', 'c163', 'c291', 'c312', 'c112', 'c282', 'c251', 'c179',\n",
       "       'c331', 'c162', 'c292', 'c204', 'c340', 'c265', 'c131', 'c202',\n",
       "       'c242', 'c263', 'c132', 'c232', 'c283', 'c231', 'c284', 'c239',\n",
       "       'c320', 'c266', 'c289', 'c161', 'c281', 'c143', 'c243', 'c104',\n",
       "       'c274', 'c302', 'c133', nan, 'c142'], dtype=object)"
      ]
     },
     "execution_count": 5,
     "metadata": {},
     "output_type": "execute_result"
    }
   ],
   "source": [
    "df['ksic'].unique()"
   ]
  },
  {
   "cell_type": "code",
   "execution_count": 31,
   "id": "7b54bef6",
   "metadata": {},
   "outputs": [
    {
     "data": {
      "text/plain": [
       "85"
      ]
     },
     "execution_count": 31,
     "metadata": {},
     "output_type": "execute_result"
    }
   ],
   "source": [
    "len(df['ksic'].unique())"
   ]
  },
  {
   "cell_type": "code",
   "execution_count": 20,
   "id": "3fb61d9f",
   "metadata": {},
   "outputs": [],
   "source": [
    "count_values = df['ksic'].value_counts()"
   ]
  },
  {
   "cell_type": "code",
   "execution_count": 21,
   "id": "b6b2656c",
   "metadata": {},
   "outputs": [
    {
     "data": {
      "text/plain": [
       "pandas.core.series.Series"
      ]
     },
     "execution_count": 21,
     "metadata": {},
     "output_type": "execute_result"
    }
   ],
   "source": [
    "type(count_values)"
   ]
  },
  {
   "cell_type": "code",
   "execution_count": 23,
   "id": "cf811a1a",
   "metadata": {},
   "outputs": [
    {
     "name": "stdout",
     "output_type": "stream",
     "text": [
      "c271    121503\n",
      "c264     78079\n",
      "c103     53454\n",
      "c262     53098\n",
      "c301     36383\n",
      "         ...  \n",
      "c302       306\n",
      "c243       215\n",
      "c274       103\n",
      "c133        58\n",
      "c142         9\n",
      "Name: ksic, Length: 84, dtype: int64\n"
     ]
    }
   ],
   "source": [
    "print(count_values)"
   ]
  },
  {
   "cell_type": "code",
   "execution_count": 28,
   "id": "f7d1ad23",
   "metadata": {},
   "outputs": [
    {
     "data": {
      "text/plain": [
       "c271    121503\n",
       "c264     78079\n",
       "c103     53454\n",
       "c262     53098\n",
       "c301     36383\n",
       "c311     32018\n",
       "c252     31181\n",
       "c233     30931\n",
       "c334     27738\n",
       "c192     25605\n",
       "c261     25495\n",
       "c272     24366\n",
       "c101     17533\n",
       "c285     17370\n",
       "c303     15933\n",
       "c241     14341\n",
       "c313     14269\n",
       "c102     13882\n",
       "c201     13318\n",
       "c203     12900\n",
       "c107     12892\n",
       "c181     10897\n",
       "c259      9161\n",
       "c106      8244\n",
       "c333      7847\n",
       "c265      7839\n",
       "c231      7453\n",
       "c273      7290\n",
       "c339      7252\n",
       "c282      7113\n",
       "Name: ksic, dtype: int64"
      ]
     },
     "execution_count": 28,
     "metadata": {},
     "output_type": "execute_result"
    }
   ],
   "source": [
    "count_values[:30]"
   ]
  },
  {
   "cell_type": "code",
   "execution_count": 29,
   "id": "6378df86",
   "metadata": {},
   "outputs": [
    {
     "data": {
      "text/plain": [
       "c212    6938\n",
       "c319    6927\n",
       "c172    6576\n",
       "c152    6386\n",
       "c111    6316\n",
       "c163    6134\n",
       "c211    5715\n",
       "c171    5270\n",
       "c204    5129\n",
       "c182    5028\n",
       "c161    3905\n",
       "c263    3822\n",
       "c340    3246\n",
       "c312    3203\n",
       "c221    3029\n",
       "c141    2920\n",
       "c139    2859\n",
       "c266    2825\n",
       "c251    2803\n",
       "c213    2765\n",
       "c112    2695\n",
       "c242    2682\n",
       "c105    2619\n",
       "c291    2553\n",
       "c222    2500\n",
       "c132    2339\n",
       "c179    2298\n",
       "c191    2198\n",
       "c162    2079\n",
       "c151    2009\n",
       "Name: ksic, dtype: int64"
      ]
     },
     "execution_count": 29,
     "metadata": {},
     "output_type": "execute_result"
    }
   ],
   "source": [
    "count_values[30:60]"
   ]
  },
  {
   "cell_type": "code",
   "execution_count": 30,
   "id": "b026aca4",
   "metadata": {},
   "outputs": [
    {
     "data": {
      "text/plain": [
       "c283    1782\n",
       "c120    1659\n",
       "c331    1592\n",
       "c202    1577\n",
       "c108    1528\n",
       "c284    1479\n",
       "c239    1243\n",
       "c332    1231\n",
       "c289    1086\n",
       "c292    1048\n",
       "c144    1027\n",
       "c104     895\n",
       "c320     876\n",
       "c232     620\n",
       "c281     571\n",
       "c131     542\n",
       "c143     523\n",
       "c134     508\n",
       "c304     387\n",
       "c302     306\n",
       "c243     215\n",
       "c274     103\n",
       "c133      58\n",
       "c142       9\n",
       "Name: ksic, dtype: int64"
      ]
     },
     "execution_count": 30,
     "metadata": {},
     "output_type": "execute_result"
    }
   ],
   "source": [
    "count_values[60:]"
   ]
  },
  {
   "cell_type": "code",
   "execution_count": null,
   "id": "997ce5a3",
   "metadata": {},
   "outputs": [],
   "source": []
  }
 ],
 "metadata": {
  "kernelspec": {
   "display_name": "Python 3 (ipykernel)",
   "language": "python",
   "name": "python3"
  },
  "language_info": {
   "codemirror_mode": {
    "name": "ipython",
    "version": 3
   },
   "file_extension": ".py",
   "mimetype": "text/x-python",
   "name": "python",
   "nbconvert_exporter": "python",
   "pygments_lexer": "ipython3",
   "version": "3.9.19"
  }
 },
 "nbformat": 4,
 "nbformat_minor": 5
}
