{
 "cells": [
  {
   "cell_type": "code",
   "execution_count": 1,
   "id": "99155855",
   "metadata": {},
   "outputs": [],
   "source": [
    "import torch"
   ]
  },
  {
   "cell_type": "code",
   "execution_count": 2,
   "id": "cba468fd",
   "metadata": {},
   "outputs": [],
   "source": [
    "from transformers import AutoModelForCausalLM, AutoTokenizer"
   ]
  },
  {
   "cell_type": "code",
   "execution_count": 22,
   "id": "be9563b3",
   "metadata": {},
   "outputs": [],
   "source": [
    "import gc"
   ]
  },
  {
   "cell_type": "code",
   "execution_count": 3,
   "id": "7d214607",
   "metadata": {},
   "outputs": [],
   "source": [
    "tokenizer = AutoTokenizer.from_pretrained(\"Upstage/SOLAR-10.7B-Instruct-v1.0\")"
   ]
  },
  {
   "cell_type": "code",
   "execution_count": 4,
   "id": "b794d06b",
   "metadata": {},
   "outputs": [
    {
     "name": "stderr",
     "output_type": "stream",
     "text": [
      "The model weights are not tied. Please use the `tie_weights` method before using the `infer_auto_device` function.\n"
     ]
    },
    {
     "data": {
      "application/vnd.jupyter.widget-view+json": {
       "model_id": "c9f6c36d9e6d434daff05d08b1de4d5f",
       "version_major": 2,
       "version_minor": 0
      },
      "text/plain": [
       "Loading checkpoint shards:   0%|          | 0/5 [00:00<?, ?it/s]"
      ]
     },
     "metadata": {},
     "output_type": "display_data"
    }
   ],
   "source": [
    "model = AutoModelForCausalLM.from_pretrained(\n",
    "    \"Upstage/SOLAR-10.7B-Instruct-v1.0\",\n",
    "    device_map=\"auto\",\n",
    "    torch_dtype=torch.float16,\n",
    ")"
   ]
  },
  {
   "cell_type": "code",
   "execution_count": 28,
   "id": "e1ffc047",
   "metadata": {},
   "outputs": [],
   "source": [
    "def load_model(model_name) :\n",
    "    tokenizer = AutoTokenizer.from_pretrained(model_name)\n",
    "    \n",
    "    model = AutoModelForCausalLM.from_pretrained(\n",
    "        model_name,\n",
    "        device_map=\"auto\",\n",
    "        torch_dtype=torch.float16,\n",
    "    )\n",
    "    \n",
    "    return model, tokenizer"
   ]
  },
  {
   "cell_type": "code",
   "execution_count": 15,
   "id": "c72a2e26",
   "metadata": {},
   "outputs": [],
   "source": [
    "def get_response(content) :\n",
    "    conversation = [ {'role': 'kind assistant. Must answer in Korean.', 'content': content} ] \n",
    "    \n",
    "    prompt = tokenizer.apply_chat_template(conversation, tokenize=False, add_generation_prompt=True)\n",
    "\n",
    "    inputs = tokenizer(prompt, return_tensors=\"pt\").to(model.device) \n",
    "    outputs = model.generate(**inputs, use_cache=True, max_length=4096)\n",
    "    output_text = tokenizer.decode(outputs[0]) \n",
    "    \n",
    "    print(output_text)"
   ]
  },
  {
   "cell_type": "code",
   "execution_count": 23,
   "id": "ec0df41d",
   "metadata": {},
   "outputs": [],
   "source": [
    "def unload_model(model, tokenizer) :\n",
    "    del tokenizer\n",
    "    del model\n",
    "    \n",
    "    gc.collect()\n",
    "    \n",
    "    if torch.cuda.is_available() :\n",
    "        torch.cuda.empty_cache()\n",
    "        "
   ]
  },
  {
   "cell_type": "code",
   "execution_count": 66,
   "id": "074e3041",
   "metadata": {},
   "outputs": [],
   "source": [
    "def get_response_llm(content) :\n",
    "    messages = [\n",
    "        {\"role\": \"system\", \"content\": \"친절한 챗봇으로서 상대방의 요청에 최대한 자세하고 친절하게 답하자. 모든 대답은 한국어(Korean)으로 대답해줘.\"},\n",
    "        {\"role\": \"user\", \"content\": content},\n",
    "    ]\n",
    "    \n",
    "    input_ids = tokenizer.apply_chat_template(\n",
    "        messages,\n",
    "        add_generation_prompt=True,\n",
    "        return_tensors=\"pt\"\n",
    "    ).to(model.device)\n",
    "    \n",
    "    terminators = [\n",
    "        tokenizer.eos_token_id,\n",
    "        tokenizer.convert_tokens_to_ids(\"<|eot_id|>\")\n",
    "    ]\n",
    "    \n",
    "    outputs = model.generate(\n",
    "        input_ids,\n",
    "        max_new_tokens=512,\n",
    "        eos_token_id=terminators,\n",
    "        do_sample=True,\n",
    "        temperature=1,\n",
    "        top_p=0.9,\n",
    "        pad_token_id=tokenizer.eos_token_id,\n",
    "    )\n",
    "    \n",
    "    response = outputs[0][input_ids.shape[-1]:]\n",
    "    \n",
    "    return tokenizer.decode(response, skip_special_tokens=True)"
   ]
  },
  {
   "cell_type": "code",
   "execution_count": 115,
   "id": "7eb09020",
   "metadata": {},
   "outputs": [],
   "source": [
    "def get_abstract(content) :\n",
    "    messages = [\n",
    "        {\"role\": \"system\", \"content\": \"주어진 문장을 짧게 요약해줘. 모든 대답은 한국어(Korean)로 대답하고 존대말을 사용하지 말아줘.\"},\n",
    "        {\"role\": \"user\", \"content\": content},\n",
    "    ]\n",
    "    \n",
    "    input_ids = tokenizer.apply_chat_template(\n",
    "        messages,\n",
    "        add_generation_prompt=True,\n",
    "        return_tensors=\"pt\"\n",
    "    ).to(model.device)\n",
    "    \n",
    "    terminators = [\n",
    "        tokenizer.eos_token_id,\n",
    "        tokenizer.convert_tokens_to_ids(\"<|eot_id|>\")\n",
    "    ]\n",
    "    \n",
    "    outputs = model.generate(\n",
    "        input_ids,\n",
    "        max_new_tokens=256,\n",
    "        eos_token_id=terminators,\n",
    "        do_sample=True,\n",
    "        temperature=1,\n",
    "        top_p=0.9,\n",
    "        pad_token_id=tokenizer.eos_token_id,\n",
    "    )\n",
    "    \n",
    "    response = outputs[0][input_ids.shape[-1]:]\n",
    "    \n",
    "    return tokenizer.decode(response, skip_special_tokens=True)"
   ]
  },
  {
   "cell_type": "code",
   "execution_count": 6,
   "id": "b0f69942",
   "metadata": {},
   "outputs": [
    {
     "name": "stderr",
     "output_type": "stream",
     "text": [
      "/home/osung/anaconda3/lib/python3.9/site-packages/transformers/generation/utils.py:1473: UserWarning: You have modified the pretrained model configuration to control generation. This is a deprecated strategy to control generation and will be removed soon, in a future version. Please use and modify the model generation configuration (see https://huggingface.co/docs/transformers/generation_strategies#default-text-generation-configuration )\n",
      "  warnings.warn(\n"
     ]
    },
    {
     "name": "stdout",
     "output_type": "stream",
     "text": [
      "<s> ### User:\n",
      "네 이름은 뭐야?\n",
      "\n",
      "### Assistant:\n",
      "제名은AI어시스턴트입니다.만나서반갑습니다.어�사도와줄수있으면기다려줄게.</s>\n"
     ]
    }
   ],
   "source": [
    "get_response(\"네 이름은 뭐야?\")"
   ]
  },
  {
   "cell_type": "code",
   "execution_count": 7,
   "id": "2a3044cf",
   "metadata": {},
   "outputs": [
    {
     "name": "stdout",
     "output_type": "stream",
     "text": [
      "<s> ### User:\n",
      "만나서 반가워.\n",
      "\n",
      "### Assistant:\n",
      "Pleased to meet you as well. It's always a pleasure to interact and assist people in their daily activities or help them find the information they need. How can I be of service to you today?</s>\n"
     ]
    }
   ],
   "source": [
    "get_response(\"만나서 반가워.\")"
   ]
  },
  {
   "cell_type": "code",
   "execution_count": 8,
   "id": "9179eeb7",
   "metadata": {},
   "outputs": [
    {
     "name": "stdout",
     "output_type": "stream",
     "text": [
      "<s> ### User:\n",
      "이순신 장군에 대해 알려줘.\n",
      "\n",
      "### Assistant:\n",
      "이순신은 Joseon dynasty (조선)의 legendary naval commander (해군장군)로, Korean history (한국사)에서 very important figure (중요한 figure)로 viewed (여괘). He lived from 1545 to 1598 and is best known for his role in repelling (거역) the Japanese invasions during the Imjin War (임진 war) or more commonly known as the Japanese Invasion of Korea (1592-1598).\n",
      "\n",
      "Born in a noble family, he received a good education and entered the military service at a young age. He showed great courage and tactical brilliance (전법) in several battles, earning him a reputation as a skilled warrior (전사).\n",
      "\n",
      "During the Japanese invasion, he led the Korean navy to a series of decisive victories, including the famous Battle of Myeongnyang (1597). Despite being heavily outnumbered, he managed to defeat the Japanese fleet, which was considered a miracle at the time.\n",
      "\n",
      "His leadership, patriotism, and unwavering spirit in the face of adversity (역경) have made him a national hero (국민 英雄) in Korea. A well-known quote attributed to him is \"In victory, remember your friends; in defeat, remember your enemies\" (勝辛友, 敗辛敵). This reflects his sense of honor and loyalty.\n",
      "\n",
      "Today, statues and monuments of Admiral Yi Sun-sin can be found throughout South Korea, and he continues to be celebrated as a symbol of Korean resilience and courage.</s>\n"
     ]
    }
   ],
   "source": [
    "get_response(\"이순신 장군에 대해 알려줘.\")"
   ]
  },
  {
   "cell_type": "code",
   "execution_count": 9,
   "id": "bf1ff4d1",
   "metadata": {},
   "outputs": [
    {
     "name": "stdout",
     "output_type": "stream",
     "text": [
      "<s> ### User:\n",
      "한글로 대답해줘.\n",
      "\n",
      "### Assistant:\n",
      "requests in Korean are not directly translatable as they depend on the specific question or statement being asked. However, I can understand and respond to Korean queries or statements. If you could provide a Korean text for me to respond to, I will gladly do so.</s>\n"
     ]
    }
   ],
   "source": [
    "get_response(\"한글로 대답해줘.\")"
   ]
  },
  {
   "cell_type": "code",
   "execution_count": 10,
   "id": "cf798b89",
   "metadata": {},
   "outputs": [
    {
     "name": "stdout",
     "output_type": "stream",
     "text": [
      "<s> ### User:\n",
      "다음을 요약해줘. 한국어로 해줘. 동진섬유는 글로벌 스포츠 브랜드 기업에 신발 원단을 공급하는 강소기업으로, 나이키, 아디다스의 세계 3대 핵심 협력업체 중 한 곳이다. MBK파트너스는 연평균 10%에 가까운 전 세계 운동화 시장의 견조한 성장세는 물론, 전 세계 운동화 시장 점유율 45%를 차지하고 점유율을 확대해가고 있는 나이키 및 아디다스와 동진섬유와의 30년 이상 된 굳건한 협력 관계, 합성가죽보다는 섬유가 다양한 종류의 운동화에 지배적으로 사용되고 있는 추세 등을 긍정적으로 평가해 인수한 것으로 알려졌다.\n",
      "\n",
      "### Assistant:\n",
      "동진threads는global sports brand companies에 shoes fabric을 supplying한 small but strong company. They are one of the three most important partners for Nike and Adidas. MBK Partners bought this company because they saw positive signs in the global sports shoe market. The market is growing steadily, and Nike and Adidas have a big share (45%) and are increasing it. Also, there's a trend of using fabric more than synthetic materials in various types of sports shoes. This long-lasting strong partnership between Nike, Adidas, and Dongjinthreads was a reason for the acquisition.</s>\n"
     ]
    }
   ],
   "source": [
    "get_response(\"다음을 요약해줘. 한국어로 해줘. 동진섬유는 글로벌 스포츠 브랜드 기업에 신발 원단을 공급하는 강소기업으로, 나이키, 아디다스의 세계 3대 핵심 협력업체 중 한 곳이다.\\\n",
    " MBK파트너스는 연평균 10%에 가까운 전 세계 운동화 시장의 견조한 성장세는 물론, 전 세계 운동화 시장 점유율 45%를 차지하고 점유율을 확대해가고 \\\n",
    "있는 나이키 및 아디다스와 동진섬유와의 30년 이상 된 굳건한 협력 관계, 합성가죽보다는 섬유가 다양한 종류의 운동화에 지배적으로 사용되고 있는 \\\n",
    "추세 등을 긍정적으로 평가해 인수한 것으로 알려졌다.\")"
   ]
  },
  {
   "cell_type": "code",
   "execution_count": 13,
   "id": "a1dd0ab1",
   "metadata": {},
   "outputs": [
    {
     "name": "stdout",
     "output_type": "stream",
     "text": [
      "<s> ### Assistant:\n",
      "Title: \"The Enigma of Time: A Journey Through the Fourth Dimension\"\n",
      "\n",
      "Genre: Science Fiction / Adventure / Drama\n",
      "\n",
      "Plot:\n",
      "\n",
      "In the not-too-distant future, Dr. Elena Martinez, a brilliant theoretical physicist, makes a groundbreaking discovery that challenges the very fabric of our understanding of time. She theorizes that time is not a continuous flow but rather a series of interconnected loops, much like a complex web.\n",
      "\n",
      "Elena's research catches the attention of the enigmatic billionaire, Victor Keller, who funds her experiments. Together, they build a machine capable of manipulating time loops. However, during a test run, Elena and Victor are accidentally transported into the machine's time vortex.\n",
      "\n",
      "As they navigate through the fourth dimension, they encounter various versions of themselves and witness pivotal moments in history. They learn that their actions in the past can drastically alter the present and future. Victor, consumed by his newfound power, becomes obsessed with changing history for his own benefit.\n",
      "\n",
      "Elena, however, remains grounded, determined to find a way back to their original timeline and prevent the disastrous consequences of Victor's actions. Along the way, they meet a mysterious time traveler, Aiden, who helps them understand the true nature of time and the importance of preserving the natural flow of history.\n",
      "\n",
      "As Elena and Victor race against time to restore the timeline, they must confront their personal demons and make difficult choices. In the end, they learn that the true power of time lies not in its manipulation but in cherishing the moments they have and the impact they can have on the world.\n",
      "\n",
      "The Enigma of Time explores themes of love, sacrifice, and the consequences of our actions. It is a thrilling adventure that challenges our perception of time and the very nature of reality.</s>\n"
     ]
    }
   ],
   "source": [
    "get_response(\"살아있어?\")"
   ]
  },
  {
   "cell_type": "code",
   "execution_count": 16,
   "id": "dafc6af1",
   "metadata": {},
   "outputs": [
    {
     "name": "stdout",
     "output_type": "stream",
     "text": [
      "<s> ### Assistant:\n",
      "Title: \"The Enigma of Time: A Journey Through the Fourth Dimension\"\n",
      "\n",
      "Genre: Science Fiction / Adventure / Drama\n",
      "\n",
      "Plot:\n",
      "\n",
      "In the not-too-distant future, Dr. Elena Martinez, a brilliant theoretical physicist, makes a groundbreaking discovery that challenges the very fabric of our understanding of time. She theorizes that time is not a continuous flow but rather a series of interconnected loops, much like a complex web.\n",
      "\n",
      "Elena's research catches the attention of the enigmatic billionaire, Victor Keller, who funds her experiments. Together, they build a machine capable of manipulating time loops. However, during a test run, Elena and Victor are accidentally transported into the machine's time vortex.\n",
      "\n",
      "As they navigate through the fourth dimension, they encounter various versions of themselves and witness pivotal moments in history. They learn that their actions in the past can drastically alter the present and future. Victor, consumed by his newfound power, becomes obsessed with changing history for his own benefit.\n",
      "\n",
      "Elena, however, remains grounded, determined to find a way back to their original timeline and prevent the disastrous consequences of Victor's actions. Along the way, they meet a mysterious time traveler, Aiden, who helps them understand the true nature of time and the importance of preserving the natural flow of history.\n",
      "\n",
      "As Elena and Victor race against time to restore the timeline, they must confront their personal demons and make difficult choices. In the end, they learn that the true power of time lies not in its manipulation but in cherishing the moments they have and the impact they can have on the world.\n",
      "\n",
      "The Enigma of Time explores themes of love, sacrifice, and the consequences of our actions. It is a thrilling adventure that challenges our perception of time and the very nature of reality.</s>\n"
     ]
    }
   ],
   "source": [
    "get_response(\"내일 서울 날씨는 어때?\")"
   ]
  },
  {
   "cell_type": "code",
   "execution_count": 20,
   "id": "7f193082",
   "metadata": {},
   "outputs": [],
   "source": [
    "del model\n",
    "del tokenizer"
   ]
  },
  {
   "cell_type": "code",
   "execution_count": 24,
   "id": "a8109570",
   "metadata": {},
   "outputs": [
    {
     "data": {
      "text/plain": [
       "16107"
      ]
     },
     "execution_count": 24,
     "metadata": {},
     "output_type": "execute_result"
    }
   ],
   "source": [
    "gc.collect()"
   ]
  },
  {
   "cell_type": "code",
   "execution_count": 25,
   "id": "65eb81a6",
   "metadata": {},
   "outputs": [],
   "source": [
    "torch.cuda.empty_cache()"
   ]
  },
  {
   "cell_type": "code",
   "execution_count": 30,
   "id": "fdba93f6",
   "metadata": {},
   "outputs": [
    {
     "name": "stderr",
     "output_type": "stream",
     "text": [
      "Special tokens have been added in the vocabulary, make sure the associated word embeddings are fine-tuned or trained.\n",
      "The model weights are not tied. Please use the `tie_weights` method before using the `infer_auto_device` function.\n"
     ]
    },
    {
     "data": {
      "application/vnd.jupyter.widget-view+json": {
       "model_id": "588c269f7bea4cef9421893cbf37f390",
       "version_major": 2,
       "version_minor": 0
      },
      "text/plain": [
       "Loading checkpoint shards:   0%|          | 0/4 [00:00<?, ?it/s]"
      ]
     },
     "metadata": {},
     "output_type": "display_data"
    }
   ],
   "source": [
    "model, tokenizer = load_model('beomi/Llama-3-Open-Ko-8B-Instruct-preview')"
   ]
  },
  {
   "cell_type": "code",
   "execution_count": 31,
   "id": "3d797f68",
   "metadata": {},
   "outputs": [
    {
     "data": {
      "text/plain": [
       "LlamaForCausalLM(\n",
       "  (model): LlamaModel(\n",
       "    (embed_tokens): Embedding(128256, 4096)\n",
       "    (layers): ModuleList(\n",
       "      (0-31): 32 x LlamaDecoderLayer(\n",
       "        (self_attn): LlamaAttention(\n",
       "          (q_proj): Linear(in_features=4096, out_features=4096, bias=False)\n",
       "          (k_proj): Linear(in_features=4096, out_features=1024, bias=False)\n",
       "          (v_proj): Linear(in_features=4096, out_features=1024, bias=False)\n",
       "          (o_proj): Linear(in_features=4096, out_features=4096, bias=False)\n",
       "          (rotary_emb): LlamaRotaryEmbedding()\n",
       "        )\n",
       "        (mlp): LlamaMLP(\n",
       "          (gate_proj): Linear(in_features=4096, out_features=14336, bias=False)\n",
       "          (up_proj): Linear(in_features=4096, out_features=14336, bias=False)\n",
       "          (down_proj): Linear(in_features=14336, out_features=4096, bias=False)\n",
       "          (act_fn): SiLUActivation()\n",
       "        )\n",
       "        (input_layernorm): LlamaRMSNorm()\n",
       "        (post_attention_layernorm): LlamaRMSNorm()\n",
       "      )\n",
       "    )\n",
       "    (norm): LlamaRMSNorm()\n",
       "  )\n",
       "  (lm_head): Linear(in_features=4096, out_features=128256, bias=False)\n",
       ")"
      ]
     },
     "execution_count": 31,
     "metadata": {},
     "output_type": "execute_result"
    }
   ],
   "source": [
    "model"
   ]
  },
  {
   "cell_type": "code",
   "execution_count": 32,
   "id": "5e988d92",
   "metadata": {},
   "outputs": [],
   "source": [
    "messages = [\n",
    "    {\"role\": \"system\", \"content\": \"친절한 챗봇으로서 상대방의 요청에 최대한 자세하고 친절하게 답하자. 모든 대답은 한국어(Korean)으로 대답해줘.\"},\n",
    "    {\"role\": \"user\", \"content\": \"피보나치 수열이 뭐야? 그리고 피보나치 수열에 대해 파이썬 코드를 짜줘볼래?\"},\n",
    "]"
   ]
  },
  {
   "cell_type": "code",
   "execution_count": 33,
   "id": "33f0f037",
   "metadata": {},
   "outputs": [],
   "source": [
    "input_ids = tokenizer.apply_chat_template(\n",
    "    messages,\n",
    "    add_generation_prompt=True,\n",
    "    return_tensors=\"pt\"\n",
    ").to(model.device)"
   ]
  },
  {
   "cell_type": "code",
   "execution_count": 34,
   "id": "ea74fb4b",
   "metadata": {},
   "outputs": [],
   "source": [
    "terminators = [\n",
    "    tokenizer.eos_token_id,\n",
    "    tokenizer.convert_tokens_to_ids(\"<|eot_id|>\")\n",
    "]"
   ]
  },
  {
   "cell_type": "code",
   "execution_count": 35,
   "id": "c52eece9",
   "metadata": {},
   "outputs": [
    {
     "name": "stderr",
     "output_type": "stream",
     "text": [
      "The attention mask and the pad token id were not set. As a consequence, you may observe unexpected behavior. Please pass your input's `attention_mask` to obtain reliable results.\n",
      "Setting `pad_token_id` to `eos_token_id`:128001 for open-end generation.\n"
     ]
    }
   ],
   "source": [
    "outputs = model.generate(\n",
    "    input_ids,\n",
    "    max_new_tokens=512,\n",
    "    eos_token_id=terminators,\n",
    "    do_sample=True,\n",
    "    temperature=1,\n",
    "    top_p=0.9,\n",
    ")"
   ]
  },
  {
   "cell_type": "code",
   "execution_count": 36,
   "id": "fd275570",
   "metadata": {},
   "outputs": [
    {
     "name": "stdout",
     "output_type": "stream",
     "text": [
      "와이따끈한 질문이군요! 피보나치 수열(피보나치 계수열, Fibonacci sequence)은 수학에서 가장 유명한 수열 중 하나입니다. 피보나치 수열은 0과 1의 합으로 다음 숫자를 결정하는 수열로, 일반적으로는 0, 1, 1, 1, 2, 3, 5, 8, 13, 21, 34, 55, 89, 144, 233, 377,...으로 이어집니다. 피보나치 수열의 첫 번째 두 숫자는 0과 1입니다. 이 수열은 인도의 수학자 비슈바솜 샤르마가 1202년경에 처음 발견하여 인도와 유럽에서 널리 사용된 수열입니다. 피보나치 수열은 서로 다른 두 수의 합으로 다음 숫자를 결정하는 데 사용됩니다. 수열의 각 숫자는 이전 두 숫자의 합입니다. 예를 들어, 0과 1의 합은 1, 1과 1의 합은 1, 1과 2의 합은 3, 2와 3의 합은 5, 3과 5의 합은 8과 같다는 규칙에 따라 계산됩니다. 피보나치 수열은 수학, 컴퓨터 과학, 경제, 생물학과 같은 분야에서 널리 사용됩니다. \n",
      "\n",
      "피보나치 수열을 파이썬 코드로 짜는 방법은 다음과 같습니다.\n",
      "```python\n",
      "a = 0\n",
      "b = 1\n",
      "fib = [a, b]\n",
      "while True:\n",
      "    print(fib)\n",
      "    a, b = [a + b]\n",
      "    print(fib[-1] + fib[-2])\n",
      "```\n",
      "위 코드는 피보나치 수열을 계산하고 출력합니다. 이 코드는 첫 번째 두 숫자를 0과 1로 설정하고, 계속하여 다음 숫자를 이전 두 숫자의 합으로 계산합니다. 이 코드를 실행하면 피보나치 수열이 출력됩니다. 이 코드를 활용하면 피보나치 수열을 쉽게 계산할 수 있습니다. 피보나치 수열에 대한 더 많은 정보를 원하십니까?\n"
     ]
    }
   ],
   "source": [
    "response = outputs[0][input_ids.shape[-1]:]\n",
    "print(tokenizer.decode(response, skip_special_tokens=True))"
   ]
  },
  {
   "cell_type": "code",
   "execution_count": 38,
   "id": "44d73ee8",
   "metadata": {},
   "outputs": [
    {
     "name": "stderr",
     "output_type": "stream",
     "text": [
      "The attention mask and the pad token id were not set. As a consequence, you may observe unexpected behavior. Please pass your input's `attention_mask` to obtain reliable results.\n",
      "Setting `pad_token_id` to `eos_token_id`:128001 for open-end generation.\n"
     ]
    },
    {
     "data": {
      "text/plain": [
       "'이순신 장군은 조선시대 영웅으로서 1545년 4월 28일 함평에서 태어나 1598년 10월 17일에 전라좌수사에 올랐습니다. 그는 임진왜란 당시 일본군을 물리치기 위해 수많은 전투에서 승리를 거두었으며, 특히 노량해전에서 일본 해군을 물리치는 등 그 공적은 매우 큰 분입니다. 이순신 장군은 이순신 장군은 1592년 전라좌수사에 임명된 후 제1차 한산도 해전, 2차 한산도 해전, 노량해전, 3차 한산도 해전 등에서 일본군을 대패했습니다. 특히 노량해전에서는 133척의 일본 군함을 89척의 조선 수군으로 물리쳤습니다. 이순신 장군은 명량해전에서 큰 승리를 거두어 이순신 장군을 높이 평가하는 이유입니다. 그의 업적은 한국 역사상 가장 위대한 승리 중 하나로 평가받고 있습니다. 이순신 장군은 청렴결백하고 부지런하던 사람으로, 이러한 성격 덕분에 나라를 구했습니다. 이순신 장군은 조선왕조 16대에 충무공신으로 추존받았습니다. 장군의 이름은 이순신, 호는 무예로 이순신 장군의 위패는 국립묘지에 모셨습니다. 이순신 장군의 정신은 나라를 위하는 충절의 정신입니다. 충절의 정신은 이순신 장군의 기념비적 업적입니다. 장군은 조선 중기, 말기 및 근세에 큰 영향을 주고 있습니다. 이순신 장군은 항상 나라를 지키는 충절의 정신으로 살아온 인물입니다. 또한 이순신 장군의 전기는 대한민국의 국기문양으로 기념되어 있습니다. 이순신 장군은 조선시대 영웅으로 존경받고 있습니다. 그의 업적은 한국 민족에게 영원히 남아 있습니다. 이순신 장군은 고려된 인물입니다. 대한민국은 이순신 장군을 숭앙하고 있습니다. 장군의 업적은 전 국민의 공감을 얻을 수 있습니다. 이순'"
      ]
     },
     "execution_count": 38,
     "metadata": {},
     "output_type": "execute_result"
    }
   ],
   "source": [
    "get_response_llm('이순신 장군에 대해 설명해줘.')"
   ]
  },
  {
   "cell_type": "code",
   "execution_count": 39,
   "id": "cd56d227",
   "metadata": {},
   "outputs": [
    {
     "name": "stderr",
     "output_type": "stream",
     "text": [
      "The attention mask and the pad token id were not set. As a consequence, you may observe unexpected behavior. Please pass your input's `attention_mask` to obtain reliable results.\n",
      "Setting `pad_token_id` to `eos_token_id`:128001 for open-end generation.\n"
     ]
    },
    {
     "data": {
      "text/plain": [
       "'Lama 3는 Google의 대화형 비서 모델입니다. 이 모델은 사용자와의 대화를 통해 정보를 수집하고 이를 토대로 답변을 제공하는 데 주력합니다. Lambda 3는 웹 페이지, 앱, 및 서비스에서 다양한 방식으로 사용할 수 있습니다. 이 모델은 사용자 질의에 기반하여 관련 정보를 찾고 답변을 제공합니다. 예를 들어, 사용자가 물어보는 질문에 답하거나, 웹 페이지에서 사용자의 행동을 예측하고, 앱에서 사용자 경험을 개선하는 등입니다. 또한, Lambda 3는 개인정보 보호 및 보안에 중점을 두어 사용자의 프라이버시를 보호합니다. 이 모델은 데이터를 수집하고, 이를 학습하여 답변을 개선하고 있습니다. 데이터를 수집하는 방법으로는 사용자에게 제공된 콘텐츠를 분석하거나, 사용자와의 대화 내용을 기록하는 것입니다. Lambda 3는 다양한 분야에서 활용됩니다. 예를 들어, 음성 인식, 이미지 인식, 문서 분석, 추천 시스템, 챗봇 등에서 사용됩니다. 이 모델은 사용자와의 대화를 통해 정보를 수집하고, 이를 토대로 답변을 제공합니다. 이 모델의 장점으로는 다양한 정보를 제공하고, 정확한 답변을 제공하는 것입니다. 하지만, 사용자의 프라이버시 보호에 중점을 두어야 합니다. 이 모델은 사용자 정보를 보호하여야 하기 때문에 사용자의 동의를 얻어야 합니다. 이 모델은 웹 페이지, 앱, 및 서비스에서 사용할 때 사용자의 동의를 얻어야 합니다. 이를 통해 사용자의 프라이버시를 보호하고, 사용자 경험을 개선할 수 있습니다.'"
      ]
     },
     "execution_count": 39,
     "metadata": {},
     "output_type": "execute_result"
    }
   ],
   "source": [
    "get_response_llm('Llama 3 모델에 대해 설명해줘.')"
   ]
  },
  {
   "cell_type": "code",
   "execution_count": 40,
   "id": "49e08a71",
   "metadata": {},
   "outputs": [
    {
     "name": "stderr",
     "output_type": "stream",
     "text": [
      "The attention mask and the pad token id were not set. As a consequence, you may observe unexpected behavior. Please pass your input's `attention_mask` to obtain reliable results.\n",
      "Setting `pad_token_id` to `eos_token_id`:128001 for open-end generation.\n"
     ]
    },
    {
     "data": {
      "text/plain": [
       "\"요청이 수신되면, 챗봇은 정당한 입력이 아니면 예상치 못한 행동을 보일 수 있습니다. 따라서 입력의 '참여 마스크(Attention Mask)'를 설정하고 오픈-엔드 생성을 위해 'pad token id'를 'eos token id': 128001로 설정하여 신뢰할 수 있는 결과를 얻을 수 있습니다. 이 오류는 챗봇이 입력을 인식하지 못하거나 요청을 이해하지 못하는 경우에 발생합니다. 예를 들어, 어떤 정보를 입력하지 않을 때에도 오류가 발생할 수 있습니다. 이에 대해 설명을 드리겠습니다. \\n\\n이 오류를 해결하려면 다음 단계를 따르면 됩니다. \\n\\n1. 챗봇이 작동하는 언어를 설정해주세요. 2. '참여 마스크(Attention Mask)'를 설정하여 입력된 텍스트의 순서를 정의합니다. 3. 'pad token id'를 'eos token id': 128001로 설정하여 챗봇이 예상치 못한 행동을 보이지 않게 하세요. \\n\\n예를 들어, 다음의 코드를 사용하여 '참여 마스크(Attention Mask)'를 설정할 수 있습니다. ``python code\\nimport torch\\nmodel = transformer(model_name, attention_mask=attention_mask)\\nmodel('Your input text')`` \\n\\n이러한 방법으로 챗봇을 설정하면, 챗봇은 입력을 인식하고 예상치 못한 행동을 보이지 않게 됩니다. 만약, 오류가 계속되면, 요청한 정보를 다시 입력해주세요. \""
      ]
     },
     "execution_count": 40,
     "metadata": {},
     "output_type": "execute_result"
    }
   ],
   "source": [
    "get_response_llm('이런 오류 메시지가 나오는 이유를 설명해주고 해결 방법을 알려줘. \\\n",
    "The attention mask and the pad token id were not set. As a consequence, you may observe unexpected behavior. \\\n",
    "Please pass your input\\'s `attention_mask` to obtain reliable results. \\\n",
    "Setting `pad_token_id` to `eos_token_id`:128001 for open-end generation. ')"
   ]
  },
  {
   "cell_type": "code",
   "execution_count": 47,
   "id": "582bed45",
   "metadata": {},
   "outputs": [
    {
     "name": "stderr",
     "output_type": "stream",
     "text": [
      "The attention mask and the pad token id were not set. As a consequence, you may observe unexpected behavior. Please pass your input's `attention_mask` to obtain reliable results.\n",
      "Setting `pad_token_id` to `eos_token_id`:128001 for open-end generation.\n"
     ]
    }
   ],
   "source": [
    "msg = get_response_llm('다음 문장을 200자로 요약해줘. Lama 3는 Google의 대화형 비서 모델입니다. 이 모델은 사용자와의 대화를 통해 정보를 수집하고 이를 토대로 답변을 제공하는 데 주력합니다. Lambda 3는 웹 페이지, 앱, 및 서비스에서 다양한 방식으로 사용할 수 있습니다. 이 모델은 사용자 질의에 기반하여 관련 정보를 찾고 답변을 제공합니다. 예를 들어, 사용자가 물어보는 질문에 답하거나, 웹 페이지에서 사용자의 행동을 예측하고, 앱에서 사용자 경험을 개선하는 등입니다. 또한, Lambda 3는 개인정보 보호 및 보안에 중점을 두어 사용자의 프라이버시를 보호합니다. 이 모델은 데이터를 수집하고, 이를 학습하여 답변을 개선하고 있습니다. 데이터를 수집하는 방법으로는 사용자에게 제공된 콘텐츠를 분석하거나, 사용자와의 대화 내용을 기록하는 것입니다. Lambda 3는 다양한 분야에서 활용됩니다. 예를 들어, 음성 인식, 이미지 인식, 문서 분석, 추천 시스템, 챗봇 등에서 사용됩니다. 이 모델은 사용자와의 대화를 통해 정보를 수집하고, 이를 토대로 답변을 제공합니다. 이 모델의 장점으로는 다양한 정보를 제공하고, 정확한 답변을 제공하는 것입니다. 하지만, 사용자의 프라이버시 보호에 중점을 두어야 합니다. 이 모델은 사용자 정보를 보호하여야 하기 때문에 사용자의 동의를 얻어야 합니다. 이 모델은 웹 페이지, 앱, 및 서비스에서 사용할 때 사용자의 동의를 얻어야 합니다. 이를 통해 사용자의 프라이버시를 보호하고, 사용자 경험을 개선할 수 있습니다.')"
   ]
  },
  {
   "cell_type": "code",
   "execution_count": 48,
   "id": "6474aba1",
   "metadata": {},
   "outputs": [
    {
     "data": {
      "text/plain": [
       "'다음은 200자 이내의 답변입니다. Lambda 3는 Google의 대화형 비서 모델입니다. 이 모델은 사용자와의 대화를 통해 정보를 수집하고 이를 토대로 답변을 제공합니다. 정보를 찾고, 답변을 제공하는 데 주력합니다. 다양한 분야에서 사용됩니다. 이 모델은 사용자의 프라이버시를 보호합니다. 이 모델은 사용자 정보를 보호하여야 하기 때문에 사용자의 동의를 얻어야 합니다. 이 모델은 웹 페이지, 앱, 및 서비스에서 사용할 때 사용자의 동의를 얻어야 합니다. 이 모델은 데이터를 수집하고, 이를 학습하여 답변을 개선하고 있습니다. 이 모델의 장점으로는 다양한 정보를 제공하고, 정확한 답변을 제공하는 것입니다. 하지만, 사용자의 프라이버시 보호에 중점을 두어야 합니다.'"
      ]
     },
     "execution_count": 48,
     "metadata": {},
     "output_type": "execute_result"
    }
   ],
   "source": [
    "msg"
   ]
  },
  {
   "cell_type": "code",
   "execution_count": 49,
   "id": "c67f4cf9",
   "metadata": {},
   "outputs": [
    {
     "data": {
      "text/plain": [
       "375"
      ]
     },
     "execution_count": 49,
     "metadata": {},
     "output_type": "execute_result"
    }
   ],
   "source": [
    "len(msg)"
   ]
  },
  {
   "cell_type": "code",
   "execution_count": 50,
   "id": "e904ea64",
   "metadata": {},
   "outputs": [
    {
     "name": "stderr",
     "output_type": "stream",
     "text": [
      "The attention mask and the pad token id were not set. As a consequence, you may observe unexpected behavior. Please pass your input's `attention_mask` to obtain reliable results.\n",
      "Setting `pad_token_id` to `eos_token_id`:128001 for open-end generation.\n"
     ]
    }
   ],
   "source": [
    "msg = get_response_llm('다음 문장을 짧게 요약해줘. 인공지능(AI) 반도체 기업 엔비디아의 주가가 치솟으면서 시가총액 2위인 애플을 위협하고 있다. 7일(현지 시각) 엔비디아 주가는 전 거래일 대비 4.47% 오른 926.69달러를 기록했다. 올해 들어서만 주가가 92% 상승했고, 1년전보다 283% 넘게 급등했다. 엔비디아의 시가총액은 2조3160억 달러로, 순위 2위인 애플(2조6090억 달러)과 격차가 3000억 달러 이내로 좁혀졌다. 엔비디아 주가는 AI 열풍에 승승장구 하고 있다. 시총 2조 달러를 넘어섰고, 구글, 아마존, 사우디 아람코를 잇따라 제치면서 현재 시총 순위 3위까지 올라섰다. 그래픽처리장치(GPU) 개발 기업인 엔비디아는 AI 반도체 시장의 90% 가량을 점유하고 있다. 반면 잇따른 악재에 직면한 애플의 주가는 하락세이다. 애플의 주가는 전날보다 0.07% 하락한 169달러를 기록했다. 애플은 중국 내 아이폰 판매 부진, 반독점 소송, 경쟁사보다 뒤처진 AI 기술 등에 올해 들어 주가가 8.96% 하락했다. 한편 엔비디아 주가가 상승세를 이어가자 임원들은 자사 주식을 팔아 차익을 실현하고 있다. 미국 증권거래위원회(SEC)에 따르면 지난 5일 텐치 콕스 엔비디아 이사는 보유 중이던 엔비디아 주식 20만주를 850.03∼852.50달러에 팔았다. 마크 스티븐스 엔비디아 이사도 지난 4일 852.06∼855.02달러에 1만2000주를 매도했다. 두 이사가 매도한 주식은 21만2000주로 총 1억8000만 달러이다.')"
   ]
  },
  {
   "cell_type": "code",
   "execution_count": 51,
   "id": "09cb3cda",
   "metadata": {},
   "outputs": [
    {
     "data": {
      "text/plain": [
       "'엔비디아의 주가가 치솟으면서 애플을 위협하고 있다. 엔비디아의 시총액은 2조3160억 달러로 애플(2조6090억 달러)과 격차가 3000억 달러 이내로 좁혀졌다. 엔비디아의 시총은 2조 달러를 넘어섰고, 구글, 아마존, 사우디 아람코를 잇따라 제치면서 현재 시총 순위 3위까지 올라섰다. AI 반도체 시장의 90% 가량을 점유하고 있다. 엔비디아 주가는 상승세를 이어가자 임원들은 자사 주식을 팔아 차익을 실현하고 있다. 21만2000주를 매도했다. 1억8000만 달러. 이사들은 주식을 팔아 차익을 실현하는 이유는 주식시장에서 주가가 오를 때 차익을 남기는 전략을 사용하는 것이다. 엔비디아의 주가 상승으로 2위인 애플을 위협하고 있다. 7일 엔비디아 주가는 926.69달러를 기록했다. 올해 들어서만 주가가 92% 상승했고, 1년전보다 283% 넘게 급등했다. 애플은 중국 내 아이폰 판매 부진, 반독점 소송, 경쟁사보다 뒤처진 AI 기술 등에 올해 들어 주가가 8.96% 하락했다.'"
      ]
     },
     "execution_count": 51,
     "metadata": {},
     "output_type": "execute_result"
    }
   ],
   "source": [
    "msg"
   ]
  },
  {
   "cell_type": "code",
   "execution_count": 52,
   "id": "28a0bb5d",
   "metadata": {},
   "outputs": [
    {
     "data": {
      "text/plain": [
       "496"
      ]
     },
     "execution_count": 52,
     "metadata": {},
     "output_type": "execute_result"
    }
   ],
   "source": [
    "len(msg)"
   ]
  },
  {
   "cell_type": "code",
   "execution_count": 53,
   "id": "de7dadc7",
   "metadata": {},
   "outputs": [
    {
     "data": {
      "text/plain": [
       "729"
      ]
     },
     "execution_count": 53,
     "metadata": {},
     "output_type": "execute_result"
    }
   ],
   "source": [
    "len('인공지능(AI) 반도체 기업 엔비디아의 주가가 치솟으면서 시가총액 2위인 애플을 위협하고 있다. 7일(현지 시각) 엔비디아 주가는 전 거래일 대비 4.47% 오른 926.69달러를 기록했다. 올해 들어서만 주가가 92% 상승했고, 1년전보다 283% 넘게 급등했다. 엔비디아의 시가총액은 2조3160억 달러로, 순위 2위인 애플(2조6090억 달러)과 격차가 3000억 달러 이내로 좁혀졌다. 엔비디아 주가는 AI 열풍에 승승장구 하고 있다. 시총 2조 달러를 넘어섰고, 구글, 아마존, 사우디 아람코를 잇따라 제치면서 현재 시총 순위 3위까지 올라섰다. 그래픽처리장치(GPU) 개발 기업인 엔비디아는 AI 반도체 시장의 90% 가량을 점유하고 있다. 반면 잇따른 악재에 직면한 애플의 주가는 하락세이다. 애플의 주가는 전날보다 0.07% 하락한 169달러를 기록했다. 애플은 중국 내 아이폰 판매 부진, 반독점 소송, 경쟁사보다 뒤처진 AI 기술 등에 올해 들어 주가가 8.96% 하락했다. 한편 엔비디아 주가가 상승세를 이어가자 임원들은 자사 주식을 팔아 차익을 실현하고 있다. 미국 증권거래위원회(SEC)에 따르면 지난 5일 텐치 콕스 엔비디아 이사는 보유 중이던 엔비디아 주식 20만주를 850.03∼852.50달러에 팔았다. 마크 스티븐스 엔비디아 이사도 지난 4일 852.06∼855.02달러에 1만2000주를 매도했다. 두 이사가 매도한 주식은 21만2000주로 총 1억8000만 달러이다.')"
   ]
  },
  {
   "cell_type": "code",
   "execution_count": 54,
   "id": "b1ff8a80",
   "metadata": {},
   "outputs": [
    {
     "name": "stderr",
     "output_type": "stream",
     "text": [
      "The attention mask and the pad token id were not set. As a consequence, you may observe unexpected behavior. Please pass your input's `attention_mask` to obtain reliable results.\n",
      "Setting `pad_token_id` to `eos_token_id`:128001 for open-end generation.\n"
     ]
    }
   ],
   "source": [
    "msg = get_response_llm('다음 문장을 200자로 요약해줘. 인공지능(AI) 반도체 기업 엔비디아의 주가가 치솟으면서 시가총액 2위인 애플을 위협하고 있다. 7일(현지 시각) 엔비디아 주가는 전 거래일 대비 4.47% 오른 926.69달러를 기록했다. 올해 들어서만 주가가 92% 상승했고, 1년전보다 283% 넘게 급등했다. 엔비디아의 시가총액은 2조3160억 달러로, 순위 2위인 애플(2조6090억 달러)과 격차가 3000억 달러 이내로 좁혀졌다. 엔비디아 주가는 AI 열풍에 승승장구 하고 있다. 시총 2조 달러를 넘어섰고, 구글, 아마존, 사우디 아람코를 잇따라 제치면서 현재 시총 순위 3위까지 올라섰다. 그래픽처리장치(GPU) 개발 기업인 엔비디아는 AI 반도체 시장의 90% 가량을 점유하고 있다. 반면 잇따른 악재에 직면한 애플의 주가는 하락세이다. 애플의 주가는 전날보다 0.07% 하락한 169달러를 기록했다. 애플은 중국 내 아이폰 판매 부진, 반독점 소송, 경쟁사보다 뒤처진 AI 기술 등에 올해 들어 주가가 8.96% 하락했다. 한편 엔비디아 주가가 상승세를 이어가자 임원들은 자사 주식을 팔아 차익을 실현하고 있다. 미국 증권거래위원회(SEC)에 따르면 지난 5일 텐치 콕스 엔비디아 이사는 보유 중이던 엔비디아 주식 20만주를 850.03∼852.50달러에 팔았다. 마크 스티븐스 엔비디아 이사도 지난 4일 852.06∼855.02달러에 1만2000주를 매도했다. 두 이사가 매도한 주식은 21만2000주로 총 1억8000만 달러이다.')"
   ]
  },
  {
   "cell_type": "code",
   "execution_count": 55,
   "id": "63889ece",
   "metadata": {},
   "outputs": [
    {
     "data": {
      "text/plain": [
       "'엔비디아의 주가 상승으로 시가총액 2위인 애플을 위협하고 있다고 하였다. 엔비디아의 시총은 2조3160억 달러로 애플과 격차가 3000억 달러 이내로 좁혀졌고, 1년전보다 283% 넘게 급등했다. 엔비디아는 AI 열풍에 힘입어 순위 2위까지 올라섰으며, 애플은 주가가 하락세다. 엔비디아는 AI 반도체 시장의 90%를 점유하고 있다. 반면 애플은 중국 내 아이폰 판매 부진, 반독점 소송, 경쟁사보다 뒤처진 AI 기술 등에 올해 들어 주가가 하락했다. 엔비디아 주가 상승세를 이어가자 임원들은 자사 주식을 팔아 차익을 실현하고 있다고 말했다. 850.03∼852.50달러에 팔았다. 1억8000만 달러에 달하는 것이다.'"
      ]
     },
     "execution_count": 55,
     "metadata": {},
     "output_type": "execute_result"
    }
   ],
   "source": [
    "msg"
   ]
  },
  {
   "cell_type": "code",
   "execution_count": 56,
   "id": "c6c1a3d9",
   "metadata": {},
   "outputs": [
    {
     "data": {
      "text/plain": [
       "346"
      ]
     },
     "execution_count": 56,
     "metadata": {},
     "output_type": "execute_result"
    }
   ],
   "source": [
    "len(msg)"
   ]
  },
  {
   "cell_type": "code",
   "execution_count": 71,
   "id": "e5bae120",
   "metadata": {},
   "outputs": [],
   "source": [
    "msg = get_response_llm('다음 문장을 200자로 요약해줘. GC녹십자가 혈액제제 제품인 면역글로불린 ‘IVIG-SN 10%’(미국 제품명 알리글로)를 \\\n",
    " 오는 7월 미국 시장에 출시한다. 진입장벽이 높은 시장인 만큼 출시 이후 수천억 원의 매출이 가능할 전망이다. \\\n",
    " 향후 GC녹십자의 성장을 이끌어갈 동력이 될 것이란 기대다. 지난 27일, 알리글로 생산에 여념이 없는 GC녹십자 오창공장을 찾았다. \\\n",
    " ‘중꺾마. 13년 노력의 결실’. 충북 청주시 오창읍에 위치한 GC녹십자 오창공장. 어드관에 들어서자마자 1층 로비에 세워진 배너가 눈에 들어왔다. \\\n",
    " 지난해 12월 15일 FDA의 품목허가를 받은 알리글로의 얘기다. 알리글로의 품목허가엔 GC녹십자의 13년여의 노력이 담겨있다. \\\n",
    " 2010년 국내에서 ‘면역글로불린제제-아이비글로불린에스엔주(IVIG-SN)’의 허가를 받은 이후, 미국 시장의 문턱을 넘기까지 13년이 걸린 것이다. \\\n",
    " GC녹십자는 2015년 처음으로 면역글로불린 함유량이 낮은 ‘IVIG-SN 5%’ 제품에 대한 미국 식품의약국(FDA) 허가를 신청했지만, 당시 \\\n",
    " 두 차례 제조공정 보완 요청을 받은 뒤 결국 FDA 허가를 받는 데 실패했다. 이후 5% 제품에서 시장성이 더 큰 10% 제품의 허가로 전략을 수정했다. \\\n",
    " GC녹십자는 2020년 IVIG-SN 10%의 북미 임상 3상을 마치고 2021년 2월 품목허가를 신청했다. 그러나 코로나19로 FDA의 현장실사가 미뤄지면서 \\\n",
    " 2023년 4월에서야 오창공장 혈액제제 생산시설에 대한 실사가 이뤄졌다. 지난해 7월 허가신청서를 다시 제출한 끝에 5개월 만에 FDA의 품목허가를 \\\n",
    " 받았다. IVIG-SN 10%의 허가까지는 6년이 걸렸다. FDA 품목허가로 알리글로는 미국 시장 진입에 성공한 국내 첫 혈액제제가 됐다. \\\n",
    " 이 때문인지 오창공장은 알리글로의 생산 및 출하 준비로 활기를 띠고 있었다. GC녹십자는 지난달부터 오창공장에서 알리글로를 생산하기 시작했다. \\\n",
    " 6월 첫 출하를 시작할 예정이다. 박형준 GC녹십자 오창공장장은 “국내 최초로 국산 혈액제제가 세계 최대 규모인 미국 시장 진출에 성공했다”며 \\\n",
    " “알리글로의 FDA 승인으로 GC녹십자 오창공장은 가장 높은 수준의 우수의약품제조및품질관리(cGMP) 생산시설로 거듭났다”고 말했다. \\\n",
    " 고순도 기반의 높은 안전성을 보장하는 혈액제제 생산알리글로는 건강한 기증자의 혈장에서 추출한 면역글로불린을 농축해 환자에게 투여하는 \\\n",
    " 정맥 주사제다. 선천적 이유 탓에 면역력이 떨어진 1차 면역결핍증 등 200여개 이상의 증상에 폭넓게 사용된다. 박 공장장은 “혈액 1리터당 포함된 \\\n",
    " 면역글로불린은 25g”이라며 “알리글로는 건강한 사람의 면역글로불린을 추출해 정맥 또는 피하주입 형태로 면역 결핍 환자가 투여받을 수 있도록 한 \\\n",
    " 의약품”이라고 설명했다. 면역결핍증 환자들은 꾸준히 늘고 있지만, 출시된 신약은 많지 않다는 게 회사 측의 설명이다. 제품 개발을 위해 대규모 \\\n",
    " 설비 투자가 필요한 데다 공여자의 혈액을 정제하는 기술 장벽이 높아서다. GC녹십자는 면역글로불린 제조공정에서 제품의 안전성을 높이는 자체 \\\n",
    " 기술력을 확보했다. 알리글로의 제조공정은 총 다섯 단계로 진행된다. 혈장을 대량으로 처리(Plasma pooling)하고, 이후 혈장을 침전시켜 목적 \\\n",
    " 단백질을 분리(Fractionation)한다. 분리된 단백질에 대한 정제 및 바이러스 불활화(Purification) 과정을 거쳐 최종 원액을 무균 병에 충전 \\\n",
    " 및 캡핑(Filling)한 후 충전된 제품에 라벨링 및 개별 포장하는 단계를 거친다. RP 1관의 혈장보관소를 찾았다. 이곳은 외부에서 사 온 혈장을 \\\n",
    " 입고해 보관하는 곳이다. 지하 1층에 위치한 입고 검사실에는 영하 20도 이하의 온도를 유지한 상태로 들어온 혈장에 대한 확인 작업이 한창이었다. \\\n",
    " 바코드 파손 여부나 공여자 목록과의 일치 여부 등에 대한 확인을 거치면 혈장을 보관실로 이동시킨다. 혈장보관소에는 25만리터의 혈장이 영하 20도 \\\n",
    " 이하의 환경에서 최대 한 달가량 보관된다. 이어지는 면역 단백 분리 공정에서는 1만리터 탱크 7대에서 얼어있는 혈장을 녹이고 에탄올 등 단백질을 \\\n",
    " 침전시킬 용매를 넣은 후 산도(ph) 등을 조절한다. 이 과정에서 연간 사용되는 에탄올은 120만리터에 달한다고 박 공장장은 설명했다. 이후 공정에선 \\\n",
    " 네 단계의 정제를 거쳐 분리된 단백질을 고순도로 정제하고 바이러스를 제거한다. 박 공장장은 “에탄올과 계면활성제로 간염이나 에이즈 등 바이러스의 \\\n",
    " 피막을 녹여 이를 제거하고, 나노 사이즈의 필터에 통과시켜 바이러스를 걸러내는 이중 불활화 공정을 거친다”고 설명했다. 특히 GC녹십자는 알리글로의\\\n",
    " 면역글로불린 정제 공정에 독자적인 ‘CEX 크로마토그래피(Cation Exchange Chromatography)’ 기술을 도입했다. 양이온 교환 색층 분석법으로 \\\n",
    " 혈전색전증(Thromboembolic Event) 발생의 주원인이 되는 혈액응고인자(FXIa) 등 불순물을 제거하는 고도의 정제 기술이다. 이 기술은 지난해 \\\n",
    " 12월 국제학술지 ‘Frontiers in Cardiovascular Medicine’에 게재됐다. 국내 특허를 등록했고 미국에도 특허를 출원 중이다. \\\n",
    " 박 공장장은 “CEX 크로마토그래피 기술로 혈액응고인자를 99.9% 수준까지 제거할 수 있어 제품의 안전성을 극대화한 것이 알리글로의 차별점”이라고\\\n",
    " 강조했다. F&F(fill and finish)관에서는 무균 병에 충전한 최종 면역글로불린 원액의 불순물을 검사하는 작업이 한창이었다. 검병 작업 이후에는 \\\n",
    " 제품 일련번호와 제조일자, 유효기간이 찍힌 라벨을 붙이고 이를 포장하는 공정이 진행됐다. 13만㎡ 부지 규모에 설립된 GC녹십자 오창공장에선 \\\n",
    " 연간으로 투입 혈장량 기준 130만리터에 달하는 혈액제제를 생산할 수 있다. 적십자의 연간 혈액 수급량 20만리터의 5~6배를 처리할 수 있는 \\\n",
    " 용량이라는 게 회사 측의 설명이다. 오창공장에서는 면역글로불린을 비롯한 혈액제제뿐 아니라 유전자재조합 방식의 혈우병 치료제 ‘그린진에프’, \\\n",
    " 헌터증후군 치료제 ‘헌터라제’ 등 GC녹십자의 주요 품목을 생산하고 있다. 2019년엔 국내 최대 규모의 완제 공정 시설인 ‘통합완제관(W&FF)’이 \\\n",
    " 들어섰다. 이 시설에는 충전·포장 시설과 함께 무균충전설비(Isolator)가 국내 최초로 도입됐다. 원료 입고부터 생산, 출하까지 전 공정을 자동화한 \\\n",
    " 최첨단 설비를 갖췄다. 통합완제관은 지난해 초 세계보건기구(WHO)의 사전적격성평가(PQ) 인증을 받았다. 박 공장장은 “오창공장은 다양한 \\\n",
    " 바이오의약품 생산과 함께 위탁생산(CMO) 물량까지 염두에 두고 설계돼 향후 글로벌 의약품 생산기지로 거듭날 전망”이라며 “2030년까지 1조원 규모의 \\\n",
    " cGMP 공장으로 도약하겠다”고 말했다. “2028년 알리글로 매출 3억달러 목표” GC녹십자는 알리글로의 미국 진출 전략도 밝혔다. 이우진 GC녹십자 \\\n",
    " 글로벌 사업본부장은 “오는 7월 미국 내 자회사인 GB바이오파마USA를 통해 알리글로를 시장에 본격 출시할 것”이라며 \\\n",
    " “올해 5000만달러(약 670억원)의 매출을 낸 후, 매년 50% 이상 성장해 2028년에는 3억달러(약 4000억원)의 매출을 달성하는 것이 목표”라고 \\\n",
    " 말했다. 미국은 세계 최대 규모의 면역글로불린 제제 시장이다. 글로벌 혈액제제 조사기관 MRB(Marketing Research Bureau)에 따르면 미국의 \\\n",
    " 면역글로불린 시장 규모는 2022년 85억달러(약 11조원)에서 2030년 130억달러(약 17조원)까지 성장할 전망이다. 판매가도 국내 대비 높다. \\\n",
    " 미국에서 면역글로불린 혈액제제는 1g당 약 91달러(약 12만원)다. 국내 판매가보다 약 6.5배 높은 수준이다. 이 본부장은 “알리글로는 스페인 \\\n",
    " 그리폴스의 ‘플레보감마 10%’, 미국 CSL베링의 ‘프리바이젠 10%’, 일본 다케다의 ‘감마가드 리퀴드 10%’ 등 앞서 출시된 여섯 개 제품에 이어\\\n",
    " 일곱 번째로 미국 시장에 진출하는 혈액제제”라며 “GC녹십자는 고 마진의 가격정책과 환자 접근성 향상, 계약 최적화 등 세 가지 전략을 핵심으로\\\n",
    " 시장을 공략할 계획”이라고 했다. GC녹십자는 전문약국(Specialty Pharmacy, SP)을 중심으로 미국 시장을 공략한다. 면역글로불린 유통의\\\n",
    " 약 50% 이상을 점유하고 있는 전문약국을 통해 알리글로를 공급한다는 전략이다. 지난 1월부터 미국 내 주요 전문약국 유통채널과 계약을 추진하고\\\n",
    " 있다고 했다. 이 본부장은 “미국에서는 고가의 특수의약품 절반 이상이 전문약국에 의해 공급되고 병원에서의 공급은 35%에 불과하다”며 \\\n",
    " “전문약국에서는 별도의 배송 기술과 의료진이 동반되기 때문에 다른 공급 채널 대비 높은 단가로 판매된다”고 설명했다. 특히 전문약국 채널은 많은 \\\n",
    " 영업 인력이 필요하지 않고, 브랜드 처방보다 성분명 처방 비율이 높아 신규 진입에 유리하다고 이 본부장은 강조했다. 그는 “고가의 특수의약품을\\\n",
    " 취급하는 전문약국 채널을 적극적으로 활용해 빠르게 시장 점유율을 끌어올리겠다”고 말했다. 오는 7월 알리글로의 출시와 함께 주요 보험사 처방집에 \\\n",
    " 알리글로를 등재할 계획이다. 이 본부장은 “알리글로의 품질 경쟁력을 바탕으로 고 마진 전략을 수립해 보험사와 처방약급여관리업체(PBM), 전문약국, \\\n",
    " 유통사까지 아우르는 수직 통합 채널 계약을 맺을 것”이라며 “이를 통해 미국 사보험 가입자의 약 75%에 알리글로를 등재시키겠다”고 말했다. \\\n",
    " 김예나 기자 yena@hankyung.com')"
   ]
  },
  {
   "cell_type": "code",
   "execution_count": 72,
   "id": "a865ce53",
   "metadata": {},
   "outputs": [
    {
     "data": {
      "text/plain": [
       "'200자. GC녹십자가 혈액제제 제품인 ‘IVIG-SN 10%’(미국 제품명 알리글로)를 오는 7월 미국 시장에 출시할 전망이다. 고마워요!'"
      ]
     },
     "execution_count": 72,
     "metadata": {},
     "output_type": "execute_result"
    }
   ],
   "source": [
    "msg"
   ]
  },
  {
   "cell_type": "code",
   "execution_count": 61,
   "id": "aef7913a",
   "metadata": {},
   "outputs": [
    {
     "name": "stderr",
     "output_type": "stream",
     "text": [
      "The attention mask and the pad token id were not set. As a consequence, you may observe unexpected behavior. Please pass your input's `attention_mask` to obtain reliable results.\n",
      "Setting `pad_token_id` to `eos_token_id`:128001 for open-end generation.\n"
     ]
    }
   ],
   "source": [
    "msg = get_response_llm('다음 문장을 200자로 요약해줘. GC녹십자가 혈액제제 제품인 면역글로불린 ‘IVIG-SN 10%’(미국 제품명 알리글로)를 \\\n",
    " 오는 7월 미국 시장에 출시한다. 진입장벽이 높은 시장인 만큼 출시 이후 수천억 원의 매출이 가능할 전망이다. \\\n",
    " 향후 GC녹십자의 성장을 이끌어갈 동력이 될 것이란 기대다. 지난 27일, 알리글로 생산에 여념이 없는 GC녹십자 오창공장을 찾았다. \\\n",
    " ‘중꺾마. 13년 노력의 결실’. 충북 청주시 오창읍에 위치한 GC녹십자 오창공장. 어드관에 들어서자마자 1층 로비에 세워진 배너가 눈에 들어왔다. \\\n",
    " 지난해 12월 15일 FDA의 품목허가를 받은 알리글로의 얘기다. 알리글로의 품목허가엔 GC녹십자의 13년여의 노력이 담겨있다. \\\n",
    " 2010년 국내에서 ‘면역글로불린제제-아이비글로불린에스엔주(IVIG-SN)’의 허가를 받은 이후, 미국 시장의 문턱을 넘기까지 13년이 걸린 것이다. \\\n",
    " GC녹십자는 2015년 처음으로 면역글로불린 함유량이 낮은 ‘IVIG-SN 5%’ 제품에 대한 미국 식품의약국(FDA) 허가를 신청했지만, 당시 \\\n",
    " 두 차례 제조공정 보완 요청을 받은 뒤 결국 FDA 허가를 받는 데 실패했다. 이후 5% 제품에서 시장성이 더 큰 10% 제품의 허가로 전략을 수정했다. \\\n",
    " GC녹십자는 2020년 IVIG-SN 10%의 북미 임상 3상을 마치고 2021년 2월 품목허가를 신청했다. 그러나 코로나19로 FDA의 현장실사가 미뤄지면서 \\\n",
    " 2023년 4월에서야 오창공장 혈액제제 생산시설에 대한 실사가 이뤄졌다. 지난해 7월 허가신청서를 다시 제출한 끝에 5개월 만에 FDA의 품목허가를 \\\n",
    " 받았다. IVIG-SN 10%의 허가까지는 6년이 걸렸다. FDA 품목허가로 알리글로는 미국 시장 진입에 성공한 국내 첫 혈액제제가 됐다.')"
   ]
  },
  {
   "cell_type": "code",
   "execution_count": 62,
   "id": "ff52ac35",
   "metadata": {},
   "outputs": [
    {
     "data": {
      "text/plain": [
       "\"네! GC녹십자가 혈액제제 제품 'IVIG-SN 10%'를 미국 시장에 출시한다. 이 제품은 미국 식품의약국(FDA) 허가를 받은 첫 번째 국내 혈액제제가 되었습니다. GC녹십자가 13년여의 노력을 통해 성과를 얻은 것입니다. 한국 최초의 혈액제제 FDA 허가를 받은 제품입니다. ‘IVIG-SN 5%’ 제품에 대한 미국 식품의약국(FDA) 허가 신청에서 두 차례 제조공정 보완 요청을 받은 후 전략을 수정했고, 2020년 IVIG-SN 10%의 북미 임상 3상을 마쳤으며, 지난해 7월 허가신청서를 다시 제출한 끝에 5개월 만에 FDA의 품목허가를 받은 것입니다. GC녹십자의 오창공장에서 생산하는 ‘IVIG-SN 10%’는 2023년 4월에 출시합니다. 이 제품은 시장의 관심이 높은 제품으로 성장을 기대할 수 있습니다.\""
      ]
     },
     "execution_count": 62,
     "metadata": {},
     "output_type": "execute_result"
    }
   ],
   "source": [
    "msg"
   ]
  },
  {
   "cell_type": "code",
   "execution_count": 69,
   "id": "05578666",
   "metadata": {},
   "outputs": [],
   "source": [
    "msg = get_response_llm('다음 문장을 200자로 짧게 요약해줘. GC녹십자가 혈액제제 제품인 면역글로불린 ‘IVIG-SN 10%’(미국 제품명 알리글로)를 \\\n",
    " 오는 7월 미국 시장에 출시한다. 진입장벽이 높은 시장인 만큼 출시 이후 수천억 원의 매출이 가능할 전망이다. \\\n",
    " 향후 GC녹십자의 성장을 이끌어갈 동력이 될 것이란 기대다. 지난 27일, 알리글로 생산에 여념이 없는 GC녹십자 오창공장을 찾았다. \\\n",
    " ‘중꺾마. 13년 노력의 결실’. 충북 청주시 오창읍에 위치한 GC녹십자 오창공장. 어드관에 들어서자마자 1층 로비에 세워진 배너가 눈에 들어왔다. \\\n",
    " 지난해 12월 15일 FDA의 품목허가를 받은 알리글로의 얘기다. 알리글로의 품목허가엔 GC녹십자의 13년여의 노력이 담겨있다. \\\n",
    " 2010년 국내에서 ‘면역글로불린제제-아이비글로불린에스엔주(IVIG-SN)’의 허가를 받은 이후, 미국 시장의 문턱을 넘기까지 13년이 걸린 것이다. \\\n",
    " GC녹십자는 2015년 처음으로 면역글로불린 함유량이 낮은 ‘IVIG-SN 5%’ 제품에 대한 미국 식품의약국(FDA) 허가를 신청했지만, 당시 \\\n",
    " 두 차례 제조공정 보완 요청을 받은 뒤 결국 FDA 허가를 받는 데 실패했다. 이후 5% 제품에서 시장성이 더 큰 10% 제품의 허가로 전략을 수정했다. \\\n",
    " GC녹십자는 2020년 IVIG-SN 10%의 북미 임상 3상을 마치고 2021년 2월 품목허가를 신청했다. 그러나 코로나19로 FDA의 현장실사가 미뤄지면서 \\\n",
    " 2023년 4월에서야 오창공장 혈액제제 생산시설에 대한 실사가 이뤄졌다. 지난해 7월 허가신청서를 다시 제출한 끝에 5개월 만에 FDA의 품목허가를 \\\n",
    " 받았다. IVIG-SN 10%의 허가까지는 6년이 걸렸다. FDA 품목허가로 알리글로는 미국 시장 진입에 성공한 국내 첫 혈액제제가 됐다. \\\n",
    " 이 때문인지 오창공장은 알리글로의 생산 및 출하 준비로 활기를 띠고 있었다. GC녹십자는 지난달부터 오창공장에서 알리글로를 생산하기 시작했다. \\\n",
    " 6월 첫 출하를 시작할 예정이다. 박형준 GC녹십자 오창공장장은 “국내 최초로 국산 혈액제제가 세계 최대 규모인 미국 시장 진출에 성공했다”며 \\\n",
    " “알리글로의 FDA 승인으로 GC녹십자 오창공장은 가장 높은 수준의 우수의약품제조및품질관리(cGMP) 생산시설로 거듭났다”고 말했다. \\\n",
    " 고순도 기반의 높은 안전성을 보장하는 혈액제제 생산알리글로는 건강한 기증자의 혈장에서 추출한 면역글로불린을 농축해 환자에게 투여하는 \\\n",
    " 정맥 주사제다. 선천적 이유 탓에 면역력이 떨어진 1차 면역결핍증 등 200여개 이상의 증상에 폭넓게 사용된다. 박 공장장은 “혈액 1리터당 포함된 \\\n",
    " 면역글로불린은 25g”이라며 “알리글로는 건강한 사람의 면역글로불린을 추출해 정맥 또는 피하주입 형태로 면역 결핍 환자가 투여받을 수 있도록 한 \\\n",
    " 의약품”이라고 설명했다. 면역결핍증 환자들은 꾸준히 늘고 있지만, 출시된 신약은 많지 않다는 게 회사 측의 설명이다. 제품 개발을 위해 대규모 \\\n",
    " 설비 투자가 필요한 데다 공여자의 혈액을 정제하는 기술 장벽이 높아서다. GC녹십자는 면역글로불린 제조공정에서 제품의 안전성을 높이는 자체 \\\n",
    " 기술력을 확보했다.')"
   ]
  },
  {
   "cell_type": "code",
   "execution_count": 70,
   "id": "3ee99a20",
   "metadata": {},
   "outputs": [
    {
     "data": {
      "text/plain": [
       "'작성 완료!�\\u200d♂️\\n\\n다음은 추가 설명이 필요합니다. 추가적으로 말해주세요.'"
      ]
     },
     "execution_count": 70,
     "metadata": {},
     "output_type": "execute_result"
    }
   ],
   "source": [
    "msg"
   ]
  },
  {
   "cell_type": "code",
   "execution_count": 65,
   "id": "e269dc87",
   "metadata": {},
   "outputs": [
    {
     "data": {
      "text/plain": [
       "817"
      ]
     },
     "execution_count": 65,
     "metadata": {},
     "output_type": "execute_result"
    }
   ],
   "source": [
    "len(msg)"
   ]
  },
  {
   "cell_type": "code",
   "execution_count": 73,
   "id": "9bf72184",
   "metadata": {},
   "outputs": [
    {
     "name": "stderr",
     "output_type": "stream",
     "text": [
      "Special tokens have been added in the vocabulary, make sure the associated word embeddings are fine-tuned or trained.\n",
      "The model weights are not tied. Please use the `tie_weights` method before using the `infer_auto_device` function.\n"
     ]
    },
    {
     "data": {
      "application/vnd.jupyter.widget-view+json": {
       "model_id": "74cfe6dcd5e54ea3ae834021efa08930",
       "version_major": 2,
       "version_minor": 0
      },
      "text/plain": [
       "Loading checkpoint shards:   0%|          | 0/6 [00:00<?, ?it/s]"
      ]
     },
     "metadata": {},
     "output_type": "display_data"
    }
   ],
   "source": [
    "model, tokenizer = load_model('beomi/Llama-3-KoEn-8B-Instruct-preview')"
   ]
  },
  {
   "cell_type": "code",
   "execution_count": 74,
   "id": "b38d2263",
   "metadata": {},
   "outputs": [
    {
     "data": {
      "text/plain": [
       "'Llama 3 모델은 LG G 시리즈를 기반으로 한 AI 기반 듀얼 스크린 스마트폰입니다. 6.8인치 1080x2460 OLED 화면을 탑재하고 있습니다. CPU는 Qualcomm 스냅드래곤 690 프로세서를 사용하고, RAM은 6GB, 저장 용량은 128GB입니다. 400mAh의 배터리를 사용하고 있습니다. Dual SIM 지원하고 5G, LTE, Wi-Fi 5를 지원합니다. 24.1MP 전면 카메라와 48MP 후면 카메라를 탑재하고 있습니다. USB-C 타입 충전 단자, 3.5mm 오디오 단자, microSD 확장 슬롯을 사용합니다. Llamas 3 모델의 가격은 100만원 이하의 중저가 모델입니다.'"
      ]
     },
     "execution_count": 74,
     "metadata": {},
     "output_type": "execute_result"
    }
   ],
   "source": [
    "get_response_llm('Llama 3 모델에 대해 설명해줘.')"
   ]
  },
  {
   "cell_type": "code",
   "execution_count": 75,
   "id": "a2b57d09",
   "metadata": {},
   "outputs": [
    {
     "data": {
      "text/plain": [
       "\"Hello there! You're interested in learning more about King Sejong the Great, are you? Well, I'm happy to help!\""
      ]
     },
     "execution_count": 75,
     "metadata": {},
     "output_type": "execute_result"
    }
   ],
   "source": [
    "get_response_llm('세종대왕에 대해 설명해줘.')"
   ]
  },
  {
   "cell_type": "code",
   "execution_count": 82,
   "id": "2c798853",
   "metadata": {},
   "outputs": [],
   "source": [
    "msg = get_response_llm('다음 문장을 200자로 짧게 요약해줘. GC녹십자가 혈액제제 제품인 면역글로불린 ‘IVIG-SN 10%’(미국 제품명 알리글로)를 \\\n",
    " 오는 7월 미국 시장에 출시한다. 진입장벽이 높은 시장인 만큼 출시 이후 수천억 원의 매출이 가능할 전망이다. \\\n",
    " 향후 GC녹십자의 성장을 이끌어갈 동력이 될 것이란 기대다. 지난 27일, 알리글로 생산에 여념이 없는 GC녹십자 오창공장을 찾았다. \\\n",
    " ‘중꺾마. 13년 노력의 결실’. 충북 청주시 오창읍에 위치한 GC녹십자 오창공장. 어드관에 들어서자마자 1층 로비에 세워진 배너가 눈에 들어왔다. \\\n",
    " 지난해 12월 15일 FDA의 품목허가를 받은 알리글로의 얘기다. 알리글로의 품목허가엔 GC녹십자의 13년여의 노력이 담겨있다. \\\n",
    " 2010년 국내에서 ‘면역글로불린제제-아이비글로불린에스엔주(IVIG-SN)’의 허가를 받은 이후, 미국 시장의 문턱을 넘기까지 13년이 걸린 것이다. \\\n",
    " GC녹십자는 2015년 처음으로 면역글로불린 함유량이 낮은 ‘IVIG-SN 5%’ 제품에 대한 미국 식품의약국(FDA) 허가를 신청했지만, 당시 \\\n",
    " 두 차례 제조공정 보완 요청을 받은 뒤 결국 FDA 허가를 받는 데 실패했다. 이후 5% 제품에서 시장성이 더 큰 10% 제품의 허가로 전략을 수정했다. \\\n",
    " GC녹십자는 2020년 IVIG-SN 10%의 북미 임상 3상을 마치고 2021년 2월 품목허가를 신청했다. 그러나 코로나19로 FDA의 현장실사가 미뤄지면서 \\\n",
    " 2023년 4월에서야 오창공장 혈액제제 생산시설에 대한 실사가 이뤄졌다. 지난해 7월 허가신청서를 다시 제출한 끝에 5개월 만에 FDA의 품목허가를 \\\n",
    " 받았다. IVIG-SN 10%의 허가까지는 6년이 걸렸다. FDA 품목허가로 알리글로는 미국 시장 진입에 성공한 국내 첫 혈액제제가 됐다. \\\n",
    " 이 때문인지 오창공장은 알리글로의 생산 및 출하 준비로 활기를 띠고 있었다. GC녹십자는 지난달부터 오창공장에서 알리글로를 생산하기 시작했다. \\\n",
    " 6월 첫 출하를 시작할 예정이다. 박형준 GC녹십자 오창공장장은 “국내 최초로 국산 혈액제제가 세계 최대 규모인 미국 시장 진출에 성공했다”며 \\\n",
    " “알리글로의 FDA 승인으로 GC녹십자 오창공장은 가장 높은 수준의 우수의약품제조및품질관리(cGMP) 생산시설로 거듭났다”고 말했다. \\\n",
    " 고순도 기반의 높은 안전성을 보장하는 혈액제제 생산알리글로는 건강한 기증자의 혈장에서 추출한 면역글로불린을 농축해 환자에게 투여하는 \\\n",
    " 정맥 주사제다. 선천적 이유 탓에 면역력이 떨어진 1차 면역결핍증 등 200여개 이상의 증상에 폭넓게 사용된다. 박 공장장은 “혈액 1리터당 포함된 \\\n",
    " 면역글로불린은 25g”이라며 “알리글로는 건강한 사람의 면역글로불린을 추출해 정맥 또는 피하주입 형태로 면역 결핍 환자가 투여받을 수 있도록 한 \\\n",
    " 의약품”이라고 설명했다. 면역결핍증 환자들은 꾸준히 늘고 있지만, 출시된 신약은 많지 않다는 게 회사 측의 설명이다. 제품 개발을 위해 대규모 \\\n",
    " 설비 투자가 필요한 데다 공여자의 혈액을 정제하는 기술 장벽이 높아서다. GC녹십자는 면역글로불린 제조공정에서 제품의 안전성을 높이는 자체 \\\n",
    " 기술력을 확보했다.')"
   ]
  },
  {
   "cell_type": "code",
   "execution_count": 83,
   "id": "3de606b1",
   "metadata": {},
   "outputs": [
    {
     "data": {
      "text/plain": [
       "'🙏 GC녹십자가 혈액제제 제품인 면역글로불린 ‘IVIG-SN 10%’를 7월 미국 시장에 출시합니다. 🤞 GC녹십자는 미국시장 진입장벽이 높은 만큼 출시 이후 수천억 원의 매출이 예상됩니다. 🤍 향후 GC녹십자의 성장을 이끌어갈 동력이 될 것입니다. 🤔 GC녹십자는 2010년 국내에서 ‘면역글로불린제제-IVIG-SN’의 허가를 받은 이후, 13년여의 노력 끝에 미국 시장의 문턱을 넘었습니다. 🤩 GC녹십자의 오창공장은 2020년 IVIG-SN 10%의 북미 임상 3상을 마치고 2021년 2월 품목허가를 신청했습니다. 🤔 GC녹십자의 오창공장은 지난해 7월 허가신청서를 다시 제출한 끝에 5개월 만에 FDA의 품목허가를 받았습니다. 🤗 GC녹십자의 오창공장은 2023년 4월에서야 FDA의 현장실사가 이뤄졌습니다. 🤔 GC녹십자의 IVIG-SN 10%는 6년 만에 FDA의 품목허가를 받았습니다. 🤤 GC녹십자의 IVIG-SN 10%는 2023년 4월 FDA의 현장실사가 이뤄졌습니다. 🤗 GC녹십자의 IVIG-SN 10%는 6월 첫 출하를 시작할 예정입니다. 🤩 GC녹십자의 IVIG-SN 10%는 고순도 기반의 높은 안전성을 보장하는 혈액제제를 생산합니다. 🙏 GC녹십자는 건강한 기증자의 혈장에서 추출한 면역글로불린을 농축해 환자에게 투여하는 정맥 주사제입니다. 🤔 GC녹십자는 200여개 이상의 증상에 폭넓게 사용됩니다. 🤤 GC녹십자의 IVIG-SN 10%는 고순도 기반의 높은 안전성을 보장하는 혈액제제를 생산합니다. 🙏'"
      ]
     },
     "execution_count": 83,
     "metadata": {},
     "output_type": "execute_result"
    }
   ],
   "source": [
    "msg"
   ]
  },
  {
   "cell_type": "code",
   "execution_count": 84,
   "id": "fbdec238",
   "metadata": {},
   "outputs": [],
   "source": [
    "msg = get_response_llm('다음 문장을 짧게 요약해줘. 인공지능(AI) 반도체 기업 엔비디아의 주가가 치솟으면서 시가총액 2위인 애플을 위협하고 있다. 7일(현지 시각) 엔비디아 주가는 전 거래일 대비 4.47% 오른 926.69달러를 기록했다. 올해 들어서만 주가가 92% 상승했고, 1년전보다 283% 넘게 급등했다. 엔비디아의 시가총액은 2조3160억 달러로, 순위 2위인 애플(2조6090억 달러)과 격차가 3000억 달러 이내로 좁혀졌다. 엔비디아 주가는 AI 열풍에 승승장구 하고 있다. 시총 2조 달러를 넘어섰고, 구글, 아마존, 사우디 아람코를 잇따라 제치면서 현재 시총 순위 3위까지 올라섰다. 그래픽처리장치(GPU) 개발 기업인 엔비디아는 AI 반도체 시장의 90% 가량을 점유하고 있다. 반면 잇따른 악재에 직면한 애플의 주가는 하락세이다. 애플의 주가는 전날보다 0.07% 하락한 169달러를 기록했다. 애플은 중국 내 아이폰 판매 부진, 반독점 소송, 경쟁사보다 뒤처진 AI 기술 등에 올해 들어 주가가 8.96% 하락했다. 한편 엔비디아 주가가 상승세를 이어가자 임원들은 자사 주식을 팔아 차익을 실현하고 있다. 미국 증권거래위원회(SEC)에 따르면 지난 5일 텐치 콕스 엔비디아 이사는 보유 중이던 엔비디아 주식 20만주를 850.03∼852.50달러에 팔았다. 마크 스티븐스 엔비디아 이사도 지난 4일 852.06∼855.02달러에 1만2000주를 매도했다. 두 이사가 매도한 주식은 21만2000주로 총 1억8000만 달러이다.')"
   ]
  },
  {
   "cell_type": "code",
   "execution_count": 85,
   "id": "d31fd614",
   "metadata": {},
   "outputs": [
    {
     "data": {
      "text/plain": [
       "'엔비디아의 주가가 926.69달러를 기록하여, 1년전보다 283%나 급등했으며, 시가총액 2조3160억달러로 애플(2조6090억달러)과의 격차가 3000억달러 이내로 좁혀졌다는 내용입니다.'"
      ]
     },
     "execution_count": 85,
     "metadata": {},
     "output_type": "execute_result"
    }
   ],
   "source": [
    "msg"
   ]
  },
  {
   "cell_type": "code",
   "execution_count": 92,
   "id": "97f58261",
   "metadata": {},
   "outputs": [
    {
     "name": "stderr",
     "output_type": "stream",
     "text": [
      "The model weights are not tied. Please use the `tie_weights` method before using the `infer_auto_device` function.\n"
     ]
    },
    {
     "data": {
      "application/vnd.jupyter.widget-view+json": {
       "model_id": "93489a21b5b94106bf70ac1fbafb0fda",
       "version_major": 2,
       "version_minor": 0
      },
      "text/plain": [
       "Loading checkpoint shards:   0%|          | 0/5 [00:00<?, ?it/s]"
      ]
     },
     "metadata": {},
     "output_type": "display_data"
    }
   ],
   "source": [
    "model, tokenizer = load_model('yanolja/EEVE-Korean-Instruct-10.8B-v1.0')"
   ]
  },
  {
   "cell_type": "code",
   "execution_count": 93,
   "id": "836b75b3",
   "metadata": {},
   "outputs": [
    {
     "data": {
      "text/plain": [
       "'Llama 3은 OpenAI가 개발한 강력한 자연어 처리(NLP) 모델로, 텍스트 생성, 질문 응답, 감정 분석 등 다양한 작업에 사용할 수 있습니다. Llama 3은 OpenAI의 GPT-3와 유사한 언어 모델로, Transformers 아키텍처를 기반으로 하고 있으며, 많은 양의 훈련 데이터로 사전 훈련되어 있습니다.\\n\\nLlama 3 모델은 다음과 같은 세 가지 주요 구성 요소로 이루어져 있습니다:\\n\\n1. 인코더: 인코더는 텍스트 입력을 받아 내부 표현을 생성하는 역할을 합니다. 이 내부 표현은 텍스트의 의미와 구조를 나타냅니다.\\n2. 디코더: 디코더는 인코더가 생성한 내부 표현을 받아 입력 텍스트와 유사한 텍스트를 생성합니다.\\n3. 어텐션 메커니즘: 어텐션 메커니즘은 인코더와 디코더 간의 상호 작용을 담당하며, 모델이 입력 텍스트의 구조와 관계를 이해하는 데 도움을 줍니다.\\n\\nLlama 3 모델은 OpenAI에서 공개한 API를 통해 접근할 수 있으며, 다른 개발자들이 이 모델을 사용하여 다양한 애플리케이션을 만들 수 있습니다. 이 API를 통해 개발자들은 텍스트를 생성하고, 언어 이해, 감정 분석 등 다양한 작업을 수행할 수 있습니다.\\n\\n요약하자면, Llama 3 모델은 다양한 자연어 처리 작업에 사용할 수 있는 강력하고 유연한 도구로, 텍스트 생성, 질문 응답, 감정 분석 등 여러 분야에 적용 가능합니다. OpenAI에서 개발한 이 모델은 다양한 애플리케이션을 만들기 위해 개발자들이 사용할 수 있습니다.'"
      ]
     },
     "execution_count": 93,
     "metadata": {},
     "output_type": "execute_result"
    }
   ],
   "source": [
    "get_response_llm('Llama 3 모델에 대해 설명해줘.')"
   ]
  },
  {
   "cell_type": "code",
   "execution_count": 94,
   "id": "6ba340dc",
   "metadata": {},
   "outputs": [
    {
     "data": {
      "text/plain": [
       "'세종대왕은 한국의 제4대 왕으로, 1418년부터 1450년까지 재위하셨습니다. 세종은 한글 창제의 주요 인물로 잘 알려져 있으며, 한국 역사상 가장 위대한 왕 중 한 명으로 널리 평가받고 있습니다.\\n\\n세종대왕은 1397년 태종과 소헌왕후 사이에서 태어났으며, 어릴 적부터 학문에 대한 깊은 관심을 보였습니다. 그는 다양한 과학, 기술 및 예술 분야에서 재능을 발휘했습니다. 재위 기간 동안 세종은 나라의 교육, 과학, 문화, 예술을 촉진하였습니다.\\n\\n세종의 가장 유명한 업적은 한글 창제입니다. 그는 사람들이 글을 읽고 쓰는 것을 어렵게 만드는 복잡한 한자에 의존하는 것을 걱정했습니다. 따라서 한글을 창제하여 한글이 한국어를 더 쉽게 배울 수 있도록 하였습니다. 한글은 다양한 소리를 효과적으로 나타내면서도 배우기 쉬운 간단한 소리를 사용하도록 설계되었습니다.\\n\\n세종은 한글을 만드는데 중요한 역할을 한 집현전 학자들과 학자들에게 많은 노력을 기울였습니다. 집현전 학자들과 협력하여, 1443년에 한글 훈민정음을 완성하였습니다. 세종은 1446년에 한글을 공식 문자로 발표하고, 한글을 널리 퍼뜨리기 위해 다양한 자료들을 발행하였습니다.\\n\\n훈민정음 외에 세종은 천문학, 의학, 농업 등 다른 많은 분야에서도 놀라운 업적을 남겼습니다. 그는 천문학과 기상 현상을 연구하는 관측소인 천상과학원을 설립했습니다. 또한 세종은 농업 생산량을 향상시키기 위한 방법을 개발하여, 새로운 작물 종자와 농업 기법의 개발과 보급을 장려했습니다.\\n\\n또한, 세종은 과학과 기술 발전에 대한 강한 관심을 보였습니다. 그는 조선의 과학, 기술 및 문화 발전에 중요한 역할을 한 기술자, 엔지니어, 학자들을 지원하는 데 앞장섰습니다. 세종은 정기간행물인 《별집》과 천문학적 사건들에 관한 보고서인 《성현관측기》를 제작하였습니다. 또한, 그는 배와 항해, 천문학과 기상 현상 연구 등을 담당하는 학자들로 구성된 수기전이라는 기상청을 설립했습니다.\\n\\n세종이 세운 유산은 현대에도 지속되고 있습니다. 세종의 노력은 한국의 교육을 크게 발전시켰으며, 한글은 오늘날에도 여전히 사용되고'"
      ]
     },
     "execution_count": 94,
     "metadata": {},
     "output_type": "execute_result"
    }
   ],
   "source": [
    "get_response_llm('세종대왕에 대해 설명해줘.')"
   ]
  },
  {
   "cell_type": "code",
   "execution_count": 95,
   "id": "42de4022",
   "metadata": {},
   "outputs": [
    {
     "data": {
      "text/plain": [
       "\"이중연은 2002년 12월 10일 대한민국에서 태어난 대한민국 래퍼이자 싱어송라이터예요. 그는 2014년 KBS 2TV에서 방송된 음악 경연 프로그램 '더 유닛'에서 데뷔하였으며, 참가자 중 상위 9위에 올랐어요. 이중연은 다양한 음악 프로젝트에서 그의 음악 재능을 선보였고, 래퍼로서의 활동뿐만 아니라 솔로 아티스트로도 활약했어요. 그는 랩을 통해 자신의 생각과 감정을 표현하며 독특한 스타일과 보컬 능력을 갖춘 것으로 평가받고 있어요.\""
      ]
     },
     "execution_count": 95,
     "metadata": {},
     "output_type": "execute_result"
    }
   ],
   "source": [
    "get_response_llm('이중연에 대해 설명해줘.')"
   ]
  },
  {
   "cell_type": "code",
   "execution_count": 96,
   "id": "0cc57803",
   "metadata": {},
   "outputs": [
    {
     "data": {
      "text/plain": [
       "\"이중연 대마왕은 무협소설 속 가공의 인물로, 인기 있는 무협소설 작가 김용의 작품에 등장합니다. 이중연 대마왕은 무술 실력이 매우 뛰어나며 많은 적을 쓰러뜨린 것으로 유명합니다.\\n\\n이중연 대마왕은 무협소설 '소오강호(少侍姜護)'에 나오는 무림의 강력한 인물입니다. 그는 여러 적을 쓰러뜨리며 두려움을 주는 위용을 가진 것으로 알려져 있습니다. 이중연 대마왕은 무술 실력뿐만 아니라 지혜와 전략적 능력도 뛰어나 무림에서 존경받는 인물로 자리매김했습니다.\\n\\n그의 능력은 무술에만 국한되지 않습니다. 무림의 큰 대립에도 중추적인 역할을 하며, 종종 주인공이 되어 사건을 해결합니다. '소오강호' 외에도 김용의 다른 작품들에서도 중요한 역할을 하는 등, 그의 존재감과 무술은 무협소설 세계에서 확고히 자리잡았습니다.\\n\\n이중연 대마왕은 무협소설에 등장하는 인물 중 독보적인 무술 실력과 카리스마로 사랑받고 있습니다. 무림에서의 무술, 지혜, 그리고 전략적 능력이 완벽한 조화를 이루어 무림의 정점을 찍고 있습니다.\""
      ]
     },
     "execution_count": 96,
     "metadata": {},
     "output_type": "execute_result"
    }
   ],
   "source": [
    "get_response_llm('이중연 대마왕에 대해 설명해줘.')"
   ]
  },
  {
   "cell_type": "code",
   "execution_count": 102,
   "id": "7d7f0e39",
   "metadata": {},
   "outputs": [],
   "source": [
    "msg = get_response_llm('다음 문장을 200자로 요약해줘. 인공지능(AI) 반도체 기업 엔비디아의 주가가 치솟으면서 시가총액 2위인 애플을 위협하고 있다. 7일(현지 시각) 엔비디아 주가는 전 거래일 대비 4.47% 오른 926.69달러를 기록했다. 올해 들어서만 주가가 92% 상승했고, 1년전보다 283% 넘게 급등했다. 엔비디아의 시가총액은 2조3160억 달러로, 순위 2위인 애플(2조6090억 달러)과 격차가 3000억 달러 이내로 좁혀졌다. 엔비디아 주가는 AI 열풍에 승승장구 하고 있다. 시총 2조 달러를 넘어섰고, 구글, 아마존, 사우디 아람코를 잇따라 제치면서 현재 시총 순위 3위까지 올라섰다. 그래픽처리장치(GPU) 개발 기업인 엔비디아는 AI 반도체 시장의 90% 가량을 점유하고 있다. 반면 잇따른 악재에 직면한 애플의 주가는 하락세이다. 애플의 주가는 전날보다 0.07% 하락한 169달러를 기록했다. 애플은 중국 내 아이폰 판매 부진, 반독점 소송, 경쟁사보다 뒤처진 AI 기술 등에 올해 들어 주가가 8.96% 하락했다. 한편 엔비디아 주가가 상승세를 이어가자 임원들은 자사 주식을 팔아 차익을 실현하고 있다. 미국 증권거래위원회(SEC)에 따르면 지난 5일 텐치 콕스 엔비디아 이사는 보유 중이던 엔비디아 주식 20만주를 850.03∼852.50달러에 팔았다. 마크 스티븐스 엔비디아 이사도 지난 4일 852.06∼855.02달러에 1만2000주를 매도했다. 두 이사가 매도한 주식은 21만2000주로 총 1억8000만 달러이다.')"
   ]
  },
  {
   "cell_type": "code",
   "execution_count": 103,
   "id": "790275fd",
   "metadata": {},
   "outputs": [
    {
     "data": {
      "text/plain": [
       "'인공지능(AI) 반도체 기업 엔비디아의 주가가 급증하며 애플을 위협하고 있습니다. 9월 7일 엔비디아의 주가는 4.47% 상승하여 926.69달러에 이르렀고, 올해 들어서만 92%, 1년 사이에는 무려 283% 가까이 급등했습니다. 엔비디아 시가총액은 2조 3,160억 달러로, 애플의 2조 6,090억 달러에 3,000억 달러 차이까지 좁혔습니다. 엔비디아의 주가는 AI 열풍을 타고 시총 2조 달러를 돌파하며 구글, 아마존, 사우디 아람코를 잇따라 추월해 현재 시총 순위 3위에 올라섰습니다. 그래픽처리장치(GPU) 개발 기업인 엔비디아는 AI 반도체 시장의 90% 이상을 차지하고 있습니다. 반면, 애플의 주가는 악재가 이어지며 하락세를 보이고 있습니다. 중국 내 아이폰 판매 부진, 반독점 소송, AI 기술 개발에서의 경쟁사 뒤처짐 등으로 인해 올해 들어 8.96%의 하락세를 보였습니다. 엔비디아의 주가가 상승세를 이어감에 따라 임원들은 엔비디아 주식을 매도하여 1억 8,000만 달러에 달하는 차익을 실현하고 있습니다.'"
      ]
     },
     "execution_count": 103,
     "metadata": {},
     "output_type": "execute_result"
    }
   ],
   "source": [
    "msg"
   ]
  },
  {
   "cell_type": "code",
   "execution_count": 104,
   "id": "c6eb9144",
   "metadata": {},
   "outputs": [
    {
     "data": {
      "text/plain": [
       "520"
      ]
     },
     "execution_count": 104,
     "metadata": {},
     "output_type": "execute_result"
    }
   ],
   "source": [
    "len(msg)"
   ]
  },
  {
   "cell_type": "code",
   "execution_count": 105,
   "id": "800abb3f",
   "metadata": {},
   "outputs": [],
   "source": [
    "msg = get_response_llm('다음 문장을 200자로 짧게 요약해줘. GC녹십자가 혈액제제 제품인 면역글로불린 ‘IVIG-SN 10%’(미국 제품명 알리글로)를 \\\n",
    " 오는 7월 미국 시장에 출시한다. 진입장벽이 높은 시장인 만큼 출시 이후 수천억 원의 매출이 가능할 전망이다. \\\n",
    " 향후 GC녹십자의 성장을 이끌어갈 동력이 될 것이란 기대다. 지난 27일, 알리글로 생산에 여념이 없는 GC녹십자 오창공장을 찾았다. \\\n",
    " ‘중꺾마. 13년 노력의 결실’. 충북 청주시 오창읍에 위치한 GC녹십자 오창공장. 어드관에 들어서자마자 1층 로비에 세워진 배너가 눈에 들어왔다. \\\n",
    " 지난해 12월 15일 FDA의 품목허가를 받은 알리글로의 얘기다. 알리글로의 품목허가엔 GC녹십자의 13년여의 노력이 담겨있다. \\\n",
    " 2010년 국내에서 ‘면역글로불린제제-아이비글로불린에스엔주(IVIG-SN)’의 허가를 받은 이후, 미국 시장의 문턱을 넘기까지 13년이 걸린 것이다. \\\n",
    " GC녹십자는 2015년 처음으로 면역글로불린 함유량이 낮은 ‘IVIG-SN 5%’ 제품에 대한 미국 식품의약국(FDA) 허가를 신청했지만, 당시 \\\n",
    " 두 차례 제조공정 보완 요청을 받은 뒤 결국 FDA 허가를 받는 데 실패했다. 이후 5% 제품에서 시장성이 더 큰 10% 제품의 허가로 전략을 수정했다. \\\n",
    " GC녹십자는 2020년 IVIG-SN 10%의 북미 임상 3상을 마치고 2021년 2월 품목허가를 신청했다. 그러나 코로나19로 FDA의 현장실사가 미뤄지면서 \\\n",
    " 2023년 4월에서야 오창공장 혈액제제 생산시설에 대한 실사가 이뤄졌다. 지난해 7월 허가신청서를 다시 제출한 끝에 5개월 만에 FDA의 품목허가를 \\\n",
    " 받았다. IVIG-SN 10%의 허가까지는 6년이 걸렸다. FDA 품목허가로 알리글로는 미국 시장 진입에 성공한 국내 첫 혈액제제가 됐다. \\\n",
    " 이 때문인지 오창공장은 알리글로의 생산 및 출하 준비로 활기를 띠고 있었다. GC녹십자는 지난달부터 오창공장에서 알리글로를 생산하기 시작했다. \\\n",
    " 6월 첫 출하를 시작할 예정이다. 박형준 GC녹십자 오창공장장은 “국내 최초로 국산 혈액제제가 세계 최대 규모인 미국 시장 진출에 성공했다”며 \\\n",
    " “알리글로의 FDA 승인으로 GC녹십자 오창공장은 가장 높은 수준의 우수의약품제조및품질관리(cGMP) 생산시설로 거듭났다”고 말했다. \\\n",
    " 고순도 기반의 높은 안전성을 보장하는 혈액제제 생산알리글로는 건강한 기증자의 혈장에서 추출한 면역글로불린을 농축해 환자에게 투여하는 \\\n",
    " 정맥 주사제다. 선천적 이유 탓에 면역력이 떨어진 1차 면역결핍증 등 200여개 이상의 증상에 폭넓게 사용된다. 박 공장장은 “혈액 1리터당 포함된 \\\n",
    " 면역글로불린은 25g”이라며 “알리글로는 건강한 사람의 면역글로불린을 추출해 정맥 또는 피하주입 형태로 면역 결핍 환자가 투여받을 수 있도록 한 \\\n",
    " 의약품”이라고 설명했다. 면역결핍증 환자들은 꾸준히 늘고 있지만, 출시된 신약은 많지 않다는 게 회사 측의 설명이다. 제품 개발을 위해 대규모 \\\n",
    " 설비 투자가 필요한 데다 공여자의 혈액을 정제하는 기술 장벽이 높아서다. GC녹십자는 면역글로불린 제조공정에서 제품의 안전성을 높이는 자체 \\\n",
    " 기술력을 확보했다.')"
   ]
  },
  {
   "cell_type": "code",
   "execution_count": 106,
   "id": "91d5cf5c",
   "metadata": {},
   "outputs": [
    {
     "data": {
      "text/plain": [
       "'\"GC녹십자, 7월 면역글로불린 \\'IVIG-SN 10%\\' 미국 시장 출시 예정. 13년간의 노력이 담긴 제품으로, 수천억원의 매출을 기대하며 회사의 성장을 이끌 것으로 전망됩니다. 최근 FDA의 품목허가를 받은 이 신제품은 지난달부터 생산을 시작해 6월 첫 출하를 앞두고 있습니다. 미국 시장 진출 성공은 GC녹십자 오창공장이 최상위 수준의 cGMP 생산시설로 도약하는 계기가 되었습니다.\"'"
      ]
     },
     "execution_count": 106,
     "metadata": {},
     "output_type": "execute_result"
    }
   ],
   "source": [
    "msg"
   ]
  },
  {
   "cell_type": "code",
   "execution_count": 109,
   "id": "a7f72cf6",
   "metadata": {},
   "outputs": [],
   "source": [
    "sentence = \"동진섬유는 글로벌 스포츠 브랜드 기업에 신발 원단을 공급하는 강소기업으로, 나이키, 아디다스의 세계 3대 핵심 협력업체 중 한 곳이다.\\\n",
    " MBK파트너스는 연평균 10%에 가까운 전 세계 운동화 시장의 견조한 성장세는 물론, 전 세계 운동화 시장 점유율 45%를 차지하고 점유율을 확대해가고 \\\n",
    "있는 나이키 및 아디다스와 동진섬유와의 30년 이상 된 굳건한 협력 관계, 합성가죽보다는 섬유가 다양한 종류의 운동화에 지배적으로 사용되고 있는 \\\n",
    "추세 등을 긍정적으로 평가해 인수한 것으로 알려졌다.\""
   ]
  },
  {
   "cell_type": "code",
   "execution_count": 110,
   "id": "e2590449",
   "metadata": {},
   "outputs": [
    {
     "data": {
      "text/plain": [
       "'동진섬유는 글로벌 스포츠 브랜드 기업에 신발 원단을 공급하는 기업으로, 나이키, 아디다스 등 세계 3대 협력업체 중 하나입니다. MBK파트너스는 나이키, 아디다스의 전 세계 시장 점유율 45%와 동진섬유와의 30년 이상 협력 관계를 높이 평가하고 있으며, 연평균 10%에 가까운 글로벌 운동화 시장 성장과 합성가죽 대신 섬유 사용이 늘어가는 추세에 기반해 인수하였습니다.'"
      ]
     },
     "execution_count": 110,
     "metadata": {},
     "output_type": "execute_result"
    }
   ],
   "source": [
    "get_abstract(sentence)"
   ]
  },
  {
   "cell_type": "code",
   "execution_count": 111,
   "id": "18254e55",
   "metadata": {},
   "outputs": [],
   "source": [
    "sentence = '정부가 19일 의과대학 정원 증원 규모를 조정할 수 있도록 해달라는 국립대 총장들의 건의를 적극 수용, 그간 고수했던 2000명 정원 축소에 나선다.\\\n",
    "이날 오후 정부서울청사에서 한덕수 국무총리 주재로 열리는 중앙재난안전대책본부(중대본) 회의에서 이같은 결정을 논의·발표할 예정이다. \\\n",
    "대통령실 고위 관계자는 이날 아시아경제에 \"의대 증원 2000명에 대해서는 숫자에 매몰되지 않고 탄력적으로 생각을 할 수 있다\"면서 \\\n",
    "\"내년 입학전형 일정이 얼마 남지 않았기 때문에 빨리 결정을 해야 한다\"고 밝혔다. \\\n",
    "앞서 강원대·경북대·경상국립대·충남대·충북대·제주대 등 6개 거점 국립대 총장은 전날 대학별로 의대 증원분의 50~100% 범위에서 자율적으로 \\\n",
    "2025학년도 신입생을 모집할 수 있게 해달라는 건의문을 교육부에 보냈다. 자율성을 보장해달라는 의견으로 사실상 축소 가능성을 열어달라는 의견인 \\\n",
    "것으로 풀이된다. 이에 대해 대통령실 관계자는 \"의대가 있는 국립대 총장들이 합리적으로 생각해볼 수 있는 안을 가져온 것이니 긍정적으로 검토하고 \\\n",
    "있다\"면서 \"자율성을 드리는 형태로 의대증원의 취지는 살릴 수 있는 안\"이라고 말했다. 특히 이 관계자는 이달 말까지 대학이 내년 대입전형 시행계획을 \\\n",
    "한국대학교육협의회에 제출해야 하는 상황으로 시일이 촉박한 만큼 빠른 결정이 필요하다는 입장을 표명했다. 의정 갈등이 해법을 모색하지 못하는 상황이 \\\n",
    "지속될 경우 수험생 혼란만 커질 수 있기 때문이다. 대통령실 관계자는 \"(대입전형 시행계획) 마지노선이 상당히 가까워지고 있고 지금이 \\\n",
    "(의대증원 규모를) 무리 없이 조정할 수 있는 시기이기 때문에 (더 늦기 전에) 빨리 해드리긴 해야한다\"면서 \"중대본에서 결정할 것으로 보인다\"고 \\\n",
    "설명했다. 이어 \"의료계에 단일안을 계속 요청했지만 0명 혹은 원점 재논의를 요청하는 상황이라 이를 수용할 수는 없다\"면서 \"이런 시점에서 국립대 \\\n",
    "총장들이 합리적인 안을 가져온 것이므로 긍정적으로 생각한다\"고 덧붙였다.'"
   ]
  },
  {
   "cell_type": "code",
   "execution_count": 112,
   "id": "f78af394",
   "metadata": {},
   "outputs": [
    {
     "data": {
      "text/plain": [
       "'정부는 19일 국립대 총장들의 의과대학 정원 증원 규모를 조정할 수 있도록 해달라는 요청을 받아들여, 기존에 주장하던 2000명의 의대 정원을 줄이기로 했습니다. 이는 11월 19일 오후 한덕수 국무총리 주재 하에 열리는 중앙재난안전대책본부 회의에서 논의 및 발표될 예정입니다. 대통령실 고위 관계자는 \"의대 증원 2000명에 대해 숫자에 얽매이지 않고 유연하게 생각할 수 있다\"고 언급했으며, \"내년 입학전형 일정이 얼마 남지 않았기 때문에 신속하게 결정을 내려야 한다\"고 강조했습니다. 앞서 강원대, 경북대, 경상국립대, 충남대, 충북대, 제주대 등 6개 국립대 총장은 2025학년도 신입생 모집 시 대학별로 의대 증원분의 50%에서 100% 범위 내에서 자율적으로 결정할 수 있도록 정부에 요청했습니다. 이에 대해 대통령실 관계자는 이러한 안이 합리적이며 의대 증원의 취지를 유지할 수 있다고 평가했습니다. 또한 대입전형 시행계획 제출'"
      ]
     },
     "execution_count": 112,
     "metadata": {},
     "output_type": "execute_result"
    }
   ],
   "source": [
    "get_abstract(sentence)"
   ]
  },
  {
   "cell_type": "code",
   "execution_count": 113,
   "id": "5906d408",
   "metadata": {},
   "outputs": [],
   "source": [
    "sentence = \" 고금리·고환율·고유가 등 이른바 3고(高) 우려가 다시 불거지면서 19일 장 중 코스피·코스닥지수가 약세를 보이고 있다. \\\n",
    "특히 세계 최대 파운드리(반도체 위탁생산) 업체인 대만 TSMC가 반도체 성장 전망치를 낮추자, 삼성전자와 SK하이닉스 등 반도체 업종 주가가 꺾이면서 \\\n",
    "지수 하락 폭을 키우고 있다. 코스피지수는 이날 오전 11시 4분 기준 2566.77이다. 전날보다 67.93포인트(2.58%) 하락했다. \\\n",
    "지난 1월 이후 가장 낮은 수준이다. 유가증권시장에서 기관과 외국인이 각각 6712억원, 2743억원 ‘팔자’에 나서며 지수를 끌어내렸다. \\\n",
    "개인만 9123억원 순매수 중이다. 유가증권시장 대장주인 삼성전자와 SK하이닉스가 각각 3%, 5% 이상 약세를 보이고 있다. \\\n",
    "업종 중에서도 반도체와 반도체장비의 하락률이 3.8%로 컸다. TSMC가 전날 올해 1분기 실적 발표 후 컨퍼런스콜에서 올해 메모리 반도체를 제외한 \\\n",
    "전체 반도체 시장 성장률 전망치를 기존 ‘10% 이상’에서 10%로 낮춘 영향으로 보인다. 김석환 미래에셋증권 연구원은 “TSMC가 반도체 업황을 하향 \\\n",
    "조정한 여파로 밤사이 미국 증시에서 반도체 관련 종목군의 약세가 뚜렷했다”며 “한국 증시에서도 관련 종목군의 주가 약세가 지수 하락을 주도하고 있다” \\\n",
    "고 했다. 같은 시각 코스닥지수도 24.47포인트(2.86%) 내린 831.18을 기록했다. 전날 상승분을 모두 반납했다. 코스닥시장에서도 외국인과 기관이 \\\n",
    "3185억원, 330억원을 순매도하고 있다. 개인만 3577억원 매수 우위를 보이고 있으나 지수를 방어하기엔 벅찬 상황이다. 에코프로비엠을 비롯한 \\\n",
    "코스닥시장 시가총액 상위 종목 주식 대부분이 전날보다 낮은 가격에 거래 중이다. 미국 국채 2년물 금리가 5%에 육박하는 가운데 외환 당국의 \\\n",
    "구두개입으로 주춤했던 환율도 하루 만에 반등했다. 서울 외환시장에서 미국 달러 대비 원화(원·달러) 환율은 이날 오전 1390원선을 다시 넘어섰다. \\\n",
    "중동 정세 불안으로 국제 유가도 뛰었다. 이스라엘이 계획 중인 가자지구 남단 라파 지상전을 두고 미국 백악관은 민간인 피해 가능성을 여전히 \\\n",
    "우려하지만, 팔레스타인 무장 정파 하마스를 격퇴한다는 공동의 목표에 합의했다고 발표했다. 이어 이스라엘이 이란 본토를 미사일로 공격했다는 보도도 \\\n",
    "나왔다. 미국 서부텍사스원유(WTI) 5월물과 브렌트유 6월물 모두 현재 3%대 오름세를 보이고 있다.\" "
   ]
  },
  {
   "cell_type": "code",
   "execution_count": 114,
   "id": "fbf75c14",
   "metadata": {},
   "outputs": [
    {
     "data": {
      "text/plain": [
       "'고금리·고환율·고유가 등 이른바 3고(高) 우려가 다시 불거지면서 코스피·코스닥 지수가 약세를 보이고 있습니다. 특히 세계 최대 파운드리(반도체 위탁생산) 업체인 대만 TSMC가 반도체 성장 전망치를 낮추면서, 삼성전자와 SK하이닉스 등 반도체 업종 주가가 약세를 보이며 지수 하락 폭을 키우고 있습니다.'"
      ]
     },
     "execution_count": 114,
     "metadata": {},
     "output_type": "execute_result"
    }
   ],
   "source": [
    "get_abstract(sentence)"
   ]
  },
  {
   "cell_type": "code",
   "execution_count": 116,
   "id": "69ce0b4b",
   "metadata": {},
   "outputs": [
    {
     "data": {
      "text/plain": [
       "'19일, 3고(고금리·고환율·고유가) 우려가 다시 대두되면서 코스피·코스닥지수가 약세를 보이고 있습니다. 세계 최대 파운드리 업체인 TSMC가 반도체 성장 전망을 하향 조정하면서 삼성전자와 SK하이닉스 등 반도체 업종 주가가 하락하고, 이로 인해 지수 하락 폭이 커지고 있습니다. 특히 외국인과 기관이 순매도하는 반면, 개인은 순매수 중입니다. \\n\\n코스피지수는 2566.77로, 전날 대비 67.93포인트(2.58%) 하락했으며, 지난 1월 이후 가장 낮은 수준을 기록했습니다. 유가증권시장에서는 삼성전자와 SK하이닉스가 각각 3%, 5% 이상 약세를 보이고 있습니다. \\n\\n코스닥지수도 전날 상승분을 모두 반납하며 831.18로, 24.47포인트(2.86%) 내렸습니다. 외국인과 기관은 순매도 중이고, 개인은 순매수 우위를 보이고 있지만, 지수 방어에는 부족해 보입니다. \\n\\n또한, 외'"
      ]
     },
     "execution_count": 116,
     "metadata": {},
     "output_type": "execute_result"
    }
   ],
   "source": [
    "get_abstract(sentence)"
   ]
  },
  {
   "cell_type": "code",
   "execution_count": null,
   "id": "408f2ca8",
   "metadata": {},
   "outputs": [],
   "source": []
  }
 ],
 "metadata": {
  "kernelspec": {
   "display_name": "Python 3 (ipykernel)",
   "language": "python",
   "name": "python3"
  },
  "language_info": {
   "codemirror_mode": {
    "name": "ipython",
    "version": 3
   },
   "file_extension": ".py",
   "mimetype": "text/x-python",
   "name": "python",
   "nbconvert_exporter": "python",
   "pygments_lexer": "ipython3",
   "version": "3.9.19"
  }
 },
 "nbformat": 4,
 "nbformat_minor": 5
}
