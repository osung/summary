{
 "cells": [
  {
   "cell_type": "code",
   "execution_count": 1,
   "id": "140c01cb",
   "metadata": {},
   "outputs": [],
   "source": [
    "from konlpy.tag import Okt\n",
    "import networkx as nx\n",
    "import numpy as np\n",
    "from itertools import combinations\n",
    "from collections import Counter"
   ]
  },
  {
   "cell_type": "code",
   "execution_count": 2,
   "id": "5ce4e4e1",
   "metadata": {},
   "outputs": [],
   "source": [
    "import pandas as pd\n",
    "from tqdm import tqdm\n",
    "from multiprocessing import Pool, cpu_count"
   ]
  },
  {
   "cell_type": "code",
   "execution_count": 3,
   "id": "4522b447",
   "metadata": {},
   "outputs": [],
   "source": [
    "okt = Okt()"
   ]
  },
  {
   "cell_type": "code",
   "execution_count": 4,
   "id": "8aaf29c8",
   "metadata": {},
   "outputs": [],
   "source": [
    "def tokenize(text):\n",
    "    # 형태소 분석을 통해 명사만 추출\n",
    "    return [word for word in okt.nouns(text) if len(word) > 1]"
   ]
  },
  {
   "cell_type": "code",
   "execution_count": 5,
   "id": "bd49cf18",
   "metadata": {},
   "outputs": [],
   "source": [
    "def extract_keywords(text, num_keywords=10):\n",
    "    okt = Okt()\n",
    "    \n",
    "    # 형태소 분석 및 명사 추출\n",
    "    words = tokenize(text)\n",
    "    \n",
    "    # 단어들의 출현 빈도수 계산\n",
    "    word_counts = Counter(words)\n",
    "    \n",
    "    # 그래프 생성\n",
    "    graph = nx.Graph()\n",
    "    \n",
    "    # 단어 노드 추가\n",
    "    for word, count in word_counts.items():\n",
    "        if count > 1:  # 최소 출현 빈도 조건\n",
    "            graph.add_node(word, count=count)\n",
    "    \n",
    "    # 단어의 연결을 위한 윈도우 크기 설정\n",
    "    window_size = 4\n",
    "    \n",
    "    # 윈도우 안에서 단어 간의 연결 설정\n",
    "    for i in range(len(words) - window_size + 1):\n",
    "        window_words = words[i:i + window_size]\n",
    "        for w1, w2 in combinations(window_words, 2):\n",
    "            if graph.has_node(w1) and graph.has_node(w2):\n",
    "                if graph.has_edge(w1, w2):\n",
    "                    graph[w1][w2]['weight'] += 1\n",
    "                else:\n",
    "                    graph.add_edge(w1, w2, weight=1)\n",
    "    \n",
    "    # PageRank 계산\n",
    "    rank = nx.pagerank(graph, weight='weight')\n",
    "    \n",
    "    # 상위 num_keywords개의 키워드 추출\n",
    "    top_keywords = sorted(rank.items(), key=lambda x: x[1], reverse=True)[:num_keywords]\n",
    "    \n",
    "    return [keyword for keyword, _ in top_keywords]"
   ]
  },
  {
   "cell_type": "code",
   "execution_count": 6,
   "id": "aabdc61a",
   "metadata": {},
   "outputs": [],
   "source": [
    "directory_path = '/home/osung/data/korean/modu/json'\n",
    "df = pd.read_csv(directory_path+'/combined_news.tsv', sep='\\t')"
   ]
  },
  {
   "cell_type": "code",
   "execution_count": 7,
   "id": "c18ee985",
   "metadata": {},
   "outputs": [
    {
     "data": {
      "text/plain": [
       "3611424"
      ]
     },
     "execution_count": 7,
     "metadata": {},
     "output_type": "execute_result"
    }
   ],
   "source": [
    "len(df)"
   ]
  },
  {
   "cell_type": "code",
   "execution_count": 8,
   "id": "dd0a5838",
   "metadata": {},
   "outputs": [
    {
     "data": {
      "text/plain": [
       "Index(['id', 'topic', 'text'], dtype='object')"
      ]
     },
     "execution_count": 8,
     "metadata": {},
     "output_type": "execute_result"
    }
   ],
   "source": [
    "df.columns"
   ]
  },
  {
   "cell_type": "code",
   "execution_count": 9,
   "id": "ef19eb5b",
   "metadata": {},
   "outputs": [],
   "source": [
    "df_s = df[df.topic == '사회']"
   ]
  },
  {
   "cell_type": "code",
   "execution_count": 14,
   "id": "dde9f8e6",
   "metadata": {},
   "outputs": [],
   "source": [
    "del df"
   ]
  },
  {
   "cell_type": "code",
   "execution_count": 15,
   "id": "87ba434b",
   "metadata": {},
   "outputs": [
    {
     "data": {
      "text/plain": [
       "1808896"
      ]
     },
     "execution_count": 15,
     "metadata": {},
     "output_type": "execute_result"
    }
   ],
   "source": [
    "len(df_s)"
   ]
  },
  {
   "cell_type": "code",
   "execution_count": 16,
   "id": "15d8b545",
   "metadata": {},
   "outputs": [],
   "source": [
    "documents = df_s.text"
   ]
  },
  {
   "cell_type": "code",
   "execution_count": null,
   "id": "30ee3d81",
   "metadata": {},
   "outputs": [
    {
     "name": "stderr",
     "output_type": "stream",
     "text": [
      " 48%|████████████▉              | 866653/1808896 [68:56:32<255:05:41,  1.03it/s]"
     ]
    }
   ],
   "source": [
    "doc_keywords = []\n",
    "\n",
    "for doc in tqdm(documents) :\n",
    "    keywords = extract_keywords(doc)\n",
    "    doc_keywords.append(keywords)"
   ]
  },
  {
   "cell_type": "code",
   "execution_count": null,
   "id": "f3bc90b0",
   "metadata": {},
   "outputs": [],
   "source": [
    "len(doc_keywords)"
   ]
  },
  {
   "cell_type": "code",
   "execution_count": null,
   "id": "114241dc",
   "metadata": {},
   "outputs": [],
   "source": [
    "len(doc_keywords)"
   ]
  },
  {
   "cell_type": "code",
   "execution_count": 76,
   "id": "11a34146",
   "metadata": {},
   "outputs": [
    {
     "data": {
      "text/plain": [
       "[['가락시장', '사람', '수산시장', '새벽', '시장', '배추', '서민', '경제', '상인', '가명'],\n",
       " ['의원', '최소한', '망언', '국민', '인간', '우리', '품위', '대한', '국회의원', '라면'],\n",
       " ['시민', '경제', '일찍', '공원', '기념', '운동', '보상', '정치인', '대구', '국채'],\n",
       " ['시민', '대전', '촛불', '이명박', '언론', '악법', '새해', '촛불집회', '노래', '노조'],\n",
       " ['어민', '생산', '장흥', '양식', '김양', '무산', '잡태', '처음', '어장', '생산량'],\n",
       " ['언론', '대구', '방송', '재벌', '정부', '통해', '문화제', '파업', '정책', '촛불'],\n",
       " ['서울', '시골', '대학', '똥값', '골탑', '농가', '우보', '뚜벅뚜벅', '만수', '조금'],\n",
       " ['국립공원', '사무소', '통일', '행사', '지리산', '경찰', '띄우기', '자제', '새해', '요청'],\n",
       " ['대표', '우리', '한해', '돌밭', '맹세', '나라', '옥답', '박희태', '역사', '이란'],\n",
       " ['지수', '사회', '공존', '사람', '지능지수', '능력', '위해', '다른', '인맥', '모두']]"
      ]
     },
     "execution_count": 76,
     "metadata": {},
     "output_type": "execute_result"
    }
   ],
   "source": [
    "doc_keywords"
   ]
  },
  {
   "cell_type": "code",
   "execution_count": 59,
   "id": "cd197bab",
   "metadata": {},
   "outputs": [
    {
     "data": {
      "text/plain": [
       "48.0"
      ]
     },
     "execution_count": 59,
     "metadata": {},
     "output_type": "execute_result"
    }
   ],
   "source": [
    "cpu_count() / 2"
   ]
  },
  {
   "cell_type": "code",
   "execution_count": 60,
   "id": "2103566d",
   "metadata": {},
   "outputs": [
    {
     "data": {
      "text/plain": [
       "1190"
      ]
     },
     "execution_count": 60,
     "metadata": {},
     "output_type": "execute_result"
    }
   ],
   "source": [
    "len(doc_keywords)"
   ]
  },
  {
   "cell_type": "code",
   "execution_count": 69,
   "id": "783ec490",
   "metadata": {},
   "outputs": [
    {
     "name": "stderr",
     "output_type": "stream",
     "text": [
      "  0%|                                                    | 0/10 [00:00<?, ?it/s]\n"
     ]
    },
    {
     "ename": "AssertionError",
     "evalue": "phrase input should be string, not <class 'tuple'>",
     "output_type": "error",
     "traceback": [
      "\u001b[0;31m---------------------------------------------------------------------------\u001b[0m",
      "\u001b[0;31mRemoteTraceback\u001b[0m                           Traceback (most recent call last)",
      "\u001b[0;31mRemoteTraceback\u001b[0m: \n\"\"\"\nTraceback (most recent call last):\n  File \"/home/osung/anaconda3/lib/python3.9/multiprocessing/pool.py\", line 125, in worker\n    result = (True, func(*args, **kwds))\n  File \"/tmp/ipykernel_3614809/3491782725.py\", line 5, in extract_keywords\n    words = tokenize(text)\n  File \"/tmp/ipykernel_3614809/3037270029.py\", line 3, in tokenize\n    return [word for word in okt.nouns(text) if len(word) > 1]\n  File \"/home/osung/anaconda3/lib/python3.9/site-packages/konlpy/tag/_okt.py\", line 83, in nouns\n    tagged = self.pos(phrase)\n  File \"/home/osung/anaconda3/lib/python3.9/site-packages/konlpy/tag/_okt.py\", line 69, in pos\n    validate_phrase_inputs(phrase)\n  File \"/home/osung/anaconda3/lib/python3.9/site-packages/konlpy/tag/_common.py\", line 20, in validate_phrase_inputs\n    assert isinstance(phrase, basestring), msg\nAssertionError: phrase input should be string, not <class 'tuple'>\n\"\"\"",
      "\nThe above exception was the direct cause of the following exception:\n",
      "\u001b[0;31mAssertionError\u001b[0m                            Traceback (most recent call last)",
      "\u001b[0;32m/tmp/ipykernel_3614809/2903238.py\u001b[0m in \u001b[0;36m<module>\u001b[0;34m\u001b[0m\n\u001b[0;32m----> 1\u001b[0;31m \u001b[0mkeyword_lists\u001b[0m \u001b[0;34m=\u001b[0m \u001b[0mparallel_keyword_extraction\u001b[0m\u001b[0;34m(\u001b[0m\u001b[0mdocuments\u001b[0m\u001b[0;34m[\u001b[0m\u001b[0;34m:\u001b[0m\u001b[0;36m10\u001b[0m\u001b[0;34m]\u001b[0m\u001b[0;34m,\u001b[0m \u001b[0mnum_keywords\u001b[0m\u001b[0;34m=\u001b[0m\u001b[0;36m10\u001b[0m\u001b[0;34m)\u001b[0m\u001b[0;34m\u001b[0m\u001b[0;34m\u001b[0m\u001b[0m\n\u001b[0m",
      "\u001b[0;32m/tmp/ipykernel_3614809/2682926787.py\u001b[0m in \u001b[0;36mparallel_keyword_extraction\u001b[0;34m(docs, num_keywords)\u001b[0m\n\u001b[1;32m      7\u001b[0m         \u001b[0;31m# 병렬로 키워드 추출하면서 진행 상황 표시\u001b[0m\u001b[0;34m\u001b[0m\u001b[0;34m\u001b[0m\u001b[0m\n\u001b[1;32m      8\u001b[0m         \u001b[0mresults\u001b[0m \u001b[0;34m=\u001b[0m \u001b[0;34m[\u001b[0m\u001b[0;34m]\u001b[0m\u001b[0;34m\u001b[0m\u001b[0;34m\u001b[0m\u001b[0m\n\u001b[0;32m----> 9\u001b[0;31m         \u001b[0;32mfor\u001b[0m \u001b[0mresult\u001b[0m \u001b[0;32min\u001b[0m \u001b[0mtqdm\u001b[0m\u001b[0;34m(\u001b[0m\u001b[0mpool\u001b[0m\u001b[0;34m.\u001b[0m\u001b[0mimap\u001b[0m\u001b[0;34m(\u001b[0m\u001b[0mextract_keywords\u001b[0m\u001b[0;34m,\u001b[0m \u001b[0;34m[\u001b[0m\u001b[0;34m(\u001b[0m\u001b[0mdoc\u001b[0m\u001b[0;34m,\u001b[0m \u001b[0mnum_keywords\u001b[0m\u001b[0;34m)\u001b[0m \u001b[0;32mfor\u001b[0m \u001b[0mdoc\u001b[0m \u001b[0;32min\u001b[0m \u001b[0mdocs\u001b[0m\u001b[0;34m]\u001b[0m\u001b[0;34m)\u001b[0m\u001b[0;34m,\u001b[0m \u001b[0mtotal\u001b[0m\u001b[0;34m=\u001b[0m\u001b[0mlen\u001b[0m\u001b[0;34m(\u001b[0m\u001b[0mdocs\u001b[0m\u001b[0;34m)\u001b[0m\u001b[0;34m)\u001b[0m\u001b[0;34m:\u001b[0m\u001b[0;34m\u001b[0m\u001b[0;34m\u001b[0m\u001b[0m\n\u001b[0m\u001b[1;32m     10\u001b[0m             \u001b[0mresults\u001b[0m\u001b[0;34m.\u001b[0m\u001b[0mappend\u001b[0m\u001b[0;34m(\u001b[0m\u001b[0mresult\u001b[0m\u001b[0;34m)\u001b[0m\u001b[0;34m\u001b[0m\u001b[0;34m\u001b[0m\u001b[0m\n\u001b[1;32m     11\u001b[0m \u001b[0;34m\u001b[0m\u001b[0m\n",
      "\u001b[0;32m~/anaconda3/lib/python3.9/site-packages/tqdm/std.py\u001b[0m in \u001b[0;36m__iter__\u001b[0;34m(self)\u001b[0m\n\u001b[1;32m   1179\u001b[0m \u001b[0;34m\u001b[0m\u001b[0m\n\u001b[1;32m   1180\u001b[0m         \u001b[0;32mtry\u001b[0m\u001b[0;34m:\u001b[0m\u001b[0;34m\u001b[0m\u001b[0;34m\u001b[0m\u001b[0m\n\u001b[0;32m-> 1181\u001b[0;31m             \u001b[0;32mfor\u001b[0m \u001b[0mobj\u001b[0m \u001b[0;32min\u001b[0m \u001b[0miterable\u001b[0m\u001b[0;34m:\u001b[0m\u001b[0;34m\u001b[0m\u001b[0;34m\u001b[0m\u001b[0m\n\u001b[0m\u001b[1;32m   1182\u001b[0m                 \u001b[0;32myield\u001b[0m \u001b[0mobj\u001b[0m\u001b[0;34m\u001b[0m\u001b[0;34m\u001b[0m\u001b[0m\n\u001b[1;32m   1183\u001b[0m                 \u001b[0;31m# Update and possibly print the progressbar.\u001b[0m\u001b[0;34m\u001b[0m\u001b[0;34m\u001b[0m\u001b[0m\n",
      "\u001b[0;32m~/anaconda3/lib/python3.9/multiprocessing/pool.py\u001b[0m in \u001b[0;36mnext\u001b[0;34m(self, timeout)\u001b[0m\n\u001b[1;32m    868\u001b[0m         \u001b[0;32mif\u001b[0m \u001b[0msuccess\u001b[0m\u001b[0;34m:\u001b[0m\u001b[0;34m\u001b[0m\u001b[0;34m\u001b[0m\u001b[0m\n\u001b[1;32m    869\u001b[0m             \u001b[0;32mreturn\u001b[0m \u001b[0mvalue\u001b[0m\u001b[0;34m\u001b[0m\u001b[0;34m\u001b[0m\u001b[0m\n\u001b[0;32m--> 870\u001b[0;31m         \u001b[0;32mraise\u001b[0m \u001b[0mvalue\u001b[0m\u001b[0;34m\u001b[0m\u001b[0;34m\u001b[0m\u001b[0m\n\u001b[0m\u001b[1;32m    871\u001b[0m \u001b[0;34m\u001b[0m\u001b[0m\n\u001b[1;32m    872\u001b[0m     \u001b[0m__next__\u001b[0m \u001b[0;34m=\u001b[0m \u001b[0mnext\u001b[0m                    \u001b[0;31m# XXX\u001b[0m\u001b[0;34m\u001b[0m\u001b[0;34m\u001b[0m\u001b[0m\n",
      "\u001b[0;31mAssertionError\u001b[0m: phrase input should be string, not <class 'tuple'>"
     ]
    }
   ],
   "source": [
    "keyword_lists = parallel_keyword_extraction(documents[:10], num_keywords=10)"
   ]
  },
  {
   "cell_type": "code",
   "execution_count": null,
   "id": "a2b5ebeb",
   "metadata": {},
   "outputs": [],
   "source": []
  }
 ],
 "metadata": {
  "kernelspec": {
   "display_name": "Python 3 (ipykernel)",
   "language": "python",
   "name": "python3"
  },
  "language_info": {
   "codemirror_mode": {
    "name": "ipython",
    "version": 3
   },
   "file_extension": ".py",
   "mimetype": "text/x-python",
   "name": "python",
   "nbconvert_exporter": "python",
   "pygments_lexer": "ipython3",
   "version": "3.9.19"
  }
 },
 "nbformat": 4,
 "nbformat_minor": 5
}
