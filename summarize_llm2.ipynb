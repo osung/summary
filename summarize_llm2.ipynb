{
 "cells": [
  {
   "cell_type": "code",
   "execution_count": 1,
   "id": "14c909f1",
   "metadata": {},
   "outputs": [],
   "source": [
    "import pandas as pd\n",
    "import numpy as np"
   ]
  },
  {
   "cell_type": "code",
   "execution_count": 2,
   "id": "55c3839d",
   "metadata": {},
   "outputs": [],
   "source": [
    "import torch\n",
    "import torch.nn as nn"
   ]
  },
  {
   "cell_type": "code",
   "execution_count": 3,
   "id": "c5abcbe2",
   "metadata": {},
   "outputs": [],
   "source": [
    "from tqdm.auto import tqdm\n",
    "tqdm.pandas()"
   ]
  },
  {
   "cell_type": "code",
   "execution_count": 4,
   "id": "89b95b33",
   "metadata": {},
   "outputs": [],
   "source": [
    "import nltk\n",
    "from nltk.tokenize import sent_tokenize"
   ]
  },
  {
   "cell_type": "code",
   "execution_count": 5,
   "id": "a839757d",
   "metadata": {},
   "outputs": [],
   "source": [
    "from transformers import AutoModelForCausalLM, AutoTokenizer\n",
    "import textwrap"
   ]
  },
  {
   "cell_type": "code",
   "execution_count": 17,
   "id": "7800d602",
   "metadata": {},
   "outputs": [],
   "source": [
    "# 노트북 커널 프로세스에만 적용됩니다 (재부팅 필요 없음).\n",
    "import os\n",
    "os.environ[\"HF_HUB_DISABLE_XET\"] = \"1\""
   ]
  },
  {
   "cell_type": "code",
   "execution_count": 18,
   "id": "d59e9193",
   "metadata": {},
   "outputs": [
    {
     "data": {
      "application/vnd.jupyter.widget-view+json": {
       "model_id": "24fcf1b6e31b4860aec8965755103c4f",
       "version_major": 2,
       "version_minor": 0
      },
      "text/plain": [
       "Fetching 1 files:   0%|          | 0/1 [00:00<?, ?it/s]"
      ]
     },
     "metadata": {},
     "output_type": "display_data"
    },
    {
     "name": "stdout",
     "output_type": "stream",
     "text": [
      "Xet 비활성화 상태에서 테스트 다운로드 OK\n"
     ]
    }
   ],
   "source": [
    "from huggingface_hub import snapshot_download\n",
    "test_repo = \"bert-base-uncased\"  # 소용량 모델\n",
    "snapshot_download(test_repo, allow_patterns=[\"config.json\"])\n",
    "print(\"Xet 비활성화 상태에서 테스트 다운로드 OK\")"
   ]
  },
  {
   "cell_type": "code",
   "execution_count": 19,
   "id": "0bb30a9f",
   "metadata": {},
   "outputs": [
    {
     "data": {
      "application/vnd.jupyter.widget-view+json": {
       "model_id": "d00a1d793d7c44158f0b1dd32f263344",
       "version_major": 2,
       "version_minor": 0
      },
      "text/plain": [
       "Fetching 4 files:   0%|          | 0/4 [00:00<?, ?it/s]"
      ]
     },
     "metadata": {},
     "output_type": "display_data"
    },
    {
     "data": {
      "application/vnd.jupyter.widget-view+json": {
       "model_id": "0543d58bc80b4150a6051ff5af95bb44",
       "version_major": 2,
       "version_minor": 0
      },
      "text/plain": [
       "model-00001-of-00004.safetensors:   0%|          | 0.00/4.99G [00:00<?, ?B/s]"
      ]
     },
     "metadata": {},
     "output_type": "display_data"
    },
    {
     "data": {
      "application/vnd.jupyter.widget-view+json": {
       "model_id": "2dbc9f05818e448e9821f9beebe9f442",
       "version_major": 2,
       "version_minor": 0
      },
      "text/plain": [
       "model-00003-of-00004.safetensors:   0%|          | 0.00/4.91G [00:00<?, ?B/s]"
      ]
     },
     "metadata": {},
     "output_type": "display_data"
    },
    {
     "data": {
      "application/vnd.jupyter.widget-view+json": {
       "model_id": "9af44571031d428f919dae5b15cd6cbd",
       "version_major": 2,
       "version_minor": 0
      },
      "text/plain": [
       "model-00002-of-00004.safetensors:   0%|          | 0.00/4.93G [00:00<?, ?B/s]"
      ]
     },
     "metadata": {},
     "output_type": "display_data"
    },
    {
     "data": {
      "application/vnd.jupyter.widget-view+json": {
       "model_id": "4454c31890b34c268dc78397f2fd198e",
       "version_major": 2,
       "version_minor": 0
      },
      "text/plain": [
       "model-00004-of-00004.safetensors:   0%|          | 0.00/692M [00:00<?, ?B/s]"
      ]
     },
     "metadata": {},
     "output_type": "display_data"
    },
    {
     "name": "stdout",
     "output_type": "stream",
     "text": [
      "  \u001b[2m2025-09-02T06:01:47.209808Z\u001b[0m \u001b[33m WARN\u001b[0m  \u001b[33mReqwest(reqwest::Error { kind: Request, url: \"https://cas-server.xethub.hf.co/reconstruction/ef7a843eb373d8b3f696889e57b80dc66a33212c3959717273801bd71708ed94\", source: hyper_util::client::legacy::Error(Connect, Custom { kind: Other, error: Custom { kind: InvalidData, error: InvalidCertificate(UnknownIssuer) } }) }). Retrying...\u001b[0m\n",
      "    \u001b[2;3mat\u001b[0m /home/runner/work/xet-core/xet-core/cas_client/src/http_client.rs:226\n",
      "\n",
      "  \u001b[2m2025-09-02T06:01:47.209838Z\u001b[0m \u001b[33m WARN\u001b[0m  \u001b[33mRetry attempt #0. Sleeping 1.117845419s before the next attempt\u001b[0m\n",
      "    \u001b[2;3mat\u001b[0m /root/.cargo/registry/src/index.crates.io-1949cf8c6b5b557f/reqwest-retry-0.7.0/src/middleware.rs:171\n",
      "\n",
      "  \u001b[2m2025-09-02T06:01:47.210246Z\u001b[0m \u001b[33m WARN\u001b[0m  \u001b[33mReqwest(reqwest::Error { kind: Request, url: \"https://cas-server.xethub.hf.co/reconstruction/b13368f86a48745ec6a089895a0b017a8f2586795ec3981adaa5196fc4de2491\", source: hyper_util::client::legacy::Error(Connect, Custom { kind: Other, error: Custom { kind: InvalidData, error: InvalidCertificate(UnknownIssuer) } }) }). Retrying...\u001b[0m\n",
      "    \u001b[2;3mat\u001b[0m /home/runner/work/xet-core/xet-core/cas_client/src/http_client.rs:226\n",
      "\n",
      "  \u001b[2m2025-09-02T06:01:47.210260Z\u001b[0m \u001b[33m WARN\u001b[0m  \u001b[33mRetry attempt #0. Sleeping 1.083542188s before the next attempt\u001b[0m\n",
      "    \u001b[2;3mat\u001b[0m /root/.cargo/registry/src/index.crates.io-1949cf8c6b5b557f/reqwest-retry-0.7.0/src/middleware.rs:171\n",
      "\n",
      "  \u001b[2m2025-09-02T06:01:47.210409Z\u001b[0m \u001b[33m WARN\u001b[0m  \u001b[33mReqwest(reqwest::Error { kind: Request, url: \"https://cas-server.xethub.hf.co/reconstruction/dcd64227684fce133b4d75c45ed9287b077a0d2a8fa76dfdfba45ab30bf0e77a\", source: hyper_util::client::legacy::Error(Connect, Custom { kind: Other, error: Custom { kind: InvalidData, error: InvalidCertificate(UnknownIssuer) } }) }). Retrying...\u001b[0m\n",
      "    \u001b[2;3mat\u001b[0m /home/runner/work/xet-core/xet-core/cas_client/src/http_client.rs:226\n",
      "\n",
      "  \u001b[2m2025-09-02T06:01:47.210433Z\u001b[0m \u001b[33m WARN\u001b[0m  \u001b[33mRetry attempt #0. Sleeping 639.410411ms before the next attempt\u001b[0m\n",
      "    \u001b[2;3mat\u001b[0m /root/.cargo/registry/src/index.crates.io-1949cf8c6b5b557f/reqwest-retry-0.7.0/src/middleware.rs:171\n",
      "\n",
      "  \u001b[2m2025-09-02T06:01:47.211599Z\u001b[0m \u001b[33m WARN\u001b[0m  \u001b[33mReqwest(reqwest::Error { kind: Request, url: \"https://cas-server.xethub.hf.co/reconstruction/c177a242da1e187ca4f4274cee4910fe62dac6ef3c6e6fcedac77b7b22430087\", source: hyper_util::client::legacy::Error(Connect, Custom { kind: Other, error: Custom { kind: InvalidData, error: InvalidCertificate(UnknownIssuer) } }) }). Retrying...\u001b[0m\n",
      "    \u001b[2;3mat\u001b[0m /home/runner/work/xet-core/xet-core/cas_client/src/http_client.rs:226\n",
      "\n",
      "  \u001b[2m2025-09-02T06:01:47.211622Z\u001b[0m \u001b[33m WARN\u001b[0m  \u001b[33mRetry attempt #0. Sleeping 1.828175597s before the next attempt\u001b[0m\n",
      "    \u001b[2;3mat\u001b[0m /root/.cargo/registry/src/index.crates.io-1949cf8c6b5b557f/reqwest-retry-0.7.0/src/middleware.rs:171\n",
      "\n",
      "  \u001b[2m2025-09-02T06:01:48.350693Z\u001b[0m \u001b[33m WARN\u001b[0m  \u001b[33mReqwest(reqwest::Error { kind: Request, url: \"https://cas-server.xethub.hf.co/reconstruction/dcd64227684fce133b4d75c45ed9287b077a0d2a8fa76dfdfba45ab30bf0e77a\", source: hyper_util::client::legacy::Error(Connect, Custom { kind: Other, error: Custom { kind: InvalidData, error: InvalidCertificate(UnknownIssuer) } }) }). Retrying...\u001b[0m\n",
      "    \u001b[2;3mat\u001b[0m /home/runner/work/xet-core/xet-core/cas_client/src/http_client.rs:226\n",
      "\n",
      "  \u001b[2m2025-09-02T06:01:48.350717Z\u001b[0m \u001b[33m WARN\u001b[0m  \u001b[33mRetry attempt #1. Sleeping 662.532651ms before the next attempt\u001b[0m\n",
      "    \u001b[2;3mat\u001b[0m /root/.cargo/registry/src/index.crates.io-1949cf8c6b5b557f/reqwest-retry-0.7.0/src/middleware.rs:171\n",
      "\n",
      "  \u001b[2m2025-09-02T06:01:48.792755Z\u001b[0m \u001b[33m WARN\u001b[0m  \u001b[33mReqwest(reqwest::Error { kind: Request, url: \"https://cas-server.xethub.hf.co/reconstruction/b13368f86a48745ec6a089895a0b017a8f2586795ec3981adaa5196fc4de2491\", source: hyper_util::client::legacy::Error(Connect, Custom { kind: Other, error: Custom { kind: InvalidData, error: InvalidCertificate(UnknownIssuer) } }) }). Retrying...\u001b[0m\n",
      "    \u001b[2;3mat\u001b[0m /home/runner/work/xet-core/xet-core/cas_client/src/http_client.rs:226\n",
      "\n",
      "  \u001b[2m2025-09-02T06:01:48.792779Z\u001b[0m \u001b[33m WARN\u001b[0m  \u001b[33mRetry attempt #1. Sleeping 5.839655568s before the next attempt\u001b[0m\n",
      "    \u001b[2;3mat\u001b[0m /root/.cargo/registry/src/index.crates.io-1949cf8c6b5b557f/reqwest-retry-0.7.0/src/middleware.rs:171\n",
      "\n",
      "  \u001b[2m2025-09-02T06:01:48.828333Z\u001b[0m \u001b[33m WARN\u001b[0m  \u001b[33mReqwest(reqwest::Error { kind: Request, url: \"https://cas-server.xethub.hf.co/reconstruction/ef7a843eb373d8b3f696889e57b80dc66a33212c3959717273801bd71708ed94\", source: hyper_util::client::legacy::Error(Connect, Custom { kind: Other, error: Custom { kind: InvalidData, error: InvalidCertificate(UnknownIssuer) } }) }). Retrying...\u001b[0m\n",
      "    \u001b[2;3mat\u001b[0m /home/runner/work/xet-core/xet-core/cas_client/src/http_client.rs:226\n",
      "\n",
      "  \u001b[2m2025-09-02T06:01:48.828357Z\u001b[0m \u001b[33m WARN\u001b[0m  \u001b[33mRetry attempt #1. Sleeping 3.764817095s before the next attempt\u001b[0m\n",
      "    \u001b[2;3mat\u001b[0m /root/.cargo/registry/src/index.crates.io-1949cf8c6b5b557f/reqwest-retry-0.7.0/src/middleware.rs:171\n",
      "\n",
      "  \u001b[2m2025-09-02T06:01:49.509284Z\u001b[0m \u001b[33m WARN\u001b[0m  \u001b[33mReqwest(reqwest::Error { kind: Request, url: \"https://cas-server.xethub.hf.co/reconstruction/dcd64227684fce133b4d75c45ed9287b077a0d2a8fa76dfdfba45ab30bf0e77a\", source: hyper_util::client::legacy::Error(Connect, Custom { kind: Other, error: Custom { kind: InvalidData, error: InvalidCertificate(UnknownIssuer) } }) }). Retrying...\u001b[0m\n",
      "    \u001b[2;3mat\u001b[0m /home/runner/work/xet-core/xet-core/cas_client/src/http_client.rs:226\n",
      "\n",
      "  \u001b[2m2025-09-02T06:01:49.509312Z\u001b[0m \u001b[33m WARN\u001b[0m  \u001b[33mRetry attempt #2. Sleeping 3.983460124s before the next attempt\u001b[0m\n",
      "    \u001b[2;3mat\u001b[0m /root/.cargo/registry/src/index.crates.io-1949cf8c6b5b557f/reqwest-retry-0.7.0/src/middleware.rs:171\n",
      "\n",
      "  \u001b[2m2025-09-02T06:01:49.537809Z\u001b[0m \u001b[33m WARN\u001b[0m  \u001b[33mReqwest(reqwest::Error { kind: Request, url: \"https://cas-server.xethub.hf.co/reconstruction/c177a242da1e187ca4f4274cee4910fe62dac6ef3c6e6fcedac77b7b22430087\", source: hyper_util::client::legacy::Error(Connect, Custom { kind: Other, error: Custom { kind: InvalidData, error: InvalidCertificate(UnknownIssuer) } }) }). Retrying...\u001b[0m\n",
      "    \u001b[2;3mat\u001b[0m /home/runner/work/xet-core/xet-core/cas_client/src/http_client.rs:226\n",
      "\n",
      "  \u001b[2m2025-09-02T06:01:49.537833Z\u001b[0m \u001b[33m WARN\u001b[0m  \u001b[33mRetry attempt #1. Sleeping 5.036503189s before the next attempt\u001b[0m\n",
      "    \u001b[2;3mat\u001b[0m /root/.cargo/registry/src/index.crates.io-1949cf8c6b5b557f/reqwest-retry-0.7.0/src/middleware.rs:171\n",
      "\n",
      "  \u001b[2m2025-09-02T06:01:53.087977Z\u001b[0m \u001b[33m WARN\u001b[0m  \u001b[33mReqwest(reqwest::Error { kind: Request, url: \"https://cas-server.xethub.hf.co/reconstruction/ef7a843eb373d8b3f696889e57b80dc66a33212c3959717273801bd71708ed94\", source: hyper_util::client::legacy::Error(Connect, Custom { kind: Other, error: Custom { kind: InvalidData, error: InvalidCertificate(UnknownIssuer) } }) }). Retrying...\u001b[0m\n",
      "    \u001b[2;3mat\u001b[0m /home/runner/work/xet-core/xet-core/cas_client/src/http_client.rs:226\n",
      "\n",
      "  \u001b[2m2025-09-02T06:01:53.088006Z\u001b[0m \u001b[33m WARN\u001b[0m  \u001b[33mRetry attempt #2. Sleeping 504.254758ms before the next attempt\u001b[0m\n",
      "    \u001b[2;3mat\u001b[0m /root/.cargo/registry/src/index.crates.io-1949cf8c6b5b557f/reqwest-retry-0.7.0/src/middleware.rs:171\n",
      "\n",
      "  \u001b[2m2025-09-02T06:01:53.990782Z\u001b[0m \u001b[33m WARN\u001b[0m  \u001b[33mReqwest(reqwest::Error { kind: Request, url: \"https://cas-server.xethub.hf.co/reconstruction/dcd64227684fce133b4d75c45ed9287b077a0d2a8fa76dfdfba45ab30bf0e77a\", source: hyper_util::client::legacy::Error(Connect, Custom { kind: Other, error: Custom { kind: InvalidData, error: InvalidCertificate(UnknownIssuer) } }) }). Retrying...\u001b[0m\n",
      "    \u001b[2;3mat\u001b[0m /home/runner/work/xet-core/xet-core/cas_client/src/http_client.rs:226\n",
      "\n",
      "  \u001b[2m2025-09-02T06:01:53.990812Z\u001b[0m \u001b[33m WARN\u001b[0m  \u001b[33mRetry attempt #3. Sleeping 7.297576481s before the next attempt\u001b[0m\n",
      "    \u001b[2;3mat\u001b[0m /root/.cargo/registry/src/index.crates.io-1949cf8c6b5b557f/reqwest-retry-0.7.0/src/middleware.rs:171\n",
      "\n",
      "  \u001b[2m2025-09-02T06:01:54.090828Z\u001b[0m \u001b[33m WARN\u001b[0m  \u001b[33mReqwest(reqwest::Error { kind: Request, url: \"https://cas-server.xethub.hf.co/reconstruction/ef7a843eb373d8b3f696889e57b80dc66a33212c3959717273801bd71708ed94\", source: hyper_util::client::legacy::Error(Connect, Custom { kind: Other, error: Custom { kind: InvalidData, error: InvalidCertificate(UnknownIssuer) } }) }). Retrying...\u001b[0m\n",
      "    \u001b[2;3mat\u001b[0m /home/runner/work/xet-core/xet-core/cas_client/src/http_client.rs:226\n",
      "\n",
      "  \u001b[2m2025-09-02T06:01:54.090851Z\u001b[0m \u001b[33m WARN\u001b[0m  \u001b[33mRetry attempt #3. Sleeping 9.467753989s before the next attempt\u001b[0m\n",
      "    \u001b[2;3mat\u001b[0m /root/.cargo/registry/src/index.crates.io-1949cf8c6b5b557f/reqwest-retry-0.7.0/src/middleware.rs:171\n",
      "\n"
     ]
    },
    {
     "name": "stdout",
     "output_type": "stream",
     "text": [
      "  \u001b[2m2025-09-02T06:01:55.072040Z\u001b[0m \u001b[33m WARN\u001b[0m  \u001b[33mReqwest(reqwest::Error { kind: Request, url: \"https://cas-server.xethub.hf.co/reconstruction/c177a242da1e187ca4f4274cee4910fe62dac6ef3c6e6fcedac77b7b22430087\", source: hyper_util::client::legacy::Error(Connect, Custom { kind: Other, error: Custom { kind: InvalidData, error: InvalidCertificate(UnknownIssuer) } }) }). Retrying...\u001b[0m\n",
      "    \u001b[2;3mat\u001b[0m /home/runner/work/xet-core/xet-core/cas_client/src/http_client.rs:226\n",
      "\n",
      "  \u001b[2m2025-09-02T06:01:55.072064Z\u001b[0m \u001b[33m WARN\u001b[0m  \u001b[33mRetry attempt #2. Sleeping 10.020597552s before the next attempt\u001b[0m\n",
      "    \u001b[2;3mat\u001b[0m /root/.cargo/registry/src/index.crates.io-1949cf8c6b5b557f/reqwest-retry-0.7.0/src/middleware.rs:171\n",
      "\n",
      "  \u001b[2m2025-09-02T06:01:55.126824Z\u001b[0m \u001b[33m WARN\u001b[0m  \u001b[33mReqwest(reqwest::Error { kind: Request, url: \"https://cas-server.xethub.hf.co/reconstruction/b13368f86a48745ec6a089895a0b017a8f2586795ec3981adaa5196fc4de2491\", source: hyper_util::client::legacy::Error(Connect, Custom { kind: Other, error: Custom { kind: InvalidData, error: InvalidCertificate(UnknownIssuer) } }) }). Retrying...\u001b[0m\n",
      "    \u001b[2;3mat\u001b[0m /home/runner/work/xet-core/xet-core/cas_client/src/http_client.rs:226\n",
      "\n",
      "  \u001b[2m2025-09-02T06:01:55.126848Z\u001b[0m \u001b[33m WARN\u001b[0m  \u001b[33mRetry attempt #2. Sleeping 8.980456973s before the next attempt\u001b[0m\n",
      "    \u001b[2;3mat\u001b[0m /root/.cargo/registry/src/index.crates.io-1949cf8c6b5b557f/reqwest-retry-0.7.0/src/middleware.rs:171\n",
      "\n",
      "  \u001b[2m2025-09-02T06:02:01.789026Z\u001b[0m \u001b[33m WARN\u001b[0m  \u001b[33mReqwest(reqwest::Error { kind: Request, url: \"https://cas-server.xethub.hf.co/reconstruction/dcd64227684fce133b4d75c45ed9287b077a0d2a8fa76dfdfba45ab30bf0e77a\", source: hyper_util::client::legacy::Error(Connect, Custom { kind: Other, error: Custom { kind: InvalidData, error: InvalidCertificate(UnknownIssuer) } }) }). Retrying...\u001b[0m\n",
      "    \u001b[2;3mat\u001b[0m /home/runner/work/xet-core/xet-core/cas_client/src/http_client.rs:226\n",
      "\n",
      "  \u001b[2m2025-09-02T06:02:01.789059Z\u001b[0m \u001b[33m WARN\u001b[0m  \u001b[33mRetry attempt #4. Sleeping 8.912941372s before the next attempt\u001b[0m\n",
      "    \u001b[2;3mat\u001b[0m /root/.cargo/registry/src/index.crates.io-1949cf8c6b5b557f/reqwest-retry-0.7.0/src/middleware.rs:171\n",
      "\n",
      "  \u001b[2m2025-09-02T06:02:04.056001Z\u001b[0m \u001b[33m WARN\u001b[0m  \u001b[33mReqwest(reqwest::Error { kind: Request, url: \"https://cas-server.xethub.hf.co/reconstruction/ef7a843eb373d8b3f696889e57b80dc66a33212c3959717273801bd71708ed94\", source: hyper_util::client::legacy::Error(Connect, Custom { kind: Other, error: Custom { kind: InvalidData, error: InvalidCertificate(UnknownIssuer) } }) }). Retrying...\u001b[0m\n",
      "    \u001b[2;3mat\u001b[0m /home/runner/work/xet-core/xet-core/cas_client/src/http_client.rs:226\n",
      "\n",
      "  \u001b[2m2025-09-02T06:02:04.056032Z\u001b[0m \u001b[33m WARN\u001b[0m  \u001b[33mRetry attempt #4. Sleeping 2.471041438s before the next attempt\u001b[0m\n",
      "    \u001b[2;3mat\u001b[0m /root/.cargo/registry/src/index.crates.io-1949cf8c6b5b557f/reqwest-retry-0.7.0/src/middleware.rs:171\n",
      "\n",
      "  \u001b[2m2025-09-02T06:02:04.606611Z\u001b[0m \u001b[33m WARN\u001b[0m  \u001b[33mReqwest(reqwest::Error { kind: Request, url: \"https://cas-server.xethub.hf.co/reconstruction/b13368f86a48745ec6a089895a0b017a8f2586795ec3981adaa5196fc4de2491\", source: hyper_util::client::legacy::Error(Connect, Custom { kind: Other, error: Custom { kind: InvalidData, error: InvalidCertificate(UnknownIssuer) } }) }). Retrying...\u001b[0m\n",
      "    \u001b[2;3mat\u001b[0m /home/runner/work/xet-core/xet-core/cas_client/src/http_client.rs:226\n",
      "\n",
      "  \u001b[2m2025-09-02T06:02:04.606642Z\u001b[0m \u001b[33m WARN\u001b[0m  \u001b[33mRetry attempt #3. Sleeping 18.032369274s before the next attempt\u001b[0m\n",
      "    \u001b[2;3mat\u001b[0m /root/.cargo/registry/src/index.crates.io-1949cf8c6b5b557f/reqwest-retry-0.7.0/src/middleware.rs:171\n",
      "\n",
      "  \u001b[2m2025-09-02T06:02:05.591064Z\u001b[0m \u001b[33m WARN\u001b[0m  \u001b[33mReqwest(reqwest::Error { kind: Request, url: \"https://cas-server.xethub.hf.co/reconstruction/c177a242da1e187ca4f4274cee4910fe62dac6ef3c6e6fcedac77b7b22430087\", source: hyper_util::client::legacy::Error(Connect, Custom { kind: Other, error: Custom { kind: InvalidData, error: InvalidCertificate(UnknownIssuer) } }) }). Retrying...\u001b[0m\n",
      "    \u001b[2;3mat\u001b[0m /home/runner/work/xet-core/xet-core/cas_client/src/http_client.rs:226\n",
      "\n",
      "  \u001b[2m2025-09-02T06:02:05.591089Z\u001b[0m \u001b[33m WARN\u001b[0m  \u001b[33mRetry attempt #3. Sleeping 21.010841514s before the next attempt\u001b[0m\n",
      "    \u001b[2;3mat\u001b[0m /root/.cargo/registry/src/index.crates.io-1949cf8c6b5b557f/reqwest-retry-0.7.0/src/middleware.rs:171\n",
      "\n",
      "  \u001b[2m2025-09-02T06:02:07.024533Z\u001b[0m \u001b[33m WARN\u001b[0m  \u001b[33mReqwest(reqwest::Error { kind: Request, url: \"https://cas-server.xethub.hf.co/reconstruction/ef7a843eb373d8b3f696889e57b80dc66a33212c3959717273801bd71708ed94\", source: hyper_util::client::legacy::Error(Connect, Custom { kind: Other, error: Custom { kind: InvalidData, error: InvalidCertificate(UnknownIssuer) } }) }). Retrying...\u001b[0m\n",
      "    \u001b[2;3mat\u001b[0m /home/runner/work/xet-core/xet-core/cas_client/src/http_client.rs:226\n",
      "\n",
      "  \u001b[2m2025-09-02T06:02:07.024574Z\u001b[0m \u001b[31mERROR\u001b[0m  \u001b[31merror invoking get_reconstruction api, error: ReqwestMiddlewareError(Middleware(Request failed after 5 retries\n",
      "\n",
      "Caused by:\n",
      "    0: error sending request for url (https://cas-server.xethub.hf.co/reconstruction/ef7a843eb373d8b3f696889e57b80dc66a33212c3959717273801bd71708ed94)\n",
      "    1: client error (Connect)\n",
      "    2: invalid peer certificate: UnknownIssuer)), \u001b[1;31mcaller\u001b[0m\u001b[31m: \"/home/runner/work/xet-core/xet-core/cas_client/src/http_client.rs:322\"\u001b[0m\n",
      "    \u001b[2;3mat\u001b[0m /home/runner/work/xet-core/xet-core/error_printer/src/lib.rs:28\n",
      "\n",
      "  \u001b[2m2025-09-02T06:02:11.200874Z\u001b[0m \u001b[33m WARN\u001b[0m  \u001b[33mReqwest(reqwest::Error { kind: Request, url: \"https://cas-server.xethub.hf.co/reconstruction/dcd64227684fce133b4d75c45ed9287b077a0d2a8fa76dfdfba45ab30bf0e77a\", source: hyper_util::client::legacy::Error(Connect, Custom { kind: Other, error: Custom { kind: InvalidData, error: InvalidCertificate(UnknownIssuer) } }) }). Retrying...\u001b[0m\n",
      "    \u001b[2;3mat\u001b[0m /home/runner/work/xet-core/xet-core/cas_client/src/http_client.rs:226\n",
      "\n",
      "  \u001b[2m2025-09-02T06:02:11.200913Z\u001b[0m \u001b[31mERROR\u001b[0m  \u001b[31merror invoking get_reconstruction api, error: ReqwestMiddlewareError(Middleware(Request failed after 5 retries\n",
      "\n",
      "Caused by:\n",
      "    0: error sending request for url (https://cas-server.xethub.hf.co/reconstruction/dcd64227684fce133b4d75c45ed9287b077a0d2a8fa76dfdfba45ab30bf0e77a)\n",
      "    1: client error (Connect)\n",
      "    2: invalid peer certificate: UnknownIssuer)), \u001b[1;31mcaller\u001b[0m\u001b[31m: \"/home/runner/work/xet-core/xet-core/cas_client/src/http_client.rs:322\"\u001b[0m\n",
      "    \u001b[2;3mat\u001b[0m /home/runner/work/xet-core/xet-core/error_printer/src/lib.rs:28\n",
      "\n",
      "  \u001b[2m2025-09-02T06:02:23.143989Z\u001b[0m \u001b[33m WARN\u001b[0m  \u001b[33mReqwest(reqwest::Error { kind: Request, url: \"https://cas-server.xethub.hf.co/reconstruction/b13368f86a48745ec6a089895a0b017a8f2586795ec3981adaa5196fc4de2491\", source: hyper_util::client::legacy::Error(Connect, Custom { kind: Other, error: Custom { kind: InvalidData, error: InvalidCertificate(UnknownIssuer) } }) }). Retrying...\u001b[0m\n",
      "    \u001b[2;3mat\u001b[0m /home/runner/work/xet-core/xet-core/cas_client/src/http_client.rs:226\n",
      "\n",
      "  \u001b[2m2025-09-02T06:02:23.144021Z\u001b[0m \u001b[33m WARN\u001b[0m  \u001b[33mRetry attempt #4. Sleeping 42.397768881s before the next attempt\u001b[0m\n",
      "    \u001b[2;3mat\u001b[0m /root/.cargo/registry/src/index.crates.io-1949cf8c6b5b557f/reqwest-retry-0.7.0/src/middleware.rs:171\n",
      "\n",
      "  \u001b[2m2025-09-02T06:02:27.099099Z\u001b[0m \u001b[33m WARN\u001b[0m  \u001b[33mReqwest(reqwest::Error { kind: Request, url: \"https://cas-server.xethub.hf.co/reconstruction/c177a242da1e187ca4f4274cee4910fe62dac6ef3c6e6fcedac77b7b22430087\", source: hyper_util::client::legacy::Error(Connect, Custom { kind: Other, error: Custom { kind: InvalidData, error: InvalidCertificate(UnknownIssuer) } }) }). Retrying...\u001b[0m\n",
      "    \u001b[2;3mat\u001b[0m /home/runner/work/xet-core/xet-core/cas_client/src/http_client.rs:226\n",
      "\n",
      "  \u001b[2m2025-09-02T06:02:27.099132Z\u001b[0m \u001b[33m WARN\u001b[0m  \u001b[33mRetry attempt #4. Sleeping 12.989926438s before the next attempt\u001b[0m\n",
      "    \u001b[2;3mat\u001b[0m /root/.cargo/registry/src/index.crates.io-1949cf8c6b5b557f/reqwest-retry-0.7.0/src/middleware.rs:171\n",
      "\n",
      "  \u001b[2m2025-09-02T06:02:40.588289Z\u001b[0m \u001b[33m WARN\u001b[0m  \u001b[33mReqwest(reqwest::Error { kind: Request, url: \"https://cas-server.xethub.hf.co/reconstruction/c177a242da1e187ca4f4274cee4910fe62dac6ef3c6e6fcedac77b7b22430087\", source: hyper_util::client::legacy::Error(Connect, Custom { kind: Other, error: Custom { kind: InvalidData, error: InvalidCertificate(UnknownIssuer) } }) }). Retrying...\u001b[0m\n",
      "    \u001b[2;3mat\u001b[0m /home/runner/work/xet-core/xet-core/cas_client/src/http_client.rs:226\n",
      "\n",
      "  \u001b[2m2025-09-02T06:02:40.588330Z\u001b[0m \u001b[31mERROR\u001b[0m  \u001b[31merror invoking get_reconstruction api, error: ReqwestMiddlewareError(Middleware(Request failed after 5 retries\n",
      "\n",
      "Caused by:\n",
      "    0: error sending request for url (https://cas-server.xethub.hf.co/reconstruction/c177a242da1e187ca4f4274cee4910fe62dac6ef3c6e6fcedac77b7b22430087)\n",
      "    1: client error (Connect)\n",
      "    2: invalid peer certificate: UnknownIssuer)), \u001b[1;31mcaller\u001b[0m\u001b[31m: \"/home/runner/work/xet-core/xet-core/cas_client/src/http_client.rs:322\"\u001b[0m\n",
      "    \u001b[2;3mat\u001b[0m /home/runner/work/xet-core/xet-core/error_printer/src/lib.rs:28\n",
      "\n"
     ]
    },
    {
     "name": "stdout",
     "output_type": "stream",
     "text": [
      "  \u001b[2m2025-09-02T06:03:06.060168Z\u001b[0m \u001b[33m WARN\u001b[0m  \u001b[33mReqwest(reqwest::Error { kind: Request, url: \"https://cas-server.xethub.hf.co/reconstruction/b13368f86a48745ec6a089895a0b017a8f2586795ec3981adaa5196fc4de2491\", source: hyper_util::client::legacy::Error(Connect, Custom { kind: Other, error: Custom { kind: InvalidData, error: InvalidCertificate(UnknownIssuer) } }) }). Retrying...\u001b[0m\n",
      "    \u001b[2;3mat\u001b[0m /home/runner/work/xet-core/xet-core/cas_client/src/http_client.rs:226\n",
      "\n",
      "  \u001b[2m2025-09-02T06:03:06.060207Z\u001b[0m \u001b[31mERROR\u001b[0m  \u001b[31merror invoking get_reconstruction api, error: ReqwestMiddlewareError(Middleware(Request failed after 5 retries\n",
      "\n",
      "Caused by:\n",
      "    0: error sending request for url (https://cas-server.xethub.hf.co/reconstruction/b13368f86a48745ec6a089895a0b017a8f2586795ec3981adaa5196fc4de2491)\n",
      "    1: client error (Connect)\n",
      "    2: invalid peer certificate: UnknownIssuer)), \u001b[1;31mcaller\u001b[0m\u001b[31m: \"/home/runner/work/xet-core/xet-core/cas_client/src/http_client.rs:322\"\u001b[0m\n",
      "    \u001b[2;3mat\u001b[0m /home/runner/work/xet-core/xet-core/error_printer/src/lib.rs:28\n",
      "\n"
     ]
    },
    {
     "ename": "RuntimeError",
     "evalue": "Data processing error: CAS service error : ReqwestMiddleware Error: Request failed after 5 retries",
     "output_type": "error",
     "traceback": [
      "\u001b[0;31m---------------------------------------------------------------------------\u001b[0m",
      "\u001b[0;31mRuntimeError\u001b[0m                              Traceback (most recent call last)",
      "Cell \u001b[0;32mIn[19], line 4\u001b[0m\n\u001b[1;32m      2\u001b[0m \u001b[38;5;66;03m#model_name = 'LGAI-EXAONE/EXAONE-4.0-1.2B' #naver-hyperclovax/HyperCLOVAX-SEED-Text-Instruct-1.5B'\u001b[39;00m\n\u001b[1;32m      3\u001b[0m model_name \u001b[38;5;241m=\u001b[39m \u001b[38;5;124m'\u001b[39m\u001b[38;5;124mKISTI-KONI/KONI-4B-base-20250819\u001b[39m\u001b[38;5;124m'\u001b[39m\n\u001b[0;32m----> 4\u001b[0m model \u001b[38;5;241m=\u001b[39m \u001b[43mAutoModelForCausalLM\u001b[49m\u001b[38;5;241;43m.\u001b[39;49m\u001b[43mfrom_pretrained\u001b[49m\u001b[43m(\u001b[49m\u001b[43mmodel_name\u001b[49m\u001b[43m,\u001b[49m\u001b[43m \u001b[49m\u001b[43mtrust_remote_code\u001b[49m\u001b[38;5;241;43m=\u001b[39;49m\u001b[38;5;28;43;01mTrue\u001b[39;49;00m\u001b[43m)\u001b[49m\n",
      "File \u001b[0;32m~/anaconda3/envs/apollo/lib/python3.10/site-packages/transformers/models/auto/auto_factory.py:604\u001b[0m, in \u001b[0;36m_BaseAutoModelClass.from_pretrained\u001b[0;34m(cls, pretrained_model_name_or_path, *model_args, **kwargs)\u001b[0m\n\u001b[1;32m    602\u001b[0m     \u001b[38;5;28;01mif\u001b[39;00m model_class\u001b[38;5;241m.\u001b[39mconfig_class \u001b[38;5;241m==\u001b[39m config\u001b[38;5;241m.\u001b[39msub_configs\u001b[38;5;241m.\u001b[39mget(\u001b[38;5;124m\"\u001b[39m\u001b[38;5;124mtext_config\u001b[39m\u001b[38;5;124m\"\u001b[39m, \u001b[38;5;28;01mNone\u001b[39;00m):\n\u001b[1;32m    603\u001b[0m         config \u001b[38;5;241m=\u001b[39m config\u001b[38;5;241m.\u001b[39mget_text_config()\n\u001b[0;32m--> 604\u001b[0m     \u001b[38;5;28;01mreturn\u001b[39;00m \u001b[43mmodel_class\u001b[49m\u001b[38;5;241;43m.\u001b[39;49m\u001b[43mfrom_pretrained\u001b[49m\u001b[43m(\u001b[49m\n\u001b[1;32m    605\u001b[0m \u001b[43m        \u001b[49m\u001b[43mpretrained_model_name_or_path\u001b[49m\u001b[43m,\u001b[49m\u001b[43m \u001b[49m\u001b[38;5;241;43m*\u001b[39;49m\u001b[43mmodel_args\u001b[49m\u001b[43m,\u001b[49m\u001b[43m \u001b[49m\u001b[43mconfig\u001b[49m\u001b[38;5;241;43m=\u001b[39;49m\u001b[43mconfig\u001b[49m\u001b[43m,\u001b[49m\u001b[43m \u001b[49m\u001b[38;5;241;43m*\u001b[39;49m\u001b[38;5;241;43m*\u001b[39;49m\u001b[43mhub_kwargs\u001b[49m\u001b[43m,\u001b[49m\u001b[43m \u001b[49m\u001b[38;5;241;43m*\u001b[39;49m\u001b[38;5;241;43m*\u001b[39;49m\u001b[43mkwargs\u001b[49m\n\u001b[1;32m    606\u001b[0m \u001b[43m    \u001b[49m\u001b[43m)\u001b[49m\n\u001b[1;32m    607\u001b[0m \u001b[38;5;28;01mraise\u001b[39;00m \u001b[38;5;167;01mValueError\u001b[39;00m(\n\u001b[1;32m    608\u001b[0m     \u001b[38;5;124mf\u001b[39m\u001b[38;5;124m\"\u001b[39m\u001b[38;5;124mUnrecognized configuration class \u001b[39m\u001b[38;5;132;01m{\u001b[39;00mconfig\u001b[38;5;241m.\u001b[39m\u001b[38;5;18m__class__\u001b[39m\u001b[38;5;132;01m}\u001b[39;00m\u001b[38;5;124m for this kind of AutoModel: \u001b[39m\u001b[38;5;132;01m{\u001b[39;00m\u001b[38;5;28mcls\u001b[39m\u001b[38;5;241m.\u001b[39m\u001b[38;5;18m__name__\u001b[39m\u001b[38;5;132;01m}\u001b[39;00m\u001b[38;5;124m.\u001b[39m\u001b[38;5;130;01m\\n\u001b[39;00m\u001b[38;5;124m\"\u001b[39m\n\u001b[1;32m    609\u001b[0m     \u001b[38;5;124mf\u001b[39m\u001b[38;5;124m\"\u001b[39m\u001b[38;5;124mModel type should be one of \u001b[39m\u001b[38;5;132;01m{\u001b[39;00m\u001b[38;5;124m'\u001b[39m\u001b[38;5;124m, \u001b[39m\u001b[38;5;124m'\u001b[39m\u001b[38;5;241m.\u001b[39mjoin(c\u001b[38;5;241m.\u001b[39m\u001b[38;5;18m__name__\u001b[39m\u001b[38;5;250m \u001b[39m\u001b[38;5;28;01mfor\u001b[39;00m\u001b[38;5;250m \u001b[39mc\u001b[38;5;250m \u001b[39m\u001b[38;5;129;01min\u001b[39;00m\u001b[38;5;250m \u001b[39m\u001b[38;5;28mcls\u001b[39m\u001b[38;5;241m.\u001b[39m_model_mapping)\u001b[38;5;132;01m}\u001b[39;00m\u001b[38;5;124m.\u001b[39m\u001b[38;5;124m\"\u001b[39m\n\u001b[1;32m    610\u001b[0m )\n",
      "File \u001b[0;32m~/anaconda3/envs/apollo/lib/python3.10/site-packages/transformers/modeling_utils.py:288\u001b[0m, in \u001b[0;36mrestore_default_dtype.<locals>._wrapper\u001b[0;34m(*args, **kwargs)\u001b[0m\n\u001b[1;32m    286\u001b[0m old_dtype \u001b[38;5;241m=\u001b[39m torch\u001b[38;5;241m.\u001b[39mget_default_dtype()\n\u001b[1;32m    287\u001b[0m \u001b[38;5;28;01mtry\u001b[39;00m:\n\u001b[0;32m--> 288\u001b[0m     \u001b[38;5;28;01mreturn\u001b[39;00m \u001b[43mfunc\u001b[49m\u001b[43m(\u001b[49m\u001b[38;5;241;43m*\u001b[39;49m\u001b[43margs\u001b[49m\u001b[43m,\u001b[49m\u001b[43m \u001b[49m\u001b[38;5;241;43m*\u001b[39;49m\u001b[38;5;241;43m*\u001b[39;49m\u001b[43mkwargs\u001b[49m\u001b[43m)\u001b[49m\n\u001b[1;32m    289\u001b[0m \u001b[38;5;28;01mfinally\u001b[39;00m:\n\u001b[1;32m    290\u001b[0m     torch\u001b[38;5;241m.\u001b[39mset_default_dtype(old_dtype)\n",
      "File \u001b[0;32m~/anaconda3/envs/apollo/lib/python3.10/site-packages/transformers/modeling_utils.py:5027\u001b[0m, in \u001b[0;36mPreTrainedModel.from_pretrained\u001b[0;34m(cls, pretrained_model_name_or_path, config, cache_dir, ignore_mismatched_sizes, force_download, local_files_only, token, revision, use_safetensors, weights_only, *model_args, **kwargs)\u001b[0m\n\u001b[1;32m   5017\u001b[0m \u001b[38;5;28;01mif\u001b[39;00m (\n\u001b[1;32m   5018\u001b[0m     gguf_file\n\u001b[1;32m   5019\u001b[0m     \u001b[38;5;129;01mand\u001b[39;00m device_map \u001b[38;5;129;01mis\u001b[39;00m \u001b[38;5;129;01mnot\u001b[39;00m \u001b[38;5;28;01mNone\u001b[39;00m\n\u001b[1;32m   5020\u001b[0m     \u001b[38;5;129;01mand\u001b[39;00m ((\u001b[38;5;28misinstance\u001b[39m(device_map, \u001b[38;5;28mdict\u001b[39m) \u001b[38;5;129;01mand\u001b[39;00m \u001b[38;5;124m\"\u001b[39m\u001b[38;5;124mdisk\u001b[39m\u001b[38;5;124m\"\u001b[39m \u001b[38;5;129;01min\u001b[39;00m device_map\u001b[38;5;241m.\u001b[39mvalues()) \u001b[38;5;129;01mor\u001b[39;00m \u001b[38;5;124m\"\u001b[39m\u001b[38;5;124mdisk\u001b[39m\u001b[38;5;124m\"\u001b[39m \u001b[38;5;129;01min\u001b[39;00m device_map)\n\u001b[1;32m   5021\u001b[0m ):\n\u001b[1;32m   5022\u001b[0m     \u001b[38;5;28;01mraise\u001b[39;00m \u001b[38;5;167;01mRuntimeError\u001b[39;00m(\n\u001b[1;32m   5023\u001b[0m         \u001b[38;5;124m\"\u001b[39m\u001b[38;5;124mOne or more modules is configured to be mapped to disk. Disk offload is not supported for models \u001b[39m\u001b[38;5;124m\"\u001b[39m\n\u001b[1;32m   5024\u001b[0m         \u001b[38;5;124m\"\u001b[39m\u001b[38;5;124mloaded from GGUF files.\u001b[39m\u001b[38;5;124m\"\u001b[39m\n\u001b[1;32m   5025\u001b[0m     )\n\u001b[0;32m-> 5027\u001b[0m checkpoint_files, sharded_metadata \u001b[38;5;241m=\u001b[39m \u001b[43m_get_resolved_checkpoint_files\u001b[49m\u001b[43m(\u001b[49m\n\u001b[1;32m   5028\u001b[0m \u001b[43m    \u001b[49m\u001b[43mpretrained_model_name_or_path\u001b[49m\u001b[38;5;241;43m=\u001b[39;49m\u001b[43mpretrained_model_name_or_path\u001b[49m\u001b[43m,\u001b[49m\n\u001b[1;32m   5029\u001b[0m \u001b[43m    \u001b[49m\u001b[43msubfolder\u001b[49m\u001b[38;5;241;43m=\u001b[39;49m\u001b[43msubfolder\u001b[49m\u001b[43m,\u001b[49m\n\u001b[1;32m   5030\u001b[0m \u001b[43m    \u001b[49m\u001b[43mvariant\u001b[49m\u001b[38;5;241;43m=\u001b[39;49m\u001b[43mvariant\u001b[49m\u001b[43m,\u001b[49m\n\u001b[1;32m   5031\u001b[0m \u001b[43m    \u001b[49m\u001b[43mgguf_file\u001b[49m\u001b[38;5;241;43m=\u001b[39;49m\u001b[43mgguf_file\u001b[49m\u001b[43m,\u001b[49m\n\u001b[1;32m   5032\u001b[0m \u001b[43m    \u001b[49m\u001b[43mfrom_tf\u001b[49m\u001b[38;5;241;43m=\u001b[39;49m\u001b[43mfrom_tf\u001b[49m\u001b[43m,\u001b[49m\n\u001b[1;32m   5033\u001b[0m \u001b[43m    \u001b[49m\u001b[43mfrom_flax\u001b[49m\u001b[38;5;241;43m=\u001b[39;49m\u001b[43mfrom_flax\u001b[49m\u001b[43m,\u001b[49m\n\u001b[1;32m   5034\u001b[0m \u001b[43m    \u001b[49m\u001b[43muse_safetensors\u001b[49m\u001b[38;5;241;43m=\u001b[39;49m\u001b[43muse_safetensors\u001b[49m\u001b[43m,\u001b[49m\n\u001b[1;32m   5035\u001b[0m \u001b[43m    \u001b[49m\u001b[43mcache_dir\u001b[49m\u001b[38;5;241;43m=\u001b[39;49m\u001b[43mcache_dir\u001b[49m\u001b[43m,\u001b[49m\n\u001b[1;32m   5036\u001b[0m \u001b[43m    \u001b[49m\u001b[43mforce_download\u001b[49m\u001b[38;5;241;43m=\u001b[39;49m\u001b[43mforce_download\u001b[49m\u001b[43m,\u001b[49m\n\u001b[1;32m   5037\u001b[0m \u001b[43m    \u001b[49m\u001b[43mproxies\u001b[49m\u001b[38;5;241;43m=\u001b[39;49m\u001b[43mproxies\u001b[49m\u001b[43m,\u001b[49m\n\u001b[1;32m   5038\u001b[0m \u001b[43m    \u001b[49m\u001b[43mlocal_files_only\u001b[49m\u001b[38;5;241;43m=\u001b[39;49m\u001b[43mlocal_files_only\u001b[49m\u001b[43m,\u001b[49m\n\u001b[1;32m   5039\u001b[0m \u001b[43m    \u001b[49m\u001b[43mtoken\u001b[49m\u001b[38;5;241;43m=\u001b[39;49m\u001b[43mtoken\u001b[49m\u001b[43m,\u001b[49m\n\u001b[1;32m   5040\u001b[0m \u001b[43m    \u001b[49m\u001b[43muser_agent\u001b[49m\u001b[38;5;241;43m=\u001b[39;49m\u001b[43muser_agent\u001b[49m\u001b[43m,\u001b[49m\n\u001b[1;32m   5041\u001b[0m \u001b[43m    \u001b[49m\u001b[43mrevision\u001b[49m\u001b[38;5;241;43m=\u001b[39;49m\u001b[43mrevision\u001b[49m\u001b[43m,\u001b[49m\n\u001b[1;32m   5042\u001b[0m \u001b[43m    \u001b[49m\u001b[43mcommit_hash\u001b[49m\u001b[38;5;241;43m=\u001b[39;49m\u001b[43mcommit_hash\u001b[49m\u001b[43m,\u001b[49m\n\u001b[1;32m   5043\u001b[0m \u001b[43m    \u001b[49m\u001b[43mis_remote_code\u001b[49m\u001b[38;5;241;43m=\u001b[39;49m\u001b[38;5;28;43mcls\u001b[39;49m\u001b[38;5;241;43m.\u001b[39;49m\u001b[43m_auto_class\u001b[49m\u001b[43m \u001b[49m\u001b[38;5;129;43;01mis\u001b[39;49;00m\u001b[43m \u001b[49m\u001b[38;5;129;43;01mnot\u001b[39;49;00m\u001b[43m \u001b[49m\u001b[38;5;28;43;01mNone\u001b[39;49;00m\u001b[43m,\u001b[49m\n\u001b[1;32m   5044\u001b[0m \u001b[43m    \u001b[49m\u001b[43mtransformers_explicit_filename\u001b[49m\u001b[38;5;241;43m=\u001b[39;49m\u001b[43mtransformers_explicit_filename\u001b[49m\u001b[43m,\u001b[49m\n\u001b[1;32m   5045\u001b[0m \u001b[43m\u001b[49m\u001b[43m)\u001b[49m\n\u001b[1;32m   5047\u001b[0m is_sharded \u001b[38;5;241m=\u001b[39m sharded_metadata \u001b[38;5;129;01mis\u001b[39;00m \u001b[38;5;129;01mnot\u001b[39;00m \u001b[38;5;28;01mNone\u001b[39;00m\n\u001b[1;32m   5048\u001b[0m is_quantized \u001b[38;5;241m=\u001b[39m hf_quantizer \u001b[38;5;129;01mis\u001b[39;00m \u001b[38;5;129;01mnot\u001b[39;00m \u001b[38;5;28;01mNone\u001b[39;00m\n",
      "File \u001b[0;32m~/anaconda3/envs/apollo/lib/python3.10/site-packages/transformers/modeling_utils.py:1308\u001b[0m, in \u001b[0;36m_get_resolved_checkpoint_files\u001b[0;34m(pretrained_model_name_or_path, subfolder, variant, gguf_file, from_tf, from_flax, use_safetensors, cache_dir, force_download, proxies, local_files_only, token, user_agent, revision, commit_hash, is_remote_code, transformers_explicit_filename)\u001b[0m\n\u001b[1;32m   1306\u001b[0m sharded_metadata \u001b[38;5;241m=\u001b[39m \u001b[38;5;28;01mNone\u001b[39;00m\n\u001b[1;32m   1307\u001b[0m \u001b[38;5;28;01mif\u001b[39;00m is_sharded:\n\u001b[0;32m-> 1308\u001b[0m     checkpoint_files, sharded_metadata \u001b[38;5;241m=\u001b[39m \u001b[43mget_checkpoint_shard_files\u001b[49m\u001b[43m(\u001b[49m\n\u001b[1;32m   1309\u001b[0m \u001b[43m        \u001b[49m\u001b[43mpretrained_model_name_or_path\u001b[49m\u001b[43m,\u001b[49m\n\u001b[1;32m   1310\u001b[0m \u001b[43m        \u001b[49m\u001b[43mresolved_archive_file\u001b[49m\u001b[43m,\u001b[49m\n\u001b[1;32m   1311\u001b[0m \u001b[43m        \u001b[49m\u001b[43mcache_dir\u001b[49m\u001b[38;5;241;43m=\u001b[39;49m\u001b[43mcache_dir\u001b[49m\u001b[43m,\u001b[49m\n\u001b[1;32m   1312\u001b[0m \u001b[43m        \u001b[49m\u001b[43mforce_download\u001b[49m\u001b[38;5;241;43m=\u001b[39;49m\u001b[43mforce_download\u001b[49m\u001b[43m,\u001b[49m\n\u001b[1;32m   1313\u001b[0m \u001b[43m        \u001b[49m\u001b[43mproxies\u001b[49m\u001b[38;5;241;43m=\u001b[39;49m\u001b[43mproxies\u001b[49m\u001b[43m,\u001b[49m\n\u001b[1;32m   1314\u001b[0m \u001b[43m        \u001b[49m\u001b[43mlocal_files_only\u001b[49m\u001b[38;5;241;43m=\u001b[39;49m\u001b[43mlocal_files_only\u001b[49m\u001b[43m,\u001b[49m\n\u001b[1;32m   1315\u001b[0m \u001b[43m        \u001b[49m\u001b[43mtoken\u001b[49m\u001b[38;5;241;43m=\u001b[39;49m\u001b[43mtoken\u001b[49m\u001b[43m,\u001b[49m\n\u001b[1;32m   1316\u001b[0m \u001b[43m        \u001b[49m\u001b[43muser_agent\u001b[49m\u001b[38;5;241;43m=\u001b[39;49m\u001b[43muser_agent\u001b[49m\u001b[43m,\u001b[49m\n\u001b[1;32m   1317\u001b[0m \u001b[43m        \u001b[49m\u001b[43mrevision\u001b[49m\u001b[38;5;241;43m=\u001b[39;49m\u001b[43mrevision\u001b[49m\u001b[43m,\u001b[49m\n\u001b[1;32m   1318\u001b[0m \u001b[43m        \u001b[49m\u001b[43msubfolder\u001b[49m\u001b[38;5;241;43m=\u001b[39;49m\u001b[43msubfolder\u001b[49m\u001b[43m,\u001b[49m\n\u001b[1;32m   1319\u001b[0m \u001b[43m        \u001b[49m\u001b[43m_commit_hash\u001b[49m\u001b[38;5;241;43m=\u001b[39;49m\u001b[43mcommit_hash\u001b[49m\u001b[43m,\u001b[49m\n\u001b[1;32m   1320\u001b[0m \u001b[43m    \u001b[49m\u001b[43m)\u001b[49m\n\u001b[1;32m   1321\u001b[0m \u001b[38;5;28;01melse\u001b[39;00m:\n\u001b[1;32m   1322\u001b[0m     checkpoint_files \u001b[38;5;241m=\u001b[39m [resolved_archive_file] \u001b[38;5;28;01mif\u001b[39;00m pretrained_model_name_or_path \u001b[38;5;129;01mis\u001b[39;00m \u001b[38;5;129;01mnot\u001b[39;00m \u001b[38;5;28;01mNone\u001b[39;00m \u001b[38;5;28;01melse\u001b[39;00m \u001b[38;5;28;01mNone\u001b[39;00m\n",
      "File \u001b[0;32m~/anaconda3/envs/apollo/lib/python3.10/site-packages/transformers/utils/hub.py:1119\u001b[0m, in \u001b[0;36mget_checkpoint_shard_files\u001b[0;34m(pretrained_model_name_or_path, index_filename, cache_dir, force_download, proxies, resume_download, local_files_only, token, user_agent, revision, subfolder, _commit_hash, **deprecated_kwargs)\u001b[0m\n\u001b[1;32m   1115\u001b[0m     \u001b[38;5;28;01mreturn\u001b[39;00m shard_filenames, sharded_metadata\n\u001b[1;32m   1117\u001b[0m \u001b[38;5;66;03m# At this stage pretrained_model_name_or_path is a model identifier on the Hub. Try to get everything from cache,\u001b[39;00m\n\u001b[1;32m   1118\u001b[0m \u001b[38;5;66;03m# or download the files\u001b[39;00m\n\u001b[0;32m-> 1119\u001b[0m cached_filenames \u001b[38;5;241m=\u001b[39m \u001b[43mcached_files\u001b[49m\u001b[43m(\u001b[49m\n\u001b[1;32m   1120\u001b[0m \u001b[43m    \u001b[49m\u001b[43mpretrained_model_name_or_path\u001b[49m\u001b[43m,\u001b[49m\n\u001b[1;32m   1121\u001b[0m \u001b[43m    \u001b[49m\u001b[43mshard_filenames\u001b[49m\u001b[43m,\u001b[49m\n\u001b[1;32m   1122\u001b[0m \u001b[43m    \u001b[49m\u001b[43mcache_dir\u001b[49m\u001b[38;5;241;43m=\u001b[39;49m\u001b[43mcache_dir\u001b[49m\u001b[43m,\u001b[49m\n\u001b[1;32m   1123\u001b[0m \u001b[43m    \u001b[49m\u001b[43mforce_download\u001b[49m\u001b[38;5;241;43m=\u001b[39;49m\u001b[43mforce_download\u001b[49m\u001b[43m,\u001b[49m\n\u001b[1;32m   1124\u001b[0m \u001b[43m    \u001b[49m\u001b[43mproxies\u001b[49m\u001b[38;5;241;43m=\u001b[39;49m\u001b[43mproxies\u001b[49m\u001b[43m,\u001b[49m\n\u001b[1;32m   1125\u001b[0m \u001b[43m    \u001b[49m\u001b[43mresume_download\u001b[49m\u001b[38;5;241;43m=\u001b[39;49m\u001b[43mresume_download\u001b[49m\u001b[43m,\u001b[49m\n\u001b[1;32m   1126\u001b[0m \u001b[43m    \u001b[49m\u001b[43mlocal_files_only\u001b[49m\u001b[38;5;241;43m=\u001b[39;49m\u001b[43mlocal_files_only\u001b[49m\u001b[43m,\u001b[49m\n\u001b[1;32m   1127\u001b[0m \u001b[43m    \u001b[49m\u001b[43mtoken\u001b[49m\u001b[38;5;241;43m=\u001b[39;49m\u001b[43mtoken\u001b[49m\u001b[43m,\u001b[49m\n\u001b[1;32m   1128\u001b[0m \u001b[43m    \u001b[49m\u001b[43muser_agent\u001b[49m\u001b[38;5;241;43m=\u001b[39;49m\u001b[43muser_agent\u001b[49m\u001b[43m,\u001b[49m\n\u001b[1;32m   1129\u001b[0m \u001b[43m    \u001b[49m\u001b[43mrevision\u001b[49m\u001b[38;5;241;43m=\u001b[39;49m\u001b[43mrevision\u001b[49m\u001b[43m,\u001b[49m\n\u001b[1;32m   1130\u001b[0m \u001b[43m    \u001b[49m\u001b[43msubfolder\u001b[49m\u001b[38;5;241;43m=\u001b[39;49m\u001b[43msubfolder\u001b[49m\u001b[43m,\u001b[49m\n\u001b[1;32m   1131\u001b[0m \u001b[43m    \u001b[49m\u001b[43m_commit_hash\u001b[49m\u001b[38;5;241;43m=\u001b[39;49m\u001b[43m_commit_hash\u001b[49m\u001b[43m,\u001b[49m\n\u001b[1;32m   1132\u001b[0m \u001b[43m\u001b[49m\u001b[43m)\u001b[49m\n\u001b[1;32m   1134\u001b[0m \u001b[38;5;28;01mreturn\u001b[39;00m cached_filenames, sharded_metadata\n",
      "File \u001b[0;32m~/anaconda3/envs/apollo/lib/python3.10/site-packages/transformers/utils/hub.py:566\u001b[0m, in \u001b[0;36mcached_files\u001b[0;34m(path_or_repo_id, filenames, cache_dir, force_download, resume_download, proxies, token, revision, local_files_only, subfolder, repo_type, user_agent, _raise_exceptions_for_gated_repo, _raise_exceptions_for_missing_entries, _raise_exceptions_for_connection_errors, _commit_hash, **deprecated_kwargs)\u001b[0m\n\u001b[1;32m    563\u001b[0m     \u001b[38;5;66;03m# Any other Exception type should now be re-raised, in order to provide helpful error messages and break the execution flow\u001b[39;00m\n\u001b[1;32m    564\u001b[0m     \u001b[38;5;66;03m# (EntryNotFoundError will be treated outside this block and correctly re-raised if needed)\u001b[39;00m\n\u001b[1;32m    565\u001b[0m     \u001b[38;5;28;01melif\u001b[39;00m \u001b[38;5;129;01mnot\u001b[39;00m \u001b[38;5;28misinstance\u001b[39m(e, EntryNotFoundError):\n\u001b[0;32m--> 566\u001b[0m         \u001b[38;5;28;01mraise\u001b[39;00m e\n\u001b[1;32m    568\u001b[0m resolved_files \u001b[38;5;241m=\u001b[39m [\n\u001b[1;32m    569\u001b[0m     _get_cache_file_to_return(path_or_repo_id, filename, cache_dir, revision) \u001b[38;5;28;01mfor\u001b[39;00m filename \u001b[38;5;129;01min\u001b[39;00m full_filenames\n\u001b[1;32m    570\u001b[0m ]\n\u001b[1;32m    571\u001b[0m \u001b[38;5;66;03m# If there are any missing file and the flag is active, raise\u001b[39;00m\n",
      "File \u001b[0;32m~/anaconda3/envs/apollo/lib/python3.10/site-packages/transformers/utils/hub.py:493\u001b[0m, in \u001b[0;36mcached_files\u001b[0;34m(path_or_repo_id, filenames, cache_dir, force_download, resume_download, proxies, token, revision, local_files_only, subfolder, repo_type, user_agent, _raise_exceptions_for_gated_repo, _raise_exceptions_for_missing_entries, _raise_exceptions_for_connection_errors, _commit_hash, **deprecated_kwargs)\u001b[0m\n\u001b[1;32m    478\u001b[0m         hf_hub_download(\n\u001b[1;32m    479\u001b[0m             path_or_repo_id,\n\u001b[1;32m    480\u001b[0m             filenames[\u001b[38;5;241m0\u001b[39m],\n\u001b[0;32m   (...)\u001b[0m\n\u001b[1;32m    490\u001b[0m             local_files_only\u001b[38;5;241m=\u001b[39mlocal_files_only,\n\u001b[1;32m    491\u001b[0m         )\n\u001b[1;32m    492\u001b[0m     \u001b[38;5;28;01melse\u001b[39;00m:\n\u001b[0;32m--> 493\u001b[0m         \u001b[43msnapshot_download\u001b[49m\u001b[43m(\u001b[49m\n\u001b[1;32m    494\u001b[0m \u001b[43m            \u001b[49m\u001b[43mpath_or_repo_id\u001b[49m\u001b[43m,\u001b[49m\n\u001b[1;32m    495\u001b[0m \u001b[43m            \u001b[49m\u001b[43mallow_patterns\u001b[49m\u001b[38;5;241;43m=\u001b[39;49m\u001b[43mfull_filenames\u001b[49m\u001b[43m,\u001b[49m\n\u001b[1;32m    496\u001b[0m \u001b[43m            \u001b[49m\u001b[43mrepo_type\u001b[49m\u001b[38;5;241;43m=\u001b[39;49m\u001b[43mrepo_type\u001b[49m\u001b[43m,\u001b[49m\n\u001b[1;32m    497\u001b[0m \u001b[43m            \u001b[49m\u001b[43mrevision\u001b[49m\u001b[38;5;241;43m=\u001b[39;49m\u001b[43mrevision\u001b[49m\u001b[43m,\u001b[49m\n\u001b[1;32m    498\u001b[0m \u001b[43m            \u001b[49m\u001b[43mcache_dir\u001b[49m\u001b[38;5;241;43m=\u001b[39;49m\u001b[43mcache_dir\u001b[49m\u001b[43m,\u001b[49m\n\u001b[1;32m    499\u001b[0m \u001b[43m            \u001b[49m\u001b[43muser_agent\u001b[49m\u001b[38;5;241;43m=\u001b[39;49m\u001b[43muser_agent\u001b[49m\u001b[43m,\u001b[49m\n\u001b[1;32m    500\u001b[0m \u001b[43m            \u001b[49m\u001b[43mforce_download\u001b[49m\u001b[38;5;241;43m=\u001b[39;49m\u001b[43mforce_download\u001b[49m\u001b[43m,\u001b[49m\n\u001b[1;32m    501\u001b[0m \u001b[43m            \u001b[49m\u001b[43mproxies\u001b[49m\u001b[38;5;241;43m=\u001b[39;49m\u001b[43mproxies\u001b[49m\u001b[43m,\u001b[49m\n\u001b[1;32m    502\u001b[0m \u001b[43m            \u001b[49m\u001b[43mresume_download\u001b[49m\u001b[38;5;241;43m=\u001b[39;49m\u001b[43mresume_download\u001b[49m\u001b[43m,\u001b[49m\n\u001b[1;32m    503\u001b[0m \u001b[43m            \u001b[49m\u001b[43mtoken\u001b[49m\u001b[38;5;241;43m=\u001b[39;49m\u001b[43mtoken\u001b[49m\u001b[43m,\u001b[49m\n\u001b[1;32m    504\u001b[0m \u001b[43m            \u001b[49m\u001b[43mlocal_files_only\u001b[49m\u001b[38;5;241;43m=\u001b[39;49m\u001b[43mlocal_files_only\u001b[49m\u001b[43m,\u001b[49m\n\u001b[1;32m    505\u001b[0m \u001b[43m        \u001b[49m\u001b[43m)\u001b[49m\n\u001b[1;32m    507\u001b[0m \u001b[38;5;28;01mexcept\u001b[39;00m \u001b[38;5;167;01mException\u001b[39;00m \u001b[38;5;28;01mas\u001b[39;00m e:\n\u001b[1;32m    508\u001b[0m     \u001b[38;5;66;03m# We cannot recover from them\u001b[39;00m\n\u001b[1;32m    509\u001b[0m     \u001b[38;5;28;01mif\u001b[39;00m \u001b[38;5;28misinstance\u001b[39m(e, RepositoryNotFoundError) \u001b[38;5;129;01mand\u001b[39;00m \u001b[38;5;129;01mnot\u001b[39;00m \u001b[38;5;28misinstance\u001b[39m(e, GatedRepoError):\n",
      "File \u001b[0;32m~/anaconda3/envs/apollo/lib/python3.10/site-packages/huggingface_hub/utils/_validators.py:114\u001b[0m, in \u001b[0;36mvalidate_hf_hub_args.<locals>._inner_fn\u001b[0;34m(*args, **kwargs)\u001b[0m\n\u001b[1;32m    111\u001b[0m \u001b[38;5;28;01mif\u001b[39;00m check_use_auth_token:\n\u001b[1;32m    112\u001b[0m     kwargs \u001b[38;5;241m=\u001b[39m smoothly_deprecate_use_auth_token(fn_name\u001b[38;5;241m=\u001b[39mfn\u001b[38;5;241m.\u001b[39m\u001b[38;5;18m__name__\u001b[39m, has_token\u001b[38;5;241m=\u001b[39mhas_token, kwargs\u001b[38;5;241m=\u001b[39mkwargs)\n\u001b[0;32m--> 114\u001b[0m \u001b[38;5;28;01mreturn\u001b[39;00m \u001b[43mfn\u001b[49m\u001b[43m(\u001b[49m\u001b[38;5;241;43m*\u001b[39;49m\u001b[43margs\u001b[49m\u001b[43m,\u001b[49m\u001b[43m \u001b[49m\u001b[38;5;241;43m*\u001b[39;49m\u001b[38;5;241;43m*\u001b[39;49m\u001b[43mkwargs\u001b[49m\u001b[43m)\u001b[49m\n",
      "File \u001b[0;32m~/anaconda3/envs/apollo/lib/python3.10/site-packages/huggingface_hub/_snapshot_download.py:332\u001b[0m, in \u001b[0;36msnapshot_download\u001b[0;34m(repo_id, repo_type, revision, cache_dir, local_dir, library_name, library_version, user_agent, proxies, etag_timeout, force_download, token, local_files_only, allow_patterns, ignore_patterns, max_workers, tqdm_class, headers, endpoint, local_dir_use_symlinks, resume_download)\u001b[0m\n\u001b[1;32m    330\u001b[0m         _inner_hf_hub_download(file)\n\u001b[1;32m    331\u001b[0m \u001b[38;5;28;01melse\u001b[39;00m:\n\u001b[0;32m--> 332\u001b[0m     \u001b[43mthread_map\u001b[49m\u001b[43m(\u001b[49m\n\u001b[1;32m    333\u001b[0m \u001b[43m        \u001b[49m\u001b[43m_inner_hf_hub_download\u001b[49m\u001b[43m,\u001b[49m\n\u001b[1;32m    334\u001b[0m \u001b[43m        \u001b[49m\u001b[43mfiltered_repo_files\u001b[49m\u001b[43m,\u001b[49m\n\u001b[1;32m    335\u001b[0m \u001b[43m        \u001b[49m\u001b[43mdesc\u001b[49m\u001b[38;5;241;43m=\u001b[39;49m\u001b[43mtqdm_desc\u001b[49m\u001b[43m,\u001b[49m\n\u001b[1;32m    336\u001b[0m \u001b[43m        \u001b[49m\u001b[43mmax_workers\u001b[49m\u001b[38;5;241;43m=\u001b[39;49m\u001b[43mmax_workers\u001b[49m\u001b[43m,\u001b[49m\n\u001b[1;32m    337\u001b[0m \u001b[43m        \u001b[49m\u001b[38;5;66;43;03m# User can use its own tqdm class or the default one from `huggingface_hub.utils`\u001b[39;49;00m\n\u001b[1;32m    338\u001b[0m \u001b[43m        \u001b[49m\u001b[43mtqdm_class\u001b[49m\u001b[38;5;241;43m=\u001b[39;49m\u001b[43mtqdm_class\u001b[49m\u001b[43m \u001b[49m\u001b[38;5;129;43;01mor\u001b[39;49;00m\u001b[43m \u001b[49m\u001b[43mhf_tqdm\u001b[49m\u001b[43m,\u001b[49m\n\u001b[1;32m    339\u001b[0m \u001b[43m    \u001b[49m\u001b[43m)\u001b[49m\n\u001b[1;32m    341\u001b[0m \u001b[38;5;28;01mif\u001b[39;00m local_dir \u001b[38;5;129;01mis\u001b[39;00m \u001b[38;5;129;01mnot\u001b[39;00m \u001b[38;5;28;01mNone\u001b[39;00m:\n\u001b[1;32m    342\u001b[0m     \u001b[38;5;28;01mreturn\u001b[39;00m \u001b[38;5;28mstr\u001b[39m(os\u001b[38;5;241m.\u001b[39mpath\u001b[38;5;241m.\u001b[39mrealpath(local_dir))\n",
      "File \u001b[0;32m~/anaconda3/envs/apollo/lib/python3.10/site-packages/tqdm/contrib/concurrent.py:69\u001b[0m, in \u001b[0;36mthread_map\u001b[0;34m(fn, *iterables, **tqdm_kwargs)\u001b[0m\n\u001b[1;32m     55\u001b[0m \u001b[38;5;250m\u001b[39m\u001b[38;5;124;03m\"\"\"\u001b[39;00m\n\u001b[1;32m     56\u001b[0m \u001b[38;5;124;03mEquivalent of `list(map(fn, *iterables))`\u001b[39;00m\n\u001b[1;32m     57\u001b[0m \u001b[38;5;124;03mdriven by `concurrent.futures.ThreadPoolExecutor`.\u001b[39;00m\n\u001b[0;32m   (...)\u001b[0m\n\u001b[1;32m     66\u001b[0m \u001b[38;5;124;03m    [default: max(32, cpu_count() + 4)].\u001b[39;00m\n\u001b[1;32m     67\u001b[0m \u001b[38;5;124;03m\"\"\"\u001b[39;00m\n\u001b[1;32m     68\u001b[0m \u001b[38;5;28;01mfrom\u001b[39;00m\u001b[38;5;250m \u001b[39m\u001b[38;5;21;01mconcurrent\u001b[39;00m\u001b[38;5;21;01m.\u001b[39;00m\u001b[38;5;21;01mfutures\u001b[39;00m\u001b[38;5;250m \u001b[39m\u001b[38;5;28;01mimport\u001b[39;00m ThreadPoolExecutor\n\u001b[0;32m---> 69\u001b[0m \u001b[38;5;28;01mreturn\u001b[39;00m \u001b[43m_executor_map\u001b[49m\u001b[43m(\u001b[49m\u001b[43mThreadPoolExecutor\u001b[49m\u001b[43m,\u001b[49m\u001b[43m \u001b[49m\u001b[43mfn\u001b[49m\u001b[43m,\u001b[49m\u001b[43m \u001b[49m\u001b[38;5;241;43m*\u001b[39;49m\u001b[43miterables\u001b[49m\u001b[43m,\u001b[49m\u001b[43m \u001b[49m\u001b[38;5;241;43m*\u001b[39;49m\u001b[38;5;241;43m*\u001b[39;49m\u001b[43mtqdm_kwargs\u001b[49m\u001b[43m)\u001b[49m\n",
      "File \u001b[0;32m~/anaconda3/envs/apollo/lib/python3.10/site-packages/tqdm/contrib/concurrent.py:51\u001b[0m, in \u001b[0;36m_executor_map\u001b[0;34m(PoolExecutor, fn, *iterables, **tqdm_kwargs)\u001b[0m\n\u001b[1;32m     47\u001b[0m \u001b[38;5;28;01mwith\u001b[39;00m ensure_lock(tqdm_class, lock_name\u001b[38;5;241m=\u001b[39mlock_name) \u001b[38;5;28;01mas\u001b[39;00m lk:\n\u001b[1;32m     48\u001b[0m     \u001b[38;5;66;03m# share lock in case workers are already using `tqdm`\u001b[39;00m\n\u001b[1;32m     49\u001b[0m     \u001b[38;5;28;01mwith\u001b[39;00m PoolExecutor(max_workers\u001b[38;5;241m=\u001b[39mmax_workers, initializer\u001b[38;5;241m=\u001b[39mtqdm_class\u001b[38;5;241m.\u001b[39mset_lock,\n\u001b[1;32m     50\u001b[0m                       initargs\u001b[38;5;241m=\u001b[39m(lk,)) \u001b[38;5;28;01mas\u001b[39;00m ex:\n\u001b[0;32m---> 51\u001b[0m         \u001b[38;5;28;01mreturn\u001b[39;00m \u001b[38;5;28;43mlist\u001b[39;49m\u001b[43m(\u001b[49m\u001b[43mtqdm_class\u001b[49m\u001b[43m(\u001b[49m\u001b[43mex\u001b[49m\u001b[38;5;241;43m.\u001b[39;49m\u001b[43mmap\u001b[49m\u001b[43m(\u001b[49m\u001b[43mfn\u001b[49m\u001b[43m,\u001b[49m\u001b[43m \u001b[49m\u001b[38;5;241;43m*\u001b[39;49m\u001b[43miterables\u001b[49m\u001b[43m,\u001b[49m\u001b[43m \u001b[49m\u001b[43mchunksize\u001b[49m\u001b[38;5;241;43m=\u001b[39;49m\u001b[43mchunksize\u001b[49m\u001b[43m)\u001b[49m\u001b[43m,\u001b[49m\u001b[43m \u001b[49m\u001b[38;5;241;43m*\u001b[39;49m\u001b[38;5;241;43m*\u001b[39;49m\u001b[43mkwargs\u001b[49m\u001b[43m)\u001b[49m\u001b[43m)\u001b[49m\n",
      "File \u001b[0;32m~/anaconda3/envs/apollo/lib/python3.10/site-packages/tqdm/notebook.py:250\u001b[0m, in \u001b[0;36mtqdm_notebook.__iter__\u001b[0;34m(self)\u001b[0m\n\u001b[1;32m    248\u001b[0m \u001b[38;5;28;01mtry\u001b[39;00m:\n\u001b[1;32m    249\u001b[0m     it \u001b[38;5;241m=\u001b[39m \u001b[38;5;28msuper\u001b[39m()\u001b[38;5;241m.\u001b[39m\u001b[38;5;21m__iter__\u001b[39m()\n\u001b[0;32m--> 250\u001b[0m     \u001b[38;5;28;01mfor\u001b[39;00m obj \u001b[38;5;129;01min\u001b[39;00m it:\n\u001b[1;32m    251\u001b[0m         \u001b[38;5;66;03m# return super(tqdm...) will not catch exception\u001b[39;00m\n\u001b[1;32m    252\u001b[0m         \u001b[38;5;28;01myield\u001b[39;00m obj\n\u001b[1;32m    253\u001b[0m \u001b[38;5;66;03m# NB: except ... [ as ...] breaks IPython async KeyboardInterrupt\u001b[39;00m\n",
      "File \u001b[0;32m~/anaconda3/envs/apollo/lib/python3.10/site-packages/tqdm/std.py:1181\u001b[0m, in \u001b[0;36mtqdm.__iter__\u001b[0;34m(self)\u001b[0m\n\u001b[1;32m   1178\u001b[0m time \u001b[38;5;241m=\u001b[39m \u001b[38;5;28mself\u001b[39m\u001b[38;5;241m.\u001b[39m_time\n\u001b[1;32m   1180\u001b[0m \u001b[38;5;28;01mtry\u001b[39;00m:\n\u001b[0;32m-> 1181\u001b[0m     \u001b[38;5;28;01mfor\u001b[39;00m obj \u001b[38;5;129;01min\u001b[39;00m iterable:\n\u001b[1;32m   1182\u001b[0m         \u001b[38;5;28;01myield\u001b[39;00m obj\n\u001b[1;32m   1183\u001b[0m         \u001b[38;5;66;03m# Update and possibly print the progressbar.\u001b[39;00m\n\u001b[1;32m   1184\u001b[0m         \u001b[38;5;66;03m# Note: does not call self.update(1) for speed optimisation.\u001b[39;00m\n",
      "File \u001b[0;32m~/anaconda3/envs/apollo/lib/python3.10/concurrent/futures/_base.py:621\u001b[0m, in \u001b[0;36mExecutor.map.<locals>.result_iterator\u001b[0;34m()\u001b[0m\n\u001b[1;32m    618\u001b[0m \u001b[38;5;28;01mwhile\u001b[39;00m fs:\n\u001b[1;32m    619\u001b[0m     \u001b[38;5;66;03m# Careful not to keep a reference to the popped future\u001b[39;00m\n\u001b[1;32m    620\u001b[0m     \u001b[38;5;28;01mif\u001b[39;00m timeout \u001b[38;5;129;01mis\u001b[39;00m \u001b[38;5;28;01mNone\u001b[39;00m:\n\u001b[0;32m--> 621\u001b[0m         \u001b[38;5;28;01myield\u001b[39;00m \u001b[43m_result_or_cancel\u001b[49m\u001b[43m(\u001b[49m\u001b[43mfs\u001b[49m\u001b[38;5;241;43m.\u001b[39;49m\u001b[43mpop\u001b[49m\u001b[43m(\u001b[49m\u001b[43m)\u001b[49m\u001b[43m)\u001b[49m\n\u001b[1;32m    622\u001b[0m     \u001b[38;5;28;01melse\u001b[39;00m:\n\u001b[1;32m    623\u001b[0m         \u001b[38;5;28;01myield\u001b[39;00m _result_or_cancel(fs\u001b[38;5;241m.\u001b[39mpop(), end_time \u001b[38;5;241m-\u001b[39m time\u001b[38;5;241m.\u001b[39mmonotonic())\n",
      "File \u001b[0;32m~/anaconda3/envs/apollo/lib/python3.10/concurrent/futures/_base.py:319\u001b[0m, in \u001b[0;36m_result_or_cancel\u001b[0;34m(***failed resolving arguments***)\u001b[0m\n\u001b[1;32m    317\u001b[0m \u001b[38;5;28;01mtry\u001b[39;00m:\n\u001b[1;32m    318\u001b[0m     \u001b[38;5;28;01mtry\u001b[39;00m:\n\u001b[0;32m--> 319\u001b[0m         \u001b[38;5;28;01mreturn\u001b[39;00m \u001b[43mfut\u001b[49m\u001b[38;5;241;43m.\u001b[39;49m\u001b[43mresult\u001b[49m\u001b[43m(\u001b[49m\u001b[43mtimeout\u001b[49m\u001b[43m)\u001b[49m\n\u001b[1;32m    320\u001b[0m     \u001b[38;5;28;01mfinally\u001b[39;00m:\n\u001b[1;32m    321\u001b[0m         fut\u001b[38;5;241m.\u001b[39mcancel()\n",
      "File \u001b[0;32m~/anaconda3/envs/apollo/lib/python3.10/concurrent/futures/_base.py:458\u001b[0m, in \u001b[0;36mFuture.result\u001b[0;34m(self, timeout)\u001b[0m\n\u001b[1;32m    456\u001b[0m     \u001b[38;5;28;01mraise\u001b[39;00m CancelledError()\n\u001b[1;32m    457\u001b[0m \u001b[38;5;28;01melif\u001b[39;00m \u001b[38;5;28mself\u001b[39m\u001b[38;5;241m.\u001b[39m_state \u001b[38;5;241m==\u001b[39m FINISHED:\n\u001b[0;32m--> 458\u001b[0m     \u001b[38;5;28;01mreturn\u001b[39;00m \u001b[38;5;28;43mself\u001b[39;49m\u001b[38;5;241;43m.\u001b[39;49m\u001b[43m__get_result\u001b[49m\u001b[43m(\u001b[49m\u001b[43m)\u001b[49m\n\u001b[1;32m    459\u001b[0m \u001b[38;5;28;01melse\u001b[39;00m:\n\u001b[1;32m    460\u001b[0m     \u001b[38;5;28;01mraise\u001b[39;00m \u001b[38;5;167;01mTimeoutError\u001b[39;00m()\n",
      "File \u001b[0;32m~/anaconda3/envs/apollo/lib/python3.10/concurrent/futures/_base.py:403\u001b[0m, in \u001b[0;36mFuture.__get_result\u001b[0;34m(self)\u001b[0m\n\u001b[1;32m    401\u001b[0m \u001b[38;5;28;01mif\u001b[39;00m \u001b[38;5;28mself\u001b[39m\u001b[38;5;241m.\u001b[39m_exception:\n\u001b[1;32m    402\u001b[0m     \u001b[38;5;28;01mtry\u001b[39;00m:\n\u001b[0;32m--> 403\u001b[0m         \u001b[38;5;28;01mraise\u001b[39;00m \u001b[38;5;28mself\u001b[39m\u001b[38;5;241m.\u001b[39m_exception\n\u001b[1;32m    404\u001b[0m     \u001b[38;5;28;01mfinally\u001b[39;00m:\n\u001b[1;32m    405\u001b[0m         \u001b[38;5;66;03m# Break a reference cycle with the exception in self._exception\u001b[39;00m\n\u001b[1;32m    406\u001b[0m         \u001b[38;5;28mself\u001b[39m \u001b[38;5;241m=\u001b[39m \u001b[38;5;28;01mNone\u001b[39;00m\n",
      "File \u001b[0;32m~/anaconda3/envs/apollo/lib/python3.10/concurrent/futures/thread.py:58\u001b[0m, in \u001b[0;36m_WorkItem.run\u001b[0;34m(self)\u001b[0m\n\u001b[1;32m     55\u001b[0m     \u001b[38;5;28;01mreturn\u001b[39;00m\n\u001b[1;32m     57\u001b[0m \u001b[38;5;28;01mtry\u001b[39;00m:\n\u001b[0;32m---> 58\u001b[0m     result \u001b[38;5;241m=\u001b[39m \u001b[38;5;28;43mself\u001b[39;49m\u001b[38;5;241;43m.\u001b[39;49m\u001b[43mfn\u001b[49m\u001b[43m(\u001b[49m\u001b[38;5;241;43m*\u001b[39;49m\u001b[38;5;28;43mself\u001b[39;49m\u001b[38;5;241;43m.\u001b[39;49m\u001b[43margs\u001b[49m\u001b[43m,\u001b[49m\u001b[43m \u001b[49m\u001b[38;5;241;43m*\u001b[39;49m\u001b[38;5;241;43m*\u001b[39;49m\u001b[38;5;28;43mself\u001b[39;49m\u001b[38;5;241;43m.\u001b[39;49m\u001b[43mkwargs\u001b[49m\u001b[43m)\u001b[49m\n\u001b[1;32m     59\u001b[0m \u001b[38;5;28;01mexcept\u001b[39;00m \u001b[38;5;167;01mBaseException\u001b[39;00m \u001b[38;5;28;01mas\u001b[39;00m exc:\n\u001b[1;32m     60\u001b[0m     \u001b[38;5;28mself\u001b[39m\u001b[38;5;241m.\u001b[39mfuture\u001b[38;5;241m.\u001b[39mset_exception(exc)\n",
      "File \u001b[0;32m~/anaconda3/envs/apollo/lib/python3.10/site-packages/huggingface_hub/_snapshot_download.py:306\u001b[0m, in \u001b[0;36msnapshot_download.<locals>._inner_hf_hub_download\u001b[0;34m(repo_file)\u001b[0m\n\u001b[1;32m    305\u001b[0m \u001b[38;5;28;01mdef\u001b[39;00m\u001b[38;5;250m \u001b[39m\u001b[38;5;21m_inner_hf_hub_download\u001b[39m(repo_file: \u001b[38;5;28mstr\u001b[39m):\n\u001b[0;32m--> 306\u001b[0m     \u001b[38;5;28;01mreturn\u001b[39;00m \u001b[43mhf_hub_download\u001b[49m\u001b[43m(\u001b[49m\n\u001b[1;32m    307\u001b[0m \u001b[43m        \u001b[49m\u001b[43mrepo_id\u001b[49m\u001b[43m,\u001b[49m\n\u001b[1;32m    308\u001b[0m \u001b[43m        \u001b[49m\u001b[43mfilename\u001b[49m\u001b[38;5;241;43m=\u001b[39;49m\u001b[43mrepo_file\u001b[49m\u001b[43m,\u001b[49m\n\u001b[1;32m    309\u001b[0m \u001b[43m        \u001b[49m\u001b[43mrepo_type\u001b[49m\u001b[38;5;241;43m=\u001b[39;49m\u001b[43mrepo_type\u001b[49m\u001b[43m,\u001b[49m\n\u001b[1;32m    310\u001b[0m \u001b[43m        \u001b[49m\u001b[43mrevision\u001b[49m\u001b[38;5;241;43m=\u001b[39;49m\u001b[43mcommit_hash\u001b[49m\u001b[43m,\u001b[49m\n\u001b[1;32m    311\u001b[0m \u001b[43m        \u001b[49m\u001b[43mendpoint\u001b[49m\u001b[38;5;241;43m=\u001b[39;49m\u001b[43mendpoint\u001b[49m\u001b[43m,\u001b[49m\n\u001b[1;32m    312\u001b[0m \u001b[43m        \u001b[49m\u001b[43mcache_dir\u001b[49m\u001b[38;5;241;43m=\u001b[39;49m\u001b[43mcache_dir\u001b[49m\u001b[43m,\u001b[49m\n\u001b[1;32m    313\u001b[0m \u001b[43m        \u001b[49m\u001b[43mlocal_dir\u001b[49m\u001b[38;5;241;43m=\u001b[39;49m\u001b[43mlocal_dir\u001b[49m\u001b[43m,\u001b[49m\n\u001b[1;32m    314\u001b[0m \u001b[43m        \u001b[49m\u001b[43mlocal_dir_use_symlinks\u001b[49m\u001b[38;5;241;43m=\u001b[39;49m\u001b[43mlocal_dir_use_symlinks\u001b[49m\u001b[43m,\u001b[49m\n\u001b[1;32m    315\u001b[0m \u001b[43m        \u001b[49m\u001b[43mlibrary_name\u001b[49m\u001b[38;5;241;43m=\u001b[39;49m\u001b[43mlibrary_name\u001b[49m\u001b[43m,\u001b[49m\n\u001b[1;32m    316\u001b[0m \u001b[43m        \u001b[49m\u001b[43mlibrary_version\u001b[49m\u001b[38;5;241;43m=\u001b[39;49m\u001b[43mlibrary_version\u001b[49m\u001b[43m,\u001b[49m\n\u001b[1;32m    317\u001b[0m \u001b[43m        \u001b[49m\u001b[43muser_agent\u001b[49m\u001b[38;5;241;43m=\u001b[39;49m\u001b[43muser_agent\u001b[49m\u001b[43m,\u001b[49m\n\u001b[1;32m    318\u001b[0m \u001b[43m        \u001b[49m\u001b[43mproxies\u001b[49m\u001b[38;5;241;43m=\u001b[39;49m\u001b[43mproxies\u001b[49m\u001b[43m,\u001b[49m\n\u001b[1;32m    319\u001b[0m \u001b[43m        \u001b[49m\u001b[43metag_timeout\u001b[49m\u001b[38;5;241;43m=\u001b[39;49m\u001b[43metag_timeout\u001b[49m\u001b[43m,\u001b[49m\n\u001b[1;32m    320\u001b[0m \u001b[43m        \u001b[49m\u001b[43mresume_download\u001b[49m\u001b[38;5;241;43m=\u001b[39;49m\u001b[43mresume_download\u001b[49m\u001b[43m,\u001b[49m\n\u001b[1;32m    321\u001b[0m \u001b[43m        \u001b[49m\u001b[43mforce_download\u001b[49m\u001b[38;5;241;43m=\u001b[39;49m\u001b[43mforce_download\u001b[49m\u001b[43m,\u001b[49m\n\u001b[1;32m    322\u001b[0m \u001b[43m        \u001b[49m\u001b[43mtoken\u001b[49m\u001b[38;5;241;43m=\u001b[39;49m\u001b[43mtoken\u001b[49m\u001b[43m,\u001b[49m\n\u001b[1;32m    323\u001b[0m \u001b[43m        \u001b[49m\u001b[43mheaders\u001b[49m\u001b[38;5;241;43m=\u001b[39;49m\u001b[43mheaders\u001b[49m\u001b[43m,\u001b[49m\n\u001b[1;32m    324\u001b[0m \u001b[43m    \u001b[49m\u001b[43m)\u001b[49m\n",
      "File \u001b[0;32m~/anaconda3/envs/apollo/lib/python3.10/site-packages/huggingface_hub/utils/_validators.py:114\u001b[0m, in \u001b[0;36mvalidate_hf_hub_args.<locals>._inner_fn\u001b[0;34m(*args, **kwargs)\u001b[0m\n\u001b[1;32m    111\u001b[0m \u001b[38;5;28;01mif\u001b[39;00m check_use_auth_token:\n\u001b[1;32m    112\u001b[0m     kwargs \u001b[38;5;241m=\u001b[39m smoothly_deprecate_use_auth_token(fn_name\u001b[38;5;241m=\u001b[39mfn\u001b[38;5;241m.\u001b[39m\u001b[38;5;18m__name__\u001b[39m, has_token\u001b[38;5;241m=\u001b[39mhas_token, kwargs\u001b[38;5;241m=\u001b[39mkwargs)\n\u001b[0;32m--> 114\u001b[0m \u001b[38;5;28;01mreturn\u001b[39;00m \u001b[43mfn\u001b[49m\u001b[43m(\u001b[49m\u001b[38;5;241;43m*\u001b[39;49m\u001b[43margs\u001b[49m\u001b[43m,\u001b[49m\u001b[43m \u001b[49m\u001b[38;5;241;43m*\u001b[39;49m\u001b[38;5;241;43m*\u001b[39;49m\u001b[43mkwargs\u001b[49m\u001b[43m)\u001b[49m\n",
      "File \u001b[0;32m~/anaconda3/envs/apollo/lib/python3.10/site-packages/huggingface_hub/file_download.py:1010\u001b[0m, in \u001b[0;36mhf_hub_download\u001b[0;34m(repo_id, filename, subfolder, repo_type, revision, library_name, library_version, cache_dir, local_dir, user_agent, force_download, proxies, etag_timeout, token, local_files_only, headers, endpoint, resume_download, force_filename, local_dir_use_symlinks)\u001b[0m\n\u001b[1;32m    990\u001b[0m     \u001b[38;5;28;01mreturn\u001b[39;00m _hf_hub_download_to_local_dir(\n\u001b[1;32m    991\u001b[0m         \u001b[38;5;66;03m# Destination\u001b[39;00m\n\u001b[1;32m    992\u001b[0m         local_dir\u001b[38;5;241m=\u001b[39mlocal_dir,\n\u001b[0;32m   (...)\u001b[0m\n\u001b[1;32m   1007\u001b[0m         local_files_only\u001b[38;5;241m=\u001b[39mlocal_files_only,\n\u001b[1;32m   1008\u001b[0m     )\n\u001b[1;32m   1009\u001b[0m \u001b[38;5;28;01melse\u001b[39;00m:\n\u001b[0;32m-> 1010\u001b[0m     \u001b[38;5;28;01mreturn\u001b[39;00m \u001b[43m_hf_hub_download_to_cache_dir\u001b[49m\u001b[43m(\u001b[49m\n\u001b[1;32m   1011\u001b[0m \u001b[43m        \u001b[49m\u001b[38;5;66;43;03m# Destination\u001b[39;49;00m\n\u001b[1;32m   1012\u001b[0m \u001b[43m        \u001b[49m\u001b[43mcache_dir\u001b[49m\u001b[38;5;241;43m=\u001b[39;49m\u001b[43mcache_dir\u001b[49m\u001b[43m,\u001b[49m\n\u001b[1;32m   1013\u001b[0m \u001b[43m        \u001b[49m\u001b[38;5;66;43;03m# File info\u001b[39;49;00m\n\u001b[1;32m   1014\u001b[0m \u001b[43m        \u001b[49m\u001b[43mrepo_id\u001b[49m\u001b[38;5;241;43m=\u001b[39;49m\u001b[43mrepo_id\u001b[49m\u001b[43m,\u001b[49m\n\u001b[1;32m   1015\u001b[0m \u001b[43m        \u001b[49m\u001b[43mfilename\u001b[49m\u001b[38;5;241;43m=\u001b[39;49m\u001b[43mfilename\u001b[49m\u001b[43m,\u001b[49m\n\u001b[1;32m   1016\u001b[0m \u001b[43m        \u001b[49m\u001b[43mrepo_type\u001b[49m\u001b[38;5;241;43m=\u001b[39;49m\u001b[43mrepo_type\u001b[49m\u001b[43m,\u001b[49m\n\u001b[1;32m   1017\u001b[0m \u001b[43m        \u001b[49m\u001b[43mrevision\u001b[49m\u001b[38;5;241;43m=\u001b[39;49m\u001b[43mrevision\u001b[49m\u001b[43m,\u001b[49m\n\u001b[1;32m   1018\u001b[0m \u001b[43m        \u001b[49m\u001b[38;5;66;43;03m# HTTP info\u001b[39;49;00m\n\u001b[1;32m   1019\u001b[0m \u001b[43m        \u001b[49m\u001b[43mendpoint\u001b[49m\u001b[38;5;241;43m=\u001b[39;49m\u001b[43mendpoint\u001b[49m\u001b[43m,\u001b[49m\n\u001b[1;32m   1020\u001b[0m \u001b[43m        \u001b[49m\u001b[43metag_timeout\u001b[49m\u001b[38;5;241;43m=\u001b[39;49m\u001b[43metag_timeout\u001b[49m\u001b[43m,\u001b[49m\n\u001b[1;32m   1021\u001b[0m \u001b[43m        \u001b[49m\u001b[43mheaders\u001b[49m\u001b[38;5;241;43m=\u001b[39;49m\u001b[43mhf_headers\u001b[49m\u001b[43m,\u001b[49m\n\u001b[1;32m   1022\u001b[0m \u001b[43m        \u001b[49m\u001b[43mproxies\u001b[49m\u001b[38;5;241;43m=\u001b[39;49m\u001b[43mproxies\u001b[49m\u001b[43m,\u001b[49m\n\u001b[1;32m   1023\u001b[0m \u001b[43m        \u001b[49m\u001b[43mtoken\u001b[49m\u001b[38;5;241;43m=\u001b[39;49m\u001b[43mtoken\u001b[49m\u001b[43m,\u001b[49m\n\u001b[1;32m   1024\u001b[0m \u001b[43m        \u001b[49m\u001b[38;5;66;43;03m# Additional options\u001b[39;49;00m\n\u001b[1;32m   1025\u001b[0m \u001b[43m        \u001b[49m\u001b[43mlocal_files_only\u001b[49m\u001b[38;5;241;43m=\u001b[39;49m\u001b[43mlocal_files_only\u001b[49m\u001b[43m,\u001b[49m\n\u001b[1;32m   1026\u001b[0m \u001b[43m        \u001b[49m\u001b[43mforce_download\u001b[49m\u001b[38;5;241;43m=\u001b[39;49m\u001b[43mforce_download\u001b[49m\u001b[43m,\u001b[49m\n\u001b[1;32m   1027\u001b[0m \u001b[43m    \u001b[49m\u001b[43m)\u001b[49m\n",
      "File \u001b[0;32m~/anaconda3/envs/apollo/lib/python3.10/site-packages/huggingface_hub/file_download.py:1171\u001b[0m, in \u001b[0;36m_hf_hub_download_to_cache_dir\u001b[0;34m(cache_dir, repo_id, filename, repo_type, revision, endpoint, etag_timeout, headers, proxies, token, local_files_only, force_download)\u001b[0m\n\u001b[1;32m   1168\u001b[0m \u001b[38;5;66;03m# Local file doesn't exist or etag isn't a match => retrieve file from remote (or cache)\u001b[39;00m\n\u001b[1;32m   1170\u001b[0m \u001b[38;5;28;01mwith\u001b[39;00m WeakFileLock(lock_path):\n\u001b[0;32m-> 1171\u001b[0m     \u001b[43m_download_to_tmp_and_move\u001b[49m\u001b[43m(\u001b[49m\n\u001b[1;32m   1172\u001b[0m \u001b[43m        \u001b[49m\u001b[43mincomplete_path\u001b[49m\u001b[38;5;241;43m=\u001b[39;49m\u001b[43mPath\u001b[49m\u001b[43m(\u001b[49m\u001b[43mblob_path\u001b[49m\u001b[43m \u001b[49m\u001b[38;5;241;43m+\u001b[39;49m\u001b[43m \u001b[49m\u001b[38;5;124;43m\"\u001b[39;49m\u001b[38;5;124;43m.incomplete\u001b[39;49m\u001b[38;5;124;43m\"\u001b[39;49m\u001b[43m)\u001b[49m\u001b[43m,\u001b[49m\n\u001b[1;32m   1173\u001b[0m \u001b[43m        \u001b[49m\u001b[43mdestination_path\u001b[49m\u001b[38;5;241;43m=\u001b[39;49m\u001b[43mPath\u001b[49m\u001b[43m(\u001b[49m\u001b[43mblob_path\u001b[49m\u001b[43m)\u001b[49m\u001b[43m,\u001b[49m\n\u001b[1;32m   1174\u001b[0m \u001b[43m        \u001b[49m\u001b[43murl_to_download\u001b[49m\u001b[38;5;241;43m=\u001b[39;49m\u001b[43murl_to_download\u001b[49m\u001b[43m,\u001b[49m\n\u001b[1;32m   1175\u001b[0m \u001b[43m        \u001b[49m\u001b[43mproxies\u001b[49m\u001b[38;5;241;43m=\u001b[39;49m\u001b[43mproxies\u001b[49m\u001b[43m,\u001b[49m\n\u001b[1;32m   1176\u001b[0m \u001b[43m        \u001b[49m\u001b[43mheaders\u001b[49m\u001b[38;5;241;43m=\u001b[39;49m\u001b[43mheaders\u001b[49m\u001b[43m,\u001b[49m\n\u001b[1;32m   1177\u001b[0m \u001b[43m        \u001b[49m\u001b[43mexpected_size\u001b[49m\u001b[38;5;241;43m=\u001b[39;49m\u001b[43mexpected_size\u001b[49m\u001b[43m,\u001b[49m\n\u001b[1;32m   1178\u001b[0m \u001b[43m        \u001b[49m\u001b[43mfilename\u001b[49m\u001b[38;5;241;43m=\u001b[39;49m\u001b[43mfilename\u001b[49m\u001b[43m,\u001b[49m\n\u001b[1;32m   1179\u001b[0m \u001b[43m        \u001b[49m\u001b[43mforce_download\u001b[49m\u001b[38;5;241;43m=\u001b[39;49m\u001b[43mforce_download\u001b[49m\u001b[43m,\u001b[49m\n\u001b[1;32m   1180\u001b[0m \u001b[43m        \u001b[49m\u001b[43metag\u001b[49m\u001b[38;5;241;43m=\u001b[39;49m\u001b[43metag\u001b[49m\u001b[43m,\u001b[49m\n\u001b[1;32m   1181\u001b[0m \u001b[43m        \u001b[49m\u001b[43mxet_file_data\u001b[49m\u001b[38;5;241;43m=\u001b[39;49m\u001b[43mxet_file_data\u001b[49m\u001b[43m,\u001b[49m\n\u001b[1;32m   1182\u001b[0m \u001b[43m    \u001b[49m\u001b[43m)\u001b[49m\n\u001b[1;32m   1183\u001b[0m     \u001b[38;5;28;01mif\u001b[39;00m \u001b[38;5;129;01mnot\u001b[39;00m os\u001b[38;5;241m.\u001b[39mpath\u001b[38;5;241m.\u001b[39mexists(pointer_path):\n\u001b[1;32m   1184\u001b[0m         _create_symlink(blob_path, pointer_path, new_blob\u001b[38;5;241m=\u001b[39m\u001b[38;5;28;01mTrue\u001b[39;00m)\n",
      "File \u001b[0;32m~/anaconda3/envs/apollo/lib/python3.10/site-packages/huggingface_hub/file_download.py:1723\u001b[0m, in \u001b[0;36m_download_to_tmp_and_move\u001b[0;34m(incomplete_path, destination_path, url_to_download, proxies, headers, expected_size, filename, force_download, etag, xet_file_data)\u001b[0m\n\u001b[1;32m   1721\u001b[0m \u001b[38;5;28;01mif\u001b[39;00m xet_file_data \u001b[38;5;129;01mis\u001b[39;00m \u001b[38;5;129;01mnot\u001b[39;00m \u001b[38;5;28;01mNone\u001b[39;00m \u001b[38;5;129;01mand\u001b[39;00m is_xet_available():\n\u001b[1;32m   1722\u001b[0m     logger\u001b[38;5;241m.\u001b[39mdebug(\u001b[38;5;124m\"\u001b[39m\u001b[38;5;124mXet Storage is enabled for this repo. Downloading file from Xet Storage..\u001b[39m\u001b[38;5;124m\"\u001b[39m)\n\u001b[0;32m-> 1723\u001b[0m     \u001b[43mxet_get\u001b[49m\u001b[43m(\u001b[49m\n\u001b[1;32m   1724\u001b[0m \u001b[43m        \u001b[49m\u001b[43mincomplete_path\u001b[49m\u001b[38;5;241;43m=\u001b[39;49m\u001b[43mincomplete_path\u001b[49m\u001b[43m,\u001b[49m\n\u001b[1;32m   1725\u001b[0m \u001b[43m        \u001b[49m\u001b[43mxet_file_data\u001b[49m\u001b[38;5;241;43m=\u001b[39;49m\u001b[43mxet_file_data\u001b[49m\u001b[43m,\u001b[49m\n\u001b[1;32m   1726\u001b[0m \u001b[43m        \u001b[49m\u001b[43mheaders\u001b[49m\u001b[38;5;241;43m=\u001b[39;49m\u001b[43mheaders\u001b[49m\u001b[43m,\u001b[49m\n\u001b[1;32m   1727\u001b[0m \u001b[43m        \u001b[49m\u001b[43mexpected_size\u001b[49m\u001b[38;5;241;43m=\u001b[39;49m\u001b[43mexpected_size\u001b[49m\u001b[43m,\u001b[49m\n\u001b[1;32m   1728\u001b[0m \u001b[43m        \u001b[49m\u001b[43mdisplayed_filename\u001b[49m\u001b[38;5;241;43m=\u001b[39;49m\u001b[43mfilename\u001b[49m\u001b[43m,\u001b[49m\n\u001b[1;32m   1729\u001b[0m \u001b[43m    \u001b[49m\u001b[43m)\u001b[49m\n\u001b[1;32m   1730\u001b[0m \u001b[38;5;28;01melse\u001b[39;00m:\n\u001b[1;32m   1731\u001b[0m     \u001b[38;5;28;01mif\u001b[39;00m xet_file_data \u001b[38;5;129;01mis\u001b[39;00m \u001b[38;5;129;01mnot\u001b[39;00m \u001b[38;5;28;01mNone\u001b[39;00m \u001b[38;5;129;01mand\u001b[39;00m \u001b[38;5;129;01mnot\u001b[39;00m constants\u001b[38;5;241m.\u001b[39mHF_HUB_DISABLE_XET:\n",
      "File \u001b[0;32m~/anaconda3/envs/apollo/lib/python3.10/site-packages/huggingface_hub/file_download.py:629\u001b[0m, in \u001b[0;36mxet_get\u001b[0;34m(incomplete_path, xet_file_data, headers, expected_size, displayed_filename, _tqdm_bar)\u001b[0m\n\u001b[1;32m    626\u001b[0m \u001b[38;5;28;01mdef\u001b[39;00m\u001b[38;5;250m \u001b[39m\u001b[38;5;21mprogress_updater\u001b[39m(progress_bytes: \u001b[38;5;28mfloat\u001b[39m):\n\u001b[1;32m    627\u001b[0m     progress\u001b[38;5;241m.\u001b[39mupdate(progress_bytes)\n\u001b[0;32m--> 629\u001b[0m \u001b[43mdownload_files\u001b[49m\u001b[43m(\u001b[49m\n\u001b[1;32m    630\u001b[0m \u001b[43m    \u001b[49m\u001b[43mxet_download_info\u001b[49m\u001b[43m,\u001b[49m\n\u001b[1;32m    631\u001b[0m \u001b[43m    \u001b[49m\u001b[43mendpoint\u001b[49m\u001b[38;5;241;43m=\u001b[39;49m\u001b[43mconnection_info\u001b[49m\u001b[38;5;241;43m.\u001b[39;49m\u001b[43mendpoint\u001b[49m\u001b[43m,\u001b[49m\n\u001b[1;32m    632\u001b[0m \u001b[43m    \u001b[49m\u001b[43mtoken_info\u001b[49m\u001b[38;5;241;43m=\u001b[39;49m\u001b[43m(\u001b[49m\u001b[43mconnection_info\u001b[49m\u001b[38;5;241;43m.\u001b[39;49m\u001b[43maccess_token\u001b[49m\u001b[43m,\u001b[49m\u001b[43m \u001b[49m\u001b[43mconnection_info\u001b[49m\u001b[38;5;241;43m.\u001b[39;49m\u001b[43mexpiration_unix_epoch\u001b[49m\u001b[43m)\u001b[49m\u001b[43m,\u001b[49m\n\u001b[1;32m    633\u001b[0m \u001b[43m    \u001b[49m\u001b[43mtoken_refresher\u001b[49m\u001b[38;5;241;43m=\u001b[39;49m\u001b[43mtoken_refresher\u001b[49m\u001b[43m,\u001b[49m\n\u001b[1;32m    634\u001b[0m \u001b[43m    \u001b[49m\u001b[43mprogress_updater\u001b[49m\u001b[38;5;241;43m=\u001b[39;49m\u001b[43m[\u001b[49m\u001b[43mprogress_updater\u001b[49m\u001b[43m]\u001b[49m\u001b[43m,\u001b[49m\n\u001b[1;32m    635\u001b[0m \u001b[43m\u001b[49m\u001b[43m)\u001b[49m\n",
      "\u001b[0;31mRuntimeError\u001b[0m: Data processing error: CAS service error : ReqwestMiddleware Error: Request failed after 5 retries"
     ]
    }
   ],
   "source": [
    "device = torch.device(\"cuda\")\n",
    "#model_name = 'LGAI-EXAONE/EXAONE-4.0-1.2B' #naver-hyperclovax/HyperCLOVAX-SEED-Text-Instruct-1.5B'\n",
    "model_name = 'KISTI-KONI/KONI-4B-base-20250819'\n",
    "model = AutoModelForCausalLM.from_pretrained(model_name, trust_remote_code=True)"
   ]
  },
  {
   "cell_type": "code",
   "execution_count": null,
   "id": "3124359f",
   "metadata": {},
   "outputs": [],
   "source": [
    "model = model.half()\n",
    "model = model.to(device)"
   ]
  },
  {
   "cell_type": "code",
   "execution_count": null,
   "id": "122b8d42",
   "metadata": {},
   "outputs": [],
   "source": [
    "tokenizer = AutoTokenizer.from_pretrained(model_name)"
   ]
  },
  {
   "cell_type": "code",
   "execution_count": null,
   "id": "53f4f953",
   "metadata": {},
   "outputs": [],
   "source": [
    "max_token_length = getattr(model.config, \"max_position_embeddings\", None) #getattr(tokenizer, \"model_max_length\", None)\n",
    "\n",
    "#if max_token_length is None or max_token_length > 1e5:  # 무한대 설정인 경우\n",
    "#            max_token_length = 4096   # 일반 LLM 기본값 가정"
   ]
  },
  {
   "cell_type": "code",
   "execution_count": null,
   "id": "c6d6e785",
   "metadata": {},
   "outputs": [],
   "source": [
    "print(max_token_length)"
   ]
  },
  {
   "cell_type": "code",
   "execution_count": null,
   "id": "0d8bb1d6",
   "metadata": {},
   "outputs": [],
   "source": [
    "# 생성할 토큰 수 여유 확보\n",
    "gen_new_tokens = 256\n",
    "prompt_max = max(16, max_token_length - gen_new_tokens)"
   ]
  },
  {
   "cell_type": "code",
   "execution_count": null,
   "id": "a051645d",
   "metadata": {},
   "outputs": [],
   "source": [
    "prompt_max"
   ]
  },
  {
   "cell_type": "code",
   "execution_count": 71,
   "id": "3b330ef8",
   "metadata": {},
   "outputs": [],
   "source": [
    "def get_summarize(text) :\n",
    "    role = '너는 뉴스를 요약하는 요약 전문가야. 다음 문장은 어떤 산업에 대한 뉴스 기사인데, 이것을 요약해줘.'\n",
    "    \n",
    "    chat = [\n",
    "              {\"role\": \"tool_list\", \"content\": \"\"},\n",
    "              {\"role\": \"system\", \"content\": role}, \n",
    "              {\"role\": \"user\", \"content\": text},\n",
    "    ]\n",
    "    \n",
    "    inputs = tokenizer.apply_chat_template(chat, add_generation_prompt=True, return_dict=True, return_tensors=\"pt\", \n",
    "                                          truncation=True, max_length=prompt_max)\n",
    "    inputs = {k: v.to(device) for k, v in inputs.items()}\n",
    "    \n",
    "    output_ids = model.generate(**inputs, max_length=max_token_length, stop_strings=[\"<|endofturn|>\", \"<|stop|>\"], tokenizer=tokenizer)\n",
    "    \n",
    "    responses = tokenizer.batch_decode(output_ids, skip_special_tokens=True)\n",
    "    \n",
    "    _, _, answer = responses[0].partition(\"assistant\\n\")\n",
    "\n",
    "    return answer.strip()"
   ]
  },
  {
   "cell_type": "code",
   "execution_count": 9,
   "id": "75411a60",
   "metadata": {},
   "outputs": [],
   "source": [
    "filename='summary_output.tsv'"
   ]
  },
  {
   "cell_type": "code",
   "execution_count": 10,
   "id": "5917785d",
   "metadata": {},
   "outputs": [],
   "source": [
    "df = pd.read_csv(filename, sep='\\t')"
   ]
  },
  {
   "cell_type": "code",
   "execution_count": 11,
   "id": "44879b54",
   "metadata": {},
   "outputs": [
    {
     "data": {
      "text/plain": [
       "765026"
      ]
     },
     "execution_count": 11,
     "metadata": {},
     "output_type": "execute_result"
    }
   ],
   "source": [
    "len(df)"
   ]
  },
  {
   "cell_type": "code",
   "execution_count": 12,
   "id": "9d98c510",
   "metadata": {},
   "outputs": [
    {
     "data": {
      "text/plain": [
       "'1221m 초콜릿 파이 “3만명이 함께 먹을 수 있어” 1221m 초콜릿 파이가 등장해 화제다. 최근 스위스의 한 지방 제빵사협회가 창립 25주년을 기념해 1221m 초콜릿 파이를 만들었다. 1221m 초콜릿 파이는 크림 864kg, 우유 576리터, 밀가루 600kg, 버터 432kg, 초콜릿 360kg이 사용되었고 무게만도 4천207kg으로 3만 명이 먹을 수 있는 대단한 양이다. 1221m 초콜릿 파이를 만들기 위해 전문 제빵사 25명과 일반인 175명 등 총 200여명이 투입됐으며 3시간이 넘는 시간이 걸려 만든 것으로 알려졌다. 특히 1221m 초콜릿 파이는 ‘세계에서 가장 긴 밀푀유 파이’라는 명칭으로 기네스북에 등재되기도 했다. 종전까지 최고 기록을 가지고 있던 벨기에 파이(1037.25m)를 20년 만에 넘어섰다. 이를 접한 누리꾼들은 “1221m 초콜릿 파이 대단하다”, “1221m 초콜릿 파이 먹어보고 싶네”, “1221m 초콜릿 파이 다 먹었나?”, “1221m 초콜릿 파이 맛이 궁금해” 등의 반응을 보였다.'"
      ]
     },
     "execution_count": 12,
     "metadata": {},
     "output_type": "execute_result"
    }
   ],
   "source": [
    "df.loc[0]['text']"
   ]
  },
  {
   "cell_type": "code",
   "execution_count": 13,
   "id": "73780c79",
   "metadata": {},
   "outputs": [
    {
     "data": {
      "text/html": [
       "<div>\n",
       "<style scoped>\n",
       "    .dataframe tbody tr th:only-of-type {\n",
       "        vertical-align: middle;\n",
       "    }\n",
       "\n",
       "    .dataframe tbody tr th {\n",
       "        vertical-align: top;\n",
       "    }\n",
       "\n",
       "    .dataframe thead th {\n",
       "        text-align: right;\n",
       "    }\n",
       "</style>\n",
       "<table border=\"1\" class=\"dataframe\">\n",
       "  <thead>\n",
       "    <tr style=\"text-align: right;\">\n",
       "      <th></th>\n",
       "      <th>id</th>\n",
       "      <th>topic</th>\n",
       "      <th>text</th>\n",
       "      <th>ksic</th>\n",
       "      <th>max_scores</th>\n",
       "      <th>summary_new</th>\n",
       "    </tr>\n",
       "  </thead>\n",
       "  <tbody>\n",
       "    <tr>\n",
       "      <th>0</th>\n",
       "      <td>NLRW1900000024.16590</td>\n",
       "      <td>S</td>\n",
       "      <td>1221m 초콜릿 파이 “3만명이 함께 먹을 수 있어” 1221m 초콜릿 파이가 등...</td>\n",
       "      <td>c107</td>\n",
       "      <td>0.930233</td>\n",
       "      <td>최근 스위스의 한 지방 제빵사협회가 창립 25주년을 기념해 3만 명이 먹을 수 있는...</td>\n",
       "    </tr>\n",
       "    <tr>\n",
       "      <th>1</th>\n",
       "      <td>NWRW1900000009.21980</td>\n",
       "      <td>S</td>\n",
       "      <td>고등어야, 어디 있니? 어획량 20년 새 3분의 1로 국내산 고등어 어획량이 20년...</td>\n",
       "      <td>c102</td>\n",
       "      <td>0.718052</td>\n",
       "      <td>국회 농림축산식품해양수산위원회 박완주 의원(더불어민주당)이 수협중앙회에서 제출받은 ...</td>\n",
       "    </tr>\n",
       "    <tr>\n",
       "      <th>2</th>\n",
       "      <td>NLRW1900000144.10274</td>\n",
       "      <td>S</td>\n",
       "      <td>고령 우곡 농민들 \"올해 수박농사 빈손…막막할 뿐\" 이상기후 물량 줄고 품질 떨어져...</td>\n",
       "      <td>c103</td>\n",
       "      <td>0.639269</td>\n",
       "      <td>고령군 우곡면 답곡1리 김진수씨(여·72)의 수박 비닐하우스. 30여년째 수박농사를...</td>\n",
       "    </tr>\n",
       "    <tr>\n",
       "      <th>3</th>\n",
       "      <td>NLRW2200000008.12137</td>\n",
       "      <td>S</td>\n",
       "      <td>태안군, 해풍을 맞고 자란 명품 양파 수확 ‘한창!’ 태안의 비옥한 황토에서 갯바람...</td>\n",
       "      <td>c103</td>\n",
       "      <td>0.612410</td>\n",
       "      <td>태안 지역에는 약 150여 농가가 76ha 면적에서 양파를 재배하고 있으며 연간 3...</td>\n",
       "    </tr>\n",
       "    <tr>\n",
       "      <th>4</th>\n",
       "      <td>NWRW1900000011.9505</td>\n",
       "      <td>S</td>\n",
       "      <td>친환경 농산물 약진… 생산량 10% 넘어 국내에서 생산되는 농산물 10개 가운데 1...</td>\n",
       "      <td>c103</td>\n",
       "      <td>0.588431</td>\n",
       "      <td>국내 생산되는 농산물 10개 가운데 1개 이상이 친환경 농산물인 것으로 나타났으며,...</td>\n",
       "    </tr>\n",
       "    <tr>\n",
       "      <th>...</th>\n",
       "      <td>...</td>\n",
       "      <td>...</td>\n",
       "      <td>...</td>\n",
       "      <td>...</td>\n",
       "      <td>...</td>\n",
       "      <td>...</td>\n",
       "    </tr>\n",
       "    <tr>\n",
       "      <th>765021</th>\n",
       "      <td>NWRW1900000038.41782</td>\n",
       "      <td>T</td>\n",
       "      <td>네이버·다음 실시간 검색어 순위 ‘정부 요청 시 삭제’ 규정 운영했다 ㆍ자동완성·연...</td>\n",
       "      <td>NaN</td>\n",
       "      <td>0.000000</td>\n",
       "      <td>국내 양대 포털사이트인 네이버와 카카오(다음)가 정부 당국이 요청할 경우 실시간 급...</td>\n",
       "    </tr>\n",
       "    <tr>\n",
       "      <th>765022</th>\n",
       "      <td>NLRW2000000006.29284</td>\n",
       "      <td>T</td>\n",
       "      <td>[미래사회포럼]최정준 동방문화대학원대 교수, \"소명 알고 완성하는게 천명 이루는 길...</td>\n",
       "      <td>NaN</td>\n",
       "      <td>0.000000</td>\n",
       "      <td>22일 열린 미래사회포럼 강연자로 나선 최정준 동방문화대학원대학교 미래예측학과 교수...</td>\n",
       "    </tr>\n",
       "    <tr>\n",
       "      <th>765023</th>\n",
       "      <td>NLRW2000000006.29247</td>\n",
       "      <td>T</td>\n",
       "      <td>원더브라88원, 8월 8일 기념해 초대형 프로모션 '행사 가격은?' 라이프스타일 전...</td>\n",
       "      <td>NaN</td>\n",
       "      <td>0.000000</td>\n",
       "      <td>라이프스타일 전문기업 그리티가 푸쉬업 브라브랜드 '원더브라' 브랜드데이를 맞아 8일...</td>\n",
       "    </tr>\n",
       "    <tr>\n",
       "      <th>765024</th>\n",
       "      <td>NWRW1900000038.41262</td>\n",
       "      <td>T</td>\n",
       "      <td>마이클 코스털리츠 방한 “남다른 시각과 국가적 투자가 노벨상 만들어” ㆍ올해 노벨물...</td>\n",
       "      <td>NaN</td>\n",
       "      <td>0.000000</td>\n",
       "      <td>올해 노벨 물리학상 수상자 중 한 명인 마이클 코스털리츠 미국 브라운대 교수는 20...</td>\n",
       "    </tr>\n",
       "    <tr>\n",
       "      <th>765025</th>\n",
       "      <td>NLRW2000000006.29470</td>\n",
       "      <td>T</td>\n",
       "      <td>'日 화이트리스트 제외' 경기도내 中企 타격 불가피 일본의 한국 '화이트리스트' 제...</td>\n",
       "      <td>NaN</td>\n",
       "      <td>0.000000</td>\n",
       "      <td>일본의 한국 '화이트리스트' 제외로 인해 경기도 내 중소·중견기업의 타격이 불가피할...</td>\n",
       "    </tr>\n",
       "  </tbody>\n",
       "</table>\n",
       "<p>765026 rows × 6 columns</p>\n",
       "</div>"
      ],
      "text/plain": [
       "                          id topic  \\\n",
       "0       NLRW1900000024.16590     S   \n",
       "1       NWRW1900000009.21980     S   \n",
       "2       NLRW1900000144.10274     S   \n",
       "3       NLRW2200000008.12137     S   \n",
       "4        NWRW1900000011.9505     S   \n",
       "...                      ...   ...   \n",
       "765021  NWRW1900000038.41782     T   \n",
       "765022  NLRW2000000006.29284     T   \n",
       "765023  NLRW2000000006.29247     T   \n",
       "765024  NWRW1900000038.41262     T   \n",
       "765025  NLRW2000000006.29470     T   \n",
       "\n",
       "                                                     text  ksic  max_scores  \\\n",
       "0       1221m 초콜릿 파이 “3만명이 함께 먹을 수 있어” 1221m 초콜릿 파이가 등...  c107    0.930233   \n",
       "1       고등어야, 어디 있니? 어획량 20년 새 3분의 1로 국내산 고등어 어획량이 20년...  c102    0.718052   \n",
       "2       고령 우곡 농민들 \"올해 수박농사 빈손…막막할 뿐\" 이상기후 물량 줄고 품질 떨어져...  c103    0.639269   \n",
       "3       태안군, 해풍을 맞고 자란 명품 양파 수확 ‘한창!’ 태안의 비옥한 황토에서 갯바람...  c103    0.612410   \n",
       "4       친환경 농산물 약진… 생산량 10% 넘어 국내에서 생산되는 농산물 10개 가운데 1...  c103    0.588431   \n",
       "...                                                   ...   ...         ...   \n",
       "765021  네이버·다음 실시간 검색어 순위 ‘정부 요청 시 삭제’ 규정 운영했다 ㆍ자동완성·연...   NaN    0.000000   \n",
       "765022  [미래사회포럼]최정준 동방문화대학원대 교수, \"소명 알고 완성하는게 천명 이루는 길...   NaN    0.000000   \n",
       "765023  원더브라88원, 8월 8일 기념해 초대형 프로모션 '행사 가격은?' 라이프스타일 전...   NaN    0.000000   \n",
       "765024  마이클 코스털리츠 방한 “남다른 시각과 국가적 투자가 노벨상 만들어” ㆍ올해 노벨물...   NaN    0.000000   \n",
       "765025  '日 화이트리스트 제외' 경기도내 中企 타격 불가피 일본의 한국 '화이트리스트' 제...   NaN    0.000000   \n",
       "\n",
       "                                              summary_new  \n",
       "0       최근 스위스의 한 지방 제빵사협회가 창립 25주년을 기념해 3만 명이 먹을 수 있는...  \n",
       "1       국회 농림축산식품해양수산위원회 박완주 의원(더불어민주당)이 수협중앙회에서 제출받은 ...  \n",
       "2       고령군 우곡면 답곡1리 김진수씨(여·72)의 수박 비닐하우스. 30여년째 수박농사를...  \n",
       "3       태안 지역에는 약 150여 농가가 76ha 면적에서 양파를 재배하고 있으며 연간 3...  \n",
       "4       국내 생산되는 농산물 10개 가운데 1개 이상이 친환경 농산물인 것으로 나타났으며,...  \n",
       "...                                                   ...  \n",
       "765021  국내 양대 포털사이트인 네이버와 카카오(다음)가 정부 당국이 요청할 경우 실시간 급...  \n",
       "765022  22일 열린 미래사회포럼 강연자로 나선 최정준 동방문화대학원대학교 미래예측학과 교수...  \n",
       "765023  라이프스타일 전문기업 그리티가 푸쉬업 브라브랜드 '원더브라' 브랜드데이를 맞아 8일...  \n",
       "765024  올해 노벨 물리학상 수상자 중 한 명인 마이클 코스털리츠 미국 브라운대 교수는 20...  \n",
       "765025  일본의 한국 '화이트리스트' 제외로 인해 경기도 내 중소·중견기업의 타격이 불가피할...  \n",
       "\n",
       "[765026 rows x 6 columns]"
      ]
     },
     "execution_count": 13,
     "metadata": {},
     "output_type": "execute_result"
    }
   ],
   "source": [
    "df"
   ]
  },
  {
   "cell_type": "code",
   "execution_count": 14,
   "id": "3882215c",
   "metadata": {},
   "outputs": [],
   "source": [
    "df.to_pickle('summary_output.pkl')"
   ]
  },
  {
   "cell_type": "code",
   "execution_count": 40,
   "id": "4a9a7dfb",
   "metadata": {},
   "outputs": [
    {
     "data": {
      "text/plain": [
       "'1221m 초콜릿 파이가 등장해 화제다. 최근 스위스의 한 지방 제빵사협회가 창립 25주년을 기념해 1221m 초콜릿 파이를 만들었다. 1221m 초콜릿 파이는 크림 864kg, 우유 576리터, 밀가루 600kg, 버터 432kg, 초콜릿 360kg이 사용되었고 무게만도 4천207kg으로 3만 명이 먹을 수 있는 대단한 양이다. 1221m 초콜릿 파이를 만들기 위해 전문 제빵사 25명과 일반인 175명 등 총 200여명이 투입됐으며 3시간이 넘는 시간이 걸려 만든 것으로 알려졌다. 특히 1221m 초콜릿 파이는 ‘세계에서 가장 긴 밀푀유 파이’라는 명칭으로 기네스북에 등재되기도 했다. 이를 접한 누리꾼들은 “1221m 초콜릿 파이 대단하다”, “1221m 초콜릿 파이 먹어보고 싶네”, “1221m 초콜릿 파이 다 먹었나?”, “1221m 초콜릿 파이 맛이 궁금해” 등의 반응을 보였다.'"
      ]
     },
     "execution_count": 40,
     "metadata": {},
     "output_type": "execute_result"
    }
   ],
   "source": [
    "get_summarize(df.loc[0]['text'])"
   ]
  },
  {
   "cell_type": "code",
   "execution_count": 62,
   "id": "1ede501b",
   "metadata": {},
   "outputs": [
    {
     "data": {
      "application/vnd.jupyter.widget-view+json": {
       "model_id": "3b1d0d9efee24d478fff563328ef5ec8",
       "version_major": 2,
       "version_minor": 0
      },
      "text/plain": [
       "  0%|          | 0/765026 [00:00<?, ?it/s]"
      ]
     },
     "metadata": {},
     "output_type": "display_data"
    },
    {
     "ename": "KeyboardInterrupt",
     "evalue": "",
     "output_type": "error",
     "traceback": [
      "\u001b[0;31m---------------------------------------------------------------------------\u001b[0m",
      "\u001b[0;31mKeyboardInterrupt\u001b[0m                         Traceback (most recent call last)",
      "Cell \u001b[0;32mIn[62], line 1\u001b[0m\n\u001b[0;32m----> 1\u001b[0m df[\u001b[38;5;124m'\u001b[39m\u001b[38;5;124msummary_naver_llm\u001b[39m\u001b[38;5;124m'\u001b[39m] \u001b[38;5;241m=\u001b[39m \u001b[43mdf\u001b[49m\u001b[43m[\u001b[49m\u001b[38;5;124;43m'\u001b[39;49m\u001b[38;5;124;43mtext\u001b[39;49m\u001b[38;5;124;43m'\u001b[39;49m\u001b[43m]\u001b[49m\u001b[38;5;241;43m.\u001b[39;49m\u001b[43mprogress_apply\u001b[49m\u001b[43m(\u001b[49m\u001b[43mget_summarize\u001b[49m\u001b[43m)\u001b[49m\n",
      "File \u001b[0;32m~/anaconda3/envs/apollo/lib/python3.10/site-packages/tqdm/std.py:917\u001b[0m, in \u001b[0;36mtqdm.pandas.<locals>.inner_generator.<locals>.inner\u001b[0;34m(df, func, *args, **kwargs)\u001b[0m\n\u001b[1;32m    914\u001b[0m \u001b[38;5;66;03m# Apply the provided function (in **kwargs)\u001b[39;00m\n\u001b[1;32m    915\u001b[0m \u001b[38;5;66;03m# on the df using our wrapper (which provides bar updating)\u001b[39;00m\n\u001b[1;32m    916\u001b[0m \u001b[38;5;28;01mtry\u001b[39;00m:\n\u001b[0;32m--> 917\u001b[0m     \u001b[38;5;28;01mreturn\u001b[39;00m \u001b[38;5;28;43mgetattr\u001b[39;49m\u001b[43m(\u001b[49m\u001b[43mdf\u001b[49m\u001b[43m,\u001b[49m\u001b[43m \u001b[49m\u001b[43mdf_function\u001b[49m\u001b[43m)\u001b[49m\u001b[43m(\u001b[49m\u001b[43mwrapper\u001b[49m\u001b[43m,\u001b[49m\u001b[43m \u001b[49m\u001b[38;5;241;43m*\u001b[39;49m\u001b[38;5;241;43m*\u001b[39;49m\u001b[43mkwargs\u001b[49m\u001b[43m)\u001b[49m\n\u001b[1;32m    918\u001b[0m \u001b[38;5;28;01mfinally\u001b[39;00m:\n\u001b[1;32m    919\u001b[0m     t\u001b[38;5;241m.\u001b[39mclose()\n",
      "File \u001b[0;32m~/anaconda3/envs/apollo/lib/python3.10/site-packages/pandas/core/series.py:4924\u001b[0m, in \u001b[0;36mSeries.apply\u001b[0;34m(self, func, convert_dtype, args, by_row, **kwargs)\u001b[0m\n\u001b[1;32m   4789\u001b[0m \u001b[38;5;28;01mdef\u001b[39;00m\u001b[38;5;250m \u001b[39m\u001b[38;5;21mapply\u001b[39m(\n\u001b[1;32m   4790\u001b[0m     \u001b[38;5;28mself\u001b[39m,\n\u001b[1;32m   4791\u001b[0m     func: AggFuncType,\n\u001b[0;32m   (...)\u001b[0m\n\u001b[1;32m   4796\u001b[0m     \u001b[38;5;241m*\u001b[39m\u001b[38;5;241m*\u001b[39mkwargs,\n\u001b[1;32m   4797\u001b[0m ) \u001b[38;5;241m-\u001b[39m\u001b[38;5;241m>\u001b[39m DataFrame \u001b[38;5;241m|\u001b[39m Series:\n\u001b[1;32m   4798\u001b[0m \u001b[38;5;250m    \u001b[39m\u001b[38;5;124;03m\"\"\"\u001b[39;00m\n\u001b[1;32m   4799\u001b[0m \u001b[38;5;124;03m    Invoke function on values of Series.\u001b[39;00m\n\u001b[1;32m   4800\u001b[0m \n\u001b[0;32m   (...)\u001b[0m\n\u001b[1;32m   4915\u001b[0m \u001b[38;5;124;03m    dtype: float64\u001b[39;00m\n\u001b[1;32m   4916\u001b[0m \u001b[38;5;124;03m    \"\"\"\u001b[39;00m\n\u001b[1;32m   4917\u001b[0m     \u001b[38;5;28;01mreturn\u001b[39;00m \u001b[43mSeriesApply\u001b[49m\u001b[43m(\u001b[49m\n\u001b[1;32m   4918\u001b[0m \u001b[43m        \u001b[49m\u001b[38;5;28;43mself\u001b[39;49m\u001b[43m,\u001b[49m\n\u001b[1;32m   4919\u001b[0m \u001b[43m        \u001b[49m\u001b[43mfunc\u001b[49m\u001b[43m,\u001b[49m\n\u001b[1;32m   4920\u001b[0m \u001b[43m        \u001b[49m\u001b[43mconvert_dtype\u001b[49m\u001b[38;5;241;43m=\u001b[39;49m\u001b[43mconvert_dtype\u001b[49m\u001b[43m,\u001b[49m\n\u001b[1;32m   4921\u001b[0m \u001b[43m        \u001b[49m\u001b[43mby_row\u001b[49m\u001b[38;5;241;43m=\u001b[39;49m\u001b[43mby_row\u001b[49m\u001b[43m,\u001b[49m\n\u001b[1;32m   4922\u001b[0m \u001b[43m        \u001b[49m\u001b[43margs\u001b[49m\u001b[38;5;241;43m=\u001b[39;49m\u001b[43margs\u001b[49m\u001b[43m,\u001b[49m\n\u001b[1;32m   4923\u001b[0m \u001b[43m        \u001b[49m\u001b[43mkwargs\u001b[49m\u001b[38;5;241;43m=\u001b[39;49m\u001b[43mkwargs\u001b[49m\u001b[43m,\u001b[49m\n\u001b[0;32m-> 4924\u001b[0m \u001b[43m    \u001b[49m\u001b[43m)\u001b[49m\u001b[38;5;241;43m.\u001b[39;49m\u001b[43mapply\u001b[49m\u001b[43m(\u001b[49m\u001b[43m)\u001b[49m\n",
      "File \u001b[0;32m~/anaconda3/envs/apollo/lib/python3.10/site-packages/pandas/core/apply.py:1427\u001b[0m, in \u001b[0;36mSeriesApply.apply\u001b[0;34m(self)\u001b[0m\n\u001b[1;32m   1424\u001b[0m     \u001b[38;5;28;01mreturn\u001b[39;00m \u001b[38;5;28mself\u001b[39m\u001b[38;5;241m.\u001b[39mapply_compat()\n\u001b[1;32m   1426\u001b[0m \u001b[38;5;66;03m# self.func is Callable\u001b[39;00m\n\u001b[0;32m-> 1427\u001b[0m \u001b[38;5;28;01mreturn\u001b[39;00m \u001b[38;5;28;43mself\u001b[39;49m\u001b[38;5;241;43m.\u001b[39;49m\u001b[43mapply_standard\u001b[49m\u001b[43m(\u001b[49m\u001b[43m)\u001b[49m\n",
      "File \u001b[0;32m~/anaconda3/envs/apollo/lib/python3.10/site-packages/pandas/core/apply.py:1507\u001b[0m, in \u001b[0;36mSeriesApply.apply_standard\u001b[0;34m(self)\u001b[0m\n\u001b[1;32m   1501\u001b[0m \u001b[38;5;66;03m# row-wise access\u001b[39;00m\n\u001b[1;32m   1502\u001b[0m \u001b[38;5;66;03m# apply doesn't have a `na_action` keyword and for backward compat reasons\u001b[39;00m\n\u001b[1;32m   1503\u001b[0m \u001b[38;5;66;03m# we need to give `na_action=\"ignore\"` for categorical data.\u001b[39;00m\n\u001b[1;32m   1504\u001b[0m \u001b[38;5;66;03m# TODO: remove the `na_action=\"ignore\"` when that default has been changed in\u001b[39;00m\n\u001b[1;32m   1505\u001b[0m \u001b[38;5;66;03m#  Categorical (GH51645).\u001b[39;00m\n\u001b[1;32m   1506\u001b[0m action \u001b[38;5;241m=\u001b[39m \u001b[38;5;124m\"\u001b[39m\u001b[38;5;124mignore\u001b[39m\u001b[38;5;124m\"\u001b[39m \u001b[38;5;28;01mif\u001b[39;00m \u001b[38;5;28misinstance\u001b[39m(obj\u001b[38;5;241m.\u001b[39mdtype, CategoricalDtype) \u001b[38;5;28;01melse\u001b[39;00m \u001b[38;5;28;01mNone\u001b[39;00m\n\u001b[0;32m-> 1507\u001b[0m mapped \u001b[38;5;241m=\u001b[39m \u001b[43mobj\u001b[49m\u001b[38;5;241;43m.\u001b[39;49m\u001b[43m_map_values\u001b[49m\u001b[43m(\u001b[49m\n\u001b[1;32m   1508\u001b[0m \u001b[43m    \u001b[49m\u001b[43mmapper\u001b[49m\u001b[38;5;241;43m=\u001b[39;49m\u001b[43mcurried\u001b[49m\u001b[43m,\u001b[49m\u001b[43m \u001b[49m\u001b[43mna_action\u001b[49m\u001b[38;5;241;43m=\u001b[39;49m\u001b[43maction\u001b[49m\u001b[43m,\u001b[49m\u001b[43m \u001b[49m\u001b[43mconvert\u001b[49m\u001b[38;5;241;43m=\u001b[39;49m\u001b[38;5;28;43mself\u001b[39;49m\u001b[38;5;241;43m.\u001b[39;49m\u001b[43mconvert_dtype\u001b[49m\n\u001b[1;32m   1509\u001b[0m \u001b[43m\u001b[49m\u001b[43m)\u001b[49m\n\u001b[1;32m   1511\u001b[0m \u001b[38;5;28;01mif\u001b[39;00m \u001b[38;5;28mlen\u001b[39m(mapped) \u001b[38;5;129;01mand\u001b[39;00m \u001b[38;5;28misinstance\u001b[39m(mapped[\u001b[38;5;241m0\u001b[39m], ABCSeries):\n\u001b[1;32m   1512\u001b[0m     \u001b[38;5;66;03m# GH#43986 Need to do list(mapped) in order to get treated as nested\u001b[39;00m\n\u001b[1;32m   1513\u001b[0m     \u001b[38;5;66;03m#  See also GH#25959 regarding EA support\u001b[39;00m\n\u001b[1;32m   1514\u001b[0m     \u001b[38;5;28;01mreturn\u001b[39;00m obj\u001b[38;5;241m.\u001b[39m_constructor_expanddim(\u001b[38;5;28mlist\u001b[39m(mapped), index\u001b[38;5;241m=\u001b[39mobj\u001b[38;5;241m.\u001b[39mindex)\n",
      "File \u001b[0;32m~/anaconda3/envs/apollo/lib/python3.10/site-packages/pandas/core/base.py:921\u001b[0m, in \u001b[0;36mIndexOpsMixin._map_values\u001b[0;34m(self, mapper, na_action, convert)\u001b[0m\n\u001b[1;32m    918\u001b[0m \u001b[38;5;28;01mif\u001b[39;00m \u001b[38;5;28misinstance\u001b[39m(arr, ExtensionArray):\n\u001b[1;32m    919\u001b[0m     \u001b[38;5;28;01mreturn\u001b[39;00m arr\u001b[38;5;241m.\u001b[39mmap(mapper, na_action\u001b[38;5;241m=\u001b[39mna_action)\n\u001b[0;32m--> 921\u001b[0m \u001b[38;5;28;01mreturn\u001b[39;00m \u001b[43malgorithms\u001b[49m\u001b[38;5;241;43m.\u001b[39;49m\u001b[43mmap_array\u001b[49m\u001b[43m(\u001b[49m\u001b[43marr\u001b[49m\u001b[43m,\u001b[49m\u001b[43m \u001b[49m\u001b[43mmapper\u001b[49m\u001b[43m,\u001b[49m\u001b[43m \u001b[49m\u001b[43mna_action\u001b[49m\u001b[38;5;241;43m=\u001b[39;49m\u001b[43mna_action\u001b[49m\u001b[43m,\u001b[49m\u001b[43m \u001b[49m\u001b[43mconvert\u001b[49m\u001b[38;5;241;43m=\u001b[39;49m\u001b[43mconvert\u001b[49m\u001b[43m)\u001b[49m\n",
      "File \u001b[0;32m~/anaconda3/envs/apollo/lib/python3.10/site-packages/pandas/core/algorithms.py:1743\u001b[0m, in \u001b[0;36mmap_array\u001b[0;34m(arr, mapper, na_action, convert)\u001b[0m\n\u001b[1;32m   1741\u001b[0m values \u001b[38;5;241m=\u001b[39m arr\u001b[38;5;241m.\u001b[39mastype(\u001b[38;5;28mobject\u001b[39m, copy\u001b[38;5;241m=\u001b[39m\u001b[38;5;28;01mFalse\u001b[39;00m)\n\u001b[1;32m   1742\u001b[0m \u001b[38;5;28;01mif\u001b[39;00m na_action \u001b[38;5;129;01mis\u001b[39;00m \u001b[38;5;28;01mNone\u001b[39;00m:\n\u001b[0;32m-> 1743\u001b[0m     \u001b[38;5;28;01mreturn\u001b[39;00m \u001b[43mlib\u001b[49m\u001b[38;5;241;43m.\u001b[39;49m\u001b[43mmap_infer\u001b[49m\u001b[43m(\u001b[49m\u001b[43mvalues\u001b[49m\u001b[43m,\u001b[49m\u001b[43m \u001b[49m\u001b[43mmapper\u001b[49m\u001b[43m,\u001b[49m\u001b[43m \u001b[49m\u001b[43mconvert\u001b[49m\u001b[38;5;241;43m=\u001b[39;49m\u001b[43mconvert\u001b[49m\u001b[43m)\u001b[49m\n\u001b[1;32m   1744\u001b[0m \u001b[38;5;28;01melse\u001b[39;00m:\n\u001b[1;32m   1745\u001b[0m     \u001b[38;5;28;01mreturn\u001b[39;00m lib\u001b[38;5;241m.\u001b[39mmap_infer_mask(\n\u001b[1;32m   1746\u001b[0m         values, mapper, mask\u001b[38;5;241m=\u001b[39misna(values)\u001b[38;5;241m.\u001b[39mview(np\u001b[38;5;241m.\u001b[39muint8), convert\u001b[38;5;241m=\u001b[39mconvert\n\u001b[1;32m   1747\u001b[0m     )\n",
      "File \u001b[0;32mlib.pyx:2972\u001b[0m, in \u001b[0;36mpandas._libs.lib.map_infer\u001b[0;34m()\u001b[0m\n",
      "File \u001b[0;32m~/anaconda3/envs/apollo/lib/python3.10/site-packages/tqdm/std.py:912\u001b[0m, in \u001b[0;36mtqdm.pandas.<locals>.inner_generator.<locals>.inner.<locals>.wrapper\u001b[0;34m(*args, **kwargs)\u001b[0m\n\u001b[1;32m    906\u001b[0m \u001b[38;5;28;01mdef\u001b[39;00m\u001b[38;5;250m \u001b[39m\u001b[38;5;21mwrapper\u001b[39m(\u001b[38;5;241m*\u001b[39margs, \u001b[38;5;241m*\u001b[39m\u001b[38;5;241m*\u001b[39mkwargs):\n\u001b[1;32m    907\u001b[0m     \u001b[38;5;66;03m# update tbar correctly\u001b[39;00m\n\u001b[1;32m    908\u001b[0m     \u001b[38;5;66;03m# it seems `pandas apply` calls `func` twice\u001b[39;00m\n\u001b[1;32m    909\u001b[0m     \u001b[38;5;66;03m# on the first column/row to decide whether it can\u001b[39;00m\n\u001b[1;32m    910\u001b[0m     \u001b[38;5;66;03m# take a fast or slow code path; so stop when t.total==t.n\u001b[39;00m\n\u001b[1;32m    911\u001b[0m     t\u001b[38;5;241m.\u001b[39mupdate(n\u001b[38;5;241m=\u001b[39m\u001b[38;5;241m1\u001b[39m \u001b[38;5;28;01mif\u001b[39;00m \u001b[38;5;129;01mnot\u001b[39;00m t\u001b[38;5;241m.\u001b[39mtotal \u001b[38;5;129;01mor\u001b[39;00m t\u001b[38;5;241m.\u001b[39mn \u001b[38;5;241m<\u001b[39m t\u001b[38;5;241m.\u001b[39mtotal \u001b[38;5;28;01melse\u001b[39;00m \u001b[38;5;241m0\u001b[39m)\n\u001b[0;32m--> 912\u001b[0m     \u001b[38;5;28;01mreturn\u001b[39;00m \u001b[43mfunc\u001b[49m\u001b[43m(\u001b[49m\u001b[38;5;241;43m*\u001b[39;49m\u001b[43margs\u001b[49m\u001b[43m,\u001b[49m\u001b[43m \u001b[49m\u001b[38;5;241;43m*\u001b[39;49m\u001b[38;5;241;43m*\u001b[39;49m\u001b[43mkwargs\u001b[49m\u001b[43m)\u001b[49m\n",
      "Cell \u001b[0;32mIn[61], line 14\u001b[0m, in \u001b[0;36mget_summarize\u001b[0;34m(text)\u001b[0m\n\u001b[1;32m     10\u001b[0m inputs \u001b[38;5;241m=\u001b[39m tokenizer\u001b[38;5;241m.\u001b[39mapply_chat_template(chat, add_generation_prompt\u001b[38;5;241m=\u001b[39m\u001b[38;5;28;01mTrue\u001b[39;00m, return_dict\u001b[38;5;241m=\u001b[39m\u001b[38;5;28;01mTrue\u001b[39;00m, return_tensors\u001b[38;5;241m=\u001b[39m\u001b[38;5;124m\"\u001b[39m\u001b[38;5;124mpt\u001b[39m\u001b[38;5;124m\"\u001b[39m, \n\u001b[1;32m     11\u001b[0m                                       truncation\u001b[38;5;241m=\u001b[39m\u001b[38;5;28;01mTrue\u001b[39;00m, max_length\u001b[38;5;241m=\u001b[39mprompt_max)\n\u001b[1;32m     12\u001b[0m inputs \u001b[38;5;241m=\u001b[39m {k: v\u001b[38;5;241m.\u001b[39mto(device) \u001b[38;5;28;01mfor\u001b[39;00m k, v \u001b[38;5;129;01min\u001b[39;00m inputs\u001b[38;5;241m.\u001b[39mitems()}\n\u001b[0;32m---> 14\u001b[0m output_ids \u001b[38;5;241m=\u001b[39m \u001b[43mmodel\u001b[49m\u001b[38;5;241;43m.\u001b[39;49m\u001b[43mgenerate\u001b[49m\u001b[43m(\u001b[49m\u001b[38;5;241;43m*\u001b[39;49m\u001b[38;5;241;43m*\u001b[39;49m\u001b[43minputs\u001b[49m\u001b[43m,\u001b[49m\u001b[43m \u001b[49m\u001b[43mmax_length\u001b[49m\u001b[38;5;241;43m=\u001b[39;49m\u001b[43mmax_token_length\u001b[49m\u001b[43m,\u001b[49m\u001b[43m \u001b[49m\u001b[43mstop_strings\u001b[49m\u001b[38;5;241;43m=\u001b[39;49m\u001b[43m[\u001b[49m\u001b[38;5;124;43m\"\u001b[39;49m\u001b[38;5;124;43m<|endofturn|>\u001b[39;49m\u001b[38;5;124;43m\"\u001b[39;49m\u001b[43m,\u001b[49m\u001b[43m \u001b[49m\u001b[38;5;124;43m\"\u001b[39;49m\u001b[38;5;124;43m<|stop|>\u001b[39;49m\u001b[38;5;124;43m\"\u001b[39;49m\u001b[43m]\u001b[49m\u001b[43m,\u001b[49m\u001b[43m \u001b[49m\u001b[43mtokenizer\u001b[49m\u001b[38;5;241;43m=\u001b[39;49m\u001b[43mtokenizer\u001b[49m\u001b[43m)\u001b[49m\n\u001b[1;32m     16\u001b[0m responses \u001b[38;5;241m=\u001b[39m tokenizer\u001b[38;5;241m.\u001b[39mbatch_decode(output_ids, skip_special_tokens\u001b[38;5;241m=\u001b[39m\u001b[38;5;28;01mTrue\u001b[39;00m)\n\u001b[1;32m     18\u001b[0m _, _, answer \u001b[38;5;241m=\u001b[39m responses[\u001b[38;5;241m0\u001b[39m]\u001b[38;5;241m.\u001b[39mpartition(\u001b[38;5;124m\"\u001b[39m\u001b[38;5;124massistant\u001b[39m\u001b[38;5;130;01m\\n\u001b[39;00m\u001b[38;5;124m\"\u001b[39m)\n",
      "File \u001b[0;32m~/anaconda3/envs/apollo/lib/python3.10/site-packages/torch/utils/_contextlib.py:116\u001b[0m, in \u001b[0;36mcontext_decorator.<locals>.decorate_context\u001b[0;34m(*args, **kwargs)\u001b[0m\n\u001b[1;32m    113\u001b[0m \u001b[38;5;129m@functools\u001b[39m\u001b[38;5;241m.\u001b[39mwraps(func)\n\u001b[1;32m    114\u001b[0m \u001b[38;5;28;01mdef\u001b[39;00m\u001b[38;5;250m \u001b[39m\u001b[38;5;21mdecorate_context\u001b[39m(\u001b[38;5;241m*\u001b[39margs, \u001b[38;5;241m*\u001b[39m\u001b[38;5;241m*\u001b[39mkwargs):\n\u001b[1;32m    115\u001b[0m     \u001b[38;5;28;01mwith\u001b[39;00m ctx_factory():\n\u001b[0;32m--> 116\u001b[0m         \u001b[38;5;28;01mreturn\u001b[39;00m \u001b[43mfunc\u001b[49m\u001b[43m(\u001b[49m\u001b[38;5;241;43m*\u001b[39;49m\u001b[43margs\u001b[49m\u001b[43m,\u001b[49m\u001b[43m \u001b[49m\u001b[38;5;241;43m*\u001b[39;49m\u001b[38;5;241;43m*\u001b[39;49m\u001b[43mkwargs\u001b[49m\u001b[43m)\u001b[49m\n",
      "File \u001b[0;32m~/anaconda3/envs/apollo/lib/python3.10/site-packages/transformers/generation/utils.py:2465\u001b[0m, in \u001b[0;36mGenerationMixin.generate\u001b[0;34m(self, inputs, generation_config, logits_processor, stopping_criteria, prefix_allowed_tokens_fn, synced_gpus, assistant_model, streamer, negative_prompt_ids, negative_prompt_attention_mask, use_model_defaults, **kwargs)\u001b[0m\n\u001b[1;32m   2457\u001b[0m     input_ids, model_kwargs \u001b[38;5;241m=\u001b[39m \u001b[38;5;28mself\u001b[39m\u001b[38;5;241m.\u001b[39m_expand_inputs_for_generation(\n\u001b[1;32m   2458\u001b[0m         input_ids\u001b[38;5;241m=\u001b[39minput_ids,\n\u001b[1;32m   2459\u001b[0m         expand_size\u001b[38;5;241m=\u001b[39mgeneration_config\u001b[38;5;241m.\u001b[39mnum_return_sequences,\n\u001b[1;32m   2460\u001b[0m         is_encoder_decoder\u001b[38;5;241m=\u001b[39m\u001b[38;5;28mself\u001b[39m\u001b[38;5;241m.\u001b[39mconfig\u001b[38;5;241m.\u001b[39mis_encoder_decoder,\n\u001b[1;32m   2461\u001b[0m         \u001b[38;5;241m*\u001b[39m\u001b[38;5;241m*\u001b[39mmodel_kwargs,\n\u001b[1;32m   2462\u001b[0m     )\n\u001b[1;32m   2464\u001b[0m     \u001b[38;5;66;03m# 12. run sample (it degenerates to greedy search when `generation_config.do_sample=False`)\u001b[39;00m\n\u001b[0;32m-> 2465\u001b[0m     result \u001b[38;5;241m=\u001b[39m \u001b[38;5;28;43mself\u001b[39;49m\u001b[38;5;241;43m.\u001b[39;49m\u001b[43m_sample\u001b[49m\u001b[43m(\u001b[49m\n\u001b[1;32m   2466\u001b[0m \u001b[43m        \u001b[49m\u001b[43minput_ids\u001b[49m\u001b[43m,\u001b[49m\n\u001b[1;32m   2467\u001b[0m \u001b[43m        \u001b[49m\u001b[43mlogits_processor\u001b[49m\u001b[38;5;241;43m=\u001b[39;49m\u001b[43mprepared_logits_processor\u001b[49m\u001b[43m,\u001b[49m\n\u001b[1;32m   2468\u001b[0m \u001b[43m        \u001b[49m\u001b[43mstopping_criteria\u001b[49m\u001b[38;5;241;43m=\u001b[39;49m\u001b[43mprepared_stopping_criteria\u001b[49m\u001b[43m,\u001b[49m\n\u001b[1;32m   2469\u001b[0m \u001b[43m        \u001b[49m\u001b[43mgeneration_config\u001b[49m\u001b[38;5;241;43m=\u001b[39;49m\u001b[43mgeneration_config\u001b[49m\u001b[43m,\u001b[49m\n\u001b[1;32m   2470\u001b[0m \u001b[43m        \u001b[49m\u001b[43msynced_gpus\u001b[49m\u001b[38;5;241;43m=\u001b[39;49m\u001b[43msynced_gpus\u001b[49m\u001b[43m,\u001b[49m\n\u001b[1;32m   2471\u001b[0m \u001b[43m        \u001b[49m\u001b[43mstreamer\u001b[49m\u001b[38;5;241;43m=\u001b[39;49m\u001b[43mstreamer\u001b[49m\u001b[43m,\u001b[49m\n\u001b[1;32m   2472\u001b[0m \u001b[43m        \u001b[49m\u001b[38;5;241;43m*\u001b[39;49m\u001b[38;5;241;43m*\u001b[39;49m\u001b[43mmodel_kwargs\u001b[49m\u001b[43m,\u001b[49m\n\u001b[1;32m   2473\u001b[0m \u001b[43m    \u001b[49m\u001b[43m)\u001b[49m\n\u001b[1;32m   2475\u001b[0m \u001b[38;5;28;01melif\u001b[39;00m generation_mode \u001b[38;5;129;01min\u001b[39;00m (GenerationMode\u001b[38;5;241m.\u001b[39mBEAM_SAMPLE, GenerationMode\u001b[38;5;241m.\u001b[39mBEAM_SEARCH):\n\u001b[1;32m   2476\u001b[0m     \u001b[38;5;66;03m# 11. interleave input_ids with `num_beams` additional sequences per batch\u001b[39;00m\n\u001b[1;32m   2477\u001b[0m     input_ids, model_kwargs \u001b[38;5;241m=\u001b[39m \u001b[38;5;28mself\u001b[39m\u001b[38;5;241m.\u001b[39m_expand_inputs_for_generation(\n\u001b[1;32m   2478\u001b[0m         input_ids\u001b[38;5;241m=\u001b[39minput_ids,\n\u001b[1;32m   2479\u001b[0m         expand_size\u001b[38;5;241m=\u001b[39mgeneration_config\u001b[38;5;241m.\u001b[39mnum_beams,\n\u001b[1;32m   2480\u001b[0m         is_encoder_decoder\u001b[38;5;241m=\u001b[39m\u001b[38;5;28mself\u001b[39m\u001b[38;5;241m.\u001b[39mconfig\u001b[38;5;241m.\u001b[39mis_encoder_decoder,\n\u001b[1;32m   2481\u001b[0m         \u001b[38;5;241m*\u001b[39m\u001b[38;5;241m*\u001b[39mmodel_kwargs,\n\u001b[1;32m   2482\u001b[0m     )\n",
      "File \u001b[0;32m~/anaconda3/envs/apollo/lib/python3.10/site-packages/transformers/generation/utils.py:3434\u001b[0m, in \u001b[0;36mGenerationMixin._sample\u001b[0;34m(self, input_ids, logits_processor, stopping_criteria, generation_config, synced_gpus, streamer, **model_kwargs)\u001b[0m\n\u001b[1;32m   3432\u001b[0m     is_prefill \u001b[38;5;241m=\u001b[39m \u001b[38;5;28;01mFalse\u001b[39;00m\n\u001b[1;32m   3433\u001b[0m \u001b[38;5;28;01melse\u001b[39;00m:\n\u001b[0;32m-> 3434\u001b[0m     outputs \u001b[38;5;241m=\u001b[39m \u001b[43mmodel_forward\u001b[49m\u001b[43m(\u001b[49m\u001b[38;5;241;43m*\u001b[39;49m\u001b[38;5;241;43m*\u001b[39;49m\u001b[43mmodel_inputs\u001b[49m\u001b[43m,\u001b[49m\u001b[43m \u001b[49m\u001b[43mreturn_dict\u001b[49m\u001b[38;5;241;43m=\u001b[39;49m\u001b[38;5;28;43;01mTrue\u001b[39;49;00m\u001b[43m)\u001b[49m\n\u001b[1;32m   3436\u001b[0m \u001b[38;5;66;03m# synced_gpus: don't waste resources running the code we don't need; kwargs must be updated before skipping\u001b[39;00m\n\u001b[1;32m   3437\u001b[0m model_kwargs \u001b[38;5;241m=\u001b[39m \u001b[38;5;28mself\u001b[39m\u001b[38;5;241m.\u001b[39m_update_model_kwargs_for_generation(\n\u001b[1;32m   3438\u001b[0m     outputs,\n\u001b[1;32m   3439\u001b[0m     model_kwargs,\n\u001b[1;32m   3440\u001b[0m     is_encoder_decoder\u001b[38;5;241m=\u001b[39m\u001b[38;5;28mself\u001b[39m\u001b[38;5;241m.\u001b[39mconfig\u001b[38;5;241m.\u001b[39mis_encoder_decoder,\n\u001b[1;32m   3441\u001b[0m )\n",
      "File \u001b[0;32m~/anaconda3/envs/apollo/lib/python3.10/site-packages/torch/nn/modules/module.py:1739\u001b[0m, in \u001b[0;36mModule._wrapped_call_impl\u001b[0;34m(self, *args, **kwargs)\u001b[0m\n\u001b[1;32m   1737\u001b[0m     \u001b[38;5;28;01mreturn\u001b[39;00m \u001b[38;5;28mself\u001b[39m\u001b[38;5;241m.\u001b[39m_compiled_call_impl(\u001b[38;5;241m*\u001b[39margs, \u001b[38;5;241m*\u001b[39m\u001b[38;5;241m*\u001b[39mkwargs)  \u001b[38;5;66;03m# type: ignore[misc]\u001b[39;00m\n\u001b[1;32m   1738\u001b[0m \u001b[38;5;28;01melse\u001b[39;00m:\n\u001b[0;32m-> 1739\u001b[0m     \u001b[38;5;28;01mreturn\u001b[39;00m \u001b[38;5;28;43mself\u001b[39;49m\u001b[38;5;241;43m.\u001b[39;49m\u001b[43m_call_impl\u001b[49m\u001b[43m(\u001b[49m\u001b[38;5;241;43m*\u001b[39;49m\u001b[43margs\u001b[49m\u001b[43m,\u001b[49m\u001b[43m \u001b[49m\u001b[38;5;241;43m*\u001b[39;49m\u001b[38;5;241;43m*\u001b[39;49m\u001b[43mkwargs\u001b[49m\u001b[43m)\u001b[49m\n",
      "File \u001b[0;32m~/anaconda3/envs/apollo/lib/python3.10/site-packages/torch/nn/modules/module.py:1750\u001b[0m, in \u001b[0;36mModule._call_impl\u001b[0;34m(self, *args, **kwargs)\u001b[0m\n\u001b[1;32m   1745\u001b[0m \u001b[38;5;66;03m# If we don't have any hooks, we want to skip the rest of the logic in\u001b[39;00m\n\u001b[1;32m   1746\u001b[0m \u001b[38;5;66;03m# this function, and just call forward.\u001b[39;00m\n\u001b[1;32m   1747\u001b[0m \u001b[38;5;28;01mif\u001b[39;00m \u001b[38;5;129;01mnot\u001b[39;00m (\u001b[38;5;28mself\u001b[39m\u001b[38;5;241m.\u001b[39m_backward_hooks \u001b[38;5;129;01mor\u001b[39;00m \u001b[38;5;28mself\u001b[39m\u001b[38;5;241m.\u001b[39m_backward_pre_hooks \u001b[38;5;129;01mor\u001b[39;00m \u001b[38;5;28mself\u001b[39m\u001b[38;5;241m.\u001b[39m_forward_hooks \u001b[38;5;129;01mor\u001b[39;00m \u001b[38;5;28mself\u001b[39m\u001b[38;5;241m.\u001b[39m_forward_pre_hooks\n\u001b[1;32m   1748\u001b[0m         \u001b[38;5;129;01mor\u001b[39;00m _global_backward_pre_hooks \u001b[38;5;129;01mor\u001b[39;00m _global_backward_hooks\n\u001b[1;32m   1749\u001b[0m         \u001b[38;5;129;01mor\u001b[39;00m _global_forward_hooks \u001b[38;5;129;01mor\u001b[39;00m _global_forward_pre_hooks):\n\u001b[0;32m-> 1750\u001b[0m     \u001b[38;5;28;01mreturn\u001b[39;00m \u001b[43mforward_call\u001b[49m\u001b[43m(\u001b[49m\u001b[38;5;241;43m*\u001b[39;49m\u001b[43margs\u001b[49m\u001b[43m,\u001b[49m\u001b[43m \u001b[49m\u001b[38;5;241;43m*\u001b[39;49m\u001b[38;5;241;43m*\u001b[39;49m\u001b[43mkwargs\u001b[49m\u001b[43m)\u001b[49m\n\u001b[1;32m   1752\u001b[0m result \u001b[38;5;241m=\u001b[39m \u001b[38;5;28;01mNone\u001b[39;00m\n\u001b[1;32m   1753\u001b[0m called_always_called_hooks \u001b[38;5;241m=\u001b[39m \u001b[38;5;28mset\u001b[39m()\n",
      "File \u001b[0;32m~/anaconda3/envs/apollo/lib/python3.10/site-packages/transformers/utils/generic.py:965\u001b[0m, in \u001b[0;36mcan_return_tuple.<locals>.wrapper\u001b[0;34m(self, *args, **kwargs)\u001b[0m\n\u001b[1;32m    962\u001b[0m     set_attribute_for_modules(\u001b[38;5;28mself\u001b[39m, \u001b[38;5;124m\"\u001b[39m\u001b[38;5;124m_is_top_level_module\u001b[39m\u001b[38;5;124m\"\u001b[39m, \u001b[38;5;28;01mFalse\u001b[39;00m)\n\u001b[1;32m    964\u001b[0m \u001b[38;5;28;01mtry\u001b[39;00m:\n\u001b[0;32m--> 965\u001b[0m     output \u001b[38;5;241m=\u001b[39m \u001b[43mfunc\u001b[49m\u001b[43m(\u001b[49m\u001b[38;5;28;43mself\u001b[39;49m\u001b[43m,\u001b[49m\u001b[43m \u001b[49m\u001b[38;5;241;43m*\u001b[39;49m\u001b[43margs\u001b[49m\u001b[43m,\u001b[49m\u001b[43m \u001b[49m\u001b[38;5;241;43m*\u001b[39;49m\u001b[38;5;241;43m*\u001b[39;49m\u001b[43mkwargs\u001b[49m\u001b[43m)\u001b[49m\n\u001b[1;32m    966\u001b[0m     \u001b[38;5;28;01mif\u001b[39;00m is_requested_to_return_tuple \u001b[38;5;129;01mor\u001b[39;00m (is_configured_to_return_tuple \u001b[38;5;129;01mand\u001b[39;00m is_top_level_module):\n\u001b[1;32m    967\u001b[0m         output \u001b[38;5;241m=\u001b[39m output\u001b[38;5;241m.\u001b[39mto_tuple()\n",
      "File \u001b[0;32m~/anaconda3/envs/apollo/lib/python3.10/site-packages/transformers/utils/deprecation.py:172\u001b[0m, in \u001b[0;36mdeprecate_kwarg.<locals>.wrapper.<locals>.wrapped_func\u001b[0;34m(*args, **kwargs)\u001b[0m\n\u001b[1;32m    168\u001b[0m \u001b[38;5;28;01melif\u001b[39;00m minimum_action \u001b[38;5;129;01min\u001b[39;00m (Action\u001b[38;5;241m.\u001b[39mNOTIFY, Action\u001b[38;5;241m.\u001b[39mNOTIFY_ALWAYS) \u001b[38;5;129;01mand\u001b[39;00m \u001b[38;5;129;01mnot\u001b[39;00m is_torchdynamo_compiling():\n\u001b[1;32m    169\u001b[0m     \u001b[38;5;66;03m# DeprecationWarning is ignored by default, so we use FutureWarning instead\u001b[39;00m\n\u001b[1;32m    170\u001b[0m     warnings\u001b[38;5;241m.\u001b[39mwarn(message, \u001b[38;5;167;01mFutureWarning\u001b[39;00m, stacklevel\u001b[38;5;241m=\u001b[39m\u001b[38;5;241m2\u001b[39m)\n\u001b[0;32m--> 172\u001b[0m \u001b[38;5;28;01mreturn\u001b[39;00m \u001b[43mfunc\u001b[49m\u001b[43m(\u001b[49m\u001b[38;5;241;43m*\u001b[39;49m\u001b[43margs\u001b[49m\u001b[43m,\u001b[49m\u001b[43m \u001b[49m\u001b[38;5;241;43m*\u001b[39;49m\u001b[38;5;241;43m*\u001b[39;49m\u001b[43mkwargs\u001b[49m\u001b[43m)\u001b[49m\n",
      "File \u001b[0;32m~/anaconda3/envs/apollo/lib/python3.10/site-packages/transformers/models/llama/modeling_llama.py:821\u001b[0m, in \u001b[0;36mLlamaForCausalLM.forward\u001b[0;34m(self, input_ids, attention_mask, position_ids, past_key_values, inputs_embeds, labels, use_cache, output_attentions, output_hidden_states, cache_position, logits_to_keep, **kwargs)\u001b[0m\n\u001b[1;32m    816\u001b[0m output_hidden_states \u001b[38;5;241m=\u001b[39m (\n\u001b[1;32m    817\u001b[0m     output_hidden_states \u001b[38;5;28;01mif\u001b[39;00m output_hidden_states \u001b[38;5;129;01mis\u001b[39;00m \u001b[38;5;129;01mnot\u001b[39;00m \u001b[38;5;28;01mNone\u001b[39;00m \u001b[38;5;28;01melse\u001b[39;00m \u001b[38;5;28mself\u001b[39m\u001b[38;5;241m.\u001b[39mconfig\u001b[38;5;241m.\u001b[39moutput_hidden_states\n\u001b[1;32m    818\u001b[0m )\n\u001b[1;32m    820\u001b[0m \u001b[38;5;66;03m# decoder outputs consists of (dec_features, layer_state, dec_hidden, dec_attn)\u001b[39;00m\n\u001b[0;32m--> 821\u001b[0m outputs: BaseModelOutputWithPast \u001b[38;5;241m=\u001b[39m \u001b[38;5;28;43mself\u001b[39;49m\u001b[38;5;241;43m.\u001b[39;49m\u001b[43mmodel\u001b[49m\u001b[43m(\u001b[49m\n\u001b[1;32m    822\u001b[0m \u001b[43m    \u001b[49m\u001b[43minput_ids\u001b[49m\u001b[38;5;241;43m=\u001b[39;49m\u001b[43minput_ids\u001b[49m\u001b[43m,\u001b[49m\n\u001b[1;32m    823\u001b[0m \u001b[43m    \u001b[49m\u001b[43mattention_mask\u001b[49m\u001b[38;5;241;43m=\u001b[39;49m\u001b[43mattention_mask\u001b[49m\u001b[43m,\u001b[49m\n\u001b[1;32m    824\u001b[0m \u001b[43m    \u001b[49m\u001b[43mposition_ids\u001b[49m\u001b[38;5;241;43m=\u001b[39;49m\u001b[43mposition_ids\u001b[49m\u001b[43m,\u001b[49m\n\u001b[1;32m    825\u001b[0m \u001b[43m    \u001b[49m\u001b[43mpast_key_values\u001b[49m\u001b[38;5;241;43m=\u001b[39;49m\u001b[43mpast_key_values\u001b[49m\u001b[43m,\u001b[49m\n\u001b[1;32m    826\u001b[0m \u001b[43m    \u001b[49m\u001b[43minputs_embeds\u001b[49m\u001b[38;5;241;43m=\u001b[39;49m\u001b[43minputs_embeds\u001b[49m\u001b[43m,\u001b[49m\n\u001b[1;32m    827\u001b[0m \u001b[43m    \u001b[49m\u001b[43muse_cache\u001b[49m\u001b[38;5;241;43m=\u001b[39;49m\u001b[43muse_cache\u001b[49m\u001b[43m,\u001b[49m\n\u001b[1;32m    828\u001b[0m \u001b[43m    \u001b[49m\u001b[43moutput_attentions\u001b[49m\u001b[38;5;241;43m=\u001b[39;49m\u001b[43moutput_attentions\u001b[49m\u001b[43m,\u001b[49m\n\u001b[1;32m    829\u001b[0m \u001b[43m    \u001b[49m\u001b[43moutput_hidden_states\u001b[49m\u001b[38;5;241;43m=\u001b[39;49m\u001b[43moutput_hidden_states\u001b[49m\u001b[43m,\u001b[49m\n\u001b[1;32m    830\u001b[0m \u001b[43m    \u001b[49m\u001b[43mcache_position\u001b[49m\u001b[38;5;241;43m=\u001b[39;49m\u001b[43mcache_position\u001b[49m\u001b[43m,\u001b[49m\n\u001b[1;32m    831\u001b[0m \u001b[43m    \u001b[49m\u001b[38;5;241;43m*\u001b[39;49m\u001b[38;5;241;43m*\u001b[39;49m\u001b[43mkwargs\u001b[49m\u001b[43m,\u001b[49m\n\u001b[1;32m    832\u001b[0m \u001b[43m\u001b[49m\u001b[43m)\u001b[49m\n\u001b[1;32m    834\u001b[0m hidden_states \u001b[38;5;241m=\u001b[39m outputs\u001b[38;5;241m.\u001b[39mlast_hidden_state\n\u001b[1;32m    835\u001b[0m \u001b[38;5;66;03m# Only compute necessary logits, and do not upcast them to float if we are not computing the loss\u001b[39;00m\n",
      "File \u001b[0;32m~/anaconda3/envs/apollo/lib/python3.10/site-packages/torch/nn/modules/module.py:1739\u001b[0m, in \u001b[0;36mModule._wrapped_call_impl\u001b[0;34m(self, *args, **kwargs)\u001b[0m\n\u001b[1;32m   1737\u001b[0m     \u001b[38;5;28;01mreturn\u001b[39;00m \u001b[38;5;28mself\u001b[39m\u001b[38;5;241m.\u001b[39m_compiled_call_impl(\u001b[38;5;241m*\u001b[39margs, \u001b[38;5;241m*\u001b[39m\u001b[38;5;241m*\u001b[39mkwargs)  \u001b[38;5;66;03m# type: ignore[misc]\u001b[39;00m\n\u001b[1;32m   1738\u001b[0m \u001b[38;5;28;01melse\u001b[39;00m:\n\u001b[0;32m-> 1739\u001b[0m     \u001b[38;5;28;01mreturn\u001b[39;00m \u001b[38;5;28;43mself\u001b[39;49m\u001b[38;5;241;43m.\u001b[39;49m\u001b[43m_call_impl\u001b[49m\u001b[43m(\u001b[49m\u001b[38;5;241;43m*\u001b[39;49m\u001b[43margs\u001b[49m\u001b[43m,\u001b[49m\u001b[43m \u001b[49m\u001b[38;5;241;43m*\u001b[39;49m\u001b[38;5;241;43m*\u001b[39;49m\u001b[43mkwargs\u001b[49m\u001b[43m)\u001b[49m\n",
      "File \u001b[0;32m~/anaconda3/envs/apollo/lib/python3.10/site-packages/torch/nn/modules/module.py:1750\u001b[0m, in \u001b[0;36mModule._call_impl\u001b[0;34m(self, *args, **kwargs)\u001b[0m\n\u001b[1;32m   1745\u001b[0m \u001b[38;5;66;03m# If we don't have any hooks, we want to skip the rest of the logic in\u001b[39;00m\n\u001b[1;32m   1746\u001b[0m \u001b[38;5;66;03m# this function, and just call forward.\u001b[39;00m\n\u001b[1;32m   1747\u001b[0m \u001b[38;5;28;01mif\u001b[39;00m \u001b[38;5;129;01mnot\u001b[39;00m (\u001b[38;5;28mself\u001b[39m\u001b[38;5;241m.\u001b[39m_backward_hooks \u001b[38;5;129;01mor\u001b[39;00m \u001b[38;5;28mself\u001b[39m\u001b[38;5;241m.\u001b[39m_backward_pre_hooks \u001b[38;5;129;01mor\u001b[39;00m \u001b[38;5;28mself\u001b[39m\u001b[38;5;241m.\u001b[39m_forward_hooks \u001b[38;5;129;01mor\u001b[39;00m \u001b[38;5;28mself\u001b[39m\u001b[38;5;241m.\u001b[39m_forward_pre_hooks\n\u001b[1;32m   1748\u001b[0m         \u001b[38;5;129;01mor\u001b[39;00m _global_backward_pre_hooks \u001b[38;5;129;01mor\u001b[39;00m _global_backward_hooks\n\u001b[1;32m   1749\u001b[0m         \u001b[38;5;129;01mor\u001b[39;00m _global_forward_hooks \u001b[38;5;129;01mor\u001b[39;00m _global_forward_pre_hooks):\n\u001b[0;32m-> 1750\u001b[0m     \u001b[38;5;28;01mreturn\u001b[39;00m \u001b[43mforward_call\u001b[49m\u001b[43m(\u001b[49m\u001b[38;5;241;43m*\u001b[39;49m\u001b[43margs\u001b[49m\u001b[43m,\u001b[49m\u001b[43m \u001b[49m\u001b[38;5;241;43m*\u001b[39;49m\u001b[38;5;241;43m*\u001b[39;49m\u001b[43mkwargs\u001b[49m\u001b[43m)\u001b[49m\n\u001b[1;32m   1752\u001b[0m result \u001b[38;5;241m=\u001b[39m \u001b[38;5;28;01mNone\u001b[39;00m\n\u001b[1;32m   1753\u001b[0m called_always_called_hooks \u001b[38;5;241m=\u001b[39m \u001b[38;5;28mset\u001b[39m()\n",
      "File \u001b[0;32m~/anaconda3/envs/apollo/lib/python3.10/site-packages/transformers/utils/generic.py:965\u001b[0m, in \u001b[0;36mcan_return_tuple.<locals>.wrapper\u001b[0;34m(self, *args, **kwargs)\u001b[0m\n\u001b[1;32m    962\u001b[0m     set_attribute_for_modules(\u001b[38;5;28mself\u001b[39m, \u001b[38;5;124m\"\u001b[39m\u001b[38;5;124m_is_top_level_module\u001b[39m\u001b[38;5;124m\"\u001b[39m, \u001b[38;5;28;01mFalse\u001b[39;00m)\n\u001b[1;32m    964\u001b[0m \u001b[38;5;28;01mtry\u001b[39;00m:\n\u001b[0;32m--> 965\u001b[0m     output \u001b[38;5;241m=\u001b[39m \u001b[43mfunc\u001b[49m\u001b[43m(\u001b[49m\u001b[38;5;28;43mself\u001b[39;49m\u001b[43m,\u001b[49m\u001b[43m \u001b[49m\u001b[38;5;241;43m*\u001b[39;49m\u001b[43margs\u001b[49m\u001b[43m,\u001b[49m\u001b[43m \u001b[49m\u001b[38;5;241;43m*\u001b[39;49m\u001b[38;5;241;43m*\u001b[39;49m\u001b[43mkwargs\u001b[49m\u001b[43m)\u001b[49m\n\u001b[1;32m    966\u001b[0m     \u001b[38;5;28;01mif\u001b[39;00m is_requested_to_return_tuple \u001b[38;5;129;01mor\u001b[39;00m (is_configured_to_return_tuple \u001b[38;5;129;01mand\u001b[39;00m is_top_level_module):\n\u001b[1;32m    967\u001b[0m         output \u001b[38;5;241m=\u001b[39m output\u001b[38;5;241m.\u001b[39mto_tuple()\n",
      "File \u001b[0;32m~/anaconda3/envs/apollo/lib/python3.10/site-packages/transformers/models/llama/modeling_llama.py:571\u001b[0m, in \u001b[0;36mLlamaModel.forward\u001b[0;34m(self, input_ids, attention_mask, position_ids, past_key_values, inputs_embeds, use_cache, output_attentions, output_hidden_states, cache_position, **flash_attn_kwargs)\u001b[0m\n\u001b[1;32m    559\u001b[0m     layer_outputs \u001b[38;5;241m=\u001b[39m \u001b[38;5;28mself\u001b[39m\u001b[38;5;241m.\u001b[39m_gradient_checkpointing_func(\n\u001b[1;32m    560\u001b[0m         partial(decoder_layer\u001b[38;5;241m.\u001b[39m\u001b[38;5;21m__call__\u001b[39m, \u001b[38;5;241m*\u001b[39m\u001b[38;5;241m*\u001b[39mflash_attn_kwargs),\n\u001b[1;32m    561\u001b[0m         hidden_states,\n\u001b[0;32m   (...)\u001b[0m\n\u001b[1;32m    568\u001b[0m         position_embeddings,\n\u001b[1;32m    569\u001b[0m     )\n\u001b[1;32m    570\u001b[0m \u001b[38;5;28;01melse\u001b[39;00m:\n\u001b[0;32m--> 571\u001b[0m     layer_outputs \u001b[38;5;241m=\u001b[39m \u001b[43mdecoder_layer\u001b[49m\u001b[43m(\u001b[49m\n\u001b[1;32m    572\u001b[0m \u001b[43m        \u001b[49m\u001b[43mhidden_states\u001b[49m\u001b[43m,\u001b[49m\n\u001b[1;32m    573\u001b[0m \u001b[43m        \u001b[49m\u001b[43mattention_mask\u001b[49m\u001b[38;5;241;43m=\u001b[39;49m\u001b[43mcausal_mask\u001b[49m\u001b[43m,\u001b[49m\n\u001b[1;32m    574\u001b[0m \u001b[43m        \u001b[49m\u001b[43mposition_ids\u001b[49m\u001b[38;5;241;43m=\u001b[39;49m\u001b[43mposition_ids\u001b[49m\u001b[43m,\u001b[49m\n\u001b[1;32m    575\u001b[0m \u001b[43m        \u001b[49m\u001b[43mpast_key_value\u001b[49m\u001b[38;5;241;43m=\u001b[39;49m\u001b[43mpast_key_values\u001b[49m\u001b[43m,\u001b[49m\n\u001b[1;32m    576\u001b[0m \u001b[43m        \u001b[49m\u001b[43moutput_attentions\u001b[49m\u001b[38;5;241;43m=\u001b[39;49m\u001b[43moutput_attentions\u001b[49m\u001b[43m,\u001b[49m\n\u001b[1;32m    577\u001b[0m \u001b[43m        \u001b[49m\u001b[43muse_cache\u001b[49m\u001b[38;5;241;43m=\u001b[39;49m\u001b[43muse_cache\u001b[49m\u001b[43m,\u001b[49m\n\u001b[1;32m    578\u001b[0m \u001b[43m        \u001b[49m\u001b[43mcache_position\u001b[49m\u001b[38;5;241;43m=\u001b[39;49m\u001b[43mcache_position\u001b[49m\u001b[43m,\u001b[49m\n\u001b[1;32m    579\u001b[0m \u001b[43m        \u001b[49m\u001b[43mposition_embeddings\u001b[49m\u001b[38;5;241;43m=\u001b[39;49m\u001b[43mposition_embeddings\u001b[49m\u001b[43m,\u001b[49m\n\u001b[1;32m    580\u001b[0m \u001b[43m        \u001b[49m\u001b[38;5;241;43m*\u001b[39;49m\u001b[38;5;241;43m*\u001b[39;49m\u001b[43mflash_attn_kwargs\u001b[49m\u001b[43m,\u001b[49m\n\u001b[1;32m    581\u001b[0m \u001b[43m    \u001b[49m\u001b[43m)\u001b[49m\n\u001b[1;32m    583\u001b[0m hidden_states \u001b[38;5;241m=\u001b[39m layer_outputs[\u001b[38;5;241m0\u001b[39m]\n\u001b[1;32m    585\u001b[0m \u001b[38;5;28;01mif\u001b[39;00m output_attentions:\n",
      "File \u001b[0;32m~/anaconda3/envs/apollo/lib/python3.10/site-packages/torch/nn/modules/module.py:1739\u001b[0m, in \u001b[0;36mModule._wrapped_call_impl\u001b[0;34m(self, *args, **kwargs)\u001b[0m\n\u001b[1;32m   1737\u001b[0m     \u001b[38;5;28;01mreturn\u001b[39;00m \u001b[38;5;28mself\u001b[39m\u001b[38;5;241m.\u001b[39m_compiled_call_impl(\u001b[38;5;241m*\u001b[39margs, \u001b[38;5;241m*\u001b[39m\u001b[38;5;241m*\u001b[39mkwargs)  \u001b[38;5;66;03m# type: ignore[misc]\u001b[39;00m\n\u001b[1;32m   1738\u001b[0m \u001b[38;5;28;01melse\u001b[39;00m:\n\u001b[0;32m-> 1739\u001b[0m     \u001b[38;5;28;01mreturn\u001b[39;00m \u001b[38;5;28;43mself\u001b[39;49m\u001b[38;5;241;43m.\u001b[39;49m\u001b[43m_call_impl\u001b[49m\u001b[43m(\u001b[49m\u001b[38;5;241;43m*\u001b[39;49m\u001b[43margs\u001b[49m\u001b[43m,\u001b[49m\u001b[43m \u001b[49m\u001b[38;5;241;43m*\u001b[39;49m\u001b[38;5;241;43m*\u001b[39;49m\u001b[43mkwargs\u001b[49m\u001b[43m)\u001b[49m\n",
      "File \u001b[0;32m~/anaconda3/envs/apollo/lib/python3.10/site-packages/torch/nn/modules/module.py:1750\u001b[0m, in \u001b[0;36mModule._call_impl\u001b[0;34m(self, *args, **kwargs)\u001b[0m\n\u001b[1;32m   1745\u001b[0m \u001b[38;5;66;03m# If we don't have any hooks, we want to skip the rest of the logic in\u001b[39;00m\n\u001b[1;32m   1746\u001b[0m \u001b[38;5;66;03m# this function, and just call forward.\u001b[39;00m\n\u001b[1;32m   1747\u001b[0m \u001b[38;5;28;01mif\u001b[39;00m \u001b[38;5;129;01mnot\u001b[39;00m (\u001b[38;5;28mself\u001b[39m\u001b[38;5;241m.\u001b[39m_backward_hooks \u001b[38;5;129;01mor\u001b[39;00m \u001b[38;5;28mself\u001b[39m\u001b[38;5;241m.\u001b[39m_backward_pre_hooks \u001b[38;5;129;01mor\u001b[39;00m \u001b[38;5;28mself\u001b[39m\u001b[38;5;241m.\u001b[39m_forward_hooks \u001b[38;5;129;01mor\u001b[39;00m \u001b[38;5;28mself\u001b[39m\u001b[38;5;241m.\u001b[39m_forward_pre_hooks\n\u001b[1;32m   1748\u001b[0m         \u001b[38;5;129;01mor\u001b[39;00m _global_backward_pre_hooks \u001b[38;5;129;01mor\u001b[39;00m _global_backward_hooks\n\u001b[1;32m   1749\u001b[0m         \u001b[38;5;129;01mor\u001b[39;00m _global_forward_hooks \u001b[38;5;129;01mor\u001b[39;00m _global_forward_pre_hooks):\n\u001b[0;32m-> 1750\u001b[0m     \u001b[38;5;28;01mreturn\u001b[39;00m \u001b[43mforward_call\u001b[49m\u001b[43m(\u001b[49m\u001b[38;5;241;43m*\u001b[39;49m\u001b[43margs\u001b[49m\u001b[43m,\u001b[49m\u001b[43m \u001b[49m\u001b[38;5;241;43m*\u001b[39;49m\u001b[38;5;241;43m*\u001b[39;49m\u001b[43mkwargs\u001b[49m\u001b[43m)\u001b[49m\n\u001b[1;32m   1752\u001b[0m result \u001b[38;5;241m=\u001b[39m \u001b[38;5;28;01mNone\u001b[39;00m\n\u001b[1;32m   1753\u001b[0m called_always_called_hooks \u001b[38;5;241m=\u001b[39m \u001b[38;5;28mset\u001b[39m()\n",
      "File \u001b[0;32m~/anaconda3/envs/apollo/lib/python3.10/site-packages/transformers/models/llama/modeling_llama.py:333\u001b[0m, in \u001b[0;36mLlamaDecoderLayer.forward\u001b[0;34m(self, hidden_states, attention_mask, position_ids, past_key_value, output_attentions, use_cache, cache_position, position_embeddings, **kwargs)\u001b[0m\n\u001b[1;32m    331\u001b[0m \u001b[38;5;66;03m# Fully Connected\u001b[39;00m\n\u001b[1;32m    332\u001b[0m residual \u001b[38;5;241m=\u001b[39m hidden_states\n\u001b[0;32m--> 333\u001b[0m hidden_states \u001b[38;5;241m=\u001b[39m \u001b[38;5;28;43mself\u001b[39;49m\u001b[38;5;241;43m.\u001b[39;49m\u001b[43mpost_attention_layernorm\u001b[49m\u001b[43m(\u001b[49m\u001b[43mhidden_states\u001b[49m\u001b[43m)\u001b[49m\n\u001b[1;32m    334\u001b[0m hidden_states \u001b[38;5;241m=\u001b[39m \u001b[38;5;28mself\u001b[39m\u001b[38;5;241m.\u001b[39mmlp(hidden_states)\n\u001b[1;32m    335\u001b[0m hidden_states \u001b[38;5;241m=\u001b[39m residual \u001b[38;5;241m+\u001b[39m hidden_states\n",
      "File \u001b[0;32m~/anaconda3/envs/apollo/lib/python3.10/site-packages/torch/nn/modules/module.py:1739\u001b[0m, in \u001b[0;36mModule._wrapped_call_impl\u001b[0;34m(self, *args, **kwargs)\u001b[0m\n\u001b[1;32m   1737\u001b[0m     \u001b[38;5;28;01mreturn\u001b[39;00m \u001b[38;5;28mself\u001b[39m\u001b[38;5;241m.\u001b[39m_compiled_call_impl(\u001b[38;5;241m*\u001b[39margs, \u001b[38;5;241m*\u001b[39m\u001b[38;5;241m*\u001b[39mkwargs)  \u001b[38;5;66;03m# type: ignore[misc]\u001b[39;00m\n\u001b[1;32m   1738\u001b[0m \u001b[38;5;28;01melse\u001b[39;00m:\n\u001b[0;32m-> 1739\u001b[0m     \u001b[38;5;28;01mreturn\u001b[39;00m \u001b[38;5;28;43mself\u001b[39;49m\u001b[38;5;241;43m.\u001b[39;49m\u001b[43m_call_impl\u001b[49m\u001b[43m(\u001b[49m\u001b[38;5;241;43m*\u001b[39;49m\u001b[43margs\u001b[49m\u001b[43m,\u001b[49m\u001b[43m \u001b[49m\u001b[38;5;241;43m*\u001b[39;49m\u001b[38;5;241;43m*\u001b[39;49m\u001b[43mkwargs\u001b[49m\u001b[43m)\u001b[49m\n",
      "File \u001b[0;32m~/anaconda3/envs/apollo/lib/python3.10/site-packages/torch/nn/modules/module.py:1750\u001b[0m, in \u001b[0;36mModule._call_impl\u001b[0;34m(self, *args, **kwargs)\u001b[0m\n\u001b[1;32m   1745\u001b[0m \u001b[38;5;66;03m# If we don't have any hooks, we want to skip the rest of the logic in\u001b[39;00m\n\u001b[1;32m   1746\u001b[0m \u001b[38;5;66;03m# this function, and just call forward.\u001b[39;00m\n\u001b[1;32m   1747\u001b[0m \u001b[38;5;28;01mif\u001b[39;00m \u001b[38;5;129;01mnot\u001b[39;00m (\u001b[38;5;28mself\u001b[39m\u001b[38;5;241m.\u001b[39m_backward_hooks \u001b[38;5;129;01mor\u001b[39;00m \u001b[38;5;28mself\u001b[39m\u001b[38;5;241m.\u001b[39m_backward_pre_hooks \u001b[38;5;129;01mor\u001b[39;00m \u001b[38;5;28mself\u001b[39m\u001b[38;5;241m.\u001b[39m_forward_hooks \u001b[38;5;129;01mor\u001b[39;00m \u001b[38;5;28mself\u001b[39m\u001b[38;5;241m.\u001b[39m_forward_pre_hooks\n\u001b[1;32m   1748\u001b[0m         \u001b[38;5;129;01mor\u001b[39;00m _global_backward_pre_hooks \u001b[38;5;129;01mor\u001b[39;00m _global_backward_hooks\n\u001b[1;32m   1749\u001b[0m         \u001b[38;5;129;01mor\u001b[39;00m _global_forward_hooks \u001b[38;5;129;01mor\u001b[39;00m _global_forward_pre_hooks):\n\u001b[0;32m-> 1750\u001b[0m     \u001b[38;5;28;01mreturn\u001b[39;00m \u001b[43mforward_call\u001b[49m\u001b[43m(\u001b[49m\u001b[38;5;241;43m*\u001b[39;49m\u001b[43margs\u001b[49m\u001b[43m,\u001b[49m\u001b[43m \u001b[49m\u001b[38;5;241;43m*\u001b[39;49m\u001b[38;5;241;43m*\u001b[39;49m\u001b[43mkwargs\u001b[49m\u001b[43m)\u001b[49m\n\u001b[1;32m   1752\u001b[0m result \u001b[38;5;241m=\u001b[39m \u001b[38;5;28;01mNone\u001b[39;00m\n\u001b[1;32m   1753\u001b[0m called_always_called_hooks \u001b[38;5;241m=\u001b[39m \u001b[38;5;28mset\u001b[39m()\n",
      "File \u001b[0;32m~/anaconda3/envs/apollo/lib/python3.10/site-packages/transformers/models/llama/modeling_llama.py:81\u001b[0m, in \u001b[0;36mLlamaRMSNorm.forward\u001b[0;34m(self, hidden_states)\u001b[0m\n\u001b[1;32m     79\u001b[0m input_dtype \u001b[38;5;241m=\u001b[39m hidden_states\u001b[38;5;241m.\u001b[39mdtype\n\u001b[1;32m     80\u001b[0m hidden_states \u001b[38;5;241m=\u001b[39m hidden_states\u001b[38;5;241m.\u001b[39mto(torch\u001b[38;5;241m.\u001b[39mfloat32)\n\u001b[0;32m---> 81\u001b[0m variance \u001b[38;5;241m=\u001b[39m \u001b[43mhidden_states\u001b[49m\u001b[38;5;241;43m.\u001b[39;49m\u001b[43mpow\u001b[49m\u001b[43m(\u001b[49m\u001b[38;5;241;43m2\u001b[39;49m\u001b[43m)\u001b[49m\u001b[38;5;241m.\u001b[39mmean(\u001b[38;5;241m-\u001b[39m\u001b[38;5;241m1\u001b[39m, keepdim\u001b[38;5;241m=\u001b[39m\u001b[38;5;28;01mTrue\u001b[39;00m)\n\u001b[1;32m     82\u001b[0m hidden_states \u001b[38;5;241m=\u001b[39m hidden_states \u001b[38;5;241m*\u001b[39m torch\u001b[38;5;241m.\u001b[39mrsqrt(variance \u001b[38;5;241m+\u001b[39m \u001b[38;5;28mself\u001b[39m\u001b[38;5;241m.\u001b[39mvariance_epsilon)\n\u001b[1;32m     83\u001b[0m \u001b[38;5;28;01mreturn\u001b[39;00m \u001b[38;5;28mself\u001b[39m\u001b[38;5;241m.\u001b[39mweight \u001b[38;5;241m*\u001b[39m hidden_states\u001b[38;5;241m.\u001b[39mto(input_dtype)\n",
      "\u001b[0;31mKeyboardInterrupt\u001b[0m: "
     ]
    }
   ],
   "source": [
    "df['summary_naver_llm'] = df['text'].progress_apply(get_summarize)"
   ]
  },
  {
   "cell_type": "code",
   "execution_count": 42,
   "id": "6b2f3ca3",
   "metadata": {},
   "outputs": [
    {
     "name": "stdout",
     "output_type": "stream",
     "text": [
      "                                                     text  text_len\n",
      "697187  [소재부품 국산화, 다시 시작하자] <10>결산 좌담회 본지는 7월 1일 일본 정부...     10843\n",
      "689300  [CES 2019 결산 좌담회]\"4차 산업혁명시대, 오픈이노베이션으로 대응하자\" 미...     10549\n",
      "546824  돼지열병 창궐하자 “대박…” 비극을 기다린 사람들 비극도 돈이 되는 시대는 치사율 ...     10232\n",
      "698436  [2019 신년기획]결산 좌담회 '4차 산업혁명 해법을 찾자' 대한민국을 휘감는 대...      9657\n",
      "698445  ‘집단지성의 성채’ 위키백과, ‘지식정보의 편향’ 넘을 수 있을까 ‘개방과 공유’....      8992\n",
      "...                                                   ...       ...\n",
      "694242  끈질긴 '구청장 친인척' 보도, 지역 채널의 존재 이유 정부가 LG유플러스의 CJ헬...      4181\n",
      "79775   발사 임박했다는 북한 미사일, 그 실체는? 북한이 미사일 발사 준비를 완료한 것으로...      4180\n",
      "650577  [아주초대석] 김희관 더블미 대표 “현실로 나온 판타지 세상··· 할머니도 만들 수...      4180\n",
      "698398  공인인증서만? 30년 낡은 '요금인가제도' 사라진다 오랜 기간 낡은 규제로 지적돼 ...      4180\n",
      "761287  개인정보 안 주면 지도 업데이트 안돼~ '아이나비' 브랜드로 업계 1위를 차지하고 ...      4180\n",
      "\n",
      "[1000 rows x 2 columns]\n"
     ]
    }
   ],
   "source": [
    "# text 열의 문자열 길이 계산\n",
    "df[\"text_len\"] = df[\"text\"].str.len()\n",
    "\n",
    "# 길이 기준으로 내림차순 정렬 후 상위 5개 추출\n",
    "top1000 = df.nlargest(1000, \"text_len\")\n",
    "\n",
    "# 결과 출력\n",
    "print(top1000[[\"text\", \"text_len\"]])"
   ]
  },
  {
   "cell_type": "code",
   "execution_count": 72,
   "id": "7628cfca",
   "metadata": {},
   "outputs": [
    {
     "data": {
      "application/vnd.jupyter.widget-view+json": {
       "model_id": "d9d19442a1614684881cf9d9f45c8130",
       "version_major": 2,
       "version_minor": 0
      },
      "text/plain": [
       "  0%|          | 0/1000 [00:00<?, ?it/s]"
      ]
     },
     "metadata": {},
     "output_type": "display_data"
    },
    {
     "ename": "KeyboardInterrupt",
     "evalue": "",
     "output_type": "error",
     "traceback": [
      "\u001b[0;31m---------------------------------------------------------------------------\u001b[0m",
      "\u001b[0;31mKeyboardInterrupt\u001b[0m                         Traceback (most recent call last)",
      "Cell \u001b[0;32mIn[72], line 1\u001b[0m\n\u001b[0;32m----> 1\u001b[0m top1000[\u001b[38;5;124m'\u001b[39m\u001b[38;5;124msummary_naver_llm\u001b[39m\u001b[38;5;124m'\u001b[39m] \u001b[38;5;241m=\u001b[39m \u001b[43mtop1000\u001b[49m\u001b[43m[\u001b[49m\u001b[38;5;124;43m'\u001b[39;49m\u001b[38;5;124;43mtext\u001b[39;49m\u001b[38;5;124;43m'\u001b[39;49m\u001b[43m]\u001b[49m\u001b[38;5;241;43m.\u001b[39;49m\u001b[43mprogress_apply\u001b[49m\u001b[43m(\u001b[49m\u001b[43mget_summarize\u001b[49m\u001b[43m)\u001b[49m\n",
      "File \u001b[0;32m~/anaconda3/envs/apollo/lib/python3.10/site-packages/tqdm/std.py:917\u001b[0m, in \u001b[0;36mtqdm.pandas.<locals>.inner_generator.<locals>.inner\u001b[0;34m(df, func, *args, **kwargs)\u001b[0m\n\u001b[1;32m    914\u001b[0m \u001b[38;5;66;03m# Apply the provided function (in **kwargs)\u001b[39;00m\n\u001b[1;32m    915\u001b[0m \u001b[38;5;66;03m# on the df using our wrapper (which provides bar updating)\u001b[39;00m\n\u001b[1;32m    916\u001b[0m \u001b[38;5;28;01mtry\u001b[39;00m:\n\u001b[0;32m--> 917\u001b[0m     \u001b[38;5;28;01mreturn\u001b[39;00m \u001b[38;5;28;43mgetattr\u001b[39;49m\u001b[43m(\u001b[49m\u001b[43mdf\u001b[49m\u001b[43m,\u001b[49m\u001b[43m \u001b[49m\u001b[43mdf_function\u001b[49m\u001b[43m)\u001b[49m\u001b[43m(\u001b[49m\u001b[43mwrapper\u001b[49m\u001b[43m,\u001b[49m\u001b[43m \u001b[49m\u001b[38;5;241;43m*\u001b[39;49m\u001b[38;5;241;43m*\u001b[39;49m\u001b[43mkwargs\u001b[49m\u001b[43m)\u001b[49m\n\u001b[1;32m    918\u001b[0m \u001b[38;5;28;01mfinally\u001b[39;00m:\n\u001b[1;32m    919\u001b[0m     t\u001b[38;5;241m.\u001b[39mclose()\n",
      "File \u001b[0;32m~/anaconda3/envs/apollo/lib/python3.10/site-packages/pandas/core/series.py:4924\u001b[0m, in \u001b[0;36mSeries.apply\u001b[0;34m(self, func, convert_dtype, args, by_row, **kwargs)\u001b[0m\n\u001b[1;32m   4789\u001b[0m \u001b[38;5;28;01mdef\u001b[39;00m\u001b[38;5;250m \u001b[39m\u001b[38;5;21mapply\u001b[39m(\n\u001b[1;32m   4790\u001b[0m     \u001b[38;5;28mself\u001b[39m,\n\u001b[1;32m   4791\u001b[0m     func: AggFuncType,\n\u001b[0;32m   (...)\u001b[0m\n\u001b[1;32m   4796\u001b[0m     \u001b[38;5;241m*\u001b[39m\u001b[38;5;241m*\u001b[39mkwargs,\n\u001b[1;32m   4797\u001b[0m ) \u001b[38;5;241m-\u001b[39m\u001b[38;5;241m>\u001b[39m DataFrame \u001b[38;5;241m|\u001b[39m Series:\n\u001b[1;32m   4798\u001b[0m \u001b[38;5;250m    \u001b[39m\u001b[38;5;124;03m\"\"\"\u001b[39;00m\n\u001b[1;32m   4799\u001b[0m \u001b[38;5;124;03m    Invoke function on values of Series.\u001b[39;00m\n\u001b[1;32m   4800\u001b[0m \n\u001b[0;32m   (...)\u001b[0m\n\u001b[1;32m   4915\u001b[0m \u001b[38;5;124;03m    dtype: float64\u001b[39;00m\n\u001b[1;32m   4916\u001b[0m \u001b[38;5;124;03m    \"\"\"\u001b[39;00m\n\u001b[1;32m   4917\u001b[0m     \u001b[38;5;28;01mreturn\u001b[39;00m \u001b[43mSeriesApply\u001b[49m\u001b[43m(\u001b[49m\n\u001b[1;32m   4918\u001b[0m \u001b[43m        \u001b[49m\u001b[38;5;28;43mself\u001b[39;49m\u001b[43m,\u001b[49m\n\u001b[1;32m   4919\u001b[0m \u001b[43m        \u001b[49m\u001b[43mfunc\u001b[49m\u001b[43m,\u001b[49m\n\u001b[1;32m   4920\u001b[0m \u001b[43m        \u001b[49m\u001b[43mconvert_dtype\u001b[49m\u001b[38;5;241;43m=\u001b[39;49m\u001b[43mconvert_dtype\u001b[49m\u001b[43m,\u001b[49m\n\u001b[1;32m   4921\u001b[0m \u001b[43m        \u001b[49m\u001b[43mby_row\u001b[49m\u001b[38;5;241;43m=\u001b[39;49m\u001b[43mby_row\u001b[49m\u001b[43m,\u001b[49m\n\u001b[1;32m   4922\u001b[0m \u001b[43m        \u001b[49m\u001b[43margs\u001b[49m\u001b[38;5;241;43m=\u001b[39;49m\u001b[43margs\u001b[49m\u001b[43m,\u001b[49m\n\u001b[1;32m   4923\u001b[0m \u001b[43m        \u001b[49m\u001b[43mkwargs\u001b[49m\u001b[38;5;241;43m=\u001b[39;49m\u001b[43mkwargs\u001b[49m\u001b[43m,\u001b[49m\n\u001b[0;32m-> 4924\u001b[0m \u001b[43m    \u001b[49m\u001b[43m)\u001b[49m\u001b[38;5;241;43m.\u001b[39;49m\u001b[43mapply\u001b[49m\u001b[43m(\u001b[49m\u001b[43m)\u001b[49m\n",
      "File \u001b[0;32m~/anaconda3/envs/apollo/lib/python3.10/site-packages/pandas/core/apply.py:1427\u001b[0m, in \u001b[0;36mSeriesApply.apply\u001b[0;34m(self)\u001b[0m\n\u001b[1;32m   1424\u001b[0m     \u001b[38;5;28;01mreturn\u001b[39;00m \u001b[38;5;28mself\u001b[39m\u001b[38;5;241m.\u001b[39mapply_compat()\n\u001b[1;32m   1426\u001b[0m \u001b[38;5;66;03m# self.func is Callable\u001b[39;00m\n\u001b[0;32m-> 1427\u001b[0m \u001b[38;5;28;01mreturn\u001b[39;00m \u001b[38;5;28;43mself\u001b[39;49m\u001b[38;5;241;43m.\u001b[39;49m\u001b[43mapply_standard\u001b[49m\u001b[43m(\u001b[49m\u001b[43m)\u001b[49m\n",
      "File \u001b[0;32m~/anaconda3/envs/apollo/lib/python3.10/site-packages/pandas/core/apply.py:1507\u001b[0m, in \u001b[0;36mSeriesApply.apply_standard\u001b[0;34m(self)\u001b[0m\n\u001b[1;32m   1501\u001b[0m \u001b[38;5;66;03m# row-wise access\u001b[39;00m\n\u001b[1;32m   1502\u001b[0m \u001b[38;5;66;03m# apply doesn't have a `na_action` keyword and for backward compat reasons\u001b[39;00m\n\u001b[1;32m   1503\u001b[0m \u001b[38;5;66;03m# we need to give `na_action=\"ignore\"` for categorical data.\u001b[39;00m\n\u001b[1;32m   1504\u001b[0m \u001b[38;5;66;03m# TODO: remove the `na_action=\"ignore\"` when that default has been changed in\u001b[39;00m\n\u001b[1;32m   1505\u001b[0m \u001b[38;5;66;03m#  Categorical (GH51645).\u001b[39;00m\n\u001b[1;32m   1506\u001b[0m action \u001b[38;5;241m=\u001b[39m \u001b[38;5;124m\"\u001b[39m\u001b[38;5;124mignore\u001b[39m\u001b[38;5;124m\"\u001b[39m \u001b[38;5;28;01mif\u001b[39;00m \u001b[38;5;28misinstance\u001b[39m(obj\u001b[38;5;241m.\u001b[39mdtype, CategoricalDtype) \u001b[38;5;28;01melse\u001b[39;00m \u001b[38;5;28;01mNone\u001b[39;00m\n\u001b[0;32m-> 1507\u001b[0m mapped \u001b[38;5;241m=\u001b[39m \u001b[43mobj\u001b[49m\u001b[38;5;241;43m.\u001b[39;49m\u001b[43m_map_values\u001b[49m\u001b[43m(\u001b[49m\n\u001b[1;32m   1508\u001b[0m \u001b[43m    \u001b[49m\u001b[43mmapper\u001b[49m\u001b[38;5;241;43m=\u001b[39;49m\u001b[43mcurried\u001b[49m\u001b[43m,\u001b[49m\u001b[43m \u001b[49m\u001b[43mna_action\u001b[49m\u001b[38;5;241;43m=\u001b[39;49m\u001b[43maction\u001b[49m\u001b[43m,\u001b[49m\u001b[43m \u001b[49m\u001b[43mconvert\u001b[49m\u001b[38;5;241;43m=\u001b[39;49m\u001b[38;5;28;43mself\u001b[39;49m\u001b[38;5;241;43m.\u001b[39;49m\u001b[43mconvert_dtype\u001b[49m\n\u001b[1;32m   1509\u001b[0m \u001b[43m\u001b[49m\u001b[43m)\u001b[49m\n\u001b[1;32m   1511\u001b[0m \u001b[38;5;28;01mif\u001b[39;00m \u001b[38;5;28mlen\u001b[39m(mapped) \u001b[38;5;129;01mand\u001b[39;00m \u001b[38;5;28misinstance\u001b[39m(mapped[\u001b[38;5;241m0\u001b[39m], ABCSeries):\n\u001b[1;32m   1512\u001b[0m     \u001b[38;5;66;03m# GH#43986 Need to do list(mapped) in order to get treated as nested\u001b[39;00m\n\u001b[1;32m   1513\u001b[0m     \u001b[38;5;66;03m#  See also GH#25959 regarding EA support\u001b[39;00m\n\u001b[1;32m   1514\u001b[0m     \u001b[38;5;28;01mreturn\u001b[39;00m obj\u001b[38;5;241m.\u001b[39m_constructor_expanddim(\u001b[38;5;28mlist\u001b[39m(mapped), index\u001b[38;5;241m=\u001b[39mobj\u001b[38;5;241m.\u001b[39mindex)\n",
      "File \u001b[0;32m~/anaconda3/envs/apollo/lib/python3.10/site-packages/pandas/core/base.py:921\u001b[0m, in \u001b[0;36mIndexOpsMixin._map_values\u001b[0;34m(self, mapper, na_action, convert)\u001b[0m\n\u001b[1;32m    918\u001b[0m \u001b[38;5;28;01mif\u001b[39;00m \u001b[38;5;28misinstance\u001b[39m(arr, ExtensionArray):\n\u001b[1;32m    919\u001b[0m     \u001b[38;5;28;01mreturn\u001b[39;00m arr\u001b[38;5;241m.\u001b[39mmap(mapper, na_action\u001b[38;5;241m=\u001b[39mna_action)\n\u001b[0;32m--> 921\u001b[0m \u001b[38;5;28;01mreturn\u001b[39;00m \u001b[43malgorithms\u001b[49m\u001b[38;5;241;43m.\u001b[39;49m\u001b[43mmap_array\u001b[49m\u001b[43m(\u001b[49m\u001b[43marr\u001b[49m\u001b[43m,\u001b[49m\u001b[43m \u001b[49m\u001b[43mmapper\u001b[49m\u001b[43m,\u001b[49m\u001b[43m \u001b[49m\u001b[43mna_action\u001b[49m\u001b[38;5;241;43m=\u001b[39;49m\u001b[43mna_action\u001b[49m\u001b[43m,\u001b[49m\u001b[43m \u001b[49m\u001b[43mconvert\u001b[49m\u001b[38;5;241;43m=\u001b[39;49m\u001b[43mconvert\u001b[49m\u001b[43m)\u001b[49m\n",
      "File \u001b[0;32m~/anaconda3/envs/apollo/lib/python3.10/site-packages/pandas/core/algorithms.py:1743\u001b[0m, in \u001b[0;36mmap_array\u001b[0;34m(arr, mapper, na_action, convert)\u001b[0m\n\u001b[1;32m   1741\u001b[0m values \u001b[38;5;241m=\u001b[39m arr\u001b[38;5;241m.\u001b[39mastype(\u001b[38;5;28mobject\u001b[39m, copy\u001b[38;5;241m=\u001b[39m\u001b[38;5;28;01mFalse\u001b[39;00m)\n\u001b[1;32m   1742\u001b[0m \u001b[38;5;28;01mif\u001b[39;00m na_action \u001b[38;5;129;01mis\u001b[39;00m \u001b[38;5;28;01mNone\u001b[39;00m:\n\u001b[0;32m-> 1743\u001b[0m     \u001b[38;5;28;01mreturn\u001b[39;00m \u001b[43mlib\u001b[49m\u001b[38;5;241;43m.\u001b[39;49m\u001b[43mmap_infer\u001b[49m\u001b[43m(\u001b[49m\u001b[43mvalues\u001b[49m\u001b[43m,\u001b[49m\u001b[43m \u001b[49m\u001b[43mmapper\u001b[49m\u001b[43m,\u001b[49m\u001b[43m \u001b[49m\u001b[43mconvert\u001b[49m\u001b[38;5;241;43m=\u001b[39;49m\u001b[43mconvert\u001b[49m\u001b[43m)\u001b[49m\n\u001b[1;32m   1744\u001b[0m \u001b[38;5;28;01melse\u001b[39;00m:\n\u001b[1;32m   1745\u001b[0m     \u001b[38;5;28;01mreturn\u001b[39;00m lib\u001b[38;5;241m.\u001b[39mmap_infer_mask(\n\u001b[1;32m   1746\u001b[0m         values, mapper, mask\u001b[38;5;241m=\u001b[39misna(values)\u001b[38;5;241m.\u001b[39mview(np\u001b[38;5;241m.\u001b[39muint8), convert\u001b[38;5;241m=\u001b[39mconvert\n\u001b[1;32m   1747\u001b[0m     )\n",
      "File \u001b[0;32mlib.pyx:2972\u001b[0m, in \u001b[0;36mpandas._libs.lib.map_infer\u001b[0;34m()\u001b[0m\n",
      "File \u001b[0;32m~/anaconda3/envs/apollo/lib/python3.10/site-packages/tqdm/std.py:912\u001b[0m, in \u001b[0;36mtqdm.pandas.<locals>.inner_generator.<locals>.inner.<locals>.wrapper\u001b[0;34m(*args, **kwargs)\u001b[0m\n\u001b[1;32m    906\u001b[0m \u001b[38;5;28;01mdef\u001b[39;00m\u001b[38;5;250m \u001b[39m\u001b[38;5;21mwrapper\u001b[39m(\u001b[38;5;241m*\u001b[39margs, \u001b[38;5;241m*\u001b[39m\u001b[38;5;241m*\u001b[39mkwargs):\n\u001b[1;32m    907\u001b[0m     \u001b[38;5;66;03m# update tbar correctly\u001b[39;00m\n\u001b[1;32m    908\u001b[0m     \u001b[38;5;66;03m# it seems `pandas apply` calls `func` twice\u001b[39;00m\n\u001b[1;32m    909\u001b[0m     \u001b[38;5;66;03m# on the first column/row to decide whether it can\u001b[39;00m\n\u001b[1;32m    910\u001b[0m     \u001b[38;5;66;03m# take a fast or slow code path; so stop when t.total==t.n\u001b[39;00m\n\u001b[1;32m    911\u001b[0m     t\u001b[38;5;241m.\u001b[39mupdate(n\u001b[38;5;241m=\u001b[39m\u001b[38;5;241m1\u001b[39m \u001b[38;5;28;01mif\u001b[39;00m \u001b[38;5;129;01mnot\u001b[39;00m t\u001b[38;5;241m.\u001b[39mtotal \u001b[38;5;129;01mor\u001b[39;00m t\u001b[38;5;241m.\u001b[39mn \u001b[38;5;241m<\u001b[39m t\u001b[38;5;241m.\u001b[39mtotal \u001b[38;5;28;01melse\u001b[39;00m \u001b[38;5;241m0\u001b[39m)\n\u001b[0;32m--> 912\u001b[0m     \u001b[38;5;28;01mreturn\u001b[39;00m \u001b[43mfunc\u001b[49m\u001b[43m(\u001b[49m\u001b[38;5;241;43m*\u001b[39;49m\u001b[43margs\u001b[49m\u001b[43m,\u001b[49m\u001b[43m \u001b[49m\u001b[38;5;241;43m*\u001b[39;49m\u001b[38;5;241;43m*\u001b[39;49m\u001b[43mkwargs\u001b[49m\u001b[43m)\u001b[49m\n",
      "Cell \u001b[0;32mIn[71], line 14\u001b[0m, in \u001b[0;36mget_summarize\u001b[0;34m(text)\u001b[0m\n\u001b[1;32m     10\u001b[0m inputs \u001b[38;5;241m=\u001b[39m tokenizer\u001b[38;5;241m.\u001b[39mapply_chat_template(chat, add_generation_prompt\u001b[38;5;241m=\u001b[39m\u001b[38;5;28;01mTrue\u001b[39;00m, return_dict\u001b[38;5;241m=\u001b[39m\u001b[38;5;28;01mTrue\u001b[39;00m, return_tensors\u001b[38;5;241m=\u001b[39m\u001b[38;5;124m\"\u001b[39m\u001b[38;5;124mpt\u001b[39m\u001b[38;5;124m\"\u001b[39m, \n\u001b[1;32m     11\u001b[0m                                       truncation\u001b[38;5;241m=\u001b[39m\u001b[38;5;28;01mTrue\u001b[39;00m, max_length\u001b[38;5;241m=\u001b[39mprompt_max)\n\u001b[1;32m     12\u001b[0m inputs \u001b[38;5;241m=\u001b[39m {k: v\u001b[38;5;241m.\u001b[39mto(device) \u001b[38;5;28;01mfor\u001b[39;00m k, v \u001b[38;5;129;01min\u001b[39;00m inputs\u001b[38;5;241m.\u001b[39mitems()}\n\u001b[0;32m---> 14\u001b[0m output_ids \u001b[38;5;241m=\u001b[39m \u001b[43mmodel\u001b[49m\u001b[38;5;241;43m.\u001b[39;49m\u001b[43mgenerate\u001b[49m\u001b[43m(\u001b[49m\u001b[38;5;241;43m*\u001b[39;49m\u001b[38;5;241;43m*\u001b[39;49m\u001b[43minputs\u001b[49m\u001b[43m,\u001b[49m\u001b[43m \u001b[49m\u001b[43mmax_length\u001b[49m\u001b[38;5;241;43m=\u001b[39;49m\u001b[43mmax_token_length\u001b[49m\u001b[43m,\u001b[49m\u001b[43m \u001b[49m\u001b[43mstop_strings\u001b[49m\u001b[38;5;241;43m=\u001b[39;49m\u001b[43m[\u001b[49m\u001b[38;5;124;43m\"\u001b[39;49m\u001b[38;5;124;43m<|endofturn|>\u001b[39;49m\u001b[38;5;124;43m\"\u001b[39;49m\u001b[43m,\u001b[49m\u001b[43m \u001b[49m\u001b[38;5;124;43m\"\u001b[39;49m\u001b[38;5;124;43m<|stop|>\u001b[39;49m\u001b[38;5;124;43m\"\u001b[39;49m\u001b[43m]\u001b[49m\u001b[43m,\u001b[49m\u001b[43m \u001b[49m\u001b[43mtokenizer\u001b[49m\u001b[38;5;241;43m=\u001b[39;49m\u001b[43mtokenizer\u001b[49m\u001b[43m)\u001b[49m\n\u001b[1;32m     16\u001b[0m responses \u001b[38;5;241m=\u001b[39m tokenizer\u001b[38;5;241m.\u001b[39mbatch_decode(output_ids, skip_special_tokens\u001b[38;5;241m=\u001b[39m\u001b[38;5;28;01mTrue\u001b[39;00m)\n\u001b[1;32m     18\u001b[0m _, _, answer \u001b[38;5;241m=\u001b[39m responses[\u001b[38;5;241m0\u001b[39m]\u001b[38;5;241m.\u001b[39mpartition(\u001b[38;5;124m\"\u001b[39m\u001b[38;5;124massistant\u001b[39m\u001b[38;5;130;01m\\n\u001b[39;00m\u001b[38;5;124m\"\u001b[39m)\n",
      "File \u001b[0;32m~/anaconda3/envs/apollo/lib/python3.10/site-packages/torch/utils/_contextlib.py:116\u001b[0m, in \u001b[0;36mcontext_decorator.<locals>.decorate_context\u001b[0;34m(*args, **kwargs)\u001b[0m\n\u001b[1;32m    113\u001b[0m \u001b[38;5;129m@functools\u001b[39m\u001b[38;5;241m.\u001b[39mwraps(func)\n\u001b[1;32m    114\u001b[0m \u001b[38;5;28;01mdef\u001b[39;00m\u001b[38;5;250m \u001b[39m\u001b[38;5;21mdecorate_context\u001b[39m(\u001b[38;5;241m*\u001b[39margs, \u001b[38;5;241m*\u001b[39m\u001b[38;5;241m*\u001b[39mkwargs):\n\u001b[1;32m    115\u001b[0m     \u001b[38;5;28;01mwith\u001b[39;00m ctx_factory():\n\u001b[0;32m--> 116\u001b[0m         \u001b[38;5;28;01mreturn\u001b[39;00m \u001b[43mfunc\u001b[49m\u001b[43m(\u001b[49m\u001b[38;5;241;43m*\u001b[39;49m\u001b[43margs\u001b[49m\u001b[43m,\u001b[49m\u001b[43m \u001b[49m\u001b[38;5;241;43m*\u001b[39;49m\u001b[38;5;241;43m*\u001b[39;49m\u001b[43mkwargs\u001b[49m\u001b[43m)\u001b[49m\n",
      "File \u001b[0;32m~/anaconda3/envs/apollo/lib/python3.10/site-packages/transformers/generation/utils.py:2465\u001b[0m, in \u001b[0;36mGenerationMixin.generate\u001b[0;34m(self, inputs, generation_config, logits_processor, stopping_criteria, prefix_allowed_tokens_fn, synced_gpus, assistant_model, streamer, negative_prompt_ids, negative_prompt_attention_mask, use_model_defaults, **kwargs)\u001b[0m\n\u001b[1;32m   2457\u001b[0m     input_ids, model_kwargs \u001b[38;5;241m=\u001b[39m \u001b[38;5;28mself\u001b[39m\u001b[38;5;241m.\u001b[39m_expand_inputs_for_generation(\n\u001b[1;32m   2458\u001b[0m         input_ids\u001b[38;5;241m=\u001b[39minput_ids,\n\u001b[1;32m   2459\u001b[0m         expand_size\u001b[38;5;241m=\u001b[39mgeneration_config\u001b[38;5;241m.\u001b[39mnum_return_sequences,\n\u001b[1;32m   2460\u001b[0m         is_encoder_decoder\u001b[38;5;241m=\u001b[39m\u001b[38;5;28mself\u001b[39m\u001b[38;5;241m.\u001b[39mconfig\u001b[38;5;241m.\u001b[39mis_encoder_decoder,\n\u001b[1;32m   2461\u001b[0m         \u001b[38;5;241m*\u001b[39m\u001b[38;5;241m*\u001b[39mmodel_kwargs,\n\u001b[1;32m   2462\u001b[0m     )\n\u001b[1;32m   2464\u001b[0m     \u001b[38;5;66;03m# 12. run sample (it degenerates to greedy search when `generation_config.do_sample=False`)\u001b[39;00m\n\u001b[0;32m-> 2465\u001b[0m     result \u001b[38;5;241m=\u001b[39m \u001b[38;5;28;43mself\u001b[39;49m\u001b[38;5;241;43m.\u001b[39;49m\u001b[43m_sample\u001b[49m\u001b[43m(\u001b[49m\n\u001b[1;32m   2466\u001b[0m \u001b[43m        \u001b[49m\u001b[43minput_ids\u001b[49m\u001b[43m,\u001b[49m\n\u001b[1;32m   2467\u001b[0m \u001b[43m        \u001b[49m\u001b[43mlogits_processor\u001b[49m\u001b[38;5;241;43m=\u001b[39;49m\u001b[43mprepared_logits_processor\u001b[49m\u001b[43m,\u001b[49m\n\u001b[1;32m   2468\u001b[0m \u001b[43m        \u001b[49m\u001b[43mstopping_criteria\u001b[49m\u001b[38;5;241;43m=\u001b[39;49m\u001b[43mprepared_stopping_criteria\u001b[49m\u001b[43m,\u001b[49m\n\u001b[1;32m   2469\u001b[0m \u001b[43m        \u001b[49m\u001b[43mgeneration_config\u001b[49m\u001b[38;5;241;43m=\u001b[39;49m\u001b[43mgeneration_config\u001b[49m\u001b[43m,\u001b[49m\n\u001b[1;32m   2470\u001b[0m \u001b[43m        \u001b[49m\u001b[43msynced_gpus\u001b[49m\u001b[38;5;241;43m=\u001b[39;49m\u001b[43msynced_gpus\u001b[49m\u001b[43m,\u001b[49m\n\u001b[1;32m   2471\u001b[0m \u001b[43m        \u001b[49m\u001b[43mstreamer\u001b[49m\u001b[38;5;241;43m=\u001b[39;49m\u001b[43mstreamer\u001b[49m\u001b[43m,\u001b[49m\n\u001b[1;32m   2472\u001b[0m \u001b[43m        \u001b[49m\u001b[38;5;241;43m*\u001b[39;49m\u001b[38;5;241;43m*\u001b[39;49m\u001b[43mmodel_kwargs\u001b[49m\u001b[43m,\u001b[49m\n\u001b[1;32m   2473\u001b[0m \u001b[43m    \u001b[49m\u001b[43m)\u001b[49m\n\u001b[1;32m   2475\u001b[0m \u001b[38;5;28;01melif\u001b[39;00m generation_mode \u001b[38;5;129;01min\u001b[39;00m (GenerationMode\u001b[38;5;241m.\u001b[39mBEAM_SAMPLE, GenerationMode\u001b[38;5;241m.\u001b[39mBEAM_SEARCH):\n\u001b[1;32m   2476\u001b[0m     \u001b[38;5;66;03m# 11. interleave input_ids with `num_beams` additional sequences per batch\u001b[39;00m\n\u001b[1;32m   2477\u001b[0m     input_ids, model_kwargs \u001b[38;5;241m=\u001b[39m \u001b[38;5;28mself\u001b[39m\u001b[38;5;241m.\u001b[39m_expand_inputs_for_generation(\n\u001b[1;32m   2478\u001b[0m         input_ids\u001b[38;5;241m=\u001b[39minput_ids,\n\u001b[1;32m   2479\u001b[0m         expand_size\u001b[38;5;241m=\u001b[39mgeneration_config\u001b[38;5;241m.\u001b[39mnum_beams,\n\u001b[1;32m   2480\u001b[0m         is_encoder_decoder\u001b[38;5;241m=\u001b[39m\u001b[38;5;28mself\u001b[39m\u001b[38;5;241m.\u001b[39mconfig\u001b[38;5;241m.\u001b[39mis_encoder_decoder,\n\u001b[1;32m   2481\u001b[0m         \u001b[38;5;241m*\u001b[39m\u001b[38;5;241m*\u001b[39mmodel_kwargs,\n\u001b[1;32m   2482\u001b[0m     )\n",
      "File \u001b[0;32m~/anaconda3/envs/apollo/lib/python3.10/site-packages/transformers/generation/utils.py:3434\u001b[0m, in \u001b[0;36mGenerationMixin._sample\u001b[0;34m(self, input_ids, logits_processor, stopping_criteria, generation_config, synced_gpus, streamer, **model_kwargs)\u001b[0m\n\u001b[1;32m   3432\u001b[0m     is_prefill \u001b[38;5;241m=\u001b[39m \u001b[38;5;28;01mFalse\u001b[39;00m\n\u001b[1;32m   3433\u001b[0m \u001b[38;5;28;01melse\u001b[39;00m:\n\u001b[0;32m-> 3434\u001b[0m     outputs \u001b[38;5;241m=\u001b[39m \u001b[43mmodel_forward\u001b[49m\u001b[43m(\u001b[49m\u001b[38;5;241;43m*\u001b[39;49m\u001b[38;5;241;43m*\u001b[39;49m\u001b[43mmodel_inputs\u001b[49m\u001b[43m,\u001b[49m\u001b[43m \u001b[49m\u001b[43mreturn_dict\u001b[49m\u001b[38;5;241;43m=\u001b[39;49m\u001b[38;5;28;43;01mTrue\u001b[39;49;00m\u001b[43m)\u001b[49m\n\u001b[1;32m   3436\u001b[0m \u001b[38;5;66;03m# synced_gpus: don't waste resources running the code we don't need; kwargs must be updated before skipping\u001b[39;00m\n\u001b[1;32m   3437\u001b[0m model_kwargs \u001b[38;5;241m=\u001b[39m \u001b[38;5;28mself\u001b[39m\u001b[38;5;241m.\u001b[39m_update_model_kwargs_for_generation(\n\u001b[1;32m   3438\u001b[0m     outputs,\n\u001b[1;32m   3439\u001b[0m     model_kwargs,\n\u001b[1;32m   3440\u001b[0m     is_encoder_decoder\u001b[38;5;241m=\u001b[39m\u001b[38;5;28mself\u001b[39m\u001b[38;5;241m.\u001b[39mconfig\u001b[38;5;241m.\u001b[39mis_encoder_decoder,\n\u001b[1;32m   3441\u001b[0m )\n",
      "File \u001b[0;32m~/anaconda3/envs/apollo/lib/python3.10/site-packages/torch/nn/modules/module.py:1739\u001b[0m, in \u001b[0;36mModule._wrapped_call_impl\u001b[0;34m(self, *args, **kwargs)\u001b[0m\n\u001b[1;32m   1737\u001b[0m     \u001b[38;5;28;01mreturn\u001b[39;00m \u001b[38;5;28mself\u001b[39m\u001b[38;5;241m.\u001b[39m_compiled_call_impl(\u001b[38;5;241m*\u001b[39margs, \u001b[38;5;241m*\u001b[39m\u001b[38;5;241m*\u001b[39mkwargs)  \u001b[38;5;66;03m# type: ignore[misc]\u001b[39;00m\n\u001b[1;32m   1738\u001b[0m \u001b[38;5;28;01melse\u001b[39;00m:\n\u001b[0;32m-> 1739\u001b[0m     \u001b[38;5;28;01mreturn\u001b[39;00m \u001b[38;5;28;43mself\u001b[39;49m\u001b[38;5;241;43m.\u001b[39;49m\u001b[43m_call_impl\u001b[49m\u001b[43m(\u001b[49m\u001b[38;5;241;43m*\u001b[39;49m\u001b[43margs\u001b[49m\u001b[43m,\u001b[49m\u001b[43m \u001b[49m\u001b[38;5;241;43m*\u001b[39;49m\u001b[38;5;241;43m*\u001b[39;49m\u001b[43mkwargs\u001b[49m\u001b[43m)\u001b[49m\n",
      "File \u001b[0;32m~/anaconda3/envs/apollo/lib/python3.10/site-packages/torch/nn/modules/module.py:1750\u001b[0m, in \u001b[0;36mModule._call_impl\u001b[0;34m(self, *args, **kwargs)\u001b[0m\n\u001b[1;32m   1745\u001b[0m \u001b[38;5;66;03m# If we don't have any hooks, we want to skip the rest of the logic in\u001b[39;00m\n\u001b[1;32m   1746\u001b[0m \u001b[38;5;66;03m# this function, and just call forward.\u001b[39;00m\n\u001b[1;32m   1747\u001b[0m \u001b[38;5;28;01mif\u001b[39;00m \u001b[38;5;129;01mnot\u001b[39;00m (\u001b[38;5;28mself\u001b[39m\u001b[38;5;241m.\u001b[39m_backward_hooks \u001b[38;5;129;01mor\u001b[39;00m \u001b[38;5;28mself\u001b[39m\u001b[38;5;241m.\u001b[39m_backward_pre_hooks \u001b[38;5;129;01mor\u001b[39;00m \u001b[38;5;28mself\u001b[39m\u001b[38;5;241m.\u001b[39m_forward_hooks \u001b[38;5;129;01mor\u001b[39;00m \u001b[38;5;28mself\u001b[39m\u001b[38;5;241m.\u001b[39m_forward_pre_hooks\n\u001b[1;32m   1748\u001b[0m         \u001b[38;5;129;01mor\u001b[39;00m _global_backward_pre_hooks \u001b[38;5;129;01mor\u001b[39;00m _global_backward_hooks\n\u001b[1;32m   1749\u001b[0m         \u001b[38;5;129;01mor\u001b[39;00m _global_forward_hooks \u001b[38;5;129;01mor\u001b[39;00m _global_forward_pre_hooks):\n\u001b[0;32m-> 1750\u001b[0m     \u001b[38;5;28;01mreturn\u001b[39;00m \u001b[43mforward_call\u001b[49m\u001b[43m(\u001b[49m\u001b[38;5;241;43m*\u001b[39;49m\u001b[43margs\u001b[49m\u001b[43m,\u001b[49m\u001b[43m \u001b[49m\u001b[38;5;241;43m*\u001b[39;49m\u001b[38;5;241;43m*\u001b[39;49m\u001b[43mkwargs\u001b[49m\u001b[43m)\u001b[49m\n\u001b[1;32m   1752\u001b[0m result \u001b[38;5;241m=\u001b[39m \u001b[38;5;28;01mNone\u001b[39;00m\n\u001b[1;32m   1753\u001b[0m called_always_called_hooks \u001b[38;5;241m=\u001b[39m \u001b[38;5;28mset\u001b[39m()\n",
      "File \u001b[0;32m~/anaconda3/envs/apollo/lib/python3.10/site-packages/transformers/utils/generic.py:965\u001b[0m, in \u001b[0;36mcan_return_tuple.<locals>.wrapper\u001b[0;34m(self, *args, **kwargs)\u001b[0m\n\u001b[1;32m    962\u001b[0m     set_attribute_for_modules(\u001b[38;5;28mself\u001b[39m, \u001b[38;5;124m\"\u001b[39m\u001b[38;5;124m_is_top_level_module\u001b[39m\u001b[38;5;124m\"\u001b[39m, \u001b[38;5;28;01mFalse\u001b[39;00m)\n\u001b[1;32m    964\u001b[0m \u001b[38;5;28;01mtry\u001b[39;00m:\n\u001b[0;32m--> 965\u001b[0m     output \u001b[38;5;241m=\u001b[39m \u001b[43mfunc\u001b[49m\u001b[43m(\u001b[49m\u001b[38;5;28;43mself\u001b[39;49m\u001b[43m,\u001b[49m\u001b[43m \u001b[49m\u001b[38;5;241;43m*\u001b[39;49m\u001b[43margs\u001b[49m\u001b[43m,\u001b[49m\u001b[43m \u001b[49m\u001b[38;5;241;43m*\u001b[39;49m\u001b[38;5;241;43m*\u001b[39;49m\u001b[43mkwargs\u001b[49m\u001b[43m)\u001b[49m\n\u001b[1;32m    966\u001b[0m     \u001b[38;5;28;01mif\u001b[39;00m is_requested_to_return_tuple \u001b[38;5;129;01mor\u001b[39;00m (is_configured_to_return_tuple \u001b[38;5;129;01mand\u001b[39;00m is_top_level_module):\n\u001b[1;32m    967\u001b[0m         output \u001b[38;5;241m=\u001b[39m output\u001b[38;5;241m.\u001b[39mto_tuple()\n",
      "File \u001b[0;32m~/anaconda3/envs/apollo/lib/python3.10/site-packages/transformers/utils/deprecation.py:172\u001b[0m, in \u001b[0;36mdeprecate_kwarg.<locals>.wrapper.<locals>.wrapped_func\u001b[0;34m(*args, **kwargs)\u001b[0m\n\u001b[1;32m    168\u001b[0m \u001b[38;5;28;01melif\u001b[39;00m minimum_action \u001b[38;5;129;01min\u001b[39;00m (Action\u001b[38;5;241m.\u001b[39mNOTIFY, Action\u001b[38;5;241m.\u001b[39mNOTIFY_ALWAYS) \u001b[38;5;129;01mand\u001b[39;00m \u001b[38;5;129;01mnot\u001b[39;00m is_torchdynamo_compiling():\n\u001b[1;32m    169\u001b[0m     \u001b[38;5;66;03m# DeprecationWarning is ignored by default, so we use FutureWarning instead\u001b[39;00m\n\u001b[1;32m    170\u001b[0m     warnings\u001b[38;5;241m.\u001b[39mwarn(message, \u001b[38;5;167;01mFutureWarning\u001b[39;00m, stacklevel\u001b[38;5;241m=\u001b[39m\u001b[38;5;241m2\u001b[39m)\n\u001b[0;32m--> 172\u001b[0m \u001b[38;5;28;01mreturn\u001b[39;00m \u001b[43mfunc\u001b[49m\u001b[43m(\u001b[49m\u001b[38;5;241;43m*\u001b[39;49m\u001b[43margs\u001b[49m\u001b[43m,\u001b[49m\u001b[43m \u001b[49m\u001b[38;5;241;43m*\u001b[39;49m\u001b[38;5;241;43m*\u001b[39;49m\u001b[43mkwargs\u001b[49m\u001b[43m)\u001b[49m\n",
      "File \u001b[0;32m~/anaconda3/envs/apollo/lib/python3.10/site-packages/transformers/models/llama/modeling_llama.py:821\u001b[0m, in \u001b[0;36mLlamaForCausalLM.forward\u001b[0;34m(self, input_ids, attention_mask, position_ids, past_key_values, inputs_embeds, labels, use_cache, output_attentions, output_hidden_states, cache_position, logits_to_keep, **kwargs)\u001b[0m\n\u001b[1;32m    816\u001b[0m output_hidden_states \u001b[38;5;241m=\u001b[39m (\n\u001b[1;32m    817\u001b[0m     output_hidden_states \u001b[38;5;28;01mif\u001b[39;00m output_hidden_states \u001b[38;5;129;01mis\u001b[39;00m \u001b[38;5;129;01mnot\u001b[39;00m \u001b[38;5;28;01mNone\u001b[39;00m \u001b[38;5;28;01melse\u001b[39;00m \u001b[38;5;28mself\u001b[39m\u001b[38;5;241m.\u001b[39mconfig\u001b[38;5;241m.\u001b[39moutput_hidden_states\n\u001b[1;32m    818\u001b[0m )\n\u001b[1;32m    820\u001b[0m \u001b[38;5;66;03m# decoder outputs consists of (dec_features, layer_state, dec_hidden, dec_attn)\u001b[39;00m\n\u001b[0;32m--> 821\u001b[0m outputs: BaseModelOutputWithPast \u001b[38;5;241m=\u001b[39m \u001b[38;5;28;43mself\u001b[39;49m\u001b[38;5;241;43m.\u001b[39;49m\u001b[43mmodel\u001b[49m\u001b[43m(\u001b[49m\n\u001b[1;32m    822\u001b[0m \u001b[43m    \u001b[49m\u001b[43minput_ids\u001b[49m\u001b[38;5;241;43m=\u001b[39;49m\u001b[43minput_ids\u001b[49m\u001b[43m,\u001b[49m\n\u001b[1;32m    823\u001b[0m \u001b[43m    \u001b[49m\u001b[43mattention_mask\u001b[49m\u001b[38;5;241;43m=\u001b[39;49m\u001b[43mattention_mask\u001b[49m\u001b[43m,\u001b[49m\n\u001b[1;32m    824\u001b[0m \u001b[43m    \u001b[49m\u001b[43mposition_ids\u001b[49m\u001b[38;5;241;43m=\u001b[39;49m\u001b[43mposition_ids\u001b[49m\u001b[43m,\u001b[49m\n\u001b[1;32m    825\u001b[0m \u001b[43m    \u001b[49m\u001b[43mpast_key_values\u001b[49m\u001b[38;5;241;43m=\u001b[39;49m\u001b[43mpast_key_values\u001b[49m\u001b[43m,\u001b[49m\n\u001b[1;32m    826\u001b[0m \u001b[43m    \u001b[49m\u001b[43minputs_embeds\u001b[49m\u001b[38;5;241;43m=\u001b[39;49m\u001b[43minputs_embeds\u001b[49m\u001b[43m,\u001b[49m\n\u001b[1;32m    827\u001b[0m \u001b[43m    \u001b[49m\u001b[43muse_cache\u001b[49m\u001b[38;5;241;43m=\u001b[39;49m\u001b[43muse_cache\u001b[49m\u001b[43m,\u001b[49m\n\u001b[1;32m    828\u001b[0m \u001b[43m    \u001b[49m\u001b[43moutput_attentions\u001b[49m\u001b[38;5;241;43m=\u001b[39;49m\u001b[43moutput_attentions\u001b[49m\u001b[43m,\u001b[49m\n\u001b[1;32m    829\u001b[0m \u001b[43m    \u001b[49m\u001b[43moutput_hidden_states\u001b[49m\u001b[38;5;241;43m=\u001b[39;49m\u001b[43moutput_hidden_states\u001b[49m\u001b[43m,\u001b[49m\n\u001b[1;32m    830\u001b[0m \u001b[43m    \u001b[49m\u001b[43mcache_position\u001b[49m\u001b[38;5;241;43m=\u001b[39;49m\u001b[43mcache_position\u001b[49m\u001b[43m,\u001b[49m\n\u001b[1;32m    831\u001b[0m \u001b[43m    \u001b[49m\u001b[38;5;241;43m*\u001b[39;49m\u001b[38;5;241;43m*\u001b[39;49m\u001b[43mkwargs\u001b[49m\u001b[43m,\u001b[49m\n\u001b[1;32m    832\u001b[0m \u001b[43m\u001b[49m\u001b[43m)\u001b[49m\n\u001b[1;32m    834\u001b[0m hidden_states \u001b[38;5;241m=\u001b[39m outputs\u001b[38;5;241m.\u001b[39mlast_hidden_state\n\u001b[1;32m    835\u001b[0m \u001b[38;5;66;03m# Only compute necessary logits, and do not upcast them to float if we are not computing the loss\u001b[39;00m\n",
      "File \u001b[0;32m~/anaconda3/envs/apollo/lib/python3.10/site-packages/torch/nn/modules/module.py:1739\u001b[0m, in \u001b[0;36mModule._wrapped_call_impl\u001b[0;34m(self, *args, **kwargs)\u001b[0m\n\u001b[1;32m   1737\u001b[0m     \u001b[38;5;28;01mreturn\u001b[39;00m \u001b[38;5;28mself\u001b[39m\u001b[38;5;241m.\u001b[39m_compiled_call_impl(\u001b[38;5;241m*\u001b[39margs, \u001b[38;5;241m*\u001b[39m\u001b[38;5;241m*\u001b[39mkwargs)  \u001b[38;5;66;03m# type: ignore[misc]\u001b[39;00m\n\u001b[1;32m   1738\u001b[0m \u001b[38;5;28;01melse\u001b[39;00m:\n\u001b[0;32m-> 1739\u001b[0m     \u001b[38;5;28;01mreturn\u001b[39;00m \u001b[38;5;28;43mself\u001b[39;49m\u001b[38;5;241;43m.\u001b[39;49m\u001b[43m_call_impl\u001b[49m\u001b[43m(\u001b[49m\u001b[38;5;241;43m*\u001b[39;49m\u001b[43margs\u001b[49m\u001b[43m,\u001b[49m\u001b[43m \u001b[49m\u001b[38;5;241;43m*\u001b[39;49m\u001b[38;5;241;43m*\u001b[39;49m\u001b[43mkwargs\u001b[49m\u001b[43m)\u001b[49m\n",
      "File \u001b[0;32m~/anaconda3/envs/apollo/lib/python3.10/site-packages/torch/nn/modules/module.py:1750\u001b[0m, in \u001b[0;36mModule._call_impl\u001b[0;34m(self, *args, **kwargs)\u001b[0m\n\u001b[1;32m   1745\u001b[0m \u001b[38;5;66;03m# If we don't have any hooks, we want to skip the rest of the logic in\u001b[39;00m\n\u001b[1;32m   1746\u001b[0m \u001b[38;5;66;03m# this function, and just call forward.\u001b[39;00m\n\u001b[1;32m   1747\u001b[0m \u001b[38;5;28;01mif\u001b[39;00m \u001b[38;5;129;01mnot\u001b[39;00m (\u001b[38;5;28mself\u001b[39m\u001b[38;5;241m.\u001b[39m_backward_hooks \u001b[38;5;129;01mor\u001b[39;00m \u001b[38;5;28mself\u001b[39m\u001b[38;5;241m.\u001b[39m_backward_pre_hooks \u001b[38;5;129;01mor\u001b[39;00m \u001b[38;5;28mself\u001b[39m\u001b[38;5;241m.\u001b[39m_forward_hooks \u001b[38;5;129;01mor\u001b[39;00m \u001b[38;5;28mself\u001b[39m\u001b[38;5;241m.\u001b[39m_forward_pre_hooks\n\u001b[1;32m   1748\u001b[0m         \u001b[38;5;129;01mor\u001b[39;00m _global_backward_pre_hooks \u001b[38;5;129;01mor\u001b[39;00m _global_backward_hooks\n\u001b[1;32m   1749\u001b[0m         \u001b[38;5;129;01mor\u001b[39;00m _global_forward_hooks \u001b[38;5;129;01mor\u001b[39;00m _global_forward_pre_hooks):\n\u001b[0;32m-> 1750\u001b[0m     \u001b[38;5;28;01mreturn\u001b[39;00m \u001b[43mforward_call\u001b[49m\u001b[43m(\u001b[49m\u001b[38;5;241;43m*\u001b[39;49m\u001b[43margs\u001b[49m\u001b[43m,\u001b[49m\u001b[43m \u001b[49m\u001b[38;5;241;43m*\u001b[39;49m\u001b[38;5;241;43m*\u001b[39;49m\u001b[43mkwargs\u001b[49m\u001b[43m)\u001b[49m\n\u001b[1;32m   1752\u001b[0m result \u001b[38;5;241m=\u001b[39m \u001b[38;5;28;01mNone\u001b[39;00m\n\u001b[1;32m   1753\u001b[0m called_always_called_hooks \u001b[38;5;241m=\u001b[39m \u001b[38;5;28mset\u001b[39m()\n",
      "File \u001b[0;32m~/anaconda3/envs/apollo/lib/python3.10/site-packages/transformers/utils/generic.py:965\u001b[0m, in \u001b[0;36mcan_return_tuple.<locals>.wrapper\u001b[0;34m(self, *args, **kwargs)\u001b[0m\n\u001b[1;32m    962\u001b[0m     set_attribute_for_modules(\u001b[38;5;28mself\u001b[39m, \u001b[38;5;124m\"\u001b[39m\u001b[38;5;124m_is_top_level_module\u001b[39m\u001b[38;5;124m\"\u001b[39m, \u001b[38;5;28;01mFalse\u001b[39;00m)\n\u001b[1;32m    964\u001b[0m \u001b[38;5;28;01mtry\u001b[39;00m:\n\u001b[0;32m--> 965\u001b[0m     output \u001b[38;5;241m=\u001b[39m \u001b[43mfunc\u001b[49m\u001b[43m(\u001b[49m\u001b[38;5;28;43mself\u001b[39;49m\u001b[43m,\u001b[49m\u001b[43m \u001b[49m\u001b[38;5;241;43m*\u001b[39;49m\u001b[43margs\u001b[49m\u001b[43m,\u001b[49m\u001b[43m \u001b[49m\u001b[38;5;241;43m*\u001b[39;49m\u001b[38;5;241;43m*\u001b[39;49m\u001b[43mkwargs\u001b[49m\u001b[43m)\u001b[49m\n\u001b[1;32m    966\u001b[0m     \u001b[38;5;28;01mif\u001b[39;00m is_requested_to_return_tuple \u001b[38;5;129;01mor\u001b[39;00m (is_configured_to_return_tuple \u001b[38;5;129;01mand\u001b[39;00m is_top_level_module):\n\u001b[1;32m    967\u001b[0m         output \u001b[38;5;241m=\u001b[39m output\u001b[38;5;241m.\u001b[39mto_tuple()\n",
      "File \u001b[0;32m~/anaconda3/envs/apollo/lib/python3.10/site-packages/transformers/models/llama/modeling_llama.py:571\u001b[0m, in \u001b[0;36mLlamaModel.forward\u001b[0;34m(self, input_ids, attention_mask, position_ids, past_key_values, inputs_embeds, use_cache, output_attentions, output_hidden_states, cache_position, **flash_attn_kwargs)\u001b[0m\n\u001b[1;32m    559\u001b[0m     layer_outputs \u001b[38;5;241m=\u001b[39m \u001b[38;5;28mself\u001b[39m\u001b[38;5;241m.\u001b[39m_gradient_checkpointing_func(\n\u001b[1;32m    560\u001b[0m         partial(decoder_layer\u001b[38;5;241m.\u001b[39m\u001b[38;5;21m__call__\u001b[39m, \u001b[38;5;241m*\u001b[39m\u001b[38;5;241m*\u001b[39mflash_attn_kwargs),\n\u001b[1;32m    561\u001b[0m         hidden_states,\n\u001b[0;32m   (...)\u001b[0m\n\u001b[1;32m    568\u001b[0m         position_embeddings,\n\u001b[1;32m    569\u001b[0m     )\n\u001b[1;32m    570\u001b[0m \u001b[38;5;28;01melse\u001b[39;00m:\n\u001b[0;32m--> 571\u001b[0m     layer_outputs \u001b[38;5;241m=\u001b[39m \u001b[43mdecoder_layer\u001b[49m\u001b[43m(\u001b[49m\n\u001b[1;32m    572\u001b[0m \u001b[43m        \u001b[49m\u001b[43mhidden_states\u001b[49m\u001b[43m,\u001b[49m\n\u001b[1;32m    573\u001b[0m \u001b[43m        \u001b[49m\u001b[43mattention_mask\u001b[49m\u001b[38;5;241;43m=\u001b[39;49m\u001b[43mcausal_mask\u001b[49m\u001b[43m,\u001b[49m\n\u001b[1;32m    574\u001b[0m \u001b[43m        \u001b[49m\u001b[43mposition_ids\u001b[49m\u001b[38;5;241;43m=\u001b[39;49m\u001b[43mposition_ids\u001b[49m\u001b[43m,\u001b[49m\n\u001b[1;32m    575\u001b[0m \u001b[43m        \u001b[49m\u001b[43mpast_key_value\u001b[49m\u001b[38;5;241;43m=\u001b[39;49m\u001b[43mpast_key_values\u001b[49m\u001b[43m,\u001b[49m\n\u001b[1;32m    576\u001b[0m \u001b[43m        \u001b[49m\u001b[43moutput_attentions\u001b[49m\u001b[38;5;241;43m=\u001b[39;49m\u001b[43moutput_attentions\u001b[49m\u001b[43m,\u001b[49m\n\u001b[1;32m    577\u001b[0m \u001b[43m        \u001b[49m\u001b[43muse_cache\u001b[49m\u001b[38;5;241;43m=\u001b[39;49m\u001b[43muse_cache\u001b[49m\u001b[43m,\u001b[49m\n\u001b[1;32m    578\u001b[0m \u001b[43m        \u001b[49m\u001b[43mcache_position\u001b[49m\u001b[38;5;241;43m=\u001b[39;49m\u001b[43mcache_position\u001b[49m\u001b[43m,\u001b[49m\n\u001b[1;32m    579\u001b[0m \u001b[43m        \u001b[49m\u001b[43mposition_embeddings\u001b[49m\u001b[38;5;241;43m=\u001b[39;49m\u001b[43mposition_embeddings\u001b[49m\u001b[43m,\u001b[49m\n\u001b[1;32m    580\u001b[0m \u001b[43m        \u001b[49m\u001b[38;5;241;43m*\u001b[39;49m\u001b[38;5;241;43m*\u001b[39;49m\u001b[43mflash_attn_kwargs\u001b[49m\u001b[43m,\u001b[49m\n\u001b[1;32m    581\u001b[0m \u001b[43m    \u001b[49m\u001b[43m)\u001b[49m\n\u001b[1;32m    583\u001b[0m hidden_states \u001b[38;5;241m=\u001b[39m layer_outputs[\u001b[38;5;241m0\u001b[39m]\n\u001b[1;32m    585\u001b[0m \u001b[38;5;28;01mif\u001b[39;00m output_attentions:\n",
      "File \u001b[0;32m~/anaconda3/envs/apollo/lib/python3.10/site-packages/torch/nn/modules/module.py:1739\u001b[0m, in \u001b[0;36mModule._wrapped_call_impl\u001b[0;34m(self, *args, **kwargs)\u001b[0m\n\u001b[1;32m   1737\u001b[0m     \u001b[38;5;28;01mreturn\u001b[39;00m \u001b[38;5;28mself\u001b[39m\u001b[38;5;241m.\u001b[39m_compiled_call_impl(\u001b[38;5;241m*\u001b[39margs, \u001b[38;5;241m*\u001b[39m\u001b[38;5;241m*\u001b[39mkwargs)  \u001b[38;5;66;03m# type: ignore[misc]\u001b[39;00m\n\u001b[1;32m   1738\u001b[0m \u001b[38;5;28;01melse\u001b[39;00m:\n\u001b[0;32m-> 1739\u001b[0m     \u001b[38;5;28;01mreturn\u001b[39;00m \u001b[38;5;28;43mself\u001b[39;49m\u001b[38;5;241;43m.\u001b[39;49m\u001b[43m_call_impl\u001b[49m\u001b[43m(\u001b[49m\u001b[38;5;241;43m*\u001b[39;49m\u001b[43margs\u001b[49m\u001b[43m,\u001b[49m\u001b[43m \u001b[49m\u001b[38;5;241;43m*\u001b[39;49m\u001b[38;5;241;43m*\u001b[39;49m\u001b[43mkwargs\u001b[49m\u001b[43m)\u001b[49m\n",
      "File \u001b[0;32m~/anaconda3/envs/apollo/lib/python3.10/site-packages/torch/nn/modules/module.py:1750\u001b[0m, in \u001b[0;36mModule._call_impl\u001b[0;34m(self, *args, **kwargs)\u001b[0m\n\u001b[1;32m   1745\u001b[0m \u001b[38;5;66;03m# If we don't have any hooks, we want to skip the rest of the logic in\u001b[39;00m\n\u001b[1;32m   1746\u001b[0m \u001b[38;5;66;03m# this function, and just call forward.\u001b[39;00m\n\u001b[1;32m   1747\u001b[0m \u001b[38;5;28;01mif\u001b[39;00m \u001b[38;5;129;01mnot\u001b[39;00m (\u001b[38;5;28mself\u001b[39m\u001b[38;5;241m.\u001b[39m_backward_hooks \u001b[38;5;129;01mor\u001b[39;00m \u001b[38;5;28mself\u001b[39m\u001b[38;5;241m.\u001b[39m_backward_pre_hooks \u001b[38;5;129;01mor\u001b[39;00m \u001b[38;5;28mself\u001b[39m\u001b[38;5;241m.\u001b[39m_forward_hooks \u001b[38;5;129;01mor\u001b[39;00m \u001b[38;5;28mself\u001b[39m\u001b[38;5;241m.\u001b[39m_forward_pre_hooks\n\u001b[1;32m   1748\u001b[0m         \u001b[38;5;129;01mor\u001b[39;00m _global_backward_pre_hooks \u001b[38;5;129;01mor\u001b[39;00m _global_backward_hooks\n\u001b[1;32m   1749\u001b[0m         \u001b[38;5;129;01mor\u001b[39;00m _global_forward_hooks \u001b[38;5;129;01mor\u001b[39;00m _global_forward_pre_hooks):\n\u001b[0;32m-> 1750\u001b[0m     \u001b[38;5;28;01mreturn\u001b[39;00m \u001b[43mforward_call\u001b[49m\u001b[43m(\u001b[49m\u001b[38;5;241;43m*\u001b[39;49m\u001b[43margs\u001b[49m\u001b[43m,\u001b[49m\u001b[43m \u001b[49m\u001b[38;5;241;43m*\u001b[39;49m\u001b[38;5;241;43m*\u001b[39;49m\u001b[43mkwargs\u001b[49m\u001b[43m)\u001b[49m\n\u001b[1;32m   1752\u001b[0m result \u001b[38;5;241m=\u001b[39m \u001b[38;5;28;01mNone\u001b[39;00m\n\u001b[1;32m   1753\u001b[0m called_always_called_hooks \u001b[38;5;241m=\u001b[39m \u001b[38;5;28mset\u001b[39m()\n",
      "File \u001b[0;32m~/anaconda3/envs/apollo/lib/python3.10/site-packages/transformers/models/llama/modeling_llama.py:333\u001b[0m, in \u001b[0;36mLlamaDecoderLayer.forward\u001b[0;34m(self, hidden_states, attention_mask, position_ids, past_key_value, output_attentions, use_cache, cache_position, position_embeddings, **kwargs)\u001b[0m\n\u001b[1;32m    331\u001b[0m \u001b[38;5;66;03m# Fully Connected\u001b[39;00m\n\u001b[1;32m    332\u001b[0m residual \u001b[38;5;241m=\u001b[39m hidden_states\n\u001b[0;32m--> 333\u001b[0m hidden_states \u001b[38;5;241m=\u001b[39m \u001b[38;5;28;43mself\u001b[39;49m\u001b[38;5;241;43m.\u001b[39;49m\u001b[43mpost_attention_layernorm\u001b[49m\u001b[43m(\u001b[49m\u001b[43mhidden_states\u001b[49m\u001b[43m)\u001b[49m\n\u001b[1;32m    334\u001b[0m hidden_states \u001b[38;5;241m=\u001b[39m \u001b[38;5;28mself\u001b[39m\u001b[38;5;241m.\u001b[39mmlp(hidden_states)\n\u001b[1;32m    335\u001b[0m hidden_states \u001b[38;5;241m=\u001b[39m residual \u001b[38;5;241m+\u001b[39m hidden_states\n",
      "File \u001b[0;32m~/anaconda3/envs/apollo/lib/python3.10/site-packages/torch/nn/modules/module.py:1739\u001b[0m, in \u001b[0;36mModule._wrapped_call_impl\u001b[0;34m(self, *args, **kwargs)\u001b[0m\n\u001b[1;32m   1737\u001b[0m     \u001b[38;5;28;01mreturn\u001b[39;00m \u001b[38;5;28mself\u001b[39m\u001b[38;5;241m.\u001b[39m_compiled_call_impl(\u001b[38;5;241m*\u001b[39margs, \u001b[38;5;241m*\u001b[39m\u001b[38;5;241m*\u001b[39mkwargs)  \u001b[38;5;66;03m# type: ignore[misc]\u001b[39;00m\n\u001b[1;32m   1738\u001b[0m \u001b[38;5;28;01melse\u001b[39;00m:\n\u001b[0;32m-> 1739\u001b[0m     \u001b[38;5;28;01mreturn\u001b[39;00m \u001b[38;5;28;43mself\u001b[39;49m\u001b[38;5;241;43m.\u001b[39;49m\u001b[43m_call_impl\u001b[49m\u001b[43m(\u001b[49m\u001b[38;5;241;43m*\u001b[39;49m\u001b[43margs\u001b[49m\u001b[43m,\u001b[49m\u001b[43m \u001b[49m\u001b[38;5;241;43m*\u001b[39;49m\u001b[38;5;241;43m*\u001b[39;49m\u001b[43mkwargs\u001b[49m\u001b[43m)\u001b[49m\n",
      "File \u001b[0;32m~/anaconda3/envs/apollo/lib/python3.10/site-packages/torch/nn/modules/module.py:1750\u001b[0m, in \u001b[0;36mModule._call_impl\u001b[0;34m(self, *args, **kwargs)\u001b[0m\n\u001b[1;32m   1745\u001b[0m \u001b[38;5;66;03m# If we don't have any hooks, we want to skip the rest of the logic in\u001b[39;00m\n\u001b[1;32m   1746\u001b[0m \u001b[38;5;66;03m# this function, and just call forward.\u001b[39;00m\n\u001b[1;32m   1747\u001b[0m \u001b[38;5;28;01mif\u001b[39;00m \u001b[38;5;129;01mnot\u001b[39;00m (\u001b[38;5;28mself\u001b[39m\u001b[38;5;241m.\u001b[39m_backward_hooks \u001b[38;5;129;01mor\u001b[39;00m \u001b[38;5;28mself\u001b[39m\u001b[38;5;241m.\u001b[39m_backward_pre_hooks \u001b[38;5;129;01mor\u001b[39;00m \u001b[38;5;28mself\u001b[39m\u001b[38;5;241m.\u001b[39m_forward_hooks \u001b[38;5;129;01mor\u001b[39;00m \u001b[38;5;28mself\u001b[39m\u001b[38;5;241m.\u001b[39m_forward_pre_hooks\n\u001b[1;32m   1748\u001b[0m         \u001b[38;5;129;01mor\u001b[39;00m _global_backward_pre_hooks \u001b[38;5;129;01mor\u001b[39;00m _global_backward_hooks\n\u001b[1;32m   1749\u001b[0m         \u001b[38;5;129;01mor\u001b[39;00m _global_forward_hooks \u001b[38;5;129;01mor\u001b[39;00m _global_forward_pre_hooks):\n\u001b[0;32m-> 1750\u001b[0m     \u001b[38;5;28;01mreturn\u001b[39;00m \u001b[43mforward_call\u001b[49m\u001b[43m(\u001b[49m\u001b[38;5;241;43m*\u001b[39;49m\u001b[43margs\u001b[49m\u001b[43m,\u001b[49m\u001b[43m \u001b[49m\u001b[38;5;241;43m*\u001b[39;49m\u001b[38;5;241;43m*\u001b[39;49m\u001b[43mkwargs\u001b[49m\u001b[43m)\u001b[49m\n\u001b[1;32m   1752\u001b[0m result \u001b[38;5;241m=\u001b[39m \u001b[38;5;28;01mNone\u001b[39;00m\n\u001b[1;32m   1753\u001b[0m called_always_called_hooks \u001b[38;5;241m=\u001b[39m \u001b[38;5;28mset\u001b[39m()\n",
      "File \u001b[0;32m~/anaconda3/envs/apollo/lib/python3.10/site-packages/transformers/models/llama/modeling_llama.py:81\u001b[0m, in \u001b[0;36mLlamaRMSNorm.forward\u001b[0;34m(self, hidden_states)\u001b[0m\n\u001b[1;32m     79\u001b[0m input_dtype \u001b[38;5;241m=\u001b[39m hidden_states\u001b[38;5;241m.\u001b[39mdtype\n\u001b[1;32m     80\u001b[0m hidden_states \u001b[38;5;241m=\u001b[39m hidden_states\u001b[38;5;241m.\u001b[39mto(torch\u001b[38;5;241m.\u001b[39mfloat32)\n\u001b[0;32m---> 81\u001b[0m variance \u001b[38;5;241m=\u001b[39m \u001b[43mhidden_states\u001b[49m\u001b[38;5;241;43m.\u001b[39;49m\u001b[43mpow\u001b[49m\u001b[43m(\u001b[49m\u001b[38;5;241;43m2\u001b[39;49m\u001b[43m)\u001b[49m\u001b[38;5;241m.\u001b[39mmean(\u001b[38;5;241m-\u001b[39m\u001b[38;5;241m1\u001b[39m, keepdim\u001b[38;5;241m=\u001b[39m\u001b[38;5;28;01mTrue\u001b[39;00m)\n\u001b[1;32m     82\u001b[0m hidden_states \u001b[38;5;241m=\u001b[39m hidden_states \u001b[38;5;241m*\u001b[39m torch\u001b[38;5;241m.\u001b[39mrsqrt(variance \u001b[38;5;241m+\u001b[39m \u001b[38;5;28mself\u001b[39m\u001b[38;5;241m.\u001b[39mvariance_epsilon)\n\u001b[1;32m     83\u001b[0m \u001b[38;5;28;01mreturn\u001b[39;00m \u001b[38;5;28mself\u001b[39m\u001b[38;5;241m.\u001b[39mweight \u001b[38;5;241m*\u001b[39m hidden_states\u001b[38;5;241m.\u001b[39mto(input_dtype)\n",
      "\u001b[0;31mKeyboardInterrupt\u001b[0m: "
     ]
    }
   ],
   "source": [
    "top1000['summary_naver_llm'] = top1000['text'].progress_apply(get_summarize)"
   ]
  },
  {
   "cell_type": "code",
   "execution_count": 44,
   "id": "4c3a8505",
   "metadata": {},
   "outputs": [
    {
     "data": {
      "text/plain": [
       "'이 기사에서는 소재부품 국산화 현황과 문제점, 대안에 대해 논의하는 가운데, 특히 반도체, 디스플레이, 배터리 등 다양한 산업 분야에서 국산화의 필요성과 전략에 대해 다루고 있습니다. 일본 정부의 수출규제 이후 국산화 관심가 높아졌으며, 전문가들은 국산화의 필요성을 강조하고 있습니다. 정부는 소재부품 국산화를 위해 R&D 전략과 글로벌 협력 등을 강조하며, 중소기업과 대기업 간의 협력도 중요하다고 지적합니다. 또한, 기초과학 연구와 정부의 소재산업 육성 정책의 중요성을 언급하며, 장기적인 관점에서 국산화를 추진해야 한다고 강조합니다.'"
      ]
     },
     "execution_count": 44,
     "metadata": {},
     "output_type": "execute_result"
    }
   ],
   "source": [
    "get_summarize(top5.iloc[0]['text'])"
   ]
  },
  {
   "cell_type": "code",
   "execution_count": 47,
   "id": "d77c345f",
   "metadata": {},
   "outputs": [
    {
     "data": {
      "application/vnd.jupyter.widget-view+json": {
       "model_id": "7e2012017e04424da02b91c1e7a69996",
       "version_major": 2,
       "version_minor": 0
      },
      "text/plain": [
       "  0%|          | 0/5 [00:00<?, ?it/s]"
      ]
     },
     "metadata": {},
     "output_type": "display_data"
    }
   ],
   "source": [
    "top5['summary_naver_llm'] = top5['text'].progress_apply(get_summarize)"
   ]
  },
  {
   "cell_type": "code",
   "execution_count": 48,
   "id": "aa7c53e1",
   "metadata": {},
   "outputs": [
    {
     "data": {
      "text/html": [
       "<div>\n",
       "<style scoped>\n",
       "    .dataframe tbody tr th:only-of-type {\n",
       "        vertical-align: middle;\n",
       "    }\n",
       "\n",
       "    .dataframe tbody tr th {\n",
       "        vertical-align: top;\n",
       "    }\n",
       "\n",
       "    .dataframe thead th {\n",
       "        text-align: right;\n",
       "    }\n",
       "</style>\n",
       "<table border=\"1\" class=\"dataframe\">\n",
       "  <thead>\n",
       "    <tr style=\"text-align: right;\">\n",
       "      <th></th>\n",
       "      <th>id</th>\n",
       "      <th>topic</th>\n",
       "      <th>text</th>\n",
       "      <th>ksic</th>\n",
       "      <th>max_scores</th>\n",
       "      <th>summary_new</th>\n",
       "      <th>text_len</th>\n",
       "      <th>summary_naver_llm</th>\n",
       "    </tr>\n",
       "  </thead>\n",
       "  <tbody>\n",
       "    <tr>\n",
       "      <th>697187</th>\n",
       "      <td>NPRW2000000005.14858</td>\n",
       "      <td>T</td>\n",
       "      <td>[소재부품 국산화, 다시 시작하자] &lt;10&gt;결산 좌담회 본지는 7월 1일 일본 정부...</td>\n",
       "      <td>c303</td>\n",
       "      <td>0.015210</td>\n",
       "      <td>일본 조치 이후 약 한 달간 소재부품 국산화와 공급망 다변화에 대한 관심이 커지면서...</td>\n",
       "      <td>10843</td>\n",
       "      <td>이 기사에서는 소재부품 국산화 현황과 문제점, 대안에 대해 논의하는 가운데, 특히 ...</td>\n",
       "    </tr>\n",
       "    <tr>\n",
       "      <th>689300</th>\n",
       "      <td>NPRW2000000005.14771</td>\n",
       "      <td>T</td>\n",
       "      <td>[CES 2019 결산 좌담회]\"4차 산업혁명시대, 오픈이노베이션으로 대응하자\" 미...</td>\n",
       "      <td>c262</td>\n",
       "      <td>0.020692</td>\n",
       "      <td>미국 라스베이거스에서 8일(현지시간)부터 11일까지 열렸던 'CES 2019'는 한...</td>\n",
       "      <td>10549</td>\n",
       "      <td>'CES 2019'에서 논의된 오픈이노베이션은 기업에 필요한 기술과 자원을 외부에서...</td>\n",
       "    </tr>\n",
       "    <tr>\n",
       "      <th>546824</th>\n",
       "      <td>NWRW2000000002.25857</td>\n",
       "      <td>T</td>\n",
       "      <td>돼지열병 창궐하자 “대박…” 비극을 기다린 사람들 비극도 돈이 되는 시대는 치사율 ...</td>\n",
       "      <td>c101</td>\n",
       "      <td>0.070129</td>\n",
       "      <td>연천군 백학면의 양돈농장에서 아프리카돼지열병(ASF·이하 돼지열병)이 확진됐다. 전...</td>\n",
       "      <td>10232</td>\n",
       "      <td>아프리카돼지열병(AST)이 파주를 덮치면서 돼지열병을 테마로 삼은 투자자들과 기업들...</td>\n",
       "    </tr>\n",
       "    <tr>\n",
       "      <th>698436</th>\n",
       "      <td>NPRW2000000005.14769</td>\n",
       "      <td>T</td>\n",
       "      <td>[2019 신년기획]결산 좌담회 '4차 산업혁명 해법을 찾자' 대한민국을 휘감는 대...</td>\n",
       "      <td>c211</td>\n",
       "      <td>0.009373</td>\n",
       "      <td>4차 산업혁명은 제조업을 기반으로 고도 압축 성장을 거듭한 우리나라에 새로운 성장엔...</td>\n",
       "      <td>9657</td>\n",
       "      <td>2019 신년기획으로 열린 '4차 산업혁명 해법' 좌담회에서 전문가들은 대한민국이 ...</td>\n",
       "    </tr>\n",
       "    <tr>\n",
       "      <th>698445</th>\n",
       "      <td>NWRW2000000002.25495</td>\n",
       "      <td>T</td>\n",
       "      <td>‘집단지성의 성채’ 위키백과, ‘지식정보의 편향’ 넘을 수 있을까 ‘개방과 공유’....</td>\n",
       "      <td>c272</td>\n",
       "      <td>0.008868</td>\n",
       "      <td>최근 국내 통계물리학자들이 방대한 위키 빅데이터를 분석해, 적은 비율의 열성적 편집...</td>\n",
       "      <td>8992</td>\n",
       "      <td>위키백과는 2001년 1월 15일 설립된 이후, 전 세계적으로 수많은 사용자와 편집...</td>\n",
       "    </tr>\n",
       "  </tbody>\n",
       "</table>\n",
       "</div>"
      ],
      "text/plain": [
       "                          id topic  \\\n",
       "697187  NPRW2000000005.14858     T   \n",
       "689300  NPRW2000000005.14771     T   \n",
       "546824  NWRW2000000002.25857     T   \n",
       "698436  NPRW2000000005.14769     T   \n",
       "698445  NWRW2000000002.25495     T   \n",
       "\n",
       "                                                     text  ksic  max_scores  \\\n",
       "697187  [소재부품 국산화, 다시 시작하자] <10>결산 좌담회 본지는 7월 1일 일본 정부...  c303    0.015210   \n",
       "689300  [CES 2019 결산 좌담회]\"4차 산업혁명시대, 오픈이노베이션으로 대응하자\" 미...  c262    0.020692   \n",
       "546824  돼지열병 창궐하자 “대박…” 비극을 기다린 사람들 비극도 돈이 되는 시대는 치사율 ...  c101    0.070129   \n",
       "698436  [2019 신년기획]결산 좌담회 '4차 산업혁명 해법을 찾자' 대한민국을 휘감는 대...  c211    0.009373   \n",
       "698445  ‘집단지성의 성채’ 위키백과, ‘지식정보의 편향’ 넘을 수 있을까 ‘개방과 공유’....  c272    0.008868   \n",
       "\n",
       "                                              summary_new  text_len  \\\n",
       "697187  일본 조치 이후 약 한 달간 소재부품 국산화와 공급망 다변화에 대한 관심이 커지면서...     10843   \n",
       "689300  미국 라스베이거스에서 8일(현지시간)부터 11일까지 열렸던 'CES 2019'는 한...     10549   \n",
       "546824  연천군 백학면의 양돈농장에서 아프리카돼지열병(ASF·이하 돼지열병)이 확진됐다. 전...     10232   \n",
       "698436  4차 산업혁명은 제조업을 기반으로 고도 압축 성장을 거듭한 우리나라에 새로운 성장엔...      9657   \n",
       "698445  최근 국내 통계물리학자들이 방대한 위키 빅데이터를 분석해, 적은 비율의 열성적 편집...      8992   \n",
       "\n",
       "                                        summary_naver_llm  \n",
       "697187  이 기사에서는 소재부품 국산화 현황과 문제점, 대안에 대해 논의하는 가운데, 특히 ...  \n",
       "689300  'CES 2019'에서 논의된 오픈이노베이션은 기업에 필요한 기술과 자원을 외부에서...  \n",
       "546824  아프리카돼지열병(AST)이 파주를 덮치면서 돼지열병을 테마로 삼은 투자자들과 기업들...  \n",
       "698436  2019 신년기획으로 열린 '4차 산업혁명 해법' 좌담회에서 전문가들은 대한민국이 ...  \n",
       "698445  위키백과는 2001년 1월 15일 설립된 이후, 전 세계적으로 수많은 사용자와 편집...  "
      ]
     },
     "execution_count": 48,
     "metadata": {},
     "output_type": "execute_result"
    }
   ],
   "source": [
    "top5"
   ]
  },
  {
   "cell_type": "code",
   "execution_count": 77,
   "id": "71e4008a",
   "metadata": {},
   "outputs": [
    {
     "data": {
      "text/plain": [
       "Index(['id', 'topic', 'text', 'ksic', 'max_scores'], dtype='object')"
      ]
     },
     "execution_count": 77,
     "metadata": {},
     "output_type": "execute_result"
    }
   ],
   "source": [
    "df.columns"
   ]
  },
  {
   "cell_type": "code",
   "execution_count": 78,
   "id": "40115160",
   "metadata": {},
   "outputs": [
    {
     "data": {
      "text/plain": [
       "'코로나 환자 늘어 일반 중환자 치료 공백 코로나 바이러스 확산으로 위중증 환자가 급격히 늘어나자 의료 인력이 코로나 치료에 집중하면서 일반 중환자 대처에 차질이 생기고 있다. 의료 현장에서는 “코로나 확산으로 암 환자 등 일반 중환자 치료에 공백이 생기고 있다”는 목소리가 나온다. 18일 김범석 서울대 혈액종양내과 교수팀이 2019~2020년 서울대병원에서 사망한 암 환자 1456명을 분석한 결과 2019년 서울대병원 응급실에서 세상을 떠난 암 환자는 53명에서 2020년 99명으로 약 86% 대폭 증가한 것으로 나타났다. 말기 암 환자의 응급실 체류 시간도 늘었고, 환자의 생존을 위해 강제로 혈압을 높이는 승압제를 사용한 환자 수도 52.3%에서 59.2%로 약 7%포인트 늘었다. 심폐소생술을 받은 암 환자도 12.5%에서 16.3%로 증가했다. 김 교수는 “코로나 환자도 중요하지만, 이 때문에 소외된 환자들이 방치되고 있다는 사실을 알아야 한다”고 말했다.'"
      ]
     },
     "execution_count": 78,
     "metadata": {},
     "output_type": "execute_result"
    }
   ],
   "source": [
    "df.iloc[0].text"
   ]
  },
  {
   "cell_type": "code",
   "execution_count": 26,
   "id": "2c4912f6",
   "metadata": {},
   "outputs": [
    {
     "name": "stdout",
     "output_type": "stream",
     "text": [
      "============ original ===============\n",
      "코로나 환자 늘어 일반 중환자 치료 공백 코로나 바이러스 확산으로 위중증 환자가 급격히 늘어나자 의료 인력이 코로나 치료에 집중하면서 일반 중환자 대처에 차질이 생기고 있다 의료 현장에서는 코로나 확산으로 암 환자 등 일반 중환자 치료에 공백이 생기고 있다는 목소리가 나온다 18일 김범석 서울대 혈액종양내과 교수팀이 20192020년 서울대병원에서 사망한 암 환자 1456명을 분석한 결과 2019년 서울대병원 응급실에서 세상을 떠난 암 환자는 53명에서 2020년 99명으로 약 86 대폭 증가한 것으로 나타났다 말기 암 환자의 응급실 체류 시간도 늘었고 환자의 생존을 위해 강제로 혈압을 높이는 승압제를 사용한 환자 수도 523에서 592로 약 7포인트 늘었다 심폐소생술을 받은 암 환자도 125에서 163로 증가했다 김 교수는 코로나 환자도 중요하지만 이 때문에 소외된 환자들이 방치되고 있다는 사실을 알아야 한다고 말했다\n"
     ]
    },
    {
     "name": "stderr",
     "output_type": "stream",
     "text": [
      "/home/osung/anaconda3/lib/python3.9/site-packages/transformers/generation/configuration_utils.py:386: UserWarning: `do_sample` is set to `False`. However, `top_p` is set to `0.95` -- this flag is only used in sample-based generation modes. You should set `do_sample=True` or unset `top_p`.\n",
      "  warnings.warn(\n"
     ]
    },
    {
     "name": "stdout",
     "output_type": "stream",
     "text": [
      "464 283\n",
      "time to summarize is 2.20798 sec\n",
      "============ summary  ================\n",
      "코로나 바이러스 확산으로 위중증 환자가 급격히 늘어나자 의료 인력이 코코나 치료에 집중하면서 일반 중환자 대처에 차질이 생기고 있다 의료 현장에서는 코로나가 확산으로 암 환자 등 일반 중 환자 치료에 공백이 생기고 있다는 목소리가 나온다. 김 교수는 코로나도 중요하지만 이 때문에 소외된 환자들이 방치되고 있다는 사실을 알아야 한다고 말했다. 코로나의 확산으로 일반 중환자의 치료가 공백이 생긴다는 목소리가 나오고 있다. 김교수는 코로나는 물론 이 때문에 방치된 환자들이 많다는 사실을 알아야 한다 말했다.\n",
      "======================================\n",
      "464 283\n",
      "=============== long summary  ================\n",
      "코로나 바이러스 확산으로 위중증 환자가 급격히 늘어나자 의료 인력이 코코나 치료에 집중하면서 일반 중환자 대처에 차질이 생기고 있다 의료 현장에서는 코로나가 확산으로 암 환자 등 일반 중 환자 치료에 공백이 생기고 있다는 목소리가 나온다. 김 교수는 코로나도 중요하지만 이 때문에 소외된 환자들이 방치되고 있다는 사실을 알아야 한다고 말했다. 코로나의 확산으로 일반 중환자의 치료가 공백이 생긴다는 목소리가 나오고 있다. 김교수는 코로나는 물론 이 때문에 방치된 환자들이 많다는 사실을 알아야 한다 말했다.\n",
      "======================================\n",
      "time to summarize long sentence is 1.32148 sec\n"
     ]
    }
   ],
   "source": [
    "run_summarize(df.iloc[0].text, tokenizer, model, device)"
   ]
  },
  {
   "cell_type": "code",
   "execution_count": 28,
   "id": "2d1c7a73",
   "metadata": {},
   "outputs": [
    {
     "name": "stdout",
     "output_type": "stream",
     "text": [
      "============ original ===============\n",
      " 휴가때 골프 꼭 치고 싶으면 자비로 쳐라 허태열 대통령비서실장이 최근 수석비서관회의를 주재하면서 휴가 때 골프를 꼭 치고 싶은 사람은 문제가 되지 않을 사람과 자비로 쳐도 된다며 웬만하면 필드골프장 대신 스크린골프를 이용하는 게 좋겠다고 말한 것으로 전해졌다 2월 박근혜 정부 출범 이후 골프 금지령이 내려진 적은 없지만 북한의 위협이 이어진 데다 정권 출범의 긴장감이 더해져 공직자들은 자연스레 골프를 칠 엄두를 내지 못했다 이와 관련해 박 대통령은 10일 언론사 논설실장 오찬에서 캐디들도 수입이 그렇고 자꾸 외국만 나가서 어떻게 하느냐고 걱정하는 이야기도 있다 지금 여러 가지 생각을 하고 있다고 밝혔다 청와대 관계자는 자비를 들여 취미로 치는 것까지 문제 삼을 수야 있겠느냐며 그렇다고 이제부터 골프를 쳐도 된다고 선언하는 것도 우습고 자연스럽게 분위기가 잡힐 것이라고 말했다 허 실장의 발언이 알려지자 관가에선 골프를 쳐도 된다는 건지 치지 말라는 건지 헷갈린다는 반응이 나왔다\n",
      "497 317\n",
      "time to summarize is 1.45685 sec\n",
      "============ summary  ================\n",
      "허태열 대통령비서실장이 최근 수석비서관회의를 주재하면서 휴가 때 골프를 꼭 치고 싶은 사람은 문제가 되지 않을 사람과 자비로 쳐도 된다며 웬만하면 필드골프장 대신 스크린골프를 이용하는 게 좋겠다고 말한 것으로 전해졌다 2월 박근혜 정부 출범 이후 골프 금지령이 내려진 적은 없지만 북한의 위협이 이어진 데다 정권 출범의 긴장감이 더해져 공직자들은 자연스레 골프를 칠 엄두를 내지 못했다 이와 관련해 박 대통령은 10일 언론사 논설실장 오찬에서 캐디들도 수입이 그렇고 자꾸 외국만 나가서 어떻게 하느냐고 걱정하는 이야기도 있다 지금 여러 가지 생각을 하고 있다고 밝혔다\n",
      "======================================\n",
      "497 317\n",
      "=============== long summary  ================\n",
      "허태열 대통령비서실장이 최근 수석비서관회의를 주재하면서 휴가 때 골프를 꼭 치고 싶은 사람은 문제가 되지 않을 사람과 자비로 쳐도 된다며 웬만하면 필드골프장 대신 스크린골프를 이용하는 게 좋겠다고 말한 것으로 전해졌다 2월 박근혜 정부 출범 이후 골프 금지령이 내려진 적은 없지만 북한의 위협이 이어진 데다 정권 출범의 긴장감이 더해져 공직자들은 자연스레 골프를 칠 엄두를 내지 못했다 이와 관련해 박 대통령은 10일 언론사 논설실장 오찬에서 캐디들도 수입이 그렇고 자꾸 외국만 나가서 어떻게 하느냐고 걱정하는 이야기도 있다 지금 여러 가지 생각을 하고 있다고 밝혔다\n",
      "======================================\n",
      "317 274\n",
      "=============== long summary2  ================\n",
      "허태열 대통령비서실장이 최근 수석비서관회의를 주재하면서 웬만하면 필드골프장 대신 스크린골프를 이용하는 게 좋겠다고 말한 것으로 전해졌다. 2월 박근혜 정부 출범 이후 골프 금지령이 내려진 적은 없지만 북한의 위협이 이어진 데다 정권 출범의 긴장감이 더해져 공직자들은 자연스레 골프를 칠 엄두를 내지 못했다. 이와 관련해 박 대통령은 10일 언론사 논설실장 오찬에서 캐디들도 수입이 그렇고 자꾸 외국만 나가서 어떻게 하느냐고 걱정하는 이야기도 있다 지금 여러 가지 생각을 하고 있다고 밝혔다.\n",
      "======================================\n",
      "time to summarize long sentence is 2.66580 sec\n"
     ]
    }
   ],
   "source": [
    "run_summarize(df.iloc[1].text, tokenizer, model, device)"
   ]
  },
  {
   "cell_type": "code",
   "execution_count": 30,
   "id": "e48b2b38",
   "metadata": {},
   "outputs": [
    {
     "data": {
      "text/plain": [
       "Index(['Unnamed: 0', 'id', 'topic', 'text', 'ksic', 'max_scores', 'keywords',\n",
       "       'keywords_orig', 'ksic_scores', 'max_ksic', 'ksic_count',\n",
       "       'max_ksic_scores'],\n",
       "      dtype='object')"
      ]
     },
     "execution_count": 30,
     "metadata": {},
     "output_type": "execute_result"
    }
   ],
   "source": [
    "df.columns"
   ]
  },
  {
   "cell_type": "code",
   "execution_count": 31,
   "id": "693ea150",
   "metadata": {},
   "outputs": [
    {
     "data": {
      "text/plain": [
       "Unnamed: 0                                                         0\n",
       "id                                              NWRW2200000004.11879\n",
       "topic                                                              P\n",
       "text               코로나 환자 늘어 일반 중환자 치료 공백 코로나 바이러스 확산으로 위중증 환자가 급...\n",
       "ksic                                                            c271\n",
       "max_scores                                                    0.4621\n",
       "keywords           {'김': 1, '분석': 1, '바이러스': 1, '코로나': 5, '병원': 2...\n",
       "keywords_orig      {'환자': 11, '코로나': 5, '암': 5, '일반': 3, '중환자': 3...\n",
       "ksic_scores        {'c102': 1, 'c272': 1, 'c211': 2, 'c271': 24, ...\n",
       "max_ksic                                                    ['c271']\n",
       "ksic_count                                                         1\n",
       "max_ksic_scores                                                   24\n",
       "Name: 0, dtype: object"
      ]
     },
     "execution_count": 31,
     "metadata": {},
     "output_type": "execute_result"
    }
   ],
   "source": [
    "df.iloc[0]"
   ]
  },
  {
   "cell_type": "code",
   "execution_count": 66,
   "id": "5a18bf0e",
   "metadata": {},
   "outputs": [],
   "source": [
    "df = df.drop(columns='Unnamed: 0')"
   ]
  },
  {
   "cell_type": "code",
   "execution_count": 33,
   "id": "5ef2889e",
   "metadata": {},
   "outputs": [
    {
     "data": {
      "text/plain": [
       "Index(['id', 'topic', 'text', 'ksic', 'max_scores', 'keywords',\n",
       "       'keywords_orig', 'ksic_scores', 'max_ksic', 'ksic_count',\n",
       "       'max_ksic_scores'],\n",
       "      dtype='object')"
      ]
     },
     "execution_count": 33,
     "metadata": {},
     "output_type": "execute_result"
    }
   ],
   "source": [
    "df2.columns"
   ]
  },
  {
   "cell_type": "code",
   "execution_count": 34,
   "id": "75cd26da",
   "metadata": {},
   "outputs": [],
   "source": [
    "df = df2"
   ]
  },
  {
   "cell_type": "code",
   "execution_count": 79,
   "id": "a6ba7d85",
   "metadata": {},
   "outputs": [],
   "source": [
    "df_sorted = df.sort_values(by='text', key=lambda x: x.str.len(), ascending=False)"
   ]
  },
  {
   "cell_type": "code",
   "execution_count": 81,
   "id": "af476f94",
   "metadata": {},
   "outputs": [
    {
     "data": {
      "text/plain": [
       "\"[전문] 문재인 정부 2년 특집 대담, 대통령에게 묻는다 문재인 대통령은 9일 오후 청와대 상춘재에서 진행된 KBS '문재인 정부 2년 특집 대담, 대통령에게 묻는다'에 출연해, 정부 출범 2주년 소회 및 각 분야별 입장을 밝혔다. 이날 대담은 예정된 시간을 6분 넘겨 86분간 생중계로 진행됐다. 다음은 일문일답. ◆취임 2주년 소회 -2년 전 오늘 이 시간 기억하실지 모르겠다. 나라다운 나라를 만들어 달라, 이런 요구 속에서 문재인 정권이 출범을 했다. 아무래도 첫 질문이니까 2년 동안 소회를 여쭙지 않을 수 없을 것 같다. ▷먼저 국민들께 감사인사부터 드려야겠다. 우리 국민들께서는 촛불혁명이라는 아주 성숙된 방법으로 정권을 교체하고, 저를 대통령으로 선택해 주셨다. 그래서 문재인 정부는 촛불정신 위에 서 있다. 촛불민심이 명하는 대로 국정농단, 그리고 반칙과 특권이라는 적폐시대를 마감하고, 새로운 시대, 공정하고 정의로운 대한민국의 길을 향해서 걸어가고 있다. 얼마나 기대에 부응했는지 잘 모르겠다. 많은 성과들이 있었다고 생각한다. 그러나 한편으로 또 아쉬운 부분들도 많이 있고, 또 보완해야 할 과제들도 많이 있다고 느낀다. 앞으로 그 점을 더 집중해서 국민들이 바라는 그런 나라를 만들도록 노력하겠다. ◆국내 정치 -국내 정치 현안 문제로 들어가야 할 것 같다. 조금 전에 대북 현안들, 그리고 식량지원문제를 화두로 한 번 만나보자 제안을 공식적으로 하신 거라 봐야 하나. ▷이미 남북 간 정상회담을 가져야겠다라는 것은 제가 공개적으로 이미 발언을 했다. 실제로 북한하고 실무적인 대화에 들어가겠다는 뜻을 말씀 드렸다. -제가 여쭤본 것은 국내 정치권의…. ▷그렇다. 지금 패스트트랙 문제로 여야 정치권이 이렇게 대치하고 있는 것은 정치 성격상 우리가 이해할 수 있는 것이지만, 국민들 입장에서 볼 때는 참으로 답답한 국면이 아닐 수 없다. 처리해야 할 민생법안도 많이 있고, 추경 문제도 논의해야 되고, 그래서 이런 국면에서 필요한 것이 지난번에 합의했던 여야정 상설국정협의체를 가동하는 것이라고 생각한다. 우선적으로 방금 현안으로 대두된 문제를 논의될 수 있지 않을까 하는 것이다. -11월에 가동되고 지금 계속 이어지지 않고 있다. 책임이 어디에 있느냐를 따질 수 있겠지만, 사실 국정운영의 총책임자로서 대통령께서 야당과 관계를 이렇게 풀지 않고 오랜 시간 끌고 가는 것은 결과론적으로 국정운영의 부담으로 돌아오는 거 아닐까. 원로들 주문도 대통령이 먼저 나서 풀어라는 주문이 있었던 것으로 알고 있다. ▷그 점은 제가 동의하지 않을 수 없는데, 그러나 돌이켜보자면 제가 2년 전 5월10일, 내일이죠. 그때 약식으로 취임식을 하며 취임식 이전에 야당 당사들 전부 방문했다. 그리고 역대 어느 대통령보다 자주 야당 대표들과 원내대표들을 만나 왔다. 그러나 그런 식으로 약속을 해서 만나는 것이 정국에 따라서 원활하지 않을 수 있기 때문에, 아예 여야정 상설국정협의체를 분기에 한 번씩 상황에 상관 없이 하기로 합의했는데, 그것이 지난 3월이었다. 그 약속이 지켜지지 않은 것이다. 지금이라도 그 약속을 지키는 모습을 보이자고 말하는 것이다. 어쨋든 노력을 하더라도 손바닥이 마주쳐야 소리가 나는 것이기 때문에 저의 제안에 대해 야당 측에서 좀 성의있는(답변이 나오길 바란다). -야당 입장에서 보면 여러 현안들이, 야당이라면 제1야당 얘기를 안 할 수 없는데, 자유한국당 입장에서 보면 청와대가 주도해서 여당이 끌어가는 것으로 해서 야당의 의견을 전혀 반영하지 않고 정국을 끌어가고 있다는 판단을 하는 것이고, 그렇기 때문에 대통령께 독재자라고 얘기하고 있는 것 아니겠나. 독재자라는 말을 들었을 때 어떤 느낌이었나. ▷우선 패스트트랙이란 성격이 말하자면, 다수 의석을 가진 측에서 독주하지 못하게 하면서 야당은 물리적인 저지를 하지 않기로 하고, 그 해법으로 패스트트랙라는 해법을 마련한 것이다. 그래서 그 해법을 선택한 것을 가지고 독재라 하는 것은 정말 조금 맞지 않는 얘기란 말씀을 드린다. 그야말로 국회선진화법의 혜택을 많이 누려왔는데 국회선진화법이 정해놓은 방법을 부정해선 안 되는 것이다. 게다가 정말 촛불민심에 의해 탄생한 정부가, 지금 말하자면 독재, 그것도 그냥 독재라 하면 또 설득력이 떨어질 수 있으니 색깔론을 더해 좌파독재로 규정짓고 투쟁하는 것을 보면 참 뭐라 말씀 드려야 할지 모르겠다. -그렇게 부르지만 만나셔야 될 상대라고 생각하시죠. ▷일단 그렇게 조금 극단의 표현을 쓰긴 했지만 그것도 다 하나의 정치적인 행위라고 본다면 여야 간의 정치적 대립은 늘상 있어온 것이고, 그리고 또 이제라도 한 페이지 넘기고 다시 새로운 대화를 통해서 새로운 해법을 찾아야 한다고 본 것이다. ◆적폐청산 -대야관계와 협치문제 질문을 드리고 있는데, 이 질문을 안할 수 없다. 원로들 만나셨을 때 이렇게 알려졌는데, 선 적폐청산 후 협치, 이런 취지로 말한 것으로 전달됐다. 전달이 잘못된 것인지 아니면 아직까지 적폐청산이 부족한 상태라서 이것이 먼저 정리돼야 그 다음에 또 다른 관계설정이 가능하다고 판단하는 것인지 ▷우선 그렇게 말한 사실이 없고. 그 회동에서 오간 대화에서는 우리 대변인이 잘 정리해서 발표를 했기 때문에 제가 KBS 보도를 보지는 못했으나, 제가 본 보도들은 제 발언내용을 있는 그대로 내보냈다. 그런데 말하자면 헤드라인이나 자막을 그런식으로 뽑은 것이다. 그러고 난 이후에는 그 자막, 헤드라인을 근거로 이런저런 비판을 하는 좀 황당한 일이 벌어지고 있다. 제가 말씀 드린 취지는 원로들의 말씀이 아니라 우리 사회의, 또 일각에서는 이제 적폐수사는 그만 끝내고 협치, 통합, 이런 것으로 나아가자는 말씀들이 있어서 그에 대한 제 견해를 말씀드린 것이다. 우선 적폐수사 재판은 우리 정부가 시작한 게 아니라 앞의 정부에서 시작된 일이고, 우리 정부는 기획하거나 관여하지 않고 있다. 살아서 움직이는 수사를 정부가 통제할 수 없고, 통제해서도 안 된다가 생각이다. 개인적인 생각을 얘기하자면, 국정농단이나 사법농단은 그게 사실이라면 그것은 대단히 심각한 반헌법적, 헌법파괴적인 일이기 때문에 그 일을 타협하기는 어려운 일이다. 사실 여부를 빨리 규명하고, 그 다음에 청산하면서 새로운 세대로 나아가자 라는 기본적 방향에 대해서 서로 간의 공감대가 있다면 협치가 수월할텐데, 사법농단이나 국정농단을 바라보는 시각 자체를 바라보는 기본 입장 자체가 달라서 협치에 어려움이 있는 것 같다. ◆고위공직자범죄수사처 -패스트트랙 국면을 이야기하는 와중에 나올 수밖에 없는 의제가 공수처와 검경수사권 조정안이다. 검경수사권 조정안은 문무일 검찰총장이 민주주의에 반하는 부분이 있다고 했다. 이 성격을 항명으로 봐야 하나. 아니면 문제제기 수준이인가. 어떻게 보시는지. 작년에 법무부장관과 행정안전부장관은 합의를 했는데. ▷그래서 패스트트랙이라는 게 법안이 통과된 것이 아니다. 법안을 상정시키는 것이다. 앞으로 상임위에서 논의하게 되고, 국회 본회의에서 논의하게 되기 때문에 그것이 통과되기 위해선 국회에서 또 두루 여론을 수렴하는 절차를 아마 거칠 것이라고 본다. 검찰도 법률 전문집단이고, 또 수사기구이기 때문에 충분히 자신들의 의견을 밝힐수 있다고 본다. -밝히는 방식이 공개적인 것이. ▷그렇게 이해하고 있지만, 제가 분명하게 검찰에 대해 말하고 싶은 것은 공수처도 수사권 조정법안도 그렇고, 지금까지 검찰이 사정기구로 본연의 역할을 다하지 못했기 때문에 개혁의 방안으로 논의가 되는 것이다. 검찰 스스로 개혁을 할 수 있는 많은 기회들을 지금까지 놓쳐 왔다. 그래서 검찰은 개혁의 당사자이고, 말하자면 이제는 셀프개혁으로서는 안 된다는 게 국민들의 보편적인 생각이기 때문에 그런 방안들이 마련되고 있는 것이어서 검찰이 보다 좀 겸허한 자세를 가져야한다고 생각한다. ◆조국 민정수석 거취 -검경수사권 조정과 공수처법 얘기가 나온 김에 조국 민정수석 얘기를 여쭤본다. 두 가지 사법개혁안이 국회 패스트트랙 절차에 들어가게 됐고, 그것이 의미하는 것은 입법절차로 넘어갔다는 것이다. 그 와중에 정부 부처가 의견 개진을 할 수 있지만, 정해진 과정에 따르면 되고, 조 수석의 민정수석으로서의 소임은 일정 부분 정리된 것으로 이해해도 되나. ▷조국 수석이 정치에 나갈 것이냐는 거취를 말한다면, 저는 조국 수석에게 정치를 권유하거나 할 생각은 전혀 없다. 그 여부는 전적으로 본인이 판단할 문제다. 민정수석의 가장 중요한 우리 정부에서의 책무가 인사검증 뿐만 아니라 권력기관들에 대한 개혁이 가장 중요한 임무 중 하나다. 지금 정부 차원에서 할 수 있는 개혁들은 상당히 다 했다고 생각한다. 이제 법제화 하는 과정이 남아 있는데, 그런 작업까지 성공적으로 마쳐주길 바라고 있다. -법제화까지라면 조금 더 (조 수석이) 청와대 생활을 해야 된다는 말씀인지. ▷일단 아직은 패스트트랙에 올라가긴 했지만, 상임위 논의도 남아있고, 많은 절차들이 남아 있을 뿐 아니라 그 방안도 지금 확정된 게 아니다. 예를 들면 지난번 법무부장관과 행안부장관 사이에 공수처 조정에 대해 서로 간 합의가 이뤄졌는데, 패스트트랙에 합의하기 위해 일부 더해지거나 수정된 부분도 있었다. 특히 그 가운데 검찰의 피의자 신문조서에 대해 증거인정을 하지 않는다는 것은 검찰로서는 우려 표명할 만한 것이라고 생각한다. -반면 수사 받는 국민 입장에선 수월해진다고 볼 수 있고, 검찰 입장에서도 충분히 지금까지 가능한 논거라고 제기돼 왔던 부분 아닌가. ▷공판중심주의 강화 측면에서는 필요하지만, 우리 사법제체가 그 단계까지 충분히 준비돼 있느냐는 부분은 더 논의가 필요하다. 거기에 대해서는 법원 측 의견도 들어볼 필요가 있다고 생각한다. 다양한 의견 수렴은 필요하다고 생각한다. ◆인사검증 및 인사청문회 -조금 전에 조국 수석을 말하면서, 인사검증 문제를 꺼내셨다. 지금까지 청와대의 인사검증, 인사와 검증 양쪽 다 만족스럽다고 보시나. 국민들은 낮은 점수를 주는 분야다. ▷우선 인사실패다, 또는 심하게는 인사참사라고 평하는 부분은 저는 동의하지 않는다. 그 이유는 지금 이낙연 총리를 비롯해서 장관님들이 잘하고 있지 않는가. 지금까지 문재인 정부가 어느 정도 해왔다면 그것은 대통령이 혼자 잘한 것이 아니라 내각이 잘해준 것이라고 생각한다. 임명된 장관들이 의무를 제대로 못한다면 그것이야 말로 인사실패인데, 잘하고 있다면 인사실패일 수 없는 것이다. 심지어 인사청문보고서가 채택되지 않은 채 임명된 장관들도 좋은 평을 받는 분들이 많다. 그러면 청와대 추천이 문제이냐, 인사청문회가 문제이냐. 인사실패라 부른 부분은 검증에 있어서 국민들 눈높이에 맞지 않는 부분이 때로 있었다는 지적인 것 같고, 그 점은 저도 겸허히 인정한다. 보다 검증을 더 강화해야겠다는 다짐을 하고 있고, 여러 노력을 하고 있다. -예를 들어 임명은 됐지만 이미선 헌법재판관의 경우는 35억 주식투자 논란이 있었고, 국토부장관 후보자는 다주택 하지 말라고 하면서 본인이 다주택을 했던 것들이 인사청문회 과정에서 드러났다. 국민들이 어떤 기준이 맞냐, 검증이 잘못된 것인지 기준이 잘못된 것인지, 판단이 잘못된 것인지를 묻는다. ▷이렇게 봐주시면 좋겠다. 청와대 검증부터 청문회까지 전체가 하나의 검증 과정인 것이다. 청와대 검증이 완결적일 수는 없다. 소수 인원이 짧은 기간에 공적자료에 의존해 검증을 완벽히 할 수 있나. 그러니 청와대 이후 언론이 검증하고 인사청문회 검증을 하는 것이다. 전체 과정에서 검증되는 것을 보고 인사권자인 대통령이 최종 판단해서 임명하거나 하지 않거나 하게 되는 것이기 때문에 청와대 검증에서 밝혀내지 못한 부분 있었다거나, 또는 국민들 눈높이에 맞지 않다고 해서 그 자체로 검증의 실패다, 책임져야 한다고 말할 수는 없다는 것이다. 다만, 우리가 국민 눈높이에 맞는 검증을 할 수 있도록 계속해서 노력해 나가겠다는 것이다. 또 하나 말하고 싶은 것은 청와대가 그런 흠결이 있음에도 불구하고 발탁하려는 것은 또 한편으로는 그 분의 능력이나 실력을 평가해서 발탁하고 싶은 분이 있기 때문이다. -그런데 그 부분이 제대로 설명이 되지 않았다. ▷함께 결합해서 적절한 분인지 아닌지 판단해야 하는데, 지금 인사청문회 과정이 너무나 흠결만 가지고 정쟁을 벌이기 때문에, 아주 능력 있는 분들 조차 그런 분들 가운데서도 별로 흠결이 없는 분들 조차 우선 청문회 자리에 서기 싫어서, 또 가족들이 반대해서, 가족들이 도마 위에 오르기 싫어해서 고사한다. 지금처럼 청문회가 정쟁쟁의 장으로 운영된다면 좋은 인사를 발탁하는 장이 아니라 좋은 인사를 막는 장이 될 것이다. -그렇다면 제도 개선을 어떻게 할 지 고민할 시점이다. 대통령께서 민정수석과 시민수석을 하실 당시에도 인사 문제가 생겨서 장관 후보자에 대한 인사청문제도가 그 당시 도입됐고, 십수년 정도 우리 사회가 인사청문회 문화를 겪어온 셈이다. 그렇다면 대통령께서 그렇게 판단한다면, 청와대가 갖고 있는 후보자 자료를 국회에 제출하고, 조금 내밀한 자료까지도. 그러고 나서 2단계로 나눠서 신상 같은 것은 비공개로 하고, 나머지 업무역량과 정책역량은 공개로 하는 식의 제도를 바꿔보자는 생각은 하고 계신지. ▷그런 생각도 있다. -그런 혜안을 먼저 내놓는 것이 국민 설득 절차일텐데, 지금 청와대의 모습을 보면 뭐가 문제냐라는 식의 해명이 있었고, 흠결에도 이사람을 왜 쓰고 싶은지 국민들의 이해를 구하는 설명도 상당히 부족했다고 본다. 그렇기 때문에 유능한 게 맞는지, 솔직한 게 맞는지, 이런 비판을 받았던 것 아니냐. ▷첫번째, 제도화 부분은 제가 이미 제안하고 있다. 미국식으로 인사청문 절차를 두 단계로 나눠서 첫번째 도덕성 검증 과정은 비공개 적으로 하고, 그 대신 청와대와 국회, 야당이 모든 정보를 서로 공유하는 것이다. 그 정보를 다 모아 이 분이 공직자로 자격이 있나 없나 먼저 판단하고 그것을 통과하면 능력과 정책 역량을 가지고 검증하는, 그것은 공개적으로 하는 것이다. 그렇게 하는 것이 바람직하다고 생각하고 있고, 제안을 하고 있다. 그렇게 된다면 청와대가 가진 모든 자료를 우리도 제출할 뿐 아니라, 반대로 야당 자료도 우리가 함께 판단할 수 있을 것이다.청와대가 후보자를 발표하며 이 분이 이러한 흠결이 있지만 이런 점을 높이 평가해 발탁하고자 한다고 먼저 추천단계에서 국민들께 밝혀 드리고 싶다. 모든 후보자를 다 그렇게 할 필요는 없으나 적어도 문제가 될 만하다고 하는 분들은 그렇게 하면 좋겠다. 사실 과거 제가 민정수석을 할 때 그렇게 한 적도 있다. 저는 우리 인사팀들에게도 그렇게 요구하고 있는데 초기에 그렇게 한 번 했더니, 방금 균형 있게 이 분의 흠결과 정책능력을 비교해서 보는 것이 아니라 오히려 본인의 흠결에 대해 인사청문회에서에서 소명할 수 있는 기회 조차 주지 않고 논란을 더 앞당겨서 불러 일으키고, 거꾸로 청와대에서는 흠결에 대해 물타기하는 것이라고 공격 받고, 이런 일이 있어서 그 뒤에 그렇게 못하게 된 것 같다. 그 점에 대해 나름 여전히 필요하다고 생각하고 검토해 보겠다. ◆이명박·박근혜 전 대통령 사면 문제 -예정된 시간이 거의 다 됐다. 몇 가지 짧게라도 여쭙고 싶은데 예민한 질문일 수 있다. 보수진영에서 박근혜 전 대통령 사면 요구를 계속 하고 있다. 물론 반대하는 목소리도 상당하다. 대통령께선 법률가이시기 때문에 법적 판단이 있으시리라고 본다. 아직 대법원 판결 전이고, 대통령의 사면권을 제한적으로 쓰겠다고 하셨고, 그렇지만 대통령으로서 판단이 조금 다를 수 있을 것이라고 본다. ▷일단 박 전 대통령과 이명박 전 대통령 두 전임 대통령께서 지금 처해 있는 상황이, 한 분은 지금 보석 상태이시지만 여전히 재판을 받고 있고, 아직 한 분은 수감 중이시다. 이런 상황에 대해서는 정말 가슴이 아프다. 아마 누구보다도 저의 전임자 분들이기 때문에 제가 가장 가슴도 아프고 부담도 클 것이라고 생각한다. 그러나 답변은 아까 말씀하신 대로 아직 재판이 확정되지 않은 상황이기 때문에 그런 상황 속에서 사면을 말하기는 어렵다. -대법원 판결이 나오면 이후 생각해 보겠다는 것인가. ▷일단 재판 확정 이전에 사면을 바라는 것 자체가 그것은 어려운 일이다. ◆총선 정국 및 개각 -내년 총선이 있다. 총리를 포함해 많은 분들, 일부 장관들이 상당히 장수하는 분들이 있다. 총선이 있으면 당에서 요구가 있을 수도 있고, 개각 시점을 생각하시는 게 있는가. ▷특별히 개각 시기를 생각한 것은 없다. 다만 총리를 비롯해 장관들이 정치에 나선다면 그것은 전적으로 본인 의사에 달려 있는 것이고, 대통령으로서 바라고 싶은 것은 선거에 나갈 생각이 있다면 선거시기에 임박해서가 아니라 충분한 여유를 두고 의사를 밝히는 것이 바람직하겠다고 생각하고 있다. 그것은 선거에 대한 정부의 공정성 부분 면에서도 필요한 일이라고 본다. 뿐만 아니라 요즘 유권자들의 요구도, 이제는 낙하산으로 공천 받아 내려오는 게 아니라 지역에서 지역주민과 밀착되길 바라기 때문에 그것이 유권자들 요구라고도 생각한다. ◆3년 뒤 대한민국 모습 -마지막 질문이다. 며칠 전 외신에 '평범한 국민들이 위대함을 이뤘다'는 취지의 기고문을 낸 것을 인상적으로 읽었다. 평범한 국민들에게 앞으로 3년 후는 어떤 모습일 거라고 마지막으로 말씀 하신다면. ▷우선은 요즘 히어로, 영웅을 다루는 영화들이 인기를 끄는 것 같다. 역사를 봐도 영웅들이 역사를 바꿔온 것처럼 느껴지기도 한다. 그러나 제가 말씀드리고 싶은 것은 그렇지 않다는 것이다. 한국이 증명하고 있다. 3·1 독립운동은 주도자들이 이끈 것이 아니라 평범한 민중들이 이끌었다. 4·19혁명과 부마민주항쟁, 5·18 광주민주화운동과 6월항쟁, 그리고 또 지난번 촛불혁명조차도 전부 평범한 시민들의 선한 의지가 모여서 이뤄낸 것이지 않느냐. 평범한 시민들의 선한 의지가 정권교체를 이뤄냈고, 그 힘에 의해 문재인 정부가 탄생한 것이기 때문에 앞으로도 임기를 마칠 때까지 우리가 촛불 정신을 지켜내는 데에 온 힘을 다하겠다는 말씀 드리고 싶다. 보다 구체적으로는 지금까지 우리 경제가 강자의 경제였다면, 이제는 공정한 경제로. 그 다음에는 반칙과 특권이 난무하는 시대였다면, 이제는 역시 그런 것이 없는 공정한 사회로. 양극화가 극심한 사회에서 이제는 함께 잘사는 그런 시대, 경제로. 남북관계도 대립과 전쟁의 시대에서 평화의 시대, 넘어서 협력의 시대로, 나아가선 평화경제의 시대로 발전시켜 나가야 겠다는 것이 저의 목표다. 물론 우리 정부가 모든 일을 다 이룰 수 있다고 생각하지 않는다. 그러나 확실히 임기가 마칠 때 쯤이면 그런 시대가 왔다는 것을 피부로 느낄 수 있도록 최선을 다하겠다. ◆북한 단거리 발사체 -아무래도 어떤 질문으로 시작을 해야 되나 고민을 했었는데 조금 전에 생긴 현안부터 여쭈울 수밖에 없을 것 같다. 4시반쯤부터 해서 북한이 발사체 두발을 쏘아올렸다. 오늘은 단거리 미사일로 추경이 된다. 보고는 받으셨나. ▷그렇다. 북한이 며칠 전에 여러 종류의 단거리 발사체를 발사한 데 이어서 오늘은 일단 단거리 미사일로 추정되는 그런 발사를 했다. 며칠 전의 발사에 대해서는 신형전술유도무기라고 규정을 했었는데 오늘 단거리 미사일로 추정하는 이유는 며칠 전은 북한이 동해안에서 자신들의 앞바다를 향해서 발사를 했기 때문에 사거리가 비교적 짧았다. 오늘은 평안북도 지역에서 육지를 넘어서 동해안까지 발사를 했기 때문에 두발 중의 한 발은 사거리가 400㎞를 넘는다. 그래서 일단 단거리 미사일로 한미 양국이 함께 추정을 하고 있는 것이다. -그 판단은 한·미양국이 같이 내린 것인가. ▷공조하고 있다. -지난 4일 발사체 최장 거리가 240㎞이었는데 오늘은 보면 사거리 420㎞ 발사체가 있다는 것이지. ▷두발 중의 한발이 그렇게 된 것으로 보고 있다. -1.5배 더 늘어난거고 그렇게 해서 한미양국이 공조를 통해서 '발사체는 단거리 미사일로 추정이 된다' 이렇게 규정했다는 것인가. ▷그렇다. -지난 번 발사체 때는 한·미양국이 전략적 해석이라는 표현도 나왔습니다만 미사일이라는 표현을 쓰는데는 주저하지 않았나. 그런데 사거리가 이렇게 됐다. ▷지난 번에 일단 고도가 낮은 데다가 사거리가 짧았다. 미사일로 단정하기에는 이르다고 보고 계속 한미양국이 분석중에 있는 것이다. 오늘은 고도는 낮았지만 발사고도는 낮았지만 사거리가 길었기 때문에 일단은 단거리 미사일로 추정을 하는 것이다. -면밀한 분석이 있어야 되겠지만 탄도미사일 가능성이 있으면 문제가 예를 들어서 '유엔결의안 위반이다' 이런 해석으로 이끌어갈 수 있는 사안이다. ▷일단 유엔의 안보리 결의는 북한의 중장거리 탄도 미사일을 겨냥한 것이다. 이전에 북한이 단거리 미사일을 발사했을 때는 문제삼은 적이 없었다. 그러나 유엔 안보리 결의 속에는 탄도미사일을 하지 말라는 그런 표현이 있기 때문에 비록 단거리라 할지라도 그것이 탄도미사일일 경우에는 유엔 안보리 결의에 위반될 소지도 없지 않다고 생각한다. -그 부분은 추가적인 분석이 있어야 하는 건가. ▷그렇다. 최종적인 판단은 한미양국이 재원이라든지 종류라든지 궤적이라든지 이런 것을 조금 더 면밀히 분석해서 판단을 하게 될 것이다. 참고로 말씀드리면 지난 번의 발사에 대해서도 유엔안보리 결의 위반여부를 판단 중에 있긴 하지만 일단 미국은 지금까지는 유엔안보리 결의는 위반하지 않은 것으로 그렇게 판단을 내리고 있다. -판단 역시 한미 양국이 같이 공유하는 것인가. ▷공유한다. 한편으로 '남북군사합의에 위반되는 것 아니냐'라는 판단도 필요한데, 지금 남북간에는 서로 무력 사용을 하지 않기로 합의를 한 바 있다. 훈련도 휴전선으로부터 비무장지대로부터 일정한 구역 밖에서만 하기로 합의를 한 바 있는데 지난번이나 이번에 북한의 훈련 발사는 일단 그 구역밖에 있고, 군사합의 이후에도 남북이 기존의 무기체계를 발달시키기 위한 시험발사나 훈련 등은 계속해 오고 있기 때문에 남북 간의 군사합의를 위반한 것은 아니라고 보고있다. 그럼에도 북한의 이런 행위가 거듭된다면 지금 대화와 협상국면을 어렵게 만들 수 있다는 점을 북한측에 경고를 하고 싶다. -북한이 4일하고 오늘, 닷새만에 두차례 도발을 했다. 그 수위는 올라갔다. 현 시점에서 좋은 시그널은 아니고, 북한이 왜 이 시점에서 도발행위를 하는 것이라고 판단할지 의도를 분석하는 게 현재로서는 중요한 포인트일 것 같다. ▷정확한 의도는 알 수 없지만 북한이 지금까지 북한 자신의 매체를 통해 밝혀온 여러 가지 보도내용을 종합해보면 북한은 하노이 제2차 북미정상회담이 합의를 이루지 못하고 끝난데 대해서 상당히 불만을 가지고 있는 것 같다. 그래서 미국이나 한국 양측에 대해서 일종의 시위성 성격이 있지 않은가 판단을 하고 있다. 그와 함께 앞으로 비핵화 대화를 자신들이 원하는 방향으로 이끌고자 하는 압박의 성격도 담겨 있다고 본다. 한편으로는 조속한 회담을 촉구하는 그런 성격도 있지 않을까 생각한다. 어쨌든 북한의 의도가 뭐라고 하더라도 결국 근본적인 해법은 북미양국이 조속히 빨리 앉는 것이라고 생각한다. 북한도 불만이 있다면 조속히 대화의 장에서 불만을 명확하게 그렇게 밝히는 것이 바람직하다고 생각한다. 이런 방식으로 북한의 의도를 여러 가지로 해석하게 만들고 또 우려하게 만들고 자칫 잘못하면 대화와 협상국면의 찻물을 끼얹는 이런 성격을 거듭 하는 것은 결코 바람직하지 않다는 것을 북한측에 다시 한 번 이야기하고 싶다. -4일 단거리 발사체가 발사됐을 때 한미양국이 북한의 의도를 판을 깨려는 것으로 보지는 않는다는 취지로 해석을 하는 기류였다. 그런데 그런 도발에 대해서 단호한 규정을 하지 않아서 북한이 추가 도발성 행위를 한 것이다, 이런 시각도 있을 수 있을 것 같다. ▷일단 북한은 계획된 행동으로 보인다. 그러나 대화의 판을 깨지 않으려고 노력하는 모습도 함께 보여주고 있다. 무언가 과거에는 이런 발사를 하면 굉장히 허세를 부리고 과시하는 그런 행동을 했지만. -허세를 부리고 과시하는 행위는 어떤 걸 말하는지 ▷'ICBM을 완성했다' '고도 미사일을 능력을 갖게 됐다' 이런 식으로 국제사회에 위협적인 표현들을 했었는데, 이번에 북한은 그냥 '신형전술유도 무기를 시험훈련한 것이다' 라고 낮은 로우키로 발표를 했고, 발사를 방향이라든지 발사지역도 미국이나 일본 한국에게 별로 위협이 되지 않는 그런 방식으로 발사를 했기 때문에 북한 측에서는 한편으로 자기 의사를 표현하면서 판이 깨지지 않도록 유의하는 것으로 판단한다. -대통령께서도 4일 도발이 있었고 단거리 발사체 발사가 있었고 오늘 추가발사가 있을 것이라고 예측은 못한 것인가. ▷네 그렇다. 그리고 북한이 이것이 마지막인지 여부도 아직은 판단하기 어렵다. -며칠만에 다시 미사일로 추정되는 단거리 발사체를 쐈기 때문에 예를 들어 추가도발이 있을 수도 있을 가능성은 우리가 배제할 수는 없을 것이다. 그렇다면 '상황을 더 악화시키면 안 된다. 상황관리차원에서 라도 우리가 특사를 보낼 필요성이 있다'는 판단은 안하고 계신 건가. ▷일단 북한의 의도가 어디에 있건 북한의 행동이 자칫 잘못하면 협상과 대화의 국면을 어렵게 만들 수 있다는 점은 우선 우리가 경고를 하는 바이다. 그리고 아까 근본적인 해법이 역시 북미간에 조속히 마주 앉는 것이라고 생각하는데, 그렇게 될 수 있도록 한국 정부는 다각도로 노력을 하고 있다. ◆대북 식량지원 -이런 상황에서 어쨌든 나온 얘기는 대북 식량지원 문제다. 한미정상 간 통화 때 이 문제를 먼저 거론하신걸로 안다. 트럼프 미국 대통령한테. ▷일단 통화의 첫 목적은 지난번 발사에 대해서 어떻게 볼 것인가 라는 것을 서로 공유하기 위한 것이었는데, 그에 대한 트럼프 대통령의 말씀은 좀 고약한 일일 수도 있지만 신경쓰지 않는다. 나는 김정은 위원장을 좋아한다. 김정은 위원장과 좋은 관계에 있다. 나는 김정은 위원장과 대화를 원하고 대화를 통해서 잘 해결될 것이라고 기대하고 있다. 이런 말씀이었다. 그러면서 대화 속도를 내기 위해서 우리가 어떤 일을 해야 할 것인가 라고 저한테 질문도 했기 때문에 그런 과정에서 자연스럽게 대북식량지원 문제가 논의가 된 것이다. -대화를 끌어내기 위해서 대북 식량문제도 어떤 계기가 될 수 있을 것이다라는 판단을 하셨다는 말인가. ▷일단 한국의 입장에서는 우선 대화 카드 이전에 지금 아시는 바와 같이 유엔 세계 식량 계획, 세계식량원조 기구가 정밀하게 조사해서 공식보고서로 발표한 바에 의하면 북한의 식량난이 최근 10년동안 가장 심각하다는 것이다. -성인 1명이 1년에 달걀 2~3개 섭취할 정도다 라는 보고서 내용이다. ▷이미 올해 1월부터 식량 배급량을 많이 줄였고, 앞으로 6월부터 8월까지 춘공기 동안에는 더 줄일 전망이어서 한 40% 정도, 북한인구의 40% 정도가 말하자면 기아에 직면하게 되고 특히 아동과 여성들이 직접적으로 피해를 거둘 것이다 라는 보고도, 그래서 세계각국에게 북한에 대한 식량의 지원을 촉구하는 내용들이었다. -그래서 우리 정부가 선도하는 차원이라는 말인가. ▷그렇다. 그에 비해서 우리 정부가 비축하고 있는 재고미(비축미)가 국내수요를 넘어서서 보관비만 6000억원이 소요되는 실정이다. 그런 형편이기 때문에 북한동포들의 심각한 기아상태를 우리가 외면할 수 없고, 우리가 동포애나 인도주의적인 차원에서라도 우리가 북한의 식량을 지원할 필요가 있다고 생각하는 것이다. 두 번째로는 그것이 대화 교착상태를 조금 열어주는 그런 효과도 있을 것이라고 생각한다. 그점에서 트럼프 대통령은 아주 전폭적으로 지지를 보여줬다. -정부가 구체적으로 방법과 규모 이걸 생각할 수밖에 없을 텐데, 정부 직접 지원 방식이 낫다고 판단을 하고 있나. ▷일단 트럼프 대통령의 전폭적인 지지에 대해서 한번 더 구체적으로 설명을 해 드리면, 왜냐하면 그 부분이 미국 측도 의문을 표시하는 분들도 계시기 때문에 말씀을 드리면, 트럼프 대통령은 전폭적으로 지지를 하면서 자신이 우리 한국의 북한에 대한 인도적 지원에 대해서 절대적으로 축복을 한다는 말을 전해달라. 그리고 그것이 또 굉장히 아주 큰 좋은 일이다라고 자신이 생각한다는 것을 발표해 달라. -그 부분은 충분히 전달됐을 것 같다. ▷그렇게 여러 번 서너번 거듭 해서 부탁을 할 정도였다. 일단 우리가 식량지원을 하게 되면 남북협력기금을 사용해야 되는데, 나중에 사후에 국회에 보고도 해야 한다. 그래서 북한의 식량지원 문제에 대해서 저로서는 가장 바람직한 것은 지금 패스트트랙 문제 때문에 여야 간 정국이 교착상태에 빠져 있는데 그 문제는 별도로 해결하더라도 북한에 대한 식량지원에 대해서는 대통령과 여야가 함께 모여서 협의를 하는 것이 바람직하지 않을까 라는 생각을 하고 있다. -그런데 시점이 국민들이 받아들이기에 단거리 발사체 발사 같은 국면에서 식량지원 문제에 대해서는 혼란스럽거나 아니면 반감이 생길 수도 있을 것 같다. ▷그래서 그렇기 때문에 사실은 식량지원에 대해서 우리가 한미간에 합의를 한 것이 이번 발사 이전인데, 그 이후에 또 다시 발사가 있었기 때문에 이 점에 대해서는 국민들의 공감이나 제재가 필요하다고 생각한다. 여야 정치권 사이에 충분한 논의도 필요하다고 생각한다. 차제에 대통령과 여야 대표들의 회동이 이뤄지면 좋겠다는 생각을 하는 것이다. -이 문제를 예를 들어서 꽉막힌 국회상황에서 여야 지도부에게 회담을 하자 제의를 하신 거라고 이해해도 되나. ▷그렇게 제안하고 싶다. 패스트트랙 문제같이 당장 풀기 어려운 문제는 주제로 하기 곤란하다면, 이번 식량지원 문제나 안보문제 이런 문제에 국한해서 회동을 할 수 있다고 생각한다. ◆하노이 회담 및 4차 남북정상회담 추진 -지난 하노이 보면 일반적으로 표현할 때 북한은 '영변이면 충분하지 않냐' 미국은 '전체가 해결돼야 한다'는 간극이 좁히지 못했던 것 같다. 간극을 좁힐 수 있는 분위기가 조성이 되어 있나. ▷우선 지금 양국이 비핵화 대화의 최종목표에 대해서는 완전히 일치를 보고 있다. 미국은 북한의 완전한 비핵화를 원하는 것이고, 또 북한은 자신들의 완전한 안전보장을 원하는 것다. 이점에 대해서는 서로 간에 또 한국까지도 다 최종목표에 대해서는 합의가 되어 있는 상황이다. 문제는 이것이 어느 순간에 '짠' 하고 한꺼번에 교환될 수가 없는 것이기 때문에 거기에 이루는 과정이나 프로세스 등 로드맵이 필요한데 이점에서 의견이 맞지 않는 것이다. -중재자 역할을 하기 위해서 4차정상회담을 추진하겠다고 하신 건데 지지부진한 상태다. 언제쯤으로 예측할 수 있을까. ▷지지부진하다고 말씀을 하긴 그렇다. 우리는 북한에게 아직은 재촉하지 않고 있다. 북한은 외교가 발달된 나라가 아니다. 하노이 정상회담 이후에 자기들 나름대로 입장을 정리하는 시간도 필요했을 테고, 푸틴 대통령과의 정상회담도 예정이 있었고, 저희는 사전에 일정을 다 파악을 하고 있었기 때문에 그때까지는 북한이 회담을 위한 대화를 하기가 어려웠을 것이라고 판단했고, 이제 북한이 그렇게 대화를 할 수 있는 상황이 되었기 때문에 지금부터 북한에게 적극적으로 회담을 제안하고 대화로 이끌어낼 그런 계획이다. ◆도보다리 회담 -4·27 남북 정상회담 때 도보다리에서 30분을 얘기를 했다. 어떤 얘기를 했는지 풀어주실 수 있는지. ▷일단 저도 그 대화가 참 좋았다. 사실은 그 다음 일정에 이르는 하나의 휴식시간에 좋은 그림으로 보여주기 위한 일정이었는데. 실제로 두 사람이 진솔하게 대화를 나눌 수 있는 좋은 기회가 되었다. 같은 언어를 사용하기 때문에 통역이 없어도 된다는 것이 참 좋았다. 그때 김정은 위원장은 자신들의 비핵화 의지에 대해서 아주 진솔하게 다 표명을 했다. 말하자면 안정보장을 위한 것인데 핵 없이도 안전할 수 있다면 우리가 왜 제재를 무릅쓰고 힘들게 핵을 들고 있겠는가 이런 표현으로 비핵화의지를 표명했고, 미국과 회담해 본 경험이 없고, 주변의 참모들 가운데에도 그런 경험들이 없는데 회담을 한다면 어떻게 하면 좋을 것인가 여러 가지 조언을 구하고, 주로 김정은 위원장이 저에게 물어보고 제가 그에 대해서 답해 주는 시간이었다. ◆한일관계 -외교안보 질의를 드리고 싶다. 한일 관계문제다. 과거사 문제는 과거를 지울 수 없는 문제고 과거사 문제가 한일관계의 족쇄가 된 게 너무 오랜 시간이다. 실질적인 협력 문제가 클 텐데 전혀 진도를 나가지 못하고 있다. 하나 계기가 생긴 것이 일왕이 바뀐 계기가 있다. 이 때문일까. 일본에서는 일왕의 방한 추진 얘기도 언론에서 나온 것으로 알고 있다. 검토해 본 사안인지. ▷아니다. 어쨌든 일본 새 천황의 즉위를 계기로 한일관계가 더 발전했으면 좋겠다는 희망을 가지고 있다. 저는 한일관계가 굉장히 중요하다고 생각하고, 앞으로 더 미래지향적으로 발전돼 나가야 한다고 생각한다. 다만, 어려움을 겪고 있는 것은 과거사 문제가 한번씩 양국관계발전에 발목을 잡고 있는데 그것은 결코 한국정부가 만들어 내고 있는 문제가 아니다. 과거에 엄밀히 존재했던 불행했던 과거때문에 비록 한일 기본협정이 체결되긴 했지만 인권의식들이 높아지고 국제규범이 높아지고 하면서 여전히 조금씩 상처들이 굳어져 나오는 것이다. 이 문제들로 인해서 미래지향적인 협력관계가 손상되지 않도록 양국정부가 잘 지혜를 모을 필요가 있는 것이다. 그런데 일본 정치지도자들이 자꾸 그 문제를 국내 정치적인 문제로 다루기 때문에 과거사 문제가 미래지향적인 발전의 발목을 잡는 일이 거듭되고 있다고 본다. 저는 양국이 함께 지혜를 모아나가길 바란다. -다음달 G20을 계기로 한일정상회담은 준비가 들어간 상황인지. ▷그때 일본을 방문하게 될 텐데, 그 계기에 일본에 아베 총리와 회담을 할 수 있다면 그것은 좋은 일이라고 생각한다. 다음은 경제산업 분야 일문일답. ◆소득주도 성장 및 최저임금 인상 (국민들 인터뷰 영상 시청 후) -들어보시니까 어떤지. ▷저분들 말씀도 다 들어드리고 싶고 다 해결하고 싶다. 그러지 못해서 송구스럽다. -경제문제가 아무래도 많았던 것 같습니다. 우선 최저임금 인상 얘기부터 드려볼까 한다. 대통령께서 실행해 오신 경제정책의 사람들이 가장 많이 기억이 남는 단어를 꼽으라고 한다면 소득주도 성장이 아닐까 싶다. 최저임금 인상이 소득주도 성장의 단 하나의 정책은 아니다. 그런데 최저임금 인상을 하는 과정에서 생긴 논란 때문에 소득주도 성장 자체에 논란이 생겨버린 국면이다. 과정을 조금 더 다듬어갔으면 하는 후회는 없는지. ▷그렇다. (한숨) 아쉬움이 많다. 우선 이점은 꼭 말씀드려야 될 것 같다. 최저임금 인상을 통해서 적어도 고용시장 안에 들어와 있는 분들, 고용된 노동자들의 급여라든지 이런 부분은 굉장히 좋아졌다. 저소득 노동자 비중이 역대 최고로 낮아졌다. 또 1분위 노동자와 5분위 노동자 사이 임금격차도 역대 최저로 줄어들었다. 임금노동자가구의 소득이 크게 높아졌고 한편으로 지난 3월에는 고용보험가입자수가 52만명 늘어나서 고용안전망 속에 들어온 온 노동자 수도 늘었다. 당연히 상용직도 늘었다. 고용시장 안에서의 경제적인 효과는 뚜렷한데 반면에 고용시장 바깥에 있는 자영업자들의 삶이라든지, 가장 아랫층에 있던 노동자들이 고용시장에서 밀려나게 어려움을 겪는다든지. 이런 부분들을 함께 해결하지 못한 것이 참으로 가슴이 아프다. 어려운 일은 이런 분들의 어려움을 해소해 줄 수 있는 자영업자 대책들, 이런 부분들, 사회안전망을 높이는 부분들이 최저임금과 동시에 병행해서 시행했다면 그런 어려움을 덜어드릴 수 있었을 텐데 최저임금 인상은 정부에 의해 먼저 시행되고 자영업자 대책이라든지 EITC, 근로장려금 같은 부분들은 국회의 입법과정을 거쳐야 되기 때문에 시차가 생기게 되는 부분들이 참으로 어려운 점이기도 하다. 당사자들에게는 참으로 정부로서는 송구스러운 점이라는 말씀을 드리고 싶다. -어떤 부작용이 있는지도 파악을 하고 계셔서 최저임금의 속도조절 인상의 속도조절에는 동의를 하시는 것 같다. 만약 국회의 처리가 되지 않는다면 현행 제도로 내년도 최저임금 인상폭은 결정이 될 텐데, 2년간 두 자릿수 인상이었어요. 내년까지 두 자릿수 인상은 무리라고 판단을 하시나. ▷이건 참 답변 자체가 조심스럽다. -물론 대통령께서 결정 권한이 있는 것이 아니라는 것은 알고 있다. ▷우선 그렇지만 지난 번 대선 과정에 저를 비롯한 여러 후보들의 2020년까지 최저임금 1만원으로 인상하겠다는 공약, 이런 것이 최저임금위원회의 결정에 영향을 있었다고 생각한다. 그점에 대해서는 대통령도 함께 책임을 져야 하는 것이라고 본다. 일단 결정 권한이 정부 대통령에게 있는 것이 아니고 최저임금위원회에서 독립적으로 그렇게 결정하게 되어 있는 것이어서 대통령이 가이드라인을 제시하기는 어렵다고 생각한다. 그러나 분명한 것은 그때 공약이 2020년까지 1만원이었다고 해서 공약에 얽매여 무조건 그 속도대로 인상되어야 한다고 하는 것은 아니라고 생각한다. 우리 사회, 우리 경제가 어느 정도 수용할 수 있는지 적정선을 찾아서 결정할 필요가 있는 것이다. 올해 최저임금은 작년 최저임금 인상에 비해서 이미 속도조절이 되었다고 생각한다. 그렇다고 하더라도 2년에 걸쳐서 최저임금이 가파르게 인상이 됐고, 그것이 긍정적인 작용이 많은 반면, 한편으로는 부담을 주는 부분들도 적지 않다고 판단한다면 최저임금인상위원회가 그런 점을 감안해서 우리 사회가 우리 경제가 수용할 수 있는 적정선으로 판단하지 않을까 그렇게 기대를 하고 있다. -2020년 공약에 얽매이서 않고 사회가 수용할 수 있는 선에서 한다는 것인가. ▷네. 그렇기 위해서는 법제도로서 최저임금 결정 제도 이후나, 두 단계를 걸쳐서 결정하는 법개정을 하려는 것인데, 국회에서 처리되지 않아서 아쉽지만 현행 제도로 가더라도 최저임금인상위원회가 그런 취지를 존중하지 않을까 생각한다. -좀 전에 잠깐 설명을 드렸지만 최저임금 인상 논란 때문에 소득주도 성장이 불필요한 논란이라고 표현해야 될까. 굉장히 논란에 휩싸인 정책이 됐다. 요즘에는 이 용어를 덜 쓰시는 것 같다. ▷아까 얘기했다시피 노동의 고용의 질은 좋아진 것은 분명하다. 그러나 고용양의 증가에 있어서 과거보다 못해졌다. 못해진 이유 속에는 이런 구조적인 문제도 많이 있지만 최저임금 인상의, 말하자면 효과도 있다고 이야기들이 되고 있는 것이다. 물론 어느정도 영향을 미쳤느냐 대해서는 서로 평가가 다르지만 그러나 또 이 부분들은 시간이 조금 더 필요한 부분이기도 하다. 당장 1년 간 보면 고용의 증가가 현저하게 둔화가 돼서 고용증가수가 10만명 밑으로 떨어졌는데 금년 2월, 3월 두달 동안은 다시 25만명 수준으로 다시 높아졌고 정부는 그 추세가 지속될 것으로 보고 있다. 그래서 당초 경제 계획 상으로는 올해 고용증가를 15만명 정도로 잡았었는데 지금은 20만명 정도로 상향하는 그런 식의 기대를 하고 있다. 특히 추경까지 통과가 된다면 목표 달성에 더 용이해지리라고 보고 있다. 그래서 최저임금의 인상으로 인해서 생기는 여러 가지 부작용의 문제조차도 사실은 좀 더 긴 시간을 두고 판단해 볼 필요가 있는 것인데, 당장 어려움을 겪고 있는 분들이 많이 있기 때문에 그 해결에 우리가 좀 더 많은 노력을 해야 된다고 생각한다. ◆일자리 문제 -집무실에 일자리 상황판이 있나. ▷지금도 있다. -오늘 봤나. ▷(웃음) 대체로 월별 단위로 발표가 되기 때문에 매달 수정이 된다. 고용상황들은 지난 3월 부분까지만 발표가 되었기 때문에 3월 말 현재 상황들이 지금 일자리 상황판에 있다. 수출은 4월달까지 표기되어 있다. -상황판을 자세히 설명해 주실 필요는 없다. ▷6월의 고용사정이 좋아졌기 때문에 지금은 일자리 상황판에서 좋은 지표들은 대체로 올라가고 나쁜 지표들은 대체로 떨어졌다. -두어달 일자리 수는 괜찮아졌다, 얘기를 하셨는데 고용의 질이 문제가 생기게 되는 부분이 있다. 저희가 봤더니 일자리가 생기긴 했는데 이중에 상당수가 초단기 일자리, 그래서 주 15시간도 안 되는, 정말 예를 들어서 보험의 사각지대에 놓여있는 초단기 일자리가 상당부분 차지하고 있더라. ▷맞다. 그 사실은 맞는데 그런 초단시간 일자리는 대체로 노인 일자리에 해당한다. 아시다시피 고령화가 급격하게 진행되고 있어서 65세 이상 인구가 14%가 넘는 고령사회를 이미 2017년에 통과했고, 2025년이면 20%가 넘는 초고령사회가 될 것으로 예상된다. 65세 이상 어르신들에게는 정규직의 좋은 일자리가 불가능하다. -지속가능한 일자리가 안 되는 것이다. ▷짧은 시간의 일자리라도 마련해 드리는 것이 그나마 필요한 일이고, 그렇지 않으면 온전히 복지대상으로 떨어질 수밖에 없는 것이다. 어르신들을 위한 나쁜 일자리라도 일자리가 없는 것보다는 낫기 때문에 그런 노력을 계속해 나가야 한다고 생각한다. -말한대로 그런 분들께는 나쁜 일자리라도 있는 게 나을 수는 있지만, 그렇게 되기 위해서 투입되는 재정 부담을 생각하지 않을 수 없나. ▷어르신들의 공공근로 일자리는 쭉 과거 정부부터 해 왔던 것이다. 이것은 어찌보면 일자리와 일자리를 통한 복지의 성격을 가지고 있는 것이다. 고령인구가 크게 늘고 있기 때문에 일자리 수를 더 늘리고 과거의 급여가 낮았기 때문에 급여를 두배 높여서 실제로 어르신들의 빈곤 해결에 도움되도록 정부가 노력하고 있는 것이다. 그래서 말씀드리자면 노인 빈곤율도 꽤 개선되고 있다는 말씀을 드린다. -제일 문제는 청년일자리다. 지속가능한 일자리가 청년에게 계속 공급되는 게 중요할 텐데 이런 일자리는 어디서 만들어야 해야 하는 것인가. 공공부문 일자리 81만개 만들겠다는 공약을 했었다. ▷일단 지난 2, 3월 청년 고용률 아주 높아졌고 청년들의 실업률도 아주 낮아졌다는 말씀을 드린다. 특히 25세부터 29세 사이는 굉장히 인구가 늘었음에도 불구하고 고용상황이 아주 좋아졌다는 말씀을 드린다. 물론 완전히 다 해결된 것은 아니다. 좋은 일자리를 늘리려면 여러 방향이 있다. 하나로서 만능의 카드는 없다. 첫째 우리가 제조업에 강점이 있다. 조선이나 자동차같은 주력 제조업이 세계 경기둔화에 의해서 부진을 겪었다. 제조업을 혁신해 고도화해서 경쟁력을 높여 일자리를 늘리는 방향이 하나 있다. 또 신산업들을 빨리 성장시켜서 좋은 일자리를 만들어야겠고, 요즘 벤처창업들을 크게 늘리고 지원할 필요가 있다. 한편으로는 아까 말씀하신 공공일자리 부분도 어르신들 일자리만 이야기했지만 소방관이나 경찰들은 아직까지 수가 부족하다. 사회 서비스일자리는 아직도 많이 부족한 실정이다. 그런 것을 통해서도 일자리를 늘려나갈 필요가 있다고 본다. ◆경제성장률 및 대통령의 경제 인식 -우리 경제성장률이 -0. 3%였다. 경제 괜찮은 건가. ▷걱정되는 대목이다. 앞 분기에 비해서 0. 3% 마이너스 성장을 이뤘다. 작년에 비하면 1. 8% 성장에 해당하는 것이다. 우리의 목표는 2. 적어도 5에서 6% 인데 앞으로 만회를 해 나가야 되는 것인데 분기의 마지막인 3월에는 저성장의 원인이었던 수출부진 투자부진 이런 부분들이 회복되고 있고 좋아지는 추세다. 정부나 한국은행에서는 점점 2/4분기부터는 상황들이 좋아져서 하반기에는 잠재성장률에 해당하는 2% 중후반 수준을 회복할 것이다. 그렇게 전망하고 기대를 하고 있다. -그런데 다른 기관들 해외기관들이 성장률을 전망치를 낮추는 경우가 있다. 경제가 심리여서 그런지 모르겠습니다만 이 수치는 괜찮고 괜찮아질 거다라고 말씀을 해 주셨지만 이런 것들이 실생활에서 어려움을 겪고 있는 국민들에게는 와닿지가 않는다. 그래서 우리는 답답한데 왜 대통령께서는 괜찮다고 할까 이런 인식의 괴리 문제를 많이들 얘기를 한다. ▷그 말씀은 충분히 이해를 할 수 있다. 그러나 우리가 분명하게 인정해야 할 것은 우리가 거시적으로 볼 때 한국경제가 크게 성공을 거두었다는 것이다. 지난번 원로들과의 대화때도 이홍구 전 국무총리께서 지금 우리가 우리 앞에서 벌어지고 있는 일들은 과거 70년간 크게 성공해 와서 생긴 일이다라고 말씀하셨는데, 작년에 소득 3만불이 넘어서면서 세계 7번째로 3050 클럽, 3만불 이상 인구 5천만명 이상 클럽에 가입을 하게 됐다. 그런 나라들, G20 국가들이나 OECD국가들 중에서 한국은 상당한 고성장국가다. 이례적으로 경제가 좋았던 미국 다음으로 한국이 가장 높았다. 지금도 그런 추세다. 그래서 거시적인 경제성공은 인정하고 자부심을 가져야 한다고 생각한다. 다만 국민들에게 고르게 다 소득배분이 되고 있지 않고 있기 때문에 아직도 양극화가 심각하고 특히 소득이 낮은 층의 소득이 늘지 않고 있기 때문에 그분들의 사는 문제가 해결이 안 되고 있다. 고용의 문제가 주츰해졌다, 일자리를 늘려야 된다는 인식을 정부가 똑같이 하고 있고 똑같은 아픔을 느끼고 있다. ◆재벌대기업 및 삼성전자 방문 -경제가 활력을 찾기 위해서 정부도 노력을 해야하지만, 한축은 기업이다. 요즘 기업을 많이 방문하시는 모습들을 언론에서 봤다. 가장 최근에는 삼성전자를 방문하고 이재용 부회장을 만났다. 대법원 판결을 앞두고 이재용 부회장을 만난 것에 대해서 부담은 없었는지. ▷일단 삼성이 시스템 반도체 분야의 133조원을 투자하겠다는 현장을 방문한 것이다. 저는 그렇게 투자를 늘리고 일자리를 만들고 경제에 도움이 되는 일이라면 대기업이든 중소기업이든 벤처기업이든 누구든 만날 수 있고, 다음에 또 방문할 수 있다고 생각한다. 그러면서 제가 예상을 했다. 두 가지 비판이 있겠다. 하나는 재벌성장으로 회귀하는 거 아니냐. 두번째는 재판을 앞두고 있는데 그런 거 아니냐. 그런데 저는 이제 그렇게 이분법적으로 보는 그런 사고들에서 벗어나야 한다고 생각한다. 대통령이 재벌을 만나면 친재벌이 되고, 노동자를 만나면 친노동자 되겠나. 그날 방문을 앞두고 오전에 국무회의에서는 대기업의 오너들이 말하자면 회사에 대해서 횡령이나 배임 등의 범죄를 저지르고도 계속해서 경영권을 가지는 앞으로 못하도록 횡령·배임 유죄판결을 받으면 임원자격을 가지지 못하도록 시행령을 개정했다. 그러면 그것이 반재벌이겠나. 그래서 그런 상투적인 비판이라고 생각한다. 재판을 앞두고 있는데 봐주기 아니냐는 것은 사법권의 독립권에 대해서 훼손하는 말이라고 생각한다. -재판은 재판이고 경제는 경제란 것인가. ▷재판은 재판이다. -분명 나눠져있다. ▷금융은 금융, 경제는 경제 그런 것이다. -사법권이 어떻게 훼손되는지 국민들이 봤기 때문이 그런 시선을 가질 수도 있었다고 본다. ▷그러나 지금은 만약 그 논리라면 대통령과 가까운 사람들은 다 봐주겠나. 그렇게 되지 않는다. 오히려 더 엄중하게 수사받고 재판받고 하는 것이 현실이지 않나. ◆미래먹거리 -앞으로 펴실 정책도 질의를 드려야 될 것 같다. 어떤 점에 주안점을 저희가 지켜봐야 될까. 제조업도 부활시켜야 되고 4차산업 혁명시대에 대비도 해야 되고. 미래먹거리도 발굴해야 한다. ▷그렇다. 아까도 얘기했지만 한국의 경제성장률은 결코 낮지 않다. 그러나 뭐가 우려되는 상황이냐면 잠재성장률이 점점 낮아지고 있는데, 기존의 메모리 반도체 분야 이후로는 말하자면 새로운 신성장동력 같은 것들이 마련되지 않고 있다는 것이다. 그래서 새로운 산업을 통한 새로운 신성장동력을 마련하는 것이 시급하다고 보는 것이다. 그것이 우리가 말하는 혁신성장이라는 것인데, 우선 아시다시피 가장 시급하게 중심적인 역량을 쏟아부은 것은 시스템반도체, 바이오, 미래자동차 분야. 이런 부분들을 중점적으로 육성하려고 하고, 한편으로는 기존 제조업의 혁신을 통해서 다시 제조업 강국의 위상을 굳건하게 하려는 것이다. 한편으로는 제2의 벤처붐, 이미 작년에 벤처창업 기업수도, 벤처투자액도 역대 최고를 기록했다. 벤처붐을 더 크게 일으켜서 그것을 통해서도 새로운 성장동력을 찾고 한편으로는 더 좋은 일자리들을 많이 만들어 내려고 그렇게 노력하고 있다. -미래먹거리 몇 가지를 얘기했데 수소차, 시스템반도체, 바이오 산업 이런 것이 대기업이 주도할 수밖에 없는 영역 아닌가. ▷반드시 그렇지 않다. 시스템반도체 가운데서 삼성이 투자하기로 했던 파운더리 반도체 부분은 다른 기업이 설계한 반도체를 주문받아서 생산하는 것이기 때문에 대규모 생산설비가 필요하다. 그런 분야는 대기업이 잘할 수 있지만, 설계를 하는 팹리스는 생산설비가 필요 없기에 오히려 중소기업에 적합한 업종이다. 그런 지원들이 필요하고, 바이오 헬스 분야도 오히려 중소기업들이 약전하고 있는 분야다. 특히 코스닥 상장업체들을 비롯해 그쪽을 통한 수출이 늘고 있는데, 중소기업들도 오히려 적합한 분야라고 말씀을 드린다. 미래형 자동차도 우리가 대기업 자동차 회사들만 생각하는데 실제로 경차 전기차, 상용차 전기차 이런 부분들은 중소기업들이 오히려 많이 하고 있다. ◆52시간 근로제 -노동현안도 많긴 한데 주52시간 근로제 시행과 맞물려서 버스 노조가 총파업 찬반투표를 실시를 하고 있고, 이 사안도 보면 52시간 문제가 제대로 관리되지 못하면 불필요한 논란을 키울 수 있는 사안을 다분히 내포하고 있는 사안 같다. 어떤 대비책이 있어야 될 것 같다. ▷주 52시간 노동제 같은 경우도 300인 이상 기업에 시행되고 있는데, 작년 말까지 95% 정도가 다 시행에 들어가서 거의 안착이 되고 있다. -내년에는 50인 이상 기업도 시행된다. ▷그 부분이 감당할 수 있을까 걱정하는 것인데, 그 부분에 대해서는 미리 대비책을 세워나가야겠고 계도기간을 줌으로써 해결할 수 있다고 생각한다. 과거에 주 5일 근무제가 많이 걱정됐지만 잘 안착이 된 것처럼 그렇게 될 것이라고 기대한다. 이번에 버스 파업 부분은 특례에서 버스도 주 52시간을 준수하게끔 되어 있는데 대부분의 지자체에서는 이미 공영제, 또는 준공영제를 통해서 이미 주52시간이 시행되고 있다. 다만 경기도의 경우 시외버스의 경우에 주52시간이 되지 않고 있는데, 이게 주52시간을 하려면 새로운 버스기사들의 채용이 필요하고, 그러자면 요금의 인상도 필요하기 때문에 그 부분이 진통을 겪고 있는 것이다.\""
      ]
     },
     "execution_count": 81,
     "metadata": {},
     "output_type": "execute_result"
    }
   ],
   "source": [
    "df_sorted.iloc[0].text"
   ]
  },
  {
   "cell_type": "code",
   "execution_count": 86,
   "id": "2e60c7c0",
   "metadata": {},
   "outputs": [
    {
     "data": {
      "text/plain": [
       "24234"
      ]
     },
     "execution_count": 86,
     "metadata": {},
     "output_type": "execute_result"
    }
   ],
   "source": [
    "len(df_sorted.iloc[0].text)"
   ]
  },
  {
   "cell_type": "code",
   "execution_count": 90,
   "id": "491a52d9",
   "metadata": {},
   "outputs": [
    {
     "name": "stdout",
     "output_type": "stream",
     "text": [
      "============ original ===============\n",
      "[전문] 문재인 정부 2년 특집 대담, 대통령에게 묻는다 문재인 대통령은 9일 오후 청와대 상춘재에서 진행된 KBS '문재인 정부 2년 특집 대담, 대통령에게 묻는다'에 출연해, 정부 출범 2주년 소회 및 각 분야별 입장을 밝혔다. 이날 대담은 예정된 시간을 6분 넘겨 86분간 생중계로 진행됐다. 다음은 일문일답. ◆취임 2주년 소회 -2년 전 오늘 이 시간 기억하실지 모르겠다. 나라다운 나라를 만들어 달라, 이런 요구 속에서 문재인 정권이 출범을 했다. 아무래도 첫 질문이니까 2년 동안 소회를 여쭙지 않을 수 없을 것 같다. ▷먼저 국민들께 감사인사부터 드려야겠다. 우리 국민들께서는 촛불혁명이라는 아주 성숙된 방법으로 정권을 교체하고, 저를 대통령으로 선택해 주셨다. 그래서 문재인 정부는 촛불정신 위에 서 있다. 촛불민심이 명하는 대로 국정농단, 그리고 반칙과 특권이라는 적폐시대를 마감하고, 새로운 시대, 공정하고 정의로운 대한민국의 길을 향해서 걸어가고 있다. 얼마나 기대에 부응했는지 잘 모르겠다. 많은 성과들이 있었다고 생각한다. 그러나 한편으로 또 아쉬운 부분들도 많이 있고, 또 보완해야 할 과제들도 많이 있다고 느낀다. 앞으로 그 점을 더 집중해서 국민들이 바라는 그런 나라를 만들도록 노력하겠다. ◆국내 정치 -국내 정치 현안 문제로 들어가야 할 것 같다. 조금 전에 대북 현안들, 그리고 식량지원문제를 화두로 한 번 만나보자 제안을 공식적으로 하신 거라 봐야 하나. ▷이미 남북 간 정상회담을 가져야겠다라는 것은 제가 공개적으로 이미 발언을 했다. 실제로 북한하고 실무적인 대화에 들어가겠다는 뜻을 말씀 드렸다. -제가 여쭤본 것은 국내 정치권의…. ▷그렇다. 지금 패스트트랙 문제로 여야 정치권이 이렇게 대치하고 있는 것은 정치 성격상 우리가 이해할 수 있는 것이지만, 국민들 입장에서 볼 때는 참으로 답답한 국면이 아닐 수 없다. 처리해야 할 민생법안도 많이 있고, 추경 문제도 논의해야 되고, 그래서 이런 국면에서 필요한 것이 지난번에 합의했던 여야정 상설국정협의체를 가동하는 것이라고 생각한다. 우선적으로 방금 현안으로 대두된 문제를 논의될 수 있지 않을까 하는 것이다. -11월에 가동되고 지금 계속 이어지지 않고 있다. 책임이 어디에 있느냐를 따질 수 있겠지만, 사실 국정운영의 총책임자로서 대통령께서 야당과 관계를 이렇게 풀지 않고 오랜 시간 끌고 가는 것은 결과론적으로 국정운영의 부담으로 돌아오는 거 아닐까. 원로들 주문도 대통령이 먼저 나서 풀어라는 주문이 있었던 것으로 알고 있다. ▷그 점은 제가 동의하지 않을 수 없는데, 그러나 돌이켜보자면 제가 2년 전 5월10일, 내일이죠. 그때 약식으로 취임식을 하며 취임식 이전에 야당 당사들 전부 방문했다. 그리고 역대 어느 대통령보다 자주 야당 대표들과 원내대표들을 만나 왔다. 그러나 그런 식으로 약속을 해서 만나는 것이 정국에 따라서 원활하지 않을 수 있기 때문에, 아예 여야정 상설국정협의체를 분기에 한 번씩 상황에 상관 없이 하기로 합의했는데, 그것이 지난 3월이었다. 그 약속이 지켜지지 않은 것이다. 지금이라도 그 약속을 지키는 모습을 보이자고 말하는 것이다. 어쨋든 노력을 하더라도 손바닥이 마주쳐야 소리가 나는 것이기 때문에 저의 제안에 대해 야당 측에서 좀 성의있는(답변이 나오길 바란다). -야당 입장에서 보면 여러 현안들이, 야당이라면 제1야당 얘기를 안 할 수 없는데, 자유한국당 입장에서 보면 청와대가 주도해서 여당이 끌어가는 것으로 해서 야당의 의견을 전혀 반영하지 않고 정국을 끌어가고 있다는 판단을 하는 것이고, 그렇기 때문에 대통령께 독재자라고 얘기하고 있는 것 아니겠나. 독재자라는 말을 들었을 때 어떤 느낌이었나. ▷우선 패스트트랙이란 성격이 말하자면, 다수 의석을 가진 측에서 독주하지 못하게 하면서 야당은 물리적인 저지를 하지 않기로 하고, 그 해법으로 패스트트랙라는 해법을 마련한 것이다. 그래서 그 해법을 선택한 것을 가지고 독재라 하는 것은 정말 조금 맞지 않는 얘기란 말씀을 드린다. 그야말로 국회선진화법의 혜택을 많이 누려왔는데 국회선진화법이 정해놓은 방법을 부정해선 안 되는 것이다. 게다가 정말 촛불민심에 의해 탄생한 정부가, 지금 말하자면 독재, 그것도 그냥 독재라 하면 또 설득력이 떨어질 수 있으니 색깔론을 더해 좌파독재로 규정짓고 투쟁하는 것을 보면 참 뭐라 말씀 드려야 할지 모르겠다. -그렇게 부르지만 만나셔야 될 상대라고 생각하시죠. ▷일단 그렇게 조금 극단의 표현을 쓰긴 했지만 그것도 다 하나의 정치적인 행위라고 본다면 여야 간의 정치적 대립은 늘상 있어온 것이고, 그리고 또 이제라도 한 페이지 넘기고 다시 새로운 대화를 통해서 새로운 해법을 찾아야 한다고 본 것이다. ◆적폐청산 -대야관계와 협치문제 질문을 드리고 있는데, 이 질문을 안할 수 없다. 원로들 만나셨을 때 이렇게 알려졌는데, 선 적폐청산 후 협치, 이런 취지로 말한 것으로 전달됐다. 전달이 잘못된 것인지 아니면 아직까지 적폐청산이 부족한 상태라서 이것이 먼저 정리돼야 그 다음에 또 다른 관계설정이 가능하다고 판단하는 것인지 ▷우선 그렇게 말한 사실이 없고. 그 회동에서 오간 대화에서는 우리 대변인이 잘 정리해서 발표를 했기 때문에 제가 KBS 보도를 보지는 못했으나, 제가 본 보도들은 제 발언내용을 있는 그대로 내보냈다. 그런데 말하자면 헤드라인이나 자막을 그런식으로 뽑은 것이다. 그러고 난 이후에는 그 자막, 헤드라인을 근거로 이런저런 비판을 하는 좀 황당한 일이 벌어지고 있다. 제가 말씀 드린 취지는 원로들의 말씀이 아니라 우리 사회의, 또 일각에서는 이제 적폐수사는 그만 끝내고 협치, 통합, 이런 것으로 나아가자는 말씀들이 있어서 그에 대한 제 견해를 말씀드린 것이다. 우선 적폐수사 재판은 우리 정부가 시작한 게 아니라 앞의 정부에서 시작된 일이고, 우리 정부는 기획하거나 관여하지 않고 있다. 살아서 움직이는 수사를 정부가 통제할 수 없고, 통제해서도 안 된다가 생각이다. 개인적인 생각을 얘기하자면, 국정농단이나 사법농단은 그게 사실이라면 그것은 대단히 심각한 반헌법적, 헌법파괴적인 일이기 때문에 그 일을 타협하기는 어려운 일이다. 사실 여부를 빨리 규명하고, 그 다음에 청산하면서 새로운 세대로 나아가자 라는 기본적 방향에 대해서 서로 간의 공감대가 있다면 협치가 수월할텐데, 사법농단이나 국정농단을 바라보는 시각 자체를 바라보는 기본 입장 자체가 달라서 협치에 어려움이 있는 것 같다. ◆고위공직자범죄수사처 -패스트트랙 국면을 이야기하는 와중에 나올 수밖에 없는 의제가 공수처와 검경수사권 조정안이다. 검경수사권 조정안은 문무일 검찰총장이 민주주의에 반하는 부분이 있다고 했다. 이 성격을 항명으로 봐야 하나. 아니면 문제제기 수준이인가. 어떻게 보시는지. 작년에 법무부장관과 행정안전부장관은 합의를 했는데. ▷그래서 패스트트랙이라는 게 법안이 통과된 것이 아니다. 법안을 상정시키는 것이다. 앞으로 상임위에서 논의하게 되고, 국회 본회의에서 논의하게 되기 때문에 그것이 통과되기 위해선 국회에서 또 두루 여론을 수렴하는 절차를 아마 거칠 것이라고 본다. 검찰도 법률 전문집단이고, 또 수사기구이기 때문에 충분히 자신들의 의견을 밝힐수 있다고 본다. -밝히는 방식이 공개적인 것이. ▷그렇게 이해하고 있지만, 제가 분명하게 검찰에 대해 말하고 싶은 것은 공수처도 수사권 조정법안도 그렇고, 지금까지 검찰이 사정기구로 본연의 역할을 다하지 못했기 때문에 개혁의 방안으로 논의가 되는 것이다. 검찰 스스로 개혁을 할 수 있는 많은 기회들을 지금까지 놓쳐 왔다. 그래서 검찰은 개혁의 당사자이고, 말하자면 이제는 셀프개혁으로서는 안 된다는 게 국민들의 보편적인 생각이기 때문에 그런 방안들이 마련되고 있는 것이어서 검찰이 보다 좀 겸허한 자세를 가져야한다고 생각한다. ◆조국 민정수석 거취 -검경수사권 조정과 공수처법 얘기가 나온 김에 조국 민정수석 얘기를 여쭤본다. 두 가지 사법개혁안이 국회 패스트트랙 절차에 들어가게 됐고, 그것이 의미하는 것은 입법절차로 넘어갔다는 것이다. 그 와중에 정부 부처가 의견 개진을 할 수 있지만, 정해진 과정에 따르면 되고, 조 수석의 민정수석으로서의 소임은 일정 부분 정리된 것으로 이해해도 되나. ▷조국 수석이 정치에 나갈 것이냐는 거취를 말한다면, 저는 조국 수석에게 정치를 권유하거나 할 생각은 전혀 없다. 그 여부는 전적으로 본인이 판단할 문제다. 민정수석의 가장 중요한 우리 정부에서의 책무가 인사검증 뿐만 아니라 권력기관들에 대한 개혁이 가장 중요한 임무 중 하나다. 지금 정부 차원에서 할 수 있는 개혁들은 상당히 다 했다고 생각한다. 이제 법제화 하는 과정이 남아 있는데, 그런 작업까지 성공적으로 마쳐주길 바라고 있다. -법제화까지라면 조금 더 (조 수석이) 청와대 생활을 해야 된다는 말씀인지. ▷일단 아직은 패스트트랙에 올라가긴 했지만, 상임위 논의도 남아있고, 많은 절차들이 남아 있을 뿐 아니라 그 방안도 지금 확정된 게 아니다. 예를 들면 지난번 법무부장관과 행안부장관 사이에 공수처 조정에 대해 서로 간 합의가 이뤄졌는데, 패스트트랙에 합의하기 위해 일부 더해지거나 수정된 부분도 있었다. 특히 그 가운데 검찰의 피의자 신문조서에 대해 증거인정을 하지 않는다는 것은 검찰로서는 우려 표명할 만한 것이라고 생각한다. -반면 수사 받는 국민 입장에선 수월해진다고 볼 수 있고, 검찰 입장에서도 충분히 지금까지 가능한 논거라고 제기돼 왔던 부분 아닌가. ▷공판중심주의 강화 측면에서는 필요하지만, 우리 사법제체가 그 단계까지 충분히 준비돼 있느냐는 부분은 더 논의가 필요하다. 거기에 대해서는 법원 측 의견도 들어볼 필요가 있다고 생각한다. 다양한 의견 수렴은 필요하다고 생각한다. ◆인사검증 및 인사청문회 -조금 전에 조국 수석을 말하면서, 인사검증 문제를 꺼내셨다. 지금까지 청와대의 인사검증, 인사와 검증 양쪽 다 만족스럽다고 보시나. 국민들은 낮은 점수를 주는 분야다. ▷우선 인사실패다, 또는 심하게는 인사참사라고 평하는 부분은 저는 동의하지 않는다. 그 이유는 지금 이낙연 총리를 비롯해서 장관님들이 잘하고 있지 않는가. 지금까지 문재인 정부가 어느 정도 해왔다면 그것은 대통령이 혼자 잘한 것이 아니라 내각이 잘해준 것이라고 생각한다. 임명된 장관들이 의무를 제대로 못한다면 그것이야 말로 인사실패인데, 잘하고 있다면 인사실패일 수 없는 것이다. 심지어 인사청문보고서가 채택되지 않은 채 임명된 장관들도 좋은 평을 받는 분들이 많다. 그러면 청와대 추천이 문제이냐, 인사청문회가 문제이냐. 인사실패라 부른 부분은 검증에 있어서 국민들 눈높이에 맞지 않는 부분이 때로 있었다는 지적인 것 같고, 그 점은 저도 겸허히 인정한다. 보다 검증을 더 강화해야겠다는 다짐을 하고 있고, 여러 노력을 하고 있다. -예를 들어 임명은 됐지만 이미선 헌법재판관의 경우는 35억 주식투자 논란이 있었고, 국토부장관 후보자는 다주택 하지 말라고 하면서 본인이 다주택을 했던 것들이 인사청문회 과정에서 드러났다. 국민들이 어떤 기준이 맞냐, 검증이 잘못된 것인지 기준이 잘못된 것인지, 판단이 잘못된 것인지를 묻는다. ▷이렇게 봐주시면 좋겠다. 청와대 검증부터 청문회까지 전체가 하나의 검증 과정인 것이다. 청와대 검증이 완결적일 수는 없다. 소수 인원이 짧은 기간에 공적자료에 의존해 검증을 완벽히 할 수 있나. 그러니 청와대 이후 언론이 검증하고 인사청문회 검증을 하는 것이다. 전체 과정에서 검증되는 것을 보고 인사권자인 대통령이 최종 판단해서 임명하거나 하지 않거나 하게 되는 것이기 때문에 청와대 검증에서 밝혀내지 못한 부분 있었다거나, 또는 국민들 눈높이에 맞지 않다고 해서 그 자체로 검증의 실패다, 책임져야 한다고 말할 수는 없다는 것이다. 다만, 우리가 국민 눈높이에 맞는 검증을 할 수 있도록 계속해서 노력해 나가겠다는 것이다. 또 하나 말하고 싶은 것은 청와대가 그런 흠결이 있음에도 불구하고 발탁하려는 것은 또 한편으로는 그 분의 능력이나 실력을 평가해서 발탁하고 싶은 분이 있기 때문이다. -그런데 그 부분이 제대로 설명이 되지 않았다. ▷함께 결합해서 적절한 분인지 아닌지 판단해야 하는데, 지금 인사청문회 과정이 너무나 흠결만 가지고 정쟁을 벌이기 때문에, 아주 능력 있는 분들 조차 그런 분들 가운데서도 별로 흠결이 없는 분들 조차 우선 청문회 자리에 서기 싫어서, 또 가족들이 반대해서, 가족들이 도마 위에 오르기 싫어해서 고사한다. 지금처럼 청문회가 정쟁쟁의 장으로 운영된다면 좋은 인사를 발탁하는 장이 아니라 좋은 인사를 막는 장이 될 것이다. -그렇다면 제도 개선을 어떻게 할 지 고민할 시점이다. 대통령께서 민정수석과 시민수석을 하실 당시에도 인사 문제가 생겨서 장관 후보자에 대한 인사청문제도가 그 당시 도입됐고, 십수년 정도 우리 사회가 인사청문회 문화를 겪어온 셈이다. 그렇다면 대통령께서 그렇게 판단한다면, 청와대가 갖고 있는 후보자 자료를 국회에 제출하고, 조금 내밀한 자료까지도. 그러고 나서 2단계로 나눠서 신상 같은 것은 비공개로 하고, 나머지 업무역량과 정책역량은 공개로 하는 식의 제도를 바꿔보자는 생각은 하고 계신지. ▷그런 생각도 있다. -그런 혜안을 먼저 내놓는 것이 국민 설득 절차일텐데, 지금 청와대의 모습을 보면 뭐가 문제냐라는 식의 해명이 있었고, 흠결에도 이사람을 왜 쓰고 싶은지 국민들의 이해를 구하는 설명도 상당히 부족했다고 본다. 그렇기 때문에 유능한 게 맞는지, 솔직한 게 맞는지, 이런 비판을 받았던 것 아니냐. ▷첫번째, 제도화 부분은 제가 이미 제안하고 있다. 미국식으로 인사청문 절차를 두 단계로 나눠서 첫번째 도덕성 검증 과정은 비공개 적으로 하고, 그 대신 청와대와 국회, 야당이 모든 정보를 서로 공유하는 것이다. 그 정보를 다 모아 이 분이 공직자로 자격이 있나 없나 먼저 판단하고 그것을 통과하면 능력과 정책 역량을 가지고 검증하는, 그것은 공개적으로 하는 것이다. 그렇게 하는 것이 바람직하다고 생각하고 있고, 제안을 하고 있다. 그렇게 된다면 청와대가 가진 모든 자료를 우리도 제출할 뿐 아니라, 반대로 야당 자료도 우리가 함께 판단할 수 있을 것이다.청와대가 후보자를 발표하며 이 분이 이러한 흠결이 있지만 이런 점을 높이 평가해 발탁하고자 한다고 먼저 추천단계에서 국민들께 밝혀 드리고 싶다. 모든 후보자를 다 그렇게 할 필요는 없으나 적어도 문제가 될 만하다고 하는 분들은 그렇게 하면 좋겠다. 사실 과거 제가 민정수석을 할 때 그렇게 한 적도 있다. 저는 우리 인사팀들에게도 그렇게 요구하고 있는데 초기에 그렇게 한 번 했더니, 방금 균형 있게 이 분의 흠결과 정책능력을 비교해서 보는 것이 아니라 오히려 본인의 흠결에 대해 인사청문회에서에서 소명할 수 있는 기회 조차 주지 않고 논란을 더 앞당겨서 불러 일으키고, 거꾸로 청와대에서는 흠결에 대해 물타기하는 것이라고 공격 받고, 이런 일이 있어서 그 뒤에 그렇게 못하게 된 것 같다. 그 점에 대해 나름 여전히 필요하다고 생각하고 검토해 보겠다. ◆이명박·박근혜 전 대통령 사면 문제 -예정된 시간이 거의 다 됐다. 몇 가지 짧게라도 여쭙고 싶은데 예민한 질문일 수 있다. 보수진영에서 박근혜 전 대통령 사면 요구를 계속 하고 있다. 물론 반대하는 목소리도 상당하다. 대통령께선 법률가이시기 때문에 법적 판단이 있으시리라고 본다. 아직 대법원 판결 전이고, 대통령의 사면권을 제한적으로 쓰겠다고 하셨고, 그렇지만 대통령으로서 판단이 조금 다를 수 있을 것이라고 본다. ▷일단 박 전 대통령과 이명박 전 대통령 두 전임 대통령께서 지금 처해 있는 상황이, 한 분은 지금 보석 상태이시지만 여전히 재판을 받고 있고, 아직 한 분은 수감 중이시다. 이런 상황에 대해서는 정말 가슴이 아프다. 아마 누구보다도 저의 전임자 분들이기 때문에 제가 가장 가슴도 아프고 부담도 클 것이라고 생각한다. 그러나 답변은 아까 말씀하신 대로 아직 재판이 확정되지 않은 상황이기 때문에 그런 상황 속에서 사면을 말하기는 어렵다. -대법원 판결이 나오면 이후 생각해 보겠다는 것인가. ▷일단 재판 확정 이전에 사면을 바라는 것 자체가 그것은 어려운 일이다. ◆총선 정국 및 개각 -내년 총선이 있다. 총리를 포함해 많은 분들, 일부 장관들이 상당히 장수하는 분들이 있다. 총선이 있으면 당에서 요구가 있을 수도 있고, 개각 시점을 생각하시는 게 있는가. ▷특별히 개각 시기를 생각한 것은 없다. 다만 총리를 비롯해 장관들이 정치에 나선다면 그것은 전적으로 본인 의사에 달려 있는 것이고, 대통령으로서 바라고 싶은 것은 선거에 나갈 생각이 있다면 선거시기에 임박해서가 아니라 충분한 여유를 두고 의사를 밝히는 것이 바람직하겠다고 생각하고 있다. 그것은 선거에 대한 정부의 공정성 부분 면에서도 필요한 일이라고 본다. 뿐만 아니라 요즘 유권자들의 요구도, 이제는 낙하산으로 공천 받아 내려오는 게 아니라 지역에서 지역주민과 밀착되길 바라기 때문에 그것이 유권자들 요구라고도 생각한다. ◆3년 뒤 대한민국 모습 -마지막 질문이다. 며칠 전 외신에 '평범한 국민들이 위대함을 이뤘다'는 취지의 기고문을 낸 것을 인상적으로 읽었다. 평범한 국민들에게 앞으로 3년 후는 어떤 모습일 거라고 마지막으로 말씀 하신다면. ▷우선은 요즘 히어로, 영웅을 다루는 영화들이 인기를 끄는 것 같다. 역사를 봐도 영웅들이 역사를 바꿔온 것처럼 느껴지기도 한다. 그러나 제가 말씀드리고 싶은 것은 그렇지 않다는 것이다. 한국이 증명하고 있다. 3·1 독립운동은 주도자들이 이끈 것이 아니라 평범한 민중들이 이끌었다. 4·19혁명과 부마민주항쟁, 5·18 광주민주화운동과 6월항쟁, 그리고 또 지난번 촛불혁명조차도 전부 평범한 시민들의 선한 의지가 모여서 이뤄낸 것이지 않느냐. 평범한 시민들의 선한 의지가 정권교체를 이뤄냈고, 그 힘에 의해 문재인 정부가 탄생한 것이기 때문에 앞으로도 임기를 마칠 때까지 우리가 촛불 정신을 지켜내는 데에 온 힘을 다하겠다는 말씀 드리고 싶다. 보다 구체적으로는 지금까지 우리 경제가 강자의 경제였다면, 이제는 공정한 경제로. 그 다음에는 반칙과 특권이 난무하는 시대였다면, 이제는 역시 그런 것이 없는 공정한 사회로. 양극화가 극심한 사회에서 이제는 함께 잘사는 그런 시대, 경제로. 남북관계도 대립과 전쟁의 시대에서 평화의 시대, 넘어서 협력의 시대로, 나아가선 평화경제의 시대로 발전시켜 나가야 겠다는 것이 저의 목표다. 물론 우리 정부가 모든 일을 다 이룰 수 있다고 생각하지 않는다. 그러나 확실히 임기가 마칠 때 쯤이면 그런 시대가 왔다는 것을 피부로 느낄 수 있도록 최선을 다하겠다. ◆북한 단거리 발사체 -아무래도 어떤 질문으로 시작을 해야 되나 고민을 했었는데 조금 전에 생긴 현안부터 여쭈울 수밖에 없을 것 같다. 4시반쯤부터 해서 북한이 발사체 두발을 쏘아올렸다. 오늘은 단거리 미사일로 추경이 된다. 보고는 받으셨나. ▷그렇다. 북한이 며칠 전에 여러 종류의 단거리 발사체를 발사한 데 이어서 오늘은 일단 단거리 미사일로 추정되는 그런 발사를 했다. 며칠 전의 발사에 대해서는 신형전술유도무기라고 규정을 했었는데 오늘 단거리 미사일로 추정하는 이유는 며칠 전은 북한이 동해안에서 자신들의 앞바다를 향해서 발사를 했기 때문에 사거리가 비교적 짧았다. 오늘은 평안북도 지역에서 육지를 넘어서 동해안까지 발사를 했기 때문에 두발 중의 한 발은 사거리가 400㎞를 넘는다. 그래서 일단 단거리 미사일로 한미 양국이 함께 추정을 하고 있는 것이다. -그 판단은 한·미양국이 같이 내린 것인가. ▷공조하고 있다. -지난 4일 발사체 최장 거리가 240㎞이었는데 오늘은 보면 사거리 420㎞ 발사체가 있다는 것이지. ▷두발 중의 한발이 그렇게 된 것으로 보고 있다. -1.5배 더 늘어난거고 그렇게 해서 한미양국이 공조를 통해서 '발사체는 단거리 미사일로 추정이 된다' 이렇게 규정했다는 것인가. ▷그렇다. -지난 번 발사체 때는 한·미양국이 전략적 해석이라는 표현도 나왔습니다만 미사일이라는 표현을 쓰는데는 주저하지 않았나. 그런데 사거리가 이렇게 됐다. ▷지난 번에 일단 고도가 낮은 데다가 사거리가 짧았다. 미사일로 단정하기에는 이르다고 보고 계속 한미양국이 분석중에 있는 것이다. 오늘은 고도는 낮았지만 발사고도는 낮았지만 사거리가 길었기 때문에 일단은 단거리 미사일로 추정을 하는 것이다. -면밀한 분석이 있어야 되겠지만 탄도미사일 가능성이 있으면 문제가 예를 들어서 '유엔결의안 위반이다' 이런 해석으로 이끌어갈 수 있는 사안이다. ▷일단 유엔의 안보리 결의는 북한의 중장거리 탄도 미사일을 겨냥한 것이다. 이전에 북한이 단거리 미사일을 발사했을 때는 문제삼은 적이 없었다. 그러나 유엔 안보리 결의 속에는 탄도미사일을 하지 말라는 그런 표현이 있기 때문에 비록 단거리라 할지라도 그것이 탄도미사일일 경우에는 유엔 안보리 결의에 위반될 소지도 없지 않다고 생각한다. -그 부분은 추가적인 분석이 있어야 하는 건가. ▷그렇다. 최종적인 판단은 한미양국이 재원이라든지 종류라든지 궤적이라든지 이런 것을 조금 더 면밀히 분석해서 판단을 하게 될 것이다. 참고로 말씀드리면 지난 번의 발사에 대해서도 유엔안보리 결의 위반여부를 판단 중에 있긴 하지만 일단 미국은 지금까지는 유엔안보리 결의는 위반하지 않은 것으로 그렇게 판단을 내리고 있다. -판단 역시 한미 양국이 같이 공유하는 것인가. ▷공유한다. 한편으로 '남북군사합의에 위반되는 것 아니냐'라는 판단도 필요한데, 지금 남북간에는 서로 무력 사용을 하지 않기로 합의를 한 바 있다. 훈련도 휴전선으로부터 비무장지대로부터 일정한 구역 밖에서만 하기로 합의를 한 바 있는데 지난번이나 이번에 북한의 훈련 발사는 일단 그 구역밖에 있고, 군사합의 이후에도 남북이 기존의 무기체계를 발달시키기 위한 시험발사나 훈련 등은 계속해 오고 있기 때문에 남북 간의 군사합의를 위반한 것은 아니라고 보고있다. 그럼에도 북한의 이런 행위가 거듭된다면 지금 대화와 협상국면을 어렵게 만들 수 있다는 점을 북한측에 경고를 하고 싶다. -북한이 4일하고 오늘, 닷새만에 두차례 도발을 했다. 그 수위는 올라갔다. 현 시점에서 좋은 시그널은 아니고, 북한이 왜 이 시점에서 도발행위를 하는 것이라고 판단할지 의도를 분석하는 게 현재로서는 중요한 포인트일 것 같다. ▷정확한 의도는 알 수 없지만 북한이 지금까지 북한 자신의 매체를 통해 밝혀온 여러 가지 보도내용을 종합해보면 북한은 하노이 제2차 북미정상회담이 합의를 이루지 못하고 끝난데 대해서 상당히 불만을 가지고 있는 것 같다. 그래서 미국이나 한국 양측에 대해서 일종의 시위성 성격이 있지 않은가 판단을 하고 있다. 그와 함께 앞으로 비핵화 대화를 자신들이 원하는 방향으로 이끌고자 하는 압박의 성격도 담겨 있다고 본다. 한편으로는 조속한 회담을 촉구하는 그런 성격도 있지 않을까 생각한다. 어쨌든 북한의 의도가 뭐라고 하더라도 결국 근본적인 해법은 북미양국이 조속히 빨리 앉는 것이라고 생각한다. 북한도 불만이 있다면 조속히 대화의 장에서 불만을 명확하게 그렇게 밝히는 것이 바람직하다고 생각한다. 이런 방식으로 북한의 의도를 여러 가지로 해석하게 만들고 또 우려하게 만들고 자칫 잘못하면 대화와 협상국면의 찻물을 끼얹는 이런 성격을 거듭 하는 것은 결코 바람직하지 않다는 것을 북한측에 다시 한 번 이야기하고 싶다. -4일 단거리 발사체가 발사됐을 때 한미양국이 북한의 의도를 판을 깨려는 것으로 보지는 않는다는 취지로 해석을 하는 기류였다. 그런데 그런 도발에 대해서 단호한 규정을 하지 않아서 북한이 추가 도발성 행위를 한 것이다, 이런 시각도 있을 수 있을 것 같다. ▷일단 북한은 계획된 행동으로 보인다. 그러나 대화의 판을 깨지 않으려고 노력하는 모습도 함께 보여주고 있다. 무언가 과거에는 이런 발사를 하면 굉장히 허세를 부리고 과시하는 그런 행동을 했지만. -허세를 부리고 과시하는 행위는 어떤 걸 말하는지 ▷'ICBM을 완성했다' '고도 미사일을 능력을 갖게 됐다' 이런 식으로 국제사회에 위협적인 표현들을 했었는데, 이번에 북한은 그냥 '신형전술유도 무기를 시험훈련한 것이다' 라고 낮은 로우키로 발표를 했고, 발사를 방향이라든지 발사지역도 미국이나 일본 한국에게 별로 위협이 되지 않는 그런 방식으로 발사를 했기 때문에 북한 측에서는 한편으로 자기 의사를 표현하면서 판이 깨지지 않도록 유의하는 것으로 판단한다. -대통령께서도 4일 도발이 있었고 단거리 발사체 발사가 있었고 오늘 추가발사가 있을 것이라고 예측은 못한 것인가. ▷네 그렇다. 그리고 북한이 이것이 마지막인지 여부도 아직은 판단하기 어렵다. -며칠만에 다시 미사일로 추정되는 단거리 발사체를 쐈기 때문에 예를 들어 추가도발이 있을 수도 있을 가능성은 우리가 배제할 수는 없을 것이다. 그렇다면 '상황을 더 악화시키면 안 된다. 상황관리차원에서 라도 우리가 특사를 보낼 필요성이 있다'는 판단은 안하고 계신 건가. ▷일단 북한의 의도가 어디에 있건 북한의 행동이 자칫 잘못하면 협상과 대화의 국면을 어렵게 만들 수 있다는 점은 우선 우리가 경고를 하는 바이다. 그리고 아까 근본적인 해법이 역시 북미간에 조속히 마주 앉는 것이라고 생각하는데, 그렇게 될 수 있도록 한국 정부는 다각도로 노력을 하고 있다. ◆대북 식량지원 -이런 상황에서 어쨌든 나온 얘기는 대북 식량지원 문제다. 한미정상 간 통화 때 이 문제를 먼저 거론하신걸로 안다. 트럼프 미국 대통령한테. ▷일단 통화의 첫 목적은 지난번 발사에 대해서 어떻게 볼 것인가 라는 것을 서로 공유하기 위한 것이었는데, 그에 대한 트럼프 대통령의 말씀은 좀 고약한 일일 수도 있지만 신경쓰지 않는다. 나는 김정은 위원장을 좋아한다. 김정은 위원장과 좋은 관계에 있다. 나는 김정은 위원장과 대화를 원하고 대화를 통해서 잘 해결될 것이라고 기대하고 있다. 이런 말씀이었다. 그러면서 대화 속도를 내기 위해서 우리가 어떤 일을 해야 할 것인가 라고 저한테 질문도 했기 때문에 그런 과정에서 자연스럽게 대북식량지원 문제가 논의가 된 것이다. -대화를 끌어내기 위해서 대북 식량문제도 어떤 계기가 될 수 있을 것이다라는 판단을 하셨다는 말인가. ▷일단 한국의 입장에서는 우선 대화 카드 이전에 지금 아시는 바와 같이 유엔 세계 식량 계획, 세계식량원조 기구가 정밀하게 조사해서 공식보고서로 발표한 바에 의하면 북한의 식량난이 최근 10년동안 가장 심각하다는 것이다. -성인 1명이 1년에 달걀 2~3개 섭취할 정도다 라는 보고서 내용이다. ▷이미 올해 1월부터 식량 배급량을 많이 줄였고, 앞으로 6월부터 8월까지 춘공기 동안에는 더 줄일 전망이어서 한 40% 정도, 북한인구의 40% 정도가 말하자면 기아에 직면하게 되고 특히 아동과 여성들이 직접적으로 피해를 거둘 것이다 라는 보고도, 그래서 세계각국에게 북한에 대한 식량의 지원을 촉구하는 내용들이었다. -그래서 우리 정부가 선도하는 차원이라는 말인가. ▷그렇다. 그에 비해서 우리 정부가 비축하고 있는 재고미(비축미)가 국내수요를 넘어서서 보관비만 6000억원이 소요되는 실정이다. 그런 형편이기 때문에 북한동포들의 심각한 기아상태를 우리가 외면할 수 없고, 우리가 동포애나 인도주의적인 차원에서라도 우리가 북한의 식량을 지원할 필요가 있다고 생각하는 것이다. 두 번째로는 그것이 대화 교착상태를 조금 열어주는 그런 효과도 있을 것이라고 생각한다. 그점에서 트럼프 대통령은 아주 전폭적으로 지지를 보여줬다. -정부가 구체적으로 방법과 규모 이걸 생각할 수밖에 없을 텐데, 정부 직접 지원 방식이 낫다고 판단을 하고 있나. ▷일단 트럼프 대통령의 전폭적인 지지에 대해서 한번 더 구체적으로 설명을 해 드리면, 왜냐하면 그 부분이 미국 측도 의문을 표시하는 분들도 계시기 때문에 말씀을 드리면, 트럼프 대통령은 전폭적으로 지지를 하면서 자신이 우리 한국의 북한에 대한 인도적 지원에 대해서 절대적으로 축복을 한다는 말을 전해달라. 그리고 그것이 또 굉장히 아주 큰 좋은 일이다라고 자신이 생각한다는 것을 발표해 달라. -그 부분은 충분히 전달됐을 것 같다. ▷그렇게 여러 번 서너번 거듭 해서 부탁을 할 정도였다. 일단 우리가 식량지원을 하게 되면 남북협력기금을 사용해야 되는데, 나중에 사후에 국회에 보고도 해야 한다. 그래서 북한의 식량지원 문제에 대해서 저로서는 가장 바람직한 것은 지금 패스트트랙 문제 때문에 여야 간 정국이 교착상태에 빠져 있는데 그 문제는 별도로 해결하더라도 북한에 대한 식량지원에 대해서는 대통령과 여야가 함께 모여서 협의를 하는 것이 바람직하지 않을까 라는 생각을 하고 있다. -그런데 시점이 국민들이 받아들이기에 단거리 발사체 발사 같은 국면에서 식량지원 문제에 대해서는 혼란스럽거나 아니면 반감이 생길 수도 있을 것 같다. ▷그래서 그렇기 때문에 사실은 식량지원에 대해서 우리가 한미간에 합의를 한 것이 이번 발사 이전인데, 그 이후에 또 다시 발사가 있었기 때문에 이 점에 대해서는 국민들의 공감이나 제재가 필요하다고 생각한다. 여야 정치권 사이에 충분한 논의도 필요하다고 생각한다. 차제에 대통령과 여야 대표들의 회동이 이뤄지면 좋겠다는 생각을 하는 것이다. -이 문제를 예를 들어서 꽉막힌 국회상황에서 여야 지도부에게 회담을 하자 제의를 하신 거라고 이해해도 되나. ▷그렇게 제안하고 싶다. 패스트트랙 문제같이 당장 풀기 어려운 문제는 주제로 하기 곤란하다면, 이번 식량지원 문제나 안보문제 이런 문제에 국한해서 회동을 할 수 있다고 생각한다. ◆하노이 회담 및 4차 남북정상회담 추진 -지난 하노이 보면 일반적으로 표현할 때 북한은 '영변이면 충분하지 않냐' 미국은 '전체가 해결돼야 한다'는 간극이 좁히지 못했던 것 같다. 간극을 좁힐 수 있는 분위기가 조성이 되어 있나. ▷우선 지금 양국이 비핵화 대화의 최종목표에 대해서는 완전히 일치를 보고 있다. 미국은 북한의 완전한 비핵화를 원하는 것이고, 또 북한은 자신들의 완전한 안전보장을 원하는 것다. 이점에 대해서는 서로 간에 또 한국까지도 다 최종목표에 대해서는 합의가 되어 있는 상황이다. 문제는 이것이 어느 순간에 '짠' 하고 한꺼번에 교환될 수가 없는 것이기 때문에 거기에 이루는 과정이나 프로세스 등 로드맵이 필요한데 이점에서 의견이 맞지 않는 것이다. -중재자 역할을 하기 위해서 4차정상회담을 추진하겠다고 하신 건데 지지부진한 상태다. 언제쯤으로 예측할 수 있을까. ▷지지부진하다고 말씀을 하긴 그렇다. 우리는 북한에게 아직은 재촉하지 않고 있다. 북한은 외교가 발달된 나라가 아니다. 하노이 정상회담 이후에 자기들 나름대로 입장을 정리하는 시간도 필요했을 테고, 푸틴 대통령과의 정상회담도 예정이 있었고, 저희는 사전에 일정을 다 파악을 하고 있었기 때문에 그때까지는 북한이 회담을 위한 대화를 하기가 어려웠을 것이라고 판단했고, 이제 북한이 그렇게 대화를 할 수 있는 상황이 되었기 때문에 지금부터 북한에게 적극적으로 회담을 제안하고 대화로 이끌어낼 그런 계획이다. ◆도보다리 회담 -4·27 남북 정상회담 때 도보다리에서 30분을 얘기를 했다. 어떤 얘기를 했는지 풀어주실 수 있는지. ▷일단 저도 그 대화가 참 좋았다. 사실은 그 다음 일정에 이르는 하나의 휴식시간에 좋은 그림으로 보여주기 위한 일정이었는데. 실제로 두 사람이 진솔하게 대화를 나눌 수 있는 좋은 기회가 되었다. 같은 언어를 사용하기 때문에 통역이 없어도 된다는 것이 참 좋았다. 그때 김정은 위원장은 자신들의 비핵화 의지에 대해서 아주 진솔하게 다 표명을 했다. 말하자면 안정보장을 위한 것인데 핵 없이도 안전할 수 있다면 우리가 왜 제재를 무릅쓰고 힘들게 핵을 들고 있겠는가 이런 표현으로 비핵화의지를 표명했고, 미국과 회담해 본 경험이 없고, 주변의 참모들 가운데에도 그런 경험들이 없는데 회담을 한다면 어떻게 하면 좋을 것인가 여러 가지 조언을 구하고, 주로 김정은 위원장이 저에게 물어보고 제가 그에 대해서 답해 주는 시간이었다. ◆한일관계 -외교안보 질의를 드리고 싶다. 한일 관계문제다. 과거사 문제는 과거를 지울 수 없는 문제고 과거사 문제가 한일관계의 족쇄가 된 게 너무 오랜 시간이다. 실질적인 협력 문제가 클 텐데 전혀 진도를 나가지 못하고 있다. 하나 계기가 생긴 것이 일왕이 바뀐 계기가 있다. 이 때문일까. 일본에서는 일왕의 방한 추진 얘기도 언론에서 나온 것으로 알고 있다. 검토해 본 사안인지. ▷아니다. 어쨌든 일본 새 천황의 즉위를 계기로 한일관계가 더 발전했으면 좋겠다는 희망을 가지고 있다. 저는 한일관계가 굉장히 중요하다고 생각하고, 앞으로 더 미래지향적으로 발전돼 나가야 한다고 생각한다. 다만, 어려움을 겪고 있는 것은 과거사 문제가 한번씩 양국관계발전에 발목을 잡고 있는데 그것은 결코 한국정부가 만들어 내고 있는 문제가 아니다. 과거에 엄밀히 존재했던 불행했던 과거때문에 비록 한일 기본협정이 체결되긴 했지만 인권의식들이 높아지고 국제규범이 높아지고 하면서 여전히 조금씩 상처들이 굳어져 나오는 것이다. 이 문제들로 인해서 미래지향적인 협력관계가 손상되지 않도록 양국정부가 잘 지혜를 모을 필요가 있는 것이다. 그런데 일본 정치지도자들이 자꾸 그 문제를 국내 정치적인 문제로 다루기 때문에 과거사 문제가 미래지향적인 발전의 발목을 잡는 일이 거듭되고 있다고 본다. 저는 양국이 함께 지혜를 모아나가길 바란다. -다음달 G20을 계기로 한일정상회담은 준비가 들어간 상황인지. ▷그때 일본을 방문하게 될 텐데, 그 계기에 일본에 아베 총리와 회담을 할 수 있다면 그것은 좋은 일이라고 생각한다. 다음은 경제산업 분야 일문일답. ◆소득주도 성장 및 최저임금 인상 (국민들 인터뷰 영상 시청 후) -들어보시니까 어떤지. ▷저분들 말씀도 다 들어드리고 싶고 다 해결하고 싶다. 그러지 못해서 송구스럽다. -경제문제가 아무래도 많았던 것 같습니다. 우선 최저임금 인상 얘기부터 드려볼까 한다. 대통령께서 실행해 오신 경제정책의 사람들이 가장 많이 기억이 남는 단어를 꼽으라고 한다면 소득주도 성장이 아닐까 싶다. 최저임금 인상이 소득주도 성장의 단 하나의 정책은 아니다. 그런데 최저임금 인상을 하는 과정에서 생긴 논란 때문에 소득주도 성장 자체에 논란이 생겨버린 국면이다. 과정을 조금 더 다듬어갔으면 하는 후회는 없는지. ▷그렇다. (한숨) 아쉬움이 많다. 우선 이점은 꼭 말씀드려야 될 것 같다. 최저임금 인상을 통해서 적어도 고용시장 안에 들어와 있는 분들, 고용된 노동자들의 급여라든지 이런 부분은 굉장히 좋아졌다. 저소득 노동자 비중이 역대 최고로 낮아졌다. 또 1분위 노동자와 5분위 노동자 사이 임금격차도 역대 최저로 줄어들었다. 임금노동자가구의 소득이 크게 높아졌고 한편으로 지난 3월에는 고용보험가입자수가 52만명 늘어나서 고용안전망 속에 들어온 온 노동자 수도 늘었다. 당연히 상용직도 늘었다. 고용시장 안에서의 경제적인 효과는 뚜렷한데 반면에 고용시장 바깥에 있는 자영업자들의 삶이라든지, 가장 아랫층에 있던 노동자들이 고용시장에서 밀려나게 어려움을 겪는다든지. 이런 부분들을 함께 해결하지 못한 것이 참으로 가슴이 아프다. 어려운 일은 이런 분들의 어려움을 해소해 줄 수 있는 자영업자 대책들, 이런 부분들, 사회안전망을 높이는 부분들이 최저임금과 동시에 병행해서 시행했다면 그런 어려움을 덜어드릴 수 있었을 텐데 최저임금 인상은 정부에 의해 먼저 시행되고 자영업자 대책이라든지 EITC, 근로장려금 같은 부분들은 국회의 입법과정을 거쳐야 되기 때문에 시차가 생기게 되는 부분들이 참으로 어려운 점이기도 하다. 당사자들에게는 참으로 정부로서는 송구스러운 점이라는 말씀을 드리고 싶다. -어떤 부작용이 있는지도 파악을 하고 계셔서 최저임금의 속도조절 인상의 속도조절에는 동의를 하시는 것 같다. 만약 국회의 처리가 되지 않는다면 현행 제도로 내년도 최저임금 인상폭은 결정이 될 텐데, 2년간 두 자릿수 인상이었어요. 내년까지 두 자릿수 인상은 무리라고 판단을 하시나. ▷이건 참 답변 자체가 조심스럽다. -물론 대통령께서 결정 권한이 있는 것이 아니라는 것은 알고 있다. ▷우선 그렇지만 지난 번 대선 과정에 저를 비롯한 여러 후보들의 2020년까지 최저임금 1만원으로 인상하겠다는 공약, 이런 것이 최저임금위원회의 결정에 영향을 있었다고 생각한다. 그점에 대해서는 대통령도 함께 책임을 져야 하는 것이라고 본다. 일단 결정 권한이 정부 대통령에게 있는 것이 아니고 최저임금위원회에서 독립적으로 그렇게 결정하게 되어 있는 것이어서 대통령이 가이드라인을 제시하기는 어렵다고 생각한다. 그러나 분명한 것은 그때 공약이 2020년까지 1만원이었다고 해서 공약에 얽매여 무조건 그 속도대로 인상되어야 한다고 하는 것은 아니라고 생각한다. 우리 사회, 우리 경제가 어느 정도 수용할 수 있는지 적정선을 찾아서 결정할 필요가 있는 것이다. 올해 최저임금은 작년 최저임금 인상에 비해서 이미 속도조절이 되었다고 생각한다. 그렇다고 하더라도 2년에 걸쳐서 최저임금이 가파르게 인상이 됐고, 그것이 긍정적인 작용이 많은 반면, 한편으로는 부담을 주는 부분들도 적지 않다고 판단한다면 최저임금인상위원회가 그런 점을 감안해서 우리 사회가 우리 경제가 수용할 수 있는 적정선으로 판단하지 않을까 그렇게 기대를 하고 있다. -2020년 공약에 얽매이서 않고 사회가 수용할 수 있는 선에서 한다는 것인가. ▷네. 그렇기 위해서는 법제도로서 최저임금 결정 제도 이후나, 두 단계를 걸쳐서 결정하는 법개정을 하려는 것인데, 국회에서 처리되지 않아서 아쉽지만 현행 제도로 가더라도 최저임금인상위원회가 그런 취지를 존중하지 않을까 생각한다. -좀 전에 잠깐 설명을 드렸지만 최저임금 인상 논란 때문에 소득주도 성장이 불필요한 논란이라고 표현해야 될까. 굉장히 논란에 휩싸인 정책이 됐다. 요즘에는 이 용어를 덜 쓰시는 것 같다. ▷아까 얘기했다시피 노동의 고용의 질은 좋아진 것은 분명하다. 그러나 고용양의 증가에 있어서 과거보다 못해졌다. 못해진 이유 속에는 이런 구조적인 문제도 많이 있지만 최저임금 인상의, 말하자면 효과도 있다고 이야기들이 되고 있는 것이다. 물론 어느정도 영향을 미쳤느냐 대해서는 서로 평가가 다르지만 그러나 또 이 부분들은 시간이 조금 더 필요한 부분이기도 하다. 당장 1년 간 보면 고용의 증가가 현저하게 둔화가 돼서 고용증가수가 10만명 밑으로 떨어졌는데 금년 2월, 3월 두달 동안은 다시 25만명 수준으로 다시 높아졌고 정부는 그 추세가 지속될 것으로 보고 있다. 그래서 당초 경제 계획 상으로는 올해 고용증가를 15만명 정도로 잡았었는데 지금은 20만명 정도로 상향하는 그런 식의 기대를 하고 있다. 특히 추경까지 통과가 된다면 목표 달성에 더 용이해지리라고 보고 있다. 그래서 최저임금의 인상으로 인해서 생기는 여러 가지 부작용의 문제조차도 사실은 좀 더 긴 시간을 두고 판단해 볼 필요가 있는 것인데, 당장 어려움을 겪고 있는 분들이 많이 있기 때문에 그 해결에 우리가 좀 더 많은 노력을 해야 된다고 생각한다. ◆일자리 문제 -집무실에 일자리 상황판이 있나. ▷지금도 있다. -오늘 봤나. ▷(웃음) 대체로 월별 단위로 발표가 되기 때문에 매달 수정이 된다. 고용상황들은 지난 3월 부분까지만 발표가 되었기 때문에 3월 말 현재 상황들이 지금 일자리 상황판에 있다. 수출은 4월달까지 표기되어 있다. -상황판을 자세히 설명해 주실 필요는 없다. ▷6월의 고용사정이 좋아졌기 때문에 지금은 일자리 상황판에서 좋은 지표들은 대체로 올라가고 나쁜 지표들은 대체로 떨어졌다. -두어달 일자리 수는 괜찮아졌다, 얘기를 하셨는데 고용의 질이 문제가 생기게 되는 부분이 있다. 저희가 봤더니 일자리가 생기긴 했는데 이중에 상당수가 초단기 일자리, 그래서 주 15시간도 안 되는, 정말 예를 들어서 보험의 사각지대에 놓여있는 초단기 일자리가 상당부분 차지하고 있더라. ▷맞다. 그 사실은 맞는데 그런 초단시간 일자리는 대체로 노인 일자리에 해당한다. 아시다시피 고령화가 급격하게 진행되고 있어서 65세 이상 인구가 14%가 넘는 고령사회를 이미 2017년에 통과했고, 2025년이면 20%가 넘는 초고령사회가 될 것으로 예상된다. 65세 이상 어르신들에게는 정규직의 좋은 일자리가 불가능하다. -지속가능한 일자리가 안 되는 것이다. ▷짧은 시간의 일자리라도 마련해 드리는 것이 그나마 필요한 일이고, 그렇지 않으면 온전히 복지대상으로 떨어질 수밖에 없는 것이다. 어르신들을 위한 나쁜 일자리라도 일자리가 없는 것보다는 낫기 때문에 그런 노력을 계속해 나가야 한다고 생각한다. -말한대로 그런 분들께는 나쁜 일자리라도 있는 게 나을 수는 있지만, 그렇게 되기 위해서 투입되는 재정 부담을 생각하지 않을 수 없나. ▷어르신들의 공공근로 일자리는 쭉 과거 정부부터 해 왔던 것이다. 이것은 어찌보면 일자리와 일자리를 통한 복지의 성격을 가지고 있는 것이다. 고령인구가 크게 늘고 있기 때문에 일자리 수를 더 늘리고 과거의 급여가 낮았기 때문에 급여를 두배 높여서 실제로 어르신들의 빈곤 해결에 도움되도록 정부가 노력하고 있는 것이다. 그래서 말씀드리자면 노인 빈곤율도 꽤 개선되고 있다는 말씀을 드린다. -제일 문제는 청년일자리다. 지속가능한 일자리가 청년에게 계속 공급되는 게 중요할 텐데 이런 일자리는 어디서 만들어야 해야 하는 것인가. 공공부문 일자리 81만개 만들겠다는 공약을 했었다. ▷일단 지난 2, 3월 청년 고용률 아주 높아졌고 청년들의 실업률도 아주 낮아졌다는 말씀을 드린다. 특히 25세부터 29세 사이는 굉장히 인구가 늘었음에도 불구하고 고용상황이 아주 좋아졌다는 말씀을 드린다. 물론 완전히 다 해결된 것은 아니다. 좋은 일자리를 늘리려면 여러 방향이 있다. 하나로서 만능의 카드는 없다. 첫째 우리가 제조업에 강점이 있다. 조선이나 자동차같은 주력 제조업이 세계 경기둔화에 의해서 부진을 겪었다. 제조업을 혁신해 고도화해서 경쟁력을 높여 일자리를 늘리는 방향이 하나 있다. 또 신산업들을 빨리 성장시켜서 좋은 일자리를 만들어야겠고, 요즘 벤처창업들을 크게 늘리고 지원할 필요가 있다. 한편으로는 아까 말씀하신 공공일자리 부분도 어르신들 일자리만 이야기했지만 소방관이나 경찰들은 아직까지 수가 부족하다. 사회 서비스일자리는 아직도 많이 부족한 실정이다. 그런 것을 통해서도 일자리를 늘려나갈 필요가 있다고 본다. ◆경제성장률 및 대통령의 경제 인식 -우리 경제성장률이 -0. 3%였다. 경제 괜찮은 건가. ▷걱정되는 대목이다. 앞 분기에 비해서 0. 3% 마이너스 성장을 이뤘다. 작년에 비하면 1. 8% 성장에 해당하는 것이다. 우리의 목표는 2. 적어도 5에서 6% 인데 앞으로 만회를 해 나가야 되는 것인데 분기의 마지막인 3월에는 저성장의 원인이었던 수출부진 투자부진 이런 부분들이 회복되고 있고 좋아지는 추세다. 정부나 한국은행에서는 점점 2/4분기부터는 상황들이 좋아져서 하반기에는 잠재성장률에 해당하는 2% 중후반 수준을 회복할 것이다. 그렇게 전망하고 기대를 하고 있다. -그런데 다른 기관들 해외기관들이 성장률을 전망치를 낮추는 경우가 있다. 경제가 심리여서 그런지 모르겠습니다만 이 수치는 괜찮고 괜찮아질 거다라고 말씀을 해 주셨지만 이런 것들이 실생활에서 어려움을 겪고 있는 국민들에게는 와닿지가 않는다. 그래서 우리는 답답한데 왜 대통령께서는 괜찮다고 할까 이런 인식의 괴리 문제를 많이들 얘기를 한다. ▷그 말씀은 충분히 이해를 할 수 있다. 그러나 우리가 분명하게 인정해야 할 것은 우리가 거시적으로 볼 때 한국경제가 크게 성공을 거두었다는 것이다. 지난번 원로들과의 대화때도 이홍구 전 국무총리께서 지금 우리가 우리 앞에서 벌어지고 있는 일들은 과거 70년간 크게 성공해 와서 생긴 일이다라고 말씀하셨는데, 작년에 소득 3만불이 넘어서면서 세계 7번째로 3050 클럽, 3만불 이상 인구 5천만명 이상 클럽에 가입을 하게 됐다. 그런 나라들, G20 국가들이나 OECD국가들 중에서 한국은 상당한 고성장국가다. 이례적으로 경제가 좋았던 미국 다음으로 한국이 가장 높았다. 지금도 그런 추세다. 그래서 거시적인 경제성공은 인정하고 자부심을 가져야 한다고 생각한다. 다만 국민들에게 고르게 다 소득배분이 되고 있지 않고 있기 때문에 아직도 양극화가 심각하고 특히 소득이 낮은 층의 소득이 늘지 않고 있기 때문에 그분들의 사는 문제가 해결이 안 되고 있다. 고용의 문제가 주츰해졌다, 일자리를 늘려야 된다는 인식을 정부가 똑같이 하고 있고 똑같은 아픔을 느끼고 있다. ◆재벌대기업 및 삼성전자 방문 -경제가 활력을 찾기 위해서 정부도 노력을 해야하지만, 한축은 기업이다. 요즘 기업을 많이 방문하시는 모습들을 언론에서 봤다. 가장 최근에는 삼성전자를 방문하고 이재용 부회장을 만났다. 대법원 판결을 앞두고 이재용 부회장을 만난 것에 대해서 부담은 없었는지. ▷일단 삼성이 시스템 반도체 분야의 133조원을 투자하겠다는 현장을 방문한 것이다. 저는 그렇게 투자를 늘리고 일자리를 만들고 경제에 도움이 되는 일이라면 대기업이든 중소기업이든 벤처기업이든 누구든 만날 수 있고, 다음에 또 방문할 수 있다고 생각한다. 그러면서 제가 예상을 했다. 두 가지 비판이 있겠다. 하나는 재벌성장으로 회귀하는 거 아니냐. 두번째는 재판을 앞두고 있는데 그런 거 아니냐. 그런데 저는 이제 그렇게 이분법적으로 보는 그런 사고들에서 벗어나야 한다고 생각한다. 대통령이 재벌을 만나면 친재벌이 되고, 노동자를 만나면 친노동자 되겠나. 그날 방문을 앞두고 오전에 국무회의에서는 대기업의 오너들이 말하자면 회사에 대해서 횡령이나 배임 등의 범죄를 저지르고도 계속해서 경영권을 가지는 앞으로 못하도록 횡령·배임 유죄판결을 받으면 임원자격을 가지지 못하도록 시행령을 개정했다. 그러면 그것이 반재벌이겠나. 그래서 그런 상투적인 비판이라고 생각한다. 재판을 앞두고 있는데 봐주기 아니냐는 것은 사법권의 독립권에 대해서 훼손하는 말이라고 생각한다. -재판은 재판이고 경제는 경제란 것인가. ▷재판은 재판이다. -분명 나눠져있다. ▷금융은 금융, 경제는 경제 그런 것이다. -사법권이 어떻게 훼손되는지 국민들이 봤기 때문이 그런 시선을 가질 수도 있었다고 본다. ▷그러나 지금은 만약 그 논리라면 대통령과 가까운 사람들은 다 봐주겠나. 그렇게 되지 않는다. 오히려 더 엄중하게 수사받고 재판받고 하는 것이 현실이지 않나. ◆미래먹거리 -앞으로 펴실 정책도 질의를 드려야 될 것 같다. 어떤 점에 주안점을 저희가 지켜봐야 될까. 제조업도 부활시켜야 되고 4차산업 혁명시대에 대비도 해야 되고. 미래먹거리도 발굴해야 한다. ▷그렇다. 아까도 얘기했지만 한국의 경제성장률은 결코 낮지 않다. 그러나 뭐가 우려되는 상황이냐면 잠재성장률이 점점 낮아지고 있는데, 기존의 메모리 반도체 분야 이후로는 말하자면 새로운 신성장동력 같은 것들이 마련되지 않고 있다는 것이다. 그래서 새로운 산업을 통한 새로운 신성장동력을 마련하는 것이 시급하다고 보는 것이다. 그것이 우리가 말하는 혁신성장이라는 것인데, 우선 아시다시피 가장 시급하게 중심적인 역량을 쏟아부은 것은 시스템반도체, 바이오, 미래자동차 분야. 이런 부분들을 중점적으로 육성하려고 하고, 한편으로는 기존 제조업의 혁신을 통해서 다시 제조업 강국의 위상을 굳건하게 하려는 것이다. 한편으로는 제2의 벤처붐, 이미 작년에 벤처창업 기업수도, 벤처투자액도 역대 최고를 기록했다. 벤처붐을 더 크게 일으켜서 그것을 통해서도 새로운 성장동력을 찾고 한편으로는 더 좋은 일자리들을 많이 만들어 내려고 그렇게 노력하고 있다. -미래먹거리 몇 가지를 얘기했데 수소차, 시스템반도체, 바이오 산업 이런 것이 대기업이 주도할 수밖에 없는 영역 아닌가. ▷반드시 그렇지 않다. 시스템반도체 가운데서 삼성이 투자하기로 했던 파운더리 반도체 부분은 다른 기업이 설계한 반도체를 주문받아서 생산하는 것이기 때문에 대규모 생산설비가 필요하다. 그런 분야는 대기업이 잘할 수 있지만, 설계를 하는 팹리스는 생산설비가 필요 없기에 오히려 중소기업에 적합한 업종이다. 그런 지원들이 필요하고, 바이오 헬스 분야도 오히려 중소기업들이 약전하고 있는 분야다. 특히 코스닥 상장업체들을 비롯해 그쪽을 통한 수출이 늘고 있는데, 중소기업들도 오히려 적합한 분야라고 말씀을 드린다. 미래형 자동차도 우리가 대기업 자동차 회사들만 생각하는데 실제로 경차 전기차, 상용차 전기차 이런 부분들은 중소기업들이 오히려 많이 하고 있다. ◆52시간 근로제 -노동현안도 많긴 한데 주52시간 근로제 시행과 맞물려서 버스 노조가 총파업 찬반투표를 실시를 하고 있고, 이 사안도 보면 52시간 문제가 제대로 관리되지 못하면 불필요한 논란을 키울 수 있는 사안을 다분히 내포하고 있는 사안 같다. 어떤 대비책이 있어야 될 것 같다. ▷주 52시간 노동제 같은 경우도 300인 이상 기업에 시행되고 있는데, 작년 말까지 95% 정도가 다 시행에 들어가서 거의 안착이 되고 있다. -내년에는 50인 이상 기업도 시행된다. ▷그 부분이 감당할 수 있을까 걱정하는 것인데, 그 부분에 대해서는 미리 대비책을 세워나가야겠고 계도기간을 줌으로써 해결할 수 있다고 생각한다. 과거에 주 5일 근무제가 많이 걱정됐지만 잘 안착이 된 것처럼 그렇게 될 것이라고 기대한다. 이번에 버스 파업 부분은 특례에서 버스도 주 52시간을 준수하게끔 되어 있는데 대부분의 지자체에서는 이미 공영제, 또는 준공영제를 통해서 이미 주52시간이 시행되고 있다. 다만 경기도의 경우 시외버스의 경우에 주52시간이 되지 않고 있는데, 이게 주52시간을 하려면 새로운 버스기사들의 채용이 필요하고, 그러자면 요금의 인상도 필요하기 때문에 그 부분이 진통을 겪고 있는 것이다.\n"
     ]
    },
    {
     "name": "stdout",
     "output_type": "stream",
     "text": [
      "24234 446\n",
      "time to summarize is 5.79661 sec\n",
      "\n",
      "============  summary  ================\n",
      "문재인 대통령은 남북 정상회담에서 북한의 도발에 대해 대화와 협상을 통해 해결책을 찾겠다고 말했다. 대통령은 남북 정상회담이 성공적으로 개최될 수 있도록 최선을 다해야 한다고 말했다. 또한 남북이 대화의 장을 만들 수 있도록 노력해야 한다고 했다. 또한, 남북의 대화에 대한 대화의 장이 될 수 있도록 해야 한다. 또한 우리 정부는 남북의 평화적 협력의 길을 열어 나가야 한다고 생각한다. 또한 북한의 비핵화를 위해 노력해야 할 것이다. 또한 우리는 남북이 평화적으로 협력할 수 있는 길을 만들어 나가야 한다. -.,. ; 의 을 통해 남북의 길을 열어야 한다. 우리는 이 아니라 로 가는 길이다.의 길로 가야 한다.  남북의 길을 해 주길 바란다. 는데 라고 생각한다. 우리는 남북의 길로 나아가야 한다. 남북의 길의 길을 더 나아가야 한다고 생각한다며, 남북관계를 개선해야 한다. 우리 정부는 \n",
      "========================================\n",
      "1002 344\n",
      "991 321\n",
      "972 314\n",
      "991 317\n",
      "973 283\n",
      "882 331\n",
      "919 307\n",
      "986 321\n",
      "1012 292\n",
      "972 301\n",
      "996 323\n",
      "1010 332\n",
      "1006 321\n",
      "1006 319\n",
      "926 312\n",
      "998 448\n",
      "957 373\n",
      "997 280\n",
      "961 315\n",
      "986 306\n",
      "958 288\n",
      "1012 290\n",
      "964 312\n",
      "971 436\n",
      "342 262\n",
      "\n",
      "===============  long summary  ================\n",
      "문재인 대통령은 9일 오후 청와대 상춘재에서 진행된 KBS '문재인 정부 2년 특집 대담, 대통령에게 묻는다'에 출연해, 정부 출범 2주년 소회 및 각 분야별 입장을 밝혔다. 문재인 대통령은 이날 대담은 예정된 시간을 6분 넘겨 86분간 생중계로 진행됐다. 촛불민심이 명하는 대로 국정농단, 그리고 반칙과 특권이라는 적폐시대를 마감하고, 새로운 시대, 공정하고 정의로운 대한민국의 길을 향해서 걸어가고 있다. 많은 성과들이 있었다고 생각한다. 그러나 한편으로 또 아쉬운 부분들도 많이 있고, 또 보완해야 할 과제들도 많이 있다고 느낀다. 앞으로 그 점을 더 집중해서 국민들이 바라는 그런 나라를 만들도록 노력하겠다.여야정 상설국정협의체를 분기에 한 번씩 상황에 상관 없이 하기로 합의했는데, 그것이 지난 3월이었다. 그 약속을 지키는 모습을 보이자고 말하는 것이다. 노력을 하더라도 손바닥이 마주쳐야 소리가 나는 것이기 때문에 저의 제안에 대해 야당 측에서 좀 성의있는(답변이 나오길 바란다).-야당 입장에서 보면 여러 현안들이, 야당이라면 제1야당 얘기를 안 할 수 없는데, 자유한국당 입장에서 보면 청와대가 주도해서 여당이 끌어가는 것으로 해서 야당의 의견을 전혀 반영하지 않고 정국을 끌어가고 있다는 판단을 하는 것이고, 그렇기 때문에 대통령께 독재자라고 얘기하고 있는 것 아니겠나.원로들 만나셨을 때 이렇게 알려졌는데, 선 적폐청산 후 협치, 이런 취지로 말한 것으로 전달됐다. 전달이 잘못된 것인지 아니면 아직까지 적폐청산이 부족한 상태라서 이것이 먼저 정리돼야 그 다음에 또 다른 관계설정이 가능하다고 판단하는 것인지 우선 그렇게 말한 사실이 없고. 그 회동에서 오간 대화에서는 우리 대변인이 잘 정리해서 발표를 했기 때문에 제가 KBS 보도를 보지는 못했으나, 제가 본 보도들은 제 발언내용을 있는 그대로 내보냈다. 적폐수사 재판은 우리 정부가 시작한 게 아니라 앞의 정부에서 시작된 일이고, 우리 정부는 기획하거나 관여하지 않고 있다.제가 분명하게 검찰에 대해 말하고 싶은 것은 공수처도 수사권 조정법안도 그렇고, 지금까지 검찰이 사정기구로 본연의 역할을 다하지 못했기 때문에 개혁의 방안으로 논의가 되는 것이다. 검찰 스스로 개혁을 할 수 있는 많은 기회들을 지금까지 놓쳐 왔다. 그래서 검찰은 개혁의 당사자이고, 말하자면 이제는 셀프개혁으로서는 안 된다는 게 국민들의 보편적인 생각이기 때문에 그런 방안들이 마련되고 있는 것이어서 검찰이 보다 좀 겸허한 자세를 가져야한다고 생각한다. 고위공직자범죄수사처 -패스트트랙 국면을 이야기하는 와중에 나올 수밖에 없는 의제가 공수처와 검경수사권 조정안이다.민정수석의 가장 중요한 우리 정부에서의 책무가 인사검증 뿐만 아니라 권력기관들에 대한 개혁이 가장 중요한 임무 중 하나다. 지금 정부 차원에서 할 수 있는 개혁들은 상당히 다 했다고 생각한다. 조국 수석이 정치에 나갈 것이냐는 거취를 말한다면, 저는 조국 수석에게 정치를 권유하거나 할 생각은 전혀 없다. 그 여부는 전적으로 본인이 판단할 문제다. 민정수석이 가장 중요한 정부에서의 책임들이 인사검증과 권력기관들의 개혁이 제일 중요한 임무 가운데 하나다.. ; 조국 수석을 말하면서, 인사검증을 꺼내셨다. 청와대 검증부터 청문회까지 전체가 하나의 검증 과정인 것이다.청와대 검증이 완결적일 수는 없다. 소수 인원이 짧은 기간에 공적자료에 의존해 검증을 완벽히 할 수 있나. 청와대 이후 언론이 검증하고 인사청문회 검증을 하는 것이다. 전체 과정에서 검증되는 것을 보고 인사권자인 대통령이 최종 판단해서 임명하거나 하지 않거나 하게 되는 것이기 때문에 청와대 검증에서 밝혀내지 못한 부분 있었다거나, 또는 국민들 눈높이에 맞지 않다고 해서 그 자체로 검증의 실패다, 책임져야 한다고 말할 수는 없다는 것이다. 다만, 우리가 국민 눈높이에 맞는 검증을 할 수 있도록 계속해서 노력해 나가겠다는 것이다.인사청문회가 정쟁쟁의 장으로 운영된다면 좋은 인사를 발탁하는 장이 아니라 좋은 인사를 막는 장이 될 것이다. 대통령께서 민정수석과 시민수석을 하실 당시에도 인사 문제가 생겨서 장관 후보자에 대한 인사청문제도가 그 당시 도입됐고, 십수년 정도 우리 사회가 인사청문회 문화를 겪어온 셈이다. 그렇다면 대통령께서 그렇게 판단한다면, 청와대가 갖고 있는 후보자 자료를 국회에 제출하고, 조금 내밀한 자료까지도. 그리고 나서 2단계로 나눠서 신상 같은 것은 비공개로 하고, 나머지 업무역량과 정책역량은 공개로 하는 식의 제도를 바꿔보자는 생각은 하고 계신지.이명박·박근혜 전 대통령 사면 문제 -예정된 시간이 거의 다 됐다. 보수진영에서 박근혜 전 대통령 사면을 계속 하고 있다. 아직 대법원 판결 전이고, 대통령의 사면권을 제한적으로 쓰겠다고 하셨고, 그렇지만 대통령으로서 판단이 조금 다를 수 있을 것이라고 본다. 일단 박 전 대통령과 이명박 전 대통령 두 전임 대통령께서 지금 처해 있는 상황이, 한 분은 지금 보석 상태이시지만 여전히 재판을 받고 있고, 아직 한 분은 수감 중이시다. 이런 상황에 대해서는 정말 가슴이 아프다. 그러나 답변은 아까 말씀하신 대로 아직 재판이 확정되지 않은 상황 속에서 사면을 말하기는 어렵다.총리를 비롯해 장관들이 정치에 나선다면 그것은 전적으로 본인 의사에 달려 있는 것이고, 대통령으로서 바라고 싶은 것은 선거에 나갈 생각이 있다면 선거시기에 임박해서가 아니라 충분한 여유를 두고 의사를 밝히는 것이 바람직하겠다고 생각하고 있다. 그것은 선거에 대한 정부의 공정성 부분 면에서도 필요한 일이라고 본다. 뿐만 아니라 요즘 유권자들의 요구도, 이제는 낙하산으로 공천 받아 내려오는 게 아니라 지역에서 지역주민과 밀착되길 바라기 때문에 그것이 유권자들 요구라고도 생각한다. 3년 뒤 대한민국 모습 -마지막 질문이다.북한이 며칠 전에 여러 종류의 단거리 발사체를 발사한 데 이어서 오늘은 일단 단거리 미사일로 추정되는 그런 발사를 했다. 며칠 전의 발사에 대해서는 신형전술유도무기라고 규정을 했었는데 오늘 단거리 미사일로 추정하는 이유는 며칠 전은 북한이 동해안에서 자신들의 앞바다를 향해서 발사를 했기 때문에 사거리가 비교적 짧았다. 오늘은 평안북도 지역에서 육지를 넘어서 동해안까지 발사를 했기에 두발 중의 한 발은 사거리가 400km를 넘는다. 그래서 일단 한·미양국이 공조를 통해서 '발사체는 단거리 미일로 추정이 된다' 이렇게 규정했다는 것인가.유엔의 안보리 결의는 북한의 중장거리 탄도 미사일을 겨냥한 것이다. 그러나 유엔안보리 결의 속에는 탄도미사일을 하지 말라는 그런 표현이 있기 때문에 비록 단거리라 할지라도 그것이 탄도미사일일 경우에는 유엔 안보리 결에 위반될 소지도 없지 않다고 생각한다. 유엔 안보리의 결의 위반여부를 판단 중에 있긴 하지만 일단 미국은 지금까지는 유엔안보리의 결의는 위반하지 않은 것으로 그렇게 판단을 내리고 있다. 또한 남북간의 군사합의를 위반한 것은 아니라고 보고있다. 그럼에도 북한의 이런 행위가 거듭된다면 지금 대화와 협상국면을 어렵게 만들 수 있다는 점을 북한측에 경고를 하고 싶다.북한이 지금까지 북한 자신의 매체를 통해 밝혀온 여러 가지 보도내용을 종합해보면 북한은 하노이 제2차 북미정상회담이 합의를 이루지 못하고 끝난데 대해서 상당히 불만을 가지고 있는 것 같다. 그래서 미국이나 한국 양측에 대해서 일종의 시위성 성격이 있지 않은가 판단을 하고 있다. 그와 함께 앞으로 비핵화 대화를 자신들이 원하는 방향으로 이끌고자 하는 압박의 성격도 담겨 있다고 본다. 북한도 불만이 있다면 조속히 대화의 장에서 불만을 명확하게 그렇게 밝히는 것이 바람직하다고 생각한다. 일단 북한은 계획된 행동으로 보인다. 그러나 대화의 판을 깨지 않으려고 노력하는 모습도 함께 보여주고 있다.북한의 의도가 어디에 있건 북한의 행동이 자칫 잘못하면 협상과 대화의 국면을 어렵게 만들 수 있다는 점은 우선 우리가 경고를 하는 바이다. 그리고 아까 근본적인 해법이 역시 북미간에 조속히 마주 앉는 것이라고 생각하는데, 그렇게 될 수 있도록 한국 정부는 다각도로 노력을 하고 있다. 일단 한국의 입장에서는 우선 대화 카드 이전에 지금 아시는 바와 같이 유엔 세계 식량 계획, 세계식량원조 기구가 정밀하게 조사해서 공식보고서로 발표한 바에 의하면 북한의 식량난이 최근 10년동안 가장 심각하다는 것이다.-성인 1명이 1년에 달걀 2~3개 섭취할 정도다 라는 보고서 내용이다.우리 정부가 비축하고 있는 재고미(비축미)가 국내수요를 넘어서서 보관비만 6000억원이 소요되는 실정이다. 그런 형편이기 때문에 북한동포들의 심각한 기아상태를 우리가 외면할 수 없고, 우리가 동포애나 인도주의적인 차원에서라도 우리가 북한의 식량을 지원할 필요가 있다고 생각하는 것이다. 그래서 북한의 식량지원 문제에 대해서 저로서는 가장 바람직한 것은 지금 패스트트랙 문제 때문에 여야 간 정국이 교착상태에 빠져 있는데 그 문제는 별도로 해결하더라도 북한에 대한 식량지원에 대해서는 대통령과 여야가 함께 모여서 협의를 하는 것이 바람직하지 않을까 라는 생각을 하고 있다.양국이 비핵화 대화의 최종목표에 대해서는 완전히 일치를 보고 있지만 어느 순간에 한꺼번에 교환될 수가 없기 때문에 이루는 과정이나 프로세스 등 로드맵이 필요한데 의견이 맞지 않는 것이다. 중재자 역할을 하기 위해서 4차정상회담을 추진하겠다고 하신 건데 지지부진한 상태다. 우리는 북한에게 아직은 재촉하지 않고 있다. 북한은 외교가 발달된 나라가 아니다. 그래서 그렇기 때문에 사실은 식량지원에 대해서 우리가 한미간에 합의를 한 것이 이번 발사 이전인데, 그 이후에 또 다시 발사가 있었기 때문에 이 점에 대해서는 국민들의 공감이나 제재가 필요하다고 생각한다.한일관계 -외교안보 질의를 드리고 싶다. 한일 관계문제다. 과거사 문제는 과거를 지울 수 없는 문제고 과거사 문제가 한일관계의 족쇄가 된 게 너무 오랜 시간이다. 저는 한일관계가 굉장히 중요하다고 생각하고, 앞으로 더 미래지향적으로 발전돼 나가야 한다고 생각한다. 도보다리 회담 -4·27 남북 정상회담 때 도보다리에서 30분을 얘기를 했다. 그때 김정은 위원장은 자신들의 비핵화 의지에 대해서 아주 진솔하게 다 표명을 했다. 말하자면 안정보장을 위한 것인데 핵 없이도 안전할 수 있다면 우리가 왜 제재를 무릅쓰고 힘들게 핵을 들고 있겠는가 이런 표현으로 비핵화의지를 표명했고, 미국과 회담해 본 경험이 없고, 주변의 참모들 가운데에도 그런 경험들이 없는데 회담을 한다면 어떻게 하면 좋을 것인가 여러 가지 조언을 구하고, 주로 김정은 위원장이 저한테 물어보고 제가 그에 대해서 답해 주는 시간이었다.과거사 문제가 양국관계발전에 발목을 잡고 있는데 그것은 결코 한국정부가 만들어 내고 있는 문제가 아니다. 과거에 엄밀히 존재했던 불행했던 과거때문에 비록 한일 기본협정이 체결되긴 했지만 인권의식들이 높아지고 국제규범이 높아지고 하면서 여전히 조금씩 상처들이 굳어져 나오는 것이다. 이 문제들로 인해서 미래지향적인 협력관계가 손상되지 않도록 양국정부가 잘 지혜를 모을 필요가 있는 것이다.대통령께서 실행해 오신 경제정책의 사람들이 가장 많이 기억이 남는 단어를 꼽으라고 한다면 소득주도 성장이 아닐까 싶다. 최저임금 인상이 소득주도 성장의 단 하나의 정책은 아니다. 그런데 최저임금 인상을 하는 과정에서 생긴 논란 때문에 소득주도 성장 자체에 논란이 생겨버린 국면이다.고용시장 안에서의 경제적인 효과는 뚜렷한데 반면에 고용시장 바깥에 있는 자영업자들의 삶이라든지, 가장 아랫층에 있던 노동자들이 고용시장에서 밀려나게 어려움을 겪는다든지. 이런 부분들을 함께 해결하지 못한 것이 참으로 가슴이 아프다. 최저임금 인상은 정부에 의해 먼저 시행되고 자영업자 대책이라든지 EITC, 근로장려금 같은 부분들은 국회의 입법과정을 거쳐야 되기 때문에 시차가 생기게 되는 부분들이 참으로 어려운 점이기도 하다. 당사자들에게는 참으로 정부로서는 송구스러운 점이라는 말씀을 드리고 싶다.올해 최저임금은 작년 최저임금 인상에 비해서 이미 속도조절이 되었다고 생각한다. 그렇지만 2년에 걸쳐서 최저임금이 가파르게 인상이 됐고, 그것이 긍정적인 작용이 많은 반면, 한편으로는 부담을 주는 부분들도 적지 않다고 판단한다면 최저임금인상위원회가 그런 점을 감안해서 우리 사회가 우리 경제가 수용할 수 있는 적정선으로 판단하지 않을까 그렇게 기대를 하고 있다. 그래서 당초 경제 계획 상으로는 올해 고용증가를 15만명 정도로 잡았었는데 지금은 20만명 정도로 상향하는 그런 식의 기대를 하고 있고 추경까지 통과가 된다면 목표 달성에 더 용이해지리라고 보고 있다.최저임금의 인상으로 인해서 생기는 여러 가지 부작용의 문제조차도 사실은 좀 더 긴 시간을 두고 판단해 볼 필요가 있는 것인데, 당장 어려움을 겪고 있는 분들이 많이 있기 때문에 그 해결에 우리가 좀 더 많은 노력을 해야 된다고 생각한다. 어르신들을 위한 나쁜 일자리라도 일자리가 없는 것보다는 낫기 때문에 그런 노력을 계속해 나가야 한다고 생각한다.-말씀하신대로 그런 분들께는 나쁜 일자리는 있는 게 나을 수는 있지만, 그렇게 되기 위해서 투입되는 재정 부담을 생각하지 않을 수 없나.어르신들의 공공근로 일자리는 쭉 과거 정부부터 해 왔던 것이다.일자리와 일자리를 통한 복지의 성격을 가지고 있는 것이다.고령인구가 크게 늘고 있기 때문에 일자리 수를 더 늘리고 과거의 급여가 낮았기 때문에 급여를 두배 높여서 실제로 어르신들의 빈곤 해결에 도움되도록 정부가 노력하고 있는 것이다.-제일 문제는 청년일자리다. -제일 문제는 일자리다. 좋은 일자리를 늘리려면 여러 방향이 있다. 제조업의 혁신해 고도화해서 경쟁력을 높여 일자리를 늘리는 방향이 하나 있다. 또 신산업들을 빨리 성장시켜서 좋은 일자리를 만들어야겠고, 요즘 벤처창업들을 크게 늘리고 지원할 필요가 있다.거시적으로 볼 때 한국경제가 크게 성공을 거두었다는 것은 거시적인 경제성공은 인정하고 자부심을 가져야 한다고 생각한다. 다만 국민들에게 고르게 다 소득배분이 되고 있지 않고 있기 때문에 아직도 양극화가 심각하고 특히 소득이 낮은 층의 소득이 늘지 않고 있기때문에 그분들의 사는 문제가 해결이 안 되고 있다. 고용의 문제가 주츰해졌다, 일자리를 늘려야 된다는 인식을 정부가 똑같이 하고 있고 똑같은 아픔을 느끼고 있다. 재벌대기업 및 삼성전자 방문 -경제가 활력을 찾기 위해서 정부도 노력을 해야하지만, 한축은 기업이다.잠재성장률이 점점 낮아지고 있는데, 기존의 메모리 반도체 분야 이후로는 말하자면 새로운 신성장동력 같은 것들이 마련되지 않고 있다는 것이다. 그래서 새로운 산업을 통한 새로운 신 성장동력을 마련하는 것이 시급하다고 보는 것이다. 그러나 뭐가 우려되는 상황이냐면 잠재성장률의 하락으로 인해 새로운 산업을 통해 새로운 신성장동력을 마련해야 한다는 것이다. 금융은 금융, 경제는 경제 그런 것이다. 사법권이 어떻게 훼손되는지 국민들이 봤기 때문이 그런 시선을 가질 수도 있었다고 본다. 그러나 지금은 오히려 더 엄중하게 수사받고 재판받고 하는 것이 현실이지 않나.시스템반도체 가운데서 삼성이 투자하기로 했던 파운더리 반도체 부분은 다른 기업이 설계한 반도체를 주문받아서 생산하는 것이기 때문에 대규모 생산설비가 필요하다. 그런 분야는 대기업이 잘할 수 있지만, 설계를 하는 팹리스는 생산설비를 필요 없기에 오히려 중소기업에 적합한 업종이다. 그런 지원들이 필요하고, 바이오 헬스 분야도 오히려 중소기업들이 약전하고 있는 분야다. 미래형 자동차도 우리가 대기업 자동차 회사들만 생각하는데 실제로 경차 전기차, 상용차 전기차 이런 부분들은 중소기업들이 오히려 많이 하고 있다. -노동현안도 많긴 한데 주52시간 근로제 시행과 맞물려서 버스 노조가 총파업 찬반투표를 실시를 하고 있고, 이 사안도 보면 52시간 문제가 제대로 관리되지 못하면 불필요한 논란을 키울 수 있는 사안을 다분히 내포하고 있는 사안 같다. 어떤 대비책이 있어야 될 것 같다.버스 파업 부분은 특례에서 버스도 주 52시간을 준수하게끔 되어 있는데 대부분의 지자체에서는 이미 공영제, 또는 준공영제를 통해서 이미 주52시간이 시행되고 있다. 다만 경기도의 경우 시외버스의 경우에 주 52시간이 되지 않고 있는데, 이게 주52시간을 하려면 새로운 버스기사들의 채용이 필요하고, 그러자면 요금의 인상도 필요하기 때문에 그 부분이 진통을 겪고 있는 것이다. 이번 주 52시간 근무제가 많이 걱정됐지만 잘 안착이 된 것처럼 그렇게 될 것이라고 기대한다.\n",
      "==============================================\n"
     ]
    },
    {
     "name": "stdout",
     "output_type": "stream",
     "text": [
      "902 281\n",
      "936 307\n",
      "936 351\n",
      "928 366\n",
      "1014 342\n",
      "1017 315\n",
      "1008 398\n",
      "940 313\n",
      "279 360\n",
      "\n",
      "===============  long summary2  ================\n",
      "문재인 대통령은 9일 오후 청와대 상춘재에서 진행된 KBS '문재인 정부 2년 특집 대담, 대통령에게 묻는다'에 출연해, 정부 출범 2주년 소회 및 각 분야별 입장을 밝혔다. 문재인 대통령은 이날 대담은 예정된 시간을 6분 넘겨 86분간 생중계로 진행됐다. 촛불민심이 명하는 대로 국정농단, 그리고 반칙과 특권이라는 적폐시대를 마감하고, 새로운 시대, 공정하고 정의로운 대한민국의 길을 향해서 걸어가고 있다. 그러나 한편으로 또 아쉬운 부분들도 많이 있고, 또 보완해야 할 과제들도 많이 있다고 느낀다.제가 분명하게 검찰에 말하고 싶은 것은 공수처도 수사권 조정법안도 그렇고, 지금까지 검찰이 사정기구로 본연의 역할을 다하지 못했기 때문에 개혁의 방안으로 논의가 되는 것이다. 그래서 검찰은 개혁의 당사자이고, 말하자면 이제는 셀프개혁으로서는 안 된다는 게 국민들의 보편적인 생각이기 때문에 그런 방안들이 마련되고 있는 것이어서 검찰이 보다 좀 겸허한 자세를 가져야한다고 생각한다. 민정수석이 가장 중요한 정부에서의 책임들이 인사검증과 권력기관들의 개혁이 제일 중요한 임무 가운데 하나다. 청와대 검증부터 청문회까지 전체가 하나의 검증 과정인 것이다.인사청문회가 정쟁쟁의 장으로 운영된다면 좋은 인사를 발탁하는 장이 아니라 좋은 인사를 막는 장이 될 것이다. 총리, 장관들이 정치에 나선다면 그것은 전적으로 본인 의사에 달려 있는 것이고, 대통령으로서 바라고 싶은 것은 선거에 나갈 생각이 있다면 선거시기에 임박해서가 아니라 충분한 여유를 두고 의사를 밝히는 것이 바람직하겠다고 생각하고 있다. 또한 요즘 유권자들의 요구도, 이제는 낙하산으로 공천 받아 내려오는 게 아니라 지역에서 지역주민과 밀착되길 바라기 때문에 그것이 유권자들 요구라고도 생각한다. 그뿐만 아니라 요즘 유권자들 역시 낙하산으로 공천을 받아 내려오는 것이 아니라 지역에서 지역민과 밀착되기를 바라기 때문이다.북한이 며칠 전에 여러 종류의 단거리 발사체를 발사한 데 이어서 오늘은 일단 단거리 미사일로 추정되는 그런 발사를 했다. 유엔의 안보리 결의는 북한의 중장거리 탄도 미사일을 겨냥한 것이다. 그러나 유엔안보리 결의 속에는 탄도미사일을 하지 말라는 그런 표현이 있기 때문에 비록 단거리라 할지라도 그것이 탄도미사일일 경우에는 유엔 안보리 결에 위반될 소지도 없지 않다고 생각한다. 북한이 지금까지 북한 자신의 매체를 통해 밝혀온 여러 가지 보도내용을 종합해보면 북한은 하노이 제2차 북미정상회담이 합의를 이루지 못하고 끝난데 대해서 상당히 불만을 가지고 있는 것 같다. 그래서 미국이나 한국 양측에 대해서 일종의 시위성 성격이 있지 않은가 판단을 하고 있다.북한의 의도가 어디에 있건 북한의 행동이 자칫 잘못하면 협상과 대화의 국면을 어렵게 만들 수 있다는 점은 우선 우리가 경고를 하는 바이다. 그래서 북한의 식량지원 문제에 대해서 저로서는 가장 바람직한 것은 지금 패스트트랙 문제 때문에 여야 간 정국이 교착상태에 빠져 있는데 그 문제는 별도로 해결하더라도 북한에 대한 식량지원에 대해서는 대통령과 여야가 함께 모여서 협의를 하는 것이 바람직하지 않을까 라는 생각을 하고 있다. 양국이 비핵화 대화의 최종목표에 대해서는 완전히 일치를 보고 있지만 어느 순간에 한꺼번에 교환될 수가 없기 때문에 이루는 과정이나 프로세스 등 로드맵이 필요한데 의견이 맞지 않는 것이다.과거사 문제가 양국관계발전에 발목을 잡고 있는데 그것은 결코 한국정부가 만들어 내고 있는 문제가 아니다. 과거에 엄밀히 존재했던 불행했던 과거때문에 비록 한일 기본협정이 체결되긴 했지만 인권의식들이 높아지고 국제규범이 높아지고 하면서 여전히 조금씩 상처들이 굳어져 나오는 것이다. 이 문제들로 인해서 미래지향적인 협력관계가 손상되지 않도록 양국정부가 잘 지혜를 모을 필요가 있는 것이다.대통령께서 실행해 오신 경제정책의 사람들이 가장 많이 기억이 남는 단어를 꼽으라고 한다면 소득주도 성장이 아닐까 싶다. 최저임금 인상이 소득주도 성장의 단 하나의 정책은 아니다.올해 최저임금은 작년 최저임금 인상에 비해서 이미 속도조절이 되었다고 생각한다. 그렇지만 2년에 걸쳐서 최저임금이 가파르게 인상이 됐고, 그것이 긍정적인 작용이 많은 반면, 한편으로는 부담을 주는 부분들도 적지 않다고 판단한다면 최저임금인상위원회가 그런 점을 감안해서 우리 사회가 우리 경제가 수용할 수 있는 적정선으로 판단하지 않을까 그렇게 기대를 하고 있다. 최저임금의 인상으로 인해서 생기는 여러 가지 부작용의 문제조차도 사실은 좀 더 긴 시간을 두고 판단해 볼 필요가 있는 것인데, 당장 어려움을 겪고 있는 분들이 많이 있기 때문에 그 해결에 우리가 좀 더 많은 노력을 해야 된다고 생각한다. 어르신들을 위한 나쁜 일자리라도 일자리가 없는 것보다는 낫기 때문에 그런 노력을 계속해 나가야 한다고 생각한다.잠재성장률이 점점 낮아지고 있는데, 기존의 메모리 반도체 분야 이후로는 말하자면 새로운 신성장동력 같은 것들이 마련되지 않고 있다는 것이다. 그래서 새로운 산업을 통한 새로운 신 성장동력을 마련하는 것이 시급하다고 보는 것이다. -노동현안도 많긴 한데 주52시간 근로제 시행과 맞물려서 버스 노조가 총파업 찬반투표를 실시를 하고 있고, 이 사안도 보면 52시간 문제가 제대로 관리되지 못하면 불필요한 논란을 키울 수 있는 사안을 다분히 내포하고 있는 사안 같다. -잠재성장률의 하락으로 인해 새로운 산업을 통해 새로운 신 경제성장동력을 마련해야 한다는 것이다.버스 파업 부분은 특례에서 버스도 주 52시간을 준수하게끔 되어 있는데 대부분의 지자체에서는 이미 공영제, 또는 준공영제를 통해서 주52시간이 시행되고 있다. 이번 주 52시간 근무제가 많이 걱정됐지만 잘 안착이 된 것처럼 그렇게 될 것이라고 기대한다. 이번 주에 주 52시간이 잘 안착을 하게 될 것으로 기대한다. 버스 파업 부분 특례에서 특례에서 버스의 주 52시간은 준수하게 되어 있는데, 대부분의 지자체에서 이미 공영제와 준공영제로 이미 주52시간 시행되고 있고, 경기도의 경우 시외버스의 경우 주 52시간에 해당하지 않고 있는데, 새로운 버스기사들의 채용이 필요하고, 요금의 인상도 필요하기 때문에 그 부분이 진통을 겪고 있는 것이다.\n",
      "===============================================\n",
      "997 396\n",
      "991 338\n",
      "1018 317\n",
      "\n",
      "===============  long summary2  ================\n",
      "문재인 대통령은 9일 오후 청와대 상춘재에서 진행된 KBS '문재인 정부 2년 특집 대담, 대통령에게 묻는다'에 출연해, 정부 출범 2주년 소회 및 각 분야별 입장을 밝혔다. 문재인 대통령은 이날 대담은 예정된 시간을 6분 넘겨 86분간 생중계로 진행됐다. 촛불민심이 명하는 대로 국정농단, 그리고 반칙과 특권이라는 적폐시대를 마감하고, 새로운 시대, 공정하고 정의로운 대한민국의 길을 향해서 걸어가고 있다. 그러나 한편으로 또 아쉬운 부분들도 많이 있고, 또 보완해야 할 과제들도 많이 있다고 느낀다. 그래서 검찰은 개혁의 당사자이고, 말하자면 이제는 셀프개혁으로서는 안 된다는 게 국민들의 보편적인 생각이기 때문에 그런 방안들이 마련되고 있는 것이어서 검찰이 보다 좀 겸허한 자세를 가져야한다고 생각한다.북한의 의도가 어디에 있건 북한의 행동이 자칫 잘못하면 협상과 대화의 국면을 어렵게 만들 수 있다는 점은 우선 우리가 경고를 하는 바이다. 북한의 식량지원 문제에 대해서 저로서는 가장 바람직한 것은 지금 패스트트랙 문제 때문에 여야 간 정국이 교착상태에 빠져 있는데 그 문제는 별도로 해결하더라도 북한에 대한 식량지원에 대해서는 대통령과 여야가 함께 모여서 협의를 하는 것이 바람직하지 않을까 라는 생각을 하고 있다. 양국이 비핵화 대화의 최종목표에 대해서는 완전히 일치를 보고 있지만 어느 순간에 한꺼번에 교환될 수가 없기 때문에 이루는 과정이나 프로세스 등 로드맵이 필요한데 의견이 맞지 않는 것이다.잠재성장률이 점점 낮아지고 있는데, 기존의 메모리 반도체 분야 이후로는 말하자면 새로운 신성장동력 같은 것들이 마련되지 않고 있다는 것이다. 그래서 새로운 산업을 통한 새로운 신 성장동력을 마련하는 것이 시급하다고 보는 것이다. 버스 파업 부분 특례에서 특례에서 버스의 주 52시간은 준수하게 되어 있는데, 대부분의 지자체에서는 이미 공영제, 또는 준공영제를 통해서 주52시간이 시행되고 있고, 경기도의 경우 시외버스의 경우 주 52시간에 해당하지 않고 있는데, 새로운 버스기사들의 채용이 필요하고, 요금의 인상도 필요하기 때문에 그 부분이 진통을 겪고 있는 것이다.\n",
      "===============================================\n",
      "1043 311\n",
      "\n",
      "===============  long summary2  ================\n",
      "문재인 대통령은 9일 오후 청와대 상춘재에서 진행된 KBS '문재인 정부 2년 특집 대담, 대통령에게 묻는다'에 출연해, 정부 출범 2주년 소회 및 각 분야별 입장을 밝혔다. 문재인 대통령은 이날 대담은 예정된 시간을 6분 넘겨 86분간 생중계로 진행됐다. 그러나 한편으로 또 아쉬운 부분들도 많이 있고, 또 보완해야 할 과제들도 많이 있다고 느낀다. 그래서 검찰은 개혁의 당사자이고, 말하자면 이제는 셀프개혁으로서는 안 된다는 게 국민들의 보편적인 생각이기 때문에 그런 방안들이 마련되고 있는 것이어서 검찰이 보다 좀 겸허한 자세를 가져야한다고 생각한다.\n",
      "===============================================\n",
      "time to summarize long sentence is 65.74836 sec\n"
     ]
    }
   ],
   "source": [
    "run_summarize(df_sorted.iloc[0].text, tokenizer, model, device, chunk=1024, verify=False)"
   ]
  },
  {
   "cell_type": "code",
   "execution_count": 92,
   "id": "e30d11eb",
   "metadata": {},
   "outputs": [
    {
     "name": "stdout",
     "output_type": "stream",
     "text": [
      "============ original ===============\n",
      "[전문] 문재인 정부 2년 특집 대담, 대통령에게 묻는다 문재인 대통령은 9일 오후 청와대 상춘재에서 진행된 KBS '문재인 정부 2년 특집 대담, 대통령에게 묻는다'에 출연해, 정부 출범 2주년 소회 및 각 분야별 입장을 밝혔다. 이날 대담은 예정된 시간을 6분 넘겨 86분간 생중계로 진행됐다. 다음은 일문일답. ◆취임 2주년 소회 -2년 전 오늘 이 시간 기억하실지 모르겠다. 나라다운 나라를 만들어 달라, 이런 요구 속에서 문재인 정권이 출범을 했다. 아무래도 첫 질문이니까 2년 동안 소회를 여쭙지 않을 수 없을 것 같다. ▷먼저 국민들께 감사인사부터 드려야겠다. 우리 국민들께서는 촛불혁명이라는 아주 성숙된 방법으로 정권을 교체하고, 저를 대통령으로 선택해 주셨다. 그래서 문재인 정부는 촛불정신 위에 서 있다. 촛불민심이 명하는 대로 국정농단, 그리고 반칙과 특권이라는 적폐시대를 마감하고, 새로운 시대, 공정하고 정의로운 대한민국의 길을 향해서 걸어가고 있다. 얼마나 기대에 부응했는지 잘 모르겠다. 많은 성과들이 있었다고 생각한다. 그러나 한편으로 또 아쉬운 부분들도 많이 있고, 또 보완해야 할 과제들도 많이 있다고 느낀다. 앞으로 그 점을 더 집중해서 국민들이 바라는 그런 나라를 만들도록 노력하겠다. ◆국내 정치 -국내 정치 현안 문제로 들어가야 할 것 같다. 조금 전에 대북 현안들, 그리고 식량지원문제를 화두로 한 번 만나보자 제안을 공식적으로 하신 거라 봐야 하나. ▷이미 남북 간 정상회담을 가져야겠다라는 것은 제가 공개적으로 이미 발언을 했다. 실제로 북한하고 실무적인 대화에 들어가겠다는 뜻을 말씀 드렸다. -제가 여쭤본 것은 국내 정치권의…. ▷그렇다. 지금 패스트트랙 문제로 여야 정치권이 이렇게 대치하고 있는 것은 정치 성격상 우리가 이해할 수 있는 것이지만, 국민들 입장에서 볼 때는 참으로 답답한 국면이 아닐 수 없다. 처리해야 할 민생법안도 많이 있고, 추경 문제도 논의해야 되고, 그래서 이런 국면에서 필요한 것이 지난번에 합의했던 여야정 상설국정협의체를 가동하는 것이라고 생각한다. 우선적으로 방금 현안으로 대두된 문제를 논의될 수 있지 않을까 하는 것이다. -11월에 가동되고 지금 계속 이어지지 않고 있다. 책임이 어디에 있느냐를 따질 수 있겠지만, 사실 국정운영의 총책임자로서 대통령께서 야당과 관계를 이렇게 풀지 않고 오랜 시간 끌고 가는 것은 결과론적으로 국정운영의 부담으로 돌아오는 거 아닐까. 원로들 주문도 대통령이 먼저 나서 풀어라는 주문이 있었던 것으로 알고 있다. ▷그 점은 제가 동의하지 않을 수 없는데, 그러나 돌이켜보자면 제가 2년 전 5월10일, 내일이죠. 그때 약식으로 취임식을 하며 취임식 이전에 야당 당사들 전부 방문했다. 그리고 역대 어느 대통령보다 자주 야당 대표들과 원내대표들을 만나 왔다. 그러나 그런 식으로 약속을 해서 만나는 것이 정국에 따라서 원활하지 않을 수 있기 때문에, 아예 여야정 상설국정협의체를 분기에 한 번씩 상황에 상관 없이 하기로 합의했는데, 그것이 지난 3월이었다. 그 약속이 지켜지지 않은 것이다. 지금이라도 그 약속을 지키는 모습을 보이자고 말하는 것이다. 어쨋든 노력을 하더라도 손바닥이 마주쳐야 소리가 나는 것이기 때문에 저의 제안에 대해 야당 측에서 좀 성의있는(답변이 나오길 바란다). -야당 입장에서 보면 여러 현안들이, 야당이라면 제1야당 얘기를 안 할 수 없는데, 자유한국당 입장에서 보면 청와대가 주도해서 여당이 끌어가는 것으로 해서 야당의 의견을 전혀 반영하지 않고 정국을 끌어가고 있다는 판단을 하는 것이고, 그렇기 때문에 대통령께 독재자라고 얘기하고 있는 것 아니겠나. 독재자라는 말을 들었을 때 어떤 느낌이었나. ▷우선 패스트트랙이란 성격이 말하자면, 다수 의석을 가진 측에서 독주하지 못하게 하면서 야당은 물리적인 저지를 하지 않기로 하고, 그 해법으로 패스트트랙라는 해법을 마련한 것이다. 그래서 그 해법을 선택한 것을 가지고 독재라 하는 것은 정말 조금 맞지 않는 얘기란 말씀을 드린다. 그야말로 국회선진화법의 혜택을 많이 누려왔는데 국회선진화법이 정해놓은 방법을 부정해선 안 되는 것이다. 게다가 정말 촛불민심에 의해 탄생한 정부가, 지금 말하자면 독재, 그것도 그냥 독재라 하면 또 설득력이 떨어질 수 있으니 색깔론을 더해 좌파독재로 규정짓고 투쟁하는 것을 보면 참 뭐라 말씀 드려야 할지 모르겠다. -그렇게 부르지만 만나셔야 될 상대라고 생각하시죠. ▷일단 그렇게 조금 극단의 표현을 쓰긴 했지만 그것도 다 하나의 정치적인 행위라고 본다면 여야 간의 정치적 대립은 늘상 있어온 것이고, 그리고 또 이제라도 한 페이지 넘기고 다시 새로운 대화를 통해서 새로운 해법을 찾아야 한다고 본 것이다. ◆적폐청산 -대야관계와 협치문제 질문을 드리고 있는데, 이 질문을 안할 수 없다. 원로들 만나셨을 때 이렇게 알려졌는데, 선 적폐청산 후 협치, 이런 취지로 말한 것으로 전달됐다. 전달이 잘못된 것인지 아니면 아직까지 적폐청산이 부족한 상태라서 이것이 먼저 정리돼야 그 다음에 또 다른 관계설정이 가능하다고 판단하는 것인지 ▷우선 그렇게 말한 사실이 없고. 그 회동에서 오간 대화에서는 우리 대변인이 잘 정리해서 발표를 했기 때문에 제가 KBS 보도를 보지는 못했으나, 제가 본 보도들은 제 발언내용을 있는 그대로 내보냈다. 그런데 말하자면 헤드라인이나 자막을 그런식으로 뽑은 것이다. 그러고 난 이후에는 그 자막, 헤드라인을 근거로 이런저런 비판을 하는 좀 황당한 일이 벌어지고 있다. 제가 말씀 드린 취지는 원로들의 말씀이 아니라 우리 사회의, 또 일각에서는 이제 적폐수사는 그만 끝내고 협치, 통합, 이런 것으로 나아가자는 말씀들이 있어서 그에 대한 제 견해를 말씀드린 것이다. 우선 적폐수사 재판은 우리 정부가 시작한 게 아니라 앞의 정부에서 시작된 일이고, 우리 정부는 기획하거나 관여하지 않고 있다. 살아서 움직이는 수사를 정부가 통제할 수 없고, 통제해서도 안 된다가 생각이다. 개인적인 생각을 얘기하자면, 국정농단이나 사법농단은 그게 사실이라면 그것은 대단히 심각한 반헌법적, 헌법파괴적인 일이기 때문에 그 일을 타협하기는 어려운 일이다. 사실 여부를 빨리 규명하고, 그 다음에 청산하면서 새로운 세대로 나아가자 라는 기본적 방향에 대해서 서로 간의 공감대가 있다면 협치가 수월할텐데, 사법농단이나 국정농단을 바라보는 시각 자체를 바라보는 기본 입장 자체가 달라서 협치에 어려움이 있는 것 같다. ◆고위공직자범죄수사처 -패스트트랙 국면을 이야기하는 와중에 나올 수밖에 없는 의제가 공수처와 검경수사권 조정안이다. 검경수사권 조정안은 문무일 검찰총장이 민주주의에 반하는 부분이 있다고 했다. 이 성격을 항명으로 봐야 하나. 아니면 문제제기 수준이인가. 어떻게 보시는지. 작년에 법무부장관과 행정안전부장관은 합의를 했는데. ▷그래서 패스트트랙이라는 게 법안이 통과된 것이 아니다. 법안을 상정시키는 것이다. 앞으로 상임위에서 논의하게 되고, 국회 본회의에서 논의하게 되기 때문에 그것이 통과되기 위해선 국회에서 또 두루 여론을 수렴하는 절차를 아마 거칠 것이라고 본다. 검찰도 법률 전문집단이고, 또 수사기구이기 때문에 충분히 자신들의 의견을 밝힐수 있다고 본다. -밝히는 방식이 공개적인 것이. ▷그렇게 이해하고 있지만, 제가 분명하게 검찰에 대해 말하고 싶은 것은 공수처도 수사권 조정법안도 그렇고, 지금까지 검찰이 사정기구로 본연의 역할을 다하지 못했기 때문에 개혁의 방안으로 논의가 되는 것이다. 검찰 스스로 개혁을 할 수 있는 많은 기회들을 지금까지 놓쳐 왔다. 그래서 검찰은 개혁의 당사자이고, 말하자면 이제는 셀프개혁으로서는 안 된다는 게 국민들의 보편적인 생각이기 때문에 그런 방안들이 마련되고 있는 것이어서 검찰이 보다 좀 겸허한 자세를 가져야한다고 생각한다. ◆조국 민정수석 거취 -검경수사권 조정과 공수처법 얘기가 나온 김에 조국 민정수석 얘기를 여쭤본다. 두 가지 사법개혁안이 국회 패스트트랙 절차에 들어가게 됐고, 그것이 의미하는 것은 입법절차로 넘어갔다는 것이다. 그 와중에 정부 부처가 의견 개진을 할 수 있지만, 정해진 과정에 따르면 되고, 조 수석의 민정수석으로서의 소임은 일정 부분 정리된 것으로 이해해도 되나. ▷조국 수석이 정치에 나갈 것이냐는 거취를 말한다면, 저는 조국 수석에게 정치를 권유하거나 할 생각은 전혀 없다. 그 여부는 전적으로 본인이 판단할 문제다. 민정수석의 가장 중요한 우리 정부에서의 책무가 인사검증 뿐만 아니라 권력기관들에 대한 개혁이 가장 중요한 임무 중 하나다. 지금 정부 차원에서 할 수 있는 개혁들은 상당히 다 했다고 생각한다. 이제 법제화 하는 과정이 남아 있는데, 그런 작업까지 성공적으로 마쳐주길 바라고 있다. -법제화까지라면 조금 더 (조 수석이) 청와대 생활을 해야 된다는 말씀인지. ▷일단 아직은 패스트트랙에 올라가긴 했지만, 상임위 논의도 남아있고, 많은 절차들이 남아 있을 뿐 아니라 그 방안도 지금 확정된 게 아니다. 예를 들면 지난번 법무부장관과 행안부장관 사이에 공수처 조정에 대해 서로 간 합의가 이뤄졌는데, 패스트트랙에 합의하기 위해 일부 더해지거나 수정된 부분도 있었다. 특히 그 가운데 검찰의 피의자 신문조서에 대해 증거인정을 하지 않는다는 것은 검찰로서는 우려 표명할 만한 것이라고 생각한다. -반면 수사 받는 국민 입장에선 수월해진다고 볼 수 있고, 검찰 입장에서도 충분히 지금까지 가능한 논거라고 제기돼 왔던 부분 아닌가. ▷공판중심주의 강화 측면에서는 필요하지만, 우리 사법제체가 그 단계까지 충분히 준비돼 있느냐는 부분은 더 논의가 필요하다. 거기에 대해서는 법원 측 의견도 들어볼 필요가 있다고 생각한다. 다양한 의견 수렴은 필요하다고 생각한다. ◆인사검증 및 인사청문회 -조금 전에 조국 수석을 말하면서, 인사검증 문제를 꺼내셨다. 지금까지 청와대의 인사검증, 인사와 검증 양쪽 다 만족스럽다고 보시나. 국민들은 낮은 점수를 주는 분야다. ▷우선 인사실패다, 또는 심하게는 인사참사라고 평하는 부분은 저는 동의하지 않는다. 그 이유는 지금 이낙연 총리를 비롯해서 장관님들이 잘하고 있지 않는가. 지금까지 문재인 정부가 어느 정도 해왔다면 그것은 대통령이 혼자 잘한 것이 아니라 내각이 잘해준 것이라고 생각한다. 임명된 장관들이 의무를 제대로 못한다면 그것이야 말로 인사실패인데, 잘하고 있다면 인사실패일 수 없는 것이다. 심지어 인사청문보고서가 채택되지 않은 채 임명된 장관들도 좋은 평을 받는 분들이 많다. 그러면 청와대 추천이 문제이냐, 인사청문회가 문제이냐. 인사실패라 부른 부분은 검증에 있어서 국민들 눈높이에 맞지 않는 부분이 때로 있었다는 지적인 것 같고, 그 점은 저도 겸허히 인정한다. 보다 검증을 더 강화해야겠다는 다짐을 하고 있고, 여러 노력을 하고 있다. -예를 들어 임명은 됐지만 이미선 헌법재판관의 경우는 35억 주식투자 논란이 있었고, 국토부장관 후보자는 다주택 하지 말라고 하면서 본인이 다주택을 했던 것들이 인사청문회 과정에서 드러났다. 국민들이 어떤 기준이 맞냐, 검증이 잘못된 것인지 기준이 잘못된 것인지, 판단이 잘못된 것인지를 묻는다. ▷이렇게 봐주시면 좋겠다. 청와대 검증부터 청문회까지 전체가 하나의 검증 과정인 것이다. 청와대 검증이 완결적일 수는 없다. 소수 인원이 짧은 기간에 공적자료에 의존해 검증을 완벽히 할 수 있나. 그러니 청와대 이후 언론이 검증하고 인사청문회 검증을 하는 것이다. 전체 과정에서 검증되는 것을 보고 인사권자인 대통령이 최종 판단해서 임명하거나 하지 않거나 하게 되는 것이기 때문에 청와대 검증에서 밝혀내지 못한 부분 있었다거나, 또는 국민들 눈높이에 맞지 않다고 해서 그 자체로 검증의 실패다, 책임져야 한다고 말할 수는 없다는 것이다. 다만, 우리가 국민 눈높이에 맞는 검증을 할 수 있도록 계속해서 노력해 나가겠다는 것이다. 또 하나 말하고 싶은 것은 청와대가 그런 흠결이 있음에도 불구하고 발탁하려는 것은 또 한편으로는 그 분의 능력이나 실력을 평가해서 발탁하고 싶은 분이 있기 때문이다. -그런데 그 부분이 제대로 설명이 되지 않았다. ▷함께 결합해서 적절한 분인지 아닌지 판단해야 하는데, 지금 인사청문회 과정이 너무나 흠결만 가지고 정쟁을 벌이기 때문에, 아주 능력 있는 분들 조차 그런 분들 가운데서도 별로 흠결이 없는 분들 조차 우선 청문회 자리에 서기 싫어서, 또 가족들이 반대해서, 가족들이 도마 위에 오르기 싫어해서 고사한다. 지금처럼 청문회가 정쟁쟁의 장으로 운영된다면 좋은 인사를 발탁하는 장이 아니라 좋은 인사를 막는 장이 될 것이다. -그렇다면 제도 개선을 어떻게 할 지 고민할 시점이다. 대통령께서 민정수석과 시민수석을 하실 당시에도 인사 문제가 생겨서 장관 후보자에 대한 인사청문제도가 그 당시 도입됐고, 십수년 정도 우리 사회가 인사청문회 문화를 겪어온 셈이다. 그렇다면 대통령께서 그렇게 판단한다면, 청와대가 갖고 있는 후보자 자료를 국회에 제출하고, 조금 내밀한 자료까지도. 그러고 나서 2단계로 나눠서 신상 같은 것은 비공개로 하고, 나머지 업무역량과 정책역량은 공개로 하는 식의 제도를 바꿔보자는 생각은 하고 계신지. ▷그런 생각도 있다. -그런 혜안을 먼저 내놓는 것이 국민 설득 절차일텐데, 지금 청와대의 모습을 보면 뭐가 문제냐라는 식의 해명이 있었고, 흠결에도 이사람을 왜 쓰고 싶은지 국민들의 이해를 구하는 설명도 상당히 부족했다고 본다. 그렇기 때문에 유능한 게 맞는지, 솔직한 게 맞는지, 이런 비판을 받았던 것 아니냐. ▷첫번째, 제도화 부분은 제가 이미 제안하고 있다. 미국식으로 인사청문 절차를 두 단계로 나눠서 첫번째 도덕성 검증 과정은 비공개 적으로 하고, 그 대신 청와대와 국회, 야당이 모든 정보를 서로 공유하는 것이다. 그 정보를 다 모아 이 분이 공직자로 자격이 있나 없나 먼저 판단하고 그것을 통과하면 능력과 정책 역량을 가지고 검증하는, 그것은 공개적으로 하는 것이다. 그렇게 하는 것이 바람직하다고 생각하고 있고, 제안을 하고 있다. 그렇게 된다면 청와대가 가진 모든 자료를 우리도 제출할 뿐 아니라, 반대로 야당 자료도 우리가 함께 판단할 수 있을 것이다.청와대가 후보자를 발표하며 이 분이 이러한 흠결이 있지만 이런 점을 높이 평가해 발탁하고자 한다고 먼저 추천단계에서 국민들께 밝혀 드리고 싶다. 모든 후보자를 다 그렇게 할 필요는 없으나 적어도 문제가 될 만하다고 하는 분들은 그렇게 하면 좋겠다. 사실 과거 제가 민정수석을 할 때 그렇게 한 적도 있다. 저는 우리 인사팀들에게도 그렇게 요구하고 있는데 초기에 그렇게 한 번 했더니, 방금 균형 있게 이 분의 흠결과 정책능력을 비교해서 보는 것이 아니라 오히려 본인의 흠결에 대해 인사청문회에서에서 소명할 수 있는 기회 조차 주지 않고 논란을 더 앞당겨서 불러 일으키고, 거꾸로 청와대에서는 흠결에 대해 물타기하는 것이라고 공격 받고, 이런 일이 있어서 그 뒤에 그렇게 못하게 된 것 같다. 그 점에 대해 나름 여전히 필요하다고 생각하고 검토해 보겠다. ◆이명박·박근혜 전 대통령 사면 문제 -예정된 시간이 거의 다 됐다. 몇 가지 짧게라도 여쭙고 싶은데 예민한 질문일 수 있다. 보수진영에서 박근혜 전 대통령 사면 요구를 계속 하고 있다. 물론 반대하는 목소리도 상당하다. 대통령께선 법률가이시기 때문에 법적 판단이 있으시리라고 본다. 아직 대법원 판결 전이고, 대통령의 사면권을 제한적으로 쓰겠다고 하셨고, 그렇지만 대통령으로서 판단이 조금 다를 수 있을 것이라고 본다. ▷일단 박 전 대통령과 이명박 전 대통령 두 전임 대통령께서 지금 처해 있는 상황이, 한 분은 지금 보석 상태이시지만 여전히 재판을 받고 있고, 아직 한 분은 수감 중이시다. 이런 상황에 대해서는 정말 가슴이 아프다. 아마 누구보다도 저의 전임자 분들이기 때문에 제가 가장 가슴도 아프고 부담도 클 것이라고 생각한다. 그러나 답변은 아까 말씀하신 대로 아직 재판이 확정되지 않은 상황이기 때문에 그런 상황 속에서 사면을 말하기는 어렵다. -대법원 판결이 나오면 이후 생각해 보겠다는 것인가. ▷일단 재판 확정 이전에 사면을 바라는 것 자체가 그것은 어려운 일이다. ◆총선 정국 및 개각 -내년 총선이 있다. 총리를 포함해 많은 분들, 일부 장관들이 상당히 장수하는 분들이 있다. 총선이 있으면 당에서 요구가 있을 수도 있고, 개각 시점을 생각하시는 게 있는가. ▷특별히 개각 시기를 생각한 것은 없다. 다만 총리를 비롯해 장관들이 정치에 나선다면 그것은 전적으로 본인 의사에 달려 있는 것이고, 대통령으로서 바라고 싶은 것은 선거에 나갈 생각이 있다면 선거시기에 임박해서가 아니라 충분한 여유를 두고 의사를 밝히는 것이 바람직하겠다고 생각하고 있다. 그것은 선거에 대한 정부의 공정성 부분 면에서도 필요한 일이라고 본다. 뿐만 아니라 요즘 유권자들의 요구도, 이제는 낙하산으로 공천 받아 내려오는 게 아니라 지역에서 지역주민과 밀착되길 바라기 때문에 그것이 유권자들 요구라고도 생각한다. ◆3년 뒤 대한민국 모습 -마지막 질문이다. 며칠 전 외신에 '평범한 국민들이 위대함을 이뤘다'는 취지의 기고문을 낸 것을 인상적으로 읽었다. 평범한 국민들에게 앞으로 3년 후는 어떤 모습일 거라고 마지막으로 말씀 하신다면. ▷우선은 요즘 히어로, 영웅을 다루는 영화들이 인기를 끄는 것 같다. 역사를 봐도 영웅들이 역사를 바꿔온 것처럼 느껴지기도 한다. 그러나 제가 말씀드리고 싶은 것은 그렇지 않다는 것이다. 한국이 증명하고 있다. 3·1 독립운동은 주도자들이 이끈 것이 아니라 평범한 민중들이 이끌었다. 4·19혁명과 부마민주항쟁, 5·18 광주민주화운동과 6월항쟁, 그리고 또 지난번 촛불혁명조차도 전부 평범한 시민들의 선한 의지가 모여서 이뤄낸 것이지 않느냐. 평범한 시민들의 선한 의지가 정권교체를 이뤄냈고, 그 힘에 의해 문재인 정부가 탄생한 것이기 때문에 앞으로도 임기를 마칠 때까지 우리가 촛불 정신을 지켜내는 데에 온 힘을 다하겠다는 말씀 드리고 싶다. 보다 구체적으로는 지금까지 우리 경제가 강자의 경제였다면, 이제는 공정한 경제로. 그 다음에는 반칙과 특권이 난무하는 시대였다면, 이제는 역시 그런 것이 없는 공정한 사회로. 양극화가 극심한 사회에서 이제는 함께 잘사는 그런 시대, 경제로. 남북관계도 대립과 전쟁의 시대에서 평화의 시대, 넘어서 협력의 시대로, 나아가선 평화경제의 시대로 발전시켜 나가야 겠다는 것이 저의 목표다. 물론 우리 정부가 모든 일을 다 이룰 수 있다고 생각하지 않는다. 그러나 확실히 임기가 마칠 때 쯤이면 그런 시대가 왔다는 것을 피부로 느낄 수 있도록 최선을 다하겠다. ◆북한 단거리 발사체 -아무래도 어떤 질문으로 시작을 해야 되나 고민을 했었는데 조금 전에 생긴 현안부터 여쭈울 수밖에 없을 것 같다. 4시반쯤부터 해서 북한이 발사체 두발을 쏘아올렸다. 오늘은 단거리 미사일로 추경이 된다. 보고는 받으셨나. ▷그렇다. 북한이 며칠 전에 여러 종류의 단거리 발사체를 발사한 데 이어서 오늘은 일단 단거리 미사일로 추정되는 그런 발사를 했다. 며칠 전의 발사에 대해서는 신형전술유도무기라고 규정을 했었는데 오늘 단거리 미사일로 추정하는 이유는 며칠 전은 북한이 동해안에서 자신들의 앞바다를 향해서 발사를 했기 때문에 사거리가 비교적 짧았다. 오늘은 평안북도 지역에서 육지를 넘어서 동해안까지 발사를 했기 때문에 두발 중의 한 발은 사거리가 400㎞를 넘는다. 그래서 일단 단거리 미사일로 한미 양국이 함께 추정을 하고 있는 것이다. -그 판단은 한·미양국이 같이 내린 것인가. ▷공조하고 있다. -지난 4일 발사체 최장 거리가 240㎞이었는데 오늘은 보면 사거리 420㎞ 발사체가 있다는 것이지. ▷두발 중의 한발이 그렇게 된 것으로 보고 있다. -1.5배 더 늘어난거고 그렇게 해서 한미양국이 공조를 통해서 '발사체는 단거리 미사일로 추정이 된다' 이렇게 규정했다는 것인가. ▷그렇다. -지난 번 발사체 때는 한·미양국이 전략적 해석이라는 표현도 나왔습니다만 미사일이라는 표현을 쓰는데는 주저하지 않았나. 그런데 사거리가 이렇게 됐다. ▷지난 번에 일단 고도가 낮은 데다가 사거리가 짧았다. 미사일로 단정하기에는 이르다고 보고 계속 한미양국이 분석중에 있는 것이다. 오늘은 고도는 낮았지만 발사고도는 낮았지만 사거리가 길었기 때문에 일단은 단거리 미사일로 추정을 하는 것이다. -면밀한 분석이 있어야 되겠지만 탄도미사일 가능성이 있으면 문제가 예를 들어서 '유엔결의안 위반이다' 이런 해석으로 이끌어갈 수 있는 사안이다. ▷일단 유엔의 안보리 결의는 북한의 중장거리 탄도 미사일을 겨냥한 것이다. 이전에 북한이 단거리 미사일을 발사했을 때는 문제삼은 적이 없었다. 그러나 유엔 안보리 결의 속에는 탄도미사일을 하지 말라는 그런 표현이 있기 때문에 비록 단거리라 할지라도 그것이 탄도미사일일 경우에는 유엔 안보리 결의에 위반될 소지도 없지 않다고 생각한다. -그 부분은 추가적인 분석이 있어야 하는 건가. ▷그렇다. 최종적인 판단은 한미양국이 재원이라든지 종류라든지 궤적이라든지 이런 것을 조금 더 면밀히 분석해서 판단을 하게 될 것이다. 참고로 말씀드리면 지난 번의 발사에 대해서도 유엔안보리 결의 위반여부를 판단 중에 있긴 하지만 일단 미국은 지금까지는 유엔안보리 결의는 위반하지 않은 것으로 그렇게 판단을 내리고 있다. -판단 역시 한미 양국이 같이 공유하는 것인가. ▷공유한다. 한편으로 '남북군사합의에 위반되는 것 아니냐'라는 판단도 필요한데, 지금 남북간에는 서로 무력 사용을 하지 않기로 합의를 한 바 있다. 훈련도 휴전선으로부터 비무장지대로부터 일정한 구역 밖에서만 하기로 합의를 한 바 있는데 지난번이나 이번에 북한의 훈련 발사는 일단 그 구역밖에 있고, 군사합의 이후에도 남북이 기존의 무기체계를 발달시키기 위한 시험발사나 훈련 등은 계속해 오고 있기 때문에 남북 간의 군사합의를 위반한 것은 아니라고 보고있다. 그럼에도 북한의 이런 행위가 거듭된다면 지금 대화와 협상국면을 어렵게 만들 수 있다는 점을 북한측에 경고를 하고 싶다. -북한이 4일하고 오늘, 닷새만에 두차례 도발을 했다. 그 수위는 올라갔다. 현 시점에서 좋은 시그널은 아니고, 북한이 왜 이 시점에서 도발행위를 하는 것이라고 판단할지 의도를 분석하는 게 현재로서는 중요한 포인트일 것 같다. ▷정확한 의도는 알 수 없지만 북한이 지금까지 북한 자신의 매체를 통해 밝혀온 여러 가지 보도내용을 종합해보면 북한은 하노이 제2차 북미정상회담이 합의를 이루지 못하고 끝난데 대해서 상당히 불만을 가지고 있는 것 같다. 그래서 미국이나 한국 양측에 대해서 일종의 시위성 성격이 있지 않은가 판단을 하고 있다. 그와 함께 앞으로 비핵화 대화를 자신들이 원하는 방향으로 이끌고자 하는 압박의 성격도 담겨 있다고 본다. 한편으로는 조속한 회담을 촉구하는 그런 성격도 있지 않을까 생각한다. 어쨌든 북한의 의도가 뭐라고 하더라도 결국 근본적인 해법은 북미양국이 조속히 빨리 앉는 것이라고 생각한다. 북한도 불만이 있다면 조속히 대화의 장에서 불만을 명확하게 그렇게 밝히는 것이 바람직하다고 생각한다. 이런 방식으로 북한의 의도를 여러 가지로 해석하게 만들고 또 우려하게 만들고 자칫 잘못하면 대화와 협상국면의 찻물을 끼얹는 이런 성격을 거듭 하는 것은 결코 바람직하지 않다는 것을 북한측에 다시 한 번 이야기하고 싶다. -4일 단거리 발사체가 발사됐을 때 한미양국이 북한의 의도를 판을 깨려는 것으로 보지는 않는다는 취지로 해석을 하는 기류였다. 그런데 그런 도발에 대해서 단호한 규정을 하지 않아서 북한이 추가 도발성 행위를 한 것이다, 이런 시각도 있을 수 있을 것 같다. ▷일단 북한은 계획된 행동으로 보인다. 그러나 대화의 판을 깨지 않으려고 노력하는 모습도 함께 보여주고 있다. 무언가 과거에는 이런 발사를 하면 굉장히 허세를 부리고 과시하는 그런 행동을 했지만. -허세를 부리고 과시하는 행위는 어떤 걸 말하는지 ▷'ICBM을 완성했다' '고도 미사일을 능력을 갖게 됐다' 이런 식으로 국제사회에 위협적인 표현들을 했었는데, 이번에 북한은 그냥 '신형전술유도 무기를 시험훈련한 것이다' 라고 낮은 로우키로 발표를 했고, 발사를 방향이라든지 발사지역도 미국이나 일본 한국에게 별로 위협이 되지 않는 그런 방식으로 발사를 했기 때문에 북한 측에서는 한편으로 자기 의사를 표현하면서 판이 깨지지 않도록 유의하는 것으로 판단한다. -대통령께서도 4일 도발이 있었고 단거리 발사체 발사가 있었고 오늘 추가발사가 있을 것이라고 예측은 못한 것인가. ▷네 그렇다. 그리고 북한이 이것이 마지막인지 여부도 아직은 판단하기 어렵다. -며칠만에 다시 미사일로 추정되는 단거리 발사체를 쐈기 때문에 예를 들어 추가도발이 있을 수도 있을 가능성은 우리가 배제할 수는 없을 것이다. 그렇다면 '상황을 더 악화시키면 안 된다. 상황관리차원에서 라도 우리가 특사를 보낼 필요성이 있다'는 판단은 안하고 계신 건가. ▷일단 북한의 의도가 어디에 있건 북한의 행동이 자칫 잘못하면 협상과 대화의 국면을 어렵게 만들 수 있다는 점은 우선 우리가 경고를 하는 바이다. 그리고 아까 근본적인 해법이 역시 북미간에 조속히 마주 앉는 것이라고 생각하는데, 그렇게 될 수 있도록 한국 정부는 다각도로 노력을 하고 있다. ◆대북 식량지원 -이런 상황에서 어쨌든 나온 얘기는 대북 식량지원 문제다. 한미정상 간 통화 때 이 문제를 먼저 거론하신걸로 안다. 트럼프 미국 대통령한테. ▷일단 통화의 첫 목적은 지난번 발사에 대해서 어떻게 볼 것인가 라는 것을 서로 공유하기 위한 것이었는데, 그에 대한 트럼프 대통령의 말씀은 좀 고약한 일일 수도 있지만 신경쓰지 않는다. 나는 김정은 위원장을 좋아한다. 김정은 위원장과 좋은 관계에 있다. 나는 김정은 위원장과 대화를 원하고 대화를 통해서 잘 해결될 것이라고 기대하고 있다. 이런 말씀이었다. 그러면서 대화 속도를 내기 위해서 우리가 어떤 일을 해야 할 것인가 라고 저한테 질문도 했기 때문에 그런 과정에서 자연스럽게 대북식량지원 문제가 논의가 된 것이다. -대화를 끌어내기 위해서 대북 식량문제도 어떤 계기가 될 수 있을 것이다라는 판단을 하셨다는 말인가. ▷일단 한국의 입장에서는 우선 대화 카드 이전에 지금 아시는 바와 같이 유엔 세계 식량 계획, 세계식량원조 기구가 정밀하게 조사해서 공식보고서로 발표한 바에 의하면 북한의 식량난이 최근 10년동안 가장 심각하다는 것이다. -성인 1명이 1년에 달걀 2~3개 섭취할 정도다 라는 보고서 내용이다. ▷이미 올해 1월부터 식량 배급량을 많이 줄였고, 앞으로 6월부터 8월까지 춘공기 동안에는 더 줄일 전망이어서 한 40% 정도, 북한인구의 40% 정도가 말하자면 기아에 직면하게 되고 특히 아동과 여성들이 직접적으로 피해를 거둘 것이다 라는 보고도, 그래서 세계각국에게 북한에 대한 식량의 지원을 촉구하는 내용들이었다. -그래서 우리 정부가 선도하는 차원이라는 말인가. ▷그렇다. 그에 비해서 우리 정부가 비축하고 있는 재고미(비축미)가 국내수요를 넘어서서 보관비만 6000억원이 소요되는 실정이다. 그런 형편이기 때문에 북한동포들의 심각한 기아상태를 우리가 외면할 수 없고, 우리가 동포애나 인도주의적인 차원에서라도 우리가 북한의 식량을 지원할 필요가 있다고 생각하는 것이다. 두 번째로는 그것이 대화 교착상태를 조금 열어주는 그런 효과도 있을 것이라고 생각한다. 그점에서 트럼프 대통령은 아주 전폭적으로 지지를 보여줬다. -정부가 구체적으로 방법과 규모 이걸 생각할 수밖에 없을 텐데, 정부 직접 지원 방식이 낫다고 판단을 하고 있나. ▷일단 트럼프 대통령의 전폭적인 지지에 대해서 한번 더 구체적으로 설명을 해 드리면, 왜냐하면 그 부분이 미국 측도 의문을 표시하는 분들도 계시기 때문에 말씀을 드리면, 트럼프 대통령은 전폭적으로 지지를 하면서 자신이 우리 한국의 북한에 대한 인도적 지원에 대해서 절대적으로 축복을 한다는 말을 전해달라. 그리고 그것이 또 굉장히 아주 큰 좋은 일이다라고 자신이 생각한다는 것을 발표해 달라. -그 부분은 충분히 전달됐을 것 같다. ▷그렇게 여러 번 서너번 거듭 해서 부탁을 할 정도였다. 일단 우리가 식량지원을 하게 되면 남북협력기금을 사용해야 되는데, 나중에 사후에 국회에 보고도 해야 한다. 그래서 북한의 식량지원 문제에 대해서 저로서는 가장 바람직한 것은 지금 패스트트랙 문제 때문에 여야 간 정국이 교착상태에 빠져 있는데 그 문제는 별도로 해결하더라도 북한에 대한 식량지원에 대해서는 대통령과 여야가 함께 모여서 협의를 하는 것이 바람직하지 않을까 라는 생각을 하고 있다. -그런데 시점이 국민들이 받아들이기에 단거리 발사체 발사 같은 국면에서 식량지원 문제에 대해서는 혼란스럽거나 아니면 반감이 생길 수도 있을 것 같다. ▷그래서 그렇기 때문에 사실은 식량지원에 대해서 우리가 한미간에 합의를 한 것이 이번 발사 이전인데, 그 이후에 또 다시 발사가 있었기 때문에 이 점에 대해서는 국민들의 공감이나 제재가 필요하다고 생각한다. 여야 정치권 사이에 충분한 논의도 필요하다고 생각한다. 차제에 대통령과 여야 대표들의 회동이 이뤄지면 좋겠다는 생각을 하는 것이다. -이 문제를 예를 들어서 꽉막힌 국회상황에서 여야 지도부에게 회담을 하자 제의를 하신 거라고 이해해도 되나. ▷그렇게 제안하고 싶다. 패스트트랙 문제같이 당장 풀기 어려운 문제는 주제로 하기 곤란하다면, 이번 식량지원 문제나 안보문제 이런 문제에 국한해서 회동을 할 수 있다고 생각한다. ◆하노이 회담 및 4차 남북정상회담 추진 -지난 하노이 보면 일반적으로 표현할 때 북한은 '영변이면 충분하지 않냐' 미국은 '전체가 해결돼야 한다'는 간극이 좁히지 못했던 것 같다. 간극을 좁힐 수 있는 분위기가 조성이 되어 있나. ▷우선 지금 양국이 비핵화 대화의 최종목표에 대해서는 완전히 일치를 보고 있다. 미국은 북한의 완전한 비핵화를 원하는 것이고, 또 북한은 자신들의 완전한 안전보장을 원하는 것다. 이점에 대해서는 서로 간에 또 한국까지도 다 최종목표에 대해서는 합의가 되어 있는 상황이다. 문제는 이것이 어느 순간에 '짠' 하고 한꺼번에 교환될 수가 없는 것이기 때문에 거기에 이루는 과정이나 프로세스 등 로드맵이 필요한데 이점에서 의견이 맞지 않는 것이다. -중재자 역할을 하기 위해서 4차정상회담을 추진하겠다고 하신 건데 지지부진한 상태다. 언제쯤으로 예측할 수 있을까. ▷지지부진하다고 말씀을 하긴 그렇다. 우리는 북한에게 아직은 재촉하지 않고 있다. 북한은 외교가 발달된 나라가 아니다. 하노이 정상회담 이후에 자기들 나름대로 입장을 정리하는 시간도 필요했을 테고, 푸틴 대통령과의 정상회담도 예정이 있었고, 저희는 사전에 일정을 다 파악을 하고 있었기 때문에 그때까지는 북한이 회담을 위한 대화를 하기가 어려웠을 것이라고 판단했고, 이제 북한이 그렇게 대화를 할 수 있는 상황이 되었기 때문에 지금부터 북한에게 적극적으로 회담을 제안하고 대화로 이끌어낼 그런 계획이다. ◆도보다리 회담 -4·27 남북 정상회담 때 도보다리에서 30분을 얘기를 했다. 어떤 얘기를 했는지 풀어주실 수 있는지. ▷일단 저도 그 대화가 참 좋았다. 사실은 그 다음 일정에 이르는 하나의 휴식시간에 좋은 그림으로 보여주기 위한 일정이었는데. 실제로 두 사람이 진솔하게 대화를 나눌 수 있는 좋은 기회가 되었다. 같은 언어를 사용하기 때문에 통역이 없어도 된다는 것이 참 좋았다. 그때 김정은 위원장은 자신들의 비핵화 의지에 대해서 아주 진솔하게 다 표명을 했다. 말하자면 안정보장을 위한 것인데 핵 없이도 안전할 수 있다면 우리가 왜 제재를 무릅쓰고 힘들게 핵을 들고 있겠는가 이런 표현으로 비핵화의지를 표명했고, 미국과 회담해 본 경험이 없고, 주변의 참모들 가운데에도 그런 경험들이 없는데 회담을 한다면 어떻게 하면 좋을 것인가 여러 가지 조언을 구하고, 주로 김정은 위원장이 저에게 물어보고 제가 그에 대해서 답해 주는 시간이었다. ◆한일관계 -외교안보 질의를 드리고 싶다. 한일 관계문제다. 과거사 문제는 과거를 지울 수 없는 문제고 과거사 문제가 한일관계의 족쇄가 된 게 너무 오랜 시간이다. 실질적인 협력 문제가 클 텐데 전혀 진도를 나가지 못하고 있다. 하나 계기가 생긴 것이 일왕이 바뀐 계기가 있다. 이 때문일까. 일본에서는 일왕의 방한 추진 얘기도 언론에서 나온 것으로 알고 있다. 검토해 본 사안인지. ▷아니다. 어쨌든 일본 새 천황의 즉위를 계기로 한일관계가 더 발전했으면 좋겠다는 희망을 가지고 있다. 저는 한일관계가 굉장히 중요하다고 생각하고, 앞으로 더 미래지향적으로 발전돼 나가야 한다고 생각한다. 다만, 어려움을 겪고 있는 것은 과거사 문제가 한번씩 양국관계발전에 발목을 잡고 있는데 그것은 결코 한국정부가 만들어 내고 있는 문제가 아니다. 과거에 엄밀히 존재했던 불행했던 과거때문에 비록 한일 기본협정이 체결되긴 했지만 인권의식들이 높아지고 국제규범이 높아지고 하면서 여전히 조금씩 상처들이 굳어져 나오는 것이다. 이 문제들로 인해서 미래지향적인 협력관계가 손상되지 않도록 양국정부가 잘 지혜를 모을 필요가 있는 것이다. 그런데 일본 정치지도자들이 자꾸 그 문제를 국내 정치적인 문제로 다루기 때문에 과거사 문제가 미래지향적인 발전의 발목을 잡는 일이 거듭되고 있다고 본다. 저는 양국이 함께 지혜를 모아나가길 바란다. -다음달 G20을 계기로 한일정상회담은 준비가 들어간 상황인지. ▷그때 일본을 방문하게 될 텐데, 그 계기에 일본에 아베 총리와 회담을 할 수 있다면 그것은 좋은 일이라고 생각한다. 다음은 경제산업 분야 일문일답. ◆소득주도 성장 및 최저임금 인상 (국민들 인터뷰 영상 시청 후) -들어보시니까 어떤지. ▷저분들 말씀도 다 들어드리고 싶고 다 해결하고 싶다. 그러지 못해서 송구스럽다. -경제문제가 아무래도 많았던 것 같습니다. 우선 최저임금 인상 얘기부터 드려볼까 한다. 대통령께서 실행해 오신 경제정책의 사람들이 가장 많이 기억이 남는 단어를 꼽으라고 한다면 소득주도 성장이 아닐까 싶다. 최저임금 인상이 소득주도 성장의 단 하나의 정책은 아니다. 그런데 최저임금 인상을 하는 과정에서 생긴 논란 때문에 소득주도 성장 자체에 논란이 생겨버린 국면이다. 과정을 조금 더 다듬어갔으면 하는 후회는 없는지. ▷그렇다. (한숨) 아쉬움이 많다. 우선 이점은 꼭 말씀드려야 될 것 같다. 최저임금 인상을 통해서 적어도 고용시장 안에 들어와 있는 분들, 고용된 노동자들의 급여라든지 이런 부분은 굉장히 좋아졌다. 저소득 노동자 비중이 역대 최고로 낮아졌다. 또 1분위 노동자와 5분위 노동자 사이 임금격차도 역대 최저로 줄어들었다. 임금노동자가구의 소득이 크게 높아졌고 한편으로 지난 3월에는 고용보험가입자수가 52만명 늘어나서 고용안전망 속에 들어온 온 노동자 수도 늘었다. 당연히 상용직도 늘었다. 고용시장 안에서의 경제적인 효과는 뚜렷한데 반면에 고용시장 바깥에 있는 자영업자들의 삶이라든지, 가장 아랫층에 있던 노동자들이 고용시장에서 밀려나게 어려움을 겪는다든지. 이런 부분들을 함께 해결하지 못한 것이 참으로 가슴이 아프다. 어려운 일은 이런 분들의 어려움을 해소해 줄 수 있는 자영업자 대책들, 이런 부분들, 사회안전망을 높이는 부분들이 최저임금과 동시에 병행해서 시행했다면 그런 어려움을 덜어드릴 수 있었을 텐데 최저임금 인상은 정부에 의해 먼저 시행되고 자영업자 대책이라든지 EITC, 근로장려금 같은 부분들은 국회의 입법과정을 거쳐야 되기 때문에 시차가 생기게 되는 부분들이 참으로 어려운 점이기도 하다. 당사자들에게는 참으로 정부로서는 송구스러운 점이라는 말씀을 드리고 싶다. -어떤 부작용이 있는지도 파악을 하고 계셔서 최저임금의 속도조절 인상의 속도조절에는 동의를 하시는 것 같다. 만약 국회의 처리가 되지 않는다면 현행 제도로 내년도 최저임금 인상폭은 결정이 될 텐데, 2년간 두 자릿수 인상이었어요. 내년까지 두 자릿수 인상은 무리라고 판단을 하시나. ▷이건 참 답변 자체가 조심스럽다. -물론 대통령께서 결정 권한이 있는 것이 아니라는 것은 알고 있다. ▷우선 그렇지만 지난 번 대선 과정에 저를 비롯한 여러 후보들의 2020년까지 최저임금 1만원으로 인상하겠다는 공약, 이런 것이 최저임금위원회의 결정에 영향을 있었다고 생각한다. 그점에 대해서는 대통령도 함께 책임을 져야 하는 것이라고 본다. 일단 결정 권한이 정부 대통령에게 있는 것이 아니고 최저임금위원회에서 독립적으로 그렇게 결정하게 되어 있는 것이어서 대통령이 가이드라인을 제시하기는 어렵다고 생각한다. 그러나 분명한 것은 그때 공약이 2020년까지 1만원이었다고 해서 공약에 얽매여 무조건 그 속도대로 인상되어야 한다고 하는 것은 아니라고 생각한다. 우리 사회, 우리 경제가 어느 정도 수용할 수 있는지 적정선을 찾아서 결정할 필요가 있는 것이다. 올해 최저임금은 작년 최저임금 인상에 비해서 이미 속도조절이 되었다고 생각한다. 그렇다고 하더라도 2년에 걸쳐서 최저임금이 가파르게 인상이 됐고, 그것이 긍정적인 작용이 많은 반면, 한편으로는 부담을 주는 부분들도 적지 않다고 판단한다면 최저임금인상위원회가 그런 점을 감안해서 우리 사회가 우리 경제가 수용할 수 있는 적정선으로 판단하지 않을까 그렇게 기대를 하고 있다. -2020년 공약에 얽매이서 않고 사회가 수용할 수 있는 선에서 한다는 것인가. ▷네. 그렇기 위해서는 법제도로서 최저임금 결정 제도 이후나, 두 단계를 걸쳐서 결정하는 법개정을 하려는 것인데, 국회에서 처리되지 않아서 아쉽지만 현행 제도로 가더라도 최저임금인상위원회가 그런 취지를 존중하지 않을까 생각한다. -좀 전에 잠깐 설명을 드렸지만 최저임금 인상 논란 때문에 소득주도 성장이 불필요한 논란이라고 표현해야 될까. 굉장히 논란에 휩싸인 정책이 됐다. 요즘에는 이 용어를 덜 쓰시는 것 같다. ▷아까 얘기했다시피 노동의 고용의 질은 좋아진 것은 분명하다. 그러나 고용양의 증가에 있어서 과거보다 못해졌다. 못해진 이유 속에는 이런 구조적인 문제도 많이 있지만 최저임금 인상의, 말하자면 효과도 있다고 이야기들이 되고 있는 것이다. 물론 어느정도 영향을 미쳤느냐 대해서는 서로 평가가 다르지만 그러나 또 이 부분들은 시간이 조금 더 필요한 부분이기도 하다. 당장 1년 간 보면 고용의 증가가 현저하게 둔화가 돼서 고용증가수가 10만명 밑으로 떨어졌는데 금년 2월, 3월 두달 동안은 다시 25만명 수준으로 다시 높아졌고 정부는 그 추세가 지속될 것으로 보고 있다. 그래서 당초 경제 계획 상으로는 올해 고용증가를 15만명 정도로 잡았었는데 지금은 20만명 정도로 상향하는 그런 식의 기대를 하고 있다. 특히 추경까지 통과가 된다면 목표 달성에 더 용이해지리라고 보고 있다. 그래서 최저임금의 인상으로 인해서 생기는 여러 가지 부작용의 문제조차도 사실은 좀 더 긴 시간을 두고 판단해 볼 필요가 있는 것인데, 당장 어려움을 겪고 있는 분들이 많이 있기 때문에 그 해결에 우리가 좀 더 많은 노력을 해야 된다고 생각한다. ◆일자리 문제 -집무실에 일자리 상황판이 있나. ▷지금도 있다. -오늘 봤나. ▷(웃음) 대체로 월별 단위로 발표가 되기 때문에 매달 수정이 된다. 고용상황들은 지난 3월 부분까지만 발표가 되었기 때문에 3월 말 현재 상황들이 지금 일자리 상황판에 있다. 수출은 4월달까지 표기되어 있다. -상황판을 자세히 설명해 주실 필요는 없다. ▷6월의 고용사정이 좋아졌기 때문에 지금은 일자리 상황판에서 좋은 지표들은 대체로 올라가고 나쁜 지표들은 대체로 떨어졌다. -두어달 일자리 수는 괜찮아졌다, 얘기를 하셨는데 고용의 질이 문제가 생기게 되는 부분이 있다. 저희가 봤더니 일자리가 생기긴 했는데 이중에 상당수가 초단기 일자리, 그래서 주 15시간도 안 되는, 정말 예를 들어서 보험의 사각지대에 놓여있는 초단기 일자리가 상당부분 차지하고 있더라. ▷맞다. 그 사실은 맞는데 그런 초단시간 일자리는 대체로 노인 일자리에 해당한다. 아시다시피 고령화가 급격하게 진행되고 있어서 65세 이상 인구가 14%가 넘는 고령사회를 이미 2017년에 통과했고, 2025년이면 20%가 넘는 초고령사회가 될 것으로 예상된다. 65세 이상 어르신들에게는 정규직의 좋은 일자리가 불가능하다. -지속가능한 일자리가 안 되는 것이다. ▷짧은 시간의 일자리라도 마련해 드리는 것이 그나마 필요한 일이고, 그렇지 않으면 온전히 복지대상으로 떨어질 수밖에 없는 것이다. 어르신들을 위한 나쁜 일자리라도 일자리가 없는 것보다는 낫기 때문에 그런 노력을 계속해 나가야 한다고 생각한다. -말한대로 그런 분들께는 나쁜 일자리라도 있는 게 나을 수는 있지만, 그렇게 되기 위해서 투입되는 재정 부담을 생각하지 않을 수 없나. ▷어르신들의 공공근로 일자리는 쭉 과거 정부부터 해 왔던 것이다. 이것은 어찌보면 일자리와 일자리를 통한 복지의 성격을 가지고 있는 것이다. 고령인구가 크게 늘고 있기 때문에 일자리 수를 더 늘리고 과거의 급여가 낮았기 때문에 급여를 두배 높여서 실제로 어르신들의 빈곤 해결에 도움되도록 정부가 노력하고 있는 것이다. 그래서 말씀드리자면 노인 빈곤율도 꽤 개선되고 있다는 말씀을 드린다. -제일 문제는 청년일자리다. 지속가능한 일자리가 청년에게 계속 공급되는 게 중요할 텐데 이런 일자리는 어디서 만들어야 해야 하는 것인가. 공공부문 일자리 81만개 만들겠다는 공약을 했었다. ▷일단 지난 2, 3월 청년 고용률 아주 높아졌고 청년들의 실업률도 아주 낮아졌다는 말씀을 드린다. 특히 25세부터 29세 사이는 굉장히 인구가 늘었음에도 불구하고 고용상황이 아주 좋아졌다는 말씀을 드린다. 물론 완전히 다 해결된 것은 아니다. 좋은 일자리를 늘리려면 여러 방향이 있다. 하나로서 만능의 카드는 없다. 첫째 우리가 제조업에 강점이 있다. 조선이나 자동차같은 주력 제조업이 세계 경기둔화에 의해서 부진을 겪었다. 제조업을 혁신해 고도화해서 경쟁력을 높여 일자리를 늘리는 방향이 하나 있다. 또 신산업들을 빨리 성장시켜서 좋은 일자리를 만들어야겠고, 요즘 벤처창업들을 크게 늘리고 지원할 필요가 있다. 한편으로는 아까 말씀하신 공공일자리 부분도 어르신들 일자리만 이야기했지만 소방관이나 경찰들은 아직까지 수가 부족하다. 사회 서비스일자리는 아직도 많이 부족한 실정이다. 그런 것을 통해서도 일자리를 늘려나갈 필요가 있다고 본다. ◆경제성장률 및 대통령의 경제 인식 -우리 경제성장률이 -0. 3%였다. 경제 괜찮은 건가. ▷걱정되는 대목이다. 앞 분기에 비해서 0. 3% 마이너스 성장을 이뤘다. 작년에 비하면 1. 8% 성장에 해당하는 것이다. 우리의 목표는 2. 적어도 5에서 6% 인데 앞으로 만회를 해 나가야 되는 것인데 분기의 마지막인 3월에는 저성장의 원인이었던 수출부진 투자부진 이런 부분들이 회복되고 있고 좋아지는 추세다. 정부나 한국은행에서는 점점 2/4분기부터는 상황들이 좋아져서 하반기에는 잠재성장률에 해당하는 2% 중후반 수준을 회복할 것이다. 그렇게 전망하고 기대를 하고 있다. -그런데 다른 기관들 해외기관들이 성장률을 전망치를 낮추는 경우가 있다. 경제가 심리여서 그런지 모르겠습니다만 이 수치는 괜찮고 괜찮아질 거다라고 말씀을 해 주셨지만 이런 것들이 실생활에서 어려움을 겪고 있는 국민들에게는 와닿지가 않는다. 그래서 우리는 답답한데 왜 대통령께서는 괜찮다고 할까 이런 인식의 괴리 문제를 많이들 얘기를 한다. ▷그 말씀은 충분히 이해를 할 수 있다. 그러나 우리가 분명하게 인정해야 할 것은 우리가 거시적으로 볼 때 한국경제가 크게 성공을 거두었다는 것이다. 지난번 원로들과의 대화때도 이홍구 전 국무총리께서 지금 우리가 우리 앞에서 벌어지고 있는 일들은 과거 70년간 크게 성공해 와서 생긴 일이다라고 말씀하셨는데, 작년에 소득 3만불이 넘어서면서 세계 7번째로 3050 클럽, 3만불 이상 인구 5천만명 이상 클럽에 가입을 하게 됐다. 그런 나라들, G20 국가들이나 OECD국가들 중에서 한국은 상당한 고성장국가다. 이례적으로 경제가 좋았던 미국 다음으로 한국이 가장 높았다. 지금도 그런 추세다. 그래서 거시적인 경제성공은 인정하고 자부심을 가져야 한다고 생각한다. 다만 국민들에게 고르게 다 소득배분이 되고 있지 않고 있기 때문에 아직도 양극화가 심각하고 특히 소득이 낮은 층의 소득이 늘지 않고 있기 때문에 그분들의 사는 문제가 해결이 안 되고 있다. 고용의 문제가 주츰해졌다, 일자리를 늘려야 된다는 인식을 정부가 똑같이 하고 있고 똑같은 아픔을 느끼고 있다. ◆재벌대기업 및 삼성전자 방문 -경제가 활력을 찾기 위해서 정부도 노력을 해야하지만, 한축은 기업이다. 요즘 기업을 많이 방문하시는 모습들을 언론에서 봤다. 가장 최근에는 삼성전자를 방문하고 이재용 부회장을 만났다. 대법원 판결을 앞두고 이재용 부회장을 만난 것에 대해서 부담은 없었는지. ▷일단 삼성이 시스템 반도체 분야의 133조원을 투자하겠다는 현장을 방문한 것이다. 저는 그렇게 투자를 늘리고 일자리를 만들고 경제에 도움이 되는 일이라면 대기업이든 중소기업이든 벤처기업이든 누구든 만날 수 있고, 다음에 또 방문할 수 있다고 생각한다. 그러면서 제가 예상을 했다. 두 가지 비판이 있겠다. 하나는 재벌성장으로 회귀하는 거 아니냐. 두번째는 재판을 앞두고 있는데 그런 거 아니냐. 그런데 저는 이제 그렇게 이분법적으로 보는 그런 사고들에서 벗어나야 한다고 생각한다. 대통령이 재벌을 만나면 친재벌이 되고, 노동자를 만나면 친노동자 되겠나. 그날 방문을 앞두고 오전에 국무회의에서는 대기업의 오너들이 말하자면 회사에 대해서 횡령이나 배임 등의 범죄를 저지르고도 계속해서 경영권을 가지는 앞으로 못하도록 횡령·배임 유죄판결을 받으면 임원자격을 가지지 못하도록 시행령을 개정했다. 그러면 그것이 반재벌이겠나. 그래서 그런 상투적인 비판이라고 생각한다. 재판을 앞두고 있는데 봐주기 아니냐는 것은 사법권의 독립권에 대해서 훼손하는 말이라고 생각한다. -재판은 재판이고 경제는 경제란 것인가. ▷재판은 재판이다. -분명 나눠져있다. ▷금융은 금융, 경제는 경제 그런 것이다. -사법권이 어떻게 훼손되는지 국민들이 봤기 때문이 그런 시선을 가질 수도 있었다고 본다. ▷그러나 지금은 만약 그 논리라면 대통령과 가까운 사람들은 다 봐주겠나. 그렇게 되지 않는다. 오히려 더 엄중하게 수사받고 재판받고 하는 것이 현실이지 않나. ◆미래먹거리 -앞으로 펴실 정책도 질의를 드려야 될 것 같다. 어떤 점에 주안점을 저희가 지켜봐야 될까. 제조업도 부활시켜야 되고 4차산업 혁명시대에 대비도 해야 되고. 미래먹거리도 발굴해야 한다. ▷그렇다. 아까도 얘기했지만 한국의 경제성장률은 결코 낮지 않다. 그러나 뭐가 우려되는 상황이냐면 잠재성장률이 점점 낮아지고 있는데, 기존의 메모리 반도체 분야 이후로는 말하자면 새로운 신성장동력 같은 것들이 마련되지 않고 있다는 것이다. 그래서 새로운 산업을 통한 새로운 신성장동력을 마련하는 것이 시급하다고 보는 것이다. 그것이 우리가 말하는 혁신성장이라는 것인데, 우선 아시다시피 가장 시급하게 중심적인 역량을 쏟아부은 것은 시스템반도체, 바이오, 미래자동차 분야. 이런 부분들을 중점적으로 육성하려고 하고, 한편으로는 기존 제조업의 혁신을 통해서 다시 제조업 강국의 위상을 굳건하게 하려는 것이다. 한편으로는 제2의 벤처붐, 이미 작년에 벤처창업 기업수도, 벤처투자액도 역대 최고를 기록했다. 벤처붐을 더 크게 일으켜서 그것을 통해서도 새로운 성장동력을 찾고 한편으로는 더 좋은 일자리들을 많이 만들어 내려고 그렇게 노력하고 있다. -미래먹거리 몇 가지를 얘기했데 수소차, 시스템반도체, 바이오 산업 이런 것이 대기업이 주도할 수밖에 없는 영역 아닌가. ▷반드시 그렇지 않다. 시스템반도체 가운데서 삼성이 투자하기로 했던 파운더리 반도체 부분은 다른 기업이 설계한 반도체를 주문받아서 생산하는 것이기 때문에 대규모 생산설비가 필요하다. 그런 분야는 대기업이 잘할 수 있지만, 설계를 하는 팹리스는 생산설비가 필요 없기에 오히려 중소기업에 적합한 업종이다. 그런 지원들이 필요하고, 바이오 헬스 분야도 오히려 중소기업들이 약전하고 있는 분야다. 특히 코스닥 상장업체들을 비롯해 그쪽을 통한 수출이 늘고 있는데, 중소기업들도 오히려 적합한 분야라고 말씀을 드린다. 미래형 자동차도 우리가 대기업 자동차 회사들만 생각하는데 실제로 경차 전기차, 상용차 전기차 이런 부분들은 중소기업들이 오히려 많이 하고 있다. ◆52시간 근로제 -노동현안도 많긴 한데 주52시간 근로제 시행과 맞물려서 버스 노조가 총파업 찬반투표를 실시를 하고 있고, 이 사안도 보면 52시간 문제가 제대로 관리되지 못하면 불필요한 논란을 키울 수 있는 사안을 다분히 내포하고 있는 사안 같다. 어떤 대비책이 있어야 될 것 같다. ▷주 52시간 노동제 같은 경우도 300인 이상 기업에 시행되고 있는데, 작년 말까지 95% 정도가 다 시행에 들어가서 거의 안착이 되고 있다. -내년에는 50인 이상 기업도 시행된다. ▷그 부분이 감당할 수 있을까 걱정하는 것인데, 그 부분에 대해서는 미리 대비책을 세워나가야겠고 계도기간을 줌으로써 해결할 수 있다고 생각한다. 과거에 주 5일 근무제가 많이 걱정됐지만 잘 안착이 된 것처럼 그렇게 될 것이라고 기대한다. 이번에 버스 파업 부분은 특례에서 버스도 주 52시간을 준수하게끔 되어 있는데 대부분의 지자체에서는 이미 공영제, 또는 준공영제를 통해서 이미 주52시간이 시행되고 있다. 다만 경기도의 경우 시외버스의 경우에 주52시간이 되지 않고 있는데, 이게 주52시간을 하려면 새로운 버스기사들의 채용이 필요하고, 그러자면 요금의 인상도 필요하기 때문에 그 부분이 진통을 겪고 있는 것이다.\n"
     ]
    },
    {
     "name": "stdout",
     "output_type": "stream",
     "text": [
      "24234 446\n",
      "time to summarize is 6.46697 sec\n",
      "\n",
      "============  summary  ================\n",
      "문재인 대통령은 남북 정상회담에서 북한의 도발에 대해 대화와 협상을 통해 해결책을 찾겠다고 말했다. 대통령은 남북 정상회담이 성공적으로 개최될 수 있도록 최선을 다해야 한다고 말했다. 또한 남북이 대화의 장을 만들 수 있도록 노력해야 한다고 했다. 또한, 남북의 대화에 대한 대화의 장이 될 수 있도록 해야 한다. 또한 우리 정부는 남북의 평화적 협력의 길을 열어 나가야 한다고 생각한다. 또한 북한의 비핵화를 위해 노력해야 할 것이다. 또한 우리는 남북이 평화적으로 협력할 수 있는 길을 만들어 나가야 한다. -.,. ; 의 을 통해 남북의 길을 열어야 한다. 우리는 이 아니라 로 가는 길이다.의 길로 가야 한다.  남북의 길을 해 주길 바란다. 는데 라고 생각한다. 우리는 남북의 길로 나아가야 한다. 남북의 길의 길을 더 나아가야 한다고 생각한다며, 남북관계를 개선해야 한다. 우리 정부는 \n",
      "========================================\n",
      "1993 285\n",
      "2026 277\n",
      "2024 244\n",
      "2019 366\n",
      "1994 268\n",
      "1985 324\n",
      "2020 343\n",
      "2043 350\n",
      "2024 327\n",
      "2030 351\n",
      "2034 353\n",
      "1598 411\n",
      "\n",
      "===============  long summary  ================\n",
      "문재인 대통령은 9일 오후 청와대 상춘재에서 진행된 KBS '문재인 정부 2년 특집 대담, 대통령에게 묻는다'에 출연해, 정부 출범 2주년 소회 및 각 분야별 입장을 밝혔다. 문재인 대통령은 2년 전 오늘 이 시간 기억하실지 모르겠다. 나라다운 나라를 만들어 달라, 이런 요구 속에서 문재인 정권이 출범을 했다. 그래서 문재인 정부는 촛불정신 위에 서 있다. 촛불민심이 명하는 대로 국정농단, 그리고 반칙과 특권이라는 적폐시대를 마감하고, 새로운 시대, 공정하고 정의로운 대한민국의 길을 향해서 걸어가고 있다.검찰 스스로 개혁을 할 수 있는 많은 기회들을 지금까지 놓쳐 왔다.그래서 검찰은 개혁의 당사자이고, 말하자면 이제는 셀프개혁으로서는 안 된다는 게 국민들의 보편적인 생각이기 때문에 그런 방안들이 마련되고 있는 것이어서 검찰이 보다 좀 겸허한 자세를 가져야한다고 생각한다.고위공직자범죄수사처 -패스트트랙 국면을 이야기하는 와중에 나올 수밖에 없는 의제가 공수처와 검경수사권 조정안이다. 조국 수석이 정치에 나갈 것이냐는 거취를 말한다면, 저는 조국 수석에게 정치를 권유하거나 할 생각은 전혀 없다.민정수석의 가장 중요한 우리 정부에서의 책무가 인사검증 뿐만 아니라 권력기관들에 대한 개혁이 가장 중요한 임무 중 하나다. 지금 정부 차원에서 할 수 있는 개혁들은 상당히 다 했다고 생각한다. 이제 법제화 하는 과정이 남아 있는데, 그런 작업까지 성공적으로 마쳐주길 바라고 있다. 인사검증 및 인사청문회 -조금 전에 조국 수석을 말하면서, 인사검증을 문제 삼았는데, 그 이유는 지금 이낙연 총리를 비롯해서 장관님들이 잘하고 있지 않는가.인사청문 절차를 두 단계로 나눠서 첫번째 도덕성 검증 과정은 비공개 적으로 하고, 그 대신 청와대와 국회, 야당이 모든 정보를 서로 공유하는 것이다.그 정보를 다 모아 이 분이 공직자로 자격이 있나 없나 먼저 판단하고 그것을 통과하면 능력과 정책 역량을 가지고 검증하는, 그것은 공개적으로 하는 것이다. 그렇게 된다면 청와대가 가진 모든 자료를 우리도 제출할 뿐 아니라, 반대로 야당 자료도 우리가 함께 판단할 수 있을 것이다. 첫번째, 제도화 부분은 제가 이미 제안하고 있다. 미국식으로 인사청문 절차를 2단계로 나눠서 두번째 도덕성 검증을 비공개 적인 것으로 하고,그 대신 청와대가 가지고 있는 후보자 자료를 국회에 제출하고, 조금 내밀한 자료까지도.북한이 며칠 전에 여러 종류의 단거리 발사체를 발사한 데 이어서 오늘은 일단 단거리 미사일로 추정되는 그런 발사를 했다. 오늘 단거리 미사일이라고 추정하는 이유는 며칠 전은 북한이 동해안에서 자신들의 앞바다를 향해서 발사를 했기 때문에 사거리가 비교적 짧았다. 오늘은 평안북도 지역에서 육지를 넘어서 동해안까지 발사를 해서 두발 중의 한 발은 사거리가 400km를 넘는 것으로 보고 있다. 한미양국이 공조를 통해서 '발사체는 단거리미사일로 추정이 된다' 이렇게 규정했다는 것인가.북한이 4일하고 오늘, 닷새만에 두차례 도발을 했다. 북한이 지금까지 북한 자신의 매체를 통해 밝혀온 여러 가지 보도내용을 종합해보면 북한은 하노이 제2차 북미정상회담이 합의를 이루지 못하고 끝난데 대해서 상당히 불만을 가지고 있는 것 같다. 그래서 미국이나 한국 양측에 대해서 일종의 시위성 성격이 있지 않은가 판단을 하고 있다. 그래서 북한도 불만이 있다면 조속히 대화의 장에서 불만을 명확하게 그렇게 밝히는 것이 바람직하다고 생각한다. 북한의 의도가 어디에 있건 북한의 행동이 자칫 잘못하면 협상과 대화의 국면을 어렵게 만들 수 있다는 점은 우선 우리가 경고를 하는 바이다.유엔 세계 식량 계획, 세계식량원조 기구가 정밀하게 조사해서 공식보고서로 발표한 바에 의하면 북한의 식량난이 최근 10년동안 가장 심각하다는 것이다. 그런 형편이기 때문에 북한동포들의 심각한 기아상태를 우리가 외면할 수 없고, 우리가 동포애나 인도주의적인 차원에서라도 우리가 북한의 식량을 지원할 필요가 있다고 생각하는 것이다. 그래서 북한의 식량지원 문제에 대해서 저로서는 가장 바람직한 것은 지금 패스트트랙 문제 때문에 여야 간 정국이 교착상태에 빠져 있는데 그 문제는 별도로 해결하더라도 북한에 대한 식량지원에 대해서는 대통령과 여야가 함께 모여서 협의를 하는 것이 바람직하지 않을까 라는 생각을 하고 있다.한일관계 -외교안보 질의를 드리고 싶다. 한일 관계문제다. 과거사 문제는 과거를 지울 수 없는 문제고 과거사 문제가 한일관계의 족쇄가 된 게 너무 오랜 시간이다. 다만, 어려움을 겪고 있는 것은 과거사 문제로 한번씩 양국관계발전에 발목을 잡고 있는데 그것은 결코 한국정부가 만들어 내고 있는 문제가 아니다. 하지만 일본 정치지도자들이 자꾸 그 문제를 국내 정치적인 문제로 다루기 때문에 미래지향적인 발전의 발목을 잡는 일이 거듭되고 있다고 본다. -다음달 G20을 계기로 한일정상회담은 준비가 들어간 상황인지. 그때 일본을 방문하게 될 텐데, 그 계기에 일본에 아베 총리와 회담을 할 수 있다면 그것은 좋은 일이라고 생각한다.최저임금 인상을 하는 과정에서 생긴 논란 때문에 소득주도 성장 자체에 논란이 생겨버린 국면이다. 최저임금 인상을 통해서 적어도 고용시장 안에 들어와 있는 분들, 고용된 노동자들의 급여라든지 이런 부분은 굉장히 좋아졌다. 고용시장 안에서의 경제적인 효과는 뚜렷한데 반면에 고용시장 바깥에 있는 자영업자들의 삶이라든지, 가장 아랫층에 있던 노동자들이 고용시장에서 밀려나게 어려움을 겪는다든지. 이런 부분들을 함께 해결하지 못한 것이 참으로 가슴이 아프다. 최저임금인상위원회가 그런 점을 감안해서 우리 사회가 우리 경제가 수용할 수 있는 적정선으로 판단하지 않을까 그렇게 기대를 하고 있다.고령화가 급격하게 진행되고 있어서 65세 이상 인구가 14%가 넘는 고령사회를 이미 2017년에 통과했고, 2025년이면 20%가 넘는 초고령사회가 될 것으로 예상된다. 고령인구가 크게 늘고 있기 때문에 일자리 수를 더 늘리고 과거의 급여가 낮았기 때문에 급여를 두배 높여서 실제로 어르신들의 빈곤 해결에 도움되도록 정부가 노력하고 있는 것이다. 그래서 말씀드리자면 노인 빈곤율도 꽤 개선되고 있다는 말씀을 드린다. -제일 문제는 청년일자리다. 제조업의 혁신해 고도화해서 경쟁력을 높여 일자리를 늘리는 방향이 하나 있고, 신산업들을 빨리 성장시켜서 좋은 일자리를 만들어야겠고, 요즘 벤처창업들을 크게 늘리고 지원할 필요가 있다.경제 성장률 및 대통령의 경제 인식 -우리 경제성장률이 -0.3%였다. 거시적으로 볼 때 한국경제가 크게 성공을 거두었다는 것이다. 다만 국민들에게 고르게 다 소득배분이 되고 있지 않고 있기 때문에 아직도 양극화가 심각하고 특히 소득이 낮은 층의 소득이 늘지 않기 때문에 그분들의 사는 문제가 해결이 안 되고 있다. 그래서 거시적인 경제성공은 인정하고 자부심을 가져야 한다고 생각한다. 그러나 국민들이 지금 우리가 우리 앞에서 벌어지고 있는 일들은 과거 70년간 크게 성공해 와서 생긴 일이다라고 말씀하셨는데, 작년에 소득 3만불이 넘어서면서 세계 7번째로 3050 클럽, 3만불 이상 인구 5천만명 이상 클럽에 가입을 하게 됐다.잠재성장률이 점점 낮아지고 있는데, 기존의 메모리 반도체 분야 이후로는 말하자면 새로운 신성장동력 같은 것들이 마련되지 않고 있다는 것이다. 그래서 새로운 산업을 통한 새로운 신 성장동력을 마련하는 것이 시급하다고 보는 것이다. -미래먹거리 몇 가지를 얘기했데 수소차, 시스템반도체, 바이오 산업 이런 것이 대기업이 주도할 수밖에 없는 영역 아닌가. 반드시 그렇지 않다.시스템반도체 가운데서 삼성이 투자하기로 했던 파운더리 반도체 부분은 다른 기업이 설계한 반도체를 주문받아서 생산하는 것이기 때문에 대규모 생산설비가 필요하다. 그런 분야는 대기업이 잘할 수 있지만, 설계를 하는 팹리스는 생산설비를 필요 없기에 오히려 중소기업에 적합한 업종이다. 그런 지원들이 필요하고, 바이오 헬스 분야도 오히려 중소기업들이 약전하고 있는 분야다.\n",
      "==============================================\n",
      "1928 296\n",
      "1928 345\n",
      "\n",
      "===============  long summary2  ================\n",
      "문재인 대통령은 9일 오후 청와대 상춘재에서 진행된 KBS '문재인 정부 2년 특집 대담, 대통령에게 묻는다'에 출연해, 정부 출범 2주년 소회 및 각 분야별 입장을 밝혔다. 촛불민심이 명하는 대로 국정농단, 그리고 반칙과 특권이라는 적폐시대를 마감하고, 새로운 시대, 공정하고 정의로운 대한민국의 길을 향해서 걸어가고 있다.그래서 검찰은 개혁의 당사자이고, 말하자면 이제는 셀프개혁으로서는 안 된다는 게 국민들의 보편적인 생각이기 때문에 그런 방안들이 마련되고 있는 것이어서 검찰이 보다 좀 겸허한 자세를 가져야한다고 생각한다.한일 관계문제다. 과거사 문제는 과거를 지울 수 없는 문제고 과거사 문제가 한일관계의 족쇄가 된 게 너무 오랜 시간이다. 다만, 어려움을 겪고 있는 것은 과거사 문제로 한번씩 양국관계발전에 발목을 잡고 있는데 그것은 결코 한국정부가 만들어 내고 있는 문제가 아니다. 하지만 일본 정치지도자들이 자꾸 그 문제를 국내 정치적인 문제로 다루기 때문에 미래지향적인 발전의 발목을 잡는 일이 거듭되고 있다고 본다. -제일 문제는 청년일자리다. 제조업의 혁신해 고도화해서 경쟁력을 높여 일자리를 늘리는 방향이 하나 있고, 신산업들을 빨리 성장시켜서 좋은 일자리를 만들어야겠고, 요즘 벤처창업들을 크게 늘리고 지원할 필요가 있다.\n",
      "===============================================\n",
      "635 361\n",
      "\n",
      "===============  long summary2  ================\n",
      "문재인 대통령은 9일 오후 청와대 상춘재에서 진행된 KBS '문재인 정부 2년 특집 대담, 대통령에게 묻는다'에 출연해, 정부 출범 2주년 소회 및 각 분야별 입장을 밝혔다. 그래서 검찰은 개혁의 당사자이고, 말하자면 이제는 셀프개혁으로서는 안 된다는 게 국민들의 보편적인 생각이기 때문에 그런 방안들이 마련되고 있는 것이어서 검찰이 보다 좀 겸허한 자세를 가져야한다고 생각한다. 한일 관계문제다. 과거사 문제는 과거를 지울 수 없는 문제고 과거사 문제가 한일관계의 족쇄가 된 게 너무 오랜 시간이다. 다만, 어려움을 겪고 있는 것은 과거사 문제로 한번씩 양국관계발전에 발목을 잡고 있는데 그것은 결코 한국정부가 만들어 내고 있는 문제가 아니다.\n",
      "===============================================\n",
      "time to summarize long sentence is 29.38857 sec\n"
     ]
    }
   ],
   "source": [
    "run_summarize(df_sorted.iloc[0].text, tokenizer, model, device, chunk=2048, verify=False)"
   ]
  },
  {
   "cell_type": "code",
   "execution_count": 94,
   "id": "62eb39fd",
   "metadata": {},
   "outputs": [
    {
     "name": "stdout",
     "output_type": "stream",
     "text": [
      "============ original ===============\n",
      "[전문] 문재인 정부 2년 특집 대담, 대통령에게 묻는다 문재인 대통령은 9일 오후 청와대 상춘재에서 진행된 KBS '문재인 정부 2년 특집 대담, 대통령에게 묻는다'에 출연해, 정부 출범 2주년 소회 및 각 분야별 입장을 밝혔다. 이날 대담은 예정된 시간을 6분 넘겨 86분간 생중계로 진행됐다. 다음은 일문일답. ◆취임 2주년 소회 -2년 전 오늘 이 시간 기억하실지 모르겠다. 나라다운 나라를 만들어 달라, 이런 요구 속에서 문재인 정권이 출범을 했다. 아무래도 첫 질문이니까 2년 동안 소회를 여쭙지 않을 수 없을 것 같다. ▷먼저 국민들께 감사인사부터 드려야겠다. 우리 국민들께서는 촛불혁명이라는 아주 성숙된 방법으로 정권을 교체하고, 저를 대통령으로 선택해 주셨다. 그래서 문재인 정부는 촛불정신 위에 서 있다. 촛불민심이 명하는 대로 국정농단, 그리고 반칙과 특권이라는 적폐시대를 마감하고, 새로운 시대, 공정하고 정의로운 대한민국의 길을 향해서 걸어가고 있다. 얼마나 기대에 부응했는지 잘 모르겠다. 많은 성과들이 있었다고 생각한다. 그러나 한편으로 또 아쉬운 부분들도 많이 있고, 또 보완해야 할 과제들도 많이 있다고 느낀다. 앞으로 그 점을 더 집중해서 국민들이 바라는 그런 나라를 만들도록 노력하겠다. ◆국내 정치 -국내 정치 현안 문제로 들어가야 할 것 같다. 조금 전에 대북 현안들, 그리고 식량지원문제를 화두로 한 번 만나보자 제안을 공식적으로 하신 거라 봐야 하나. ▷이미 남북 간 정상회담을 가져야겠다라는 것은 제가 공개적으로 이미 발언을 했다. 실제로 북한하고 실무적인 대화에 들어가겠다는 뜻을 말씀 드렸다. -제가 여쭤본 것은 국내 정치권의…. ▷그렇다. 지금 패스트트랙 문제로 여야 정치권이 이렇게 대치하고 있는 것은 정치 성격상 우리가 이해할 수 있는 것이지만, 국민들 입장에서 볼 때는 참으로 답답한 국면이 아닐 수 없다. 처리해야 할 민생법안도 많이 있고, 추경 문제도 논의해야 되고, 그래서 이런 국면에서 필요한 것이 지난번에 합의했던 여야정 상설국정협의체를 가동하는 것이라고 생각한다. 우선적으로 방금 현안으로 대두된 문제를 논의될 수 있지 않을까 하는 것이다. -11월에 가동되고 지금 계속 이어지지 않고 있다. 책임이 어디에 있느냐를 따질 수 있겠지만, 사실 국정운영의 총책임자로서 대통령께서 야당과 관계를 이렇게 풀지 않고 오랜 시간 끌고 가는 것은 결과론적으로 국정운영의 부담으로 돌아오는 거 아닐까. 원로들 주문도 대통령이 먼저 나서 풀어라는 주문이 있었던 것으로 알고 있다. ▷그 점은 제가 동의하지 않을 수 없는데, 그러나 돌이켜보자면 제가 2년 전 5월10일, 내일이죠. 그때 약식으로 취임식을 하며 취임식 이전에 야당 당사들 전부 방문했다. 그리고 역대 어느 대통령보다 자주 야당 대표들과 원내대표들을 만나 왔다. 그러나 그런 식으로 약속을 해서 만나는 것이 정국에 따라서 원활하지 않을 수 있기 때문에, 아예 여야정 상설국정협의체를 분기에 한 번씩 상황에 상관 없이 하기로 합의했는데, 그것이 지난 3월이었다. 그 약속이 지켜지지 않은 것이다. 지금이라도 그 약속을 지키는 모습을 보이자고 말하는 것이다. 어쨋든 노력을 하더라도 손바닥이 마주쳐야 소리가 나는 것이기 때문에 저의 제안에 대해 야당 측에서 좀 성의있는(답변이 나오길 바란다). -야당 입장에서 보면 여러 현안들이, 야당이라면 제1야당 얘기를 안 할 수 없는데, 자유한국당 입장에서 보면 청와대가 주도해서 여당이 끌어가는 것으로 해서 야당의 의견을 전혀 반영하지 않고 정국을 끌어가고 있다는 판단을 하는 것이고, 그렇기 때문에 대통령께 독재자라고 얘기하고 있는 것 아니겠나. 독재자라는 말을 들었을 때 어떤 느낌이었나. ▷우선 패스트트랙이란 성격이 말하자면, 다수 의석을 가진 측에서 독주하지 못하게 하면서 야당은 물리적인 저지를 하지 않기로 하고, 그 해법으로 패스트트랙라는 해법을 마련한 것이다. 그래서 그 해법을 선택한 것을 가지고 독재라 하는 것은 정말 조금 맞지 않는 얘기란 말씀을 드린다. 그야말로 국회선진화법의 혜택을 많이 누려왔는데 국회선진화법이 정해놓은 방법을 부정해선 안 되는 것이다. 게다가 정말 촛불민심에 의해 탄생한 정부가, 지금 말하자면 독재, 그것도 그냥 독재라 하면 또 설득력이 떨어질 수 있으니 색깔론을 더해 좌파독재로 규정짓고 투쟁하는 것을 보면 참 뭐라 말씀 드려야 할지 모르겠다. -그렇게 부르지만 만나셔야 될 상대라고 생각하시죠. ▷일단 그렇게 조금 극단의 표현을 쓰긴 했지만 그것도 다 하나의 정치적인 행위라고 본다면 여야 간의 정치적 대립은 늘상 있어온 것이고, 그리고 또 이제라도 한 페이지 넘기고 다시 새로운 대화를 통해서 새로운 해법을 찾아야 한다고 본 것이다. ◆적폐청산 -대야관계와 협치문제 질문을 드리고 있는데, 이 질문을 안할 수 없다. 원로들 만나셨을 때 이렇게 알려졌는데, 선 적폐청산 후 협치, 이런 취지로 말한 것으로 전달됐다. 전달이 잘못된 것인지 아니면 아직까지 적폐청산이 부족한 상태라서 이것이 먼저 정리돼야 그 다음에 또 다른 관계설정이 가능하다고 판단하는 것인지 ▷우선 그렇게 말한 사실이 없고. 그 회동에서 오간 대화에서는 우리 대변인이 잘 정리해서 발표를 했기 때문에 제가 KBS 보도를 보지는 못했으나, 제가 본 보도들은 제 발언내용을 있는 그대로 내보냈다. 그런데 말하자면 헤드라인이나 자막을 그런식으로 뽑은 것이다. 그러고 난 이후에는 그 자막, 헤드라인을 근거로 이런저런 비판을 하는 좀 황당한 일이 벌어지고 있다. 제가 말씀 드린 취지는 원로들의 말씀이 아니라 우리 사회의, 또 일각에서는 이제 적폐수사는 그만 끝내고 협치, 통합, 이런 것으로 나아가자는 말씀들이 있어서 그에 대한 제 견해를 말씀드린 것이다. 우선 적폐수사 재판은 우리 정부가 시작한 게 아니라 앞의 정부에서 시작된 일이고, 우리 정부는 기획하거나 관여하지 않고 있다. 살아서 움직이는 수사를 정부가 통제할 수 없고, 통제해서도 안 된다가 생각이다. 개인적인 생각을 얘기하자면, 국정농단이나 사법농단은 그게 사실이라면 그것은 대단히 심각한 반헌법적, 헌법파괴적인 일이기 때문에 그 일을 타협하기는 어려운 일이다. 사실 여부를 빨리 규명하고, 그 다음에 청산하면서 새로운 세대로 나아가자 라는 기본적 방향에 대해서 서로 간의 공감대가 있다면 협치가 수월할텐데, 사법농단이나 국정농단을 바라보는 시각 자체를 바라보는 기본 입장 자체가 달라서 협치에 어려움이 있는 것 같다. ◆고위공직자범죄수사처 -패스트트랙 국면을 이야기하는 와중에 나올 수밖에 없는 의제가 공수처와 검경수사권 조정안이다. 검경수사권 조정안은 문무일 검찰총장이 민주주의에 반하는 부분이 있다고 했다. 이 성격을 항명으로 봐야 하나. 아니면 문제제기 수준이인가. 어떻게 보시는지. 작년에 법무부장관과 행정안전부장관은 합의를 했는데. ▷그래서 패스트트랙이라는 게 법안이 통과된 것이 아니다. 법안을 상정시키는 것이다. 앞으로 상임위에서 논의하게 되고, 국회 본회의에서 논의하게 되기 때문에 그것이 통과되기 위해선 국회에서 또 두루 여론을 수렴하는 절차를 아마 거칠 것이라고 본다. 검찰도 법률 전문집단이고, 또 수사기구이기 때문에 충분히 자신들의 의견을 밝힐수 있다고 본다. -밝히는 방식이 공개적인 것이. ▷그렇게 이해하고 있지만, 제가 분명하게 검찰에 대해 말하고 싶은 것은 공수처도 수사권 조정법안도 그렇고, 지금까지 검찰이 사정기구로 본연의 역할을 다하지 못했기 때문에 개혁의 방안으로 논의가 되는 것이다. 검찰 스스로 개혁을 할 수 있는 많은 기회들을 지금까지 놓쳐 왔다. 그래서 검찰은 개혁의 당사자이고, 말하자면 이제는 셀프개혁으로서는 안 된다는 게 국민들의 보편적인 생각이기 때문에 그런 방안들이 마련되고 있는 것이어서 검찰이 보다 좀 겸허한 자세를 가져야한다고 생각한다. ◆조국 민정수석 거취 -검경수사권 조정과 공수처법 얘기가 나온 김에 조국 민정수석 얘기를 여쭤본다. 두 가지 사법개혁안이 국회 패스트트랙 절차에 들어가게 됐고, 그것이 의미하는 것은 입법절차로 넘어갔다는 것이다. 그 와중에 정부 부처가 의견 개진을 할 수 있지만, 정해진 과정에 따르면 되고, 조 수석의 민정수석으로서의 소임은 일정 부분 정리된 것으로 이해해도 되나. ▷조국 수석이 정치에 나갈 것이냐는 거취를 말한다면, 저는 조국 수석에게 정치를 권유하거나 할 생각은 전혀 없다. 그 여부는 전적으로 본인이 판단할 문제다. 민정수석의 가장 중요한 우리 정부에서의 책무가 인사검증 뿐만 아니라 권력기관들에 대한 개혁이 가장 중요한 임무 중 하나다. 지금 정부 차원에서 할 수 있는 개혁들은 상당히 다 했다고 생각한다. 이제 법제화 하는 과정이 남아 있는데, 그런 작업까지 성공적으로 마쳐주길 바라고 있다. -법제화까지라면 조금 더 (조 수석이) 청와대 생활을 해야 된다는 말씀인지. ▷일단 아직은 패스트트랙에 올라가긴 했지만, 상임위 논의도 남아있고, 많은 절차들이 남아 있을 뿐 아니라 그 방안도 지금 확정된 게 아니다. 예를 들면 지난번 법무부장관과 행안부장관 사이에 공수처 조정에 대해 서로 간 합의가 이뤄졌는데, 패스트트랙에 합의하기 위해 일부 더해지거나 수정된 부분도 있었다. 특히 그 가운데 검찰의 피의자 신문조서에 대해 증거인정을 하지 않는다는 것은 검찰로서는 우려 표명할 만한 것이라고 생각한다. -반면 수사 받는 국민 입장에선 수월해진다고 볼 수 있고, 검찰 입장에서도 충분히 지금까지 가능한 논거라고 제기돼 왔던 부분 아닌가. ▷공판중심주의 강화 측면에서는 필요하지만, 우리 사법제체가 그 단계까지 충분히 준비돼 있느냐는 부분은 더 논의가 필요하다. 거기에 대해서는 법원 측 의견도 들어볼 필요가 있다고 생각한다. 다양한 의견 수렴은 필요하다고 생각한다. ◆인사검증 및 인사청문회 -조금 전에 조국 수석을 말하면서, 인사검증 문제를 꺼내셨다. 지금까지 청와대의 인사검증, 인사와 검증 양쪽 다 만족스럽다고 보시나. 국민들은 낮은 점수를 주는 분야다. ▷우선 인사실패다, 또는 심하게는 인사참사라고 평하는 부분은 저는 동의하지 않는다. 그 이유는 지금 이낙연 총리를 비롯해서 장관님들이 잘하고 있지 않는가. 지금까지 문재인 정부가 어느 정도 해왔다면 그것은 대통령이 혼자 잘한 것이 아니라 내각이 잘해준 것이라고 생각한다. 임명된 장관들이 의무를 제대로 못한다면 그것이야 말로 인사실패인데, 잘하고 있다면 인사실패일 수 없는 것이다. 심지어 인사청문보고서가 채택되지 않은 채 임명된 장관들도 좋은 평을 받는 분들이 많다. 그러면 청와대 추천이 문제이냐, 인사청문회가 문제이냐. 인사실패라 부른 부분은 검증에 있어서 국민들 눈높이에 맞지 않는 부분이 때로 있었다는 지적인 것 같고, 그 점은 저도 겸허히 인정한다. 보다 검증을 더 강화해야겠다는 다짐을 하고 있고, 여러 노력을 하고 있다. -예를 들어 임명은 됐지만 이미선 헌법재판관의 경우는 35억 주식투자 논란이 있었고, 국토부장관 후보자는 다주택 하지 말라고 하면서 본인이 다주택을 했던 것들이 인사청문회 과정에서 드러났다. 국민들이 어떤 기준이 맞냐, 검증이 잘못된 것인지 기준이 잘못된 것인지, 판단이 잘못된 것인지를 묻는다. ▷이렇게 봐주시면 좋겠다. 청와대 검증부터 청문회까지 전체가 하나의 검증 과정인 것이다. 청와대 검증이 완결적일 수는 없다. 소수 인원이 짧은 기간에 공적자료에 의존해 검증을 완벽히 할 수 있나. 그러니 청와대 이후 언론이 검증하고 인사청문회 검증을 하는 것이다. 전체 과정에서 검증되는 것을 보고 인사권자인 대통령이 최종 판단해서 임명하거나 하지 않거나 하게 되는 것이기 때문에 청와대 검증에서 밝혀내지 못한 부분 있었다거나, 또는 국민들 눈높이에 맞지 않다고 해서 그 자체로 검증의 실패다, 책임져야 한다고 말할 수는 없다는 것이다. 다만, 우리가 국민 눈높이에 맞는 검증을 할 수 있도록 계속해서 노력해 나가겠다는 것이다. 또 하나 말하고 싶은 것은 청와대가 그런 흠결이 있음에도 불구하고 발탁하려는 것은 또 한편으로는 그 분의 능력이나 실력을 평가해서 발탁하고 싶은 분이 있기 때문이다. -그런데 그 부분이 제대로 설명이 되지 않았다. ▷함께 결합해서 적절한 분인지 아닌지 판단해야 하는데, 지금 인사청문회 과정이 너무나 흠결만 가지고 정쟁을 벌이기 때문에, 아주 능력 있는 분들 조차 그런 분들 가운데서도 별로 흠결이 없는 분들 조차 우선 청문회 자리에 서기 싫어서, 또 가족들이 반대해서, 가족들이 도마 위에 오르기 싫어해서 고사한다. 지금처럼 청문회가 정쟁쟁의 장으로 운영된다면 좋은 인사를 발탁하는 장이 아니라 좋은 인사를 막는 장이 될 것이다. -그렇다면 제도 개선을 어떻게 할 지 고민할 시점이다. 대통령께서 민정수석과 시민수석을 하실 당시에도 인사 문제가 생겨서 장관 후보자에 대한 인사청문제도가 그 당시 도입됐고, 십수년 정도 우리 사회가 인사청문회 문화를 겪어온 셈이다. 그렇다면 대통령께서 그렇게 판단한다면, 청와대가 갖고 있는 후보자 자료를 국회에 제출하고, 조금 내밀한 자료까지도. 그러고 나서 2단계로 나눠서 신상 같은 것은 비공개로 하고, 나머지 업무역량과 정책역량은 공개로 하는 식의 제도를 바꿔보자는 생각은 하고 계신지. ▷그런 생각도 있다. -그런 혜안을 먼저 내놓는 것이 국민 설득 절차일텐데, 지금 청와대의 모습을 보면 뭐가 문제냐라는 식의 해명이 있었고, 흠결에도 이사람을 왜 쓰고 싶은지 국민들의 이해를 구하는 설명도 상당히 부족했다고 본다. 그렇기 때문에 유능한 게 맞는지, 솔직한 게 맞는지, 이런 비판을 받았던 것 아니냐. ▷첫번째, 제도화 부분은 제가 이미 제안하고 있다. 미국식으로 인사청문 절차를 두 단계로 나눠서 첫번째 도덕성 검증 과정은 비공개 적으로 하고, 그 대신 청와대와 국회, 야당이 모든 정보를 서로 공유하는 것이다. 그 정보를 다 모아 이 분이 공직자로 자격이 있나 없나 먼저 판단하고 그것을 통과하면 능력과 정책 역량을 가지고 검증하는, 그것은 공개적으로 하는 것이다. 그렇게 하는 것이 바람직하다고 생각하고 있고, 제안을 하고 있다. 그렇게 된다면 청와대가 가진 모든 자료를 우리도 제출할 뿐 아니라, 반대로 야당 자료도 우리가 함께 판단할 수 있을 것이다.청와대가 후보자를 발표하며 이 분이 이러한 흠결이 있지만 이런 점을 높이 평가해 발탁하고자 한다고 먼저 추천단계에서 국민들께 밝혀 드리고 싶다. 모든 후보자를 다 그렇게 할 필요는 없으나 적어도 문제가 될 만하다고 하는 분들은 그렇게 하면 좋겠다. 사실 과거 제가 민정수석을 할 때 그렇게 한 적도 있다. 저는 우리 인사팀들에게도 그렇게 요구하고 있는데 초기에 그렇게 한 번 했더니, 방금 균형 있게 이 분의 흠결과 정책능력을 비교해서 보는 것이 아니라 오히려 본인의 흠결에 대해 인사청문회에서에서 소명할 수 있는 기회 조차 주지 않고 논란을 더 앞당겨서 불러 일으키고, 거꾸로 청와대에서는 흠결에 대해 물타기하는 것이라고 공격 받고, 이런 일이 있어서 그 뒤에 그렇게 못하게 된 것 같다. 그 점에 대해 나름 여전히 필요하다고 생각하고 검토해 보겠다. ◆이명박·박근혜 전 대통령 사면 문제 -예정된 시간이 거의 다 됐다. 몇 가지 짧게라도 여쭙고 싶은데 예민한 질문일 수 있다. 보수진영에서 박근혜 전 대통령 사면 요구를 계속 하고 있다. 물론 반대하는 목소리도 상당하다. 대통령께선 법률가이시기 때문에 법적 판단이 있으시리라고 본다. 아직 대법원 판결 전이고, 대통령의 사면권을 제한적으로 쓰겠다고 하셨고, 그렇지만 대통령으로서 판단이 조금 다를 수 있을 것이라고 본다. ▷일단 박 전 대통령과 이명박 전 대통령 두 전임 대통령께서 지금 처해 있는 상황이, 한 분은 지금 보석 상태이시지만 여전히 재판을 받고 있고, 아직 한 분은 수감 중이시다. 이런 상황에 대해서는 정말 가슴이 아프다. 아마 누구보다도 저의 전임자 분들이기 때문에 제가 가장 가슴도 아프고 부담도 클 것이라고 생각한다. 그러나 답변은 아까 말씀하신 대로 아직 재판이 확정되지 않은 상황이기 때문에 그런 상황 속에서 사면을 말하기는 어렵다. -대법원 판결이 나오면 이후 생각해 보겠다는 것인가. ▷일단 재판 확정 이전에 사면을 바라는 것 자체가 그것은 어려운 일이다. ◆총선 정국 및 개각 -내년 총선이 있다. 총리를 포함해 많은 분들, 일부 장관들이 상당히 장수하는 분들이 있다. 총선이 있으면 당에서 요구가 있을 수도 있고, 개각 시점을 생각하시는 게 있는가. ▷특별히 개각 시기를 생각한 것은 없다. 다만 총리를 비롯해 장관들이 정치에 나선다면 그것은 전적으로 본인 의사에 달려 있는 것이고, 대통령으로서 바라고 싶은 것은 선거에 나갈 생각이 있다면 선거시기에 임박해서가 아니라 충분한 여유를 두고 의사를 밝히는 것이 바람직하겠다고 생각하고 있다. 그것은 선거에 대한 정부의 공정성 부분 면에서도 필요한 일이라고 본다. 뿐만 아니라 요즘 유권자들의 요구도, 이제는 낙하산으로 공천 받아 내려오는 게 아니라 지역에서 지역주민과 밀착되길 바라기 때문에 그것이 유권자들 요구라고도 생각한다. ◆3년 뒤 대한민국 모습 -마지막 질문이다. 며칠 전 외신에 '평범한 국민들이 위대함을 이뤘다'는 취지의 기고문을 낸 것을 인상적으로 읽었다. 평범한 국민들에게 앞으로 3년 후는 어떤 모습일 거라고 마지막으로 말씀 하신다면. ▷우선은 요즘 히어로, 영웅을 다루는 영화들이 인기를 끄는 것 같다. 역사를 봐도 영웅들이 역사를 바꿔온 것처럼 느껴지기도 한다. 그러나 제가 말씀드리고 싶은 것은 그렇지 않다는 것이다. 한국이 증명하고 있다. 3·1 독립운동은 주도자들이 이끈 것이 아니라 평범한 민중들이 이끌었다. 4·19혁명과 부마민주항쟁, 5·18 광주민주화운동과 6월항쟁, 그리고 또 지난번 촛불혁명조차도 전부 평범한 시민들의 선한 의지가 모여서 이뤄낸 것이지 않느냐. 평범한 시민들의 선한 의지가 정권교체를 이뤄냈고, 그 힘에 의해 문재인 정부가 탄생한 것이기 때문에 앞으로도 임기를 마칠 때까지 우리가 촛불 정신을 지켜내는 데에 온 힘을 다하겠다는 말씀 드리고 싶다. 보다 구체적으로는 지금까지 우리 경제가 강자의 경제였다면, 이제는 공정한 경제로. 그 다음에는 반칙과 특권이 난무하는 시대였다면, 이제는 역시 그런 것이 없는 공정한 사회로. 양극화가 극심한 사회에서 이제는 함께 잘사는 그런 시대, 경제로. 남북관계도 대립과 전쟁의 시대에서 평화의 시대, 넘어서 협력의 시대로, 나아가선 평화경제의 시대로 발전시켜 나가야 겠다는 것이 저의 목표다. 물론 우리 정부가 모든 일을 다 이룰 수 있다고 생각하지 않는다. 그러나 확실히 임기가 마칠 때 쯤이면 그런 시대가 왔다는 것을 피부로 느낄 수 있도록 최선을 다하겠다. ◆북한 단거리 발사체 -아무래도 어떤 질문으로 시작을 해야 되나 고민을 했었는데 조금 전에 생긴 현안부터 여쭈울 수밖에 없을 것 같다. 4시반쯤부터 해서 북한이 발사체 두발을 쏘아올렸다. 오늘은 단거리 미사일로 추경이 된다. 보고는 받으셨나. ▷그렇다. 북한이 며칠 전에 여러 종류의 단거리 발사체를 발사한 데 이어서 오늘은 일단 단거리 미사일로 추정되는 그런 발사를 했다. 며칠 전의 발사에 대해서는 신형전술유도무기라고 규정을 했었는데 오늘 단거리 미사일로 추정하는 이유는 며칠 전은 북한이 동해안에서 자신들의 앞바다를 향해서 발사를 했기 때문에 사거리가 비교적 짧았다. 오늘은 평안북도 지역에서 육지를 넘어서 동해안까지 발사를 했기 때문에 두발 중의 한 발은 사거리가 400㎞를 넘는다. 그래서 일단 단거리 미사일로 한미 양국이 함께 추정을 하고 있는 것이다. -그 판단은 한·미양국이 같이 내린 것인가. ▷공조하고 있다. -지난 4일 발사체 최장 거리가 240㎞이었는데 오늘은 보면 사거리 420㎞ 발사체가 있다는 것이지. ▷두발 중의 한발이 그렇게 된 것으로 보고 있다. -1.5배 더 늘어난거고 그렇게 해서 한미양국이 공조를 통해서 '발사체는 단거리 미사일로 추정이 된다' 이렇게 규정했다는 것인가. ▷그렇다. -지난 번 발사체 때는 한·미양국이 전략적 해석이라는 표현도 나왔습니다만 미사일이라는 표현을 쓰는데는 주저하지 않았나. 그런데 사거리가 이렇게 됐다. ▷지난 번에 일단 고도가 낮은 데다가 사거리가 짧았다. 미사일로 단정하기에는 이르다고 보고 계속 한미양국이 분석중에 있는 것이다. 오늘은 고도는 낮았지만 발사고도는 낮았지만 사거리가 길었기 때문에 일단은 단거리 미사일로 추정을 하는 것이다. -면밀한 분석이 있어야 되겠지만 탄도미사일 가능성이 있으면 문제가 예를 들어서 '유엔결의안 위반이다' 이런 해석으로 이끌어갈 수 있는 사안이다. ▷일단 유엔의 안보리 결의는 북한의 중장거리 탄도 미사일을 겨냥한 것이다. 이전에 북한이 단거리 미사일을 발사했을 때는 문제삼은 적이 없었다. 그러나 유엔 안보리 결의 속에는 탄도미사일을 하지 말라는 그런 표현이 있기 때문에 비록 단거리라 할지라도 그것이 탄도미사일일 경우에는 유엔 안보리 결의에 위반될 소지도 없지 않다고 생각한다. -그 부분은 추가적인 분석이 있어야 하는 건가. ▷그렇다. 최종적인 판단은 한미양국이 재원이라든지 종류라든지 궤적이라든지 이런 것을 조금 더 면밀히 분석해서 판단을 하게 될 것이다. 참고로 말씀드리면 지난 번의 발사에 대해서도 유엔안보리 결의 위반여부를 판단 중에 있긴 하지만 일단 미국은 지금까지는 유엔안보리 결의는 위반하지 않은 것으로 그렇게 판단을 내리고 있다. -판단 역시 한미 양국이 같이 공유하는 것인가. ▷공유한다. 한편으로 '남북군사합의에 위반되는 것 아니냐'라는 판단도 필요한데, 지금 남북간에는 서로 무력 사용을 하지 않기로 합의를 한 바 있다. 훈련도 휴전선으로부터 비무장지대로부터 일정한 구역 밖에서만 하기로 합의를 한 바 있는데 지난번이나 이번에 북한의 훈련 발사는 일단 그 구역밖에 있고, 군사합의 이후에도 남북이 기존의 무기체계를 발달시키기 위한 시험발사나 훈련 등은 계속해 오고 있기 때문에 남북 간의 군사합의를 위반한 것은 아니라고 보고있다. 그럼에도 북한의 이런 행위가 거듭된다면 지금 대화와 협상국면을 어렵게 만들 수 있다는 점을 북한측에 경고를 하고 싶다. -북한이 4일하고 오늘, 닷새만에 두차례 도발을 했다. 그 수위는 올라갔다. 현 시점에서 좋은 시그널은 아니고, 북한이 왜 이 시점에서 도발행위를 하는 것이라고 판단할지 의도를 분석하는 게 현재로서는 중요한 포인트일 것 같다. ▷정확한 의도는 알 수 없지만 북한이 지금까지 북한 자신의 매체를 통해 밝혀온 여러 가지 보도내용을 종합해보면 북한은 하노이 제2차 북미정상회담이 합의를 이루지 못하고 끝난데 대해서 상당히 불만을 가지고 있는 것 같다. 그래서 미국이나 한국 양측에 대해서 일종의 시위성 성격이 있지 않은가 판단을 하고 있다. 그와 함께 앞으로 비핵화 대화를 자신들이 원하는 방향으로 이끌고자 하는 압박의 성격도 담겨 있다고 본다. 한편으로는 조속한 회담을 촉구하는 그런 성격도 있지 않을까 생각한다. 어쨌든 북한의 의도가 뭐라고 하더라도 결국 근본적인 해법은 북미양국이 조속히 빨리 앉는 것이라고 생각한다. 북한도 불만이 있다면 조속히 대화의 장에서 불만을 명확하게 그렇게 밝히는 것이 바람직하다고 생각한다. 이런 방식으로 북한의 의도를 여러 가지로 해석하게 만들고 또 우려하게 만들고 자칫 잘못하면 대화와 협상국면의 찻물을 끼얹는 이런 성격을 거듭 하는 것은 결코 바람직하지 않다는 것을 북한측에 다시 한 번 이야기하고 싶다. -4일 단거리 발사체가 발사됐을 때 한미양국이 북한의 의도를 판을 깨려는 것으로 보지는 않는다는 취지로 해석을 하는 기류였다. 그런데 그런 도발에 대해서 단호한 규정을 하지 않아서 북한이 추가 도발성 행위를 한 것이다, 이런 시각도 있을 수 있을 것 같다. ▷일단 북한은 계획된 행동으로 보인다. 그러나 대화의 판을 깨지 않으려고 노력하는 모습도 함께 보여주고 있다. 무언가 과거에는 이런 발사를 하면 굉장히 허세를 부리고 과시하는 그런 행동을 했지만. -허세를 부리고 과시하는 행위는 어떤 걸 말하는지 ▷'ICBM을 완성했다' '고도 미사일을 능력을 갖게 됐다' 이런 식으로 국제사회에 위협적인 표현들을 했었는데, 이번에 북한은 그냥 '신형전술유도 무기를 시험훈련한 것이다' 라고 낮은 로우키로 발표를 했고, 발사를 방향이라든지 발사지역도 미국이나 일본 한국에게 별로 위협이 되지 않는 그런 방식으로 발사를 했기 때문에 북한 측에서는 한편으로 자기 의사를 표현하면서 판이 깨지지 않도록 유의하는 것으로 판단한다. -대통령께서도 4일 도발이 있었고 단거리 발사체 발사가 있었고 오늘 추가발사가 있을 것이라고 예측은 못한 것인가. ▷네 그렇다. 그리고 북한이 이것이 마지막인지 여부도 아직은 판단하기 어렵다. -며칠만에 다시 미사일로 추정되는 단거리 발사체를 쐈기 때문에 예를 들어 추가도발이 있을 수도 있을 가능성은 우리가 배제할 수는 없을 것이다. 그렇다면 '상황을 더 악화시키면 안 된다. 상황관리차원에서 라도 우리가 특사를 보낼 필요성이 있다'는 판단은 안하고 계신 건가. ▷일단 북한의 의도가 어디에 있건 북한의 행동이 자칫 잘못하면 협상과 대화의 국면을 어렵게 만들 수 있다는 점은 우선 우리가 경고를 하는 바이다. 그리고 아까 근본적인 해법이 역시 북미간에 조속히 마주 앉는 것이라고 생각하는데, 그렇게 될 수 있도록 한국 정부는 다각도로 노력을 하고 있다. ◆대북 식량지원 -이런 상황에서 어쨌든 나온 얘기는 대북 식량지원 문제다. 한미정상 간 통화 때 이 문제를 먼저 거론하신걸로 안다. 트럼프 미국 대통령한테. ▷일단 통화의 첫 목적은 지난번 발사에 대해서 어떻게 볼 것인가 라는 것을 서로 공유하기 위한 것이었는데, 그에 대한 트럼프 대통령의 말씀은 좀 고약한 일일 수도 있지만 신경쓰지 않는다. 나는 김정은 위원장을 좋아한다. 김정은 위원장과 좋은 관계에 있다. 나는 김정은 위원장과 대화를 원하고 대화를 통해서 잘 해결될 것이라고 기대하고 있다. 이런 말씀이었다. 그러면서 대화 속도를 내기 위해서 우리가 어떤 일을 해야 할 것인가 라고 저한테 질문도 했기 때문에 그런 과정에서 자연스럽게 대북식량지원 문제가 논의가 된 것이다. -대화를 끌어내기 위해서 대북 식량문제도 어떤 계기가 될 수 있을 것이다라는 판단을 하셨다는 말인가. ▷일단 한국의 입장에서는 우선 대화 카드 이전에 지금 아시는 바와 같이 유엔 세계 식량 계획, 세계식량원조 기구가 정밀하게 조사해서 공식보고서로 발표한 바에 의하면 북한의 식량난이 최근 10년동안 가장 심각하다는 것이다. -성인 1명이 1년에 달걀 2~3개 섭취할 정도다 라는 보고서 내용이다. ▷이미 올해 1월부터 식량 배급량을 많이 줄였고, 앞으로 6월부터 8월까지 춘공기 동안에는 더 줄일 전망이어서 한 40% 정도, 북한인구의 40% 정도가 말하자면 기아에 직면하게 되고 특히 아동과 여성들이 직접적으로 피해를 거둘 것이다 라는 보고도, 그래서 세계각국에게 북한에 대한 식량의 지원을 촉구하는 내용들이었다. -그래서 우리 정부가 선도하는 차원이라는 말인가. ▷그렇다. 그에 비해서 우리 정부가 비축하고 있는 재고미(비축미)가 국내수요를 넘어서서 보관비만 6000억원이 소요되는 실정이다. 그런 형편이기 때문에 북한동포들의 심각한 기아상태를 우리가 외면할 수 없고, 우리가 동포애나 인도주의적인 차원에서라도 우리가 북한의 식량을 지원할 필요가 있다고 생각하는 것이다. 두 번째로는 그것이 대화 교착상태를 조금 열어주는 그런 효과도 있을 것이라고 생각한다. 그점에서 트럼프 대통령은 아주 전폭적으로 지지를 보여줬다. -정부가 구체적으로 방법과 규모 이걸 생각할 수밖에 없을 텐데, 정부 직접 지원 방식이 낫다고 판단을 하고 있나. ▷일단 트럼프 대통령의 전폭적인 지지에 대해서 한번 더 구체적으로 설명을 해 드리면, 왜냐하면 그 부분이 미국 측도 의문을 표시하는 분들도 계시기 때문에 말씀을 드리면, 트럼프 대통령은 전폭적으로 지지를 하면서 자신이 우리 한국의 북한에 대한 인도적 지원에 대해서 절대적으로 축복을 한다는 말을 전해달라. 그리고 그것이 또 굉장히 아주 큰 좋은 일이다라고 자신이 생각한다는 것을 발표해 달라. -그 부분은 충분히 전달됐을 것 같다. ▷그렇게 여러 번 서너번 거듭 해서 부탁을 할 정도였다. 일단 우리가 식량지원을 하게 되면 남북협력기금을 사용해야 되는데, 나중에 사후에 국회에 보고도 해야 한다. 그래서 북한의 식량지원 문제에 대해서 저로서는 가장 바람직한 것은 지금 패스트트랙 문제 때문에 여야 간 정국이 교착상태에 빠져 있는데 그 문제는 별도로 해결하더라도 북한에 대한 식량지원에 대해서는 대통령과 여야가 함께 모여서 협의를 하는 것이 바람직하지 않을까 라는 생각을 하고 있다. -그런데 시점이 국민들이 받아들이기에 단거리 발사체 발사 같은 국면에서 식량지원 문제에 대해서는 혼란스럽거나 아니면 반감이 생길 수도 있을 것 같다. ▷그래서 그렇기 때문에 사실은 식량지원에 대해서 우리가 한미간에 합의를 한 것이 이번 발사 이전인데, 그 이후에 또 다시 발사가 있었기 때문에 이 점에 대해서는 국민들의 공감이나 제재가 필요하다고 생각한다. 여야 정치권 사이에 충분한 논의도 필요하다고 생각한다. 차제에 대통령과 여야 대표들의 회동이 이뤄지면 좋겠다는 생각을 하는 것이다. -이 문제를 예를 들어서 꽉막힌 국회상황에서 여야 지도부에게 회담을 하자 제의를 하신 거라고 이해해도 되나. ▷그렇게 제안하고 싶다. 패스트트랙 문제같이 당장 풀기 어려운 문제는 주제로 하기 곤란하다면, 이번 식량지원 문제나 안보문제 이런 문제에 국한해서 회동을 할 수 있다고 생각한다. ◆하노이 회담 및 4차 남북정상회담 추진 -지난 하노이 보면 일반적으로 표현할 때 북한은 '영변이면 충분하지 않냐' 미국은 '전체가 해결돼야 한다'는 간극이 좁히지 못했던 것 같다. 간극을 좁힐 수 있는 분위기가 조성이 되어 있나. ▷우선 지금 양국이 비핵화 대화의 최종목표에 대해서는 완전히 일치를 보고 있다. 미국은 북한의 완전한 비핵화를 원하는 것이고, 또 북한은 자신들의 완전한 안전보장을 원하는 것다. 이점에 대해서는 서로 간에 또 한국까지도 다 최종목표에 대해서는 합의가 되어 있는 상황이다. 문제는 이것이 어느 순간에 '짠' 하고 한꺼번에 교환될 수가 없는 것이기 때문에 거기에 이루는 과정이나 프로세스 등 로드맵이 필요한데 이점에서 의견이 맞지 않는 것이다. -중재자 역할을 하기 위해서 4차정상회담을 추진하겠다고 하신 건데 지지부진한 상태다. 언제쯤으로 예측할 수 있을까. ▷지지부진하다고 말씀을 하긴 그렇다. 우리는 북한에게 아직은 재촉하지 않고 있다. 북한은 외교가 발달된 나라가 아니다. 하노이 정상회담 이후에 자기들 나름대로 입장을 정리하는 시간도 필요했을 테고, 푸틴 대통령과의 정상회담도 예정이 있었고, 저희는 사전에 일정을 다 파악을 하고 있었기 때문에 그때까지는 북한이 회담을 위한 대화를 하기가 어려웠을 것이라고 판단했고, 이제 북한이 그렇게 대화를 할 수 있는 상황이 되었기 때문에 지금부터 북한에게 적극적으로 회담을 제안하고 대화로 이끌어낼 그런 계획이다. ◆도보다리 회담 -4·27 남북 정상회담 때 도보다리에서 30분을 얘기를 했다. 어떤 얘기를 했는지 풀어주실 수 있는지. ▷일단 저도 그 대화가 참 좋았다. 사실은 그 다음 일정에 이르는 하나의 휴식시간에 좋은 그림으로 보여주기 위한 일정이었는데. 실제로 두 사람이 진솔하게 대화를 나눌 수 있는 좋은 기회가 되었다. 같은 언어를 사용하기 때문에 통역이 없어도 된다는 것이 참 좋았다. 그때 김정은 위원장은 자신들의 비핵화 의지에 대해서 아주 진솔하게 다 표명을 했다. 말하자면 안정보장을 위한 것인데 핵 없이도 안전할 수 있다면 우리가 왜 제재를 무릅쓰고 힘들게 핵을 들고 있겠는가 이런 표현으로 비핵화의지를 표명했고, 미국과 회담해 본 경험이 없고, 주변의 참모들 가운데에도 그런 경험들이 없는데 회담을 한다면 어떻게 하면 좋을 것인가 여러 가지 조언을 구하고, 주로 김정은 위원장이 저에게 물어보고 제가 그에 대해서 답해 주는 시간이었다. ◆한일관계 -외교안보 질의를 드리고 싶다. 한일 관계문제다. 과거사 문제는 과거를 지울 수 없는 문제고 과거사 문제가 한일관계의 족쇄가 된 게 너무 오랜 시간이다. 실질적인 협력 문제가 클 텐데 전혀 진도를 나가지 못하고 있다. 하나 계기가 생긴 것이 일왕이 바뀐 계기가 있다. 이 때문일까. 일본에서는 일왕의 방한 추진 얘기도 언론에서 나온 것으로 알고 있다. 검토해 본 사안인지. ▷아니다. 어쨌든 일본 새 천황의 즉위를 계기로 한일관계가 더 발전했으면 좋겠다는 희망을 가지고 있다. 저는 한일관계가 굉장히 중요하다고 생각하고, 앞으로 더 미래지향적으로 발전돼 나가야 한다고 생각한다. 다만, 어려움을 겪고 있는 것은 과거사 문제가 한번씩 양국관계발전에 발목을 잡고 있는데 그것은 결코 한국정부가 만들어 내고 있는 문제가 아니다. 과거에 엄밀히 존재했던 불행했던 과거때문에 비록 한일 기본협정이 체결되긴 했지만 인권의식들이 높아지고 국제규범이 높아지고 하면서 여전히 조금씩 상처들이 굳어져 나오는 것이다. 이 문제들로 인해서 미래지향적인 협력관계가 손상되지 않도록 양국정부가 잘 지혜를 모을 필요가 있는 것이다. 그런데 일본 정치지도자들이 자꾸 그 문제를 국내 정치적인 문제로 다루기 때문에 과거사 문제가 미래지향적인 발전의 발목을 잡는 일이 거듭되고 있다고 본다. 저는 양국이 함께 지혜를 모아나가길 바란다. -다음달 G20을 계기로 한일정상회담은 준비가 들어간 상황인지. ▷그때 일본을 방문하게 될 텐데, 그 계기에 일본에 아베 총리와 회담을 할 수 있다면 그것은 좋은 일이라고 생각한다. 다음은 경제산업 분야 일문일답. ◆소득주도 성장 및 최저임금 인상 (국민들 인터뷰 영상 시청 후) -들어보시니까 어떤지. ▷저분들 말씀도 다 들어드리고 싶고 다 해결하고 싶다. 그러지 못해서 송구스럽다. -경제문제가 아무래도 많았던 것 같습니다. 우선 최저임금 인상 얘기부터 드려볼까 한다. 대통령께서 실행해 오신 경제정책의 사람들이 가장 많이 기억이 남는 단어를 꼽으라고 한다면 소득주도 성장이 아닐까 싶다. 최저임금 인상이 소득주도 성장의 단 하나의 정책은 아니다. 그런데 최저임금 인상을 하는 과정에서 생긴 논란 때문에 소득주도 성장 자체에 논란이 생겨버린 국면이다. 과정을 조금 더 다듬어갔으면 하는 후회는 없는지. ▷그렇다. (한숨) 아쉬움이 많다. 우선 이점은 꼭 말씀드려야 될 것 같다. 최저임금 인상을 통해서 적어도 고용시장 안에 들어와 있는 분들, 고용된 노동자들의 급여라든지 이런 부분은 굉장히 좋아졌다. 저소득 노동자 비중이 역대 최고로 낮아졌다. 또 1분위 노동자와 5분위 노동자 사이 임금격차도 역대 최저로 줄어들었다. 임금노동자가구의 소득이 크게 높아졌고 한편으로 지난 3월에는 고용보험가입자수가 52만명 늘어나서 고용안전망 속에 들어온 온 노동자 수도 늘었다. 당연히 상용직도 늘었다. 고용시장 안에서의 경제적인 효과는 뚜렷한데 반면에 고용시장 바깥에 있는 자영업자들의 삶이라든지, 가장 아랫층에 있던 노동자들이 고용시장에서 밀려나게 어려움을 겪는다든지. 이런 부분들을 함께 해결하지 못한 것이 참으로 가슴이 아프다. 어려운 일은 이런 분들의 어려움을 해소해 줄 수 있는 자영업자 대책들, 이런 부분들, 사회안전망을 높이는 부분들이 최저임금과 동시에 병행해서 시행했다면 그런 어려움을 덜어드릴 수 있었을 텐데 최저임금 인상은 정부에 의해 먼저 시행되고 자영업자 대책이라든지 EITC, 근로장려금 같은 부분들은 국회의 입법과정을 거쳐야 되기 때문에 시차가 생기게 되는 부분들이 참으로 어려운 점이기도 하다. 당사자들에게는 참으로 정부로서는 송구스러운 점이라는 말씀을 드리고 싶다. -어떤 부작용이 있는지도 파악을 하고 계셔서 최저임금의 속도조절 인상의 속도조절에는 동의를 하시는 것 같다. 만약 국회의 처리가 되지 않는다면 현행 제도로 내년도 최저임금 인상폭은 결정이 될 텐데, 2년간 두 자릿수 인상이었어요. 내년까지 두 자릿수 인상은 무리라고 판단을 하시나. ▷이건 참 답변 자체가 조심스럽다. -물론 대통령께서 결정 권한이 있는 것이 아니라는 것은 알고 있다. ▷우선 그렇지만 지난 번 대선 과정에 저를 비롯한 여러 후보들의 2020년까지 최저임금 1만원으로 인상하겠다는 공약, 이런 것이 최저임금위원회의 결정에 영향을 있었다고 생각한다. 그점에 대해서는 대통령도 함께 책임을 져야 하는 것이라고 본다. 일단 결정 권한이 정부 대통령에게 있는 것이 아니고 최저임금위원회에서 독립적으로 그렇게 결정하게 되어 있는 것이어서 대통령이 가이드라인을 제시하기는 어렵다고 생각한다. 그러나 분명한 것은 그때 공약이 2020년까지 1만원이었다고 해서 공약에 얽매여 무조건 그 속도대로 인상되어야 한다고 하는 것은 아니라고 생각한다. 우리 사회, 우리 경제가 어느 정도 수용할 수 있는지 적정선을 찾아서 결정할 필요가 있는 것이다. 올해 최저임금은 작년 최저임금 인상에 비해서 이미 속도조절이 되었다고 생각한다. 그렇다고 하더라도 2년에 걸쳐서 최저임금이 가파르게 인상이 됐고, 그것이 긍정적인 작용이 많은 반면, 한편으로는 부담을 주는 부분들도 적지 않다고 판단한다면 최저임금인상위원회가 그런 점을 감안해서 우리 사회가 우리 경제가 수용할 수 있는 적정선으로 판단하지 않을까 그렇게 기대를 하고 있다. -2020년 공약에 얽매이서 않고 사회가 수용할 수 있는 선에서 한다는 것인가. ▷네. 그렇기 위해서는 법제도로서 최저임금 결정 제도 이후나, 두 단계를 걸쳐서 결정하는 법개정을 하려는 것인데, 국회에서 처리되지 않아서 아쉽지만 현행 제도로 가더라도 최저임금인상위원회가 그런 취지를 존중하지 않을까 생각한다. -좀 전에 잠깐 설명을 드렸지만 최저임금 인상 논란 때문에 소득주도 성장이 불필요한 논란이라고 표현해야 될까. 굉장히 논란에 휩싸인 정책이 됐다. 요즘에는 이 용어를 덜 쓰시는 것 같다. ▷아까 얘기했다시피 노동의 고용의 질은 좋아진 것은 분명하다. 그러나 고용양의 증가에 있어서 과거보다 못해졌다. 못해진 이유 속에는 이런 구조적인 문제도 많이 있지만 최저임금 인상의, 말하자면 효과도 있다고 이야기들이 되고 있는 것이다. 물론 어느정도 영향을 미쳤느냐 대해서는 서로 평가가 다르지만 그러나 또 이 부분들은 시간이 조금 더 필요한 부분이기도 하다. 당장 1년 간 보면 고용의 증가가 현저하게 둔화가 돼서 고용증가수가 10만명 밑으로 떨어졌는데 금년 2월, 3월 두달 동안은 다시 25만명 수준으로 다시 높아졌고 정부는 그 추세가 지속될 것으로 보고 있다. 그래서 당초 경제 계획 상으로는 올해 고용증가를 15만명 정도로 잡았었는데 지금은 20만명 정도로 상향하는 그런 식의 기대를 하고 있다. 특히 추경까지 통과가 된다면 목표 달성에 더 용이해지리라고 보고 있다. 그래서 최저임금의 인상으로 인해서 생기는 여러 가지 부작용의 문제조차도 사실은 좀 더 긴 시간을 두고 판단해 볼 필요가 있는 것인데, 당장 어려움을 겪고 있는 분들이 많이 있기 때문에 그 해결에 우리가 좀 더 많은 노력을 해야 된다고 생각한다. ◆일자리 문제 -집무실에 일자리 상황판이 있나. ▷지금도 있다. -오늘 봤나. ▷(웃음) 대체로 월별 단위로 발표가 되기 때문에 매달 수정이 된다. 고용상황들은 지난 3월 부분까지만 발표가 되었기 때문에 3월 말 현재 상황들이 지금 일자리 상황판에 있다. 수출은 4월달까지 표기되어 있다. -상황판을 자세히 설명해 주실 필요는 없다. ▷6월의 고용사정이 좋아졌기 때문에 지금은 일자리 상황판에서 좋은 지표들은 대체로 올라가고 나쁜 지표들은 대체로 떨어졌다. -두어달 일자리 수는 괜찮아졌다, 얘기를 하셨는데 고용의 질이 문제가 생기게 되는 부분이 있다. 저희가 봤더니 일자리가 생기긴 했는데 이중에 상당수가 초단기 일자리, 그래서 주 15시간도 안 되는, 정말 예를 들어서 보험의 사각지대에 놓여있는 초단기 일자리가 상당부분 차지하고 있더라. ▷맞다. 그 사실은 맞는데 그런 초단시간 일자리는 대체로 노인 일자리에 해당한다. 아시다시피 고령화가 급격하게 진행되고 있어서 65세 이상 인구가 14%가 넘는 고령사회를 이미 2017년에 통과했고, 2025년이면 20%가 넘는 초고령사회가 될 것으로 예상된다. 65세 이상 어르신들에게는 정규직의 좋은 일자리가 불가능하다. -지속가능한 일자리가 안 되는 것이다. ▷짧은 시간의 일자리라도 마련해 드리는 것이 그나마 필요한 일이고, 그렇지 않으면 온전히 복지대상으로 떨어질 수밖에 없는 것이다. 어르신들을 위한 나쁜 일자리라도 일자리가 없는 것보다는 낫기 때문에 그런 노력을 계속해 나가야 한다고 생각한다. -말한대로 그런 분들께는 나쁜 일자리라도 있는 게 나을 수는 있지만, 그렇게 되기 위해서 투입되는 재정 부담을 생각하지 않을 수 없나. ▷어르신들의 공공근로 일자리는 쭉 과거 정부부터 해 왔던 것이다. 이것은 어찌보면 일자리와 일자리를 통한 복지의 성격을 가지고 있는 것이다. 고령인구가 크게 늘고 있기 때문에 일자리 수를 더 늘리고 과거의 급여가 낮았기 때문에 급여를 두배 높여서 실제로 어르신들의 빈곤 해결에 도움되도록 정부가 노력하고 있는 것이다. 그래서 말씀드리자면 노인 빈곤율도 꽤 개선되고 있다는 말씀을 드린다. -제일 문제는 청년일자리다. 지속가능한 일자리가 청년에게 계속 공급되는 게 중요할 텐데 이런 일자리는 어디서 만들어야 해야 하는 것인가. 공공부문 일자리 81만개 만들겠다는 공약을 했었다. ▷일단 지난 2, 3월 청년 고용률 아주 높아졌고 청년들의 실업률도 아주 낮아졌다는 말씀을 드린다. 특히 25세부터 29세 사이는 굉장히 인구가 늘었음에도 불구하고 고용상황이 아주 좋아졌다는 말씀을 드린다. 물론 완전히 다 해결된 것은 아니다. 좋은 일자리를 늘리려면 여러 방향이 있다. 하나로서 만능의 카드는 없다. 첫째 우리가 제조업에 강점이 있다. 조선이나 자동차같은 주력 제조업이 세계 경기둔화에 의해서 부진을 겪었다. 제조업을 혁신해 고도화해서 경쟁력을 높여 일자리를 늘리는 방향이 하나 있다. 또 신산업들을 빨리 성장시켜서 좋은 일자리를 만들어야겠고, 요즘 벤처창업들을 크게 늘리고 지원할 필요가 있다. 한편으로는 아까 말씀하신 공공일자리 부분도 어르신들 일자리만 이야기했지만 소방관이나 경찰들은 아직까지 수가 부족하다. 사회 서비스일자리는 아직도 많이 부족한 실정이다. 그런 것을 통해서도 일자리를 늘려나갈 필요가 있다고 본다. ◆경제성장률 및 대통령의 경제 인식 -우리 경제성장률이 -0. 3%였다. 경제 괜찮은 건가. ▷걱정되는 대목이다. 앞 분기에 비해서 0. 3% 마이너스 성장을 이뤘다. 작년에 비하면 1. 8% 성장에 해당하는 것이다. 우리의 목표는 2. 적어도 5에서 6% 인데 앞으로 만회를 해 나가야 되는 것인데 분기의 마지막인 3월에는 저성장의 원인이었던 수출부진 투자부진 이런 부분들이 회복되고 있고 좋아지는 추세다. 정부나 한국은행에서는 점점 2/4분기부터는 상황들이 좋아져서 하반기에는 잠재성장률에 해당하는 2% 중후반 수준을 회복할 것이다. 그렇게 전망하고 기대를 하고 있다. -그런데 다른 기관들 해외기관들이 성장률을 전망치를 낮추는 경우가 있다. 경제가 심리여서 그런지 모르겠습니다만 이 수치는 괜찮고 괜찮아질 거다라고 말씀을 해 주셨지만 이런 것들이 실생활에서 어려움을 겪고 있는 국민들에게는 와닿지가 않는다. 그래서 우리는 답답한데 왜 대통령께서는 괜찮다고 할까 이런 인식의 괴리 문제를 많이들 얘기를 한다. ▷그 말씀은 충분히 이해를 할 수 있다. 그러나 우리가 분명하게 인정해야 할 것은 우리가 거시적으로 볼 때 한국경제가 크게 성공을 거두었다는 것이다. 지난번 원로들과의 대화때도 이홍구 전 국무총리께서 지금 우리가 우리 앞에서 벌어지고 있는 일들은 과거 70년간 크게 성공해 와서 생긴 일이다라고 말씀하셨는데, 작년에 소득 3만불이 넘어서면서 세계 7번째로 3050 클럽, 3만불 이상 인구 5천만명 이상 클럽에 가입을 하게 됐다. 그런 나라들, G20 국가들이나 OECD국가들 중에서 한국은 상당한 고성장국가다. 이례적으로 경제가 좋았던 미국 다음으로 한국이 가장 높았다. 지금도 그런 추세다. 그래서 거시적인 경제성공은 인정하고 자부심을 가져야 한다고 생각한다. 다만 국민들에게 고르게 다 소득배분이 되고 있지 않고 있기 때문에 아직도 양극화가 심각하고 특히 소득이 낮은 층의 소득이 늘지 않고 있기 때문에 그분들의 사는 문제가 해결이 안 되고 있다. 고용의 문제가 주츰해졌다, 일자리를 늘려야 된다는 인식을 정부가 똑같이 하고 있고 똑같은 아픔을 느끼고 있다. ◆재벌대기업 및 삼성전자 방문 -경제가 활력을 찾기 위해서 정부도 노력을 해야하지만, 한축은 기업이다. 요즘 기업을 많이 방문하시는 모습들을 언론에서 봤다. 가장 최근에는 삼성전자를 방문하고 이재용 부회장을 만났다. 대법원 판결을 앞두고 이재용 부회장을 만난 것에 대해서 부담은 없었는지. ▷일단 삼성이 시스템 반도체 분야의 133조원을 투자하겠다는 현장을 방문한 것이다. 저는 그렇게 투자를 늘리고 일자리를 만들고 경제에 도움이 되는 일이라면 대기업이든 중소기업이든 벤처기업이든 누구든 만날 수 있고, 다음에 또 방문할 수 있다고 생각한다. 그러면서 제가 예상을 했다. 두 가지 비판이 있겠다. 하나는 재벌성장으로 회귀하는 거 아니냐. 두번째는 재판을 앞두고 있는데 그런 거 아니냐. 그런데 저는 이제 그렇게 이분법적으로 보는 그런 사고들에서 벗어나야 한다고 생각한다. 대통령이 재벌을 만나면 친재벌이 되고, 노동자를 만나면 친노동자 되겠나. 그날 방문을 앞두고 오전에 국무회의에서는 대기업의 오너들이 말하자면 회사에 대해서 횡령이나 배임 등의 범죄를 저지르고도 계속해서 경영권을 가지는 앞으로 못하도록 횡령·배임 유죄판결을 받으면 임원자격을 가지지 못하도록 시행령을 개정했다. 그러면 그것이 반재벌이겠나. 그래서 그런 상투적인 비판이라고 생각한다. 재판을 앞두고 있는데 봐주기 아니냐는 것은 사법권의 독립권에 대해서 훼손하는 말이라고 생각한다. -재판은 재판이고 경제는 경제란 것인가. ▷재판은 재판이다. -분명 나눠져있다. ▷금융은 금융, 경제는 경제 그런 것이다. -사법권이 어떻게 훼손되는지 국민들이 봤기 때문이 그런 시선을 가질 수도 있었다고 본다. ▷그러나 지금은 만약 그 논리라면 대통령과 가까운 사람들은 다 봐주겠나. 그렇게 되지 않는다. 오히려 더 엄중하게 수사받고 재판받고 하는 것이 현실이지 않나. ◆미래먹거리 -앞으로 펴실 정책도 질의를 드려야 될 것 같다. 어떤 점에 주안점을 저희가 지켜봐야 될까. 제조업도 부활시켜야 되고 4차산업 혁명시대에 대비도 해야 되고. 미래먹거리도 발굴해야 한다. ▷그렇다. 아까도 얘기했지만 한국의 경제성장률은 결코 낮지 않다. 그러나 뭐가 우려되는 상황이냐면 잠재성장률이 점점 낮아지고 있는데, 기존의 메모리 반도체 분야 이후로는 말하자면 새로운 신성장동력 같은 것들이 마련되지 않고 있다는 것이다. 그래서 새로운 산업을 통한 새로운 신성장동력을 마련하는 것이 시급하다고 보는 것이다. 그것이 우리가 말하는 혁신성장이라는 것인데, 우선 아시다시피 가장 시급하게 중심적인 역량을 쏟아부은 것은 시스템반도체, 바이오, 미래자동차 분야. 이런 부분들을 중점적으로 육성하려고 하고, 한편으로는 기존 제조업의 혁신을 통해서 다시 제조업 강국의 위상을 굳건하게 하려는 것이다. 한편으로는 제2의 벤처붐, 이미 작년에 벤처창업 기업수도, 벤처투자액도 역대 최고를 기록했다. 벤처붐을 더 크게 일으켜서 그것을 통해서도 새로운 성장동력을 찾고 한편으로는 더 좋은 일자리들을 많이 만들어 내려고 그렇게 노력하고 있다. -미래먹거리 몇 가지를 얘기했데 수소차, 시스템반도체, 바이오 산업 이런 것이 대기업이 주도할 수밖에 없는 영역 아닌가. ▷반드시 그렇지 않다. 시스템반도체 가운데서 삼성이 투자하기로 했던 파운더리 반도체 부분은 다른 기업이 설계한 반도체를 주문받아서 생산하는 것이기 때문에 대규모 생산설비가 필요하다. 그런 분야는 대기업이 잘할 수 있지만, 설계를 하는 팹리스는 생산설비가 필요 없기에 오히려 중소기업에 적합한 업종이다. 그런 지원들이 필요하고, 바이오 헬스 분야도 오히려 중소기업들이 약전하고 있는 분야다. 특히 코스닥 상장업체들을 비롯해 그쪽을 통한 수출이 늘고 있는데, 중소기업들도 오히려 적합한 분야라고 말씀을 드린다. 미래형 자동차도 우리가 대기업 자동차 회사들만 생각하는데 실제로 경차 전기차, 상용차 전기차 이런 부분들은 중소기업들이 오히려 많이 하고 있다. ◆52시간 근로제 -노동현안도 많긴 한데 주52시간 근로제 시행과 맞물려서 버스 노조가 총파업 찬반투표를 실시를 하고 있고, 이 사안도 보면 52시간 문제가 제대로 관리되지 못하면 불필요한 논란을 키울 수 있는 사안을 다분히 내포하고 있는 사안 같다. 어떤 대비책이 있어야 될 것 같다. ▷주 52시간 노동제 같은 경우도 300인 이상 기업에 시행되고 있는데, 작년 말까지 95% 정도가 다 시행에 들어가서 거의 안착이 되고 있다. -내년에는 50인 이상 기업도 시행된다. ▷그 부분이 감당할 수 있을까 걱정하는 것인데, 그 부분에 대해서는 미리 대비책을 세워나가야겠고 계도기간을 줌으로써 해결할 수 있다고 생각한다. 과거에 주 5일 근무제가 많이 걱정됐지만 잘 안착이 된 것처럼 그렇게 될 것이라고 기대한다. 이번에 버스 파업 부분은 특례에서 버스도 주 52시간을 준수하게끔 되어 있는데 대부분의 지자체에서는 이미 공영제, 또는 준공영제를 통해서 이미 주52시간이 시행되고 있다. 다만 경기도의 경우 시외버스의 경우에 주52시간이 되지 않고 있는데, 이게 주52시간을 하려면 새로운 버스기사들의 채용이 필요하고, 그러자면 요금의 인상도 필요하기 때문에 그 부분이 진통을 겪고 있는 것이다.\n"
     ]
    },
    {
     "name": "stdout",
     "output_type": "stream",
     "text": [
      "24234 446\n",
      "time to summarize is 6.44101 sec\n",
      "\n",
      "============  summary  ================\n",
      "문재인 대통령은 남북 정상회담에서 북한의 도발에 대해 대화와 협상을 통해 해결책을 찾겠다고 말했다. 대통령은 남북 정상회담이 성공적으로 개최될 수 있도록 최선을 다해야 한다고 말했다. 또한 남북이 대화의 장을 만들 수 있도록 노력해야 한다고 했다. 또한, 남북의 대화에 대한 대화의 장이 될 수 있도록 해야 한다. 또한 우리 정부는 남북의 평화적 협력의 길을 열어 나가야 한다고 생각한다. 또한 북한의 비핵화를 위해 노력해야 할 것이다. 또한 우리는 남북이 평화적으로 협력할 수 있는 길을 만들어 나가야 한다. -.,. ; 의 을 통해 남북의 길을 열어야 한다. 우리는 이 아니라 로 가는 길이다.의 길로 가야 한다.  남북의 길을 해 주길 바란다. 는데 라고 생각한다. 우리는 남북의 길로 나아가야 한다. 남북의 길의 길을 더 나아가야 한다고 생각한다며, 남북관계를 개선해야 한다. 우리 정부는 \n",
      "========================================\n",
      "1002 344\n",
      "991 321\n",
      "972 314\n",
      "991 317\n",
      "973 283\n",
      "882 331\n",
      "919 307\n",
      "986 321\n",
      "1012 292\n",
      "972 301\n",
      "996 323\n",
      "1010 332\n",
      "1006 321\n",
      "1006 319\n",
      "926 312\n",
      "998 448\n",
      "957 373\n",
      "997 280\n",
      "961 315\n",
      "986 306\n",
      "958 288\n",
      "1012 290\n",
      "964 312\n",
      "971 436\n",
      "342 262\n",
      "\n",
      "===============  long summary  ================\n",
      "문재인 대통령은 9일 오후 청와대 상춘재에서 진행된 KBS '문재인 정부 2년 특집 대담, 대통령에게 묻는다'에 출연해, 정부 출범 2주년 소회 및 각 분야별 입장을 밝혔다. 문재인 대통령은 이날 대담은 예정된 시간을 6분 넘겨 86분간 생중계로 진행됐다. 촛불민심이 명하는 대로 국정농단, 그리고 반칙과 특권이라는 적폐시대를 마감하고, 새로운 시대, 공정하고 정의로운 대한민국의 길을 향해서 걸어가고 있다. 많은 성과들이 있었다고 생각한다. 그러나 한편으로 또 아쉬운 부분들도 많이 있고, 또 보완해야 할 과제들도 많이 있다고 느낀다. 앞으로 그 점을 더 집중해서 국민들이 바라는 그런 나라를 만들도록 노력하겠다.여야정 상설국정협의체를 분기에 한 번씩 상황에 상관 없이 하기로 합의했는데, 그것이 지난 3월이었다. 그 약속을 지키는 모습을 보이자고 말하는 것이다. 노력을 하더라도 손바닥이 마주쳐야 소리가 나는 것이기 때문에 저의 제안에 대해 야당 측에서 좀 성의있는(답변이 나오길 바란다).-야당 입장에서 보면 여러 현안들이, 야당이라면 제1야당 얘기를 안 할 수 없는데, 자유한국당 입장에서 보면 청와대가 주도해서 여당이 끌어가는 것으로 해서 야당의 의견을 전혀 반영하지 않고 정국을 끌어가고 있다는 판단을 하는 것이고, 그렇기 때문에 대통령께 독재자라고 얘기하고 있는 것 아니겠나.원로들 만나셨을 때 이렇게 알려졌는데, 선 적폐청산 후 협치, 이런 취지로 말한 것으로 전달됐다. 전달이 잘못된 것인지 아니면 아직까지 적폐청산이 부족한 상태라서 이것이 먼저 정리돼야 그 다음에 또 다른 관계설정이 가능하다고 판단하는 것인지 우선 그렇게 말한 사실이 없고. 그 회동에서 오간 대화에서는 우리 대변인이 잘 정리해서 발표를 했기 때문에 제가 KBS 보도를 보지는 못했으나, 제가 본 보도들은 제 발언내용을 있는 그대로 내보냈다. 적폐수사 재판은 우리 정부가 시작한 게 아니라 앞의 정부에서 시작된 일이고, 우리 정부는 기획하거나 관여하지 않고 있다.제가 분명하게 검찰에 대해 말하고 싶은 것은 공수처도 수사권 조정법안도 그렇고, 지금까지 검찰이 사정기구로 본연의 역할을 다하지 못했기 때문에 개혁의 방안으로 논의가 되는 것이다. 검찰 스스로 개혁을 할 수 있는 많은 기회들을 지금까지 놓쳐 왔다. 그래서 검찰은 개혁의 당사자이고, 말하자면 이제는 셀프개혁으로서는 안 된다는 게 국민들의 보편적인 생각이기 때문에 그런 방안들이 마련되고 있는 것이어서 검찰이 보다 좀 겸허한 자세를 가져야한다고 생각한다. 고위공직자범죄수사처 -패스트트랙 국면을 이야기하는 와중에 나올 수밖에 없는 의제가 공수처와 검경수사권 조정안이다.민정수석의 가장 중요한 우리 정부에서의 책무가 인사검증 뿐만 아니라 권력기관들에 대한 개혁이 가장 중요한 임무 중 하나다. 지금 정부 차원에서 할 수 있는 개혁들은 상당히 다 했다고 생각한다. 조국 수석이 정치에 나갈 것이냐는 거취를 말한다면, 저는 조국 수석에게 정치를 권유하거나 할 생각은 전혀 없다. 그 여부는 전적으로 본인이 판단할 문제다. 민정수석이 가장 중요한 정부에서의 책임들이 인사검증과 권력기관들의 개혁이 제일 중요한 임무 가운데 하나다.. ; 조국 수석을 말하면서, 인사검증을 꺼내셨다. 청와대 검증부터 청문회까지 전체가 하나의 검증 과정인 것이다.청와대 검증이 완결적일 수는 없다. 소수 인원이 짧은 기간에 공적자료에 의존해 검증을 완벽히 할 수 있나. 청와대 이후 언론이 검증하고 인사청문회 검증을 하는 것이다. 전체 과정에서 검증되는 것을 보고 인사권자인 대통령이 최종 판단해서 임명하거나 하지 않거나 하게 되는 것이기 때문에 청와대 검증에서 밝혀내지 못한 부분 있었다거나, 또는 국민들 눈높이에 맞지 않다고 해서 그 자체로 검증의 실패다, 책임져야 한다고 말할 수는 없다는 것이다. 다만, 우리가 국민 눈높이에 맞는 검증을 할 수 있도록 계속해서 노력해 나가겠다는 것이다.인사청문회가 정쟁쟁의 장으로 운영된다면 좋은 인사를 발탁하는 장이 아니라 좋은 인사를 막는 장이 될 것이다. 대통령께서 민정수석과 시민수석을 하실 당시에도 인사 문제가 생겨서 장관 후보자에 대한 인사청문제도가 그 당시 도입됐고, 십수년 정도 우리 사회가 인사청문회 문화를 겪어온 셈이다. 그렇다면 대통령께서 그렇게 판단한다면, 청와대가 갖고 있는 후보자 자료를 국회에 제출하고, 조금 내밀한 자료까지도. 그리고 나서 2단계로 나눠서 신상 같은 것은 비공개로 하고, 나머지 업무역량과 정책역량은 공개로 하는 식의 제도를 바꿔보자는 생각은 하고 계신지.이명박·박근혜 전 대통령 사면 문제 -예정된 시간이 거의 다 됐다. 보수진영에서 박근혜 전 대통령 사면을 계속 하고 있다. 아직 대법원 판결 전이고, 대통령의 사면권을 제한적으로 쓰겠다고 하셨고, 그렇지만 대통령으로서 판단이 조금 다를 수 있을 것이라고 본다. 일단 박 전 대통령과 이명박 전 대통령 두 전임 대통령께서 지금 처해 있는 상황이, 한 분은 지금 보석 상태이시지만 여전히 재판을 받고 있고, 아직 한 분은 수감 중이시다. 이런 상황에 대해서는 정말 가슴이 아프다. 그러나 답변은 아까 말씀하신 대로 아직 재판이 확정되지 않은 상황 속에서 사면을 말하기는 어렵다.총리를 비롯해 장관들이 정치에 나선다면 그것은 전적으로 본인 의사에 달려 있는 것이고, 대통령으로서 바라고 싶은 것은 선거에 나갈 생각이 있다면 선거시기에 임박해서가 아니라 충분한 여유를 두고 의사를 밝히는 것이 바람직하겠다고 생각하고 있다. 그것은 선거에 대한 정부의 공정성 부분 면에서도 필요한 일이라고 본다. 뿐만 아니라 요즘 유권자들의 요구도, 이제는 낙하산으로 공천 받아 내려오는 게 아니라 지역에서 지역주민과 밀착되길 바라기 때문에 그것이 유권자들 요구라고도 생각한다. 3년 뒤 대한민국 모습 -마지막 질문이다.북한이 며칠 전에 여러 종류의 단거리 발사체를 발사한 데 이어서 오늘은 일단 단거리 미사일로 추정되는 그런 발사를 했다. 며칠 전의 발사에 대해서는 신형전술유도무기라고 규정을 했었는데 오늘 단거리 미사일로 추정하는 이유는 며칠 전은 북한이 동해안에서 자신들의 앞바다를 향해서 발사를 했기 때문에 사거리가 비교적 짧았다. 오늘은 평안북도 지역에서 육지를 넘어서 동해안까지 발사를 했기에 두발 중의 한 발은 사거리가 400km를 넘는다. 그래서 일단 한·미양국이 공조를 통해서 '발사체는 단거리 미일로 추정이 된다' 이렇게 규정했다는 것인가.유엔의 안보리 결의는 북한의 중장거리 탄도 미사일을 겨냥한 것이다. 그러나 유엔안보리 결의 속에는 탄도미사일을 하지 말라는 그런 표현이 있기 때문에 비록 단거리라 할지라도 그것이 탄도미사일일 경우에는 유엔 안보리 결에 위반될 소지도 없지 않다고 생각한다. 유엔 안보리의 결의 위반여부를 판단 중에 있긴 하지만 일단 미국은 지금까지는 유엔안보리의 결의는 위반하지 않은 것으로 그렇게 판단을 내리고 있다. 또한 남북간의 군사합의를 위반한 것은 아니라고 보고있다. 그럼에도 북한의 이런 행위가 거듭된다면 지금 대화와 협상국면을 어렵게 만들 수 있다는 점을 북한측에 경고를 하고 싶다.북한이 지금까지 북한 자신의 매체를 통해 밝혀온 여러 가지 보도내용을 종합해보면 북한은 하노이 제2차 북미정상회담이 합의를 이루지 못하고 끝난데 대해서 상당히 불만을 가지고 있는 것 같다. 그래서 미국이나 한국 양측에 대해서 일종의 시위성 성격이 있지 않은가 판단을 하고 있다. 그와 함께 앞으로 비핵화 대화를 자신들이 원하는 방향으로 이끌고자 하는 압박의 성격도 담겨 있다고 본다. 북한도 불만이 있다면 조속히 대화의 장에서 불만을 명확하게 그렇게 밝히는 것이 바람직하다고 생각한다. 일단 북한은 계획된 행동으로 보인다. 그러나 대화의 판을 깨지 않으려고 노력하는 모습도 함께 보여주고 있다.북한의 의도가 어디에 있건 북한의 행동이 자칫 잘못하면 협상과 대화의 국면을 어렵게 만들 수 있다는 점은 우선 우리가 경고를 하는 바이다. 그리고 아까 근본적인 해법이 역시 북미간에 조속히 마주 앉는 것이라고 생각하는데, 그렇게 될 수 있도록 한국 정부는 다각도로 노력을 하고 있다. 일단 한국의 입장에서는 우선 대화 카드 이전에 지금 아시는 바와 같이 유엔 세계 식량 계획, 세계식량원조 기구가 정밀하게 조사해서 공식보고서로 발표한 바에 의하면 북한의 식량난이 최근 10년동안 가장 심각하다는 것이다.-성인 1명이 1년에 달걀 2~3개 섭취할 정도다 라는 보고서 내용이다.우리 정부가 비축하고 있는 재고미(비축미)가 국내수요를 넘어서서 보관비만 6000억원이 소요되는 실정이다. 그런 형편이기 때문에 북한동포들의 심각한 기아상태를 우리가 외면할 수 없고, 우리가 동포애나 인도주의적인 차원에서라도 우리가 북한의 식량을 지원할 필요가 있다고 생각하는 것이다. 그래서 북한의 식량지원 문제에 대해서 저로서는 가장 바람직한 것은 지금 패스트트랙 문제 때문에 여야 간 정국이 교착상태에 빠져 있는데 그 문제는 별도로 해결하더라도 북한에 대한 식량지원에 대해서는 대통령과 여야가 함께 모여서 협의를 하는 것이 바람직하지 않을까 라는 생각을 하고 있다.양국이 비핵화 대화의 최종목표에 대해서는 완전히 일치를 보고 있지만 어느 순간에 한꺼번에 교환될 수가 없기 때문에 이루는 과정이나 프로세스 등 로드맵이 필요한데 의견이 맞지 않는 것이다. 중재자 역할을 하기 위해서 4차정상회담을 추진하겠다고 하신 건데 지지부진한 상태다. 우리는 북한에게 아직은 재촉하지 않고 있다. 북한은 외교가 발달된 나라가 아니다. 그래서 그렇기 때문에 사실은 식량지원에 대해서 우리가 한미간에 합의를 한 것이 이번 발사 이전인데, 그 이후에 또 다시 발사가 있었기 때문에 이 점에 대해서는 국민들의 공감이나 제재가 필요하다고 생각한다.한일관계 -외교안보 질의를 드리고 싶다. 한일 관계문제다. 과거사 문제는 과거를 지울 수 없는 문제고 과거사 문제가 한일관계의 족쇄가 된 게 너무 오랜 시간이다. 저는 한일관계가 굉장히 중요하다고 생각하고, 앞으로 더 미래지향적으로 발전돼 나가야 한다고 생각한다. 도보다리 회담 -4·27 남북 정상회담 때 도보다리에서 30분을 얘기를 했다. 그때 김정은 위원장은 자신들의 비핵화 의지에 대해서 아주 진솔하게 다 표명을 했다. 말하자면 안정보장을 위한 것인데 핵 없이도 안전할 수 있다면 우리가 왜 제재를 무릅쓰고 힘들게 핵을 들고 있겠는가 이런 표현으로 비핵화의지를 표명했고, 미국과 회담해 본 경험이 없고, 주변의 참모들 가운데에도 그런 경험들이 없는데 회담을 한다면 어떻게 하면 좋을 것인가 여러 가지 조언을 구하고, 주로 김정은 위원장이 저한테 물어보고 제가 그에 대해서 답해 주는 시간이었다.과거사 문제가 양국관계발전에 발목을 잡고 있는데 그것은 결코 한국정부가 만들어 내고 있는 문제가 아니다. 과거에 엄밀히 존재했던 불행했던 과거때문에 비록 한일 기본협정이 체결되긴 했지만 인권의식들이 높아지고 국제규범이 높아지고 하면서 여전히 조금씩 상처들이 굳어져 나오는 것이다. 이 문제들로 인해서 미래지향적인 협력관계가 손상되지 않도록 양국정부가 잘 지혜를 모을 필요가 있는 것이다.대통령께서 실행해 오신 경제정책의 사람들이 가장 많이 기억이 남는 단어를 꼽으라고 한다면 소득주도 성장이 아닐까 싶다. 최저임금 인상이 소득주도 성장의 단 하나의 정책은 아니다. 그런데 최저임금 인상을 하는 과정에서 생긴 논란 때문에 소득주도 성장 자체에 논란이 생겨버린 국면이다.고용시장 안에서의 경제적인 효과는 뚜렷한데 반면에 고용시장 바깥에 있는 자영업자들의 삶이라든지, 가장 아랫층에 있던 노동자들이 고용시장에서 밀려나게 어려움을 겪는다든지. 이런 부분들을 함께 해결하지 못한 것이 참으로 가슴이 아프다. 최저임금 인상은 정부에 의해 먼저 시행되고 자영업자 대책이라든지 EITC, 근로장려금 같은 부분들은 국회의 입법과정을 거쳐야 되기 때문에 시차가 생기게 되는 부분들이 참으로 어려운 점이기도 하다. 당사자들에게는 참으로 정부로서는 송구스러운 점이라는 말씀을 드리고 싶다.올해 최저임금은 작년 최저임금 인상에 비해서 이미 속도조절이 되었다고 생각한다. 그렇지만 2년에 걸쳐서 최저임금이 가파르게 인상이 됐고, 그것이 긍정적인 작용이 많은 반면, 한편으로는 부담을 주는 부분들도 적지 않다고 판단한다면 최저임금인상위원회가 그런 점을 감안해서 우리 사회가 우리 경제가 수용할 수 있는 적정선으로 판단하지 않을까 그렇게 기대를 하고 있다. 그래서 당초 경제 계획 상으로는 올해 고용증가를 15만명 정도로 잡았었는데 지금은 20만명 정도로 상향하는 그런 식의 기대를 하고 있고 추경까지 통과가 된다면 목표 달성에 더 용이해지리라고 보고 있다.최저임금의 인상으로 인해서 생기는 여러 가지 부작용의 문제조차도 사실은 좀 더 긴 시간을 두고 판단해 볼 필요가 있는 것인데, 당장 어려움을 겪고 있는 분들이 많이 있기 때문에 그 해결에 우리가 좀 더 많은 노력을 해야 된다고 생각한다. 어르신들을 위한 나쁜 일자리라도 일자리가 없는 것보다는 낫기 때문에 그런 노력을 계속해 나가야 한다고 생각한다.-말씀하신대로 그런 분들께는 나쁜 일자리는 있는 게 나을 수는 있지만, 그렇게 되기 위해서 투입되는 재정 부담을 생각하지 않을 수 없나.어르신들의 공공근로 일자리는 쭉 과거 정부부터 해 왔던 것이다.일자리와 일자리를 통한 복지의 성격을 가지고 있는 것이다.고령인구가 크게 늘고 있기 때문에 일자리 수를 더 늘리고 과거의 급여가 낮았기 때문에 급여를 두배 높여서 실제로 어르신들의 빈곤 해결에 도움되도록 정부가 노력하고 있는 것이다.-제일 문제는 청년일자리다. -제일 문제는 일자리다. 좋은 일자리를 늘리려면 여러 방향이 있다. 제조업의 혁신해 고도화해서 경쟁력을 높여 일자리를 늘리는 방향이 하나 있다. 또 신산업들을 빨리 성장시켜서 좋은 일자리를 만들어야겠고, 요즘 벤처창업들을 크게 늘리고 지원할 필요가 있다.거시적으로 볼 때 한국경제가 크게 성공을 거두었다는 것은 거시적인 경제성공은 인정하고 자부심을 가져야 한다고 생각한다. 다만 국민들에게 고르게 다 소득배분이 되고 있지 않고 있기 때문에 아직도 양극화가 심각하고 특히 소득이 낮은 층의 소득이 늘지 않고 있기때문에 그분들의 사는 문제가 해결이 안 되고 있다. 고용의 문제가 주츰해졌다, 일자리를 늘려야 된다는 인식을 정부가 똑같이 하고 있고 똑같은 아픔을 느끼고 있다. 재벌대기업 및 삼성전자 방문 -경제가 활력을 찾기 위해서 정부도 노력을 해야하지만, 한축은 기업이다.잠재성장률이 점점 낮아지고 있는데, 기존의 메모리 반도체 분야 이후로는 말하자면 새로운 신성장동력 같은 것들이 마련되지 않고 있다는 것이다. 그래서 새로운 산업을 통한 새로운 신 성장동력을 마련하는 것이 시급하다고 보는 것이다. 그러나 뭐가 우려되는 상황이냐면 잠재성장률의 하락으로 인해 새로운 산업을 통해 새로운 신성장동력을 마련해야 한다는 것이다. 금융은 금융, 경제는 경제 그런 것이다. 사법권이 어떻게 훼손되는지 국민들이 봤기 때문이 그런 시선을 가질 수도 있었다고 본다. 그러나 지금은 오히려 더 엄중하게 수사받고 재판받고 하는 것이 현실이지 않나.시스템반도체 가운데서 삼성이 투자하기로 했던 파운더리 반도체 부분은 다른 기업이 설계한 반도체를 주문받아서 생산하는 것이기 때문에 대규모 생산설비가 필요하다. 그런 분야는 대기업이 잘할 수 있지만, 설계를 하는 팹리스는 생산설비를 필요 없기에 오히려 중소기업에 적합한 업종이다. 그런 지원들이 필요하고, 바이오 헬스 분야도 오히려 중소기업들이 약전하고 있는 분야다. 미래형 자동차도 우리가 대기업 자동차 회사들만 생각하는데 실제로 경차 전기차, 상용차 전기차 이런 부분들은 중소기업들이 오히려 많이 하고 있다. -노동현안도 많긴 한데 주52시간 근로제 시행과 맞물려서 버스 노조가 총파업 찬반투표를 실시를 하고 있고, 이 사안도 보면 52시간 문제가 제대로 관리되지 못하면 불필요한 논란을 키울 수 있는 사안을 다분히 내포하고 있는 사안 같다. 어떤 대비책이 있어야 될 것 같다.버스 파업 부분은 특례에서 버스도 주 52시간을 준수하게끔 되어 있는데 대부분의 지자체에서는 이미 공영제, 또는 준공영제를 통해서 이미 주52시간이 시행되고 있다. 다만 경기도의 경우 시외버스의 경우에 주 52시간이 되지 않고 있는데, 이게 주52시간을 하려면 새로운 버스기사들의 채용이 필요하고, 그러자면 요금의 인상도 필요하기 때문에 그 부분이 진통을 겪고 있는 것이다. 이번 주 52시간 근무제가 많이 걱정됐지만 잘 안착이 된 것처럼 그렇게 될 것이라고 기대한다.\n",
      "==============================================\n"
     ]
    },
    {
     "name": "stdout",
     "output_type": "stream",
     "text": [
      "902 281\n",
      "936 307\n",
      "936 351\n",
      "928 366\n",
      "1014 342\n",
      "1017 315\n",
      "1008 398\n",
      "940 313\n",
      "279 360\n",
      "\n",
      "===============  long summary2  ================\n",
      "문재인 대통령은 9일 오후 청와대 상춘재에서 진행된 KBS '문재인 정부 2년 특집 대담, 대통령에게 묻는다'에 출연해, 정부 출범 2주년 소회 및 각 분야별 입장을 밝혔다. 문재인 대통령은 이날 대담은 예정된 시간을 6분 넘겨 86분간 생중계로 진행됐다. 촛불민심이 명하는 대로 국정농단, 그리고 반칙과 특권이라는 적폐시대를 마감하고, 새로운 시대, 공정하고 정의로운 대한민국의 길을 향해서 걸어가고 있다. 그러나 한편으로 또 아쉬운 부분들도 많이 있고, 또 보완해야 할 과제들도 많이 있다고 느낀다.제가 분명하게 검찰에 말하고 싶은 것은 공수처도 수사권 조정법안도 그렇고, 지금까지 검찰이 사정기구로 본연의 역할을 다하지 못했기 때문에 개혁의 방안으로 논의가 되는 것이다. 그래서 검찰은 개혁의 당사자이고, 말하자면 이제는 셀프개혁으로서는 안 된다는 게 국민들의 보편적인 생각이기 때문에 그런 방안들이 마련되고 있는 것이어서 검찰이 보다 좀 겸허한 자세를 가져야한다고 생각한다. 민정수석이 가장 중요한 정부에서의 책임들이 인사검증과 권력기관들의 개혁이 제일 중요한 임무 가운데 하나다. 청와대 검증부터 청문회까지 전체가 하나의 검증 과정인 것이다.인사청문회가 정쟁쟁의 장으로 운영된다면 좋은 인사를 발탁하는 장이 아니라 좋은 인사를 막는 장이 될 것이다. 총리, 장관들이 정치에 나선다면 그것은 전적으로 본인 의사에 달려 있는 것이고, 대통령으로서 바라고 싶은 것은 선거에 나갈 생각이 있다면 선거시기에 임박해서가 아니라 충분한 여유를 두고 의사를 밝히는 것이 바람직하겠다고 생각하고 있다. 또한 요즘 유권자들의 요구도, 이제는 낙하산으로 공천 받아 내려오는 게 아니라 지역에서 지역주민과 밀착되길 바라기 때문에 그것이 유권자들 요구라고도 생각한다. 그뿐만 아니라 요즘 유권자들 역시 낙하산으로 공천을 받아 내려오는 것이 아니라 지역에서 지역민과 밀착되기를 바라기 때문이다.북한이 며칠 전에 여러 종류의 단거리 발사체를 발사한 데 이어서 오늘은 일단 단거리 미사일로 추정되는 그런 발사를 했다. 유엔의 안보리 결의는 북한의 중장거리 탄도 미사일을 겨냥한 것이다. 그러나 유엔안보리 결의 속에는 탄도미사일을 하지 말라는 그런 표현이 있기 때문에 비록 단거리라 할지라도 그것이 탄도미사일일 경우에는 유엔 안보리 결에 위반될 소지도 없지 않다고 생각한다. 북한이 지금까지 북한 자신의 매체를 통해 밝혀온 여러 가지 보도내용을 종합해보면 북한은 하노이 제2차 북미정상회담이 합의를 이루지 못하고 끝난데 대해서 상당히 불만을 가지고 있는 것 같다. 그래서 미국이나 한국 양측에 대해서 일종의 시위성 성격이 있지 않은가 판단을 하고 있다.북한의 의도가 어디에 있건 북한의 행동이 자칫 잘못하면 협상과 대화의 국면을 어렵게 만들 수 있다는 점은 우선 우리가 경고를 하는 바이다. 그래서 북한의 식량지원 문제에 대해서 저로서는 가장 바람직한 것은 지금 패스트트랙 문제 때문에 여야 간 정국이 교착상태에 빠져 있는데 그 문제는 별도로 해결하더라도 북한에 대한 식량지원에 대해서는 대통령과 여야가 함께 모여서 협의를 하는 것이 바람직하지 않을까 라는 생각을 하고 있다. 양국이 비핵화 대화의 최종목표에 대해서는 완전히 일치를 보고 있지만 어느 순간에 한꺼번에 교환될 수가 없기 때문에 이루는 과정이나 프로세스 등 로드맵이 필요한데 의견이 맞지 않는 것이다.과거사 문제가 양국관계발전에 발목을 잡고 있는데 그것은 결코 한국정부가 만들어 내고 있는 문제가 아니다. 과거에 엄밀히 존재했던 불행했던 과거때문에 비록 한일 기본협정이 체결되긴 했지만 인권의식들이 높아지고 국제규범이 높아지고 하면서 여전히 조금씩 상처들이 굳어져 나오는 것이다. 이 문제들로 인해서 미래지향적인 협력관계가 손상되지 않도록 양국정부가 잘 지혜를 모을 필요가 있는 것이다.대통령께서 실행해 오신 경제정책의 사람들이 가장 많이 기억이 남는 단어를 꼽으라고 한다면 소득주도 성장이 아닐까 싶다. 최저임금 인상이 소득주도 성장의 단 하나의 정책은 아니다.올해 최저임금은 작년 최저임금 인상에 비해서 이미 속도조절이 되었다고 생각한다. 그렇지만 2년에 걸쳐서 최저임금이 가파르게 인상이 됐고, 그것이 긍정적인 작용이 많은 반면, 한편으로는 부담을 주는 부분들도 적지 않다고 판단한다면 최저임금인상위원회가 그런 점을 감안해서 우리 사회가 우리 경제가 수용할 수 있는 적정선으로 판단하지 않을까 그렇게 기대를 하고 있다. 최저임금의 인상으로 인해서 생기는 여러 가지 부작용의 문제조차도 사실은 좀 더 긴 시간을 두고 판단해 볼 필요가 있는 것인데, 당장 어려움을 겪고 있는 분들이 많이 있기 때문에 그 해결에 우리가 좀 더 많은 노력을 해야 된다고 생각한다. 어르신들을 위한 나쁜 일자리라도 일자리가 없는 것보다는 낫기 때문에 그런 노력을 계속해 나가야 한다고 생각한다.잠재성장률이 점점 낮아지고 있는데, 기존의 메모리 반도체 분야 이후로는 말하자면 새로운 신성장동력 같은 것들이 마련되지 않고 있다는 것이다. 그래서 새로운 산업을 통한 새로운 신 성장동력을 마련하는 것이 시급하다고 보는 것이다. -노동현안도 많긴 한데 주52시간 근로제 시행과 맞물려서 버스 노조가 총파업 찬반투표를 실시를 하고 있고, 이 사안도 보면 52시간 문제가 제대로 관리되지 못하면 불필요한 논란을 키울 수 있는 사안을 다분히 내포하고 있는 사안 같다. -잠재성장률의 하락으로 인해 새로운 산업을 통해 새로운 신 경제성장동력을 마련해야 한다는 것이다.버스 파업 부분은 특례에서 버스도 주 52시간을 준수하게끔 되어 있는데 대부분의 지자체에서는 이미 공영제, 또는 준공영제를 통해서 주52시간이 시행되고 있다. 이번 주 52시간 근무제가 많이 걱정됐지만 잘 안착이 된 것처럼 그렇게 될 것이라고 기대한다. 이번 주에 주 52시간이 잘 안착을 하게 될 것으로 기대한다. 버스 파업 부분 특례에서 특례에서 버스의 주 52시간은 준수하게 되어 있는데, 대부분의 지자체에서 이미 공영제와 준공영제로 이미 주52시간 시행되고 있고, 경기도의 경우 시외버스의 경우 주 52시간에 해당하지 않고 있는데, 새로운 버스기사들의 채용이 필요하고, 요금의 인상도 필요하기 때문에 그 부분이 진통을 겪고 있는 것이다.\n",
      "===============================================\n",
      "997 396\n",
      "991 338\n",
      "1018 317\n",
      "\n",
      "===============  long summary2  ================\n",
      "문재인 대통령은 9일 오후 청와대 상춘재에서 진행된 KBS '문재인 정부 2년 특집 대담, 대통령에게 묻는다'에 출연해, 정부 출범 2주년 소회 및 각 분야별 입장을 밝혔다. 문재인 대통령은 이날 대담은 예정된 시간을 6분 넘겨 86분간 생중계로 진행됐다. 촛불민심이 명하는 대로 국정농단, 그리고 반칙과 특권이라는 적폐시대를 마감하고, 새로운 시대, 공정하고 정의로운 대한민국의 길을 향해서 걸어가고 있다. 그러나 한편으로 또 아쉬운 부분들도 많이 있고, 또 보완해야 할 과제들도 많이 있다고 느낀다. 그래서 검찰은 개혁의 당사자이고, 말하자면 이제는 셀프개혁으로서는 안 된다는 게 국민들의 보편적인 생각이기 때문에 그런 방안들이 마련되고 있는 것이어서 검찰이 보다 좀 겸허한 자세를 가져야한다고 생각한다.북한의 의도가 어디에 있건 북한의 행동이 자칫 잘못하면 협상과 대화의 국면을 어렵게 만들 수 있다는 점은 우선 우리가 경고를 하는 바이다. 북한의 식량지원 문제에 대해서 저로서는 가장 바람직한 것은 지금 패스트트랙 문제 때문에 여야 간 정국이 교착상태에 빠져 있는데 그 문제는 별도로 해결하더라도 북한에 대한 식량지원에 대해서는 대통령과 여야가 함께 모여서 협의를 하는 것이 바람직하지 않을까 라는 생각을 하고 있다. 양국이 비핵화 대화의 최종목표에 대해서는 완전히 일치를 보고 있지만 어느 순간에 한꺼번에 교환될 수가 없기 때문에 이루는 과정이나 프로세스 등 로드맵이 필요한데 의견이 맞지 않는 것이다.잠재성장률이 점점 낮아지고 있는데, 기존의 메모리 반도체 분야 이후로는 말하자면 새로운 신성장동력 같은 것들이 마련되지 않고 있다는 것이다. 그래서 새로운 산업을 통한 새로운 신 성장동력을 마련하는 것이 시급하다고 보는 것이다. 버스 파업 부분 특례에서 특례에서 버스의 주 52시간은 준수하게 되어 있는데, 대부분의 지자체에서는 이미 공영제, 또는 준공영제를 통해서 주52시간이 시행되고 있고, 경기도의 경우 시외버스의 경우 주 52시간에 해당하지 않고 있는데, 새로운 버스기사들의 채용이 필요하고, 요금의 인상도 필요하기 때문에 그 부분이 진통을 겪고 있는 것이다.\n",
      "===============================================\n",
      "1043 311\n",
      "\n",
      "===============  long summary2  ================\n",
      "문재인 대통령은 9일 오후 청와대 상춘재에서 진행된 KBS '문재인 정부 2년 특집 대담, 대통령에게 묻는다'에 출연해, 정부 출범 2주년 소회 및 각 분야별 입장을 밝혔다. 문재인 대통령은 이날 대담은 예정된 시간을 6분 넘겨 86분간 생중계로 진행됐다. 그러나 한편으로 또 아쉬운 부분들도 많이 있고, 또 보완해야 할 과제들도 많이 있다고 느낀다. 그래서 검찰은 개혁의 당사자이고, 말하자면 이제는 셀프개혁으로서는 안 된다는 게 국민들의 보편적인 생각이기 때문에 그런 방안들이 마련되고 있는 것이어서 검찰이 보다 좀 겸허한 자세를 가져야한다고 생각한다.\n",
      "===============================================\n",
      "time to summarize long sentence is 72.89436 sec\n"
     ]
    }
   ],
   "source": [
    "run_summarize(df_sorted.iloc[0].text, tokenizer, model, device, chunk=1024, verify=False)"
   ]
  },
  {
   "cell_type": "code",
   "execution_count": 96,
   "id": "689a6aac",
   "metadata": {},
   "outputs": [
    {
     "name": "stdout",
     "output_type": "stream",
     "text": [
      "24234 446\n",
      "1993 285\n",
      "2026 277\n",
      "2024 244\n",
      "2019 366\n",
      "1994 268\n",
      "1985 324\n",
      "2020 343\n",
      "2043 350\n",
      "2024 327\n",
      "2030 351\n",
      "2034 353\n",
      "1598 411\n",
      "1928 296\n",
      "1928 345\n"
     ]
    }
   ],
   "source": [
    "run_summarize(df_sorted.iloc[0].text, tokenizer, model, device, chunk=2048, verify=False)"
   ]
  },
  {
   "cell_type": "code",
   "execution_count": 59,
   "id": "ddf918ba",
   "metadata": {},
   "outputs": [],
   "source": [
    "ss = seperate_sentence(text, 1024)"
   ]
  },
  {
   "cell_type": "code",
   "execution_count": 60,
   "id": "028ca6bb",
   "metadata": {},
   "outputs": [
    {
     "data": {
      "text/plain": [
       "['',\n",
       " '전문 문재인 정부 2년 특집 대담 대통령에게 묻는다 문재인 대통령은 9일 오후 청와대 상춘재에서 진행된 KBS 문재인 정부 2년 특집 대담 대통령에게 묻는다에 출연해 정부 출범 2주년 소회 및 각 분야별 입장을 밝혔다 이날 대담은 예정된 시간을 6분 넘겨 86분간 생중계로 진행됐다 다음은 일문일답 취임 2주년 소회 2년 전 오늘 이 시간 기억하실지 모르겠다 나라다운 나라를 만들어 달라 이런 요구 속에서 문재인 정권이 출범을 했다 아무래도 첫 질문이니까 2년 동안 소회를 여쭙지 않을 수 없을 것 같다 먼저 국민들께 감사인사부터 드려야겠다 우리 국민들께서는 촛불혁명이라는 아주 성숙된 방법으로 정권을 교체하고 저를 대통령으로 선택해 주셨다 그래서 문재인 정부는 촛불정신 위에 서 있다 촛불민심이 명하는 대로 국정농단 그리고 반칙과 특권이라는 적폐시대를 마감하고 새로운 시대 공정하고 정의로운 대한민국의 길을 향해서 걸어가고 있다 얼마나 기대에 부응했는지 잘 모르겠다 많은 성과들이 있었다고 생각한다 그러나 한편으로 또 아쉬운 부분들도 많이 있고 또 보완해야 할 과제들도 많이 있다고 느낀다 앞으로 그 점을 더 집중해서 국민들이 바라는 그런 나라를 만들도록 노력하겠다 국내 정치 국내 정치 현안 문제로 들어가야 할 것 같다 조금 전에 대북 현안들 그리고 식량지원문제를 화두로 한 번 만나보자 제안을 공식적으로 하신 거라 봐야 하나 이미 남북 간 정상회담을 가져야겠다라는 것은 제가 공개적으로 이미 발언을 했다 실제로 북한하고 실무적인 대화에 들어가겠다는 뜻을 말씀 드렸다 제가 여쭤본 것은 국내 정치권의 그렇다 지금 패스트트랙 문제로 여야 정치권이 이렇게 대치하고 있는 것은 정치 성격상 우리가 이해할 수 있는 것이지만 국민들 입장에서 볼 때는 참으로 답답한 국면이 아닐 수 없다 처리해야 할 민생법안도 많이 있고 추경 문제도 논의해야 되고 그래서 이런 국면에서 필요한 것이 지난번에 합의했던 여야정 상설국정협의체를 가동하는 것이라고 생각한다 우선적으로 방금 현안으로 대두된 문제를 논의될 수 있지 않을까 하는 것이다 11월에 가동되고 지금 계속 이어지지 않고 있다 책임이 어디에 있느냐를 따질 수 있겠지만 사실 국정운영의 총책임자로서 대통령께서 야당과 관계를 이렇게 풀지 않고 오랜 시간 끌고 가는 것은 결과론적으로 국정운영의 부담으로 돌아오는 거 아닐까 원로들 주문도 대통령이 먼저 나서 풀어라는 주문이 있었던 것으로 알고 있다 그 점은 제가 동의하지 않을 수 없는데 그러나 돌이켜보자면 제가 2년 전 5월10일 내일이죠 그때 약식으로 취임식을 하며 취임식 이전에 야당 당사들 전부 방문했다 그리고 역대 어느 대통령보다 자주 야당 대표들과 원내대표들을 만나 왔다 그러나 그런 식으로 약속을 해서 만나는 것이 정국에 따라서 원활하지 않을 수 있기 때문에 아예 여야정 상설국정협의체를 분기에 한 번씩 상황에 상관 없이 하기로 합의했는데 그것이 지난 3월이었다 그 약속이 지켜지지 않은 것이다 지금이라도 그 약속을 지키는 모습을 보이자고 말하는 것이다 어쨋든 노력을 하더라도 손바닥이 마주쳐야 소리가 나는 것이기 때문에 저의 제안에 대해 야당 측에서 좀 성의있는답변이 나오길 바란다 야당 입장에서 보면 여러 현안들이 야당이라면 제1야당 얘기를 안 할 수 없는데 자유한국당 입장에서 보면 청와대가 주도해서 여당이 끌어가는 것으로 해서 야당의 의견을 전혀 반영하지 않고 정국을 끌어가고 있다는 판단을 하는 것이고 그렇기 때문에 대통령께 독재자라고 얘기하고 있는 것 아니겠나 독재자라는 말을 들었을 때 어떤 느낌이었나 우선 패스트트랙이란 성격이 말하자면 다수 의석을 가진 측에서 독주하지 못하게 하면서 야당은 물리적인 저지를 하지 않기로 하고 그 해법으로 패스트트랙라는 해법을 마련한 것이다 그래서 그 해법을 선택한 것을 가지고 독재라 하는 것은 정말 조금 맞지 않는 얘기란 말씀을 드린다 그야말로 국회선진화법의 혜택을 많이 누려왔는데 국회선진화법이 정해놓은 방법을 부정해선 안 되는 것이다 게다가 정말 촛불민심에 의해 탄생한 정부가 지금 말하자면 독재 그것도 그냥 독재라 하면 또 설득력이 떨어질 수 있으니 색깔론을 더해 좌파독재로 규정짓고 투쟁하는 것을 보면 참 뭐라 말씀 드려야 할지 모르겠다 그렇게 부르지만 만나셔야 될 상대라고 생각하시죠 일단 그렇게 조금 극단의 표현을 쓰긴 했지만 그것도 다 하나의 정치적인 행위라고 본다면 여야 간의 정치적 대립은 늘상 있어온 것이고 그리고 또 이제라도 한 페이지 넘기고 다시 새로운 대화를 통해서 새로운 해법을 찾아야 한다고 본 것이다 적폐청산 대야관계와 협치문제 질문을 드리고 있는데 이 질문을 안할 수 없다 원로들 만나셨을 때 이렇게 알려졌는데 선 적폐청산 후 협치 이런 취지로 말한 것으로 전달됐다 전달이 잘못된 것인지 아니면 아직까지 적폐청산이 부족한 상태라서 이것이 먼저 정리돼야 그 다음에 또 다른 관계설정이 가능하다고 판단하는 것인지 우선 그렇게 말한 사실이 없고 그 회동에서 오간 대화에서는 우리 대변인이 잘 정리해서 발표를 했기 때문에 제가 KBS 보도를 보지는 못했으나 제가 본 보도들은 제 발언내용을 있는 그대로 내보냈다 그런데 말하자면 헤드라인이나 자막을 그런식으로 뽑은 것이다 그러고 난 이후에는 그 자막 헤드라인을 근거로 이런저런 비판을 하는 좀 황당한 일이 벌어지고 있다 제가 말씀 드린 취지는 원로들의 말씀이 아니라 우리 사회의 또 일각에서는 이제 적폐수사는 그만 끝내고 협치 통합 이런 것으로 나아가자는 말씀들이 있어서 그에 대한 제 견해를 말씀드린 것이다 우선 적폐수사 재판은 우리 정부가 시작한 게 아니라 앞의 정부에서 시작된 일이고 우리 정부는 기획하거나 관여하지 않고 있다 살아서 움직이는 수사를 정부가 통제할 수 없고 통제해서도 안 된다가 생각이다 개인적인 생각을 얘기하자면 국정농단이나 사법농단은 그게 사실이라면 그것은 대단히 심각한 반헌법적 헌법파괴적인 일이기 때문에 그 일을 타협하기는 어려운 일이다 사실 여부를 빨리 규명하고 그 다음에 청산하면서 새로운 세대로 나아가자 라는 기본적 방향에 대해서 서로 간의 공감대가 있다면 협치가 수월할텐데 사법농단이나 국정농단을 바라보는 시각 자체를 바라보는 기본 입장 자체가 달라서 협치에 어려움이 있는 것 같다 고위공직자범죄수사처 패스트트랙 국면을 이야기하는 와중에 나올 수밖에 없는 의제가 공수처와 검경수사권 조정안이다 검경수사권 조정안은 문무일 검찰총장이 민주주의에 반하는 부분이 있다고 했다 이 성격을 항명으로 봐야 하나 아니면 문제제기 수준이인가 어떻게 보시는지 작년에 법무부장관과 행정안전부장관은 합의를 했는데 그래서 패스트트랙이라는 게 법안이 통과된 것이 아니다 법안을 상정시키는 것이다 앞으로 상임위에서 논의하게 되고 국회 본회의에서 논의하게 되기 때문에 그것이 통과되기 위해선 국회에서 또 두루 여론을 수렴하는 절차를 아마 거칠 것이라고 본다 검찰도 법률 전문집단이고 또 수사기구이기 때문에 충분히 자신들의 의견을 밝힐수 있다고 본다 밝히는 방식이 공개적인 것이 그렇게 이해하고 있지만 제가 분명하게 검찰에 대해 말하고 싶은 것은 공수처도 수사권 조정법안도 그렇고 지금까지 검찰이 사정기구로 본연의 역할을 다하지 못했기 때문에 개혁의 방안으로 논의가 되는 것이다 검찰 스스로 개혁을 할 수 있는 많은 기회들을 지금까지 놓쳐 왔다 그래서 검찰은 개혁의 당사자이고 말하자면 이제는 셀프개혁으로서는 안 된다는 게 국민들의 보편적인 생각이기 때문에 그런 방안들이 마련되고 있는 것이어서 검찰이 보다 좀 겸허한 자세를 가져야한다고 생각한다 조국 민정수석 거취 검경수사권 조정과 공수처법 얘기가 나온 김에 조국 민정수석 얘기를 여쭤본다 두 가지 사법개혁안이 국회 패스트트랙 절차에 들어가게 됐고 그것이 의미하는 것은 입법절차로 넘어갔다는 것이다 그 와중에 정부 부처가 의견 개진을 할 수 있지만 정해진 과정에 따르면 되고 조 수석의 민정수석으로서의 소임은 일정 부분 정리된 것으로 이해해도 되나 조국 수석이 정치에 나갈 것이냐는 거취를 말한다면 저는 조국 수석에게 정치를 권유하거나 할 생각은 전혀 없다 그 여부는 전적으로 본인이 판단할 문제다 민정수석의 가장 중요한 우리 정부에서의 책무가 인사검증 뿐만 아니라 권력기관들에 대한 개혁이 가장 중요한 임무 중 하나다 지금 정부 차원에서 할 수 있는 개혁들은 상당히 다 했다고 생각한다 이제 법제화 하는 과정이 남아 있는데 그런 작업까지 성공적으로 마쳐주길 바라고 있다 법제화까지라면 조금 더 조 수석이 청와대 생활을 해야 된다는 말씀인지 일단 아직은 패스트트랙에 올라가긴 했지만 상임위 논의도 남아있고 많은 절차들이 남아 있을 뿐 아니라 그 방안도 지금 확정된 게 아니다 예를 들면 지난번 법무부장관과 행안부장관 사이에 공수처 조정에 대해 서로 간 합의가 이뤄졌는데 패스트트랙에 합의하기 위해 일부 더해지거나 수정된 부분도 있었다 특히 그 가운데 검찰의 피의자 신문조서에 대해 증거인정을 하지 않는다는 것은 검찰로서는 우려 표명할 만한 것이라고 생각한다 반면 수사 받는 국민 입장에선 수월해진다고 볼 수 있고 검찰 입장에서도 충분히 지금까지 가능한 논거라고 제기돼 왔던 부분 아닌가 공판중심주의 강화 측면에서는 필요하지만 우리 사법제체가 그 단계까지 충분히 준비돼 있느냐는 부분은 더 논의가 필요하다 거기에 대해서는 법원 측 의견도 들어볼 필요가 있다고 생각한다 다양한 의견 수렴은 필요하다고 생각한다 인사검증 및 인사청문회 조금 전에 조국 수석을 말하면서 인사검증 문제를 꺼내셨다 지금까지 청와대의 인사검증 인사와 검증 양쪽 다 만족스럽다고 보시나 국민들은 낮은 점수를 주는 분야다 우선 인사실패다 또는 심하게는 인사참사라고 평하는 부분은 저는 동의하지 않는다 그 이유는 지금 이낙연 총리를 비롯해서 장관님들이 잘하고 있지 않는가 지금까지 문재인 정부가 어느 정도 해왔다면 그것은 대통령이 혼자 잘한 것이 아니라 내각이 잘해준 것이라고 생각한다 임명된 장관들이 의무를 제대로 못한다면 그것이야 말로 인사실패인데 잘하고 있다면 인사실패일 수 없는 것이다 심지어 인사청문보고서가 채택되지 않은 채 임명된 장관들도 좋은 평을 받는 분들이 많다 그러면 청와대 추천이 문제이냐 인사청문회가 문제이냐 인사실패라 부른 부분은 검증에 있어서 국민들 눈높이에 맞지 않는 부분이 때로 있었다는 지적인 것 같고 그 점은 저도 겸허히 인정한다 보다 검증을 더 강화해야겠다는 다짐을 하고 있고 여러 노력을 하고 있다 예를 들어 임명은 됐지만 이미선 헌법재판관의 경우는 35억 주식투자 논란이 있었고 국토부장관 후보자는 다주택 하지 말라고 하면서 본인이 다주택을 했던 것들이 인사청문회 과정에서 드러났다 국민들이 어떤 기준이 맞냐 검증이 잘못된 것인지 기준이 잘못된 것인지 판단이 잘못된 것인지를 묻는다 이렇게 봐주시면 좋겠다 청와대 검증부터 청문회까지 전체가 하나의 검증 과정인 것이다 청와대 검증이 완결적일 수는 없다 소수 인원이 짧은 기간에 공적자료에 의존해 검증을 완벽히 할 수 있나 그러니 청와대 이후 언론이 검증하고 인사청문회 검증을 하는 것이다 전체 과정에서 검증되는 것을 보고 인사권자인 대통령이 최종 판단해서 임명하거나 하지 않거나 하게 되는 것이기 때문에 청와대 검증에서 밝혀내지 못한 부분 있었다거나 또는 국민들 눈높이에 맞지 않다고 해서 그 자체로 검증의 실패다 책임져야 한다고 말할 수는 없다는 것이다 다만 우리가 국민 눈높이에 맞는 검증을 할 수 있도록 계속해서 노력해 나가겠다는 것이다 또 하나 말하고 싶은 것은 청와대가 그런 흠결이 있음에도 불구하고 발탁하려는 것은 또 한편으로는 그 분의 능력이나 실력을 평가해서 발탁하고 싶은 분이 있기 때문이다 그런데 그 부분이 제대로 설명이 되지 않았다 함께 결합해서 적절한 분인지 아닌지 판단해야 하는데 지금 인사청문회 과정이 너무나 흠결만 가지고 정쟁을 벌이기 때문에 아주 능력 있는 분들 조차 그런 분들 가운데서도 별로 흠결이 없는 분들 조차 우선 청문회 자리에 서기 싫어서 또 가족들이 반대해서 가족들이 도마 위에 오르기 싫어해서 고사한다 지금처럼 청문회가 정쟁쟁의 장으로 운영된다면 좋은 인사를 발탁하는 장이 아니라 좋은 인사를 막는 장이 될 것이다 그렇다면 제도 개선을 어떻게 할 지 고민할 시점이다 대통령께서 민정수석과 시민수석을 하실 당시에도 인사 문제가 생겨서 장관 후보자에 대한 인사청문제도가 그 당시 도입됐고 십수년 정도 우리 사회가 인사청문회 문화를 겪어온 셈이다 그렇다면 대통령께서 그렇게 판단한다면 청와대가 갖고 있는 후보자 자료를 국회에 제출하고 조금 내밀한 자료까지도 그러고 나서 2단계로 나눠서 신상 같은 것은 비공개로 하고 나머지 업무역량과 정책역량은 공개로 하는 식의 제도를 바꿔보자는 생각은 하고 계신지 그런 생각도 있다 그런 혜안을 먼저 내놓는 것이 국민 설득 절차일텐데 지금 청와대의 모습을 보면 뭐가 문제냐라는 식의 해명이 있었고 흠결에도 이사람을 왜 쓰고 싶은지 국민들의 이해를 구하는 설명도 상당히 부족했다고 본다 그렇기 때문에 유능한 게 맞는지 솔직한 게 맞는지 이런 비판을 받았던 것 아니냐 첫번째 제도화 부분은 제가 이미 제안하고 있다 미국식으로 인사청문 절차를 두 단계로 나눠서 첫번째 도덕성 검증 과정은 비공개 적으로 하고 그 대신 청와대와 국회 야당이 모든 정보를 서로 공유하는 것이다 그 정보를 다 모아 이 분이 공직자로 자격이 있나 없나 먼저 판단하고 그것을 통과하면 능력과 정책 역량을 가지고 검증하는 그것은 공개적으로 하는 것이다 그렇게 하는 것이 바람직하다고 생각하고 있고 제안을 하고 있다 그렇게 된다면 청와대가 가진 모든 자료를 우리도 제출할 뿐 아니라 반대로 야당 자료도 우리가 함께 판단할 수 있을 것이다청와대가 후보자를 발표하며 이 분이 이러한 흠결이 있지만 이런 점을 높이 평가해 발탁하고자 한다고 먼저 추천단계에서 국민들께 밝혀 드리고 싶다 모든 후보자를 다 그렇게 할 필요는 없으나 적어도 문제가 될 만하다고 하는 분들은 그렇게 하면 좋겠다 사실 과거 제가 민정수석을 할 때 그렇게 한 적도 있다 저는 우리 인사팀들에게도 그렇게 요구하고 있는데 초기에 그렇게 한 번 했더니 방금 균형 있게 이 분의 흠결과 정책능력을 비교해서 보는 것이 아니라 오히려 본인의 흠결에 대해 인사청문회에서에서 소명할 수 있는 기회 조차 주지 않고 논란을 더 앞당겨서 불러 일으키고 거꾸로 청와대에서는 흠결에 대해 물타기하는 것이라고 공격 받고 이런 일이 있어서 그 뒤에 그렇게 못하게 된 것 같다 그 점에 대해 나름 여전히 필요하다고 생각하고 검토해 보겠다 이명박박근혜 전 대통령 사면 문제 예정된 시간이 거의 다 됐다 몇 가지 짧게라도 여쭙고 싶은데 예민한 질문일 수 있다 보수진영에서 박근혜 전 대통령 사면 요구를 계속 하고 있다 물론 반대하는 목소리도 상당하다 대통령께선 법률가이시기 때문에 법적 판단이 있으시리라고 본다 아직 대법원 판결 전이고 대통령의 사면권을 제한적으로 쓰겠다고 하셨고 그렇지만 대통령으로서 판단이 조금 다를 수 있을 것이라고 본다 일단 박 전 대통령과 이명박 전 대통령 두 전임 대통령께서 지금 처해 있는 상황이 한 분은 지금 보석 상태이시지만 여전히 재판을 받고 있고 아직 한 분은 수감 중이시다 이런 상황에 대해서는 정말 가슴이 아프다 아마 누구보다도 저의 전임자 분들이기 때문에 제가 가장 가슴도 아프고 부담도 클 것이라고 생각한다 그러나 답변은 아까 말씀하신 대로 아직 재판이 확정되지 않은 상황이기 때문에 그런 상황 속에서 사면을 말하기는 어렵다 대법원 판결이 나오면 이후 생각해 보겠다는 것인가 일단 재판 확정 이전에 사면을 바라는 것 자체가 그것은 어려운 일이다 총선 정국 및 개각 내년 총선이 있다 총리를 포함해 많은 분들 일부 장관들이 상당히 장수하는 분들이 있다 총선이 있으면 당에서 요구가 있을 수도 있고 개각 시점을 생각하시는 게 있는가 특별히 개각 시기를 생각한 것은 없다 다만 총리를 비롯해 장관들이 정치에 나선다면 그것은 전적으로 본인 의사에 달려 있는 것이고 대통령으로서 바라고 싶은 것은 선거에 나갈 생각이 있다면 선거시기에 임박해서가 아니라 충분한 여유를 두고 의사를 밝히는 것이 바람직하겠다고 생각하고 있다 그것은 선거에 대한 정부의 공정성 부분 면에서도 필요한 일이라고 본다 뿐만 아니라 요즘 유권자들의 요구도 이제는 낙하산으로 공천 받아 내려오는 게 아니라 지역에서 지역주민과 밀착되길 바라기 때문에 그것이 유권자들 요구라고도 생각한다 3년 뒤 대한민국 모습 마지막 질문이다 며칠 전 외신에 평범한 국민들이 위대함을 이뤘다는 취지의 기고문을 낸 것을 인상적으로 읽었다 평범한 국민들에게 앞으로 3년 후는 어떤 모습일 거라고 마지막으로 말씀 하신다면 우선은 요즘 히어로 영웅을 다루는 영화들이 인기를 끄는 것 같다 역사를 봐도 영웅들이 역사를 바꿔온 것처럼 느껴지기도 한다 그러나 제가 말씀드리고 싶은 것은 그렇지 않다는 것이다 한국이 증명하고 있다 31 독립운동은 주도자들이 이끈 것이 아니라 평범한 민중들이 이끌었다 419혁명과 부마민주항쟁 518 광주민주화운동과 6월항쟁 그리고 또 지난번 촛불혁명조차도 전부 평범한 시민들의 선한 의지가 모여서 이뤄낸 것이지 않느냐 평범한 시민들의 선한 의지가 정권교체를 이뤄냈고 그 힘에 의해 문재인 정부가 탄생한 것이기 때문에 앞으로도 임기를 마칠 때까지 우리가 촛불 정신을 지켜내는 데에 온 힘을 다하겠다는 말씀 드리고 싶다 보다 구체적으로는 지금까지 우리 경제가 강자의 경제였다면 이제는 공정한 경제로 그 다음에는 반칙과 특권이 난무하는 시대였다면 이제는 역시 그런 것이 없는 공정한 사회로 양극화가 극심한 사회에서 이제는 함께 잘사는 그런 시대 경제로 남북관계도 대립과 전쟁의 시대에서 평화의 시대 넘어서 협력의 시대로 나아가선 평화경제의 시대로 발전시켜 나가야 겠다는 것이 저의 목표다 물론 우리 정부가 모든 일을 다 이룰 수 있다고 생각하지 않는다 그러나 확실히 임기가 마칠 때 쯤이면 그런 시대가 왔다는 것을 피부로 느낄 수 있도록 최선을 다하겠다 북한 단거리 발사체 아무래도 어떤 질문으로 시작을 해야 되나 고민을 했었는데 조금 전에 생긴 현안부터 여쭈울 수밖에 없을 것 같다 4시반쯤부터 해서 북한이 발사체 두발을 쏘아올렸다 오늘은 단거리 미사일로 추경이 된다 보고는 받으셨나 그렇다 북한이 며칠 전에 여러 종류의 단거리 발사체를 발사한 데 이어서 오늘은 일단 단거리 미사일로 추정되는 그런 발사를 했다 며칠 전의 발사에 대해서는 신형전술유도무기라고 규정을 했었는데 오늘 단거리 미사일로 추정하는 이유는 며칠 전은 북한이 동해안에서 자신들의 앞바다를 향해서 발사를 했기 때문에 사거리가 비교적 짧았다 오늘은 평안북도 지역에서 육지를 넘어서 동해안까지 발사를 했기 때문에 두발 중의 한 발은 사거리가 400를 넘는다 그래서 일단 단거리 미사일로 한미 양국이 함께 추정을 하고 있는 것이다 그 판단은 한미양국이 같이 내린 것인가 공조하고 있다 지난 4일 발사체 최장 거리가 240이었는데 오늘은 보면 사거리 420 발사체가 있다는 것이지 두발 중의 한발이 그렇게 된 것으로 보고 있다 15배 더 늘어난거고 그렇게 해서 한미양국이 공조를 통해서 발사체는 단거리 미사일로 추정이 된다 이렇게 규정했다는 것인가 그렇다 지난 번 발사체 때는 한미양국이 전략적 해석이라는 표현도 나왔습니다만 미사일이라는 표현을 쓰는데는 주저하지 않았나 그런데 사거리가 이렇게 됐다 지난 번에 일단 고도가 낮은 데다가 사거리가 짧았다 미사일로 단정하기에는 이르다고 보고 계속 한미양국이 분석중에 있는 것이다 오늘은 고도는 낮았지만 발사고도는 낮았지만 사거리가 길었기 때문에 일단은 단거리 미사일로 추정을 하는 것이다 면밀한 분석이 있어야 되겠지만 탄도미사일 가능성이 있으면 문제가 예를 들어서 유엔결의안 위반이다 이런 해석으로 이끌어갈 수 있는 사안이다 일단 유엔의 안보리 결의는 북한의 중장거리 탄도 미사일을 겨냥한 것이다 이전에 북한이 단거리 미사일을 발사했을 때는 문제삼은 적이 없었다 그러나 유엔 안보리 결의 속에는 탄도미사일을 하지 말라는 그런 표현이 있기 때문에 비록 단거리라 할지라도 그것이 탄도미사일일 경우에는 유엔 안보리 결의에 위반될 소지도 없지 않다고 생각한다 그 부분은 추가적인 분석이 있어야 하는 건가 그렇다 최종적인 판단은 한미양국이 재원이라든지 종류라든지 궤적이라든지 이런 것을 조금 더 면밀히 분석해서 판단을 하게 될 것이다 참고로 말씀드리면 지난 번의 발사에 대해서도 유엔안보리 결의 위반여부를 판단 중에 있긴 하지만 일단 미국은 지금까지는 유엔안보리 결의는 위반하지 않은 것으로 그렇게 판단을 내리고 있다 판단 역시 한미 양국이 같이 공유하는 것인가 공유한다 한편으로 남북군사합의에 위반되는 것 아니냐라는 판단도 필요한데 지금 남북간에는 서로 무력 사용을 하지 않기로 합의를 한 바 있다 훈련도 휴전선으로부터 비무장지대로부터 일정한 구역 밖에서만 하기로 합의를 한 바 있는데 지난번이나 이번에 북한의 훈련 발사는 일단 그 구역밖에 있고 군사합의 이후에도 남북이 기존의 무기체계를 발달시키기 위한 시험발사나 훈련 등은 계속해 오고 있기 때문에 남북 간의 군사합의를 위반한 것은 아니라고 보고있다 그럼에도 북한의 이런 행위가 거듭된다면 지금 대화와 협상국면을 어렵게 만들 수 있다는 점을 북한측에 경고를 하고 싶다 북한이 4일하고 오늘 닷새만에 두차례 도발을 했다 그 수위는 올라갔다 현 시점에서 좋은 시그널은 아니고 북한이 왜 이 시점에서 도발행위를 하는 것이라고 판단할지 의도를 분석하는 게 현재로서는 중요한 포인트일 것 같다 정확한 의도는 알 수 없지만 북한이 지금까지 북한 자신의 매체를 통해 밝혀온 여러 가지 보도내용을 종합해보면 북한은 하노이 제2차 북미정상회담이 합의를 이루지 못하고 끝난데 대해서 상당히 불만을 가지고 있는 것 같다 그래서 미국이나 한국 양측에 대해서 일종의 시위성 성격이 있지 않은가 판단을 하고 있다 그와 함께 앞으로 비핵화 대화를 자신들이 원하는 방향으로 이끌고자 하는 압박의 성격도 담겨 있다고 본다 한편으로는 조속한 회담을 촉구하는 그런 성격도 있지 않을까 생각한다 어쨌든 북한의 의도가 뭐라고 하더라도 결국 근본적인 해법은 북미양국이 조속히 빨리 앉는 것이라고 생각한다 북한도 불만이 있다면 조속히 대화의 장에서 불만을 명확하게 그렇게 밝히는 것이 바람직하다고 생각한다 이런 방식으로 북한의 의도를 여러 가지로 해석하게 만들고 또 우려하게 만들고 자칫 잘못하면 대화와 협상국면의 찻물을 끼얹는 이런 성격을 거듭 하는 것은 결코 바람직하지 않다는 것을 북한측에 다시 한 번 이야기하고 싶다 4일 단거리 발사체가 발사됐을 때 한미양국이 북한의 의도를 판을 깨려는 것으로 보지는 않는다는 취지로 해석을 하는 기류였다 그런데 그런 도발에 대해서 단호한 규정을 하지 않아서 북한이 추가 도발성 행위를 한 것이다 이런 시각도 있을 수 있을 것 같다 일단 북한은 계획된 행동으로 보인다 그러나 대화의 판을 깨지 않으려고 노력하는 모습도 함께 보여주고 있다 무언가 과거에는 이런 발사를 하면 굉장히 허세를 부리고 과시하는 그런 행동을 했지만 허세를 부리고 과시하는 행위는 어떤 걸 말하는지 ICBM을 완성했다 고도 미사일을 능력을 갖게 됐다 이런 식으로 국제사회에 위협적인 표현들을 했었는데 이번에 북한은 그냥 신형전술유도 무기를 시험훈련한 것이다 라고 낮은 로우키로 발표를 했고 발사를 방향이라든지 발사지역도 미국이나 일본 한국에게 별로 위협이 되지 않는 그런 방식으로 발사를 했기 때문에 북한 측에서는 한편으로 자기 의사를 표현하면서 판이 깨지지 않도록 유의하는 것으로 판단한다 대통령께서도 4일 도발이 있었고 단거리 발사체 발사가 있었고 오늘 추가발사가 있을 것이라고 예측은 못한 것인가 네 그렇다 그리고 북한이 이것이 마지막인지 여부도 아직은 판단하기 어렵다 며칠만에 다시 미사일로 추정되는 단거리 발사체를 쐈기 때문에 예를 들어 추가도발이 있을 수도 있을 가능성은 우리가 배제할 수는 없을 것이다 그렇다면 상황을 더 악화시키면 안 된다 상황관리차원에서 라도 우리가 특사를 보낼 필요성이 있다는 판단은 안하고 계신 건가 일단 북한의 의도가 어디에 있건 북한의 행동이 자칫 잘못하면 협상과 대화의 국면을 어렵게 만들 수 있다는 점은 우선 우리가 경고를 하는 바이다 그리고 아까 근본적인 해법이 역시 북미간에 조속히 마주 앉는 것이라고 생각하는데 그렇게 될 수 있도록 한국 정부는 다각도로 노력을 하고 있다 대북 식량지원 이런 상황에서 어쨌든 나온 얘기는 대북 식량지원 문제다 한미정상 간 통화 때 이 문제를 먼저 거론하신걸로 안다 트럼프 미국 대통령한테 일단 통화의 첫 목적은 지난번 발사에 대해서 어떻게 볼 것인가 라는 것을 서로 공유하기 위한 것이었는데 그에 대한 트럼프 대통령의 말씀은 좀 고약한 일일 수도 있지만 신경쓰지 않는다 나는 김정은 위원장을 좋아한다 김정은 위원장과 좋은 관계에 있다 나는 김정은 위원장과 대화를 원하고 대화를 통해서 잘 해결될 것이라고 기대하고 있다 이런 말씀이었다 그러면서 대화 속도를 내기 위해서 우리가 어떤 일을 해야 할 것인가 라고 저한테 질문도 했기 때문에 그런 과정에서 자연스럽게 대북식량지원 문제가 논의가 된 것이다 대화를 끌어내기 위해서 대북 식량문제도 어떤 계기가 될 수 있을 것이다라는 판단을 하셨다는 말인가 일단 한국의 입장에서는 우선 대화 카드 이전에 지금 아시는 바와 같이 유엔 세계 식량 계획 세계식량원조 기구가 정밀하게 조사해서 공식보고서로 발표한 바에 의하면 북한의 식량난이 최근 10년동안 가장 심각하다는 것이다 성인 1명이 1년에 달걀 23개 섭취할 정도다 라는 보고서 내용이다 이미 올해 1월부터 식량 배급량을 많이 줄였고 앞으로 6월부터 8월까지 춘공기 동안에는 더 줄일 전망이어서 한 40 정도 북한인구의 40 정도가 말하자면 기아에 직면하게 되고 특히 아동과 여성들이 직접적으로 피해를 거둘 것이다 라는 보고도 그래서 세계각국에게 북한에 대한 식량의 지원을 촉구하는 내용들이었다 그래서 우리 정부가 선도하는 차원이라는 말인가 그렇다 그에 비해서 우리 정부가 비축하고 있는 재고미비축미가 국내수요를 넘어서서 보관비만 6000억원이 소요되는 실정이다 그런 형편이기 때문에 북한동포들의 심각한 기아상태를 우리가 외면할 수 없고 우리가 동포애나 인도주의적인 차원에서라도 우리가 북한의 식량을 지원할 필요가 있다고 생각하는 것이다 두 번째로는 그것이 대화 교착상태를 조금 열어주는 그런 효과도 있을 것이라고 생각한다 그점에서 트럼프 대통령은 아주 전폭적으로 지지를 보여줬다 정부가 구체적으로 방법과 규모 이걸 생각할 수밖에 없을 텐데 정부 직접 지원 방식이 낫다고 판단을 하고 있나 일단 트럼프 대통령의 전폭적인 지지에 대해서 한번 더 구체적으로 설명을 해 드리면 왜냐하면 그 부분이 미국 측도 의문을 표시하는 분들도 계시기 때문에 말씀을 드리면 트럼프 대통령은 전폭적으로 지지를 하면서 자신이 우리 한국의 북한에 대한 인도적 지원에 대해서 절대적으로 축복을 한다는 말을 전해달라 그리고 그것이 또 굉장히 아주 큰 좋은 일이다라고 자신이 생각한다는 것을 발표해 달라 그 부분은 충분히 전달됐을 것 같다 그렇게 여러 번 서너번 거듭 해서 부탁을 할 정도였다 일단 우리가 식량지원을 하게 되면 남북협력기금을 사용해야 되는데 나중에 사후에 국회에 보고도 해야 한다 그래서 북한의 식량지원 문제에 대해서 저로서는 가장 바람직한 것은 지금 패스트트랙 문제 때문에 여야 간 정국이 교착상태에 빠져 있는데 그 문제는 별도로 해결하더라도 북한에 대한 식량지원에 대해서는 대통령과 여야가 함께 모여서 협의를 하는 것이 바람직하지 않을까 라는 생각을 하고 있다 그런데 시점이 국민들이 받아들이기에 단거리 발사체 발사 같은 국면에서 식량지원 문제에 대해서는 혼란스럽거나 아니면 반감이 생길 수도 있을 것 같다 그래서 그렇기 때문에 사실은 식량지원에 대해서 우리가 한미간에 합의를 한 것이 이번 발사 이전인데 그 이후에 또 다시 발사가 있었기 때문에 이 점에 대해서는 국민들의 공감이나 제재가 필요하다고 생각한다 여야 정치권 사이에 충분한 논의도 필요하다고 생각한다 차제에 대통령과 여야 대표들의 회동이 이뤄지면 좋겠다는 생각을 하는 것이다 이 문제를 예를 들어서 꽉막힌 국회상황에서 여야 지도부에게 회담을 하자 제의를 하신 거라고 이해해도 되나 그렇게 제안하고 싶다 패스트트랙 문제같이 당장 풀기 어려운 문제는 주제로 하기 곤란하다면 이번 식량지원 문제나 안보문제 이런 문제에 국한해서 회동을 할 수 있다고 생각한다 하노이 회담 및 4차 남북정상회담 추진 지난 하노이 보면 일반적으로 표현할 때 북한은 영변이면 충분하지 않냐 미국은 전체가 해결돼야 한다는 간극이 좁히지 못했던 것 같다 간극을 좁힐 수 있는 분위기가 조성이 되어 있나 우선 지금 양국이 비핵화 대화의 최종목표에 대해서는 완전히 일치를 보고 있다 미국은 북한의 완전한 비핵화를 원하는 것이고 또 북한은 자신들의 완전한 안전보장을 원하는 것다 이점에 대해서는 서로 간에 또 한국까지도 다 최종목표에 대해서는 합의가 되어 있는 상황이다 문제는 이것이 어느 순간에 짠 하고 한꺼번에 교환될 수가 없는 것이기 때문에 거기에 이루는 과정이나 프로세스 등 로드맵이 필요한데 이점에서 의견이 맞지 않는 것이다 중재자 역할을 하기 위해서 4차정상회담을 추진하겠다고 하신 건데 지지부진한 상태다 언제쯤으로 예측할 수 있을까 지지부진하다고 말씀을 하긴 그렇다 우리는 북한에게 아직은 재촉하지 않고 있다 북한은 외교가 발달된 나라가 아니다 하노이 정상회담 이후에 자기들 나름대로 입장을 정리하는 시간도 필요했을 테고 푸틴 대통령과의 정상회담도 예정이 있었고 저희는 사전에 일정을 다 파악을 하고 있었기 때문에 그때까지는 북한이 회담을 위한 대화를 하기가 어려웠을 것이라고 판단했고 이제 북한이 그렇게 대화를 할 수 있는 상황이 되었기 때문에 지금부터 북한에게 적극적으로 회담을 제안하고 대화로 이끌어낼 그런 계획이다 도보다리 회담 427 남북 정상회담 때 도보다리에서 30분을 얘기를 했다 어떤 얘기를 했는지 풀어주실 수 있는지 일단 저도 그 대화가 참 좋았다 사실은 그 다음 일정에 이르는 하나의 휴식시간에 좋은 그림으로 보여주기 위한 일정이었는데 실제로 두 사람이 진솔하게 대화를 나눌 수 있는 좋은 기회가 되었다 같은 언어를 사용하기 때문에 통역이 없어도 된다는 것이 참 좋았다 그때 김정은 위원장은 자신들의 비핵화 의지에 대해서 아주 진솔하게 다 표명을 했다 말하자면 안정보장을 위한 것인데 핵 없이도 안전할 수 있다면 우리가 왜 제재를 무릅쓰고 힘들게 핵을 들고 있겠는가 이런 표현으로 비핵화의지를 표명했고 미국과 회담해 본 경험이 없고 주변의 참모들 가운데에도 그런 경험들이 없는데 회담을 한다면 어떻게 하면 좋을 것인가 여러 가지 조언을 구하고 주로 김정은 위원장이 저에게 물어보고 제가 그에 대해서 답해 주는 시간이었다 한일관계 외교안보 질의를 드리고 싶다 한일 관계문제다 과거사 문제는 과거를 지울 수 없는 문제고 과거사 문제가 한일관계의 족쇄가 된 게 너무 오랜 시간이다 실질적인 협력 문제가 클 텐데 전혀 진도를 나가지 못하고 있다 하나 계기가 생긴 것이 일왕이 바뀐 계기가 있다 이 때문일까 일본에서는 일왕의 방한 추진 얘기도 언론에서 나온 것으로 알고 있다 검토해 본 사안인지 아니다 어쨌든 일본 새 천황의 즉위를 계기로 한일관계가 더 발전했으면 좋겠다는 희망을 가지고 있다 저는 한일관계가 굉장히 중요하다고 생각하고 앞으로 더 미래지향적으로 발전돼 나가야 한다고 생각한다 다만 어려움을 겪고 있는 것은 과거사 문제가 한번씩 양국관계발전에 발목을 잡고 있는데 그것은 결코 한국정부가 만들어 내고 있는 문제가 아니다 과거에 엄밀히 존재했던 불행했던 과거때문에 비록 한일 기본협정이 체결되긴 했지만 인권의식들이 높아지고 국제규범이 높아지고 하면서 여전히 조금씩 상처들이 굳어져 나오는 것이다 이 문제들로 인해서 미래지향적인 협력관계가 손상되지 않도록 양국정부가 잘 지혜를 모을 필요가 있는 것이다 그런데 일본 정치지도자들이 자꾸 그 문제를 국내 정치적인 문제로 다루기 때문에 과거사 문제가 미래지향적인 발전의 발목을 잡는 일이 거듭되고 있다고 본다 저는 양국이 함께 지혜를 모아나가길 바란다 다음달 G20을 계기로 한일정상회담은 준비가 들어간 상황인지 그때 일본을 방문하게 될 텐데 그 계기에 일본에 아베 총리와 회담을 할 수 있다면 그것은 좋은 일이라고 생각한다 다음은 경제산업 분야 일문일답 소득주도 성장 및 최저임금 인상 국민들 인터뷰 영상 시청 후 들어보시니까 어떤지 저분들 말씀도 다 들어드리고 싶고 다 해결하고 싶다 그러지 못해서 송구스럽다 경제문제가 아무래도 많았던 것 같습니다 우선 최저임금 인상 얘기부터 드려볼까 한다 대통령께서 실행해 오신 경제정책의 사람들이 가장 많이 기억이 남는 단어를 꼽으라고 한다면 소득주도 성장이 아닐까 싶다 최저임금 인상이 소득주도 성장의 단 하나의 정책은 아니다 그런데 최저임금 인상을 하는 과정에서 생긴 논란 때문에 소득주도 성장 자체에 논란이 생겨버린 국면이다 과정을 조금 더 다듬어갔으면 하는 후회는 없는지 그렇다 한숨 아쉬움이 많다 우선 이점은 꼭 말씀드려야 될 것 같다 최저임금 인상을 통해서 적어도 고용시장 안에 들어와 있는 분들 고용된 노동자들의 급여라든지 이런 부분은 굉장히 좋아졌다 저소득 노동자 비중이 역대 최고로 낮아졌다 또 1분위 노동자와 5분위 노동자 사이 임금격차도 역대 최저로 줄어들었다 임금노동자가구의 소득이 크게 높아졌고 한편으로 지난 3월에는 고용보험가입자수가 52만명 늘어나서 고용안전망 속에 들어온 온 노동자 수도 늘었다 당연히 상용직도 늘었다 고용시장 안에서의 경제적인 효과는 뚜렷한데 반면에 고용시장 바깥에 있는 자영업자들의 삶이라든지 가장 아랫층에 있던 노동자들이 고용시장에서 밀려나게 어려움을 겪는다든지 이런 부분들을 함께 해결하지 못한 것이 참으로 가슴이 아프다 어려운 일은 이런 분들의 어려움을 해소해 줄 수 있는 자영업자 대책들 이런 부분들 사회안전망을 높이는 부분들이 최저임금과 동시에 병행해서 시행했다면 그런 어려움을 덜어드릴 수 있었을 텐데 최저임금 인상은 정부에 의해 먼저 시행되고 자영업자 대책이라든지 EITC 근로장려금 같은 부분들은 국회의 입법과정을 거쳐야 되기 때문에 시차가 생기게 되는 부분들이 참으로 어려운 점이기도 하다 당사자들에게는 참으로 정부로서는 송구스러운 점이라는 말씀을 드리고 싶다 어떤 부작용이 있는지도 파악을 하고 계셔서 최저임금의 속도조절 인상의 속도조절에는 동의를 하시는 것 같다 만약 국회의 처리가 되지 않는다면 현행 제도로 내년도 최저임금 인상폭은 결정이 될 텐데 2년간 두 자릿수 인상이었어요 내년까지 두 자릿수 인상은 무리라고 판단을 하시나 이건 참 답변 자체가 조심스럽다 물론 대통령께서 결정 권한이 있는 것이 아니라는 것은 알고 있다 우선 그렇지만 지난 번 대선 과정에 저를 비롯한 여러 후보들의 2020년까지 최저임금 1만원으로 인상하겠다는 공약 이런 것이 최저임금위원회의 결정에 영향을 있었다고 생각한다 그점에 대해서는 대통령도 함께 책임을 져야 하는 것이라고 본다 일단 결정 권한이 정부 대통령에게 있는 것이 아니고 최저임금위원회에서 독립적으로 그렇게 결정하게 되어 있는 것이어서 대통령이 가이드라인을 제시하기는 어렵다고 생각한다 그러나 분명한 것은 그때 공약이 2020년까지 1만원이었다고 해서 공약에 얽매여 무조건 그 속도대로 인상되어야 한다고 하는 것은 아니라고 생각한다 우리 사회 우리 경제가 어느 정도 수용할 수 있는지 적정선을 찾아서 결정할 필요가 있는 것이다 올해 최저임금은 작년 최저임금 인상에 비해서 이미 속도조절이 되었다고 생각한다 그렇다고 하더라도 2년에 걸쳐서 최저임금이 가파르게 인상이 됐고 그것이 긍정적인 작용이 많은 반면 한편으로는 부담을 주는 부분들도 적지 않다고 판단한다면 최저임금인상위원회가 그런 점을 감안해서 우리 사회가 우리 경제가 수용할 수 있는 적정선으로 판단하지 않을까 그렇게 기대를 하고 있다 2020년 공약에 얽매이서 않고 사회가 수용할 수 있는 선에서 한다는 것인가 네 그렇기 위해서는 법제도로서 최저임금 결정 제도 이후나 두 단계를 걸쳐서 결정하는 법개정을 하려는 것인데 국회에서 처리되지 않아서 아쉽지만 현행 제도로 가더라도 최저임금인상위원회가 그런 취지를 존중하지 않을까 생각한다 좀 전에 잠깐 설명을 드렸지만 최저임금 인상 논란 때문에 소득주도 성장이 불필요한 논란이라고 표현해야 될까 굉장히 논란에 휩싸인 정책이 됐다 요즘에는 이 용어를 덜 쓰시는 것 같다 아까 얘기했다시피 노동의 고용의 질은 좋아진 것은 분명하다 그러나 고용양의 증가에 있어서 과거보다 못해졌다 못해진 이유 속에는 이런 구조적인 문제도 많이 있지만 최저임금 인상의 말하자면 효과도 있다고 이야기들이 되고 있는 것이다 물론 어느정도 영향을 미쳤느냐 대해서는 서로 평가가 다르지만 그러나 또 이 부분들은 시간이 조금 더 필요한 부분이기도 하다 당장 1년 간 보면 고용의 증가가 현저하게 둔화가 돼서 고용증가수가 10만명 밑으로 떨어졌는데 금년 2월 3월 두달 동안은 다시 25만명 수준으로 다시 높아졌고 정부는 그 추세가 지속될 것으로 보고 있다 그래서 당초 경제 계획 상으로는 올해 고용증가를 15만명 정도로 잡았었는데 지금은 20만명 정도로 상향하는 그런 식의 기대를 하고 있다 특히 추경까지 통과가 된다면 목표 달성에 더 용이해지리라고 보고 있다 그래서 최저임금의 인상으로 인해서 생기는 여러 가지 부작용의 문제조차도 사실은 좀 더 긴 시간을 두고 판단해 볼 필요가 있는 것인데 당장 어려움을 겪고 있는 분들이 많이 있기 때문에 그 해결에 우리가 좀 더 많은 노력을 해야 된다고 생각한다 일자리 문제 집무실에 일자리 상황판이 있나 지금도 있다 오늘 봤나 웃음 대체로 월별 단위로 발표가 되기 때문에 매달 수정이 된다 고용상황들은 지난 3월 부분까지만 발표가 되었기 때문에 3월 말 현재 상황들이 지금 일자리 상황판에 있다 수출은 4월달까지 표기되어 있다 상황판을 자세히 설명해 주실 필요는 없다 6월의 고용사정이 좋아졌기 때문에 지금은 일자리 상황판에서 좋은 지표들은 대체로 올라가고 나쁜 지표들은 대체로 떨어졌다 두어달 일자리 수는 괜찮아졌다 얘기를 하셨는데 고용의 질이 문제가 생기게 되는 부분이 있다 저희가 봤더니 일자리가 생기긴 했는데 이중에 상당수가 초단기 일자리 그래서 주 15시간도 안 되는 정말 예를 들어서 보험의 사각지대에 놓여있는 초단기 일자리가 상당부분 차지하고 있더라 맞다 그 사실은 맞는데 그런 초단시간 일자리는 대체로 노인 일자리에 해당한다 아시다시피 고령화가 급격하게 진행되고 있어서 65세 이상 인구가 14가 넘는 고령사회를 이미 2017년에 통과했고 2025년이면 20가 넘는 초고령사회가 될 것으로 예상된다 65세 이상 어르신들에게는 정규직의 좋은 일자리가 불가능하다 지속가능한 일자리가 안 되는 것이다 짧은 시간의 일자리라도 마련해 드리는 것이 그나마 필요한 일이고 그렇지 않으면 온전히 복지대상으로 떨어질 수밖에 없는 것이다 어르신들을 위한 나쁜 일자리라도 일자리가 없는 것보다는 낫기 때문에 그런 노력을 계속해 나가야 한다고 생각한다 말한대로 그런 분들께는 나쁜 일자리라도 있는 게 나을 수는 있지만 그렇게 되기 위해서 투입되는 재정 부담을 생각하지 않을 수 없나 어르신들의 공공근로 일자리는 쭉 과거 정부부터 해 왔던 것이다 이것은 어찌보면 일자리와 일자리를 통한 복지의 성격을 가지고 있는 것이다 고령인구가 크게 늘고 있기 때문에 일자리 수를 더 늘리고 과거의 급여가 낮았기 때문에 급여를 두배 높여서 실제로 어르신들의 빈곤 해결에 도움되도록 정부가 노력하고 있는 것이다 그래서 말씀드리자면 노인 빈곤율도 꽤 개선되고 있다는 말씀을 드린다 제일 문제는 청년일자리다 지속가능한 일자리가 청년에게 계속 공급되는 게 중요할 텐데 이런 일자리는 어디서 만들어야 해야 하는 것인가 공공부문 일자리 81만개 만들겠다는 공약을 했었다 일단 지난 2 3월 청년 고용률 아주 높아졌고 청년들의 실업률도 아주 낮아졌다는 말씀을 드린다 특히 25세부터 29세 사이는 굉장히 인구가 늘었음에도 불구하고 고용상황이 아주 좋아졌다는 말씀을 드린다 물론 완전히 다 해결된 것은 아니다 좋은 일자리를 늘리려면 여러 방향이 있다 하나로서 만능의 카드는 없다 첫째 우리가 제조업에 강점이 있다 조선이나 자동차같은 주력 제조업이 세계 경기둔화에 의해서 부진을 겪었다 제조업을 혁신해 고도화해서 경쟁력을 높여 일자리를 늘리는 방향이 하나 있다 또 신산업들을 빨리 성장시켜서 좋은 일자리를 만들어야겠고 요즘 벤처창업들을 크게 늘리고 지원할 필요가 있다 한편으로는 아까 말씀하신 공공일자리 부분도 어르신들 일자리만 이야기했지만 소방관이나 경찰들은 아직까지 수가 부족하다 사회 서비스일자리는 아직도 많이 부족한 실정이다 그런 것을 통해서도 일자리를 늘려나갈 필요가 있다고 본다 경제성장률 및 대통령의 경제 인식 우리 경제성장률이 0 3였다 경제 괜찮은 건가 걱정되는 대목이다 앞 분기에 비해서 0 3 마이너스 성장을 이뤘다 작년에 비하면 1 8 성장에 해당하는 것이다 우리의 목표는 2 적어도 5에서 6 인데 앞으로 만회를 해 나가야 되는 것인데 분기의 마지막인 3월에는 저성장의 원인이었던 수출부진 투자부진 이런 부분들이 회복되고 있고 좋아지는 추세다 정부나 한국은행에서는 점점 24분기부터는 상황들이 좋아져서 하반기에는 잠재성장률에 해당하는 2 중후반 수준을 회복할 것이다 그렇게 전망하고 기대를 하고 있다 그런데 다른 기관들 해외기관들이 성장률을 전망치를 낮추는 경우가 있다 경제가 심리여서 그런지 모르겠습니다만 이 수치는 괜찮고 괜찮아질 거다라고 말씀을 해 주셨지만 이런 것들이 실생활에서 어려움을 겪고 있는 국민들에게는 와닿지가 않는다 그래서 우리는 답답한데 왜 대통령께서는 괜찮다고 할까 이런 인식의 괴리 문제를 많이들 얘기를 한다 그 말씀은 충분히 이해를 할 수 있다 그러나 우리가 분명하게 인정해야 할 것은 우리가 거시적으로 볼 때 한국경제가 크게 성공을 거두었다는 것이다 지난번 원로들과의 대화때도 이홍구 전 국무총리께서 지금 우리가 우리 앞에서 벌어지고 있는 일들은 과거 70년간 크게 성공해 와서 생긴 일이다라고 말씀하셨는데 작년에 소득 3만불이 넘어서면서 세계 7번째로 3050 클럽 3만불 이상 인구 5천만명 이상 클럽에 가입을 하게 됐다 그런 나라들 G20 국가들이나 OECD국가들 중에서 한국은 상당한 고성장국가다 이례적으로 경제가 좋았던 미국 다음으로 한국이 가장 높았다 지금도 그런 추세다 그래서 거시적인 경제성공은 인정하고 자부심을 가져야 한다고 생각한다 다만 국민들에게 고르게 다 소득배분이 되고 있지 않고 있기 때문에 아직도 양극화가 심각하고 특히 소득이 낮은 층의 소득이 늘지 않고 있기 때문에 그분들의 사는 문제가 해결이 안 되고 있다 고용의 문제가 주츰해졌다 일자리를 늘려야 된다는 인식을 정부가 똑같이 하고 있고 똑같은 아픔을 느끼고 있다 재벌대기업 및 삼성전자 방문 경제가 활력을 찾기 위해서 정부도 노력을 해야하지만 한축은 기업이다 요즘 기업을 많이 방문하시는 모습들을 언론에서 봤다 가장 최근에는 삼성전자를 방문하고 이재용 부회장을 만났다 대법원 판결을 앞두고 이재용 부회장을 만난 것에 대해서 부담은 없었는지 일단 삼성이 시스템 반도체 분야의 133조원을 투자하겠다는 현장을 방문한 것이다 저는 그렇게 투자를 늘리고 일자리를 만들고 경제에 도움이 되는 일이라면 대기업이든 중소기업이든 벤처기업이든 누구든 만날 수 있고 다음에 또 방문할 수 있다고 생각한다 그러면서 제가 예상을 했다 두 가지 비판이 있겠다 하나는 재벌성장으로 회귀하는 거 아니냐 두번째는 재판을 앞두고 있는데 그런 거 아니냐 그런데 저는 이제 그렇게 이분법적으로 보는 그런 사고들에서 벗어나야 한다고 생각한다 대통령이 재벌을 만나면 친재벌이 되고 노동자를 만나면 친노동자 되겠나 그날 방문을 앞두고 오전에 국무회의에서는 대기업의 오너들이 말하자면 회사에 대해서 횡령이나 배임 등의 범죄를 저지르고도 계속해서 경영권을 가지는 앞으로 못하도록 횡령배임 유죄판결을 받으면 임원자격을 가지지 못하도록 시행령을 개정했다 그러면 그것이 반재벌이겠나 그래서 그런 상투적인 비판이라고 생각한다 재판을 앞두고 있는데 봐주기 아니냐는 것은 사법권의 독립권에 대해서 훼손하는 말이라고 생각한다 재판은 재판이고 경제는 경제란 것인가 재판은 재판이다 분명 나눠져있다 금융은 금융 경제는 경제 그런 것이다 사법권이 어떻게 훼손되는지 국민들이 봤기 때문이 그런 시선을 가질 수도 있었다고 본다 그러나 지금은 만약 그 논리라면 대통령과 가까운 사람들은 다 봐주겠나 그렇게 되지 않는다 오히려 더 엄중하게 수사받고 재판받고 하는 것이 현실이지 않나 미래먹거리 앞으로 펴실 정책도 질의를 드려야 될 것 같다 어떤 점에 주안점을 저희가 지켜봐야 될까 제조업도 부활시켜야 되고 4차산업 혁명시대에 대비도 해야 되고 미래먹거리도 발굴해야 한다 그렇다 아까도 얘기했지만 한국의 경제성장률은 결코 낮지 않다 그러나 뭐가 우려되는 상황이냐면 잠재성장률이 점점 낮아지고 있는데 기존의 메모리 반도체 분야 이후로는 말하자면 새로운 신성장동력 같은 것들이 마련되지 않고 있다는 것이다 그래서 새로운 산업을 통한 새로운 신성장동력을 마련하는 것이 시급하다고 보는 것이다 그것이 우리가 말하는 혁신성장이라는 것인데 우선 아시다시피 가장 시급하게 중심적인 역량을 쏟아부은 것은 시스템반도체 바이오 미래자동차 분야 이런 부분들을 중점적으로 육성하려고 하고 한편으로는 기존 제조업의 혁신을 통해서 다시 제조업 강국의 위상을 굳건하게 하려는 것이다 한편으로는 제2의 벤처붐 이미 작년에 벤처창업 기업수도 벤처투자액도 역대 최고를 기록했다 벤처붐을 더 크게 일으켜서 그것을 통해서도 새로운 성장동력을 찾고 한편으로는 더 좋은 일자리들을 많이 만들어 내려고 그렇게 노력하고 있다 미래먹거리 몇 가지를 얘기했데 수소차 시스템반도체 바이오 산업 이런 것이 대기업이 주도할 수밖에 없는 영역 아닌가 반드시 그렇지 않다 시스템반도체 가운데서 삼성이 투자하기로 했던 파운더리 반도체 부분은 다른 기업이 설계한 반도체를 주문받아서 생산하는 것이기 때문에 대규모 생산설비가 필요하다 그런 분야는 대기업이 잘할 수 있지만 설계를 하는 팹리스는 생산설비가 필요 없기에 오히려 중소기업에 적합한 업종이다 그런 지원들이 필요하고 바이오 헬스 분야도 오히려 중소기업들이 약전하고 있는 분야다 특히 코스닥 상장업체들을 비롯해 그쪽을 통한 수출이 늘고 있는데 중소기업들도 오히려 적합한 분야라고 말씀을 드린다 미래형 자동차도 우리가 대기업 자동차 회사들만 생각하는데 실제로 경차 전기차 상용차 전기차 이런 부분들은 중소기업들이 오히려 많이 하고 있다 52시간 근로제 노동현안도 많긴 한데 주52시간 근로제 시행과 맞물려서 버스 노조가 총파업 찬반투표를 실시를 하고 있고 이 사안도 보면 52시간 문제가 제대로 관리되지 못하면 불필요한 논란을 키울 수 있는 사안을 다분히 내포하고 있는 사안 같다 어떤 대비책이 있어야 될 것 같다 주 52시간 노동제 같은 경우도 300인 이상 기업에 시행되고 있는데 작년 말까지 95 정도가 다 시행에 들어가서 거의 안착이 되고 있다 내년에는 50인 이상 기업도 시행된다 그 부분이 감당할 수 있을까 걱정하는 것인데 그 부분에 대해서는 미리 대비책을 세워나가야겠고 계도기간을 줌으로써 해결할 수 있다고 생각한다 과거에 주 5일 근무제가 많이 걱정됐지만 잘 안착이 된 것처럼 그렇게 될 것이라고 기대한다 이번에 버스 파업 부분은 특례에서 버스도 주 52시간을 준수하게끔 되어 있는데 대부분의 지자체에서는 이미 공영제 또는 준공영제를 통해서 이미 주52시간이 시행되고 있다 다만 경기도의 경우 시외버스의 경우에 주52시간이 되지 않고 있는데 이게 주52시간을 하려면 새로운 버스기사들의 채용이 필요하고 그러자면 요금의 인상도 필요하기 때문에 그 부분이 진통을 겪고 있는 것이다']"
      ]
     },
     "execution_count": 60,
     "metadata": {},
     "output_type": "execute_result"
    }
   ],
   "source": [
    "ss"
   ]
  },
  {
   "cell_type": "code",
   "execution_count": 61,
   "id": "ce7fc4e4",
   "metadata": {},
   "outputs": [
    {
     "data": {
      "text/plain": [
       "2"
      ]
     },
     "execution_count": 61,
     "metadata": {},
     "output_type": "execute_result"
    }
   ],
   "source": [
    "len(ss)"
   ]
  },
  {
   "cell_type": "code",
   "execution_count": 100,
   "id": "f75b9e80",
   "metadata": {},
   "outputs": [
    {
     "name": "stdout",
     "output_type": "stream",
     "text": [
      "1993 285\n",
      "2026 277\n",
      "2024 244\n",
      "2019 366\n",
      "1994 268\n",
      "1985 324\n",
      "2020 343\n",
      "2043 350\n",
      "2024 327\n",
      "2030 351\n",
      "2034 353\n",
      "1598 411\n",
      "1928 296\n",
      "1928 345\n"
     ]
    },
    {
     "data": {
      "text/plain": [
       "\"문재인 대통령은 9일 오후 청와대 상춘재에서 진행된 KBS '문재인 정부 2년 특집 대담, 대통령에게 묻는다'에 출연해, 정부 출범 2주년 소회 및 각 분야별 입장을 밝혔다. 촛불민심이 명하는 대로 국정농단, 그리고 반칙과 특권이라는 적폐시대를 마감하고, 새로운 시대, 공정하고 정의로운 대한민국의 길을 향해서 걸어가고 있다.그래서 검찰은 개혁의 당사자이고, 말하자면 이제는 셀프개혁으로서는 안 된다는 게 국민들의 보편적인 생각이기 때문에 그런 방안들이 마련되고 있는 것이어서 검찰이 보다 좀 겸허한 자세를 가져야한다고 생각한다.한일 관계문제다. 과거사 문제는 과거를 지울 수 없는 문제고 과거사 문제가 한일관계의 족쇄가 된 게 너무 오랜 시간이다. 다만, 어려움을 겪고 있는 것은 과거사 문제로 한번씩 양국관계발전에 발목을 잡고 있는데 그것은 결코 한국정부가 만들어 내고 있는 문제가 아니다. 하지만 일본 정치지도자들이 자꾸 그 문제를 국내 정치적인 문제로 다루기 때문에 미래지향적인 발전의 발목을 잡는 일이 거듭되고 있다고 본다. -제일 문제는 청년일자리다. 제조업의 혁신해 고도화해서 경쟁력을 높여 일자리를 늘리는 방향이 하나 있고, 신산업들을 빨리 성장시켜서 좋은 일자리를 만들어야겠고, 요즘 벤처창업들을 크게 늘리고 지원할 필요가 있다.\""
      ]
     },
     "execution_count": 100,
     "metadata": {},
     "output_type": "execute_result"
    }
   ],
   "source": [
    "run_summarize(df_sorted.iloc[0].text, tokenizer, model, device, chunk=2048, verify=False)"
   ]
  },
  {
   "cell_type": "code",
   "execution_count": 101,
   "id": "f3b01a38",
   "metadata": {},
   "outputs": [
    {
     "name": "stdout",
     "output_type": "stream",
     "text": [
      "1002 344\n",
      "991 321\n",
      "972 314\n",
      "991 317\n",
      "973 283\n",
      "882 331\n",
      "919 307\n",
      "986 321\n",
      "1012 292\n",
      "972 301\n",
      "996 323\n",
      "1010 332\n",
      "1006 321\n",
      "1006 319\n",
      "926 312\n",
      "998 448\n",
      "957 373\n",
      "997 280\n",
      "961 315\n",
      "986 306\n",
      "958 288\n",
      "1012 290\n",
      "964 312\n",
      "971 436\n",
      "342 262\n",
      "902 281\n",
      "936 307\n",
      "936 351\n",
      "928 366\n",
      "1014 342\n",
      "1017 315\n",
      "1008 398\n",
      "940 313\n",
      "279 360\n",
      "997 396\n",
      "991 338\n",
      "1018 317\n",
      "1043 311\n"
     ]
    },
    {
     "data": {
      "text/plain": [
       "\"문재인 대통령은 9일 오후 청와대 상춘재에서 진행된 KBS '문재인 정부 2년 특집 대담, 대통령에게 묻는다'에 출연해, 정부 출범 2주년 소회 및 각 분야별 입장을 밝혔다. 문재인 대통령은 이날 대담은 예정된 시간을 6분 넘겨 86분간 생중계로 진행됐다. 그러나 한편으로 또 아쉬운 부분들도 많이 있고, 또 보완해야 할 과제들도 많이 있다고 느낀다. 그래서 검찰은 개혁의 당사자이고, 말하자면 이제는 셀프개혁으로서는 안 된다는 게 국민들의 보편적인 생각이기 때문에 그런 방안들이 마련되고 있는 것이어서 검찰이 보다 좀 겸허한 자세를 가져야한다고 생각한다.\""
      ]
     },
     "execution_count": 101,
     "metadata": {},
     "output_type": "execute_result"
    }
   ],
   "source": [
    "run_summarize(df_sorted.iloc[0].text, tokenizer, model, device, chunk=1024, verify=False)"
   ]
  },
  {
   "cell_type": "code",
   "execution_count": 102,
   "id": "67231cd9",
   "metadata": {},
   "outputs": [
    {
     "name": "stdout",
     "output_type": "stream",
     "text": [
      "1517 285\n",
      "1448 304\n",
      "1510 269\n",
      "1505 232\n",
      "1466 377\n",
      "1489 361\n",
      "1399 331\n",
      "1477 383\n",
      "1419 354\n",
      "1414 402\n",
      "1509 315\n",
      "1497 362\n",
      "1493 339\n",
      "1488 334\n",
      "1526 283\n",
      "1633 411\n",
      "1395 416\n",
      "1384 392\n",
      "1358 328\n",
      "1153 333\n"
     ]
    },
    {
     "data": {
      "text/plain": [
       "\"문재인 대통령은 9일 오후 청와대 상춘재에서 진행된 KBS '문재인 정부 2년 특집 대담, 대통령에게 묻는다'에 출연해, 정부 출범 2주년 소회 및 각 분야별 입장을 밝혔다. 그래서 문재인 정부는 촛불정신 위에 서 있다. 촛불민심이 명하는 대로 국정농단, 그리고 반칙과 특권이라는 적폐시대를 마감하고, 새로운 시대, 공정하고 정의로운 대한민국의 길을 향해서 걸어가고 있다.그래서 그 해법을 선택한 것을 가지고 독재라 하는 것은 정말 조금 맞지 않는 얘기란 말씀을 드린다. 검찰 스스로 개혁을 할 수 있는 많은 기회들을 지금까지 놓쳐 왔다. 그래서 검찰은 개혁의 당사자이고, 말하자면 이제는 셀프개혁으로서는 안 된다는 게 국민들의 보편적인 생각이기 때문에 그런 방안들이 마련되고 있는 것이어서 검찰이 보다 좀 겸허한 자세를 가져야한다고 생각한다.북한이 며칠 전에 여러 종류의 단거리 발사체를 발사한 데 이어서 오늘은 일단 단거리 미사일로 추정되는 그런 발사를 했다. 유엔 안보리 결의 속에는 탄도미사일을 하지 말라는 그런 표현이 있기 때문에 비록 단거리라 할지라도 그것이 탄도미사일일 경우에는 유엔안보리 결의에 위반될 소지도 없지 않다고 생각한다. 그런 방식으로 북한의 의도를 여러 가지로 해석하게 만들고 또 우려하게 만들고 자칫 잘못하면 대화와 협상국면의 찻물을 끼얹는 이런 성격을 거듭 하는 것은 결코 바람직하지 않다는 것을 북한측에 다시 한 번 이야기하고 싶다. 그런 형편이기 때문에 북한동포들의 심각한 기아상태를 우리가 외면할 수 없고, 우리가 동포애나 인도주의적인 차원에서라도 우리가 북한의 식량을 지원할 필요가 있다고 생각하는 것이다.북한의 식량지원 문제에 대해서 저로서는 가장 바람직한 것은 지금 패스트트랙 문제 때문에 여야 간 정국이 교착상태에 빠져 있는데 그 문제는 별도로 해결하더라도 북한에 대한 식량지원에 대해서는 대통령과 여야가 함께 모여서 협의를 하는 것이 바람직하지 않을까 라는 생각을 하고 있다. 그래서 그렇기 때문에 사실은 식량지원의 문제에 대해서 우리가 한미간에 합의를 한 것이 이번 발사 이전인데, 그 이후에 또 다시 발사가 있었기 때문에 이 점에 대해서는 국민들의 공감이나 제재가 필요하다고 생각한다. 한일관계는 굉장히 중요하다고 생각하고, 앞으로 더 미래지향적으로 발전돼 나가야 한다고 생각한다.고령화가 급격하게 진행되고 있어서 65세 이상 인구가 14%가 넘는 고령사회를 이미 2017년에 통과했고, 2025년이면 20%가 넘는 초고령사회가 될 것으로 예상된다. 고령인구가 크게 늘고 있기 때문에 일자리 수를 더 늘리고 과거의 급여가 낮았기 때문에 급여를 두배 높여서 실제로 어르신들의 빈곤 해결에 도움되도록 정부가 노력하고 있는 것이다. 거시적인 경제성공은 인정하고 자부심을 가져야 한다고 생각한다. 다만 국민들에게 고르게 다 소득배분이 되고 있지 않고 있기 때문에 아직도 양극화가 심각하고 특히 소득이 낮은 층의 소득이 늘지 않고 있기때문에 그분들의 사는 문제가 해결이 안 되고 있다.\""
      ]
     },
     "execution_count": 102,
     "metadata": {},
     "output_type": "execute_result"
    }
   ],
   "source": [
    "run_summarize(df_sorted.iloc[0].text, tokenizer, model, device, chunk=1536, verify=False)"
   ]
  },
  {
   "cell_type": "code",
   "execution_count": 103,
   "id": "f0ebeed1",
   "metadata": {},
   "outputs": [],
   "source": [
    "t = \"문재인 대통령은 9일 오후 청와대 상춘재에서 진행된 KBS '문재인 정부 2년 특집 대담, 대통령에게 묻는다'에 출연해, 정부 출범 2주년 소회 및 각 분야별 입장을 밝혔다. 문재인 대통령은 이날 대담은 예정된 시간을 6분 넘겨 86분간 생중계로 진행됐다. 그러나 한편으로 또 아쉬운 부분들도 많이 있고, 또 보완해야 할 과제들도 많이 있다고 느낀다. 그래서 검찰은 개혁의 당사자이고, 말하자면 이제는 셀프개혁으로서는 안 된다는 게 국민들의 보편적인 생각이기 때문에 그런 방안들이 마련되고 있는 것이어서 검찰이 보다 좀 겸허한 자세를 가져야한다고 생각한다.\""
   ]
  },
  {
   "cell_type": "code",
   "execution_count": 105,
   "id": "57a91ccf",
   "metadata": {},
   "outputs": [
    {
     "data": {
      "text/plain": [
       "311"
      ]
     },
     "execution_count": 105,
     "metadata": {},
     "output_type": "execute_result"
    }
   ],
   "source": [
    "len(t)"
   ]
  },
  {
   "cell_type": "code",
   "execution_count": 106,
   "id": "c78c2c28",
   "metadata": {},
   "outputs": [
    {
     "data": {
      "text/plain": [
       "641"
      ]
     },
     "execution_count": 106,
     "metadata": {},
     "output_type": "execute_result"
    }
   ],
   "source": [
    "len(\"문재인 대통령은 9일 오후 청와대 상춘재에서 진행된 KBS '문재인 정부 2년 특집 대담, 대통령에게 묻는다'에 출연해, 정부 출범 2주년 소회 및 각 분야별 입장을 밝혔다. 촛불민심이 명하는 대로 국정농단, 그리고 반칙과 특권이라는 적폐시대를 마감하고, 새로운 시대, 공정하고 정의로운 대한민국의 길을 향해서 걸어가고 있다.그래서 검찰은 개혁의 당사자이고, 말하자면 이제는 셀프개혁으로서는 안 된다는 게 국민들의 보편적인 생각이기 때문에 그런 방안들이 마련되고 있는 것이어서 검찰이 보다 좀 겸허한 자세를 가져야한다고 생각한다.한일 관계문제다. 과거사 문제는 과거를 지울 수 없는 문제고 과거사 문제가 한일관계의 족쇄가 된 게 너무 오랜 시간이다. 다만, 어려움을 겪고 있는 것은 과거사 문제로 한번씩 양국관계발전에 발목을 잡고 있는데 그것은 결코 한국정부가 만들어 내고 있는 문제가 아니다. 하지만 일본 정치지도자들이 자꾸 그 문제를 국내 정치적인 문제로 다루기 때문에 미래지향적인 발전의 발목을 잡는 일이 거듭되고 있다고 본다. -제일 문제는 청년일자리다. 제조업의 혁신해 고도화해서 경쟁력을 높여 일자리를 늘리는 방향이 하나 있고, 신산업들을 빨리 성장시켜서 좋은 일자리를 만들어야겠고, 요즘 벤처창업들을 크게 늘리고 지원할 필요가 있다.\")"
   ]
  },
  {
   "cell_type": "code",
   "execution_count": 107,
   "id": "850c2863",
   "metadata": {},
   "outputs": [
    {
     "data": {
      "text/plain": [
       "1469"
      ]
     },
     "execution_count": 107,
     "metadata": {},
     "output_type": "execute_result"
    }
   ],
   "source": [
    "len(\"문재인 대통령은 9일 오후 청와대 상춘재에서 진행된 KBS '문재인 정부 2년 특집 대담, 대통령에게 묻는다'에 출연해, 정부 출범 2주년 소회 및 각 분야별 입장을 밝혔다. 그래서 문재인 정부는 촛불정신 위에 서 있다. 촛불민심이 명하는 대로 국정농단, 그리고 반칙과 특권이라는 적폐시대를 마감하고, 새로운 시대, 공정하고 정의로운 대한민국의 길을 향해서 걸어가고 있다.그래서 그 해법을 선택한 것을 가지고 독재라 하는 것은 정말 조금 맞지 않는 얘기란 말씀을 드린다. 검찰 스스로 개혁을 할 수 있는 많은 기회들을 지금까지 놓쳐 왔다. 그래서 검찰은 개혁의 당사자이고, 말하자면 이제는 셀프개혁으로서는 안 된다는 게 국민들의 보편적인 생각이기 때문에 그런 방안들이 마련되고 있는 것이어서 검찰이 보다 좀 겸허한 자세를 가져야한다고 생각한다.북한이 며칠 전에 여러 종류의 단거리 발사체를 발사한 데 이어서 오늘은 일단 단거리 미사일로 추정되는 그런 발사를 했다. 유엔 안보리 결의 속에는 탄도미사일을 하지 말라는 그런 표현이 있기 때문에 비록 단거리라 할지라도 그것이 탄도미사일일 경우에는 유엔안보리 결의에 위반될 소지도 없지 않다고 생각한다. 그런 방식으로 북한의 의도를 여러 가지로 해석하게 만들고 또 우려하게 만들고 자칫 잘못하면 대화와 협상국면의 찻물을 끼얹는 이런 성격을 거듭 하는 것은 결코 바람직하지 않다는 것을 북한측에 다시 한 번 이야기하고 싶다. 그런 형편이기 때문에 북한동포들의 심각한 기아상태를 우리가 외면할 수 없고, 우리가 동포애나 인도주의적인 차원에서라도 우리가 북한의 식량을 지원할 필요가 있다고 생각하는 것이다.북한의 식량지원 문제에 대해서 저로서는 가장 바람직한 것은 지금 패스트트랙 문제 때문에 여야 간 정국이 교착상태에 빠져 있는데 그 문제는 별도로 해결하더라도 북한에 대한 식량지원에 대해서는 대통령과 여야가 함께 모여서 협의를 하는 것이 바람직하지 않을까 라는 생각을 하고 있다. 그래서 그렇기 때문에 사실은 식량지원의 문제에 대해서 우리가 한미간에 합의를 한 것이 이번 발사 이전인데, 그 이후에 또 다시 발사가 있었기 때문에 이 점에 대해서는 국민들의 공감이나 제재가 필요하다고 생각한다. 한일관계는 굉장히 중요하다고 생각하고, 앞으로 더 미래지향적으로 발전돼 나가야 한다고 생각한다.고령화가 급격하게 진행되고 있어서 65세 이상 인구가 14%가 넘는 고령사회를 이미 2017년에 통과했고, 2025년이면 20%가 넘는 초고령사회가 될 것으로 예상된다. 고령인구가 크게 늘고 있기 때문에 일자리 수를 더 늘리고 과거의 급여가 낮았기 때문에 급여를 두배 높여서 실제로 어르신들의 빈곤 해결에 도움되도록 정부가 노력하고 있는 것이다. 거시적인 경제성공은 인정하고 자부심을 가져야 한다고 생각한다. 다만 국민들에게 고르게 다 소득배분이 되고 있지 않고 있기 때문에 아직도 양극화가 심각하고 특히 소득이 낮은 층의 소득이 늘지 않고 있기때문에 그분들의 사는 문제가 해결이 안 되고 있다.\")"
   ]
  },
  {
   "cell_type": "code",
   "execution_count": 109,
   "id": "b757e964",
   "metadata": {},
   "outputs": [],
   "source": [
    "filename2='/home/osung/data/korean/modu/json/combined_news.tsv'"
   ]
  },
  {
   "cell_type": "code",
   "execution_count": 115,
   "id": "98d8a060",
   "metadata": {},
   "outputs": [],
   "source": [
    "df2 = pd.read_csv(filename2, sep='\\t')"
   ]
  },
  {
   "cell_type": "code",
   "execution_count": 116,
   "id": "34906751",
   "metadata": {},
   "outputs": [
    {
     "data": {
      "text/plain": [
       "3611424"
      ]
     },
     "execution_count": 116,
     "metadata": {},
     "output_type": "execute_result"
    }
   ],
   "source": [
    "len(df2)"
   ]
  },
  {
   "cell_type": "code",
   "execution_count": 112,
   "id": "b039a2cc",
   "metadata": {},
   "outputs": [
    {
     "data": {
      "text/plain": [
       "Index(['id', 'topic', 'text', 'ksic', 'max_scores'], dtype='object')"
      ]
     },
     "execution_count": 112,
     "metadata": {},
     "output_type": "execute_result"
    }
   ],
   "source": [
    "df2.columns"
   ]
  },
  {
   "cell_type": "code",
   "execution_count": 113,
   "id": "7e2a21f0",
   "metadata": {},
   "outputs": [
    {
     "data": {
      "text/plain": [
       "1530052"
      ]
     },
     "execution_count": 113,
     "metadata": {},
     "output_type": "execute_result"
    }
   ],
   "source": [
    "len(df)"
   ]
  },
  {
   "cell_type": "code",
   "execution_count": 114,
   "id": "83d5c1ee",
   "metadata": {},
   "outputs": [
    {
     "data": {
      "text/plain": [
       "Index(['id', 'topic', 'text', 'ksic', 'max_scores'], dtype='object')"
      ]
     },
     "execution_count": 114,
     "metadata": {},
     "output_type": "execute_result"
    }
   ],
   "source": [
    "df.columns"
   ]
  },
  {
   "cell_type": "code",
   "execution_count": null,
   "id": "a3dae6a9",
   "metadata": {},
   "outputs": [],
   "source": []
  }
 ],
 "metadata": {
  "kernelspec": {
   "display_name": "Python (apollo)",
   "language": "python",
   "name": "apollo"
  },
  "language_info": {
   "codemirror_mode": {
    "name": "ipython",
    "version": 3
   },
   "file_extension": ".py",
   "mimetype": "text/x-python",
   "name": "python",
   "nbconvert_exporter": "python",
   "pygments_lexer": "ipython3",
   "version": "3.10.16"
  }
 },
 "nbformat": 4,
 "nbformat_minor": 5
}
