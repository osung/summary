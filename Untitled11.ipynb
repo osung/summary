{
 "cells": [
  {
   "cell_type": "code",
   "execution_count": 5,
   "id": "123b67cc",
   "metadata": {},
   "outputs": [],
   "source": [
    "A = {'등': 5,\n",
    " '올해': 4,\n",
    " '현대차': 4,\n",
    " '기아': 4,\n",
    " '것': 3,\n",
    " '차': 3,\n",
    " '판매': 3,\n",
    " '판매량': 2,\n",
    " '절반': 2,\n",
    " '승용차': 2,\n",
    " '중': 2,\n",
    " '대가': 2,\n",
    " '세단': 2,\n",
    " '차종': 2,\n",
    " '제': 2,\n",
    " '업계': 2,\n",
    " '수': 2,\n",
    " '인기': 2,\n",
    " '지속': 2,\n",
    " '현대': 1,\n",
    " '기아차': 1,\n",
    " '판': 1,\n",
    " '미니밴': 1,\n",
    " '레저': 1,\n",
    " '용': 1,\n",
    " '차량': 1,\n",
    " '인': 1,\n",
    " '종이': 1,\n",
    " '사상': 1,\n",
    " '처음': 1,\n",
    " '다른': 1,\n",
    " '비율': 1,\n",
    " '이상': 1,\n",
    " '달성': 1,\n",
    " '가능성': 1,\n",
    " '점': 1,\n",
    " '국내': 1,\n",
    " '집계': 1,\n",
    " '카니발': 1,\n",
    " '투싼': 1,\n",
    " '쏘렌토': 1,\n",
    " '주력': 1,\n",
    " '년': 1,\n",
    " '대비': 1,\n",
    " '배': 1,\n",
    " '제네시스': 1,\n",
    " '고급': 1,\n",
    " '확대': 1,\n",
    " '데': 1,\n",
    " '연초': 1,\n",
    " '연간': 1,\n",
    " '누적': 1,\n",
    " '전망': 1,\n",
    " '수납': 1,\n",
    " '공간': 1,\n",
    " '수년': 1,\n",
    " '작년': 1,\n",
    " '코로나': 1,\n",
    " '여파': 1,\n",
    " '박차': 1,\n",
    " '숙박': 1,\n",
    " '열풍': 1,\n",
    " '불어': 1,\n",
    " '수요': 1,\n",
    " '관계자': 1,\n",
    " '시장': 1,\n",
    " '선호': 1,\n",
    " '현상': 1,\n",
    " '당분간': 1,\n",
    " '말': 1}"
   ]
  },
  {
   "cell_type": "code",
   "execution_count": 15,
   "id": "a0869c0f",
   "metadata": {},
   "outputs": [],
   "source": [
    "B = ['제네시스', '업계', '수입']\n"
   ]
  },
  {
   "cell_type": "code",
   "execution_count": 18,
   "id": "3a0f00fd",
   "metadata": {},
   "outputs": [],
   "source": [
    "filtered_A = {key: A[key] for key in B if key in A}\n"
   ]
  },
  {
   "cell_type": "code",
   "execution_count": 19,
   "id": "02f5946f",
   "metadata": {},
   "outputs": [
    {
     "name": "stdout",
     "output_type": "stream",
     "text": [
      "{'제네시스': 1, '업계': 2}\n"
     ]
    }
   ],
   "source": [
    "print(filtered_A)\n"
   ]
  },
  {
   "cell_type": "code",
   "execution_count": null,
   "id": "8a525c8e",
   "metadata": {},
   "outputs": [],
   "source": []
  }
 ],
 "metadata": {
  "kernelspec": {
   "display_name": "Python 3 (ipykernel)",
   "language": "python",
   "name": "python3"
  },
  "language_info": {
   "codemirror_mode": {
    "name": "ipython",
    "version": 3
   },
   "file_extension": ".py",
   "mimetype": "text/x-python",
   "name": "python",
   "nbconvert_exporter": "python",
   "pygments_lexer": "ipython3",
   "version": "3.9.19"
  }
 },
 "nbformat": 4,
 "nbformat_minor": 5
}
