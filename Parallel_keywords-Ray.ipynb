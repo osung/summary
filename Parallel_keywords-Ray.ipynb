{
 "cells": [
  {
   "cell_type": "code",
   "execution_count": 1,
   "id": "978eae86",
   "metadata": {},
   "outputs": [],
   "source": [
    "import pandas as pd\n",
    "from sklearn.feature_extraction.text import TfidfVectorizer\n",
    "from konlpy.tag import Okt\n",
    "import networkx as nx\n",
    "import numpy as np\n",
    "from tqdm import tqdm\n",
    "import os\n",
    "import ray\n",
    "from itertools import combinations\n",
    "from collections import Counter"
   ]
  },
  {
   "cell_type": "code",
   "execution_count": 27,
   "id": "8654e0f5",
   "metadata": {},
   "outputs": [
    {
     "name": "stderr",
     "output_type": "stream",
     "text": [
      "2024-07-25 20:08:28,690\tINFO worker.py:1788 -- Started a local Ray instance.\n"
     ]
    },
    {
     "data": {
      "application/vnd.jupyter.widget-view+json": {
       "model_id": "85c53fdea72c4e2a83bef953a06ac946",
       "version_major": 2,
       "version_minor": 0
      },
      "text/html": [
       "<div class=\"lm-Widget p-Widget lm-Panel p-Panel jp-Cell-outputWrapper\">\n",
       "    <div style=\"margin-left: 50px;display: flex;flex-direction: row;align-items: center\">\n",
       "        <div class=\"jp-RenderedHTMLCommon\" style=\"display: flex; flex-direction: row;\">\n",
       "  <svg viewBox=\"0 0 567 224\" fill=\"none\" xmlns=\"http://www.w3.org/2000/svg\" style=\"height: 3em;\">\n",
       "    <g clip-path=\"url(#clip0_4338_178347)\">\n",
       "        <path d=\"M341.29 165.561H355.29L330.13 129.051C345.63 123.991 354.21 112.051 354.21 94.2307C354.21 71.3707 338.72 58.1807 311.88 58.1807H271V165.561H283.27V131.661H311.8C314.25 131.661 316.71 131.501 319.01 131.351L341.25 165.561H341.29ZM283.29 119.851V70.0007H311.82C331.3 70.0007 342.34 78.2907 342.34 94.5507C342.34 111.271 331.34 119.861 311.82 119.861L283.29 119.851ZM451.4 138.411L463.4 165.561H476.74L428.74 58.1807H416L367.83 165.561H380.83L392.83 138.411H451.4ZM446.19 126.601H398L422 72.1407L446.24 126.601H446.19ZM526.11 128.741L566.91 58.1807H554.35L519.99 114.181L485.17 58.1807H472.44L514.01 129.181V165.541H526.13V128.741H526.11Z\" fill=\"var(--jp-ui-font-color0)\"/>\n",
       "        <path d=\"M82.35 104.44C84.0187 97.8827 87.8248 92.0678 93.1671 87.9146C98.5094 83.7614 105.083 81.5067 111.85 81.5067C118.617 81.5067 125.191 83.7614 130.533 87.9146C135.875 92.0678 139.681 97.8827 141.35 104.44H163.75C164.476 101.562 165.622 98.8057 167.15 96.2605L127.45 56.5605C121.071 60.3522 113.526 61.6823 106.235 60.3005C98.9443 58.9187 92.4094 54.9203 87.8602 49.0574C83.3109 43.1946 81.0609 35.8714 81.5332 28.4656C82.0056 21.0599 85.1679 14.0819 90.4252 8.8446C95.6824 3.60726 102.672 0.471508 110.08 0.0272655C117.487 -0.416977 124.802 1.86091 130.647 6.4324C136.493 11.0039 140.467 17.5539 141.821 24.8501C143.175 32.1463 141.816 39.6859 138 46.0505L177.69 85.7505C182.31 82.9877 187.58 81.4995 192.962 81.4375C198.345 81.3755 203.648 82.742 208.33 85.3976C213.012 88.0532 216.907 91.9029 219.616 96.5544C222.326 101.206 223.753 106.492 223.753 111.875C223.753 117.258 222.326 122.545 219.616 127.197C216.907 131.848 213.012 135.698 208.33 138.353C203.648 141.009 198.345 142.375 192.962 142.313C187.58 142.251 182.31 140.763 177.69 138L138 177.7C141.808 184.071 143.155 191.614 141.79 198.91C140.424 206.205 136.44 212.75 130.585 217.313C124.731 221.875 117.412 224.141 110.004 223.683C102.596 223.226 95.6103 220.077 90.3621 214.828C85.1139 209.58 81.9647 202.595 81.5072 195.187C81.0497 187.779 83.3154 180.459 87.878 174.605C92.4405 168.751 98.9853 164.766 106.281 163.401C113.576 162.035 121.119 163.383 127.49 167.19L167.19 127.49C165.664 124.941 164.518 122.182 163.79 119.3H141.39C139.721 125.858 135.915 131.673 130.573 135.826C125.231 139.98 118.657 142.234 111.89 142.234C105.123 142.234 98.5494 139.98 93.2071 135.826C87.8648 131.673 84.0587 125.858 82.39 119.3H60C58.1878 126.495 53.8086 132.78 47.6863 136.971C41.5641 141.163 34.1211 142.972 26.7579 142.059C19.3947 141.146 12.6191 137.574 7.70605 132.014C2.79302 126.454 0.0813599 119.29 0.0813599 111.87C0.0813599 104.451 2.79302 97.2871 7.70605 91.7272C12.6191 86.1673 19.3947 82.5947 26.7579 81.6817C34.1211 80.7686 41.5641 82.5781 47.6863 86.7696C53.8086 90.9611 58.1878 97.2456 60 104.44H82.35ZM100.86 204.32C103.407 206.868 106.759 208.453 110.345 208.806C113.93 209.159 117.527 208.258 120.522 206.256C123.517 204.254 125.725 201.276 126.771 197.828C127.816 194.38 127.633 190.677 126.253 187.349C124.874 184.021 122.383 181.274 119.205 179.577C116.027 177.88 112.359 177.337 108.826 178.042C105.293 178.746 102.113 180.654 99.8291 183.44C97.5451 186.226 96.2979 189.718 96.3 193.32C96.2985 195.364 96.7006 197.388 97.4831 199.275C98.2656 201.163 99.4132 202.877 100.86 204.32ZM204.32 122.88C206.868 120.333 208.453 116.981 208.806 113.396C209.159 109.811 208.258 106.214 206.256 103.219C204.254 100.223 201.275 98.0151 197.827 96.97C194.38 95.9249 190.676 96.1077 187.348 97.4873C184.02 98.8669 181.274 101.358 179.577 104.536C177.879 107.714 177.337 111.382 178.041 114.915C178.746 118.448 180.653 121.627 183.439 123.911C186.226 126.195 189.717 127.443 193.32 127.44C195.364 127.443 197.388 127.042 199.275 126.259C201.163 125.476 202.878 124.328 204.32 122.88ZM122.88 19.4205C120.333 16.8729 116.981 15.2876 113.395 14.9347C109.81 14.5817 106.213 15.483 103.218 17.4849C100.223 19.4868 98.0146 22.4654 96.9696 25.9131C95.9245 29.3608 96.1073 33.0642 97.4869 36.3922C98.8665 39.7202 101.358 42.4668 104.535 44.1639C107.713 45.861 111.381 46.4036 114.914 45.6992C118.447 44.9949 121.627 43.0871 123.911 40.301C126.195 37.515 127.442 34.0231 127.44 30.4205C127.44 28.3772 127.038 26.3539 126.255 24.4664C125.473 22.5788 124.326 20.8642 122.88 19.4205ZM19.42 100.86C16.8725 103.408 15.2872 106.76 14.9342 110.345C14.5813 113.93 15.4826 117.527 17.4844 120.522C19.4863 123.518 22.4649 125.726 25.9127 126.771C29.3604 127.816 33.0638 127.633 36.3918 126.254C39.7198 124.874 42.4664 122.383 44.1635 119.205C45.8606 116.027 46.4032 112.359 45.6988 108.826C44.9944 105.293 43.0866 102.114 40.3006 99.8296C37.5145 97.5455 34.0227 96.2983 30.42 96.3005C26.2938 96.3018 22.337 97.9421 19.42 100.86ZM100.86 100.86C98.3125 103.408 96.7272 106.76 96.3742 110.345C96.0213 113.93 96.9226 117.527 98.9244 120.522C100.926 123.518 103.905 125.726 107.353 126.771C110.8 127.816 114.504 127.633 117.832 126.254C121.16 124.874 123.906 122.383 125.604 119.205C127.301 116.027 127.843 112.359 127.139 108.826C126.434 105.293 124.527 102.114 121.741 99.8296C118.955 97.5455 115.463 96.2983 111.86 96.3005C109.817 96.299 107.793 96.701 105.905 97.4835C104.018 98.2661 102.303 99.4136 100.86 100.86Z\" fill=\"#00AEEF\"/>\n",
       "    </g>\n",
       "    <defs>\n",
       "        <clipPath id=\"clip0_4338_178347\">\n",
       "            <rect width=\"566.93\" height=\"223.75\" fill=\"white\"/>\n",
       "        </clipPath>\n",
       "    </defs>\n",
       "  </svg>\n",
       "</div>\n",
       "\n",
       "        <table class=\"jp-RenderedHTMLCommon\" style=\"border-collapse: collapse;color: var(--jp-ui-font-color1);font-size: var(--jp-ui-font-size1);\">\n",
       "    <tr>\n",
       "        <td style=\"text-align: left\"><b>Python version:</b></td>\n",
       "        <td style=\"text-align: left\"><b>3.9.19</b></td>\n",
       "    </tr>\n",
       "    <tr>\n",
       "        <td style=\"text-align: left\"><b>Ray version:</b></td>\n",
       "        <td style=\"text-align: left\"><b>2.32.0</b></td>\n",
       "    </tr>\n",
       "    \n",
       "</table>\n",
       "\n",
       "    </div>\n",
       "</div>\n"
      ],
      "text/plain": [
       "RayContext(dashboard_url='', python_version='3.9.19', ray_version='2.32.0', ray_commit='607f2f30f5f21543b6a5568ee77ea779eeba30a8')"
      ]
     },
     "execution_count": 27,
     "metadata": {},
     "output_type": "execute_result"
    }
   ],
   "source": [
    "ray.init(num_cpus=16, ignore_reinit_error=True)"
   ]
  },
  {
   "cell_type": "code",
   "execution_count": 3,
   "id": "d70737d3",
   "metadata": {},
   "outputs": [],
   "source": [
    "def tokenize(text):\n",
    "    # 형태소 분석을 통해 명사만 추출\n",
    "    return [word for word in okt.nouns(text) if len(word) > 1]"
   ]
  },
  {
   "cell_type": "code",
   "execution_count": 4,
   "id": "0bde6f04",
   "metadata": {},
   "outputs": [],
   "source": [
    "def extract_keywords_tfidf(text, num_keywords=20):\n",
    "    # TF-IDF 벡터화기 생성\n",
    "    vectorizer = TfidfVectorizer(tokenizer=tokenize, min_df=1)\n",
    "    X = vectorizer.fit_transform([text])  # 문자열 전체를 하나의 문서로 처리\n",
    "\n",
    "    # 단어와 TF-IDF 점수 매핑\n",
    "    tfidf_scores = X.sum(axis=0).A1\n",
    "    words = vectorizer.get_feature_names_out()\n",
    "\n",
    "    # 단어와 TF-IDF 점수를 데이터프레임으로 변환\n",
    "    tfidf_df = pd.DataFrame({'Word': words, 'TF-IDF Score': tfidf_scores})\n",
    "\n",
    "    # TF-IDF 점수로 정렬하여 상위 num개 키워드 출력\n",
    "    return tfidf_df.sort_values(by='TF-IDF Score', ascending=False).head(num_keywords)"
   ]
  },
  {
   "cell_type": "code",
   "execution_count": 5,
   "id": "ecf07b7b",
   "metadata": {},
   "outputs": [],
   "source": [
    "def extract_keywords_textrank(text, num_keywords=20):\n",
    "    okt = Okt()\n",
    "    \n",
    "    # 형태소 분석 및 명사 추출\n",
    "    words = tokenize(text)\n",
    "    \n",
    "    # 단어들의 출현 빈도수 계산\n",
    "    word_counts = Counter(words)\n",
    "    \n",
    "    # 그래프 생성\n",
    "    graph = nx.Graph()\n",
    "    \n",
    "    # 단어 노드 추가\n",
    "    for word, count in word_counts.items():\n",
    "        if count > 1:  # 최소 출현 빈도 조건\n",
    "            graph.add_node(word, count=count)\n",
    "    \n",
    "    # 단어의 연결을 위한 윈도우 크기 설정\n",
    "    window_size = 4\n",
    "    \n",
    "    # 윈도우 안에서 단어 간의 연결 설정\n",
    "    for i in range(len(words) - window_size + 1):\n",
    "        window_words = words[i:i + window_size]\n",
    "        for w1, w2 in combinations(window_words, 2):\n",
    "            if graph.has_node(w1) and graph.has_node(w2):\n",
    "                if graph.has_edge(w1, w2):\n",
    "                    graph[w1][w2]['weight'] += 1\n",
    "                else:\n",
    "                    graph.add_edge(w1, w2, weight=1)\n",
    "    \n",
    "    # PageRank 계산\n",
    "    rank = nx.pagerank(graph, weight='weight')\n",
    "    \n",
    "    # 상위 num_keywords개의 키워드 추출\n",
    "    top_keywords = sorted(rank.items(), key=lambda x: x[1], reverse=True)[:num_keywords]\n",
    "    \n",
    "    #return top_keywords\n",
    "\n",
    "    return [keyword for keyword, _ in top_keywords]"
   ]
  },
  {
   "cell_type": "code",
   "execution_count": 6,
   "id": "9343db36",
   "metadata": {},
   "outputs": [],
   "source": [
    "def extract_keywords_df(df, num=20): #func=extract_keywords_tfidf, num=20):\n",
    "    doc_keywords = []\n",
    "    \n",
    "    for doc in df['text'] :\n",
    "        #keywords = extract_keywords_tfidf(doc, num)\n",
    "        #doc_keywords.append(keywords)\n",
    "        doc_keywords.append(doc[:10])\n",
    "        \n",
    "    #df.loc[:, 'keywords'] = doc_keywords\n",
    "    \n",
    "    return doc_keywords"
   ]
  },
  {
   "cell_type": "code",
   "execution_count": 7,
   "id": "fb3d39dc",
   "metadata": {},
   "outputs": [],
   "source": [
    "def test(text):\n",
    "    \n",
    "    \n",
    "    \n",
    "    okt = Okt()\n",
    "    \n",
    "    # 형태소 분석 및 명사 추출\n",
    "    words = tokenize(text)\n",
    "    \n",
    "    return text[:20]"
   ]
  },
  {
   "cell_type": "code",
   "execution_count": 28,
   "id": "ec33f785",
   "metadata": {},
   "outputs": [],
   "source": [
    "@ray.remote\n",
    "# 각 데이터 프레임 청크에서 키워드 추출 함수 적용\n",
    "def process_chunk(chunk):\n",
    "    \n",
    "    def tokenize(text):\n",
    "        # 형태소 분석을 통해 명사만 추출\n",
    "        return [word for word in Okt().nouns(text) if len(word) > 1]\n",
    "    \n",
    "    def test(text):\n",
    "                \n",
    "        # 형태소 분석 및 명사 추출\n",
    "        words = tokenize(text) \n",
    "        print(type(words))\n",
    "        \n",
    "        return words #text[:10]\n",
    "    \n",
    "    def extract_keywords_textrank(text, num_keywords=20):\n",
    "   \n",
    "        # 형태소 분석 및 명사 추출\n",
    "        words = tokenize(text)\n",
    "    \n",
    "        # 단어들의 출현 빈도수 계산\n",
    "        word_counts = Counter(words)\n",
    "\n",
    "        # 그래프 생성\n",
    "        graph = nx.Graph()\n",
    "\n",
    "        # 단어 노드 추가\n",
    "        for word, count in word_counts.items():\n",
    "            if count > 1:  # 최소 출현 빈도 조건\n",
    "                graph.add_node(word, count=count)\n",
    "\n",
    "        # 단어의 연결을 위한 윈도우 크기 설정\n",
    "        window_size = 4\n",
    "\n",
    "        # 윈도우 안에서 단어 간의 연결 설정\n",
    "        for i in range(len(words) - window_size + 1):\n",
    "            window_words = words[i:i + window_size]\n",
    "            for w1, w2 in combinations(window_words, 2):\n",
    "                if graph.has_node(w1) and graph.has_node(w2):\n",
    "                    if graph.has_edge(w1, w2):\n",
    "                        graph[w1][w2]['weight'] += 1\n",
    "                    else:\n",
    "                        graph.add_edge(w1, w2, weight=1)\n",
    "\n",
    "        # PageRank 계산\n",
    "        rank = nx.pagerank(graph, weight='weight')\n",
    "\n",
    "        # 상위 num_keywords개의 키워드 추출\n",
    "        top_keywords = sorted(rank.items(), key=lambda x: x[1], reverse=True)[:num_keywords]\n",
    "\n",
    "        return top_keywords\n",
    "\n",
    "        #return [keyword for keyword, _ in top_keywords]\n",
    "\n",
    "    chunk['keywords'] = chunk['text'].apply(extract_keywords_textrank)\n",
    "\n",
    "    return chunk"
   ]
  },
  {
   "cell_type": "code",
   "execution_count": 9,
   "id": "8cc7f436",
   "metadata": {},
   "outputs": [],
   "source": [
    "# 데이터 프레임을 청크로 나누는 함수\n",
    "def split_dataframe(df, chunk_size):\n",
    "    chunks = [df[i:i + chunk_size] for i in range(0, df.shape[0], chunk_size)]\n",
    "    \n",
    "    return chunks"
   ]
  },
  {
   "cell_type": "code",
   "execution_count": 10,
   "id": "5f78f3f7",
   "metadata": {},
   "outputs": [],
   "source": [
    "directory_path = '/home/osung/data/korean/modu/json'\n",
    "df = pd.read_csv(directory_path+'/combined_news.tsv', sep='\\t')"
   ]
  },
  {
   "cell_type": "code",
   "execution_count": 29,
   "id": "4e92285c",
   "metadata": {},
   "outputs": [
    {
     "data": {
      "text/plain": [
       "3611424"
      ]
     },
     "execution_count": 29,
     "metadata": {},
     "output_type": "execute_result"
    }
   ],
   "source": [
    "len(df)"
   ]
  },
  {
   "cell_type": "code",
   "execution_count": 30,
   "id": "8bb18dc9",
   "metadata": {},
   "outputs": [
    {
     "data": {
      "text/plain": [
       "1805712.0"
      ]
     },
     "execution_count": 30,
     "metadata": {},
     "output_type": "execute_result"
    }
   ],
   "source": [
    "len(df) / 2"
   ]
  },
  {
   "cell_type": "code",
   "execution_count": 31,
   "id": "b6080f04",
   "metadata": {},
   "outputs": [],
   "source": [
    "length = int(len(df) / 2)"
   ]
  },
  {
   "cell_type": "code",
   "execution_count": 32,
   "id": "d37260e5",
   "metadata": {},
   "outputs": [
    {
     "data": {
      "text/plain": [
       "1805712"
      ]
     },
     "execution_count": 32,
     "metadata": {},
     "output_type": "execute_result"
    }
   ],
   "source": [
    "length"
   ]
  },
  {
   "cell_type": "code",
   "execution_count": 33,
   "id": "9b6ed5b3",
   "metadata": {},
   "outputs": [
    {
     "data": {
      "text/plain": [
       "112857.0"
      ]
     },
     "execution_count": 33,
     "metadata": {},
     "output_type": "execute_result"
    }
   ],
   "source": [
    "length / 16"
   ]
  },
  {
   "cell_type": "code",
   "execution_count": 34,
   "id": "c5c0cb42",
   "metadata": {},
   "outputs": [
    {
     "data": {
      "text/plain": [
       "1805712"
      ]
     },
     "execution_count": 34,
     "metadata": {},
     "output_type": "execute_result"
    }
   ],
   "source": [
    "len(df[:length])"
   ]
  },
  {
   "cell_type": "code",
   "execution_count": 37,
   "id": "1a6d84c7",
   "metadata": {},
   "outputs": [],
   "source": [
    "chunk_size = int(length/16)\n",
    "chunks = split_dataframe(df[:length], chunk_size)"
   ]
  },
  {
   "cell_type": "code",
   "execution_count": 38,
   "id": "ff6da54a",
   "metadata": {},
   "outputs": [
    {
     "data": {
      "text/plain": [
       "112857"
      ]
     },
     "execution_count": 38,
     "metadata": {},
     "output_type": "execute_result"
    }
   ],
   "source": [
    "len(chunks[0])"
   ]
  },
  {
   "cell_type": "code",
   "execution_count": null,
   "id": "9c3eac3a",
   "metadata": {},
   "outputs": [],
   "source": [
    "# Ray를 사용하여 병렬 처리\n",
    "futures = [process_chunk.remote(chunk) for chunk in chunks]\n",
    "\n",
    "\n",
    "# tqdm을 사용하여 진행 상황 표시\n",
    "results = []\n",
    "for future in tqdm(ray.get(futures), total=len(futures), desc=\"Processing\"):\n",
    "    results.append(future)\n",
    "\n",
    "#result_chunks = ray.get(futures)"
   ]
  },
  {
   "cell_type": "code",
   "execution_count": 164,
   "id": "24bd86f5",
   "metadata": {},
   "outputs": [
    {
     "name": "stdout",
     "output_type": "stream",
     "text": [
      "                   id topic  \\\n",
      "0    NIRW1900000001.1    사회   \n",
      "1    NIRW1900000001.4    사회   \n",
      "2    NIRW1900000001.5    사회   \n",
      "3    NIRW1900000001.6    사회   \n",
      "4    NIRW1900000001.7    사회   \n",
      "5    NIRW1900000001.8    사회   \n",
      "6    NIRW1900000001.9    사회   \n",
      "7   NIRW1900000001.11    사회   \n",
      "8   NIRW1900000001.12    사회   \n",
      "9   NIRW1900000001.17    기술   \n",
      "10  NIRW1900000001.23    사회   \n",
      "11  NIRW1900000001.25    사회   \n",
      "12  NIRW1900000001.27    경제   \n",
      "13  NIRW1900000001.31    경제   \n",
      "14  NIRW1900000001.32    사회   \n",
      "15  NIRW1900000001.34    사회   \n",
      "16  NIRW1900000001.36    사회   \n",
      "17  NIRW1900000001.37    정치   \n",
      "18  NIRW1900000001.39    사회   \n",
      "19  NIRW1900000001.40    사회   \n",
      "20  NIRW1900000001.41    사회   \n",
      "21  NIRW1900000001.43    사회   \n",
      "22  NIRW1900000001.44    사회   \n",
      "23  NIRW1900000001.47    사회   \n",
      "24  NIRW1900000001.49    사회   \n",
      "\n",
      "                                                 text  \\\n",
      "0   \"대통령, 시장 방문만 하지 말고 실천해달라\" 2008년의 마지막 새벽, 언론의 카...   \n",
      "1   진성호 의원, 겨우 이 정도였나 오늘(31일) 한나라당 의원 총회에서 조선일보 출신...   \n",
      "2   \"소의 해, 정치인들 싸움 좀 그만하시죠\" 지난해 12월 31일 대구국채보상기념운동...   \n",
      "3   'MB악법 저지' 촛불 들고 새해 맞은 대전시민들 촛불의 물결이 전국을 뒤 덮었던 ...   \n",
      "4   산(酸) 몰아내니 누이 좋고 매부 좋고 겨울철 우리의 입맛을 돋우는 먹을거리 가운데...   \n",
      "5   \"방송장악은 군사독재로 회귀하는 것\" 한나라당이 추진 중인 언론법과 관련해 언론노조...   \n",
      "6   '만수'의 해에 국민들은 '명박'했다소의 해에는 뚜벅뚜벅 우보로 가자 지나간 한 해...   \n",
      "7   지리산 '2MB OUT 소망 띄우기', 경찰 저지로 무산 지리산 삼신봉에서 새해 첫...   \n",
      "8   박희태 \"신라시대 만파식적은 어디 있는가?\" 청와대의 바람과 달리 소위 'MB법안'...   \n",
      "9   모두에게 '윈-윈 게임'이 되는 세상, 아름다운 동행 21세기는 IQ(지능지수, I...   \n",
      "10  \"지금 네 울음이 나중에 웃음이 될 수도 있어!\" 지난 수요일(12월 31일), 올...   \n",
      "11  금속노조 \"태성공업 사측이 노조 탈퇴 여론 조성\" 현대자동차의 협력업체인 울산 소재...   \n",
      "12  미 '미디어 공룡' 위기는 '언론악법'의 미래 서브프라임 모기지 사태로 촉발된 미국...   \n",
      "13  한국석유공사 2012년까지 울산으로 이전 경기 안양시 평촌 도심 한복판에 자리한 한...   \n",
      "14  영도형 제발 무사하길... 지금 100미터 높이 굴뚝에 올라가 농성 중인 영도형. ...   \n",
      "15  3월 개청하는 안양 법원과 검찰청을 찾다 수원지방법원 안양지원과 수원지방검찰청 안양...   \n",
      "16  \"법정관리 터널 벗어나 세계적인 기업으로\" 2009년의 태양이 떠올랐다. 새해를 맞...   \n",
      "17  이명박 대통령, '비상경제정부' 선언 이명박 대통령이 '비상경제정부'를 선언하고 나...   \n",
      "18  \"화면의 사실이 현장의 진실과 달라\"신경민 앵커, KBS 보신각방송 비판 MBC 뉴...   \n",
      "19  불안은 복학생을 잠식한다 2009년 새해가 밝았다. 작년 2008년은 나에게 큰 의...   \n",
      "20  흑인이란 이유로 '우리 집' 떠날 순 없어 \"얘야, 검은 얼룩이란 정부가 새롭게 백...   \n",
      "21  연기대상이 파업과 무슨 상관이지? \"MBC 연기대상도 장삿속, 무슨 자격으로 파업하...   \n",
      "22  \"정몽준 의원님, 밥은 들여보내야죠\" \"정몽준 의원은 대법원 판결에 따라 용인기업 ...   \n",
      "23  \"타종 왜곡방송? 우리가 방해받았다 시위 하려면 다른 데 가서 해야지...\" 지난 ...   \n",
      "24  \"〈대전일보〉, 언론노조 파업에 비수 꽂아\" 이명박 정부와 한나라당이 추진하고 있는...   \n",
      "\n",
      "                                             keywords  \n",
      "0   [(가락시장, 0.03646997254429091), (사람, 0.034547643...  \n",
      "1   [(의원, 0.13532769889385685), (최소한, 0.0648119231...  \n",
      "2   [(시민, 0.06610684621307666), (경제, 0.06255996402...  \n",
      "3   [(시민, 0.08943956506815211), (대전, 0.05810459118...  \n",
      "4   [(어민, 0.07520460843832412), (생산, 0.05677875118...  \n",
      "5   [(언론, 0.07052251496233784), (대구, 0.05593596010...  \n",
      "6   [(서울, 0.06028149517063397), (시골, 0.05165174321...  \n",
      "7   [(국립공원, 0.085410966299339), (사무소, 0.0814812171...  \n",
      "8   [(대표, 0.08654400270585133), (우리, 0.07221243989...  \n",
      "9   [(지수, 0.11923547124662498), (사회, 0.07665135440...  \n",
      "10  [(달란트, 0.0660851476817143), (학교, 0.05766087213...  \n",
      "11  [(노조, 0.0633462014030113), (금속노조, 0.0584747015...  \n",
      "12  [(트리뷴, 0.03635316358521362), (컴퍼니, 0.032831046...  \n",
      "13  [(이전, 0.07030968861215912), (계획, 0.05249881267...  \n",
      "14  [(얼마나, 0.06939079032855365), (중공업, 0.056392964...  \n",
      "15  [(안양, 0.08179741717202056), (지원, 0.03595655457...  \n",
      "16  [(기업, 0.08243991409376332), (사장, 0.04409176981...  \n",
      "17  [(대통령, 0.07537373490202866), (정부, 0.0201312418...  \n",
      "18  [(시위, 0.08108348792544405), (시민, 0.05008571976...  \n",
      "19  [(복학생, 0.07458765743348614), (복학, 0.0327403775...  \n",
      "20  [(우리, 0.0688436395192009), (흑인, 0.042012489231...  \n",
      "21  [(조선일보, 0.07591909358515175), (연기대상, 0.0588548...  \n",
      "22  [(조선, 0.05594354439686826), (대미, 0.05512328639...  \n",
      "23  [(시위, 0.06027577441768517), (행사, 0.05867923940...  \n",
      "24  [(지역, 0.060141124125182716), (대전, 0.0531999036...  \n"
     ]
    }
   ],
   "source": [
    "print(result_chunks[0])"
   ]
  },
  {
   "cell_type": "code",
   "execution_count": 172,
   "id": "9e71f963",
   "metadata": {},
   "outputs": [],
   "source": [
    "ray.shutdown()"
   ]
  },
  {
   "cell_type": "code",
   "execution_count": 20,
   "id": "c0dc5a4a",
   "metadata": {},
   "outputs": [
    {
     "data": {
      "text/plain": [
       "4"
      ]
     },
     "execution_count": 20,
     "metadata": {},
     "output_type": "execute_result"
    }
   ],
   "source": [
    "len(result_chunks)"
   ]
  },
  {
   "cell_type": "code",
   "execution_count": 20,
   "id": "d9bf71d3",
   "metadata": {},
   "outputs": [
    {
     "data": {
      "text/plain": [
       "902856.0"
      ]
     },
     "execution_count": 20,
     "metadata": {},
     "output_type": "execute_result"
    }
   ],
   "source": [
    "len(df)/ 4"
   ]
  },
  {
   "cell_type": "code",
   "execution_count": 13,
   "id": "f906efb2",
   "metadata": {},
   "outputs": [],
   "source": [
    "df2 = df.drop(columns=['topic'])"
   ]
  },
  {
   "cell_type": "code",
   "execution_count": 14,
   "id": "7810ddd5",
   "metadata": {},
   "outputs": [
    {
     "data": {
      "text/plain": [
       "Index(['id', 'text'], dtype='object')"
      ]
     },
     "execution_count": 14,
     "metadata": {},
     "output_type": "execute_result"
    }
   ],
   "source": [
    "df2.columns"
   ]
  },
  {
   "cell_type": "code",
   "execution_count": 22,
   "id": "54a7acf1",
   "metadata": {},
   "outputs": [
    {
     "name": "stdout",
     "output_type": "stream",
     "text": [
      "250\n",
      "250\n",
      "250\n",
      "250\n"
     ]
    }
   ],
   "source": [
    "# 데이터 병렬 처리\n",
    "num_cores = 4 #mp.cpu_count()\n",
    "df_with_keywords = parallelize_dataframe(df[:1000], test, num_cores=num_cores)"
   ]
  },
  {
   "cell_type": "code",
   "execution_count": 50,
   "id": "c281f263",
   "metadata": {},
   "outputs": [
    {
     "name": "stdout",
     "output_type": "stream",
     "text": [
      "CPU times: user 50 s, sys: 391 ms, total: 50.4 s\n",
      "Wall time: 49.5 s\n"
     ]
    }
   ],
   "source": [
    "%%time \n",
    "\n",
    "keys = extract_keywords_df(df[:100])"
   ]
  },
  {
   "cell_type": "code",
   "execution_count": 51,
   "id": "11f289e9",
   "metadata": {},
   "outputs": [
    {
     "ename": "KeyboardInterrupt",
     "evalue": "",
     "output_type": "error",
     "traceback": [
      "\u001b[0;31m---------------------------------------------------------------------------\u001b[0m",
      "\u001b[0;31mKeyboardInterrupt\u001b[0m                         Traceback (most recent call last)",
      "\u001b[0;32m/tmp/ipykernel_6752/2572713984.py\u001b[0m in \u001b[0;36m<module>\u001b[0;34m\u001b[0m\n\u001b[1;32m      1\u001b[0m \u001b[0;31m# 데이터 병렬 처리\u001b[0m\u001b[0;34m\u001b[0m\u001b[0;34m\u001b[0m\u001b[0m\n\u001b[1;32m      2\u001b[0m \u001b[0mnum_cores\u001b[0m \u001b[0;34m=\u001b[0m \u001b[0;36m2\u001b[0m \u001b[0;31m#mp.cpu_count()\u001b[0m\u001b[0;34m\u001b[0m\u001b[0;34m\u001b[0m\u001b[0m\n\u001b[0;32m----> 3\u001b[0;31m \u001b[0mkeys2\u001b[0m \u001b[0;34m=\u001b[0m \u001b[0mparallelize_dataframe\u001b[0m\u001b[0;34m(\u001b[0m\u001b[0mdf\u001b[0m\u001b[0;34m[\u001b[0m\u001b[0;34m:\u001b[0m\u001b[0;36m100\u001b[0m\u001b[0;34m]\u001b[0m\u001b[0;34m,\u001b[0m \u001b[0mextract_keywords_df\u001b[0m\u001b[0;34m,\u001b[0m \u001b[0mnum_cores\u001b[0m\u001b[0;34m=\u001b[0m\u001b[0mnum_cores\u001b[0m\u001b[0;34m)\u001b[0m\u001b[0;34m\u001b[0m\u001b[0;34m\u001b[0m\u001b[0m\n\u001b[0m",
      "\u001b[0;32m/tmp/ipykernel_6752/141941609.py\u001b[0m in \u001b[0;36mparallelize_dataframe\u001b[0;34m(df, func, num_cores)\u001b[0m\n\u001b[1;32m      3\u001b[0m     \u001b[0mdf_split\u001b[0m \u001b[0;34m=\u001b[0m \u001b[0mchunk_dataframe\u001b[0m\u001b[0;34m(\u001b[0m\u001b[0mdf\u001b[0m\u001b[0;34m,\u001b[0m \u001b[0mchunk_size\u001b[0m\u001b[0;34m=\u001b[0m\u001b[0mint\u001b[0m\u001b[0;34m(\u001b[0m\u001b[0mdf\u001b[0m\u001b[0;34m.\u001b[0m\u001b[0mshape\u001b[0m\u001b[0;34m[\u001b[0m\u001b[0;36m0\u001b[0m\u001b[0;34m]\u001b[0m \u001b[0;34m/\u001b[0m \u001b[0mnum_cores\u001b[0m\u001b[0;34m)\u001b[0m\u001b[0;34m)\u001b[0m\u001b[0;34m\u001b[0m\u001b[0;34m\u001b[0m\u001b[0m\n\u001b[1;32m      4\u001b[0m     \u001b[0mpool\u001b[0m \u001b[0;34m=\u001b[0m \u001b[0mmp\u001b[0m\u001b[0;34m.\u001b[0m\u001b[0mPool\u001b[0m\u001b[0;34m(\u001b[0m\u001b[0mnum_cores\u001b[0m\u001b[0;34m)\u001b[0m\u001b[0;34m\u001b[0m\u001b[0;34m\u001b[0m\u001b[0m\n\u001b[0;32m----> 5\u001b[0;31m     \u001b[0mdf\u001b[0m \u001b[0;34m=\u001b[0m \u001b[0mpd\u001b[0m\u001b[0;34m.\u001b[0m\u001b[0mconcat\u001b[0m\u001b[0;34m(\u001b[0m\u001b[0mpool\u001b[0m\u001b[0;34m.\u001b[0m\u001b[0mmap\u001b[0m\u001b[0;34m(\u001b[0m\u001b[0mfunc\u001b[0m\u001b[0;34m,\u001b[0m \u001b[0mdf_split\u001b[0m\u001b[0;34m)\u001b[0m\u001b[0;34m)\u001b[0m\u001b[0;34m\u001b[0m\u001b[0;34m\u001b[0m\u001b[0m\n\u001b[0m\u001b[1;32m      6\u001b[0m     \u001b[0mpool\u001b[0m\u001b[0;34m.\u001b[0m\u001b[0mclose\u001b[0m\u001b[0;34m(\u001b[0m\u001b[0;34m)\u001b[0m\u001b[0;34m\u001b[0m\u001b[0;34m\u001b[0m\u001b[0m\n\u001b[1;32m      7\u001b[0m     \u001b[0mpool\u001b[0m\u001b[0;34m.\u001b[0m\u001b[0mjoin\u001b[0m\u001b[0;34m(\u001b[0m\u001b[0;34m)\u001b[0m\u001b[0;34m\u001b[0m\u001b[0;34m\u001b[0m\u001b[0m\n",
      "\u001b[0;32m~/anaconda3/lib/python3.9/multiprocessing/pool.py\u001b[0m in \u001b[0;36mmap\u001b[0;34m(self, func, iterable, chunksize)\u001b[0m\n\u001b[1;32m    362\u001b[0m         \u001b[0;32min\u001b[0m \u001b[0ma\u001b[0m \u001b[0mlist\u001b[0m \u001b[0mthat\u001b[0m \u001b[0;32mis\u001b[0m \u001b[0mreturned\u001b[0m\u001b[0;34m.\u001b[0m\u001b[0;34m\u001b[0m\u001b[0;34m\u001b[0m\u001b[0m\n\u001b[1;32m    363\u001b[0m         '''\n\u001b[0;32m--> 364\u001b[0;31m         \u001b[0;32mreturn\u001b[0m \u001b[0mself\u001b[0m\u001b[0;34m.\u001b[0m\u001b[0m_map_async\u001b[0m\u001b[0;34m(\u001b[0m\u001b[0mfunc\u001b[0m\u001b[0;34m,\u001b[0m \u001b[0miterable\u001b[0m\u001b[0;34m,\u001b[0m \u001b[0mmapstar\u001b[0m\u001b[0;34m,\u001b[0m \u001b[0mchunksize\u001b[0m\u001b[0;34m)\u001b[0m\u001b[0;34m.\u001b[0m\u001b[0mget\u001b[0m\u001b[0;34m(\u001b[0m\u001b[0;34m)\u001b[0m\u001b[0;34m\u001b[0m\u001b[0;34m\u001b[0m\u001b[0m\n\u001b[0m\u001b[1;32m    365\u001b[0m \u001b[0;34m\u001b[0m\u001b[0m\n\u001b[1;32m    366\u001b[0m     \u001b[0;32mdef\u001b[0m \u001b[0mstarmap\u001b[0m\u001b[0;34m(\u001b[0m\u001b[0mself\u001b[0m\u001b[0;34m,\u001b[0m \u001b[0mfunc\u001b[0m\u001b[0;34m,\u001b[0m \u001b[0miterable\u001b[0m\u001b[0;34m,\u001b[0m \u001b[0mchunksize\u001b[0m\u001b[0;34m=\u001b[0m\u001b[0;32mNone\u001b[0m\u001b[0;34m)\u001b[0m\u001b[0;34m:\u001b[0m\u001b[0;34m\u001b[0m\u001b[0;34m\u001b[0m\u001b[0m\n",
      "\u001b[0;32m~/anaconda3/lib/python3.9/multiprocessing/pool.py\u001b[0m in \u001b[0;36mget\u001b[0;34m(self, timeout)\u001b[0m\n\u001b[1;32m    763\u001b[0m \u001b[0;34m\u001b[0m\u001b[0m\n\u001b[1;32m    764\u001b[0m     \u001b[0;32mdef\u001b[0m \u001b[0mget\u001b[0m\u001b[0;34m(\u001b[0m\u001b[0mself\u001b[0m\u001b[0;34m,\u001b[0m \u001b[0mtimeout\u001b[0m\u001b[0;34m=\u001b[0m\u001b[0;32mNone\u001b[0m\u001b[0;34m)\u001b[0m\u001b[0;34m:\u001b[0m\u001b[0;34m\u001b[0m\u001b[0;34m\u001b[0m\u001b[0m\n\u001b[0;32m--> 765\u001b[0;31m         \u001b[0mself\u001b[0m\u001b[0;34m.\u001b[0m\u001b[0mwait\u001b[0m\u001b[0;34m(\u001b[0m\u001b[0mtimeout\u001b[0m\u001b[0;34m)\u001b[0m\u001b[0;34m\u001b[0m\u001b[0;34m\u001b[0m\u001b[0m\n\u001b[0m\u001b[1;32m    766\u001b[0m         \u001b[0;32mif\u001b[0m \u001b[0;32mnot\u001b[0m \u001b[0mself\u001b[0m\u001b[0;34m.\u001b[0m\u001b[0mready\u001b[0m\u001b[0;34m(\u001b[0m\u001b[0;34m)\u001b[0m\u001b[0;34m:\u001b[0m\u001b[0;34m\u001b[0m\u001b[0;34m\u001b[0m\u001b[0m\n\u001b[1;32m    767\u001b[0m             \u001b[0;32mraise\u001b[0m \u001b[0mTimeoutError\u001b[0m\u001b[0;34m\u001b[0m\u001b[0;34m\u001b[0m\u001b[0m\n",
      "\u001b[0;32m~/anaconda3/lib/python3.9/multiprocessing/pool.py\u001b[0m in \u001b[0;36mwait\u001b[0;34m(self, timeout)\u001b[0m\n\u001b[1;32m    760\u001b[0m \u001b[0;34m\u001b[0m\u001b[0m\n\u001b[1;32m    761\u001b[0m     \u001b[0;32mdef\u001b[0m \u001b[0mwait\u001b[0m\u001b[0;34m(\u001b[0m\u001b[0mself\u001b[0m\u001b[0;34m,\u001b[0m \u001b[0mtimeout\u001b[0m\u001b[0;34m=\u001b[0m\u001b[0;32mNone\u001b[0m\u001b[0;34m)\u001b[0m\u001b[0;34m:\u001b[0m\u001b[0;34m\u001b[0m\u001b[0;34m\u001b[0m\u001b[0m\n\u001b[0;32m--> 762\u001b[0;31m         \u001b[0mself\u001b[0m\u001b[0;34m.\u001b[0m\u001b[0m_event\u001b[0m\u001b[0;34m.\u001b[0m\u001b[0mwait\u001b[0m\u001b[0;34m(\u001b[0m\u001b[0mtimeout\u001b[0m\u001b[0;34m)\u001b[0m\u001b[0;34m\u001b[0m\u001b[0;34m\u001b[0m\u001b[0m\n\u001b[0m\u001b[1;32m    763\u001b[0m \u001b[0;34m\u001b[0m\u001b[0m\n\u001b[1;32m    764\u001b[0m     \u001b[0;32mdef\u001b[0m \u001b[0mget\u001b[0m\u001b[0;34m(\u001b[0m\u001b[0mself\u001b[0m\u001b[0;34m,\u001b[0m \u001b[0mtimeout\u001b[0m\u001b[0;34m=\u001b[0m\u001b[0;32mNone\u001b[0m\u001b[0;34m)\u001b[0m\u001b[0;34m:\u001b[0m\u001b[0;34m\u001b[0m\u001b[0;34m\u001b[0m\u001b[0m\n",
      "\u001b[0;32m~/anaconda3/lib/python3.9/threading.py\u001b[0m in \u001b[0;36mwait\u001b[0;34m(self, timeout)\u001b[0m\n\u001b[1;32m    579\u001b[0m             \u001b[0msignaled\u001b[0m \u001b[0;34m=\u001b[0m \u001b[0mself\u001b[0m\u001b[0;34m.\u001b[0m\u001b[0m_flag\u001b[0m\u001b[0;34m\u001b[0m\u001b[0;34m\u001b[0m\u001b[0m\n\u001b[1;32m    580\u001b[0m             \u001b[0;32mif\u001b[0m \u001b[0;32mnot\u001b[0m \u001b[0msignaled\u001b[0m\u001b[0;34m:\u001b[0m\u001b[0;34m\u001b[0m\u001b[0;34m\u001b[0m\u001b[0m\n\u001b[0;32m--> 581\u001b[0;31m                 \u001b[0msignaled\u001b[0m \u001b[0;34m=\u001b[0m \u001b[0mself\u001b[0m\u001b[0;34m.\u001b[0m\u001b[0m_cond\u001b[0m\u001b[0;34m.\u001b[0m\u001b[0mwait\u001b[0m\u001b[0;34m(\u001b[0m\u001b[0mtimeout\u001b[0m\u001b[0;34m)\u001b[0m\u001b[0;34m\u001b[0m\u001b[0;34m\u001b[0m\u001b[0m\n\u001b[0m\u001b[1;32m    582\u001b[0m             \u001b[0;32mreturn\u001b[0m \u001b[0msignaled\u001b[0m\u001b[0;34m\u001b[0m\u001b[0;34m\u001b[0m\u001b[0m\n\u001b[1;32m    583\u001b[0m \u001b[0;34m\u001b[0m\u001b[0m\n",
      "\u001b[0;32m~/anaconda3/lib/python3.9/threading.py\u001b[0m in \u001b[0;36mwait\u001b[0;34m(self, timeout)\u001b[0m\n\u001b[1;32m    310\u001b[0m         \u001b[0;32mtry\u001b[0m\u001b[0;34m:\u001b[0m    \u001b[0;31m# restore state no matter what (e.g., KeyboardInterrupt)\u001b[0m\u001b[0;34m\u001b[0m\u001b[0;34m\u001b[0m\u001b[0m\n\u001b[1;32m    311\u001b[0m             \u001b[0;32mif\u001b[0m \u001b[0mtimeout\u001b[0m \u001b[0;32mis\u001b[0m \u001b[0;32mNone\u001b[0m\u001b[0;34m:\u001b[0m\u001b[0;34m\u001b[0m\u001b[0;34m\u001b[0m\u001b[0m\n\u001b[0;32m--> 312\u001b[0;31m                 \u001b[0mwaiter\u001b[0m\u001b[0;34m.\u001b[0m\u001b[0macquire\u001b[0m\u001b[0;34m(\u001b[0m\u001b[0;34m)\u001b[0m\u001b[0;34m\u001b[0m\u001b[0;34m\u001b[0m\u001b[0m\n\u001b[0m\u001b[1;32m    313\u001b[0m                 \u001b[0mgotit\u001b[0m \u001b[0;34m=\u001b[0m \u001b[0;32mTrue\u001b[0m\u001b[0;34m\u001b[0m\u001b[0;34m\u001b[0m\u001b[0m\n\u001b[1;32m    314\u001b[0m             \u001b[0;32melse\u001b[0m\u001b[0;34m:\u001b[0m\u001b[0;34m\u001b[0m\u001b[0;34m\u001b[0m\u001b[0m\n",
      "\u001b[0;31mKeyboardInterrupt\u001b[0m: "
     ]
    }
   ],
   "source": [
    "# 데이터 병렬 처리\n",
    "num_cores = 2 #mp.cpu_count()\n",
    "keys2 = parallelize_dataframe(df[:100], extract_keywords_df, num_cores=num_cores)"
   ]
  },
  {
   "cell_type": "code",
   "execution_count": 35,
   "id": "5941d9b6",
   "metadata": {},
   "outputs": [
    {
     "data": {
      "text/html": [
       "<div>\n",
       "<style scoped>\n",
       "    .dataframe tbody tr th:only-of-type {\n",
       "        vertical-align: middle;\n",
       "    }\n",
       "\n",
       "    .dataframe tbody tr th {\n",
       "        vertical-align: top;\n",
       "    }\n",
       "\n",
       "    .dataframe thead th {\n",
       "        text-align: right;\n",
       "    }\n",
       "</style>\n",
       "<table border=\"1\" class=\"dataframe\">\n",
       "  <thead>\n",
       "    <tr style=\"text-align: right;\">\n",
       "      <th></th>\n",
       "      <th>Word</th>\n",
       "      <th>TF-IDF Score</th>\n",
       "    </tr>\n",
       "  </thead>\n",
       "  <tbody>\n",
       "    <tr>\n",
       "      <th>93</th>\n",
       "      <td>사람</td>\n",
       "      <td>0.305852</td>\n",
       "    </tr>\n",
       "    <tr>\n",
       "      <th>4</th>\n",
       "      <td>가락시장</td>\n",
       "      <td>0.244682</td>\n",
       "    </tr>\n",
       "    <tr>\n",
       "      <th>99</th>\n",
       "      <td>새벽</td>\n",
       "      <td>0.214096</td>\n",
       "    </tr>\n",
       "    <tr>\n",
       "      <th>5</th>\n",
       "      <td>가명</td>\n",
       "      <td>0.214096</td>\n",
       "    </tr>\n",
       "    <tr>\n",
       "      <th>121</th>\n",
       "      <td>시장</td>\n",
       "      <td>0.214096</td>\n",
       "    </tr>\n",
       "    <tr>\n",
       "      <th>116</th>\n",
       "      <td>수산시장</td>\n",
       "      <td>0.183511</td>\n",
       "    </tr>\n",
       "    <tr>\n",
       "      <th>82</th>\n",
       "      <td>배추</td>\n",
       "      <td>0.183511</td>\n",
       "    </tr>\n",
       "    <tr>\n",
       "      <th>115</th>\n",
       "      <td>수산물</td>\n",
       "      <td>0.152926</td>\n",
       "    </tr>\n",
       "    <tr>\n",
       "      <th>102</th>\n",
       "      <td>생선</td>\n",
       "      <td>0.152926</td>\n",
       "    </tr>\n",
       "    <tr>\n",
       "      <th>97</th>\n",
       "      <td>상인</td>\n",
       "      <td>0.152926</td>\n",
       "    </tr>\n",
       "    <tr>\n",
       "      <th>14</th>\n",
       "      <td>경제</td>\n",
       "      <td>0.152926</td>\n",
       "    </tr>\n",
       "    <tr>\n",
       "      <th>104</th>\n",
       "      <td>서민</td>\n",
       "      <td>0.152926</td>\n",
       "    </tr>\n",
       "    <tr>\n",
       "      <th>218</th>\n",
       "      <td>하루</td>\n",
       "      <td>0.152926</td>\n",
       "    </tr>\n",
       "    <tr>\n",
       "      <th>13</th>\n",
       "      <td>경매</td>\n",
       "      <td>0.122341</td>\n",
       "    </tr>\n",
       "    <tr>\n",
       "      <th>167</th>\n",
       "      <td>작년</td>\n",
       "      <td>0.122341</td>\n",
       "    </tr>\n",
       "    <tr>\n",
       "      <th>199</th>\n",
       "      <td>채소</td>\n",
       "      <td>0.122341</td>\n",
       "    </tr>\n",
       "    <tr>\n",
       "      <th>209</th>\n",
       "      <td>택시</td>\n",
       "      <td>0.122341</td>\n",
       "    </tr>\n",
       "    <tr>\n",
       "      <th>45</th>\n",
       "      <td>도매</td>\n",
       "      <td>0.122341</td>\n",
       "    </tr>\n",
       "    <tr>\n",
       "      <th>81</th>\n",
       "      <td>방어</td>\n",
       "      <td>0.091756</td>\n",
       "    </tr>\n",
       "    <tr>\n",
       "      <th>55</th>\n",
       "      <td>마지막</td>\n",
       "      <td>0.091756</td>\n",
       "    </tr>\n",
       "  </tbody>\n",
       "</table>\n",
       "</div>"
      ],
      "text/plain": [
       "     Word  TF-IDF Score\n",
       "93     사람      0.305852\n",
       "4    가락시장      0.244682\n",
       "99     새벽      0.214096\n",
       "5      가명      0.214096\n",
       "121    시장      0.214096\n",
       "116  수산시장      0.183511\n",
       "82     배추      0.183511\n",
       "115   수산물      0.152926\n",
       "102    생선      0.152926\n",
       "97     상인      0.152926\n",
       "14     경제      0.152926\n",
       "104    서민      0.152926\n",
       "218    하루      0.152926\n",
       "13     경매      0.122341\n",
       "167    작년      0.122341\n",
       "199    채소      0.122341\n",
       "209    택시      0.122341\n",
       "45     도매      0.122341\n",
       "81     방어      0.091756\n",
       "55    마지막      0.091756"
      ]
     },
     "execution_count": 35,
     "metadata": {},
     "output_type": "execute_result"
    }
   ],
   "source": [
    "df3.keywords[0]"
   ]
  },
  {
   "cell_type": "code",
   "execution_count": 20,
   "id": "61fb5863",
   "metadata": {},
   "outputs": [
    {
     "name": "stdout",
     "output_type": "stream",
     "text": [
      "                 id topic                                               text  \\\n",
      "0  NIRW1900000001.1    사회  \"대통령, 시장 방문만 하지 말고 실천해달라\" 2008년의 마지막 새벽, 언론의 카...   \n",
      "1  NIRW1900000001.4    사회  진성호 의원, 겨우 이 정도였나 오늘(31일) 한나라당 의원 총회에서 조선일보 출신...   \n",
      "2  NIRW1900000001.5    사회  \"소의 해, 정치인들 싸움 좀 그만하시죠\" 지난해 12월 31일 대구국채보상기념운동...   \n",
      "3  NIRW1900000001.6    사회  'MB악법 저지' 촛불 들고 새해 맞은 대전시민들 촛불의 물결이 전국을 뒤 덮었던 ...   \n",
      "4  NIRW1900000001.7    사회  산(酸) 몰아내니 누이 좋고 매부 좋고 겨울철 우리의 입맛을 돋우는 먹을거리 가운데...   \n",
      "\n",
      "                  keywords  \n",
      "0  [것은, 대통령은, 말했다, 있는, 있다]  \n",
      "1  [것은, 대통령은, 말했다, 있는, 있다]  \n",
      "2  [것은, 대통령은, 말했다, 있는, 있다]  \n",
      "3  [것은, 대통령은, 말했다, 있는, 있다]  \n",
      "4  [것은, 대통령은, 말했다, 있는, 있다]  \n"
     ]
    }
   ],
   "source": [
    "print(df_with_keywords.head())"
   ]
  },
  {
   "cell_type": "code",
   "execution_count": 11,
   "id": "e3669183",
   "metadata": {},
   "outputs": [
    {
     "data": {
      "text/html": [
       "<div>\n",
       "<style scoped>\n",
       "    .dataframe tbody tr th:only-of-type {\n",
       "        vertical-align: middle;\n",
       "    }\n",
       "\n",
       "    .dataframe tbody tr th {\n",
       "        vertical-align: top;\n",
       "    }\n",
       "\n",
       "    .dataframe thead th {\n",
       "        text-align: right;\n",
       "    }\n",
       "</style>\n",
       "<table border=\"1\" class=\"dataframe\">\n",
       "  <thead>\n",
       "    <tr style=\"text-align: right;\">\n",
       "      <th></th>\n",
       "      <th>id</th>\n",
       "      <th>text</th>\n",
       "    </tr>\n",
       "  </thead>\n",
       "  <tbody>\n",
       "    <tr>\n",
       "      <th>0</th>\n",
       "      <td>1</td>\n",
       "      <td>This is a test sentence number 1</td>\n",
       "    </tr>\n",
       "    <tr>\n",
       "      <th>1</th>\n",
       "      <td>2</td>\n",
       "      <td>This is a test sentence number 2</td>\n",
       "    </tr>\n",
       "    <tr>\n",
       "      <th>2</th>\n",
       "      <td>3</td>\n",
       "      <td>This is a test sentence number 3</td>\n",
       "    </tr>\n",
       "    <tr>\n",
       "      <th>3</th>\n",
       "      <td>4</td>\n",
       "      <td>This is a test sentence number 4</td>\n",
       "    </tr>\n",
       "    <tr>\n",
       "      <th>4</th>\n",
       "      <td>5</td>\n",
       "      <td>This is a test sentence number 5</td>\n",
       "    </tr>\n",
       "    <tr>\n",
       "      <th>5</th>\n",
       "      <td>6</td>\n",
       "      <td>This is a test sentence number 6</td>\n",
       "    </tr>\n",
       "    <tr>\n",
       "      <th>6</th>\n",
       "      <td>7</td>\n",
       "      <td>This is a test sentence number 7</td>\n",
       "    </tr>\n",
       "    <tr>\n",
       "      <th>7</th>\n",
       "      <td>8</td>\n",
       "      <td>This is a test sentence number 8</td>\n",
       "    </tr>\n",
       "    <tr>\n",
       "      <th>8</th>\n",
       "      <td>9</td>\n",
       "      <td>This is a test sentence number 9</td>\n",
       "    </tr>\n",
       "    <tr>\n",
       "      <th>9</th>\n",
       "      <td>10</td>\n",
       "      <td>This is a test sentence number 10</td>\n",
       "    </tr>\n",
       "  </tbody>\n",
       "</table>\n",
       "</div>"
      ],
      "text/plain": [
       "   id                               text\n",
       "0   1   This is a test sentence number 1\n",
       "1   2   This is a test sentence number 2\n",
       "2   3   This is a test sentence number 3\n",
       "3   4   This is a test sentence number 4\n",
       "4   5   This is a test sentence number 5\n",
       "5   6   This is a test sentence number 6\n",
       "6   7   This is a test sentence number 7\n",
       "7   8   This is a test sentence number 8\n",
       "8   9   This is a test sentence number 9\n",
       "9  10  This is a test sentence number 10"
      ]
     },
     "execution_count": 11,
     "metadata": {},
     "output_type": "execute_result"
    }
   ],
   "source": [
    "df[:10]"
   ]
  },
  {
   "cell_type": "code",
   "execution_count": 26,
   "id": "34f26b26",
   "metadata": {},
   "outputs": [
    {
     "name": "stdout",
     "output_type": "stream",
     "text": [
      "\u001b[33m(raylet)\u001b[0m A worker died or was killed while executing a task by an unexpected system error. To troubleshoot the problem, check the logs for the dead worker. RayTask ID: d764e70c0fb13e468307b277d9635acfa1e7eb6101000000 Worker ID: 3952da5b80deaaae97f62968d66174dda8643eda193deda265cefc9f Node ID: 2aec5a255ab54b6fe54a76ab62d86869d83abfc198f5fcbad9261074 Worker IP address: 203.250.229.132 Worker port: 34865 Worker PID: 8938 Worker exit type: SYSTEM_ERROR Worker exit detail: Worker unexpectedly exits with a connection error code 2. End of file. There are some potential root causes. (1) The process is killed by SIGKILL by OOM killer due to high memory usage. (2) ray stop --force is called. (3) The worker is crashed unexpectedly due to SIGSEGV or other unexpected errors.\u001b[32m [repeated 2x across cluster]\u001b[0m\n"
     ]
    }
   ],
   "source": [
    "ray.shutdown()"
   ]
  },
  {
   "cell_type": "code",
   "execution_count": null,
   "id": "35e14fc8",
   "metadata": {},
   "outputs": [],
   "source": []
  }
 ],
 "metadata": {
  "kernelspec": {
   "display_name": "Python 3 (ipykernel)",
   "language": "python",
   "name": "python3"
  },
  "language_info": {
   "codemirror_mode": {
    "name": "ipython",
    "version": 3
   },
   "file_extension": ".py",
   "mimetype": "text/x-python",
   "name": "python",
   "nbconvert_exporter": "python",
   "pygments_lexer": "ipython3",
   "version": "3.9.19"
  }
 },
 "nbformat": 4,
 "nbformat_minor": 5
}
