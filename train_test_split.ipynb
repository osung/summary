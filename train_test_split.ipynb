{
 "cells": [
  {
   "cell_type": "code",
   "execution_count": 1,
   "id": "9f556260",
   "metadata": {},
   "outputs": [],
   "source": [
    "import pandas as pd"
   ]
  },
  {
   "cell_type": "code",
   "execution_count": 2,
   "id": "d72a2ff4",
   "metadata": {},
   "outputs": [],
   "source": [
    "from sklearn.model_selection import train_test_split"
   ]
  },
  {
   "cell_type": "code",
   "execution_count": 15,
   "id": "7fcde737",
   "metadata": {},
   "outputs": [],
   "source": [
    "df = pd.read_csv('/home/osung/data/korean/commercial/csv/ad_total_clean.tsv', sep='\\t')"
   ]
  },
  {
   "cell_type": "code",
   "execution_count": 18,
   "id": "397cd383",
   "metadata": {},
   "outputs": [],
   "source": [
    "df2 = pd.read_csv('/home/osung/data/korean/commercial/csv/ad_total.tsv', sep='\\t')"
   ]
  },
  {
   "cell_type": "code",
   "execution_count": 19,
   "id": "b69303f2",
   "metadata": {},
   "outputs": [
    {
     "data": {
      "text/plain": [
       "17738"
      ]
     },
     "execution_count": 19,
     "metadata": {},
     "output_type": "execute_result"
    }
   ],
   "source": [
    "len(df)"
   ]
  },
  {
   "cell_type": "code",
   "execution_count": 20,
   "id": "8cb685a4",
   "metadata": {},
   "outputs": [
    {
     "data": {
      "text/plain": [
       "17320"
      ]
     },
     "execution_count": 20,
     "metadata": {},
     "output_type": "execute_result"
    }
   ],
   "source": [
    "len(df2)"
   ]
  },
  {
   "cell_type": "code",
   "execution_count": 28,
   "id": "d75b132b",
   "metadata": {},
   "outputs": [
    {
     "data": {
      "text/plain": [
       "numpy.bool_"
      ]
     },
     "execution_count": 28,
     "metadata": {},
     "output_type": "execute_result"
    }
   ],
   "source": [
    "type(df2.iloc[0].ad)"
   ]
  },
  {
   "cell_type": "code",
   "execution_count": 21,
   "id": "f127a3a0",
   "metadata": {},
   "outputs": [
    {
     "data": {
      "text/html": [
       "<div>\n",
       "<style scoped>\n",
       "    .dataframe tbody tr th:only-of-type {\n",
       "        vertical-align: middle;\n",
       "    }\n",
       "\n",
       "    .dataframe tbody tr th {\n",
       "        vertical-align: top;\n",
       "    }\n",
       "\n",
       "    .dataframe thead th {\n",
       "        text-align: right;\n",
       "    }\n",
       "</style>\n",
       "<table border=\"1\" class=\"dataframe\">\n",
       "  <thead>\n",
       "    <tr style=\"text-align: right;\">\n",
       "      <th></th>\n",
       "      <th>text</th>\n",
       "      <th>ad</th>\n",
       "    </tr>\n",
       "  </thead>\n",
       "  <tbody>\n",
       "    <tr>\n",
       "      <th>0</th>\n",
       "      <td>컴투스가 글로벌 콘텐츠 발굴을 위한 스토리 공모전 컴투스 글로벌 게임 문학상 201...</td>\n",
       "      <td>True</td>\n",
       "    </tr>\n",
       "    <tr>\n",
       "      <th>1</th>\n",
       "      <td>엔트리브소프트대표 서관희는 조이시티가 개발한 온라인 농구게임 프리스타일에서 한국과 ...</td>\n",
       "      <td>True</td>\n",
       "    </tr>\n",
       "    <tr>\n",
       "      <th>2</th>\n",
       "      <td>엔씨소프트가 문화 축제 피버 페스티벌FEVER FESTIVAL 2018을 내달 14...</td>\n",
       "      <td>True</td>\n",
       "    </tr>\n",
       "    <tr>\n",
       "      <th>3</th>\n",
       "      <td>스마일게이트 희망스튜디오이사장 권혁빈는 지난 26일 스마일게이트 본사에서 스마일게이...</td>\n",
       "      <td>True</td>\n",
       "    </tr>\n",
       "    <tr>\n",
       "      <th>4</th>\n",
       "      <td>중소 모바일게임사들의 개발 및 창작 활동을 지원하기 위한 모바일게임 스타 어워즈가 ...</td>\n",
       "      <td>True</td>\n",
       "    </tr>\n",
       "    <tr>\n",
       "      <th>...</th>\n",
       "      <td>...</td>\n",
       "      <td>...</td>\n",
       "    </tr>\n",
       "    <tr>\n",
       "      <th>17733</th>\n",
       "      <td>KB증권 은행보험 등 계열사와 손잡고 우수고객에 토털 자산관리 상담  선도 증권사가...</td>\n",
       "      <td>True</td>\n",
       "    </tr>\n",
       "    <tr>\n",
       "      <th>17734</th>\n",
       "      <td>신한금융투자 중위험 중수익 따박따박 연중이벤트 실시 신한금융투자는 박스권 장세에 적...</td>\n",
       "      <td>True</td>\n",
       "    </tr>\n",
       "    <tr>\n",
       "      <th>17735</th>\n",
       "      <td>저금리 시대의 투자대안 KDB대우 배당성장지수 랩 저성장저금리 지속과 인구 고령화 ...</td>\n",
       "      <td>True</td>\n",
       "    </tr>\n",
       "    <tr>\n",
       "      <th>17736</th>\n",
       "      <td>BNP파리바 카디프생명 프리미엄자산관리 변액보험 출시 BNP파리바 카디프생명은 씨티...</td>\n",
       "      <td>True</td>\n",
       "    </tr>\n",
       "    <tr>\n",
       "      <th>17737</th>\n",
       "      <td>신한명품 분할매수형 ETF랩 30 모집  신한금융투자는 농산물 지수에 투자하는 신한...</td>\n",
       "      <td>True</td>\n",
       "    </tr>\n",
       "  </tbody>\n",
       "</table>\n",
       "<p>17738 rows × 2 columns</p>\n",
       "</div>"
      ],
      "text/plain": [
       "                                                    text    ad\n",
       "0      컴투스가 글로벌 콘텐츠 발굴을 위한 스토리 공모전 컴투스 글로벌 게임 문학상 201...  True\n",
       "1      엔트리브소프트대표 서관희는 조이시티가 개발한 온라인 농구게임 프리스타일에서 한국과 ...  True\n",
       "2      엔씨소프트가 문화 축제 피버 페스티벌FEVER FESTIVAL 2018을 내달 14...  True\n",
       "3      스마일게이트 희망스튜디오이사장 권혁빈는 지난 26일 스마일게이트 본사에서 스마일게이...  True\n",
       "4      중소 모바일게임사들의 개발 및 창작 활동을 지원하기 위한 모바일게임 스타 어워즈가 ...  True\n",
       "...                                                  ...   ...\n",
       "17733  KB증권 은행보험 등 계열사와 손잡고 우수고객에 토털 자산관리 상담  선도 증권사가...  True\n",
       "17734  신한금융투자 중위험 중수익 따박따박 연중이벤트 실시 신한금융투자는 박스권 장세에 적...  True\n",
       "17735  저금리 시대의 투자대안 KDB대우 배당성장지수 랩 저성장저금리 지속과 인구 고령화 ...  True\n",
       "17736  BNP파리바 카디프생명 프리미엄자산관리 변액보험 출시 BNP파리바 카디프생명은 씨티...  True\n",
       "17737  신한명품 분할매수형 ETF랩 30 모집  신한금융투자는 농산물 지수에 투자하는 신한...  True\n",
       "\n",
       "[17738 rows x 2 columns]"
      ]
     },
     "execution_count": 21,
     "metadata": {},
     "output_type": "execute_result"
    }
   ],
   "source": [
    "df"
   ]
  },
  {
   "cell_type": "code",
   "execution_count": 45,
   "id": "6d16644e",
   "metadata": {},
   "outputs": [
    {
     "name": "stderr",
     "output_type": "stream",
     "text": [
      "/tmp/ipykernel_1370948/2875908122.py:1: UserWarning: Boolean Series key will be reindexed to match DataFrame index.\n",
      "  df_nan = df[df['ad'] != True][df['ad'] != False]\n"
     ]
    }
   ],
   "source": [
    "df_nan = df[df['ad'] != True][df['ad'] != False]"
   ]
  },
  {
   "cell_type": "code",
   "execution_count": 47,
   "id": "d32ac0a4",
   "metadata": {},
   "outputs": [],
   "source": [
    "df_nan['length'] = df_nan['text'].apply(len)"
   ]
  },
  {
   "cell_type": "code",
   "execution_count": 52,
   "id": "727af6b3",
   "metadata": {},
   "outputs": [
    {
     "data": {
      "text/plain": [
       "'26일부터 2월1일까지 진행된다'"
      ]
     },
     "execution_count": 52,
     "metadata": {},
     "output_type": "execute_result"
    }
   ],
   "source": [
    "df_nan.loc[3327].text"
   ]
  },
  {
   "cell_type": "code",
   "execution_count": 36,
   "id": "2091aadd",
   "metadata": {},
   "outputs": [
    {
     "data": {
      "text/plain": [
       "nan"
      ]
     },
     "execution_count": 36,
     "metadata": {},
     "output_type": "execute_result"
    }
   ],
   "source": [
    "df.loc[385].ad"
   ]
  },
  {
   "cell_type": "code",
   "execution_count": 22,
   "id": "f0c50545",
   "metadata": {},
   "outputs": [
    {
     "data": {
      "text/html": [
       "<div>\n",
       "<style scoped>\n",
       "    .dataframe tbody tr th:only-of-type {\n",
       "        vertical-align: middle;\n",
       "    }\n",
       "\n",
       "    .dataframe tbody tr th {\n",
       "        vertical-align: top;\n",
       "    }\n",
       "\n",
       "    .dataframe thead th {\n",
       "        text-align: right;\n",
       "    }\n",
       "</style>\n",
       "<table border=\"1\" class=\"dataframe\">\n",
       "  <thead>\n",
       "    <tr style=\"text-align: right;\">\n",
       "      <th></th>\n",
       "      <th>text</th>\n",
       "      <th>ad</th>\n",
       "    </tr>\n",
       "  </thead>\n",
       "  <tbody>\n",
       "    <tr>\n",
       "      <th>0</th>\n",
       "      <td>컴투스가 글로벌 콘텐츠 발굴을 위한 스토리 공모전 '컴투스 글로벌 게임 문학상 20...</td>\n",
       "      <td>True</td>\n",
       "    </tr>\n",
       "    <tr>\n",
       "      <th>1</th>\n",
       "      <td>엔트리브소프트(대표 서관희)는 조이시티가 개발한 온라인 농구게임 '프리스타일'에서 ...</td>\n",
       "      <td>True</td>\n",
       "    </tr>\n",
       "    <tr>\n",
       "      <th>2</th>\n",
       "      <td>엔씨소프트가 문화 축제 '피버 페스티벌(FEVER FESTIVAL) 2018'을 내...</td>\n",
       "      <td>True</td>\n",
       "    </tr>\n",
       "    <tr>\n",
       "      <th>3</th>\n",
       "      <td>스마일게이트 희망스튜디오(이사장 권혁빈)는 지난 26일 스마일게이트 본사에서 스마일...</td>\n",
       "      <td>True</td>\n",
       "    </tr>\n",
       "    <tr>\n",
       "      <th>4</th>\n",
       "      <td>중소 모바일게임사들의 개발 및 창작 활동을 지원하기 위한 '모바일게임 스타 어워즈'...</td>\n",
       "      <td>True</td>\n",
       "    </tr>\n",
       "    <tr>\n",
       "      <th>...</th>\n",
       "      <td>...</td>\n",
       "      <td>...</td>\n",
       "    </tr>\n",
       "    <tr>\n",
       "      <th>17315</th>\n",
       "      <td>KB증권, 은행·보험 등 계열사와 손잡고 우수고객에 `토털 자산관리 상담` ◆ 선도...</td>\n",
       "      <td>True</td>\n",
       "    </tr>\n",
       "    <tr>\n",
       "      <th>17316</th>\n",
       "      <td>신한금융투자 '중위험 중수익, 따박따박' 연중이벤트 실시 신한금융투자는 박스권 장세...</td>\n",
       "      <td>True</td>\n",
       "    </tr>\n",
       "    <tr>\n",
       "      <th>17317</th>\n",
       "      <td>저금리 시대의 투자대안 'KDB대우 배당성장지수 랩' 저성장·저금리 지속과 인구 고...</td>\n",
       "      <td>True</td>\n",
       "    </tr>\n",
       "    <tr>\n",
       "      <th>17318</th>\n",
       "      <td>BNP파리바 카디프생명, '프리미엄자산관리 변액보험' 출시 BNP파리바 카디프생명은...</td>\n",
       "      <td>True</td>\n",
       "    </tr>\n",
       "    <tr>\n",
       "      <th>17319</th>\n",
       "      <td>‘신한명품 분할매수형 ETF랩 3.0’ 모집 外 신한금융투자는 농산물 지수에 투자하...</td>\n",
       "      <td>True</td>\n",
       "    </tr>\n",
       "  </tbody>\n",
       "</table>\n",
       "<p>17320 rows × 2 columns</p>\n",
       "</div>"
      ],
      "text/plain": [
       "                                                    text    ad\n",
       "0      컴투스가 글로벌 콘텐츠 발굴을 위한 스토리 공모전 '컴투스 글로벌 게임 문학상 20...  True\n",
       "1      엔트리브소프트(대표 서관희)는 조이시티가 개발한 온라인 농구게임 '프리스타일'에서 ...  True\n",
       "2      엔씨소프트가 문화 축제 '피버 페스티벌(FEVER FESTIVAL) 2018'을 내...  True\n",
       "3      스마일게이트 희망스튜디오(이사장 권혁빈)는 지난 26일 스마일게이트 본사에서 스마일...  True\n",
       "4      중소 모바일게임사들의 개발 및 창작 활동을 지원하기 위한 '모바일게임 스타 어워즈'...  True\n",
       "...                                                  ...   ...\n",
       "17315  KB증권, 은행·보험 등 계열사와 손잡고 우수고객에 `토털 자산관리 상담` ◆ 선도...  True\n",
       "17316  신한금융투자 '중위험 중수익, 따박따박' 연중이벤트 실시 신한금융투자는 박스권 장세...  True\n",
       "17317  저금리 시대의 투자대안 'KDB대우 배당성장지수 랩' 저성장·저금리 지속과 인구 고...  True\n",
       "17318  BNP파리바 카디프생명, '프리미엄자산관리 변액보험' 출시 BNP파리바 카디프생명은...  True\n",
       "17319  ‘신한명품 분할매수형 ETF랩 3.0’ 모집 外 신한금융투자는 농산물 지수에 투자하...  True\n",
       "\n",
       "[17320 rows x 2 columns]"
      ]
     },
     "execution_count": 22,
     "metadata": {},
     "output_type": "execute_result"
    }
   ],
   "source": [
    "df2"
   ]
  },
  {
   "cell_type": "code",
   "execution_count": 24,
   "id": "e156e612",
   "metadata": {},
   "outputs": [
    {
     "data": {
      "text/plain": [
       "count     17320\n",
       "unique        2\n",
       "top       False\n",
       "freq      10196\n",
       "Name: ad, dtype: object"
      ]
     },
     "execution_count": 24,
     "metadata": {},
     "output_type": "execute_result"
    }
   ],
   "source": [
    "df2.ad.describe()"
   ]
  },
  {
   "cell_type": "code",
   "execution_count": 6,
   "id": "dbdc21d3",
   "metadata": {},
   "outputs": [],
   "source": [
    "train_df, test_df = train_test_split(df, test_size=0.3, random_state=42)"
   ]
  },
  {
   "cell_type": "code",
   "execution_count": 7,
   "id": "3f85f61d",
   "metadata": {},
   "outputs": [
    {
     "name": "stdout",
     "output_type": "stream",
     "text": [
      "Train shape: (12124, 2)\n",
      "Test shape: (5196, 2)\n"
     ]
    }
   ],
   "source": [
    "print(f'Train shape: {train_df.shape}')\n",
    "print(f'Test shape: {test_df.shape}')"
   ]
  },
  {
   "cell_type": "code",
   "execution_count": 8,
   "id": "cf44341e",
   "metadata": {},
   "outputs": [],
   "source": [
    "train_df.to_csv('/home/osung/data/korean/commercial/csv/ad_train.tsv', sep='\\t', index=False)"
   ]
  },
  {
   "cell_type": "code",
   "execution_count": 9,
   "id": "8d36f47c",
   "metadata": {},
   "outputs": [],
   "source": [
    "test_df.to_csv('/home/osung/data/korean/commercial/csv/ad_test.tsv', sep='\\t', index=False)"
   ]
  },
  {
   "cell_type": "code",
   "execution_count": 56,
   "id": "b4068c43",
   "metadata": {},
   "outputs": [],
   "source": [
    "df2['length'] = df2['text'].apply(len)"
   ]
  },
  {
   "cell_type": "code",
   "execution_count": 54,
   "id": "c2331e21",
   "metadata": {},
   "outputs": [
    {
     "data": {
      "text/plain": [
       "count    17738.000000\n",
       "mean       913.237174\n",
       "std        470.559063\n",
       "min         13.000000\n",
       "25%        602.000000\n",
       "50%        812.000000\n",
       "75%       1112.000000\n",
       "max       4150.000000\n",
       "Name: length, dtype: float64"
      ]
     },
     "execution_count": 54,
     "metadata": {},
     "output_type": "execute_result"
    }
   ],
   "source": [
    "df['length'].describe()"
   ]
  },
  {
   "cell_type": "code",
   "execution_count": 57,
   "id": "c4ebb2b2",
   "metadata": {},
   "outputs": [
    {
     "data": {
      "text/plain": [
       "count    17320.000000\n",
       "mean       986.093533\n",
       "std        479.875599\n",
       "min        224.000000\n",
       "25%        651.000000\n",
       "50%        870.000000\n",
       "75%       1183.000000\n",
       "max       4319.000000\n",
       "Name: length, dtype: float64"
      ]
     },
     "execution_count": 57,
     "metadata": {},
     "output_type": "execute_result"
    }
   ],
   "source": [
    "df2['length'].describe()"
   ]
  },
  {
   "cell_type": "code",
   "execution_count": 65,
   "id": "34e424b3",
   "metadata": {},
   "outputs": [
    {
     "data": {
      "text/html": [
       "<div>\n",
       "<style scoped>\n",
       "    .dataframe tbody tr th:only-of-type {\n",
       "        vertical-align: middle;\n",
       "    }\n",
       "\n",
       "    .dataframe tbody tr th {\n",
       "        vertical-align: top;\n",
       "    }\n",
       "\n",
       "    .dataframe thead th {\n",
       "        text-align: right;\n",
       "    }\n",
       "</style>\n",
       "<table border=\"1\" class=\"dataframe\">\n",
       "  <thead>\n",
       "    <tr style=\"text-align: right;\">\n",
       "      <th></th>\n",
       "      <th>text</th>\n",
       "      <th>ad</th>\n",
       "      <th>length</th>\n",
       "    </tr>\n",
       "  </thead>\n",
       "  <tbody>\n",
       "    <tr>\n",
       "      <th>7054</th>\n",
       "      <td>신협사회공헌재단(이사장 문철상)은지난 22일 경북 포항시청을 방문하여 지진 피해 복...</td>\n",
       "      <td>False</td>\n",
       "      <td>866</td>\n",
       "    </tr>\n",
       "    <tr>\n",
       "      <th>7055</th>\n",
       "      <td>최근 미국이 기준금리를 0.25% 인상해 10년 만에 연 2%대 기준금리로 올라서면...</td>\n",
       "      <td>False</td>\n",
       "      <td>1576</td>\n",
       "    </tr>\n",
       "    <tr>\n",
       "      <th>7056</th>\n",
       "      <td>지난 1일을 시작으로 올해 최저임금이 8350원으로 올랐다.\\n지난해 최저임금(73...</td>\n",
       "      <td>False</td>\n",
       "      <td>2147</td>\n",
       "    </tr>\n",
       "    <tr>\n",
       "      <th>7057</th>\n",
       "      <td>30일 국회 과학기술정보방송통신위원회가 개최한 한상혁 방송통신위원회 위원장 후보자 ...</td>\n",
       "      <td>False</td>\n",
       "      <td>1714</td>\n",
       "    </tr>\n",
       "    <tr>\n",
       "      <th>7058</th>\n",
       "      <td>30일부터 기존 은행 앱에서 타 은행 계좌 송금 거래를 할 수 있는 '오픈뱅킹' 제...</td>\n",
       "      <td>False</td>\n",
       "      <td>2347</td>\n",
       "    </tr>\n",
       "    <tr>\n",
       "      <th>...</th>\n",
       "      <td>...</td>\n",
       "      <td>...</td>\n",
       "      <td>...</td>\n",
       "    </tr>\n",
       "    <tr>\n",
       "      <th>17245</th>\n",
       "      <td>코로나19 확진자가 확진 판정을 받기 전 KT광화문 지사를 방문한 것으로 조사돼 방...</td>\n",
       "      <td>False</td>\n",
       "      <td>815</td>\n",
       "    </tr>\n",
       "    <tr>\n",
       "      <th>17246</th>\n",
       "      <td>박재욱 VCNC 대표가 '타다 금지법'의 국회 법제사법위원회 통과와 관련 페이스북에...</td>\n",
       "      <td>False</td>\n",
       "      <td>723</td>\n",
       "    </tr>\n",
       "    <tr>\n",
       "      <th>17247</th>\n",
       "      <td>“드라이브 스루(Drive-Thru) 이동진료소, 자가진단 앱(애플리케이션) 등과 ...</td>\n",
       "      <td>False</td>\n",
       "      <td>860</td>\n",
       "    </tr>\n",
       "    <tr>\n",
       "      <th>17248</th>\n",
       "      <td>국내 연구진이 미세먼지에 포함된 유해물질 농도를 예측해 인체에 실제로 미치는 위험성...</td>\n",
       "      <td>False</td>\n",
       "      <td>931</td>\n",
       "    </tr>\n",
       "    <tr>\n",
       "      <th>17249</th>\n",
       "      <td>주주들이 PC나 모바일로 주주총회 현장을 실시간으로 시청하고 소통하는 '온라인 주총...</td>\n",
       "      <td>False</td>\n",
       "      <td>1235</td>\n",
       "    </tr>\n",
       "  </tbody>\n",
       "</table>\n",
       "<p>10196 rows × 3 columns</p>\n",
       "</div>"
      ],
      "text/plain": [
       "                                                    text     ad  length\n",
       "7054   신협사회공헌재단(이사장 문철상)은지난 22일 경북 포항시청을 방문하여 지진 피해 복...  False     866\n",
       "7055   최근 미국이 기준금리를 0.25% 인상해 10년 만에 연 2%대 기준금리로 올라서면...  False    1576\n",
       "7056   지난 1일을 시작으로 올해 최저임금이 8350원으로 올랐다.\\n지난해 최저임금(73...  False    2147\n",
       "7057   30일 국회 과학기술정보방송통신위원회가 개최한 한상혁 방송통신위원회 위원장 후보자 ...  False    1714\n",
       "7058   30일부터 기존 은행 앱에서 타 은행 계좌 송금 거래를 할 수 있는 '오픈뱅킹' 제...  False    2347\n",
       "...                                                  ...    ...     ...\n",
       "17245  코로나19 확진자가 확진 판정을 받기 전 KT광화문 지사를 방문한 것으로 조사돼 방...  False     815\n",
       "17246  박재욱 VCNC 대표가 '타다 금지법'의 국회 법제사법위원회 통과와 관련 페이스북에...  False     723\n",
       "17247  “드라이브 스루(Drive-Thru) 이동진료소, 자가진단 앱(애플리케이션) 등과 ...  False     860\n",
       "17248  국내 연구진이 미세먼지에 포함된 유해물질 농도를 예측해 인체에 실제로 미치는 위험성...  False     931\n",
       "17249  주주들이 PC나 모바일로 주주총회 현장을 실시간으로 시청하고 소통하는 '온라인 주총...  False    1235\n",
       "\n",
       "[10196 rows x 3 columns]"
      ]
     },
     "execution_count": 65,
     "metadata": {},
     "output_type": "execute_result"
    }
   ],
   "source": [
    "df2[df2['ad'] != True]"
   ]
  },
  {
   "cell_type": "code",
   "execution_count": 64,
   "id": "e7918a58",
   "metadata": {},
   "outputs": [
    {
     "data": {
      "text/plain": [
       "0        True\n",
       "1        True\n",
       "2        True\n",
       "3        True\n",
       "4        True\n",
       "         ... \n",
       "17315    True\n",
       "17316    True\n",
       "17317    True\n",
       "17318    True\n",
       "17319    True\n",
       "Name: ad, Length: 17320, dtype: bool"
      ]
     },
     "execution_count": 64,
     "metadata": {},
     "output_type": "execute_result"
    }
   ],
   "source": [
    "df2['ad'].dropna()"
   ]
  },
  {
   "cell_type": "code",
   "execution_count": null,
   "id": "1e6a3395",
   "metadata": {},
   "outputs": [],
   "source": []
  }
 ],
 "metadata": {
  "kernelspec": {
   "display_name": "Python 3 (ipykernel)",
   "language": "python",
   "name": "python3"
  },
  "language_info": {
   "codemirror_mode": {
    "name": "ipython",
    "version": 3
   },
   "file_extension": ".py",
   "mimetype": "text/x-python",
   "name": "python",
   "nbconvert_exporter": "python",
   "pygments_lexer": "ipython3",
   "version": "3.9.19"
  }
 },
 "nbformat": 4,
 "nbformat_minor": 5
}
