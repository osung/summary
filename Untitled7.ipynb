{
 "cells": [
  {
   "cell_type": "code",
   "execution_count": 2,
   "id": "fc1d2341",
   "metadata": {},
   "outputs": [],
   "source": [
    "import re\n",
    "from konlpy.tag import Okt\n",
    "import gensim\n",
    "from gensim import corpora"
   ]
  },
  {
   "cell_type": "code",
   "execution_count": 3,
   "id": "f147ce17",
   "metadata": {},
   "outputs": [],
   "source": [
    "# 데이터 준비\n",
    "documents = [\n",
    "    \"애플이 영국의 스타트업을 10억 달러에 인수하려고 한다.\",\n",
    "    \"자율주행차는 보험 책임을 제조업체로 전환한다.\",\n",
    "    \"샌프란시스코는 인도 배달 로봇을 금지하는 것을 고려하고 있다.\",\n",
    "    \"런던은 영국의 큰 도시이다.\",\n",
    "    \"나는 축구를 정말 좋아한다.\",\n",
    "    \"축구는 훌륭한 스포츠이다.\"\n",
    "]"
   ]
  },
  {
   "cell_type": "code",
   "execution_count": 4,
   "id": "a2da9113",
   "metadata": {},
   "outputs": [],
   "source": [
    "def preprocess(text):\n",
    "\n",
    "    # 텍스트 전처리 함수    \n",
    "    okt = Okt()\n",
    "\n",
    "    text = re.sub(r'\\s+', ' ', text)  # 공백 정리\n",
    "    text = re.sub(r'\\W', ' ', text)  # 특수 문자 제거\n",
    "    tokens = okt.nouns(text)  # 명사 추출\n",
    "    return tokens"
   ]
  },
  {
   "cell_type": "code",
   "execution_count": 5,
   "id": "666b3be9",
   "metadata": {},
   "outputs": [],
   "source": [
    "# 각 주제에서 상위 키워드 추출\n",
    "def extract_keywords(lda_model, num_keywords):\n",
    "    topics = lda_model.show_topics(num_topics=num_topics, num_words=num_keywords, formatted=False)\n",
    "    keywords = {i: [word for word, _ in topic] for i, topic in topics}\n",
    "    return keywords"
   ]
  },
  {
   "cell_type": "code",
   "execution_count": 9,
   "id": "ecf91b42",
   "metadata": {},
   "outputs": [
    {
     "name": "stdout",
     "output_type": "stream",
     "text": [
      "Topic: 0 \n",
      "Words: 0.060*\"축구\" + 0.060*\"영국\" + 0.040*\"인도\" + 0.040*\"나\" + 0.040*\"배달\" + 0.040*\"샌프란시스코\" + 0.040*\"금지\" + 0.040*\"도시\" + 0.040*\"것\" + 0.040*\"런던\"\n",
      "Topic 0: 영국, 축구, 배달, 인도, 나\n"
     ]
    }
   ],
   "source": [
    "# 전처리된 문서 리스트\n",
    "processed_docs = [preprocess(doc) for doc in documents]\n",
    "\n",
    "# 단어 사전 및 코퍼스 생성\n",
    "dictionary = corpora.Dictionary(processed_docs)\n",
    "corpus = [dictionary.doc2bow(doc) for doc in processed_docs]\n",
    "\n",
    "# LDA 모델 학습\n",
    "num_topics = 1  # 추출할 주제의 수\n",
    "lda_model = gensim.models.LdaModel(corpus, num_topics=num_topics, id2word=dictionary, passes=15)\n",
    "\n",
    "# 학습된 주제 출력\n",
    "for idx, topic in lda_model.print_topics(-1):\n",
    "    print(f'Topic: {idx} \\nWords: {topic}')\n",
    "\n",
    "num_keywords = 5  # 각 주제에서 추출할 키워드 수\n",
    "keywords = extract_keywords(lda_model, num_keywords)\n",
    "\n",
    "for topic, words in keywords.items():\n",
    "    print(f'Topic {topic}: {\", \".join(words)}')\n"
   ]
  },
  {
   "cell_type": "code",
   "execution_count": 8,
   "id": "c0d18bd5",
   "metadata": {},
   "outputs": [
    {
     "data": {
      "text/plain": [
       "[[(0, 1), (1, 1), (2, 1), (3, 1), (4, 1)],\n",
       " [(5, 1), (6, 1), (7, 1), (8, 1), (9, 1), (10, 1)],\n",
       " [(11, 1), (12, 1), (13, 1), (14, 1), (15, 1), (16, 1), (17, 1)],\n",
       " [(3, 1), (18, 1), (19, 1)],\n",
       " [(20, 1), (21, 1), (22, 1)],\n",
       " [(22, 1), (23, 1)]]"
      ]
     },
     "execution_count": 8,
     "metadata": {},
     "output_type": "execute_result"
    }
   ],
   "source": [
    "corpus"
   ]
  },
  {
   "cell_type": "code",
   "execution_count": null,
   "id": "10fecd48",
   "metadata": {},
   "outputs": [],
   "source": []
  }
 ],
 "metadata": {
  "kernelspec": {
   "display_name": "Python 3 (ipykernel)",
   "language": "python",
   "name": "python3"
  },
  "language_info": {
   "codemirror_mode": {
    "name": "ipython",
    "version": 3
   },
   "file_extension": ".py",
   "mimetype": "text/x-python",
   "name": "python",
   "nbconvert_exporter": "python",
   "pygments_lexer": "ipython3",
   "version": "3.9.19"
  }
 },
 "nbformat": 4,
 "nbformat_minor": 5
}
