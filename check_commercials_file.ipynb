{
 "cells": [
  {
   "cell_type": "code",
   "execution_count": 1,
   "id": "a56ddf3b",
   "metadata": {},
   "outputs": [],
   "source": [
    "import pandas as pd"
   ]
  },
  {
   "cell_type": "code",
   "execution_count": 2,
   "id": "938626d9",
   "metadata": {},
   "outputs": [],
   "source": [
    "def drop_row(df, index) :\n",
    "    return df.drop(index=index)"
   ]
  },
  {
   "cell_type": "code",
   "execution_count": 3,
   "id": "f089b7af",
   "metadata": {},
   "outputs": [],
   "source": [
    "def add_to_final(final_df, f_df, df):\n",
    "    final_df = final_df.append(f_df)\n",
    "    df = df.drop(index = f_df.index)\n",
    "    print('final:', len(final_df))\n",
    "    print('df:', len(df))\n",
    "    \n",
    "    return final_df, df"
   ]
  },
  {
   "cell_type": "code",
   "execution_count": 51,
   "id": "770d2202",
   "metadata": {},
   "outputs": [],
   "source": [
    "final_df = pd.read_csv('/home/osung/data/korean/commercial/csv/commercials_final.tsv', sep='\\t')"
   ]
  },
  {
   "cell_type": "code",
   "execution_count": 73,
   "id": "235bf2f2",
   "metadata": {},
   "outputs": [
    {
     "data": {
      "text/plain": [
       "(7054, 5)"
      ]
     },
     "execution_count": 73,
     "metadata": {},
     "output_type": "execute_result"
    }
   ],
   "source": [
    "final_df.shape"
   ]
  },
  {
   "cell_type": "code",
   "execution_count": 75,
   "id": "63f50001",
   "metadata": {},
   "outputs": [
    {
     "data": {
      "text/plain": [
       "0                       컴투스, '글로벌 게임 문학상 2018' 개최\n",
       "1                        엔트리브소프트 '프리스타일' 한중대항전 개최\n",
       "2                         엔씨 문화축제 '피버 페스티벌' 내달 개최\n",
       "3                    스마일게이트 희망스튜디오, SGM 6기 수료식 개최\n",
       "4               '모바일게임 스타 어워즈' 개최… 중소업체 '동반성장' 도모\n",
       "                          ...                    \n",
       "7049    경기 '지역화폐' 내년 3월 발행.. 소상공인 매출증대 등 지역경제 활성화\n",
       "7050                      2019광주세계수영선수권대회 기념주화 발행\n",
       "7051               '경기지역화폐', 31개 시·군에서 4월부터 본격 발행\n",
       "7052                   신한금융투자, 베트남 여신전문회사 김치본드 발행\n",
       "7053               LH, ESG채권 5000억 발행…\\\"임대주택 건설\\\"\n",
       "Name: title, Length: 7054, dtype: object"
      ]
     },
     "execution_count": 75,
     "metadata": {},
     "output_type": "execute_result"
    }
   ],
   "source": [
    "final_df.title"
   ]
  },
  {
   "cell_type": "code",
   "execution_count": 15,
   "id": "8f385586",
   "metadata": {},
   "outputs": [
    {
     "data": {
      "text/html": [
       "<div>\n",
       "<style scoped>\n",
       "    .dataframe tbody tr th:only-of-type {\n",
       "        vertical-align: middle;\n",
       "    }\n",
       "\n",
       "    .dataframe tbody tr th {\n",
       "        vertical-align: top;\n",
       "    }\n",
       "\n",
       "    .dataframe thead th {\n",
       "        text-align: right;\n",
       "    }\n",
       "</style>\n",
       "<table border=\"1\" class=\"dataframe\">\n",
       "  <thead>\n",
       "    <tr style=\"text-align: right;\">\n",
       "      <th></th>\n",
       "      <th>title</th>\n",
       "      <th>text</th>\n",
       "    </tr>\n",
       "  </thead>\n",
       "  <tbody>\n",
       "    <tr>\n",
       "      <th>0</th>\n",
       "      <td>컴투스, '글로벌 게임 문학상 2018' 개최</td>\n",
       "      <td>컴투스가 글로벌 콘텐츠 발굴을 위한 스토리 공모전 '컴투스 글로벌 게임 문학상 20...</td>\n",
       "    </tr>\n",
       "    <tr>\n",
       "      <th>1</th>\n",
       "      <td>엔트리브소프트 '프리스타일' 한중대항전 개최</td>\n",
       "      <td>엔트리브소프트(대표 서관희)는 조이시티가 개발한 온라인 농구게임 '프리스타일'에서 ...</td>\n",
       "    </tr>\n",
       "    <tr>\n",
       "      <th>2</th>\n",
       "      <td>엔씨 문화축제 '피버 페스티벌' 내달 개최</td>\n",
       "      <td>엔씨소프트가 문화 축제 '피버 페스티벌(FEVER FESTIVAL) 2018'을 내...</td>\n",
       "    </tr>\n",
       "    <tr>\n",
       "      <th>3</th>\n",
       "      <td>스마일게이트 희망스튜디오, SGM 6기 수료식 개최</td>\n",
       "      <td>스마일게이트 희망스튜디오(이사장 권혁빈)는 지난 26일 스마일게이트 본사에서 스마일...</td>\n",
       "    </tr>\n",
       "    <tr>\n",
       "      <th>4</th>\n",
       "      <td>'모바일게임 스타 어워즈' 개최… 중소업체 '동반성장' 도모</td>\n",
       "      <td>중소 모바일게임사들의 개발 및 창작 활동을 지원하기 위한 '모바일게임 스타 어워즈'...</td>\n",
       "    </tr>\n",
       "    <tr>\n",
       "      <th>...</th>\n",
       "      <td>...</td>\n",
       "      <td>...</td>\n",
       "    </tr>\n",
       "    <tr>\n",
       "      <th>7049</th>\n",
       "      <td>경기 '지역화폐' 내년 3월 발행.. 소상공인 매출증대 등 지역경제 활성화</td>\n",
       "      <td>경기도는 소상공인의 경영난 해소와 지역경제 활성화를 위해 광역자치단체 중 최초로 시...</td>\n",
       "    </tr>\n",
       "    <tr>\n",
       "      <th>7050</th>\n",
       "      <td>2019광주세계수영선수권대회 기념주화 발행</td>\n",
       "      <td>오는 7월 12일 개최되는 2019광주세계수영선수권대회를 널리 알리기 위한 기념주화...</td>\n",
       "    </tr>\n",
       "    <tr>\n",
       "      <th>7051</th>\n",
       "      <td>'경기지역화폐', 31개 시·군에서 4월부터 본격 발행</td>\n",
       "      <td>지역경제 활성화를 위해 경기도가 광역자치단체 최초로 도입한 '경기지역화폐'가 4월부...</td>\n",
       "    </tr>\n",
       "    <tr>\n",
       "      <th>7052</th>\n",
       "      <td>신한금융투자, 베트남 여신전문회사 김치본드 발행</td>\n",
       "      <td>신한금융투자는 국내 증권사 최초로 베트남 여신전문회사의 김치본드 발행을 단독으로 주...</td>\n",
       "    </tr>\n",
       "    <tr>\n",
       "      <th>7053</th>\n",
       "      <td>LH, ESG채권 5000억 발행…\\\"임대주택 건설\\\"</td>\n",
       "      <td>한국토지주택공사(LH)는 12일 5000억원 규모의 ESG(환경·사회·지배구조 개선...</td>\n",
       "    </tr>\n",
       "  </tbody>\n",
       "</table>\n",
       "<p>7054 rows × 2 columns</p>\n",
       "</div>"
      ],
      "text/plain": [
       "                                          title  \\\n",
       "0                     컴투스, '글로벌 게임 문학상 2018' 개최   \n",
       "1                      엔트리브소프트 '프리스타일' 한중대항전 개최   \n",
       "2                       엔씨 문화축제 '피버 페스티벌' 내달 개최   \n",
       "3                  스마일게이트 희망스튜디오, SGM 6기 수료식 개최   \n",
       "4             '모바일게임 스타 어워즈' 개최… 중소업체 '동반성장' 도모   \n",
       "...                                         ...   \n",
       "7049  경기 '지역화폐' 내년 3월 발행.. 소상공인 매출증대 등 지역경제 활성화   \n",
       "7050                    2019광주세계수영선수권대회 기념주화 발행   \n",
       "7051             '경기지역화폐', 31개 시·군에서 4월부터 본격 발행   \n",
       "7052                 신한금융투자, 베트남 여신전문회사 김치본드 발행   \n",
       "7053             LH, ESG채권 5000억 발행…\\\"임대주택 건설\\\"   \n",
       "\n",
       "                                                   text  \n",
       "0     컴투스가 글로벌 콘텐츠 발굴을 위한 스토리 공모전 '컴투스 글로벌 게임 문학상 20...  \n",
       "1     엔트리브소프트(대표 서관희)는 조이시티가 개발한 온라인 농구게임 '프리스타일'에서 ...  \n",
       "2     엔씨소프트가 문화 축제 '피버 페스티벌(FEVER FESTIVAL) 2018'을 내...  \n",
       "3     스마일게이트 희망스튜디오(이사장 권혁빈)는 지난 26일 스마일게이트 본사에서 스마일...  \n",
       "4     중소 모바일게임사들의 개발 및 창작 활동을 지원하기 위한 '모바일게임 스타 어워즈'...  \n",
       "...                                                 ...  \n",
       "7049  경기도는 소상공인의 경영난 해소와 지역경제 활성화를 위해 광역자치단체 중 최초로 시...  \n",
       "7050  오는 7월 12일 개최되는 2019광주세계수영선수권대회를 널리 알리기 위한 기념주화...  \n",
       "7051  지역경제 활성화를 위해 경기도가 광역자치단체 최초로 도입한 '경기지역화폐'가 4월부...  \n",
       "7052  신한금융투자는 국내 증권사 최초로 베트남 여신전문회사의 김치본드 발행을 단독으로 주...  \n",
       "7053  한국토지주택공사(LH)는 12일 5000억원 규모의 ESG(환경·사회·지배구조 개선...  \n",
       "\n",
       "[7054 rows x 2 columns]"
      ]
     },
     "execution_count": 15,
     "metadata": {},
     "output_type": "execute_result"
    }
   ],
   "source": [
    "final_df.drop(columns=['subtopic', 'topic', 'pattern'])"
   ]
  },
  {
   "cell_type": "code",
   "execution_count": 76,
   "id": "98e02297",
   "metadata": {},
   "outputs": [],
   "source": [
    "old_df = pd.read_csv('/home/osung/data/korean/commercial/csv/commercials_0806.tsv', sep='\\t')"
   ]
  },
  {
   "cell_type": "code",
   "execution_count": 85,
   "id": "89bad155",
   "metadata": {},
   "outputs": [],
   "source": [
    "old_df2 = pd.read_csv('/home/osung/data/korean/commercial/csv/commercials_0812.tsv', sep='\\t')"
   ]
  },
  {
   "cell_type": "code",
   "execution_count": 86,
   "id": "8de5adca",
   "metadata": {},
   "outputs": [],
   "source": [
    "old_df_f = old_df[~old_df['title'].isin(final_df['title'])]"
   ]
  },
  {
   "cell_type": "code",
   "execution_count": 87,
   "id": "ce00addc",
   "metadata": {},
   "outputs": [],
   "source": [
    "no_ad_c = old_df_f[~old_df_f['title'].isin(old_df2['title'])]"
   ]
  },
  {
   "cell_type": "code",
   "execution_count": 88,
   "id": "dc2ca7ff",
   "metadata": {},
   "outputs": [
    {
     "data": {
      "text/plain": [
       "10196"
      ]
     },
     "execution_count": 88,
     "metadata": {},
     "output_type": "execute_result"
    }
   ],
   "source": [
    "len(no_ad_c)"
   ]
  },
  {
   "cell_type": "code",
   "execution_count": 91,
   "id": "40c3e8bf",
   "metadata": {},
   "outputs": [],
   "source": [
    "no_ad_df = no_ad_c"
   ]
  },
  {
   "cell_type": "code",
   "execution_count": 92,
   "id": "81fbace4",
   "metadata": {},
   "outputs": [
    {
     "data": {
      "text/plain": [
       "10196"
      ]
     },
     "execution_count": 92,
     "metadata": {},
     "output_type": "execute_result"
    }
   ],
   "source": [
    "len(no_ad_df)"
   ]
  },
  {
   "cell_type": "code",
   "execution_count": 93,
   "id": "657befce",
   "metadata": {},
   "outputs": [],
   "source": [
    "ad_df = final_df.drop(columns=['subtopic', 'topic', 'pattern'])"
   ]
  },
  {
   "cell_type": "code",
   "execution_count": 97,
   "id": "3ce33bd3",
   "metadata": {},
   "outputs": [],
   "source": [
    "ad_df['ad'] = True"
   ]
  },
  {
   "cell_type": "code",
   "execution_count": 98,
   "id": "a9579df0",
   "metadata": {},
   "outputs": [
    {
     "data": {
      "text/html": [
       "<div>\n",
       "<style scoped>\n",
       "    .dataframe tbody tr th:only-of-type {\n",
       "        vertical-align: middle;\n",
       "    }\n",
       "\n",
       "    .dataframe tbody tr th {\n",
       "        vertical-align: top;\n",
       "    }\n",
       "\n",
       "    .dataframe thead th {\n",
       "        text-align: right;\n",
       "    }\n",
       "</style>\n",
       "<table border=\"1\" class=\"dataframe\">\n",
       "  <thead>\n",
       "    <tr style=\"text-align: right;\">\n",
       "      <th></th>\n",
       "      <th>title</th>\n",
       "      <th>text</th>\n",
       "      <th>ad</th>\n",
       "    </tr>\n",
       "  </thead>\n",
       "  <tbody>\n",
       "    <tr>\n",
       "      <th>0</th>\n",
       "      <td>컴투스, '글로벌 게임 문학상 2018' 개최</td>\n",
       "      <td>컴투스가 글로벌 콘텐츠 발굴을 위한 스토리 공모전 '컴투스 글로벌 게임 문학상 20...</td>\n",
       "      <td>True</td>\n",
       "    </tr>\n",
       "    <tr>\n",
       "      <th>1</th>\n",
       "      <td>엔트리브소프트 '프리스타일' 한중대항전 개최</td>\n",
       "      <td>엔트리브소프트(대표 서관희)는 조이시티가 개발한 온라인 농구게임 '프리스타일'에서 ...</td>\n",
       "      <td>True</td>\n",
       "    </tr>\n",
       "    <tr>\n",
       "      <th>2</th>\n",
       "      <td>엔씨 문화축제 '피버 페스티벌' 내달 개최</td>\n",
       "      <td>엔씨소프트가 문화 축제 '피버 페스티벌(FEVER FESTIVAL) 2018'을 내...</td>\n",
       "      <td>True</td>\n",
       "    </tr>\n",
       "    <tr>\n",
       "      <th>3</th>\n",
       "      <td>스마일게이트 희망스튜디오, SGM 6기 수료식 개최</td>\n",
       "      <td>스마일게이트 희망스튜디오(이사장 권혁빈)는 지난 26일 스마일게이트 본사에서 스마일...</td>\n",
       "      <td>True</td>\n",
       "    </tr>\n",
       "    <tr>\n",
       "      <th>4</th>\n",
       "      <td>'모바일게임 스타 어워즈' 개최… 중소업체 '동반성장' 도모</td>\n",
       "      <td>중소 모바일게임사들의 개발 및 창작 활동을 지원하기 위한 '모바일게임 스타 어워즈'...</td>\n",
       "      <td>True</td>\n",
       "    </tr>\n",
       "    <tr>\n",
       "      <th>...</th>\n",
       "      <td>...</td>\n",
       "      <td>...</td>\n",
       "      <td>...</td>\n",
       "    </tr>\n",
       "    <tr>\n",
       "      <th>7049</th>\n",
       "      <td>경기 '지역화폐' 내년 3월 발행.. 소상공인 매출증대 등 지역경제 활성화</td>\n",
       "      <td>경기도는 소상공인의 경영난 해소와 지역경제 활성화를 위해 광역자치단체 중 최초로 시...</td>\n",
       "      <td>True</td>\n",
       "    </tr>\n",
       "    <tr>\n",
       "      <th>7050</th>\n",
       "      <td>2019광주세계수영선수권대회 기념주화 발행</td>\n",
       "      <td>오는 7월 12일 개최되는 2019광주세계수영선수권대회를 널리 알리기 위한 기념주화...</td>\n",
       "      <td>True</td>\n",
       "    </tr>\n",
       "    <tr>\n",
       "      <th>7051</th>\n",
       "      <td>'경기지역화폐', 31개 시·군에서 4월부터 본격 발행</td>\n",
       "      <td>지역경제 활성화를 위해 경기도가 광역자치단체 최초로 도입한 '경기지역화폐'가 4월부...</td>\n",
       "      <td>True</td>\n",
       "    </tr>\n",
       "    <tr>\n",
       "      <th>7052</th>\n",
       "      <td>신한금융투자, 베트남 여신전문회사 김치본드 발행</td>\n",
       "      <td>신한금융투자는 국내 증권사 최초로 베트남 여신전문회사의 김치본드 발행을 단독으로 주...</td>\n",
       "      <td>True</td>\n",
       "    </tr>\n",
       "    <tr>\n",
       "      <th>7053</th>\n",
       "      <td>LH, ESG채권 5000억 발행…\\\"임대주택 건설\\\"</td>\n",
       "      <td>한국토지주택공사(LH)는 12일 5000억원 규모의 ESG(환경·사회·지배구조 개선...</td>\n",
       "      <td>True</td>\n",
       "    </tr>\n",
       "  </tbody>\n",
       "</table>\n",
       "<p>7054 rows × 3 columns</p>\n",
       "</div>"
      ],
      "text/plain": [
       "                                          title  \\\n",
       "0                     컴투스, '글로벌 게임 문학상 2018' 개최   \n",
       "1                      엔트리브소프트 '프리스타일' 한중대항전 개최   \n",
       "2                       엔씨 문화축제 '피버 페스티벌' 내달 개최   \n",
       "3                  스마일게이트 희망스튜디오, SGM 6기 수료식 개최   \n",
       "4             '모바일게임 스타 어워즈' 개최… 중소업체 '동반성장' 도모   \n",
       "...                                         ...   \n",
       "7049  경기 '지역화폐' 내년 3월 발행.. 소상공인 매출증대 등 지역경제 활성화   \n",
       "7050                    2019광주세계수영선수권대회 기념주화 발행   \n",
       "7051             '경기지역화폐', 31개 시·군에서 4월부터 본격 발행   \n",
       "7052                 신한금융투자, 베트남 여신전문회사 김치본드 발행   \n",
       "7053             LH, ESG채권 5000억 발행…\\\"임대주택 건설\\\"   \n",
       "\n",
       "                                                   text    ad  \n",
       "0     컴투스가 글로벌 콘텐츠 발굴을 위한 스토리 공모전 '컴투스 글로벌 게임 문학상 20...  True  \n",
       "1     엔트리브소프트(대표 서관희)는 조이시티가 개발한 온라인 농구게임 '프리스타일'에서 ...  True  \n",
       "2     엔씨소프트가 문화 축제 '피버 페스티벌(FEVER FESTIVAL) 2018'을 내...  True  \n",
       "3     스마일게이트 희망스튜디오(이사장 권혁빈)는 지난 26일 스마일게이트 본사에서 스마일...  True  \n",
       "4     중소 모바일게임사들의 개발 및 창작 활동을 지원하기 위한 '모바일게임 스타 어워즈'...  True  \n",
       "...                                                 ...   ...  \n",
       "7049  경기도는 소상공인의 경영난 해소와 지역경제 활성화를 위해 광역자치단체 중 최초로 시...  True  \n",
       "7050  오는 7월 12일 개최되는 2019광주세계수영선수권대회를 널리 알리기 위한 기념주화...  True  \n",
       "7051  지역경제 활성화를 위해 경기도가 광역자치단체 최초로 도입한 '경기지역화폐'가 4월부...  True  \n",
       "7052  신한금융투자는 국내 증권사 최초로 베트남 여신전문회사의 김치본드 발행을 단독으로 주...  True  \n",
       "7053  한국토지주택공사(LH)는 12일 5000억원 규모의 ESG(환경·사회·지배구조 개선...  True  \n",
       "\n",
       "[7054 rows x 3 columns]"
      ]
     },
     "execution_count": 98,
     "metadata": {},
     "output_type": "execute_result"
    }
   ],
   "source": [
    "ad_df"
   ]
  },
  {
   "cell_type": "code",
   "execution_count": 95,
   "id": "e4767624",
   "metadata": {},
   "outputs": [],
   "source": [
    "no_ad_df = no_ad_c.drop(columns=['subtopic', 'topic', 'pattern'])"
   ]
  },
  {
   "cell_type": "code",
   "execution_count": 99,
   "id": "4111ce2d",
   "metadata": {},
   "outputs": [],
   "source": [
    "no_ad_df['ad'] = False"
   ]
  },
  {
   "cell_type": "code",
   "execution_count": 100,
   "id": "6fb3e0bf",
   "metadata": {},
   "outputs": [
    {
     "data": {
      "text/html": [
       "<div>\n",
       "<style scoped>\n",
       "    .dataframe tbody tr th:only-of-type {\n",
       "        vertical-align: middle;\n",
       "    }\n",
       "\n",
       "    .dataframe tbody tr th {\n",
       "        vertical-align: top;\n",
       "    }\n",
       "\n",
       "    .dataframe thead th {\n",
       "        text-align: right;\n",
       "    }\n",
       "</style>\n",
       "<table border=\"1\" class=\"dataframe\">\n",
       "  <thead>\n",
       "    <tr style=\"text-align: right;\">\n",
       "      <th></th>\n",
       "      <th>title</th>\n",
       "      <th>text</th>\n",
       "      <th>ad</th>\n",
       "    </tr>\n",
       "  </thead>\n",
       "  <tbody>\n",
       "    <tr>\n",
       "      <th>0</th>\n",
       "      <td>신협, 포항 지진피해 성금 5,000만 원 및 구호물품 1,500만 원 지원</td>\n",
       "      <td>신협사회공헌재단(이사장 문철상)은지난 22일 경북 포항시청을 방문하여 지진 피해 복...</td>\n",
       "      <td>False</td>\n",
       "    </tr>\n",
       "    <tr>\n",
       "      <th>3</th>\n",
       "      <td>금감원, 금리인상 여파에 가계대출 관리 나서</td>\n",
       "      <td>최근 미국이 기준금리를 0.25% 인상해 10년 만에 연 2%대 기준금리로 올라서면...</td>\n",
       "      <td>False</td>\n",
       "    </tr>\n",
       "    <tr>\n",
       "      <th>6</th>\n",
       "      <td>노동부 \\\"최저임금 유예·철회 없을 것\\\", 경영계 \\\"규모·업종별 구분해야\\\"</td>\n",
       "      <td>지난 1일을 시작으로 올해 최저임금이 8350원으로 올랐다.\\n지난해 최저임금(73...</td>\n",
       "      <td>False</td>\n",
       "    </tr>\n",
       "    <tr>\n",
       "      <th>11</th>\n",
       "      <td>[종합] 한상혁 방통위 후보자 공격하는 野, 수비하는 與</td>\n",
       "      <td>30일 국회 과학기술정보방송통신위원회가 개최한 한상혁 방송통신위원회 위원장 후보자 ...</td>\n",
       "      <td>False</td>\n",
       "    </tr>\n",
       "    <tr>\n",
       "      <th>13</th>\n",
       "      <td>'오픈뱅킹' 은행 무한경쟁 시대 개막...고객 쟁탈전 나선 은행들</td>\n",
       "      <td>30일부터 기존 은행 앱에서 타 은행 계좌 송금 거래를 할 수 있는 '오픈뱅킹' 제...</td>\n",
       "      <td>False</td>\n",
       "    </tr>\n",
       "    <tr>\n",
       "      <th>...</th>\n",
       "      <td>...</td>\n",
       "      <td>...</td>\n",
       "      <td>...</td>\n",
       "    </tr>\n",
       "    <tr>\n",
       "      <th>23870</th>\n",
       "      <td>경북 상주 확진자 5시간 머문 KT 광화문 사옥…방역 비상</td>\n",
       "      <td>코로나19 확진자가 확진 판정을 받기 전 KT광화문 지사를 방문한 것으로 조사돼 방...</td>\n",
       "      <td>False</td>\n",
       "    </tr>\n",
       "    <tr>\n",
       "      <th>23874</th>\n",
       "      <td>\\\"타다 멈춘날, 임신한 아내와 부둥켜 울었다\\\"</td>\n",
       "      <td>박재욱 VCNC 대표가 '타다 금지법'의 국회 법제사법위원회 통과와 관련 페이스북에...</td>\n",
       "      <td>False</td>\n",
       "    </tr>\n",
       "    <tr>\n",
       "      <th>23876</th>\n",
       "      <td>美트럼프 과기 수장, 韓 ‘드라이브 스루’ 진료소에 깊은 관심</td>\n",
       "      <td>“드라이브 스루(Drive-Thru) 이동진료소, 자가진단 앱(애플리케이션) 등과 ...</td>\n",
       "      <td>False</td>\n",
       "    </tr>\n",
       "    <tr>\n",
       "      <th>23884</th>\n",
       "      <td>미세먼지 '인체 위험성’ 평가 기술 나왔다</td>\n",
       "      <td>국내 연구진이 미세먼지에 포함된 유해물질 농도를 예측해 인체에 실제로 미치는 위험성...</td>\n",
       "      <td>False</td>\n",
       "    </tr>\n",
       "    <tr>\n",
       "      <th>23885</th>\n",
       "      <td>'온라인 주총' 시대 열린다…SKT 실시간 생중계</td>\n",
       "      <td>주주들이 PC나 모바일로 주주총회 현장을 실시간으로 시청하고 소통하는 '온라인 주총...</td>\n",
       "      <td>False</td>\n",
       "    </tr>\n",
       "  </tbody>\n",
       "</table>\n",
       "<p>10196 rows × 3 columns</p>\n",
       "</div>"
      ],
      "text/plain": [
       "                                              title  \\\n",
       "0        신협, 포항 지진피해 성금 5,000만 원 및 구호물품 1,500만 원 지원   \n",
       "3                          금감원, 금리인상 여파에 가계대출 관리 나서   \n",
       "6      노동부 \\\"최저임금 유예·철회 없을 것\\\", 경영계 \\\"규모·업종별 구분해야\\\"   \n",
       "11                  [종합] 한상혁 방통위 후보자 공격하는 野, 수비하는 與   \n",
       "13             '오픈뱅킹' 은행 무한경쟁 시대 개막...고객 쟁탈전 나선 은행들   \n",
       "...                                             ...   \n",
       "23870              경북 상주 확진자 5시간 머문 KT 광화문 사옥…방역 비상   \n",
       "23874                   \\\"타다 멈춘날, 임신한 아내와 부둥켜 울었다\\\"   \n",
       "23876            美트럼프 과기 수장, 韓 ‘드라이브 스루’ 진료소에 깊은 관심   \n",
       "23884                       미세먼지 '인체 위험성’ 평가 기술 나왔다   \n",
       "23885                   '온라인 주총' 시대 열린다…SKT 실시간 생중계   \n",
       "\n",
       "                                                    text     ad  \n",
       "0      신협사회공헌재단(이사장 문철상)은지난 22일 경북 포항시청을 방문하여 지진 피해 복...  False  \n",
       "3      최근 미국이 기준금리를 0.25% 인상해 10년 만에 연 2%대 기준금리로 올라서면...  False  \n",
       "6      지난 1일을 시작으로 올해 최저임금이 8350원으로 올랐다.\\n지난해 최저임금(73...  False  \n",
       "11     30일 국회 과학기술정보방송통신위원회가 개최한 한상혁 방송통신위원회 위원장 후보자 ...  False  \n",
       "13     30일부터 기존 은행 앱에서 타 은행 계좌 송금 거래를 할 수 있는 '오픈뱅킹' 제...  False  \n",
       "...                                                  ...    ...  \n",
       "23870  코로나19 확진자가 확진 판정을 받기 전 KT광화문 지사를 방문한 것으로 조사돼 방...  False  \n",
       "23874  박재욱 VCNC 대표가 '타다 금지법'의 국회 법제사법위원회 통과와 관련 페이스북에...  False  \n",
       "23876  “드라이브 스루(Drive-Thru) 이동진료소, 자가진단 앱(애플리케이션) 등과 ...  False  \n",
       "23884  국내 연구진이 미세먼지에 포함된 유해물질 농도를 예측해 인체에 실제로 미치는 위험성...  False  \n",
       "23885  주주들이 PC나 모바일로 주주총회 현장을 실시간으로 시청하고 소통하는 '온라인 주총...  False  \n",
       "\n",
       "[10196 rows x 3 columns]"
      ]
     },
     "execution_count": 100,
     "metadata": {},
     "output_type": "execute_result"
    }
   ],
   "source": [
    "no_ad_df"
   ]
  },
  {
   "cell_type": "code",
   "execution_count": 104,
   "id": "6244eece",
   "metadata": {},
   "outputs": [],
   "source": [
    "df = pd.concat([ad_df, no_ad_df], ignore_index=True)"
   ]
  },
  {
   "cell_type": "code",
   "execution_count": 105,
   "id": "126e1543",
   "metadata": {},
   "outputs": [
    {
     "data": {
      "text/html": [
       "<div>\n",
       "<style scoped>\n",
       "    .dataframe tbody tr th:only-of-type {\n",
       "        vertical-align: middle;\n",
       "    }\n",
       "\n",
       "    .dataframe tbody tr th {\n",
       "        vertical-align: top;\n",
       "    }\n",
       "\n",
       "    .dataframe thead th {\n",
       "        text-align: right;\n",
       "    }\n",
       "</style>\n",
       "<table border=\"1\" class=\"dataframe\">\n",
       "  <thead>\n",
       "    <tr style=\"text-align: right;\">\n",
       "      <th></th>\n",
       "      <th>title</th>\n",
       "      <th>text</th>\n",
       "      <th>ad</th>\n",
       "    </tr>\n",
       "  </thead>\n",
       "  <tbody>\n",
       "    <tr>\n",
       "      <th>0</th>\n",
       "      <td>컴투스, '글로벌 게임 문학상 2018' 개최</td>\n",
       "      <td>컴투스가 글로벌 콘텐츠 발굴을 위한 스토리 공모전 '컴투스 글로벌 게임 문학상 20...</td>\n",
       "      <td>True</td>\n",
       "    </tr>\n",
       "    <tr>\n",
       "      <th>1</th>\n",
       "      <td>엔트리브소프트 '프리스타일' 한중대항전 개최</td>\n",
       "      <td>엔트리브소프트(대표 서관희)는 조이시티가 개발한 온라인 농구게임 '프리스타일'에서 ...</td>\n",
       "      <td>True</td>\n",
       "    </tr>\n",
       "    <tr>\n",
       "      <th>2</th>\n",
       "      <td>엔씨 문화축제 '피버 페스티벌' 내달 개최</td>\n",
       "      <td>엔씨소프트가 문화 축제 '피버 페스티벌(FEVER FESTIVAL) 2018'을 내...</td>\n",
       "      <td>True</td>\n",
       "    </tr>\n",
       "    <tr>\n",
       "      <th>3</th>\n",
       "      <td>스마일게이트 희망스튜디오, SGM 6기 수료식 개최</td>\n",
       "      <td>스마일게이트 희망스튜디오(이사장 권혁빈)는 지난 26일 스마일게이트 본사에서 스마일...</td>\n",
       "      <td>True</td>\n",
       "    </tr>\n",
       "    <tr>\n",
       "      <th>4</th>\n",
       "      <td>'모바일게임 스타 어워즈' 개최… 중소업체 '동반성장' 도모</td>\n",
       "      <td>중소 모바일게임사들의 개발 및 창작 활동을 지원하기 위한 '모바일게임 스타 어워즈'...</td>\n",
       "      <td>True</td>\n",
       "    </tr>\n",
       "    <tr>\n",
       "      <th>...</th>\n",
       "      <td>...</td>\n",
       "      <td>...</td>\n",
       "      <td>...</td>\n",
       "    </tr>\n",
       "    <tr>\n",
       "      <th>17245</th>\n",
       "      <td>경북 상주 확진자 5시간 머문 KT 광화문 사옥…방역 비상</td>\n",
       "      <td>코로나19 확진자가 확진 판정을 받기 전 KT광화문 지사를 방문한 것으로 조사돼 방...</td>\n",
       "      <td>False</td>\n",
       "    </tr>\n",
       "    <tr>\n",
       "      <th>17246</th>\n",
       "      <td>\\\"타다 멈춘날, 임신한 아내와 부둥켜 울었다\\\"</td>\n",
       "      <td>박재욱 VCNC 대표가 '타다 금지법'의 국회 법제사법위원회 통과와 관련 페이스북에...</td>\n",
       "      <td>False</td>\n",
       "    </tr>\n",
       "    <tr>\n",
       "      <th>17247</th>\n",
       "      <td>美트럼프 과기 수장, 韓 ‘드라이브 스루’ 진료소에 깊은 관심</td>\n",
       "      <td>“드라이브 스루(Drive-Thru) 이동진료소, 자가진단 앱(애플리케이션) 등과 ...</td>\n",
       "      <td>False</td>\n",
       "    </tr>\n",
       "    <tr>\n",
       "      <th>17248</th>\n",
       "      <td>미세먼지 '인체 위험성’ 평가 기술 나왔다</td>\n",
       "      <td>국내 연구진이 미세먼지에 포함된 유해물질 농도를 예측해 인체에 실제로 미치는 위험성...</td>\n",
       "      <td>False</td>\n",
       "    </tr>\n",
       "    <tr>\n",
       "      <th>17249</th>\n",
       "      <td>'온라인 주총' 시대 열린다…SKT 실시간 생중계</td>\n",
       "      <td>주주들이 PC나 모바일로 주주총회 현장을 실시간으로 시청하고 소통하는 '온라인 주총...</td>\n",
       "      <td>False</td>\n",
       "    </tr>\n",
       "  </tbody>\n",
       "</table>\n",
       "<p>17250 rows × 3 columns</p>\n",
       "</div>"
      ],
      "text/plain": [
       "                                    title  \\\n",
       "0               컴투스, '글로벌 게임 문학상 2018' 개최   \n",
       "1                엔트리브소프트 '프리스타일' 한중대항전 개최   \n",
       "2                 엔씨 문화축제 '피버 페스티벌' 내달 개최   \n",
       "3            스마일게이트 희망스튜디오, SGM 6기 수료식 개최   \n",
       "4       '모바일게임 스타 어워즈' 개최… 중소업체 '동반성장' 도모   \n",
       "...                                   ...   \n",
       "17245    경북 상주 확진자 5시간 머문 KT 광화문 사옥…방역 비상   \n",
       "17246         \\\"타다 멈춘날, 임신한 아내와 부둥켜 울었다\\\"   \n",
       "17247  美트럼프 과기 수장, 韓 ‘드라이브 스루’ 진료소에 깊은 관심   \n",
       "17248             미세먼지 '인체 위험성’ 평가 기술 나왔다   \n",
       "17249         '온라인 주총' 시대 열린다…SKT 실시간 생중계   \n",
       "\n",
       "                                                    text     ad  \n",
       "0      컴투스가 글로벌 콘텐츠 발굴을 위한 스토리 공모전 '컴투스 글로벌 게임 문학상 20...   True  \n",
       "1      엔트리브소프트(대표 서관희)는 조이시티가 개발한 온라인 농구게임 '프리스타일'에서 ...   True  \n",
       "2      엔씨소프트가 문화 축제 '피버 페스티벌(FEVER FESTIVAL) 2018'을 내...   True  \n",
       "3      스마일게이트 희망스튜디오(이사장 권혁빈)는 지난 26일 스마일게이트 본사에서 스마일...   True  \n",
       "4      중소 모바일게임사들의 개발 및 창작 활동을 지원하기 위한 '모바일게임 스타 어워즈'...   True  \n",
       "...                                                  ...    ...  \n",
       "17245  코로나19 확진자가 확진 판정을 받기 전 KT광화문 지사를 방문한 것으로 조사돼 방...  False  \n",
       "17246  박재욱 VCNC 대표가 '타다 금지법'의 국회 법제사법위원회 통과와 관련 페이스북에...  False  \n",
       "17247  “드라이브 스루(Drive-Thru) 이동진료소, 자가진단 앱(애플리케이션) 등과 ...  False  \n",
       "17248  국내 연구진이 미세먼지에 포함된 유해물질 농도를 예측해 인체에 실제로 미치는 위험성...  False  \n",
       "17249  주주들이 PC나 모바일로 주주총회 현장을 실시간으로 시청하고 소통하는 '온라인 주총...  False  \n",
       "\n",
       "[17250 rows x 3 columns]"
      ]
     },
     "execution_count": 105,
     "metadata": {},
     "output_type": "execute_result"
    }
   ],
   "source": [
    "df"
   ]
  },
  {
   "cell_type": "code",
   "execution_count": 117,
   "id": "5c809236",
   "metadata": {},
   "outputs": [],
   "source": [
    "df = df.drop(columns=['title'])"
   ]
  },
  {
   "cell_type": "code",
   "execution_count": 118,
   "id": "8c4ad81e",
   "metadata": {},
   "outputs": [
    {
     "data": {
      "text/html": [
       "<div>\n",
       "<style scoped>\n",
       "    .dataframe tbody tr th:only-of-type {\n",
       "        vertical-align: middle;\n",
       "    }\n",
       "\n",
       "    .dataframe tbody tr th {\n",
       "        vertical-align: top;\n",
       "    }\n",
       "\n",
       "    .dataframe thead th {\n",
       "        text-align: right;\n",
       "    }\n",
       "</style>\n",
       "<table border=\"1\" class=\"dataframe\">\n",
       "  <thead>\n",
       "    <tr style=\"text-align: right;\">\n",
       "      <th></th>\n",
       "      <th>text</th>\n",
       "      <th>ad</th>\n",
       "    </tr>\n",
       "  </thead>\n",
       "  <tbody>\n",
       "    <tr>\n",
       "      <th>0</th>\n",
       "      <td>컴투스가 글로벌 콘텐츠 발굴을 위한 스토리 공모전 '컴투스 글로벌 게임 문학상 20...</td>\n",
       "      <td>True</td>\n",
       "    </tr>\n",
       "    <tr>\n",
       "      <th>1</th>\n",
       "      <td>엔트리브소프트(대표 서관희)는 조이시티가 개발한 온라인 농구게임 '프리스타일'에서 ...</td>\n",
       "      <td>True</td>\n",
       "    </tr>\n",
       "    <tr>\n",
       "      <th>2</th>\n",
       "      <td>엔씨소프트가 문화 축제 '피버 페스티벌(FEVER FESTIVAL) 2018'을 내...</td>\n",
       "      <td>True</td>\n",
       "    </tr>\n",
       "    <tr>\n",
       "      <th>3</th>\n",
       "      <td>스마일게이트 희망스튜디오(이사장 권혁빈)는 지난 26일 스마일게이트 본사에서 스마일...</td>\n",
       "      <td>True</td>\n",
       "    </tr>\n",
       "    <tr>\n",
       "      <th>4</th>\n",
       "      <td>중소 모바일게임사들의 개발 및 창작 활동을 지원하기 위한 '모바일게임 스타 어워즈'...</td>\n",
       "      <td>True</td>\n",
       "    </tr>\n",
       "    <tr>\n",
       "      <th>...</th>\n",
       "      <td>...</td>\n",
       "      <td>...</td>\n",
       "    </tr>\n",
       "    <tr>\n",
       "      <th>17245</th>\n",
       "      <td>코로나19 확진자가 확진 판정을 받기 전 KT광화문 지사를 방문한 것으로 조사돼 방...</td>\n",
       "      <td>False</td>\n",
       "    </tr>\n",
       "    <tr>\n",
       "      <th>17246</th>\n",
       "      <td>박재욱 VCNC 대표가 '타다 금지법'의 국회 법제사법위원회 통과와 관련 페이스북에...</td>\n",
       "      <td>False</td>\n",
       "    </tr>\n",
       "    <tr>\n",
       "      <th>17247</th>\n",
       "      <td>“드라이브 스루(Drive-Thru) 이동진료소, 자가진단 앱(애플리케이션) 등과 ...</td>\n",
       "      <td>False</td>\n",
       "    </tr>\n",
       "    <tr>\n",
       "      <th>17248</th>\n",
       "      <td>국내 연구진이 미세먼지에 포함된 유해물질 농도를 예측해 인체에 실제로 미치는 위험성...</td>\n",
       "      <td>False</td>\n",
       "    </tr>\n",
       "    <tr>\n",
       "      <th>17249</th>\n",
       "      <td>주주들이 PC나 모바일로 주주총회 현장을 실시간으로 시청하고 소통하는 '온라인 주총...</td>\n",
       "      <td>False</td>\n",
       "    </tr>\n",
       "  </tbody>\n",
       "</table>\n",
       "<p>17250 rows × 2 columns</p>\n",
       "</div>"
      ],
      "text/plain": [
       "                                                    text     ad\n",
       "0      컴투스가 글로벌 콘텐츠 발굴을 위한 스토리 공모전 '컴투스 글로벌 게임 문학상 20...   True\n",
       "1      엔트리브소프트(대표 서관희)는 조이시티가 개발한 온라인 농구게임 '프리스타일'에서 ...   True\n",
       "2      엔씨소프트가 문화 축제 '피버 페스티벌(FEVER FESTIVAL) 2018'을 내...   True\n",
       "3      스마일게이트 희망스튜디오(이사장 권혁빈)는 지난 26일 스마일게이트 본사에서 스마일...   True\n",
       "4      중소 모바일게임사들의 개발 및 창작 활동을 지원하기 위한 '모바일게임 스타 어워즈'...   True\n",
       "...                                                  ...    ...\n",
       "17245  코로나19 확진자가 확진 판정을 받기 전 KT광화문 지사를 방문한 것으로 조사돼 방...  False\n",
       "17246  박재욱 VCNC 대표가 '타다 금지법'의 국회 법제사법위원회 통과와 관련 페이스북에...  False\n",
       "17247  “드라이브 스루(Drive-Thru) 이동진료소, 자가진단 앱(애플리케이션) 등과 ...  False\n",
       "17248  국내 연구진이 미세먼지에 포함된 유해물질 농도를 예측해 인체에 실제로 미치는 위험성...  False\n",
       "17249  주주들이 PC나 모바일로 주주총회 현장을 실시간으로 시청하고 소통하는 '온라인 주총...  False\n",
       "\n",
       "[17250 rows x 2 columns]"
      ]
     },
     "execution_count": 118,
     "metadata": {},
     "output_type": "execute_result"
    }
   ],
   "source": [
    "df"
   ]
  },
  {
   "cell_type": "code",
   "execution_count": 106,
   "id": "d6a35b9c",
   "metadata": {},
   "outputs": [],
   "source": [
    "df2 = pd.read_csv('/home/osung/data/korean/modu/json/combined_news.tsv', sep='\\t')"
   ]
  },
  {
   "cell_type": "code",
   "execution_count": 107,
   "id": "2336e6af",
   "metadata": {},
   "outputs": [
    {
     "data": {
      "text/plain": [
       "Index(['id', 'topic', 'text'], dtype='object')"
      ]
     },
     "execution_count": 107,
     "metadata": {},
     "output_type": "execute_result"
    }
   ],
   "source": [
    "df2.columns"
   ]
  },
  {
   "cell_type": "code",
   "execution_count": 109,
   "id": "646e9e0a",
   "metadata": {},
   "outputs": [
    {
     "data": {
      "text/html": [
       "<div>\n",
       "<style scoped>\n",
       "    .dataframe tbody tr th:only-of-type {\n",
       "        vertical-align: middle;\n",
       "    }\n",
       "\n",
       "    .dataframe tbody tr th {\n",
       "        vertical-align: top;\n",
       "    }\n",
       "\n",
       "    .dataframe thead th {\n",
       "        text-align: right;\n",
       "    }\n",
       "</style>\n",
       "<table border=\"1\" class=\"dataframe\">\n",
       "  <thead>\n",
       "    <tr style=\"text-align: right;\">\n",
       "      <th></th>\n",
       "      <th>id</th>\n",
       "      <th>topic</th>\n",
       "      <th>text</th>\n",
       "    </tr>\n",
       "  </thead>\n",
       "  <tbody>\n",
       "    <tr>\n",
       "      <th>16</th>\n",
       "      <td>NIRW1900000001.36</td>\n",
       "      <td>사회</td>\n",
       "      <td>\"법정관리 터널 벗어나 세계적인 기업으로\" 2009년의 태양이 떠올랐다. 새해를 맞...</td>\n",
       "    </tr>\n",
       "    <tr>\n",
       "      <th>71</th>\n",
       "      <td>NIRW1900000001.155</td>\n",
       "      <td>사회</td>\n",
       "      <td>최시중 \"올해 미디어빅뱅 일어날 수밖에\" 이명박 대통령의 정치적 '멘토'로 불리는 ...</td>\n",
       "    </tr>\n",
       "    <tr>\n",
       "      <th>83</th>\n",
       "      <td>NIRW1900000001.174</td>\n",
       "      <td>사회</td>\n",
       "      <td>\"한나라당 국회의원들, 유권자 분노 들어라\" 한나라당의 이른바 'MB악법' 강행처리...</td>\n",
       "    </tr>\n",
       "    <tr>\n",
       "      <th>101</th>\n",
       "      <td>NIRW1900000001.209</td>\n",
       "      <td>사회</td>\n",
       "      <td>MBC노조 \"〈중앙〉 '김주하 보도', 정정하라\" 김주하 앵커 발언 왜곡 보도와 관...</td>\n",
       "    </tr>\n",
       "    <tr>\n",
       "      <th>119</th>\n",
       "      <td>NIRW1900000001.235</td>\n",
       "      <td>사회</td>\n",
       "      <td>언론악법이 '경제살리기'? 증거를 대라 이명박 정권과 재벌, 수구족벌신문의 커넥션이...</td>\n",
       "    </tr>\n",
       "    <tr>\n",
       "      <th>...</th>\n",
       "      <td>...</td>\n",
       "      <td>...</td>\n",
       "      <td>...</td>\n",
       "    </tr>\n",
       "    <tr>\n",
       "      <th>3611372</th>\n",
       "      <td>NZRW2200000001.2212</td>\n",
       "      <td>경제</td>\n",
       "      <td>중앙 “윤석열 리더십에 의문 부호 붙이는 사람 늘어” 23일 주요 종합일간지 1면 ...</td>\n",
       "    </tr>\n",
       "    <tr>\n",
       "      <th>3611380</th>\n",
       "      <td>NZRW2200000001.2220</td>\n",
       "      <td>정치</td>\n",
       "      <td>여론조사 놓고 국힘 “이재명 유리” YTN “공인된 방법” 국민의힘이 최근 조사 방...</td>\n",
       "    </tr>\n",
       "    <tr>\n",
       "      <th>3611405</th>\n",
       "      <td>NZRW2200000001.2249</td>\n",
       "      <td>경제</td>\n",
       "      <td>서울신문이 변하고 있다 서울신문 대주주가 된 호반건설이 서울신문 지면에서도 영향력을...</td>\n",
       "    </tr>\n",
       "    <tr>\n",
       "      <th>3611406</th>\n",
       "      <td>NZRW2200000001.2250</td>\n",
       "      <td>정치</td>\n",
       "      <td>중앙, 토론 거부 윤석열에 “싸움 치부해서 되겠나” 윤석열 국민의힘 대선 후보가 또...</td>\n",
       "    </tr>\n",
       "    <tr>\n",
       "      <th>3611413</th>\n",
       "      <td>NZRW2200000001.2258</td>\n",
       "      <td>사회</td>\n",
       "      <td>‘취업제한’ 이재용 청와대 초청 가벼이 봐선 안되는 이유 문재인 대통령이 ‘취업제한...</td>\n",
       "    </tr>\n",
       "  </tbody>\n",
       "</table>\n",
       "<p>7277 rows × 3 columns</p>\n",
       "</div>"
      ],
      "text/plain": [
       "                          id topic  \\\n",
       "16         NIRW1900000001.36    사회   \n",
       "71        NIRW1900000001.155    사회   \n",
       "83        NIRW1900000001.174    사회   \n",
       "101       NIRW1900000001.209    사회   \n",
       "119       NIRW1900000001.235    사회   \n",
       "...                      ...   ...   \n",
       "3611372  NZRW2200000001.2212    경제   \n",
       "3611380  NZRW2200000001.2220    정치   \n",
       "3611405  NZRW2200000001.2249    경제   \n",
       "3611406  NZRW2200000001.2250    정치   \n",
       "3611413  NZRW2200000001.2258    사회   \n",
       "\n",
       "                                                      text  \n",
       "16       \"법정관리 터널 벗어나 세계적인 기업으로\" 2009년의 태양이 떠올랐다. 새해를 맞...  \n",
       "71       최시중 \"올해 미디어빅뱅 일어날 수밖에\" 이명박 대통령의 정치적 '멘토'로 불리는 ...  \n",
       "83       \"한나라당 국회의원들, 유권자 분노 들어라\" 한나라당의 이른바 'MB악법' 강행처리...  \n",
       "101      MBC노조 \"〈중앙〉 '김주하 보도', 정정하라\" 김주하 앵커 발언 왜곡 보도와 관...  \n",
       "119      언론악법이 '경제살리기'? 증거를 대라 이명박 정권과 재벌, 수구족벌신문의 커넥션이...  \n",
       "...                                                    ...  \n",
       "3611372  중앙 “윤석열 리더십에 의문 부호 붙이는 사람 늘어” 23일 주요 종합일간지 1면 ...  \n",
       "3611380  여론조사 놓고 국힘 “이재명 유리” YTN “공인된 방법” 국민의힘이 최근 조사 방...  \n",
       "3611405  서울신문이 변하고 있다 서울신문 대주주가 된 호반건설이 서울신문 지면에서도 영향력을...  \n",
       "3611406  중앙, 토론 거부 윤석열에 “싸움 치부해서 되겠나” 윤석열 국민의힘 대선 후보가 또...  \n",
       "3611413  ‘취업제한’ 이재용 청와대 초청 가벼이 봐선 안되는 이유 문재인 대통령이 ‘취업제한...  \n",
       "\n",
       "[7277 rows x 3 columns]"
      ]
     },
     "execution_count": 109,
     "metadata": {},
     "output_type": "execute_result"
    }
   ],
   "source": [
    "df2[df2['text'].str.contains('중앙일보')]"
   ]
  },
  {
   "cell_type": "code",
   "execution_count": 232,
   "id": "8cf9983c",
   "metadata": {},
   "outputs": [],
   "source": [
    "f_df = df2[df2['text'].apply(lambda x: all(keyword in x for keyword in ['아파트', '분양', '건설']))]"
   ]
  },
  {
   "cell_type": "code",
   "execution_count": 233,
   "id": "15ae9c9f",
   "metadata": {},
   "outputs": [
    {
     "data": {
      "text/plain": [
       "86      \"남의 집 제집이라 속여 팔았는데 사기 아니라고?\" 안양 비산동 대림 아파트 사기 ...\n",
       "142     \"판교는 '망교'... 빚 지고 봉됐다\" \"판교 로또? 다 옛날 얘기다. 지금은 판...\n",
       "147     안양시, 덕천지구주택재개발 시행 인가 안양시의 대표적인 노후 주택지역으로 철도소음과...\n",
       "165     \"회색 뉴딜... 스테이크로 포장된 저질 소시지\" \"아파트 미분양 적체로 힘들어 하...\n",
       "288     문화재 발굴에 아파트 입주예정자 '울상' 대전 서남부 트리플시티 입주예정자들이 아파...\n",
       "763     강남구의회 \"서울시, 강남 역차별 개선하라\" 서울 강남구의회가 강남구의 경쟁력을 확...\n",
       "766     원주민 정착률 평균 21%, 대전도 생존권 위협 용산 철거민 참사 이후 대전지역에서...\n",
       "776     \"이 대통령이 싸고 간 똥에 철거민들이 질식사\" 용산 참사의 책임공방이 치열한 가운...\n",
       "901     왜 서민이 한나라당을 지지할까?[II] 재벌이 경제 발전을 이끈다는 믿음 또 다른 ...\n",
       "1080    박달하수처리장 지하화 장기 표류 조짐 고속철도 광명역 주변 택지개발에 따른 안양시 ...\n",
       "1300    주택재개발 주민들, 주공 분양 원천봉쇄 대한주택공사가 경기도 안양시 안양7동 덕천마...\n",
       "1302    \"이런 식이라면 재개발 아예 하지 말자\" 안양7동(덕천마을) 재개발이 난항에 빠졌다...\n",
       "1406    고분양가 그대로 두고 미분양 해소! 바보 아냐? \"건설사들이 '같이 죽든지 아니면 ...\n",
       "1437    '불 꺼진 아파트 절반'인데 계속 재개발이냐? \"철거민의 투쟁이 한국 철거민운동의 ...\n",
       "1860    '새여울초' 신설에 지역 주민 반발 대전시교육청이 신탄진의 옛 풍한방직터에 들어서는...\n",
       "1881    \"광교신도시, 공공기관-건설사 '로또사업' 전락\" 수원경제정의실천연합(이하 수원경실...\n",
       "1919    경인운하 쌍수 들던 주민들이 돌아선 이유 5일 오전 경기도 김포시 고촌면 신곡리 현...\n",
       "1975    정든집에서 내쫓는 개발 절대 안된다 대한주택공사가 추진하는 안양 덕천마을 주택재개발...\n",
       "1982    중견건설업체 신창건설 법정관리 신청 경기 안양에 본사를 둔 중견건설업체인 신창건설(...\n",
       "2157    정부 미분양 대책, 분쟁 예견된 것 경기 침체로 미분양 아파트가 급증하자 정부가 지...\n",
       "2161    1조원 특혜 논란 '수원컨벤션시티' 무산되나 경기도와 수원시가 지난 1월 광교신도시...\n",
       "2188    방송3사, 금산분리 완화 등 '경제악법' 제대로 보도 안 해 3월 첫째 주 민언련이...\n",
       "2216    전기료 공짜여서 더 빛나는 아파트 있다! 없다? \"일단은 관리비가 적게 나가니까 제...\n",
       "2245    아파트 계약자들과 시공사 만남이 '화기애애'? 건설업체가 변하고 있다. 장기침체로 ...\n",
       "2316    \"부동산 정책 84%, 건설재벌·다주택자에 특혜\" \"건설업자 출신 대통령답다.\" 1...\n",
       "2357    잇따른 '부자정책'에 〈조선〉, \"민주당, 부자 적대시 말라\" '실업자 100만 시...\n",
       "2508    인천경제 살길, '작은정부'보다 '큰 정부' 인천상공회의소(회장 김광식)는 23일 ...\n",
       "2570    \"광교신도시 '이던하우스' 분양가는 폭리\" 경기도 용인시 공기업인 용인지방공사가 수...\n",
       "2571    용산참사 김석기 전 청장 배후는 건설재벌 왜 용산4구역 재개발지역에 무리하게 경찰특...\n",
       "2576    도심 재개발 원주민 정든 마을 내쫓길 처지 재개발 보상가 문제로 일부 주민들의 거센...\n",
       "2798    \"인천공항철도 부실, 정종환 국토부 장관이 배후\" 정부가 잘못된 수요 예측으로 막대...\n",
       "3168    광교신도시 택지조성원가, 경기지역에서 가장 높아 수원 광교신도시에 용인지방공사가 건...\n",
       "3186    \"불황에 아파트 허위분양 광고 기승\" \"A사는 아파트 단지 내 헬스센터와 1층 세대...\n",
       "3204    \"기업도시 하라구 땅 내놨어? 이건 사기여\" 이명박 대통령이 당선된 이후 세종시(행...\n",
       "3339    \"광교신도시 택지판매수익 9140억 원 추정\" 경기도·수원시·용인시·경기도시공사 등...\n",
       "3373    판교의 주차, 안전문제 해결해주세요 판교 신도시 입주가 시작된 지 석달이 되어 간다...\n",
       "3499    아파트 주변도로 소음 피해 지자체도 책임 아파트 주변의 도로 교통소음이 기준치를 초...\n",
       "3725    1·2차 부동산 위기 자초하는 MB정부 최근 정부가 내놓은 부동산대책들을 보면 집값...\n",
       "3780    안양권, 국민임대 일반분양분 공급 예정 국토해양부가 지난 2005년 수도권과 대도시...\n",
       "3902    뜨거운 청라 \"돈 있으면 지금 부동산 사라\" \"부동산으로 돈 벌기 좋은 때다.\" 6...\n",
       "3943    '만능청약통장' 열풍... 서민들은 울고 투자자는 웃고 225만8306명. 지난 6...\n",
       "4315    \"광교신도시 국민주택 규모에서도 땅장사·집장사\" 광교신도시에서 공공기관들이 무주택 ...\n",
       "4431    안양 덕천마을 재개발 사업설명회, 끝날때까지'고성' 안양 덕천마을 주택재개발 사업지...\n",
       "4779    고 최진실 아파트 광고모델료 분쟁 대법서 패소 아파트 광고모델료 분쟁에서 고 최진실...\n",
       "4945    초고가 22억대 아파트 사기분양 논란에 휩싸인 까닭은? 지난 2007년 사상 최고 ...\n",
       "5764    \"보금자리 허물고 보금자리주택 짓겠다? 절대 못 나가지, 나가라면 죽는 수밖에......\n",
       "5780    일당쟁이들의 아름다운 연대, '짜장'을 구하다 '뗏놈, 짜장, 짱개…' 건설현장에서...\n",
       "5893    상가 철거... 명도소송 당한 것도 몰랐었는데 \"이제 실업자지요, 뭐.\" 요즘 어떻...\n",
       "5932    서울시·SH공사, '청계상인 상가'로 분양 장사? 청계천 상인들의 이주를 목적으로 ...\n",
       "6341    뉴타운 청사진? \"그럴 듯한데 돈이 문제지\" 만안뉴타운 주민설명회 누구 위한 것이냐...\n",
       "Name: text, dtype: object"
      ]
     },
     "execution_count": 233,
     "metadata": {},
     "output_type": "execute_result"
    }
   ],
   "source": [
    "f_df.text[:50]"
   ]
  },
  {
   "cell_type": "code",
   "execution_count": 156,
   "id": "39d55531",
   "metadata": {},
   "outputs": [
    {
     "data": {
      "text/plain": [
       "'IEF 2019 제주 국가대표 선발전 12~13일 제주항공우주박물관에서 사단법인 국제교류연맹(공동회장 남경필·이광재, 이하 IEF 조직위원회)은 ‘IEF 2019 제주 국가대표 선발전’(이하 IEF 2019)을 12~13일 제주 항공우주박물관(서귀포시 안덕면 녹차분재로 218)에서 진행한다. IEF 2019는 ‘IEF(International e-Spots Festival) 2019 국제 이스포츠 페스티벌’의 한국국가대표를 선발하는 국내 대회다. IEF 2019는 ‘리그 오브 레전드’와 올해부터 정식종목으로 선정된 ‘피파온라인4’, 모바일 MOBA 장르의 게임 ‘펜타스톰’ 등 3종목으로 진행된다. 지난 2개월간 치열하게 진행된 전국 16개 권역 지역예선을 통과한 LoL 16팀(80명), 피파온라인4 16팀(16명), 펜타스톰 4팀(20명)이 참여해 태극마크를 둔 결전을 펼친다. IEF 2019 종목별 입상자는 국가대표 인증서와 함께 IEF 2019 후난성 국제 이스포츠 페스티벌 출전권을 확보하게 된다. 한편, IEF 조직위원회는 IEF 2019를 기념하기 위해 다양한 행사도 마련했다. 오는 12일 오후 4시30분에는 200만 구독자 인기유튜버 창현이 진행하는 거리노래방이 축하행사로 진행될 예정이다. 결승전이 펼쳐지는 13일 오후 2시에는 피파온라인4 프로게이머 신보석, 유정훈이 관객과 함께 하는 피파온라인4 이벤트 매치를 진행된다. 이 외에도 e스포츠 가족 팬들을 위한 가족 카트라이더 대전, VR 이스포츠 체험, 레트로 게임대회 등을 통해 푸짐한 경품(빠샤메카드 선착순 일 200명, 제주항공우주박물관 입장권 300장, 삼양라면 및 스넥 외)을 제공하는 다채로운 행사가 진행될 예정이다.'"
      ]
     },
     "execution_count": 156,
     "metadata": {},
     "output_type": "execute_result"
    }
   ],
   "source": [
    "f_df.loc[2062639].text"
   ]
  },
  {
   "cell_type": "code",
   "execution_count": 228,
   "id": "2d68b149",
   "metadata": {},
   "outputs": [],
   "source": [
    "df = append_data(df, f_df.loc[2920476].text)"
   ]
  },
  {
   "cell_type": "code",
   "execution_count": 234,
   "id": "63edee7f",
   "metadata": {},
   "outputs": [
    {
     "data": {
      "text/html": [
       "<div>\n",
       "<style scoped>\n",
       "    .dataframe tbody tr th:only-of-type {\n",
       "        vertical-align: middle;\n",
       "    }\n",
       "\n",
       "    .dataframe tbody tr th {\n",
       "        vertical-align: top;\n",
       "    }\n",
       "\n",
       "    .dataframe thead th {\n",
       "        text-align: right;\n",
       "    }\n",
       "</style>\n",
       "<table border=\"1\" class=\"dataframe\">\n",
       "  <thead>\n",
       "    <tr style=\"text-align: right;\">\n",
       "      <th></th>\n",
       "      <th>text</th>\n",
       "      <th>ad</th>\n",
       "    </tr>\n",
       "  </thead>\n",
       "  <tbody>\n",
       "    <tr>\n",
       "      <th>0</th>\n",
       "      <td>컴투스가 글로벌 콘텐츠 발굴을 위한 스토리 공모전 '컴투스 글로벌 게임 문학상 20...</td>\n",
       "      <td>True</td>\n",
       "    </tr>\n",
       "    <tr>\n",
       "      <th>1</th>\n",
       "      <td>엔트리브소프트(대표 서관희)는 조이시티가 개발한 온라인 농구게임 '프리스타일'에서 ...</td>\n",
       "      <td>True</td>\n",
       "    </tr>\n",
       "    <tr>\n",
       "      <th>2</th>\n",
       "      <td>엔씨소프트가 문화 축제 '피버 페스티벌(FEVER FESTIVAL) 2018'을 내...</td>\n",
       "      <td>True</td>\n",
       "    </tr>\n",
       "    <tr>\n",
       "      <th>3</th>\n",
       "      <td>스마일게이트 희망스튜디오(이사장 권혁빈)는 지난 26일 스마일게이트 본사에서 스마일...</td>\n",
       "      <td>True</td>\n",
       "    </tr>\n",
       "    <tr>\n",
       "      <th>4</th>\n",
       "      <td>중소 모바일게임사들의 개발 및 창작 활동을 지원하기 위한 '모바일게임 스타 어워즈'...</td>\n",
       "      <td>True</td>\n",
       "    </tr>\n",
       "    <tr>\n",
       "      <th>...</th>\n",
       "      <td>...</td>\n",
       "      <td>...</td>\n",
       "    </tr>\n",
       "    <tr>\n",
       "      <th>17315</th>\n",
       "      <td>KB증권, 은행·보험 등 계열사와 손잡고 우수고객에 `토털 자산관리 상담` ◆ 선도...</td>\n",
       "      <td>True</td>\n",
       "    </tr>\n",
       "    <tr>\n",
       "      <th>17316</th>\n",
       "      <td>신한금융투자 '중위험 중수익, 따박따박' 연중이벤트 실시 신한금융투자는 박스권 장세...</td>\n",
       "      <td>True</td>\n",
       "    </tr>\n",
       "    <tr>\n",
       "      <th>17317</th>\n",
       "      <td>저금리 시대의 투자대안 'KDB대우 배당성장지수 랩' 저성장·저금리 지속과 인구 고...</td>\n",
       "      <td>True</td>\n",
       "    </tr>\n",
       "    <tr>\n",
       "      <th>17318</th>\n",
       "      <td>BNP파리바 카디프생명, '프리미엄자산관리 변액보험' 출시 BNP파리바 카디프생명은...</td>\n",
       "      <td>True</td>\n",
       "    </tr>\n",
       "    <tr>\n",
       "      <th>17319</th>\n",
       "      <td>‘신한명품 분할매수형 ETF랩 3.0’ 모집 外 신한금융투자는 농산물 지수에 투자하...</td>\n",
       "      <td>True</td>\n",
       "    </tr>\n",
       "  </tbody>\n",
       "</table>\n",
       "<p>17320 rows × 2 columns</p>\n",
       "</div>"
      ],
      "text/plain": [
       "                                                    text    ad\n",
       "0      컴투스가 글로벌 콘텐츠 발굴을 위한 스토리 공모전 '컴투스 글로벌 게임 문학상 20...  True\n",
       "1      엔트리브소프트(대표 서관희)는 조이시티가 개발한 온라인 농구게임 '프리스타일'에서 ...  True\n",
       "2      엔씨소프트가 문화 축제 '피버 페스티벌(FEVER FESTIVAL) 2018'을 내...  True\n",
       "3      스마일게이트 희망스튜디오(이사장 권혁빈)는 지난 26일 스마일게이트 본사에서 스마일...  True\n",
       "4      중소 모바일게임사들의 개발 및 창작 활동을 지원하기 위한 '모바일게임 스타 어워즈'...  True\n",
       "...                                                  ...   ...\n",
       "17315  KB증권, 은행·보험 등 계열사와 손잡고 우수고객에 `토털 자산관리 상담` ◆ 선도...  True\n",
       "17316  신한금융투자 '중위험 중수익, 따박따박' 연중이벤트 실시 신한금융투자는 박스권 장세...  True\n",
       "17317  저금리 시대의 투자대안 'KDB대우 배당성장지수 랩' 저성장·저금리 지속과 인구 고...  True\n",
       "17318  BNP파리바 카디프생명, '프리미엄자산관리 변액보험' 출시 BNP파리바 카디프생명은...  True\n",
       "17319  ‘신한명품 분할매수형 ETF랩 3.0’ 모집 外 신한금융투자는 농산물 지수에 투자하...  True\n",
       "\n",
       "[17320 rows x 2 columns]"
      ]
     },
     "execution_count": 234,
     "metadata": {},
     "output_type": "execute_result"
    }
   ],
   "source": [
    "df"
   ]
  },
  {
   "cell_type": "code",
   "execution_count": 128,
   "id": "d0f9b380",
   "metadata": {},
   "outputs": [],
   "source": [
    "def append_data(target, text, ad=True) :\n",
    "    target.loc[len(target)] = {'text': text, 'ad': ad}\n",
    "    \n",
    "    return target"
   ]
  },
  {
   "cell_type": "code",
   "execution_count": 235,
   "id": "8b09e2ef",
   "metadata": {},
   "outputs": [],
   "source": [
    "df.to_csv('/home/osung/data/korean/commercial/csv/ad_total.tsv', sep='\\t', index=False)"
   ]
  },
  {
   "cell_type": "code",
   "execution_count": 236,
   "id": "ab888fb5",
   "metadata": {},
   "outputs": [
    {
     "data": {
      "text/plain": [
       "17320"
      ]
     },
     "execution_count": 236,
     "metadata": {},
     "output_type": "execute_result"
    }
   ],
   "source": [
    "len(df)"
   ]
  },
  {
   "cell_type": "code",
   "execution_count": null,
   "id": "a3ed88d6",
   "metadata": {},
   "outputs": [],
   "source": []
  }
 ],
 "metadata": {
  "kernelspec": {
   "display_name": "Python 3 (ipykernel)",
   "language": "python",
   "name": "python3"
  },
  "language_info": {
   "codemirror_mode": {
    "name": "ipython",
    "version": 3
   },
   "file_extension": ".py",
   "mimetype": "text/x-python",
   "name": "python",
   "nbconvert_exporter": "python",
   "pygments_lexer": "ipython3",
   "version": "3.9.19"
  }
 },
 "nbformat": 4,
 "nbformat_minor": 5
}
