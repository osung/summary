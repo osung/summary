{
 "cells": [
  {
   "cell_type": "code",
   "execution_count": 1,
   "id": "88f4649e",
   "metadata": {},
   "outputs": [],
   "source": [
    "import pandas as pd"
   ]
  },
  {
   "cell_type": "code",
   "execution_count": 3,
   "id": "f3f474e1",
   "metadata": {},
   "outputs": [],
   "source": [
    "base_dir = '/home/osung/data/korean/commercial/csv/'\n",
    "filename = 'ad_summary_train.tsv'"
   ]
  },
  {
   "cell_type": "code",
   "execution_count": 4,
   "id": "d568fdda",
   "metadata": {},
   "outputs": [],
   "source": [
    "df = pd.read_csv(base_dir+filename, sep='\\t')"
   ]
  },
  {
   "cell_type": "code",
   "execution_count": 8,
   "id": "7d6ef374",
   "metadata": {},
   "outputs": [
    {
     "data": {
      "text/plain": [
       "False    8134\n",
       "True     5720\n",
       "Name: ad, dtype: int64"
      ]
     },
     "execution_count": 8,
     "metadata": {},
     "output_type": "execute_result"
    }
   ],
   "source": [
    "df.ad.value_counts()"
   ]
  },
  {
   "cell_type": "code",
   "execution_count": 9,
   "id": "51148ac6",
   "metadata": {},
   "outputs": [],
   "source": [
    "filename = 'ad_summary_test.tsv'"
   ]
  },
  {
   "cell_type": "code",
   "execution_count": 10,
   "id": "38359da9",
   "metadata": {},
   "outputs": [],
   "source": [
    "test_df = pd.read_csv(base_dir+filename, sep='\\t')"
   ]
  },
  {
   "cell_type": "code",
   "execution_count": 11,
   "id": "0f685f3c",
   "metadata": {},
   "outputs": [
    {
     "data": {
      "text/plain": [
       "False    2060\n",
       "True     1404\n",
       "Name: ad, dtype: int64"
      ]
     },
     "execution_count": 11,
     "metadata": {},
     "output_type": "execute_result"
    }
   ],
   "source": [
    "test_df.ad.value_counts()"
   ]
  },
  {
   "cell_type": "code",
   "execution_count": 12,
   "id": "dfaca90f",
   "metadata": {},
   "outputs": [
    {
     "data": {
      "text/plain": [
       "1.422027972027972"
      ]
     },
     "execution_count": 12,
     "metadata": {},
     "output_type": "execute_result"
    }
   ],
   "source": [
    "8134/5720"
   ]
  },
  {
   "cell_type": "code",
   "execution_count": 13,
   "id": "0e8b12b7",
   "metadata": {},
   "outputs": [
    {
     "data": {
      "text/plain": [
       "1.4672364672364673"
      ]
     },
     "execution_count": 13,
     "metadata": {},
     "output_type": "execute_result"
    }
   ],
   "source": [
    "2060/1404"
   ]
  },
  {
   "cell_type": "code",
   "execution_count": null,
   "id": "095f6287",
   "metadata": {},
   "outputs": [],
   "source": []
  }
 ],
 "metadata": {
  "kernelspec": {
   "display_name": "Python 3 (ipykernel)",
   "language": "python",
   "name": "python3"
  },
  "language_info": {
   "codemirror_mode": {
    "name": "ipython",
    "version": 3
   },
   "file_extension": ".py",
   "mimetype": "text/x-python",
   "name": "python",
   "nbconvert_exporter": "python",
   "pygments_lexer": "ipython3",
   "version": "3.9.19"
  }
 },
 "nbformat": 4,
 "nbformat_minor": 5
}
