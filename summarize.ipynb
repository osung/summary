{
 "cells": [
  {
   "cell_type": "code",
   "execution_count": 17,
   "id": "b53a1779",
   "metadata": {},
   "outputs": [],
   "source": [
    "import torch\n",
    "import os\n",
    "import openai"
   ]
  },
  {
   "cell_type": "code",
   "execution_count": 2,
   "id": "a628582e",
   "metadata": {},
   "outputs": [],
   "source": [
    "from transformers import AutoTokenizer, AutoModelForCausalLM, AutoModelForSeq2SeqLM"
   ]
  },
  {
   "cell_type": "code",
   "execution_count": 3,
   "id": "9a1a3863",
   "metadata": {},
   "outputs": [],
   "source": [
    "def get_encode_length(tokenizer, sentence) :\n",
    "    encoded = tokenizer(sentence, padding=True, truncation=False)\n",
    "\n",
    "    return len(encoded.input_ids)"
   ]
  },
  {
   "cell_type": "code",
   "execution_count": 4,
   "id": "f0050d72",
   "metadata": {},
   "outputs": [],
   "source": [
    "def get_encode_data(tokenizer, sentence):\n",
    "    encoded_inputs = tokenizer(sentence, padding=True, truncation=False)\n",
    "    input_ids = torch.tensor(encoded_inputs['input_ids'])\n",
    "    attention_masks = torch.tensor(encoded_inputs['attention_mask'])\n",
    "\n",
    "    return input_ids, attention_masks"
   ]
  },
  {
   "cell_type": "code",
   "execution_count": 5,
   "id": "8fef6f53",
   "metadata": {},
   "outputs": [],
   "source": [
    "def summarize(input_text, tokenizer, model, device, max_tokens=200, min_tokens=100, num_beams=2) :\n",
    "    input_ids = tokenizer.encode(input_text, return_tensors=\"pt\").to(device)\n",
    "\n",
    "    # Generate Summary Text Ids\n",
    "    summary_text_ids = model.generate(\n",
    "        input_ids=input_ids,\n",
    "        bos_token_id=model.config.bos_token_id,\n",
    "        eos_token_id=model.config.eos_token_id,\n",
    "        length_penalty=2.0,\n",
    "        max_new_tokens=max_tokens,\n",
    "        min_new_tokens=min_tokens,\n",
    "        no_repeat_ngram_size=3,\n",
    "        num_beams=num_beams,\n",
    "    )\n",
    "\n",
    "    response = tokenizer.decode(summary_text_ids[0], skip_special_tokens=True)\n",
    "\n",
    "    #print(len(input_text), len(response))\n",
    "\n",
    "    return response"
   ]
  },
  {
   "cell_type": "code",
   "execution_count": 6,
   "id": "69bb300f",
   "metadata": {},
   "outputs": [],
   "source": [
    "def get_model(model_name, device) :\n",
    "    \n",
    "    print(model_name)\n",
    "    \n",
    "    tokenizer = AutoTokenizer.from_pretrained(model_name)\n",
    "    model = AutoModelForSeq2SeqLM.from_pretrained(model_name)\n",
    "    \n",
    "\n",
    "    # parallelization\n",
    "    if torch.cuda.device_count() > 1:\n",
    "        print(f'Using {torch.cuda.device_count()} GPUs.')\n",
    "\n",
    "        model = torch.nn.DataParallel(model)\n",
    "\n",
    "    return model.to(device), tokenizer"
   ]
  },
  {
   "cell_type": "code",
   "execution_count": 7,
   "id": "6f20edd5",
   "metadata": {},
   "outputs": [],
   "source": [
    "def run_summarize(sentence, models, max_tokens=200, min_tokens=100, num_beams=2) :\n",
    "    for model in models :\n",
    "        print('==== ', model[2], ' ===')\n",
    "        response = summarize(sentence, model[1], model[0].module, device, max_tokens, min_tokens, num_beams)\n",
    "        print(response, '\\n')"
   ]
  },
  {
   "cell_type": "code",
   "execution_count": 8,
   "id": "8aa5beb6",
   "metadata": {},
   "outputs": [],
   "source": [
    "os.environ['CURL_CA_BUNDLE'] = '/home/osung/Downloads/kisti_cert.crt'"
   ]
  },
  {
   "cell_type": "code",
   "execution_count": 8,
   "id": "8f2fcb7f",
   "metadata": {},
   "outputs": [],
   "source": [
    "sentence = \"동진섬유는 글로벌 스포츠 브랜드 기업에 신발 원단을 공급하는 강소기업으로, 나이키, 아디다스의 세계 3대 핵심 협력업체 중 한 곳이다.\\\n",
    " MBK파트너스는 연평균 10%에 가까운 전 세계 운동화 시장의 견조한 성장세는 물론, 전 세계 운동화 시장 점유율 45%를 차지하고 점유율을 확대해가고 \\\n",
    "있는 나이키 및 아디다스와 동진섬유와의 30년 이상 된 굳건한 협력 관계, 합성가죽보다는 섬유가 다양한 종류의 운동화에 지배적으로 사용되고 있는 \\\n",
    "추세 등을 긍정적으로 평가해 인수한 것으로 알려졌다.\""
   ]
  },
  {
   "cell_type": "code",
   "execution_count": 9,
   "id": "52f456ad",
   "metadata": {},
   "outputs": [],
   "source": [
    "#model_name = 'chihoonlee10/T3Q-ko-solar-dpo-v6.0'\n",
    "#model_name = 'krevas/SOLAR-10.7B'\n",
    "model_name = 'psyche/KoT5-summarization'\n",
    "#model_name = 'ainize/kobart-news'\n",
    "#model_name = 'noahkim/KoT5_news_summarization'\n",
    "#model_name = 'KETI-AIR-Downstream/long-ke-t5-base-summarization'"
   ]
  },
  {
   "cell_type": "code",
   "execution_count": 10,
   "id": "8ae6c36e",
   "metadata": {},
   "outputs": [
    {
     "name": "stdout",
     "output_type": "stream",
     "text": [
      "available device:  cuda\n"
     ]
    }
   ],
   "source": [
    "if torch.cuda.is_available():\n",
    "    device = torch.device(\"cuda\")\n",
    "    print('available device: ', device)\n",
    "else:\n",
    "    device = torch.device(\"cpu\")\n",
    "    print('available device: ', device)"
   ]
  },
  {
   "cell_type": "code",
   "execution_count": 11,
   "id": "42c0b9a8",
   "metadata": {},
   "outputs": [],
   "source": [
    "model_names = ['ainize/kobart-news', 'noahkim/KoT5_news_summarization', 'psyche/KoT5-summarization', 'KETI-AIR-Downstream/long-ke-t5-base-summarization']"
   ]
  },
  {
   "cell_type": "code",
   "execution_count": 12,
   "id": "839167f1",
   "metadata": {},
   "outputs": [],
   "source": [
    "models = []"
   ]
  },
  {
   "cell_type": "code",
   "execution_count": 13,
   "id": "4a09e7ee",
   "metadata": {},
   "outputs": [
    {
     "name": "stdout",
     "output_type": "stream",
     "text": [
      "ainize/kobart-news\n"
     ]
    },
    {
     "name": "stderr",
     "output_type": "stream",
     "text": [
      "You passed along `num_labels=3` with an incompatible id to label map: {'0': 'NEGATIVE', '1': 'POSITIVE'}. The number of labels wil be overwritten to 2.\n"
     ]
    },
    {
     "name": "stdout",
     "output_type": "stream",
     "text": [
      "Using 2 GPUs.\n",
      "noahkim/KoT5_news_summarization\n",
      "Using 2 GPUs.\n",
      "psyche/KoT5-summarization\n",
      "Using 2 GPUs.\n",
      "KETI-AIR-Downstream/long-ke-t5-base-summarization\n",
      "Using 2 GPUs.\n"
     ]
    }
   ],
   "source": [
    "for model_name in model_names :\n",
    "    model, tokenizer = get_model(model_name, device)\n",
    "    models.append((model, tokenizer, model_name))"
   ]
  },
  {
   "cell_type": "code",
   "execution_count": 14,
   "id": "ea8fabf4",
   "metadata": {},
   "outputs": [
    {
     "data": {
      "text/plain": [
       "4"
      ]
     },
     "execution_count": 14,
     "metadata": {},
     "output_type": "execute_result"
    }
   ],
   "source": [
    "len(models)"
   ]
  },
  {
   "cell_type": "code",
   "execution_count": 25,
   "id": "468c730d",
   "metadata": {},
   "outputs": [
    {
     "data": {
      "text/plain": [
       "'MBK파트너스는 글로벌 스포츠 브랜드 기업에 신발 원단을 공급하는 강소기업인 동진섬유의 성장세와 확고한 협력 관계, 섬유가 다양한 종류의 운동화에 지배적으로 사용되고 있는 추세 등을 긍정적으로 평가해 인수한 것으로 알려졌다. MBK파트너스 관계자는 전 세계 운동화 시장의 견조한 성장세는 물론, 나이키 및 아디다스와 30년 이상 된 굳건한 협력관계, 합성가죽보다는 섬유의 다양한 종류에 지배적인 사용 추세 등 긍정적인 평가로 인수를 결정했다고 밝혔다.'"
      ]
     },
     "execution_count": 25,
     "metadata": {},
     "output_type": "execute_result"
    }
   ],
   "source": [
    "summarize(sentence, models[0][1], models[0][0].module, device)"
   ]
  },
  {
   "cell_type": "code",
   "execution_count": 15,
   "id": "27a17ab2",
   "metadata": {},
   "outputs": [
    {
     "name": "stdout",
     "output_type": "stream",
     "text": [
      "====  ainize/kobart-news  ===\n",
      "동진섬유는 글로벌 스포츠 브랜드 기업에 신발 원단을 공급하는 강소기업으로, 나이키, 아디다스의 세계 3대 핵심 협력업체 중 한 곳인데,  MBK파트너스는 연평균 10%에 가까운 전 세계 운동화 시장의 견조한 성장세는 물론,  30년 이상 된 굳건한 협력 관계, 합성가죽보다는 섬유가 다양한 종류의 운동화에 지배적으로 사용되고 있는 추세 등을 긍정적으로 평가해 동진 섬유를 인수한 것으로 알려졌다.   \n",
      " , . 꽁트 \n",
      "\n",
      "====  noahkim/KoT5_news_summarization  ===\n",
      "MBK파트너스는 연평균 10%에 가까운 전 세계 운동화 시장의 견조한 성장세는 물론 나이키, 아디다스와 동진섬유와의 30년 이상 된 굳건한 협력 관계 등을 긍정적으로 평가해 인수했으며 합성가죽보다는 섬유가 다양한.. 종류의.신발화에.지배적.으로.사용되고 있는 추세 등이 장점인 MCK 파트너스를 2020년까지 총 4개 계열사로 확대할 계획이라고 밝혔다. \n",
      "\n",
      "====  psyche/KoT5-summarization  ===\n",
      "MBK파트너스는 글로벌 스포츠 브랜드 기업에 신발 원단을 공급하는 강소기업인 동진섬유의 성장세와 확고한 협력 관계, 섬유가 다양한 종류의 운동화에 지배적으로 사용되고 있는 추세 등을 긍정적으로 평가해 인수한 것으로 알려졌다. MBK파트너스 관계자는 전 세계 운동화 시장의 견조한 성장세는 물론, 나이키 및 아디다스와 30년 이상 된 굳건한 협력관계, 합성가죽보다는 섬유의 다양한 종류에 지배적인 사용 추세 등 긍정적인 평가로 인수를 결정했다고 밝혔다. \n",
      "\n",
      "====  KETI-AIR-Downstream/long-ke-t5-base-summarization  ===\n"
     ]
    },
    {
     "name": "stderr",
     "output_type": "stream",
     "text": [
      "/home/osung/anaconda3/lib/python3.9/site-packages/transformers/modeling_utils.py:838: FutureWarning: The `device` argument is deprecated and will be removed in v5 of Transformers.\n",
      "  warnings.warn(\n"
     ]
    },
    {
     "name": "stdout",
     "output_type": "stream",
     "text": [
      "동진섬유는 글로벌 스포츠 브랜드 기업에 신발 원단을 공급하는 강소기업으로, 나이키, 아디다스의 세계 3대 핵심 협력업체 중 한 곳이며, 30년 이상 된 굳건한 협력 관계, 섬유가 다양한 종류의 운동화에 지배적으로 사용되고 있는 추세 등을 긍정적 평가해 인수한 것으로 알려졌다.. 이들의 인수는 전 세계 운동화 시장의 성장세는 물론, 점유율을 확대해가는 중이다 \n",
      "\n"
     ]
    }
   ],
   "source": [
    "for model in models :\n",
    "    print('==== ', model[2], ' ===')\n",
    "    response = summarize(sentence, model[1], model[0].module, device)\n",
    "    print(response, '\\n')"
   ]
  },
  {
   "cell_type": "code",
   "execution_count": 17,
   "id": "a55f1eb2",
   "metadata": {},
   "outputs": [],
   "source": [
    "sentence = '정부가 19일 의과대학 정원 증원 규모를 조정할 수 있도록 해달라는 국립대 총장들의 건의를 적극 수용, 그간 고수했던 2000명 정원 축소에 나선다.\\\n",
    "이날 오후 정부서울청사에서 한덕수 국무총리 주재로 열리는 중앙재난안전대책본부(중대본) 회의에서 이같은 결정을 논의·발표할 예정이다. \\\n",
    "대통령실 고위 관계자는 이날 아시아경제에 \"의대 증원 2000명에 대해서는 숫자에 매몰되지 않고 탄력적으로 생각을 할 수 있다\"면서 \\\n",
    "\"내년 입학전형 일정이 얼마 남지 않았기 때문에 빨리 결정을 해야 한다\"고 밝혔다. \\\n",
    "앞서 강원대·경북대·경상국립대·충남대·충북대·제주대 등 6개 거점 국립대 총장은 전날 대학별로 의대 증원분의 50~100% 범위에서 자율적으로 \\\n",
    "2025학년도 신입생을 모집할 수 있게 해달라는 건의문을 교육부에 보냈다. 자율성을 보장해달라는 의견으로 사실상 축소 가능성을 열어달라는 의견인 \\\n",
    "것으로 풀이된다. 이에 대해 대통령실 관계자는 \"의대가 있는 국립대 총장들이 합리적으로 생각해볼 수 있는 안을 가져온 것이니 긍정적으로 검토하고 \\\n",
    "있다\"면서 \"자율성을 드리는 형태로 의대증원의 취지는 살릴 수 있는 안\"이라고 말했다. 특히 이 관계자는 이달 말까지 대학이 내년 대입전형 시행계획을 \\\n",
    "한국대학교육협의회에 제출해야 하는 상황으로 시일이 촉박한 만큼 빠른 결정이 필요하다는 입장을 표명했다. 의정 갈등이 해법을 모색하지 못하는 상황이 \\\n",
    "지속될 경우 수험생 혼란만 커질 수 있기 때문이다. 대통령실 관계자는 \"(대입전형 시행계획) 마지노선이 상당히 가까워지고 있고 지금이 \\\n",
    "(의대증원 규모를) 무리 없이 조정할 수 있는 시기이기 때문에 (더 늦기 전에) 빨리 해드리긴 해야한다\"면서 \"중대본에서 결정할 것으로 보인다\"고 \\\n",
    "설명했다. 이어 \"의료계에 단일안을 계속 요청했지만 0명 혹은 원점 재논의를 요청하는 상황이라 이를 수용할 수는 없다\"면서 \"이런 시점에서 국립대 \\\n",
    "총장들이 합리적인 안을 가져온 것이므로 긍정적으로 생각한다\"고 덧붙였다.'"
   ]
  },
  {
   "cell_type": "code",
   "execution_count": 18,
   "id": "0a824486",
   "metadata": {},
   "outputs": [
    {
     "name": "stdout",
     "output_type": "stream",
     "text": [
      "====  ainize/kobart-news  ===\n",
      "정부가과대학 정원 증원 규모를 조정할 수 있도록 해달라는 국립대 총장들의 건의를 적극 수용, 그간 고수했던 2000명 정원 축소에 나선 대통령실 고위 관계자는 이날 아시아경제에 탄력적으로 생각을 할 수 있다며  \"내년 입학전형 일정이 얼마 남지 않았기 때문에 빨리 결정을 해야 한다\"고 밝혔고 특히 이 관계자는 이달 말까지 대학이 내년 대입전형 시행계획을 한국대학교육협의회에 제출해야 하는 상황으로 시일이 촉박한 만큼 빠른 결정이 필요하다는 입장을 표명 표명했통신다. \n",
      "\n",
      "====  noahkim/KoT5_news_summarization  ===\n",
      "대통령실 고위 관계자는 19일 의과대학 정원 증원 규모를 조정할 수 있도록 해달라는 국립대 총장들의 요청을 적극 수용, 그간 고수했던 2000명 인원 축소에 나서며 이날 오후 정부서울청사에서 한덕수 국무총리 주재로 열리는 중앙재난안전대책본부(중대본) 회의에서이같은 결정을논의·발표하고 내년 입학전형 일정이 얼마 남지 않은 만큼 빨리 결단을해야 한다고 밝혔다. \n",
      "\n",
      "====  psyche/KoT5-summarization  ===\n",
      "정부가 19일 의과대학 정원 증원 규모를 조정할 수 있도록 해달라는 국립대 총장들의 건의를 적극 수용, 그간 고수했던 2000명 정원 축소에 나서며 이날 오후 정부서울청사에서 한덕수 국무총리 주재로 열리는 중앙재난안전대책본부(중대본) 회의에서 이같은 결정을 논의·발표할 예정이다. 대통령실 고위 관계자는 이날 아시아경제에 \"의대 증원에 대해서는 숫자에 매몰되지 않고 탄력적으로 생각을 할 수 있다\"면서 \"내년 입학전형 일정이 얼마 남지 않았기 때문에 빨리 결정을 해야 한다\"고 밝혔다. \n",
      "\n",
      "====  KETI-AIR-Downstream/long-ke-t5-base-summarization  ===\n",
      "정부가 19일 의과대학 정원 증원 규모를 조정할 수 있도록 해달라는 국립대 총장들의 건의를 적극 수용, 그간 고수했던 2000명 정원 축소에 나서며, 대통령실 고위 관계자는 이날 아시아경제에 \"의대 증원2000명에 대해서는 숫자에 매몰되지 않고 탄력적으로 생각을 할수 있다\"면서 내년 입학전형 일정이 얼마 남지않았기 때문에 빨리 결정을 해야 한다\"고 밝혔다. \n",
      "\n"
     ]
    }
   ],
   "source": [
    "run_summarize(sentence, models)"
   ]
  },
  {
   "cell_type": "code",
   "execution_count": 15,
   "id": "f11ce2ff",
   "metadata": {},
   "outputs": [],
   "source": [
    "sentence = \" 고금리·고환율·고유가 등 이른바 3고(高) 우려가 다시 불거지면서 19일 장 중 코스피·코스닥지수가 약세를 보이고 있다. \\\n",
    "특히 세계 최대 파운드리(반도체 위탁생산) 업체인 대만 TSMC가 반도체 성장 전망치를 낮추자, 삼성전자와 SK하이닉스 등 반도체 업종 주가가 꺾이면서 \\\n",
    "지수 하락 폭을 키우고 있다. 코스피지수는 이날 오전 11시 4분 기준 2566.77이다. 전날보다 67.93포인트(2.58%) 하락했다. \\\n",
    "지난 1월 이후 가장 낮은 수준이다. 유가증권시장에서 기관과 외국인이 각각 6712억원, 2743억원 ‘팔자’에 나서며 지수를 끌어내렸다. \\\n",
    "개인만 9123억원 순매수 중이다. 유가증권시장 대장주인 삼성전자와 SK하이닉스가 각각 3%, 5% 이상 약세를 보이고 있다. \\\n",
    "업종 중에서도 반도체와 반도체장비의 하락률이 3.8%로 컸다. TSMC가 전날 올해 1분기 실적 발표 후 컨퍼런스콜에서 올해 메모리 반도체를 제외한 \\\n",
    "전체 반도체 시장 성장률 전망치를 기존 ‘10% 이상’에서 10%로 낮춘 영향으로 보인다. 김석환 미래에셋증권 연구원은 “TSMC가 반도체 업황을 하향 \\\n",
    "조정한 여파로 밤사이 미국 증시에서 반도체 관련 종목군의 약세가 뚜렷했다”며 “한국 증시에서도 관련 종목군의 주가 약세가 지수 하락을 주도하고 있다” \\\n",
    "고 했다. 같은 시각 코스닥지수도 24.47포인트(2.86%) 내린 831.18을 기록했다. 전날 상승분을 모두 반납했다. 코스닥시장에서도 외국인과 기관이 \\\n",
    "3185억원, 330억원을 순매도하고 있다. 개인만 3577억원 매수 우위를 보이고 있으나 지수를 방어하기엔 벅찬 상황이다. 에코프로비엠을 비롯한 \\\n",
    "코스닥시장 시가총액 상위 종목 주식 대부분이 전날보다 낮은 가격에 거래 중이다. 미국 국채 2년물 금리가 5%에 육박하는 가운데 외환 당국의 \\\n",
    "구두개입으로 주춤했던 환율도 하루 만에 반등했다. 서울 외환시장에서 미국 달러 대비 원화(원·달러) 환율은 이날 오전 1390원선을 다시 넘어섰다. \\\n",
    "중동 정세 불안으로 국제 유가도 뛰었다. 이스라엘이 계획 중인 가자지구 남단 라파 지상전을 두고 미국 백악관은 민간인 피해 가능성을 여전히 \\\n",
    "우려하지만, 팔레스타인 무장 정파 하마스를 격퇴한다는 공동의 목표에 합의했다고 발표했다. 이어 이스라엘이 이란 본토를 미사일로 공격했다는 보도도 \\\n",
    "나왔다. 미국 서부텍사스원유(WTI) 5월물과 브렌트유 6월물 모두 현재 3%대 오름세를 보이고 있다.\" "
   ]
  },
  {
   "cell_type": "code",
   "execution_count": 16,
   "id": "83030dbe",
   "metadata": {},
   "outputs": [
    {
     "name": "stdout",
     "output_type": "stream",
     "text": [
      "====  ainize/kobart-news  ===\n",
      "파금리·고환율·고유가 등 이른바 3고(高) 우려가 다시 불거지면서 19일 장 중 코스피·코스닥지수가 약세를 보여, 특히 세계 최대 파운드리(반도체 위탁생산) 업체인 대만 TSMC가 반도체 성장 전망치를 낮추자, 삼성전자와 SK하이닉스 등 반도체 업종 주가가 꺾이면서 지수 하락 폭을 키우고 있고, 이에 따라 유가증권시장에서 기관과 외국인이 각각 6712억원, 2743억원 ‘팔자’에 나서며 지수를 끌어내렸다. \n",
      "\n",
      "====  noahkim/KoT5_news_summarization  ===\n",
      "19일 장 중 세계 최대 파운드리 업체인 대만 TSMC가 반도체 성장 전망치를 낮추자 반도체와 반도체장비의 하락률이 3.8%로 커지면서 코스피·코스닥지수가 약세를 보이고 있으며, 특히 고금리·고환율·저유가 등 이른바 3고 우려가 다시 불거지면서 19일장중 코스피와 코스닥지수는 약세 폭을 키우고 있다. \n",
      "\n",
      "====  psyche/KoT5-summarization  ===\n",
      "세계 최대 파운드리(반도체 위탁생산) 업체인 대만 TSMC가 반도체 성장 전망치를 낮추자, 삼성전자와 SK하이닉스 등 반도체 업종 주가가 꺾이면서 19일 장 중 코스피·코스닥지수가 약세를 보이고 있다. 유가증권시장에서 기관과 외국인이 각각 6712억원, 2743억원 팔자에 나서며 지수를 끌어내렸고 유가증권시장 대장주인 삼성전자와SK하이닉스가 각각 3%, 5% 이상 약세를 나타내고 있다. 코스피지수는 이날 오전 11시 4분 기준 2566.77이다. \n",
      "\n",
      "====  KETI-AIR-Downstream/long-ke-t5-base-summarization  ===\n"
     ]
    },
    {
     "name": "stderr",
     "output_type": "stream",
     "text": [
      "/home/osung/anaconda3/lib/python3.9/site-packages/transformers/modeling_utils.py:838: FutureWarning: The `device` argument is deprecated and will be removed in v5 of Transformers.\n",
      "  warnings.warn(\n"
     ]
    },
    {
     "name": "stdout",
     "output_type": "stream",
     "text": [
      "세계 최대 파운드리 업체인 대만 TSMC가 반도체 성장 전망치를 낮추자, 삼성전자와 SK하이닉스 등 반도체 업종 주가가 꺾이면서 19일 장 중 코스피·코스닥지수가 약세를 보이고 있으며, 특히 코스피지수는 이날 오전 11시 4분 기준 2566.77로 전날보다 67.93포인트(2.57%) 하락한 것으로 나타났다.. 김석환 미래에셋증권 연구원은 “TSMC의 반도체 업황 하향 조정 여파로 밤사이 미국 증시에서 반도체 관련 종목군의 약세가 뚜렷했다”며 “한국 증시에서도 관련 종목 군의 주가 약세가 지수 하락을 주도하고 있다” 고 했다. \n",
      "\n"
     ]
    }
   ],
   "source": [
    "run_summarize(sentence, models)"
   ]
  },
  {
   "cell_type": "code",
   "execution_count": 22,
   "id": "67f07b75",
   "metadata": {},
   "outputs": [
    {
     "name": "stdout",
     "output_type": "stream",
     "text": [
      "====  ainize/kobart-news  ===\n",
      "파금리·고환율·고유가 등 이른바 3고(高) 우려가 다시 불거지면서 19일 장 중 코스피·코스닥지수가 약세를 보이고 있는 가운데 특히 세계 최대 파운드리(반도체 위탁생산) 업체인 대만 TSMC가 반도체 성장 전망치를 낮추자 삼성전자와 SK하이닉스 등 반도체 업종 주가가 꺾이면서 지수 하락 폭을 키우고 있으며 같은 시각 코스닥지수도 24.47포인트(2.86%) 내린 831.18을 기록했다.   \n",
      "중동 정세 불안으로 국제 유가도 뛰었다.. . 이스라엘이 계획 중인 가자지구 남단 라파 지상전을 두고 미국 백악관은 민간인 피해 가능성을 여전히 우려하지만, 팔레스타인 무장 정파 하마스를 격퇴한다는 공동의 목표에 합의했다고 발표했다. \n",
      ".이루워즈(왼쪽(왼쪽 전력 전력에 베트남이 이란 본토를 미사일로 공격했다는 보도도 나왔다. \n",
      "\n",
      "이 방송뉴스를 삭제하라고 주장했다.(왼쪽목소리란에 게재했다고 보도했다.\n",
      "\n",
      ". \n",
      "\n",
      "====  noahkim/KoT5_news_summarization  ===\n",
      "19일 장 중 세계 최대 파운드리 업체인 대만 TSMC가 반도체 성장 전망치를 낮추자, 삼성전자와 SK하이닉스 등 이른바 3고 우려로 인해 코스피지수는 전날보다 67.93포인트(2.58%) 하락하며 약세를 보이고 있으며 이는 지난 1월 이후 가장 낮은 수준으로 유가증권시장에서 기관과 외국인이 각각 7712억원 ‘팔자'에 나서며 지수 상승을 주도하고 있는 가운데 코스닥시장 시가총액 상위 종목 주식 대부분은 이날 낮 12시 4분 기준 2566.76이다. 이에 대해 김석환 미래에셋증권 연구원은 미국 달러 대비 원화(원·달러)의 환율은,전날 오전 1390원선이 다시 넘어섰다고 밝혔다. \n",
      "\n",
      "====  psyche/KoT5-summarization  ===\n",
      "세계 최대 파운드리(반도체 위탁생산) 업체인 대만 TSMC가 반도체 성장 전망치를 낮추자, 삼성전자와 SK하이닉스 등 반도체 업종 주가가 꺾이면서 19일 장 중 코스피·코스닥지수가 약세를 보이고 있다. 유가증권시장에서 기관과 외국인이 각각 6712억원, 2743억원 팔자에 나서며 지수를 끌어내렸고, 같은 시각 코스닥지수도 24.47포인트(2.86%) 내린 831.18을 기록했다. 중동 정세 불안으로 국제 유가도 뛰었다. 이스라엘이 계획 중인 가자지구 남단 라파 지상전을 두고 미국 백악관은 민간인 피해 가능성을 여전히 우려하지만, 팔레스타인 무장 정파 하마스를 격퇴한다는 공동의 목표에 합의했다고 발표했고, 이어 이란 본토를 미사일로 공격했다는 보도도 나왔다. 미국 서부텍사스원유(WTI) 5월물과 브렌트유 6월물 모두 현재 3%대 오름세를 보이는 등 3고() 우려가 다시 불거지면서 코스피, 코스닥지수는 약세이다. \n",
      "\n",
      "====  KETI-AIR-Downstream/long-ke-t5-base-summarization  ===\n",
      "19일 장 중 세계 최대 파운드리 업체인 대만 TSMC가 반도체 성장 전망치를 낮추자, 삼성전자와 SK하이닉스의 주가가 꺾이면서 코스피지수가 전날보다 67.93포인트 하락하며 약세를 보이고 있는 가운데, 김석환 미래에셋증권 연구원은 TSCM가 하향 조정한 여파로 밤사이 미국 증시에서 관련 종목군의 약세가 뚜렷했다며 한국 증시에서도 관련종목의 주가의 하락이 지수 하락을 주도하고 있다고 밝혔으며, 코스닥시장 시가총액 상위 종목 주식 대부분이 낮은 가격에 거래 중이라고 전했다. 이에 따라 미국 국채 2년물 금리가 5%에 육박하는 상황에서 외환 당국의 구두개입으로 주춤했던 환율도 하루 만에 반등한 것으로 나타났다. '.' \". 미국 서부텍사스원유(WTI) 5월물과 브렌트유 6월 물 모두 현재 3%대 오름세를 보인다\"고 한다. \n",
      "\n"
     ]
    }
   ],
   "source": [
    "run_summarize(sentence, models)"
   ]
  },
  {
   "cell_type": "code",
   "execution_count": 24,
   "id": "08ab6304",
   "metadata": {},
   "outputs": [
    {
     "name": "stdout",
     "output_type": "stream",
     "text": [
      "====  ainize/kobart-news  ===\n",
      "파금리·고환율·고유가 등 이른바 3고(高) 우려가 다시 불거지면서 19일 장 중 코스피·코스닥지수가 약세를 보여, 특히 세계 최대 파운드리(반도체 위탁생산) 업체인 대만 TSMC가 반도체 성장 전망치를 낮추자, 삼성전자와 SK하이닉스 등 반도체 업종 주가가 꺾이면서 지수 하락 폭을 키우고 있고, 이에 따라 유가증권시장에서 기관과 외국인이 각각 6712억원, 2743억원 ‘팔자’에 나서며 지수를 끌어내렸다. \n",
      "\n",
      "====  noahkim/KoT5_news_summarization  ===\n",
      "19일 장 중 세계 최대 파운드리 업체인 대만 TSMC가 반도체 성장 전망치를 낮추자 삼성전자와 SK하이닉스 등 이른바 3고 우려로 인해 코스피·코스닥지수는 약세를 보이고 있으며, 유가증권시장에서 기관과 외국인이 각각 6712억원 ‘팔자'에 나서며 지수 하락 폭을 키우고 있고 같은 시각 코스닥지수도 24.47포인트(2.86%) 내린 831.18으로 이날 오전 11시 4분 기준 2566.77이다. 이에 대해 김석환 미래에셋증권 연구원은 글로벌 금융위기 이후 가장 낮은 수준의 증시 변동성이 지속되고 있다고 분석했다. \n",
      "\n",
      "====  psyche/KoT5-summarization  ===\n",
      "세계 최대 파운드리(반도체 위탁생산) 업체인 대만 TSMC가 반도체 성장 전망치를 낮추자, 삼성전자와 SK하이닉스 등 반도체 업종 주가가 꺾이면서 19일 장 중 코스피·코스닥지수가 약세를 보이고 있다. 유가증권시장에서 기관과 외국인이 각각 6712억원, 2743억원 팔자에 나서며 지수를 끌어내렸고, 같은 시각 코스닥지수도 24.47포인트(2.86%) 내린 831.18을 기록했다. 중동 정세 불안으로 국제 유가도 뛰었다. 이스라엘이 계획 중인 가자지구 남단 라파 지상전을 두고 미국 백악관은 민간인 피해 가능성을 여전히 우려하지만, 팔레스타인 무장 정파 하마스를 격퇴한다는 공동의 목표에 합의했다고 발표했다. \n",
      "\n",
      "====  KETI-AIR-Downstream/long-ke-t5-base-summarization  ===\n",
      "3고(高) 우려가 다시 불거지면서 19일 장 중 코스피·코스닥지수가 약세를 보이고 있는데, 특히 세계 최대 파운드리(반도체 위탁생산) 업체인 대만 TSMC가 반도체 성장 전망치를 낮추자, 삼성전자와 SK하이닉스 등의 업종 주가가 꺾이면서 지수 하락 폭을 키우는 가운데, 김석환 미래에셋증권 연구원은 “TSCM의 하향 조정 여파로 밤사이 미국 증시에서 관련 종목군의 약세가 뚜렷했다”고 밝혔다. \n",
      "\n"
     ]
    }
   ],
   "source": [
    "run_summarize(sentence, models)"
   ]
  },
  {
   "cell_type": "code",
   "execution_count": 28,
   "id": "c88503bb",
   "metadata": {},
   "outputs": [
    {
     "name": "stdout",
     "output_type": "stream",
     "text": [
      "====  ainize/kobart-news  ===\n",
      "파금리·고환율·고유가 등 이른바 3고(高) 우려가 다시 불거지면서 19일 장 중 코스피·코스닥지수가 약세를 보이고 있는 가운데 특히 세계 최대 파운드리(반도체 위탁생산) 업체인 대만 TSMC가 반도체 성장 전망치를 낮추자 삼성전자와 SK하이닉스 등 반도체 업종 주가가 꺾이면서 지수 하락 폭을 키우고 있으며 같은 시각 코스닥지수도 24.47포인트(2.86%) 내린 831.18을 기록했다.   \n",
      "중동 정세 불안으로 국제 유가도 뛰었다. \n",
      "\n",
      "====  noahkim/KoT5_news_summarization  ===\n",
      "19일 장 중 세계 최대 파운드리 업체인 대만 TSMC가 반도체 성장 전망치를 낮추자 삼성전자와 SK하이닉스 등 이른바 3고(高) 우려로 인해 코스피·코스닥지수가, 전날보다 67.93포인트 하락하며 약세를 보이고 있다. 이에 대해 김석환 미래에셋증권 연구원은 “TCM이 올해 1분기 실적 발표 후 컨퍼런스콜에서 올 메모리 및 낸드플래시 시장 전체 경기 둔화 가능성을 반영해 글로벌 증시 변동성이 확대될 것으로 예상된다 고 말했다. \n",
      "\n",
      "====  psyche/KoT5-summarization  ===\n",
      "세계 최대 파운드리(반도체 위탁생산) 업체인 대만 TSMC가 반도체 성장 전망치를 낮추자, 삼성전자와 SK하이닉스 등 반도체 업종 주가가 꺾이면서 19일 장 중 코스피·코스닥지수가 약세를 보이고 있다. 유가증권시장에서 기관과 외국인이 각각 6712억원, 2743억원 팔자에 나서며 지수를 끌어내렸다. 코스피지수는 이날 오전 11시 4분 기준 2566.77이며 전날보다 67.93포인트(2.58%) 하락했다. \n",
      "\n",
      "====  KETI-AIR-Downstream/long-ke-t5-base-summarization  ===\n",
      "세계 최대 파운드리 업체인 대만 TSMC가 반도체 성장 전망치를 낮추자, 삼성전자와 SK하이닉스 등의 업종 주가가 꺾이면서 19일 장 중 코스피·코스닥지수가 약세를 보이고 있다.. 김석환 미래에셋증권 연구원은 TSCM가 하향 조정한 여파로 밤사이 미국 증시에서 반반도체 관련 종목군의 약세가 뚜렷했다며 한국 증시에서도 관련종목의 주가 약세의 영향으로 지수 하락을 주도하고 있다고 밝혔으며, 코스닥시장 시가총액 상위 종목 주식 대부분이 전날보다 낮은 가격에 거래 중이다 \n",
      "\n"
     ]
    }
   ],
   "source": [
    "run_summarize(sentence, models) # num_beams=2"
   ]
  },
  {
   "cell_type": "code",
   "execution_count": 32,
   "id": "ee1cc452",
   "metadata": {},
   "outputs": [
    {
     "name": "stdout",
     "output_type": "stream",
     "text": [
      "====  ainize/kobart-news  ===\n",
      "파금리·고환율·고유가 등 이른바 3고(高) 우려가 다시 불거지면서 19일 장 중 코스피·코스닥지수가 약세를 보이고 있는 가운데 특히 세계 최대 파운드리(반도체 위탁생산) 업체인 대만 TSMC가 반도체 성장 전망치를 낮추자 삼성전자와 SK하이닉스 등 반도체 업종 주가가 꺾이면서 지수 하락 폭을 키우고 있으며 같은 시각 코스닥지수도 24.47포인트(2.86%) 내린 831.18을 기록했다.   \n",
      "중동 정세 불안으로 국제 유가도 뛰었다. \n",
      "\n",
      "====  noahkim/KoT5_news_summarization  ===\n",
      "19일 장 중 세계 최대 파운드리 업체인 대만 TSMC가 반도체 성장 전망치를 낮추자, 삼성전자와 SK하이닉스 등 이른바 3고 우려로 인해 코스피지수는 전날보다 67.93포인트(2.58%) 하락하며 약세를 보이고 있으며 이는 지난 1월 이후 가장 낮은 수준이다. \n",
      "\n",
      "====  psyche/KoT5-summarization  ===\n",
      "세계 최대 파운드리(반도체 위탁생산) 업체인 대만 TSMC가 반도체 성장 전망치를 낮추자, 삼성전자와 SK하이닉스 등 반도체 업종 주가가 꺾이면서 19일 장 중 코스피·코스닥지수가 약세를 보이고 있다. 유가증권시장에서 기관과 외국인이 각각 6712억원, 2743억원 팔자에 나서며 지수를 끌어내렸고, 같은 시각 코스닥지수도 24.47포인트(2.86%) 내린 831.18을 기록했다. 중동 정세 불안으로 국제 유가도 뛰었다. \n",
      "\n",
      "====  KETI-AIR-Downstream/long-ke-t5-base-summarization  ===\n",
      "19일 장 중 세계 최대 파운드리 업체인 대만 TSMC가 반도체 성장 전망치를 낮추자, 삼성전자와 SK하이닉스의 주가가 꺾이면서 코스피지수가 전날보다 67.93포인트 하락하며 약세를 보이고 있는 가운데, 김석환 미래에셋증권 연구원은 TSCM가 하향 조정한 여파로 밤사이 미국 증시에서 관련 종목군의 약세가 뚜렷했다며 한국 증시에서도 관련종목의 주가의 하락이 지수 하락을 주도하고 있다고 밝혔다. \n",
      "\n"
     ]
    }
   ],
   "source": [
    "run_summarize(sentence, models, num_beams=4)"
   ]
  },
  {
   "cell_type": "code",
   "execution_count": 33,
   "id": "91b126b3",
   "metadata": {},
   "outputs": [
    {
     "name": "stdout",
     "output_type": "stream",
     "text": [
      "====  ainize/kobart-news  ===\n",
      "파금리·고환율·고유가 등 이른바 3고(高) 우려가 다시 불거지면서 19일 장 중 코스피·코스닥지수가 약세를 보여, 특히 세계 최대 파운드리(반도체 위탁생산) 업체인 대만 TSMC가 반도체 성장 전망치를 낮추자, 삼성전자와 SK하이닉스 등 반도체 업종 주가가 꺾이면서 지수 하락 폭을 키우고 있고, 이에 따라 유가증권시장에서 기관과 외국인이 각각 6712억원, 2743억원 ‘팔자’에 나서며 지수를 끌어내렸다. \n",
      "\n",
      "====  noahkim/KoT5_news_summarization  ===\n",
      "19일 장 중 세계 최대 파운드리 업체인 대만 TSMC가 반도체 성장 전망치를 낮추는 등 이른바 3고(高) 우려로 인해 코스피지수는 전날보다 67.93포인트 하락하여 지난 1월 이후 가장 낮은 수준을 보이고 있으며 유가증권시장 대장주인 삼성전자와 SK하이닉스의 주가 약세도 지수를 방어하기엔 벅찬 상황이다. 이에 김석환 미래에셋증권 연구원은 “글로벌 경기 둔화 가능성이 커지고 있는 가운데 미국 달러 대비 원화 환율은 이날 오전 1390원선에서 다시 반등했다\"고 말했다. \n",
      "\n",
      "====  psyche/KoT5-summarization  ===\n",
      "세계 최대 파운드리(반도체 위탁생산) 업체인 대만 TSMC가 반도체 성장 전망치를 낮추자, 삼성전자와 SK하이닉스 등 반도체 업종 주가가 꺾이면서 19일 장 중 코스피·코스닥지수가 약세를 보이고 있다. 유가증권시장에서 기관과 외국인이 각각 6712억원, 2743억원 팔자에 나서며 지수를 끌어내렸고, 같은 시각 코스닥지수도 24.47포인트(2.86%) 내린 831.18을 기록했다. 중동 정세 불안으로 국제 유가도 뛰었다. 이스라엘이 계획 중인 가자지구 남단 라파 지상전을 두고 미국 백악관은 민간인 피해 가능성을 여전히 우려하지만, 팔레스타인 무장 정파 하마스를 격퇴한다는 공동의 목표에 합의했다고 발표했다. \n",
      "\n",
      "====  KETI-AIR-Downstream/long-ke-t5-base-summarization  ===\n",
      "3고(高) 우려가 다시 불거지면서 19일 장 중 코스피·코스닥지수가 약세를 보이고 있는데, 특히 세계 최대 파운드리(반도체 위탁생산) 업체인 대만 TSMC가 반도체 성장 전망치를 낮추자, 삼성전자와 SK하이닉스 등의 업종 주가가 꺾이면서 지수 하락 폭을 키우는 가운데, 김석환 미래에셋증권 연구원은 “TSCM가 하향 조정한 여파로 밤사이 미국 증시에서 관련 종목군의 약세가 뚜렷했다”고 밝혔다. \n",
      "\n"
     ]
    }
   ],
   "source": [
    "run_summarize(sentence, models, num_beams=10)"
   ]
  },
  {
   "cell_type": "code",
   "execution_count": 46,
   "id": "ae4604f6",
   "metadata": {},
   "outputs": [],
   "source": [
    "def summarize2(input_text, tokenizer, model, device, max_tokens=200, min_tokens=100, num_beams=2) :\n",
    "    input_ids = tokenizer.encode(input_text, return_tensors=\"pt\").to(device)\n",
    "\n",
    "    # Generate Summary Text Ids\n",
    "    summary_text_ids = model.generate(\n",
    "        input_ids=input_ids,\n",
    "        bos_token_id=model.config.bos_token_id,\n",
    "        eos_token_id=model.config.eos_token_id,\n",
    "        length_penalty=2.0,\n",
    "        max_new_tokens=max_tokens,\n",
    "        min_new_tokens=min_tokens,\n",
    "        #no_repeat_ngram_size=3,\n",
    "        num_beams=num_beams,\n",
    "        num_return_sequences=2\n",
    "    )\n",
    "\n",
    "    response = tokenizer.decode(summary_text_ids[0], skip_special_tokens=True)\n",
    "\n",
    "    #print(len(input_text), len(response))\n",
    "\n",
    "    return response"
   ]
  },
  {
   "cell_type": "code",
   "execution_count": 47,
   "id": "9417ae3b",
   "metadata": {},
   "outputs": [
    {
     "data": {
      "text/plain": [
       "'파금리·고환율·고유가 등 이른바 3고(高) 우려가 다시 불거지면서 19일 장 중 코스피·코스닥지수가 약세를 보이고 있는 가운데 특히 세계 최대 파운드리(반도체 위탁생산) 업체인 대만 TSMC가 반도체 성장 전망치를 낮추자, 삼성전자와 SK하이닉스 등 반도체 업종 주가가 꺾이면서 지수 하락 폭을 키우고 있으며 세계 최대 파운드리(반도체 위탁생산) 업체인 대만 TSMC가 반도체 성장 전망치를 낮추자, 삼성전자와 SK하이닉스 등 반도체 업종 주가가 꺾이면서 지수 하락 폭을 키우고 있고 업종 중에서도 반도체와 반도체장비의 하락률이 3.8%로 컸다.'"
      ]
     },
     "execution_count": 47,
     "metadata": {},
     "output_type": "execute_result"
    }
   ],
   "source": [
    "summarize2(sentence, models[0][1], models[0][0].module, device, num_beams=8)"
   ]
  },
  {
   "cell_type": "code",
   "execution_count": 51,
   "id": "85d5368a",
   "metadata": {},
   "outputs": [
    {
     "name": "stdout",
     "output_type": "stream",
     "text": [
      "====  ainize/kobart-news  ===\n",
      "파금리·고환율·고유가 등 이른바 3고(高) 우려가 다시 불거지면서 19일 장 중 코스피·코스닥지수가 약세를 보이고 있는 가운데 특히 세계 최대 파운드리(반도체 위탁생산) 업체인 대만 TSMC가 반도체 성장 전망치를 낮추자, 삼성전자와 SK하이닉스 등 반도체 업종 주가가 꺾이면서 지수 하락 폭을 키우고 있으며 세계 최대 파운드리(반도체 위탁생산) 업체인 대만 TSMC가 반도체 성장 전망치를 낮추자, 삼성전자와 SK하이닉스 등 반도체 업종 주가가 꺾이면서 지수 하락 폭을 키우고 있고 업종 중에서도 반도체와 반도체장비의 하락률이 3.8%로 컸다. \n",
      "\n",
      "====  noahkim/KoT5_news_summarization  ===\n",
      "19일 장 중 세계 최대 파운드리 업체인 대만 TSMC가 반도체 성장 전망치를 낮추자 삼성전자와 SK하이닉스 등 반도체 업종 주가가 꺾이면서 코스피·코스닥지수가 약세를 보이고 있으며 특히 세계 최대 파운드리 업체인 대만 TSMC가 반도체 성장 전망치를 낮추자 삼성전자와 SK하이닉스 등 반도체 업종 주가가 꺾이면서 지수 하락 폭을 키우고 있다. \n",
      "\n",
      "====  psyche/KoT5-summarization  ===\n",
      "고금리·고환율·고유가 등 이른바 3고() 우려가 다시 불거지면서 19일 장 중 코스피·코스닥지수가 약세를 보이고 있으며 특히 세계 최대 파운드리(반도체 위탁생산) 업체인 대만 TSMC가 반도체 성장 전망치를 낮추자, 삼성전자와 SK하이닉스 등 반도체 업종 주가가 꺾이면서 지수 하락 폭을 키우고 있다. 유가증권시장에서 기관과 외국인이 각각 6712억원, 2743억원 팔자에 나서며 지수를 끌어내렸다. 김석환 미래에셋증권 연구원은 TSCM가 반도체 업황을 하향 조정한 여파로 밤사이 미국 증시에서 반도체 관련 종목군의 약세가 뚜렷했다며 한국 증시에서도 관련 종목군의 주가 약세가 지수 하락을 주도하고 있다고 했다. 김석환 미래에셋증권 연구원은 TSCM가 반도체 업황을 하향 조정한 여파로 밤사이 미국 증시에서 반도체 관련 종목군의 약세가 뚜렷했다며 한국 증시에서도 관련 종목군의 주가 약 \n",
      "\n",
      "====  KETI-AIR-Downstream/long-ke-t5-base-summarization  ===\n",
      "세계 최대 파운드리(반도체 위탁생산) 업체인 대만 TSMC가 반도체 성장 전망치를 낮추자, 삼성전자와 SK하이닉스 등 반도체 업종 주가가 꺾이면서 19일 장 중 코스피·코스닥지수가 약세를 보이고 있는 가운데, 김석환 미래에셋증권 연구원은 “TSCM가 반도체 업황을 하향 조정한 여파로 밤사이 미국 증시에서 반도체 관련 종목군의 약세가 뚜렷했다”며 “한국 증시에서도 관련 종목군의 주가 약세가 지수 하락을 주도하고 있다” 고 했다. \n",
      "\n"
     ]
    }
   ],
   "source": [
    "run_summarize(sentence, models, num_beams=10)"
   ]
  },
  {
   "cell_type": "code",
   "execution_count": 65,
   "id": "fd05bf03",
   "metadata": {},
   "outputs": [
    {
     "name": "stdout",
     "output_type": "stream",
     "text": [
      "====  ainize/kobart-news  ===\n",
      "파금리·고환율·고유가 등 이른바 3고(高) 우려가 다시 불거지면서 19일 장 중 코스피·코스닥지수가 약세를 보이고 있는 가운데 특히 세계 최대 파운드리(반도체 위탁생산) 업체인 대만 TSMC가 반도체 성장 전망치를 낮추자, 삼성전자와 SK하이닉스 등 반도체 업종 주가가 꺾이면서 지수 하락 폭을 키우고 있으며 같은 시각 코스닥지수도 24.47포인트(2.86%) 내린 831.18을 기록했다.   \n",
      "중동 정세 불안으로 국제 유가도 뛰었다..  .달러달러(WTI) 5월물과 브렌트유(WTC) 5월물 모두 모두 현재 3%대 오름세를 보이고 있다...했습니다.했습니다.(왼쪽(왼쪽(왼쪽) 팔레스타인 무장 정파 하마스를 격퇴한다는 공동의 목표에 합의했다고 발표했다....달러 환율은 이날 오전 1390원선을 다시 넘어서서 오전 13 90원선을 회복하였습니다...처분이름.이스라엘이 계획 중인 가자지구 남단 라파 지상전을 두고 미국 백악관은 민간인 피해 가능성을 여전히 우려하지만, 팔레스타단 무장 정지하지하철도를 격퇴한다고 공동의목표에 합의했다라고 발표했다고 발표하였다.. \n",
      "\n",
      "====  noahkim/KoT5_news_summarization  ===\n",
      "세계 최대 파운드리 업체인 대만 TSMC가 반도체 성장 전망치를 낮추자 반도체와 반도체장비의 하락률이 3.8%로 커지면서 19일 장 중 코스피·코스닥지수가 약세를 보이고 있으며, 특히 세계 최고 파운드리아 회사인 대만의 반도체·반도체장비 업종 주가가 꺾이면서 지수 하락 폭을 키우고 있다. 김석환 미래에셋증권 연구원은 “TSCM가 올해 1분기 실적 발표 후 컨퍼런스콜에서 올해는 메모리 반도체를 제외한 전체 반도체시장 성장률 전망치가 기존 '10% 이상’에서 10%를 낮춘 영향으로 보인다”고 말했다. 같은 시각 코스닥지수도 24.47포인트(2.86%) 내린 831.18을 기록했다. 서울 외환시장에서 미국 달러 대비 원화(원·달러) 환율은 이날 오전 1390원선을 다시 넘어섰다. 뉴욕 증시에서 외국인과 기관이 각각 6712억원, 2743억원을 순매도하고 있다 \n",
      "\n",
      "====  psyche/KoT5-summarization  ===\n",
      "세계 최대 파운드리(반도체 위탁생산) 업체인 대만 TSMC가 반도체 성장 전망치를 낮추자, 삼성전자와 SK하이닉스 등 반도체 업종 주가가 꺾이면서 19일 장 중 코스피·코스닥지수가 약세를 보이고 있다. 유가증권시장에서 기관과 외국인이 각각 6712억원, 2743억원 팔자에 나서며 지수를 끌어내렸고 유가증권시장 대장주인 삼성전자와SK하이닉스가 각각 3%, 5% 이상 약세를 나타내고 있다. 김석환 미래에셋증권 연구원은 TSCM가 반도체 업황을 하향 조정한 여파로 밤사이 미국 증시에서 반도체 관련 종목군의 약세가 뚜렷했다며 한국 증시에서도 관련 종목군 주가 약세가 지수 하락을 주도하고 있다고 했다. 고 말했다. 김석환은 TSCM의 반도체 업황 하향 조정의 여파로 미국 증시에서 관련 종목 군의 주가 약세로 지수 하락폭을 키우고 있다.라고 했다. 김석환이 반도체 관련 종목군이 주가 약세를 주도하고 있다고 했다. \n",
      "\n",
      "====  KETI-AIR-Downstream/long-ke-t5-base-summarization  ===\n",
      "세계 최대 파운드리 업체인 대만 TSMC가 반도체 성장 전망치를 낮추자, 삼성전자와 SK하이닉스 등 반도체 업종 주가가 꺾이면서 19일 장 중 코스피·코스닥지수가 약세를 보이고 있으며, 특히 코스피지수는 이날 오전 11시 4분 기준 2566.77로 전날보다 67.93포인트(2.57%) 하락한 것으로 나타났다.. 김석환 미래에셋증권 연구원은 “TSCM가 반반도체 업황을 하향 조정한 여파로 밤사이 미국 증시에서 반도체 관련 종목군의 약세가 뚜렷했다”며 “한국 증시에서도 관련 종목 군의 주가 약세가 지수 하락을 주도하고 있다” 고 했다.. ”. 코스닥시장 시가총액 상위 종목 주식 대부분이 전날 보다 낮은 가격에 거래 중이다.” ”. \". 미국 국채 2년물 금리가 5%에 육박하는 가운데 외환 당국의 구두개입으로 주춤했던 환율도 하루 만에 반등하였다. 미국 서부텍사스원유(WTI) 5월물과 브렌트유 6월물 모두 현재 3%대 오름세를 보인다. \n",
      "\n"
     ]
    }
   ],
   "source": [
    "run_summarize(sentence, models, max_tokens=300, min_tokens=200, num_beams=2)"
   ]
  },
  {
   "cell_type": "code",
   "execution_count": 77,
   "id": "581f8546",
   "metadata": {},
   "outputs": [],
   "source": [
    "def summarize(input_text, tokenizer, model, device, max_tokens=200, min_tokens=100, num_beams=2) :\n",
    "    input_ids = tokenizer.encode(input_text, return_tensors=\"pt\").to(device)\n",
    "\n",
    "    # Generate Summary Text Ids\n",
    "    summary_text_ids = model.generate(\n",
    "        input_ids=input_ids,\n",
    "        bos_token_id=model.config.bos_token_id,\n",
    "        eos_token_id=model.config.eos_token_id,\n",
    "        length_penalty=2.0,\n",
    "        max_new_tokens=max_tokens,\n",
    "        min_new_tokens=min_tokens,\n",
    "        no_repeat_ngram_size=3,\n",
    "        num_beams=num_beams,\n",
    "        do_sample=False #True\n",
    "    )\n",
    "\n",
    "    response = tokenizer.decode(summary_text_ids[0], skip_special_tokens=True)\n",
    "\n",
    "    #print(len(input_text), len(response))\n",
    "\n",
    "    return response"
   ]
  },
  {
   "cell_type": "code",
   "execution_count": 68,
   "id": "fd6778c3",
   "metadata": {},
   "outputs": [
    {
     "name": "stdout",
     "output_type": "stream",
     "text": [
      "====  ainize/kobart-news  ===\n",
      "파금리·고환율·고유가 등 이른바 3고(高) 우려가 다시 불거지면서 19일 장 중 코스피·코스닥지수가 약세를 보이고 있는 가운데 특히 세계 최대 파운드리(반도체 위탁생산) 업체인 대만 TSMC가 반도체 성장 전망치를 낮추자, 삼성전자와 SK하이닉스 등 반도체 업종 주가가 꺾이면서 지수 하락 폭을 키우고 있으며 같은 시각 코스닥지수도 24.47포인트(2.86%) 내린 831.18을 기록했다.   \n",
      "중동 정세 불안으로 국제 유가도 뛰었다. \n",
      "\n",
      "====  noahkim/KoT5_news_summarization  ===\n",
      "19일 장 중 코스피·코스닥지수가 약세를 보이고 있는데 특히 세계 최대 파운드리 업체인 대만 TSMC가 반도체 성장 전망치를 낮추자 삼성전자와 SK하이닉스 등 반도체업종 주가가 꺾이면서 지수 하락 폭을 키우고 있으며 미국 국채 2년물 금리가 5%에 육박하는 가운데 외환 당국의 구두개입으로 주춤했던 환율도 하루 만에 반등했다. \n",
      "\n",
      "====  psyche/KoT5-summarization  ===\n",
      "세계 최대 파운드리 업체인 대만 TSMC가 반도체 성장 전망치를 낮추자, 삼성전자와 SK하이닉스 등 반도체 업종 주가가 꺾이면서 19일 장 중 코스피·코스닥지수가 약세를 보이고 있다. 유가증권시장에서 기관과 외국인이 각각 6712억원, 2743억원 팔자에 나서며 지수를 끌어내렸다. 김석환 미래에셋증권 연구원은 TSCM가 반도체 업황을 하향 조정한 여파로 밤사이 미국 증시에서 반도체 관련 종목군의 약세가 뚜렷했다고 했다. \n",
      "\n",
      "====  KETI-AIR-Downstream/long-ke-t5-base-summarization  ===\n",
      "19일 장 중 코스피·코스닥지수가 약세를 보이고 있는데, 특히 세계 최대 파운드리 업체인 대만 TSMC가 반도체 성장 전망치를 낮추자, 삼성전자와 SK하이닉스 등 반도체 업종 주가가 꺾이면서 지수 하락 폭을 키우고 있으며, 코스닥시장에서도 외국인과 기관이 3185억원, 330억원을 순매도하고 있는 것으로 나타나고 있다.. \"한국 증시에서도 관련 종목군의 주가 약세가 지수 하락을 주도하고 있다” 고 했다. \n",
      "\n"
     ]
    }
   ],
   "source": [
    "run_summarize(sentence, models, max_tokens=300, min_tokens=100, num_beams=4)"
   ]
  },
  {
   "cell_type": "code",
   "execution_count": 69,
   "id": "42cffa8f",
   "metadata": {},
   "outputs": [
    {
     "name": "stdout",
     "output_type": "stream",
     "text": [
      "====  ainize/kobart-news  ===\n",
      "파금리·고환율·고유가 등 이른바 3고(高) 우려가 다시 불거지면서 19일 장 중 코스피·코스닥지수가 약세를 보이고 있는 가운데 특히 세계 최대 파운드리(반도체 위탁생산) 업체인 대만 TSMC가 반도체 성장 전망치를 낮추자, 삼성전자와 SK하이닉스 등 반도체 업종 주가가 꺾이면서 지수 하락 폭을 키우고 있으며 같은 시각 코스닥지수도 24.47포인트(2.86%) 내린 831.18을 기록했다.  \n",
      "이날 오전에 미국 서부텍사스원유(WTI) 5월물과 브렌트유 6월물 모두 모두 현재 3%대 오름세를 보이고 있다. \n",
      "\n",
      "====  noahkim/KoT5_news_summarization  ===\n",
      "19일 장 중 세계 최대 파운드리 업체인 대만 TSMC가 올해 메모리 반도체를 제외한 전체 반도체 시장 성장률 전망치를 기존 ‘10% 이상’에서 10%로 낮춘 영향으로 반도체와 반도체장비의 하락률이 3.8%로, 미국 국채 2년물 금리가 5%에 육박하는 가운데 외환 당국의 구두개입으로 주춤했던 환율도 하루 만에 반등하는 등 이른바 3고 우려가 다시 불거지면서 코스피·코스닥지수가 약세를 보이고 있다. \n",
      "\n",
      "====  psyche/KoT5-summarization  ===\n",
      "세계 최대 파운드리(반도체 위탁생산) 업체인 대만 TSMC가 반도체 성장 전망치를 낮추자, 삼성전자와 SK하이닉스 등 반도체 업종 주가가 꺾이면서 19일 장 중 코스피·코스닥지수가 약세를 보이고 있다. 유가증권시장에서 기관과 외국인이 각각 6712억원, 2743억원 팔자에 나서며 지수를 끌어내렸다. 김석환 미래에셋증권 연구원은 TSCM가 반도체 업황을 하향 조정한 여파로 밤사이 미국 증시에서 반도체 관련 종목군의 약세가 뚜렷했다며 한국 증시에서도 관련종목군의 주가 약세가 지수 하락을 주도하고 있다고 했다. \n",
      "\n",
      "====  KETI-AIR-Downstream/long-ke-t5-base-summarization  ===\n",
      "19일 장 중 코스피·코스닥지수가 약세를 보이고 있는데, 특히 세계 최대 파운드리 업체인 대만 TSMC가 반도체 성장 전망치를 낮추자, 삼성전자와 SK하이닉스 등 반도체 업종 주가가 꺾이면서 지수 하락 폭을 키우고 있으며, 특히 코스피지수는 이날 오전 11시 4분 기준 2566.77로 전날보다 67.93포인트(2.57%) 하락한 것으로 나타났다.  \n",
      "\n"
     ]
    }
   ],
   "source": [
    "run_summarize(sentence, models, max_tokens=300, min_tokens=100, num_beams=8) # do_sample = True"
   ]
  },
  {
   "cell_type": "code",
   "execution_count": 72,
   "id": "3eaf0e4f",
   "metadata": {},
   "outputs": [
    {
     "name": "stdout",
     "output_type": "stream",
     "text": [
      "====  ainize/kobart-news  ===\n",
      "파금리·고환율·고유가 등 이른바 3고(高) 우려가 다시 불거지면서 19일 장 중 코스피·코스닥지수가 약세를 보여, 특히 세계 최대 파운드리(반도체 위탁생산) 업체인 대만 TSMC가 반도체 성장 전망치를 낮추자, 삼성전자와 SK하이닉스 등 반도체 업종 주가가 꺾이면서 지수 하락 폭을 키우고 있고, 같은 시각 코스닥지수도 24.47포인트(2.86%) 내린 831.18을 기록하며 전날 상승분을 모두 반납했다. \n",
      "\n",
      "====  noahkim/KoT5_news_summarization  ===\n",
      "세계 최대 파운드리 업체인 대만 TSMC가 올해 메모리 반도체를 제외한 전체 반도체 시장 성장률 전망치를 기존 ‘10% 이상’에서 10%로 낮춘 영향으로 19일 장 중 코스피·코스닥지수가 약세를 보이고 있는 가운데, 김석환 미래에셋증권 연구원은 미국 국채 2년물 금리가 5%에 육박하는 가운데 외환 당국의 구두개입으로 주춤했던 환율도 하루 만에 반등했다. \n",
      "\n",
      "====  psyche/KoT5-summarization  ===\n",
      "세계 최대 파운드리(반도체 위탁생산) 업체인 대만 TSMC가 반도체 성장 전망치를 낮추자, 삼성전자와 SK하이닉스 등 반도체 업종 주가가 꺾이면서 19일 장 중 코스피·코스닥지수가 약세를 보이고 있다. 유가증권시장에서 기관과 외국인이 각각 6712억원, 2743억원 팔자에 나서며 지수를 끌어내렸다. 김석환 미래에셋증권 연구원은 TSCM가 반도체 업황을 하향 조정한 여파로 밤사이 미국 증시에서 반도체 관련 종목군의 약세가 뚜렷했다며 한국 증시에서도 관련종목군의 주가 약세가 지수 하락을 주도하고 있다고 했다. \n",
      "\n",
      "====  KETI-AIR-Downstream/long-ke-t5-base-summarization  ===\n",
      "세계 최대 파운드리(반도체 위탁생산) 업체인 대만 TSMC가 반도체 성장 전망치를 낮추자, 삼성전자와 SK하이닉스 등 반도체 업종 주가가 꺾이면서 19일 장 중 코스피·코스닥지수가 약세를 보이고 있으며, 특히 코스피지수는 이날 오전 11시 4분 기준 2566.77로 전날보다 67.93포인트(2.57%) 하락한 것으로 나타났으며, 이에 대해 김석환 미래에셋증권 연구원은 “TSCM의 반도체 업황 하향 조정 여파로 밤사이 미국 증시에서 반도체 관련 종목군의 약세가 뚜렷했다”며 “한국 증시에서도 관련종목군의 주가 약세가 지수 하락을 주도하고 있다” 고 했다. \n",
      "\n"
     ]
    }
   ],
   "source": [
    "run_summarize(sentence, models, max_tokens=300, min_tokens=100, num_beams=8) # do_sample = False"
   ]
  },
  {
   "cell_type": "code",
   "execution_count": 74,
   "id": "88bdcd56",
   "metadata": {},
   "outputs": [
    {
     "name": "stdout",
     "output_type": "stream",
     "text": [
      "====  ainize/kobart-news  ===\n",
      "파금리·고환율·고유가 등 이른바 3고(高) 우려가 다시 불거지면서 19일 장 중 코스피·코스닥지수가 약세를 보이고 있는 가운데 특히 세계 최대 파운드리(반도체 위탁생산) 업체인 대만 TSMC가 반도체 성장 전망치를 낮추자, 삼성전자와 SK하이닉스 등 반도체 업종 주가가 꺾이면서 지수 하락 폭을 키우고 있으며 세계 최대 파운드리(반도체 위탁생산) 업체인 대만 TSMC가 반도체 성장 전망치를 낮추자, 삼성전자와 SK하이닉스 등 반도체 업종 주가가 꺾이면서 지수 하락 폭을 키우고 있고 업종 중에서도 반도체와 반도체장비의 하락률이 3.8%로 컸다. \n",
      "\n",
      "====  noahkim/KoT5_news_summarization  ===\n",
      "19일 장 중 세계 최대 파운드리 업체인 대만 TSMC가 반도체 성장 전망치를 낮추자 삼성전자와 SK하이닉스 등 반도체 업종 주가가 꺾이면서 코스피·코스닥지수가 약세를 보이고 있으며 특히 세계 최대 파운드리 업체인 대만 TSMC가 반도체 성장 전망치를 낮추자 삼성전자와 SK하이닉스 등 반도체 업종 주가가 꺾이면서 지수 하락 폭을 키우고 있다. \n",
      "\n",
      "====  psyche/KoT5-summarization  ===\n",
      "세계 최대 파운드리(반도체 위탁생산) 업체인 대만 TSMC가 반도체 성장 전망치를 낮추자, 삼성전자와 SK하이닉스 등 반도체 업종 주가가 꺾이면서 19일 장 중 코스피·코스닥지수가 약세를 보이고 있다. 김석환 미래에셋증권 연구원은 TSCM가 반도체 업황을 하향 조정한 여파로 밤사이 미국 증시에서 반도체 관련 종목군의 약세가 뚜렷했다며 한국 증시에서도 관련 종목군의 주가 약세가 지수 하락을 주도하고 있다고 했다. \n",
      "\n",
      "====  KETI-AIR-Downstream/long-ke-t5-base-summarization  ===\n",
      "세계 최대 파운드리(반도체 위탁생산) 업체인 대만 TSMC가 반도체 성장 전망치를 낮추자, 삼성전자와 SK하이닉스 등 반도체 업종 주가가 꺾이면서 19일 장 중 코스피·코스닥지수가 약세를 보이고 있는 가운데, 김석환 미래에셋증권 연구원은 “TSCM가 반도체 업황을 하향 조정한 여파로 밤사이 미국 증시에서 반도체 관련 종목군의 약세가 뚜렷했다”며 “한국 증시에서도 관련 종목군의 주가 약세가 지수 하락을 주도하고 있다” 고 했다. \n",
      "\n"
     ]
    }
   ],
   "source": [
    "run_summarize(sentence, models, max_tokens=300, min_tokens=100, num_beams=8) # do_sample = False"
   ]
  },
  {
   "cell_type": "code",
   "execution_count": 76,
   "id": "4880a2cd",
   "metadata": {},
   "outputs": [
    {
     "name": "stdout",
     "output_type": "stream",
     "text": [
      "====  ainize/kobart-news  ===\n",
      "파금리·고환율·고유가 등 이른바 3고(高) 우려가 다시 불거지면서 19일 장 중 코스피·코스닥지수가 약세를 보이고 있는 가운데 특히 세계 최대 파운드리(반도체 위탁생산) 업체인 대만 TSMC가 반도체 성장 전망치를 낮추자 삼성전자와 SK하이닉스 등 반도체 업종 주가가 꺾이면서 지수 하락 폭을 키우고 있으며 같은 시각 코스닥지수도 24.47포인트(2.86%) 내린 831.18을 기록했다.   \n",
      "중동 정세 불안으로 국제 유가도 뛰었다. \n",
      "\n",
      "중장 중 이스라엘이 계획 중인 가자지구 남단 라파 지상전을 두고 미국 백악관은 민간인 피해 가능성을 여전히 우려하지만, 팔레스타인 무장 정파 하마스를 격퇴한다는 공동의 목표에 합의했다고 발표했다. \n",
      "이스라엘이 이란 본토를 미사일로 공격했다는 보도와 이스라엘이 이란 본토를 미사일로 공격했다는 보도와 이스라엘이 이란 본토를 미사일로 공격했다는 보도와  이스라엘이 이란 본토를 미사일로 공격했다는 보도와  이스라엘이 이란 본토를 미사일로 공격했다는일(현지일(현지 토지 정프 하마스를 격퇴한다는 공동의 목표에 합의했다고 발표했다. \n",
      "\n",
      "====  noahkim/KoT5_news_summarization  ===\n",
      "19일 장 중 세계 최대 파운드리 업체인 대만 TSMC가 반도체 성장 전망치를 낮추자 반도체 업종 주가가 꺾이면서 코스피·코스닥지수가 약세를 보이고 있으며 특히 세계 최대 파운드리 업체인 대만 TSMC가 반도체 성장 전망치를 낮추자 삼성전자와 SK하이닉스 등 반도체 업종 주가가 꺾이면서 지수 하락 폭을 키우고 있고 같은 시각 코스닥지수도 24.47포인트(2.86%) 내린 831.18을 기록했으며 같은 시각 코스닥지수도 24.47포인트(2.86%) 내린 831.18을 기록했다. 미국 국채 2년물 금리가 5%에 육박하는 가운데 외환 당국의 구두개입으로 주춤했던 환율도 하루 만에 반등했다. 미국 국채 2년물 금리가 5%에 육박하는 가운데 외환 당국의 구두개입으로 주춤했던 환율도 하루 만에 반등했다. 미국 국채 2년물 금리가 5%에 육박하는 가운데 외환 당국의 구두개입으로 주춤했던  \n",
      "\n",
      "====  psyche/KoT5-summarization  ===\n",
      "세계 최대 파운드리(반도체 위탁생산) 업체인 대만 TSMC가 반도체 성장 전망치를 낮추자, 삼성전자와 SK하이닉스 등 반도체 업종 주가가 꺾이면서 19일 장 중 코스피·코스닥지수가 약세를 보이고 있는 가운데, 김석환 미래에셋증권 연구원은 TSCM가 반도체 업황을 하향 조정한 여파로 밤사이 미국 증시에서 반도체 관련 종목군의 약세가 뚜렷했다며 한국 증시에서도 관련 종목군의 주가 약세가 지수 하락을 주도하고 있다고 했다. 같은 시각 코스닥지수도 24.47포인트(2.86%) 내린 831.18을 기록했으며, 서울 외환시장에서 미국 달러 대비 원화(원·달러) 환율은 이날 오전 1390원선을 다시 넘어섰다. 중동 정세 불안으로 국제 유가도 뛰었다. 이스라엘이 계획 중인 가자지구 남단 라파 지상전을 두고 미국 백악관은 민간인 피해 가능성을 여전히 우려하지만, 팔레스타인 무장 정파 하마스를 격퇴한다는 공동의 목표에 합의했다고 발표했다. 이어 이스라엘이 이란 본토를 미사일로 공격했다는 보도도 나왔다. \n",
      "\n",
      "====  KETI-AIR-Downstream/long-ke-t5-base-summarization  ===\n",
      "세계 최대 파운드리 업체인 대만 TSMC가 반도체 성장 전망치를 낮추자, 삼성전자와 SK하이닉스 등 반도체 업종 주가가 꺾이면서 19일 장 중 코스피·코스닥지수가 약세를 보이고 있으며, 특히 코스피지수는 이날 오전 11시 4분 기준 2566.77로 전날보다 67.93포인트(2.57%) 하락한 것으로 나타나 지난 1월 이후 가장 낮은 수준인 것으로 나타났다.. 김석환 미래에셋증권 연구원은 “TSCM가 반도체 업황을 하향 조정한 여파로 밤사이 미국 증시에서 반도체 관련 종목군의 약세가 뚜렷했다”며 “한국 증시에서도 관련 종목군의 주가 약세가 지수 하락을 주도하고 있다” 고 했다... 코스닥시장에서도 외국인과 기관이 3185억원, 330억원을 순매도하고 있다고 밝혔다. \n",
      "\n"
     ]
    }
   ],
   "source": [
    "run_summarize(sentence, models, max_tokens=300, min_tokens=200, num_beams=3) # do_sample = False, no_repeat = None"
   ]
  },
  {
   "cell_type": "code",
   "execution_count": 78,
   "id": "7bdd6901",
   "metadata": {},
   "outputs": [
    {
     "name": "stdout",
     "output_type": "stream",
     "text": [
      "====  ainize/kobart-news  ===\n",
      "파금리·고환율·고유가 등 이른바 3고(高) 우려가 다시 불거지면서 19일 장 중 코스피·코스닥지수가 약세를 보이고 있는 가운데 특히 세계 최대 파운드리(반도체 위탁생산) 업체인 대만 TSMC가 반도체 성장 전망치를 낮추자 삼성전자와 SK하이닉스 등 반도체 업종 주가가 꺾이면서 지수 하락 폭을 키우고 있으며 같은 시각 코스닥지수도 24.47포인트(2.86%) 내린 831.18을 기록했다.   \n",
      "중동 정세 불안으로 국제 유가도 뛰었다. \n",
      "\n",
      "중장 중 이스라엘이 계획 중인 가자지구 남단 라파 지상전을 두고 미국 백악관은 민간인 피해 가능성을 여전히 우려하지만, 팔레스타인 무장 정파 하마스를 격퇴한다는 공동의 목표에 합의했다고 발표했다. \n",
      ". 이어 이스라엘이 이란 본토를 미사일로 공격했다는 보도다. \n",
      "\n",
      "이 이스라엘이 할수 있다는 보도에 삽청정도가 예상이 현실화된  내용의   이스라엘이 중동 정세 불안이 발생했다. \n",
      "\n",
      "====  noahkim/KoT5_news_summarization  ===\n",
      "19일 장 중 세계 최대 파운드리 업체인 대만 TSMC가 반도체 성장 전망치를 낮추자 반도체와 반도체장비의 하락률이 3.8%로 커지면서 코스피·코스닥지수가 약세를 보이고 있으며, 특히 미국 국채 2년물 금리가 5%에 육박하는 가운데 외환 당국의 구두개입으로 주춤했던 환율도 하루 만에 반등한 것으로 나타났다. 이에 따라 코스피지수는 이날 오전 11시 4분 기준 2566.77을 기록했다. 같은 시각 코스닥지수도 24.47포인트(2.86%) 내린 831.18을 나타냈다. 반면 코스닥시장 시가총액 상위 종목 주식 대부분이 전날보다 낮은 가격에 거래 중이다. 한국 증시에서도 관련 종목군의 주가 약세가 지수 하락을 주도하고 있다. \n",
      "\n",
      "====  psyche/KoT5-summarization  ===\n",
      "세계 최대 파운드리(반도체 위탁생산) 업체인 대만 TSMC가 반도체 성장 전망치를 낮추자, 삼성전자와 SK하이닉스 등 반도체 업종 주가가 꺾이면서 19일 장 중 코스피·코스닥지수가 약세를 보이고 있는 가운데, 김석환 미래에셋증권 연구원은 TSCM가 반도체 업황을 하향 조정한 여파로 밤사이 미국 증시에서 반도체 관련 종목군의 약세가 뚜렷했다며 한국 증시에서도 관련종목군의 주가 약세가 지수 하락을 주도하고 있다고 했다. 같은 시각 코스닥지수도 24.47포인트(2.86%) 내린 831.18을 기록했으며, 서울 외환시장에서 미국 달러 대비 원화(원·달러) 환율은 이날 오전 1390원선을 다시 넘어섰다. 중동 정세 불안으로 국제 유가도 뛰었다. 이스라엘이 계획 중인 가자지구 남단 라파 지상전을 두고 미국 백악관은 민간인 피해 가능성을 여전히 우려하지만, 팔레스타인 무장 정파 하마스를 격퇴한다는 공동의 목표에 합의했다고 발표했다. 이어 이스라엘이 이란 본토를 미사일로 공격했다는 보도도 나왔다. \n",
      "\n",
      "====  KETI-AIR-Downstream/long-ke-t5-base-summarization  ===\n",
      "세계 최대 파운드리 업체인 대만 TSMC가 반도체 성장 전망치를 낮추자, 삼성전자와 SK하이닉스 등 반도체 업종 주가가 꺾이면서 19일 장 중 코스피·코스닥지수가 약세를 보이고 있으며, 특히 코스피지수는 이날 오전 11시 4분 기준 2566.77로 전날보다 67.93포인트(2.57%) 하락한 것으로 나타나 지난 1월 이후 가장 낮은 수준인 것으로 분석되고 있다.. 김석환 미래에셋증권 연구원은 TSCM의 반도체 업황 하향 조정 여파로 밤사이 미국 증시에서 반도체 관련 종목군의 약세가 뚜렷했다며 한국 증시에서도 관련 종목들의 주가 약세가 지수 하락을 주도하고 있다고 밝혔다.. 이에 따라 19일 코스닥지수는 24.47포인트(2.86%) 내린  형벌을 기록했다. 이는 중동 정세 불안으로 국제 유가도 뛰었기 때문이다. \n",
      "\n"
     ]
    }
   ],
   "source": [
    "run_summarize(sentence, models, max_tokens=300, min_tokens=200, num_beams=3) # do_sample = False, no_repeat = 3"
   ]
  },
  {
   "cell_type": "code",
   "execution_count": 79,
   "id": "fcd73486",
   "metadata": {},
   "outputs": [
    {
     "name": "stdout",
     "output_type": "stream",
     "text": [
      "====  ainize/kobart-news  ===\n",
      "파금리·고환율·고유가 등 이른바 3고(高) 우려가 다시 불거지면서 19일 장 중 코스피·코스닥지수가 약세를 보이고 있는 가운데 특히 세계 최대 파운드리(반도체 위탁생산) 업체인 대만 TSMC가 반도체 성장 전망치를 낮추자 삼성전자와 SK하이닉스 등 반도체 업종 주가가 꺾이면서 지수 하락 폭을 키우고 있으며 같은 시각 코스닥지수도 24.47포인트(2.86%) 내린 831.18을 기록했다.   \n",
      "중동 정세 불안으로 국제 유가도 뛰었다. \n",
      "\n",
      "====  noahkim/KoT5_news_summarization  ===\n",
      "19일 장 중 세계 최대 파운드리 업체인 대만 TSMC가 반도체 성장 전망치를 낮추자 반도체와 반도체장비의 하락률이 3.8%로 커지면서 코스피·코스닥지수가 약세를 보이고 있으며, 특히 미국 국채 2년물 금리가 5%에 육박하는 가운데 외환 당국의 구두개입으로 주춤했던 환율도 하루 만에 반등했다. \n",
      "\n",
      "====  psyche/KoT5-summarization  ===\n",
      "세계 최대 파운드리(반도체 위탁생산) 업체인 대만 TSMC가 반도체 성장 전망치를 낮추자, 삼성전자와 SK하이닉스 등 반도체 업종 주가가 꺾이면서 19일 장 중 코스피·코스닥지수가 약세를 보이고 있는 가운데, 김석환 미래에셋증권 연구원은 TSCM가 반도체 업황을 하향 조정한 여파로 밤사이 미국 증시에서 반도체 관련 종목군의 약세가 뚜렷했다며 한국 증시에서도 관련종목군의 주가 약세가 지수 하락을 주도하고 있다고 했다. \n",
      "\n",
      "====  KETI-AIR-Downstream/long-ke-t5-base-summarization  ===\n",
      "세계 최대 파운드리 업체인 대만 TSMC가 반도체 성장 전망치를 낮추자, 삼성전자와 SK하이닉스 등 반도체 업종 주가가 꺾이면서 19일 장 중 코스피·코스닥지수가 약세를 보이고 있으며, 특히 코스피지수는 이날 오전 11시 4분 기준 2566.77로 전날보다 67.93포인트(2.57%) 하락한 것으로 나타나 지난 1월 이후 가장 낮은 수준인 것으로 분석된다. \n",
      "\n"
     ]
    }
   ],
   "source": [
    "run_summarize(sentence, models, max_tokens=200, min_tokens=100, num_beams=3) # do_sample = False, no_repeat = 3"
   ]
  },
  {
   "cell_type": "code",
   "execution_count": 80,
   "id": "315bf1d1",
   "metadata": {},
   "outputs": [
    {
     "name": "stdout",
     "output_type": "stream",
     "text": [
      "====  ainize/kobart-news  ===\n",
      "파금리·고환율·고유가 등 이른바 3고(高) 우려가 다시 불거지면서 19일 장 중 코스피·코스닥지수가 약세를 보이고 있는 가운데 특히 세계 최대 파운드리(반도체 위탁생산) 업체인 대만 TSMC가 반도체 성장 전망치를 낮추자 삼성전자와 SK하이닉스 등 반도체 업종 주가가 꺾이면서 지수 하락 폭을 키우고 있으며 같은 시각 코스닥지수도 24.47포인트(2.86%) 내린 831.18을 기록했다.   \n",
      "중동 정세 불안으로 국제 유가도 뛰었다. \n",
      "\n",
      "====  noahkim/KoT5_news_summarization  ===\n",
      "19일 장 중 세계 최대 파운드리 업체인 대만 TSMC가 반도체 성장 전망치를 낮추자, 삼성전자와 SK하이닉스 등 반도체업종 주가가 꺾이면서 코스피·코스닥지수가 약세를 보이고 있으며 특히 고금리·고환율,고유가 등의 이른바 3고 우려가 다시 불거지면서 18일 이후 가장 낮은 수준으로 하락 폭을 키우고 있는 가운데 코스피지수는 이날 오전 11시 4분 기준 2566.77로 전날보다 67.93포인트(2.58%) 하락했다. \n",
      "\n",
      "====  psyche/KoT5-summarization  ===\n",
      "세계 최대 파운드리(반도체 위탁생산) 업체인 대만 TSMC가 반도체 성장 전망치를 낮추자, 삼성전자와 SK하이닉스 등 반도체 업종 주가가 꺾이면서 19일 장 중 코스피·코스닥지수가 약세를 보이고 있는 가운데, 김석환 미래에셋증권 연구원은 TSCM가 반도체 업황을 하향 조정한 여파로 밤사이 미국 증시에서 반도체 관련 종목군의 약세가 뚜렷했다며 한국 증시에서도 관련종목군의 주가 약세가 지수 하락을 주도하고 있다고 했다. \n",
      "\n",
      "====  KETI-AIR-Downstream/long-ke-t5-base-summarization  ===\n",
      "세계 최대 파운드리 업체인 대만 TSMC가 반도체 성장 전망치를 낮추자, 삼성전자와 SK하이닉스 등 반도체 업종 주가가 꺾이면서 19일 장 중 코스피·코스닥지수가 약세를 보이고 있으며, 특히 코스피지수는 이날 오전 11시 4분 기준 2566.77로 전날보다 67.93포인트(2.57%) 하락한 것으로 나타나 지난 1월 이후 가장 낮은 수준을 나타내고 있다. \n",
      "\n"
     ]
    }
   ],
   "source": [
    "run_summarize(sentence, models, max_tokens=200, min_tokens=100, num_beams=4) # do_sample = False, no_repeat = 3"
   ]
  },
  {
   "cell_type": "code",
   "execution_count": 82,
   "id": "b615dddf",
   "metadata": {},
   "outputs": [
    {
     "name": "stdout",
     "output_type": "stream",
     "text": [
      "====  ainize/kobart-news  ===\n",
      "파금리·고환율·고유가 등 이른바 3고(高) 우려가 다시 불거지면서 19일 장 중 코스피·코스닥지수가 약세를 보이고 있는 가운데 특히 세계 최대 파운드리(반도체 위탁생산) 업체인 대만 TSMC가 반도체 성장 전망치를 낮추자 삼성전자와 SK하이닉스 등 반도체 업종 주가가 꺾이면서 지수 하락 폭을 키우고 있으며 같은 시각 코스닥지수도 24.47포인트(2.86%) 내린 831.18을 기록했다.   \n",
      "이날 오전 1390원선을 다시 넘어섰다고 밝혔다. \n",
      "이들은 중동 정세 불안으로 국제 유가도 뛰었다. \n",
      "\n",
      "또 이스라엘이 계획 중인 가자지구 남단 라파 지상전을 두고 미국 백악관은 민간인 피해 가능성을 여전히 우려하지만, 팔레스타인 무장 정파 하마스를 격퇴한다는 공동의 목표에 합의했다고 발표했다. \n",
      "이번에는 이스라엘이 이란 본토를 미사일로 공격했다는 보도도 나왔다. \n",
      "(왼쪽(왼쪽(왼쪽 본드 유전자는 방송뉴스에 게재했다고 한다) \n",
      "\n",
      "====  noahkim/KoT5_news_summarization  ===\n",
      "19일 장 중 세계 최대 파운드리 업체인 대만 TSMC가 반도체 성장 전망치를 낮추자, 삼성전자와 SK하이닉스 등 반도체업종 주가가 꺾이면서 코스피·코스닥지수가 약세를 보이고 있으며 특히 고금리·고환율,고유가 등의 이른바 3고 우려가 다시 불거지면서 18일 이후 가장 낮은 수준으로 하락 폭을 키우고 있는 가운데 코스피지수는 이날 오전 11시 4분 기준 2566.77로 전날보다 67.93포인트(2.58%) 하락한 것으로 집계됐다. 김석환 미래에셋증권 연구원은 “TSCM가 올해 1분기 실적 발표 후 컨퍼런스콜에서 올해는 메모리 반도체를 제외한 전체 반도체시장 성장률 전망치 기존 '10% 이상’에서 10%로 낮춘 영향으로 보인다”고 말했다. 같은 시각 코스닥지수도 24.47포인트 내린 831.18을 기록했다. 서울 외환시장에서 미국 달러 대비 원화(원·달러)  \n",
      "\n",
      "====  psyche/KoT5-summarization  ===\n",
      "세계 최대 파운드리(반도체 위탁생산) 업체인 대만 TSMC가 반도체 성장 전망치를 낮추자, 삼성전자와 SK하이닉스 등 반도체 업종 주가가 꺾이면서 19일 장 중 코스피·코스닥지수가 약세를 보이고 있는 가운데, 김석환 미래에셋증권 연구원은 TSCM가 반도체 업황을 하향 조정한 여파로 밤사이 미국 증시에서 반도체 관련 종목군의 약세가 뚜렷했다며 한국 증시에서도 관련종목군의 주가 약세가 지수 하락을 주도하고 있다고 했다. 같은 시각 코스닥지수도 24.47포인트(2.86%) 내린 831.18을 기록했으며, 서울 외환시장에서 미국 달러 대비 원화(원·달러) 환율은 이날 오전 1390원선을 다시 넘어섰다. 중동 정세 불안으로 국제 유가도 뛰었다. 이스라엘이 계획 중인 가자지구 남단 라파 지상전을 두고 미국 백악관은 민간인 피해 가능성을 여전히 우려하지만, 팔레스타인 무장 정파 하마스를 격퇴한다는 공동의 목표에 합의했다고 발표했다. 미국 서부텍사스원유(WTI) 5월물과 브렌트유 6월물 모두 현재 3%대 오름세를 보이고 있다. \n",
      "\n",
      "====  KETI-AIR-Downstream/long-ke-t5-base-summarization  ===\n",
      "세계 최대 파운드리 업체인 대만 TSMC가 반도체 성장 전망치를 낮추자, 삼성전자와 SK하이닉스 등 반도체 업종 주가가 꺾이면서 19일 장 중 코스피·코스닥지수가 약세를 보이고 있으며, 특히 코스피지수는 이날 오전 11시 4분 기준 2566.77로 전날보다 67.93포인트(2.57%) 하락한 것으로 나타나 지난 1월 이후 가장 낮은 수준을 나타내고 있는 것으로 알려졌으며, 이에 대해 김석환 미래에셋증권 연구원은 TSCM의 반도체 업황 하향 조정 여파로 밤사이 미국 증시에서 반도체 관련 종목군의 약세가 뚜렷했다며 한국 증시에서도 관련종목군의 주가 약세가 지수 하락을 주도하고 있다고 밝혔다.. \"이는 미국 국채 2년물 금리가 5%에 육박하는 가운데 외환 당국의 구두개입으로 주춤했던 환율도 하루 만에 반등했다\"고 전했다. \n",
      "\n"
     ]
    }
   ],
   "source": [
    "run_summarize(sentence, models, max_tokens=300, min_tokens=200, num_beams=4) # do_sample = False, no_repeat = 3"
   ]
  },
  {
   "cell_type": "code",
   "execution_count": 89,
   "id": "c47b8d70",
   "metadata": {},
   "outputs": [
    {
     "name": "stdout",
     "output_type": "stream",
     "text": [
      "====  ainize/kobart-news  ===\n",
      "파금리·고환율·고유가 등 이른바 3고(高) 우려가 다시 불거지면서 19일 장 중 코스피·코스닥지수가 약세를 보이고 있는 가운데 특히 세계 최대 파운드리(반도체 위탁생산) 업체인 대만 TSMC가 반도체 성장 전망치를 낮추자 삼성전자와 SK하이닉스 등 반도체 업종 주가가 꺾이면서 지수 하락 폭을 키우고 있으며 같은 시각 코스닥지수도 24.47포인트(2.86%) 내린 831.18을 기록했다.   \n",
      "이날 오전 1390원선을 다시 넘어섰다고 밝혔다. \n",
      "이들은 중동 정세 불안으로 국제 유가도 뛰었다. \n",
      "\n",
      "====  noahkim/KoT5_news_summarization  ===\n",
      "19일 장 중 세계 최대 파운드리 업체인 대만 TSMC가 반도체 성장 전망치를 낮추자, 삼성전자와 SK하이닉스 등 반도체업종 주가가 꺾이면서 코스피·코스닥지수가 약세를 보이고 있으며 특히 고금리·고환율,고유가 등의 이른바 3고 우려가 다시 불거지면서 18일 이후 가장 낮은 수준으로 하락 폭을 키우고 있는 가운데 코스피지수는 이날 오전 11시 4분 기준 2566.77로 전날보다 67.93포인트(2.58%) 하락했다. \n",
      "\n",
      "====  psyche/KoT5-summarization  ===\n",
      "세계 최대 파운드리(반도체 위탁생산) 업체인 대만 TSMC가 반도체 성장 전망치를 낮추자, 삼성전자와 SK하이닉스 등 반도체 업종 주가가 꺾이면서 19일 장 중 코스피·코스닥지수가 약세를 보이고 있는 가운데, 김석환 미래에셋증권 연구원은 TSCM가 반도체 업황을 하향 조정한 여파로 밤사이 미국 증시에서 반도체 관련 종목군의 약세가 뚜렷했다며 한국 증시에서도 관련종목군의 주가 약세가 지수 하락을 주도하고 있다고 했다. 같은 시각 코스닥지수도 24.47포인트(2.86%) 내린 831.18을 기록했다. \n",
      "\n",
      "====  KETI-AIR-Downstream/long-ke-t5-base-summarization  ===\n",
      "세계 최대 파운드리 업체인 대만 TSMC가 반도체 성장 전망치를 낮추자, 삼성전자와 SK하이닉스 등 반도체 업종 주가가 꺾이면서 19일 장 중 코스피·코스닥지수가 약세를 보이고 있으며, 특히 코스피지수는 이날 오전 11시 4분 기준 2566.77로 전날보다 67.93포인트(2.57%) 하락한 것으로 나타나 지난 1월 이후 가장 낮은 수준을 나타내고 있는 것으로 알려졌으며, 이에 대해 김석환 미래에셋증권 연구원은 TSCM의 반도체 업황 하향 조정 여파로 밤사이 미국 증시에서 반도체 관련 종목군의 약세가 뚜렷했다고 밝혔다. \n",
      "\n"
     ]
    }
   ],
   "source": [
    "run_summarize(sentence, models, max_tokens=400, min_tokens=120, num_beams=4) # do_sample = False, no_repeat = 3"
   ]
  },
  {
   "cell_type": "code",
   "execution_count": 99,
   "id": "1b0b711c",
   "metadata": {},
   "outputs": [],
   "source": [
    "def summarize(input_text, tokenizer, model, device, max_tokens=200, min_tokens=100, num_beams=2) :\n",
    "    input_ids = tokenizer.encode(input_text, return_tensors=\"pt\").to(device)\n",
    "\n",
    "    # Generate Summary Text Ids\n",
    "    summary_text_ids = model.generate(\n",
    "        input_ids=input_ids,\n",
    "        bos_token_id=model.config.bos_token_id,\n",
    "        eos_token_id=model.config.eos_token_id,\n",
    "        length_penalty=2.0,\n",
    "        max_new_tokens=max_tokens,\n",
    "        min_new_tokens=min_tokens,\n",
    "        no_repeat_ngram_size=3,\n",
    "        num_beams=num_beams,\n",
    "        top_p=0.95,\n",
    "        top_k=0,\n",
    "        do_sample=False #True\n",
    "    )\n",
    "\n",
    "    response = tokenizer.decode(summary_text_ids[0], skip_special_tokens=True)\n",
    "\n",
    "    #print(len(input_text), len(response))\n",
    "\n",
    "    return response"
   ]
  },
  {
   "cell_type": "code",
   "execution_count": 95,
   "id": "c27b3ef4",
   "metadata": {},
   "outputs": [
    {
     "name": "stdout",
     "output_type": "stream",
     "text": [
      "====  ainize/kobart-news  ===\n",
      "파금리·고환율·고유가 등 이른바 3고(高) 우려가 다시 불거지면서 19일 장 중 코스피·코스닥지수가 약세를 보이고 있는 가운데 특히 세계 최대 파운드리(반도체 위탁생산) 업체인 대만 TSMC가 반도체 성장 전망치를 낮추자 삼성전자와 SK하이닉스 등 반도체 업종 주가가 꺾이면서 지수 하락 폭을 키우고 있으며 같은 시각 코스닥지수도 24.47포인트(2.86%) 내린 831.18을 기록했다.   \n",
      "이날 오전 1390원선을 다시 넘어섰다고 밝혔다. \n",
      "이들은 중동 정세 불안으로 국제 유가도 뛰었다. \n",
      "\n",
      "또 이스라엘이 계획 중인 가자지구 남단 라파 지상전을 두고 미국 백악관은 민간인 피해 가능성을 여전히 우려하지만, 팔레스타인 무장 정파 하마스를 격퇴한다는 공동의 목표에 합의했다고 발표했다. \n",
      "이번에는 이스라엘이 이란 본토를 미사일로 공격했다는 보도도 나왔다. \n",
      "(왼쪽(왼쪽(왼쪽 본드 유전자는 방송뉴스에 게재했다고 한다) \n",
      "\n",
      "====  noahkim/KoT5_news_summarization  ===\n",
      "19일 장 중 세계 최대 파운드리 업체인 대만 TSMC가 반도체 성장 전망치를 낮추자, 삼성전자와 SK하이닉스 등 반도체업종 주가가 꺾이면서 코스피·코스닥지수가 약세를 보이고 있으며 특히 고금리·고환율,고유가 등의 이른바 3고 우려가 다시 불거지면서 18일 이후 가장 낮은 수준으로 하락 폭을 키우고 있는 가운데 코스피지수는 이날 오전 11시 4분 기준 2566.77로 전날보다 67.93포인트(2.58%) 하락한 것으로 집계됐다. 김석환 미래에셋증권 연구원은 “TSCM가 올해 1분기 실적 발표 후 컨퍼런스콜에서 올해는 메모리 반도체를 제외한 전체 반도체시장 성장률 전망치 기존 '10% 이상’에서 10%로 낮춘 영향으로 보인다”고 말했다. 같은 시각 코스닥지수도 24.47포인트 내린 831.18을 기록했다. 서울 외환시장에서 미국 달러 대비 원화(원·달러) 환율은 전날 오후 1390원선을 또 넘어섰다. 뉴욕 증시에서 외국인과 기관이 각각 3185억원, 330억원을 순매도하고 있다. 코스닥시장 시가총액 상위 종목 주식 대부분이 전일보다 낮은가격에 거래 중이다. \n",
      "\n",
      "====  psyche/KoT5-summarization  ===\n",
      "세계 최대 파운드리(반도체 위탁생산) 업체인 대만 TSMC가 반도체 성장 전망치를 낮추자, 삼성전자와 SK하이닉스 등 반도체 업종 주가가 꺾이면서 19일 장 중 코스피·코스닥지수가 약세를 보이고 있는 가운데, 김석환 미래에셋증권 연구원은 TSCM가 반도체 업황을 하향 조정한 여파로 밤사이 미국 증시에서 반도체 관련 종목군의 약세가 뚜렷했다며 한국 증시에서도 관련종목군의 주가 약세가 지수 하락을 주도하고 있다고 했다. 같은 시각 코스닥지수도 24.47포인트(2.86%) 내린 831.18을 기록했으며, 서울 외환시장에서 미국 달러 대비 원화(원·달러) 환율은 이날 오전 1390원선을 다시 넘어섰다. 중동 정세 불안으로 국제 유가도 뛰었다. 이스라엘이 계획 중인 가자지구 남단 라파 지상전을 두고 미국 백악관은 민간인 피해 가능성을 여전히 우려하지만, 팔레스타인 무장 정파 하마스를 격퇴한다는 공동의 목표에 합의했다고 발표했다. 미국 서부텍사스원유(WTI) 5월물과 브렌트유 6월물 모두 현재 3%대 오름세를 보이고 있다. \n",
      "\n",
      "====  KETI-AIR-Downstream/long-ke-t5-base-summarization  ===\n",
      "세계 최대 파운드리 업체인 대만 TSMC가 반도체 성장 전망치를 낮추자, 삼성전자와 SK하이닉스 등 반도체 업종 주가가 꺾이면서 19일 장 중 코스피·코스닥지수가 약세를 보이고 있으며, 특히 코스피지수는 이날 오전 11시 4분 기준 2566.77로 전날보다 67.93포인트(2.57%) 하락한 것으로 나타나 지난 1월 이후 가장 낮은 수준을 나타내고 있는 것으로 알려졌으며, 이에 대해 김석환 미래에셋증권 연구원은 TSCM의 반도체 업황 하향 조정 여파로 밤사이 미국 증시에서 반도체 관련 종목군의 약세가 뚜렷했다며 한국 증시에서도 관련종목군의 주가 약세가 지수 하락을 주도하고 있다고 밝혔다.. \"이는 미국 국채 2년물 금리가 5%에 육박하는 가운데 외환 당국의 구두개입으로 주춤했던 환율도 하루 만에 반등했다\"고 전했다. \n",
      "\n"
     ]
    }
   ],
   "source": [
    "run_summarize(sentence, models, max_tokens=400, min_tokens=200, num_beams=4) # do_sample = False, no_repeat = 3"
   ]
  },
  {
   "cell_type": "code",
   "execution_count": 97,
   "id": "0083a5a1",
   "metadata": {},
   "outputs": [
    {
     "name": "stdout",
     "output_type": "stream",
     "text": [
      "====  ainize/kobart-news  ===\n",
      "파금리·고환율·고유가 등 이른바 3고(高) 우려가 다시 불거지면서 19일 장 중 코스피·코스닥지수가 약세를 보이고 있는 가운데 특히 세계 최대 파운드리(반도체 위탁생산) 업체인 대만 TSMC가 반도체 성장 전망치를 낮추자 삼성전자와 SK하이닉스 등 반도체 업종 주가가 꺾이면서 지수 하락 폭을 키우고 있으며 같은 시각 코스닥지수도 24.47포인트(2.86%) 내린 831.18을 기록했다.   \n",
      "이날 오전 1390원선을 다시 넘어섰다고 밝혔다. \n",
      "이들은 중동 정세 불안으로 국제 유가도 뛰었다. \n",
      "\n",
      "또 이스라엘이 계획 중인 가자지구 남단 라파 지상전을 두고 미국 백악관은 민간인 피해 가능성을 여전히 우려하지만, 팔레스타인 무장 정파 하마스를 격퇴한다는 공동의 목표에 합의했다고 발표했다. \n",
      "이번에는 이스라엘이 이란 본토를 미사일로 공격했다는 보도도 나왔다. \n",
      "(왼쪽(왼쪽(왼쪽 본드 유전자는 방송뉴스에 게재했다고 한다) \n",
      "\n",
      "====  noahkim/KoT5_news_summarization  ===\n",
      "19일 장 중 세계 최대 파운드리 업체인 대만 TSMC가 반도체 성장 전망치를 낮추자, 삼성전자와 SK하이닉스 등 반도체업종 주가가 꺾이면서 코스피·코스닥지수가 약세를 보이고 있으며 특히 고금리·고환율,고유가 등의 이른바 3고 우려가 다시 불거지면서 18일 이후 가장 낮은 수준으로 하락 폭을 키우고 있는 가운데 코스피지수는 이날 오전 11시 4분 기준 2566.77로 전날보다 67.93포인트(2.58%) 하락한 것으로 집계됐다. 김석환 미래에셋증권 연구원은 “TSCM가 올해 1분기 실적 발표 후 컨퍼런스콜에서 올해는 메모리 반도체를 제외한 전체 반도체시장 성장률 전망치 기존 '10% 이상’에서 10%로 낮춘 영향으로 보인다”고 말했다. 같은 시각 코스닥지수도 24.47포인트 내린 831.18을 기록했다. 서울 외환시장에서 미국 달러 대비 원화(원·달러)  \n",
      "\n",
      "====  psyche/KoT5-summarization  ===\n",
      "세계 최대 파운드리(반도체 위탁생산) 업체인 대만 TSMC가 반도체 성장 전망치를 낮추자, 삼성전자와 SK하이닉스 등 반도체 업종 주가가 꺾이면서 19일 장 중 코스피·코스닥지수가 약세를 보이고 있는 가운데, 김석환 미래에셋증권 연구원은 TSCM가 반도체 업황을 하향 조정한 여파로 밤사이 미국 증시에서 반도체 관련 종목군의 약세가 뚜렷했다며 한국 증시에서도 관련종목군의 주가 약세가 지수 하락을 주도하고 있다고 했다. 같은 시각 코스닥지수도 24.47포인트(2.86%) 내린 831.18을 기록했으며, 서울 외환시장에서 미국 달러 대비 원화(원·달러) 환율은 이날 오전 1390원선을 다시 넘어섰다. 중동 정세 불안으로 국제 유가도 뛰었다. 이스라엘이 계획 중인 가자지구 남단 라파 지상전을 두고 미국 백악관은 민간인 피해 가능성을 여전히 우려하지만, 팔레스타인 무장 정파 하마스를 격퇴한다는 공동의 목표에 합의했다고 발표했다. 미국 서부텍사스원유(WTI) 5월물과 브렌트유 6월물 모두 현재 3%대 오름세를 보이고 있다. \n",
      "\n",
      "====  KETI-AIR-Downstream/long-ke-t5-base-summarization  ===\n",
      "세계 최대 파운드리 업체인 대만 TSMC가 반도체 성장 전망치를 낮추자, 삼성전자와 SK하이닉스 등 반도체 업종 주가가 꺾이면서 19일 장 중 코스피·코스닥지수가 약세를 보이고 있으며, 특히 코스피지수는 이날 오전 11시 4분 기준 2566.77로 전날보다 67.93포인트(2.57%) 하락한 것으로 나타나 지난 1월 이후 가장 낮은 수준을 나타내고 있는 것으로 알려졌으며, 이에 대해 김석환 미래에셋증권 연구원은 TSCM의 반도체 업황 하향 조정 여파로 밤사이 미국 증시에서 반도체 관련 종목군의 약세가 뚜렷했다며 한국 증시에서도 관련종목군의 주가 약세가 지수 하락을 주도하고 있다고 밝혔다.. \"이는 미국 국채 2년물 금리가 5%에 육박하는 가운데 외환 당국의 구두개입으로 주춤했던 환율도 하루 만에 반등했다\"고 전했다. \n",
      "\n"
     ]
    }
   ],
   "source": [
    "run_summarize(sentence, models, max_tokens=300, min_tokens=200, num_beams=4) # do_sample = False, no_repeat = 3"
   ]
  },
  {
   "cell_type": "code",
   "execution_count": 98,
   "id": "35cd1c0a",
   "metadata": {},
   "outputs": [
    {
     "name": "stdout",
     "output_type": "stream",
     "text": [
      "====  ainize/kobart-news  ===\n",
      "파금리·고환율·고유가 등 이른바 3고(高) 우려가 다시 불거지면서 19일 장 중 코스피·코스닥지수가 약세를 보이고 있는 가운데 특히 세계 최대 파운드리(반도체 위탁생산) 업체인 대만 TSMC가 반도체 성장 전망치를 낮추자, 삼성전자와 SK하이닉스 등 반도체 업종 주가가 꺾이면서 지수 하락 폭을 키우고 있어 코스피지수는 이날 오전 11시 4분 기준 2566.77로 전날보다 67.93포인트(2.58%) 하락해 지난 1월 이후 가장 낮은 수준이라고 유가증권시장에서 기관과 외국인이 각각 6712억원, 2743억원 ‘팔자’에 나서면서, 개인만 9123억원 순매도에 나서며 지수 하락 하락에 한 몫을 하고 있는 상황이라고 전했다. \n",
      "\n",
      "이번에는 김석환 미래에셋증권 연구원은 “TSCM가 반도체 업황을 하향 조정한 여파로 밤사이 미국 증시에서 반도체 관련 종목군의 약세가 뚜렷했다”며 “한국 증시에서도 관련 종목 군의 주가 약세가 지수 하락을 주도하고 있다” 고 말했다 \n",
      "\n",
      "====  noahkim/KoT5_news_summarization  ===\n",
      "세계 최대 파운드리 업체인 대만 TSMC가 올해 메모리 반도체를 제외한 전체 반도체 시장 성장률 전망치를 기존 ‘10% 이상’에서 10%로 낮춘 영향으로 미국 국채 2년물 금리가 5%에 육박하는 가운데 외환 당국의 구두개입으로 주춤했던 환율도 하루 만에 반등하는 등 이른바 3고 우려가 다시 불거지면서 19일 장 중 코스피·코스닥지수가 약세를 보이고 있다. 이에 따라 코스피지수는 이날 오전 11시 4분 기준 2566.77로 전날보다 67.93포인트(2.58%) 하락했다. 이는 지난 1월 이후 가장 낮은 수준이다. 한국 증시에서도 관련 종목군의 주가 약세가 지수 하락을 주도하고 있다고 김 미래에셋증권 연구원은 말했다. 반면 코스닥시장에서도 외국인과 기관이 3185억원, 330억원을 순매도하고 있으며 개인만 3577억원 매수 우위를 보이며 지수를 방어하기엔 벅찬 \n",
      "\n",
      "====  psyche/KoT5-summarization  ===\n",
      "고금리·고환율·고유가 등 이른바 3고() 우려가 다시 불거지면서 19일 장 중 코스피·코스닥지수가 약세를 보이고 있는데 특히 세계 최대 파운드리(반도체 위탁생산) 업체인 대만 TSMC가 반도체 성장 전망치를 낮추자, 삼성전자와 SK하이닉스 등 반도체 업종 주가가 꺾이면서 지수 하락 폭을 키우고 있으며 코스피지수는 이날 오전 11시 4분 기준 2566.77이다. 유가증권시장에서 기관과 외국인이 각각 6712억원, 2743억원 팔자에 나서며 지수를 끌어내렸다. 김석환 미래에셋증권 연구원은 한국 증시에서도 관련 종목군의 주가 약세가 지수 하락을 주도하고 있다고 했다. 코스닥시장에서도 외국인과 기관이 3185억원, 330억원을 순매도하고 있으며 개인만 3577억원 매수 우위를 보이고 있으나 지수를 방어하기엔 벅찬 상황이다. 중동 정세 불안으로 국제 유가도 뛰었다. 이스라엘이 계획 중인 가자지구 남단 라파 지상전을 두고 미국 백악관은 민간인 피해 가능성을 여전히 우려하지만, 팔레스타인 무장 정파 하마스를 격퇴한다는 공동의 목표에 합의했다고 발표했다. 이어 이스라엘이 이란 본토를 미사일로 공격했다는 보도도 나왔다. 미국 서부텍사스원유(WTI) 5월물과 브렌트유 6월물 모두 현재 3%대 오름세를 보이고 있다. \n",
      "\n",
      "====  KETI-AIR-Downstream/long-ke-t5-base-summarization  ===\n",
      "고금리·고환율·고유가 등 이른바 3고(高) 우려가 다시 불거지면서 19일 장 중 코스피·코스닥지수가 약세를 보이고 있는데 특히 세계 최대 파운드리(반도체 위탁생산) 업체인 대만 TSMC가 반도체 성장 전망치를 낮추자, 삼성전자와 SK하이닉스 등 반도체 업종 주가가 꺾이면서 지수 하락 폭을 키우고 있고 코스닥시장에서도 외국인과 기관이 3185억원, 330억원을 순매도하고 있어 지수를 방어하기엔 벅찬 상황이며 미국 국채 2년물 금리가 5%에 육박하는 가운데 외환 당국의 구두개입으로 주춤했던 환율도 하루 만에 반등했고 미국 서부텍사스원유(WTI) 5월물과 브렌트유 6월물 모두 현재 3%대 오름세를 나타내고 있는 것으로 나타나고 있다. 이에 김석환 미래에셋증권 연구원은 “TSCM이 반도체 업황을 하향 조정한 여파로 밤사이 미국 증시에서 반도체 관련 종목군의 약세가 뚜렷했다”며 “한국 증시에서도 관련종목군의 주가 약세가 지수 하락을 주도하고 있다” 고 했다. \n",
      "\n"
     ]
    }
   ],
   "source": [
    "run_summarize(sentence, models, max_tokens=300, min_tokens=200, num_beams=20) # do_sample = False, no_repeat = 3"
   ]
  },
  {
   "cell_type": "code",
   "execution_count": 100,
   "id": "c73aef82",
   "metadata": {},
   "outputs": [
    {
     "name": "stdout",
     "output_type": "stream",
     "text": [
      "====  ainize/kobart-news  ===\n",
      "파금리·고환율·고유가 등 이른바 3고(高) 우려가 다시 불거지면서 19일 장 중 코스피·코스닥지수가 약세를 보여, 특히 세계 최대 파운드리(반도체 위탁생산) 업체인 대만 TSMC가 반도체 성장 전망치를 낮추자, 삼성전자와 SK하이닉스 등 반도체 업종 주가가 꺾이면서 지수 하락 폭을 키우고 있고, 이에 따라 유가증권시장에서 기관과 외국인이 각각 6712억원, 2743억원 ‘팔자’에 나서며 지수를 끌어내렸다. \n",
      "\n",
      "====  noahkim/KoT5_news_summarization  ===\n",
      "세계 최대 파운드리 업체인 대만 TSMC가 올해 메모리 반도체를 제외한 전체 반도체 시장 성장률 전망치를 기존 ‘10% 이상’에서 10%로 낮춘 영향으로 미국 국채 2년물 금리가 5%에 육박하는 가운데 외환 당국의 구두개입으로 주춤했던 환율도 하루 만에 반등하는 등 이른바 3고 우려가 다시 불거지면서 19일 장 중 코스피·코스닥지수가 약세를 보이고 있다. \n",
      "\n",
      "====  psyche/KoT5-summarization  ===\n",
      "고금리·고환율·고유가 등 이른바 3고() 우려가 다시 불거지면서 19일 장 중 코스피·코스닥지수가 약세를 보이고 있다. 특히 세계 최대 파운드리(반도체 위탁생산) 업체인 대만 TSMC가 반도체 성장 전망치를 낮추자, 삼성전자와 SK하이닉스 등 반도체 업종 주가가 꺾이면서 지수 하락 폭을 키우고 있다. 유가증권시장에서 기관과 외국인이 각각 6712억원, 2743억원 팔자에 나서며 지수를 끌어내렸다. 김석환 미래에셋증권 연구원은 TSCM가 반도체 업황을 하향 조정한 여파로 밤사이 미국 증시에서 반도체 관련 종목군의 약세가 뚜렷했다며 한국 증시에서도 관련종목군의 주가 약세가 지수 하락을 주도하고 있다고 했다. 미국 국채 2년물 금리가 5%에 육박하는 가운데 외환 당국의 구두개입으로 주춤했던 환율도 하루 만에 반등했다. \n",
      "\n",
      "====  KETI-AIR-Downstream/long-ke-t5-base-summarization  ===\n",
      "고금리·고환율·고유가 등 이른바 3고(高) 우려가 다시 불거지면서 19일 장 중 코스피·코스닥지수가 약세를 보이고 있는데 특히 세계 최대 파운드리(반도체 위탁생산) 업체인 대만 TSMC가 반도체 성장 전망치를 낮추자, 삼성전자와 SK하이닉스 등 반도체 업종 주가가 꺾이면서 지수 하락 폭을 키우고 있고 코스닥시장에서도 외국인과 기관이 3185억원, 330억원을 순매도하고 있다. \n",
      "\n"
     ]
    }
   ],
   "source": [
    "run_summarize(sentence, models, max_tokens=200, min_tokens=100, num_beams=20) # do_sample = False, no_repeat = 3"
   ]
  },
  {
   "cell_type": "code",
   "execution_count": 101,
   "id": "76a5f5f9",
   "metadata": {},
   "outputs": [
    {
     "name": "stdout",
     "output_type": "stream",
     "text": [
      "====  ainize/kobart-news  ===\n",
      "파금리·고환율·고유가 등 이른바 3고(高) 우려가 다시 불거지면서 19일 장 중 코스피·코스닥지수가 약세를 보여, 특히 세계 최대 파운드리(반도체 위탁생산) 업체인 대만 TSMC가 반도체 성장 전망치를 낮추자, 삼성전자와 SK하이닉스 등 반도체 업종 주가가 꺾이면서 지수 하락 폭을 키우고 있고, 같은 시각 코스닥지수도 24.47포인트(2.86%) 내린 831.18을 기록하며 전날 상승분을 모두 반납했다. \n",
      "\n",
      "====  noahkim/KoT5_news_summarization  ===\n",
      "19일 장 중 세계 최대 파운드리 업체인 대만 TSMC가 올해 메모리 반도체를 제외한 전체 반도체 시장 성장률 전망치를 기존 ‘10% 이상’에서 10%로 낮추는 등 이른바 3고 우려가 다시 불거지면서 코스피·코스닥지수가 약세를 보이고 있으며 유가증권시장에서도 외국인과 기관이 3185억원, 330억원을 순매도하고 있고 코스닥시장 시가총액 상위 종목 주식 대부분이 전날보다 낮은 가격에 거래 중이며 같은 시각 코스닥지수도 24.47포인트(2.86%) 내린 831.18을 기록했다. \n",
      "\n",
      "====  psyche/KoT5-summarization  ===\n",
      "고금리·고환율·고유가 등 이른바 3고() 우려가 다시 불거지면서 19일 장 중 코스피·코스닥지수가 약세를 보이고 있으며 특히 세계 최대 파운드리(반도체 위탁생산) 업체인 대만 TSMC가 반도체 성장 전망치를 낮추자, 삼성전자와 SK하이닉스 등 반도체 업종 주가가 꺾이면서 지수 하락 폭을 키우고 있다. 유가증권시장에서 기관과 외국인이 각각 6712억원, 2743억원 팔자에 나서며 지수를 끌어내렸다. 김석환 미래에셋증권 연구원은 TSCM가 반도체 업황을 하향 조정한 여파로 밤사이 미국 증시에서 반도체 관련 종목군의 약세가 뚜렷했다며 한국 증시에서도 관련종목군의 주가 약세가 지수 하락을 주도하고 있다고 했다. \n",
      "\n",
      "====  KETI-AIR-Downstream/long-ke-t5-base-summarization  ===\n",
      "세계 최대 파운드리(반도체 위탁생산) 업체인 대만 TSMC가 반도체 성장 전망치를 낮추자, 삼성전자와 SK하이닉스 등 반도체 업종 주가가 꺾이면서 19일 장 중 코스피·코스닥지수가 약세를 보이고 있으며, 코스피지수는 이날 오전 11시 4분 기준 2566.77로 전날보다 67.93포인트(2.57%) 하락한 것으로 나타났으며, 이는 지난 1월 이후 가장 낮은 수준이다. \n",
      "\n"
     ]
    }
   ],
   "source": [
    "run_summarize(sentence, models, max_tokens=200, min_tokens=100, num_beams=10) # do_sample = False, no_repeat = 3"
   ]
  },
  {
   "cell_type": "code",
   "execution_count": 102,
   "id": "f7bdc401",
   "metadata": {},
   "outputs": [
    {
     "name": "stdout",
     "output_type": "stream",
     "text": [
      "====  ainize/kobart-news  ===\n",
      "파금리·고환율·고유가 등 이른바 3고(高) 우려가 다시 불거지면서 19일 장 중 코스피·코스닥지수가 약세를 보이고 있는 가운데 특히 세계 최대 파운드리(반도체 위탁생산) 업체인 대만 TSMC가 반도체 성장 전망치를 낮추자, 삼성전자와 SK하이닉스 등 반도체 업종 주가가 꺾이면서 지수 하락 폭을 키우고 있으며 같은 시각 코스닥지수도 24.47포인트(2.86%) 내린 831.18을 기록했다.    \n",
      " \n",
      "\n",
      "====  noahkim/KoT5_news_summarization  ===\n",
      "19일 장 중 코스피·코스닥지수가 고금리·고환율·저유가 등 이른바 3고 우려가 다시 불거지면서 약세를 보이고 있으며 특히 세계 최대 파운드리 업체인 대만 TSMC가 반도체 성장 전망치를 낮추자 삼성전자와 SK하이닉스 등의 반도체업종 주가가 꺾이면서 지수 하락 폭을 키우고 있다. \n",
      "\n",
      "====  psyche/KoT5-summarization  ===\n",
      "세계 최대 파운드리 업체인 대만 TSMC가 반도체 성장 전망치를 낮추자, 삼성전자와 SK하이닉스 등 반도체 업종 주가가 꺾이면서 19일 장 중 코스피·코스닥지수가 약세를 보이고 있다. 김석환 미래에셋증권 연구원은 TSCM가 반도체 업황을 하향 조정한 여파로 밤사이 미국 증시에서 반도체 관련 종목군의 약세가 뚜렷했다며 한국 증시에서도 관련 종목군 주가 약세가 지수 하락을 주도하고 있다고 했다. 코스피지수는 이날 오전 11시 4분 기준 2566.77이다. \n",
      "\n",
      "====  KETI-AIR-Downstream/long-ke-t5-base-summarization  ===\n",
      "19일 장 중 코스피·코스닥지수가 약세를 보이고 있는데, 특히 세계 최대 파운드리 업체인 대만 TSMC가 반도체 성장 전망치를 낮추자, 삼성전자와 SK하이닉스 등 반도체 업종 주가가 꺾이면서 지수 하락 폭을 키우고 있으며, 김석환 미래에셋증권 연구원은 “TSCM가 반반도체 업황을 하향 조정한 여파로 밤사이 미국 증시에서 반도체 관련 종목군의 약세가 뚜렷했다”고 했다. \n",
      "\n"
     ]
    }
   ],
   "source": [
    "run_summarize(sentence, models, max_tokens=200, min_tokens=100, num_beams=1) # do_sample = False, no_repeat = 3"
   ]
  },
  {
   "cell_type": "code",
   "execution_count": 107,
   "id": "70a8eb3a",
   "metadata": {},
   "outputs": [
    {
     "name": "stdout",
     "output_type": "stream",
     "text": [
      "====  ainize/kobart-news  ===\n",
      "파금리·고환율·고유가 등 이른바 3고(高) 우려가 다시 불거지면서 19일 장 중 코스피·코스닥지수가 약세를 보여, 특히 세계 최대 파운드리(반도체 위탁생산) 업체인 대만 TSMC가 반도체 성장 전망치를 낮추자, 삼성전자와 SK하이닉스 등 반도체 업종 주가가 꺾이면서 지수 하락 폭을 키우고 있고, 이에 따라 유가증권시장에서 기관과 외국인이 각각 6712억원, 2743억원 ‘팔자’에 나서며 지수를 끌어내린 것으로 나타났다.    \n",
      "이날 오전 11시 4분 기준 2566.77 포인트로 전날보다 67.93포인트(2.58%) 하락했다. \n",
      "김석환 미래에셋증권 연구원은 “TSMC가반도체 업황을 하향 조정한 여파로 밤사이 미국 증시에서 반도체 관련 종목군의 약세가 뚜렷했다”며 “한국 증시에서도 관련 종목구의 주가 약세가 지수 하락을 주도하고 있다” 고 말했다.\n",
      "이기는 하지만  “TSTS가 반도체 업언을 통해 미국 국채 2년물 금리가 5%에 육박하는 가운데 외환 당국의 구두개입으로 주춤했던 환율도 하루 만에 반등했다.\n",
      "(왼쪽(왼쪽(왼쪽) 환율은 이날 오전 1390원선을 다시 넘어섰다. \n",
      "\n",
      "====  noahkim/KoT5_news_summarization  ===\n",
      "19일 장 중 세계 최대 파운드리 업체인 대만 TSMC가 반도체 성장 전망치를 낮추자, 삼성전자와 SK하이닉스 등 반도체업종 주가가 꺾이면서 코스피·코스닥지수가 약세를 보이고 있으며 특히 고금리·고환율,고유가 등의 이른바 3고 우려가 다시 불거지면서 18일 이후 가장 낮은 수준으로 하락 폭을 키우고 있는 가운데 코스피지수는 이날 오전 11시 4분 기준 2566.77로 전날보다 67.93포인트(2.58%) 하락한 것으로 집계됐다. 김석환 미래에셋증권 연구원은 “반도체 업황을 하향 조정한 여파로 밤사이 미국 증시에서 반도체와 반도체장비의 하락률이 3.8%로 컸다”고 말했다. 같은 시각 코스닥지수도 24.47포인트 내린 831.18을 기록했다. 코스닥시장 시가총액 상위 종목 주식 대부분이 전날 상승분을 모두 반납했다. \n",
      "\n",
      "====  psyche/KoT5-summarization  ===\n",
      "세계 최대 파운드리(반도체 위탁생산) 업체인 대만 TSMC가 반도체 성장 전망치를 낮추자, 삼성전자와 SK하이닉스 등 반도체 업종 주가가 꺾이면서 19일 장 중 코스피·코스닥지수가 약세를 보이고 있다. 유가증권시장에서 기관과 외국인이 각각 6712억원, 2743억원 팔자에 나서며 지수를 끌어내렸다. 김석환 미래에셋증권 연구원은 TSMC의 반도체 업황을 하향 조정한 여파로 밤사이 미국 증시에서 반도체 관련 종목군의 약세가 뚜렷했다며 한국 증시에서도 관련종목군의 주가 약세가 지수 하락을 주도하고 있다 고 했다. 고 했다. 고금리·고환율·고유가 등 이른바 3고() 우려가 다시 불거지면서 19일 오전 11시 4분 기준 2566.77이다. 코스닥지수도 24.47포인트(2.86%) 내린 831.18을 기록했으며, 미국 국채 2년물 금리가 5%에 육박하는 가운데 외환 당국의 구두개입으로 주춤했던 환율도 하루 만에 반등했다. 중동 정세 불안으로 국제 유가도 뛰었다. \n",
      "\n",
      "====  KETI-AIR-Downstream/long-ke-t5-base-summarization  ===\n",
      "세계 최대 파운드리 업체인 대만 TSMC가 반도체 성장 전망치를 낮추자, 삼성전자와 SK하이닉스 등 반도체 업종 주가가 꺾이면서 19일 장 중 코스피·코스닥지수가 약세를 보이고 있으며, 특히 코스피지수는 이날 오전 11시 4분 기준 2566.77로 전날보다 67.93포인트(2.57%) 하락한 것으로 나타나 지난 1월 이후 가장 낮은 수준을 나타내고 있는 것으로 알려졌으며, 이에 대해 김석환 미래에셋증권 연구원은 “TSMC의 반도체 업황 하향 조정 여파로 밤사이 미국 증시에서 반도체 관련 종목군의 약세가 뚜렷했다”며 “한국 증시에서도 관련종목군의 주가 약세가 지수 하락을 주도하고 있다” 고 했다.. \"미국 국채 2년물 금리가 5%에 육박하는 가운데 외환 당국의 구두개입으로 주춤했던 환율도 하루 만에 반등했다\"고 밝혔다. \n",
      "\n"
     ]
    }
   ],
   "source": [
    "run_summarize(sentence, models, max_tokens=300, min_tokens=200, num_beams=4) # do_sample = False, no_repeat = 3"
   ]
  },
  {
   "cell_type": "code",
   "execution_count": 108,
   "id": "acdf29b9",
   "metadata": {},
   "outputs": [
    {
     "name": "stdout",
     "output_type": "stream",
     "text": [
      "====  ainize/kobart-news  ===\n",
      "파금리·고환율·고유가 등 이른바 3고(高) 우려가 다시 불거지면서 19일 장 중 코스피·코스닥지수가 약세를 보이고 있는 가운데 특히 세계 최대 파운드리(반도체 위탁생산) 업체인 대만 TSMC가 반도체 성장 전망치를 낮추자 삼성전자와 SK하이닉스 등 반도체 업종 주가가 꺾이면서 지수 하락 폭을 키우고 있으며 세계 최대파운드리 업체인 TSSMC의 반도체 성장률 전망치 하락으로 삼성전자와 SK텔레콤 등 반도체 관련 주가가 꺾이며 지수 하락을 키운 것으로 나타났다.    \n",
      "\n",
      "﻿﻿\n",
      "﻿손해율(高)에 대한  4%(高)에서  TSH가 반도체 업계를 하향 조정한 여파로 밤사이 미국 증시에서 반도체 관련 종목군의 약세가 뚜렷했는데, “한국 증시에서도 관련 종목군군의 주가 약세가 지수 하락 주를 주도하고 있다” 고 했다. \n",
      "\n",
      "김석환 미래에셋증권 연구원은 말했다. \n",
      "\n",
      "\n",
      "김약환 미래에셋증권은 말했다. \n",
      "자세한 목표에 맞춰 \n",
      "\n",
      "====  noahkim/KoT5_news_summarization  ===\n",
      "19일 장 중 세계 최대 파운드리 업체인 대만 TSMC가 반도체 성장 전망치를 낮추자 반도체와 반도체장비의 하락률이 3.8%로 커지면서 코스피·코스닥지수가 약세를 보이고 있으며 특히 세계적 반도체·전자 업체 TV 시장 점유율 1위인 삼성전자와 SK하이닉스 등 반도체업종 주가가 꺾이면서 지수 하락 폭을 키우고 있다. 김석환 미래에셋증권 연구원은 “TSmC가, 반도체가 업황을 하향 조정한 여파로 밤사이 미국 증시에서 반도체, 장비 등의 약세가 뚜렷했다”며 �‘한국 증시에서도 관련 종목군의 주가 약세 지수가,지수 상승을 주도하고 있다’고 말했다. \n",
      "\n",
      "====  psyche/KoT5-summarization  ===\n",
      "세계 최대 파운드리 업체인 대만 TSMC가 반도체 성장 전망치를 낮추자, 삼성전자와 SK하이닉스 등 반도체 업종 주가가 꺾이면서 19일 장 중 코스피·코스닥지수가 약세를 보이고 있다. 유가증권시장에서 기관과 외국인이 각각 6712억원, 2743억원 팔자에 나서며 지수를 끌어내렸다. 유가증시장 대장주인 삼성전자와SK하이닉스가 각각 3%, 5% 이상 약세를 나타내고 있다. 코스닥시장에서도 외국인과 기관이 3185억원, 330억원을 순매도하고 있다. 중동 정세 불안으로 국제 유가도 뛰었다. 이스라엘이 계획 중인 가자지구 남단 라파 지상전을 두고 미국 백악관은 민간인 피해 가능성을 여전히 우려하지만, 팔레스타인 무장 정파 하마스를 격퇴한다는 공동의 목표에 합의했다고 발표했다. 이어 이스라엘이 이란 본토를 미사일로 공격했다는 보도도 나왔다. 미국 서부텍사스원유 5월물과 브렌트유 6월물 모두 현재 3%대 오름세를 보이고 있는 상황이다. \n",
      "\n",
      "====  KETI-AIR-Downstream/long-ke-t5-base-summarization  ===\n",
      "19일 장 중 코스피·코스닥지수가 약세를 보이고 있는데, 특히 세계 최대 파운드리 업체인 대만 TSMC가 반도체 성장 전망치를 낮추자, 삼성전자와 SK하이닉스 등 반도체 업종 주가가 꺾이면서 지수 하락 폭을 키우고 있으며, 김석환 미래에셋증권 연구원은 TS MC가 반반도체 업황을 하향 조정한 여파로 밤사이 미국 증시에서 반도체 관련 종목군의 약세가 뚜렷했다고 밝혔다.. \"한국 증시에서도 관련 종목 군의 주가 약세가 지수 하락을 주도하고 있다\" 고 했다.. '미국과 중국의 국제 유가'도 뛰었다.'. (미국과 미국) '브렌트유' 6월물 모두 현재 3%대 오름세를 보이는 중이다.\".. D. S. G. W. O. E. F. R. L. X. Y. Z. M. N. T. C. V. P. K. H. t.  \n",
      "\n"
     ]
    }
   ],
   "source": [
    "run_summarize(sentence, models, max_tokens=300, min_tokens=200, num_beams=1) # do_sample = False, no_repeat = 3"
   ]
  },
  {
   "cell_type": "code",
   "execution_count": 109,
   "id": "10711a83",
   "metadata": {},
   "outputs": [
    {
     "name": "stdout",
     "output_type": "stream",
     "text": [
      "====  ainize/kobart-news  ===\n",
      "파금리·고환율·고유가 등 이른바 3고(高) 우려가 다시 불거지면서 19일 장 중 코스피·코스닥지수가 약세를 보여, 특히 세계 최대 파운드리(반도체 위탁생산) 업체인 대만 TSMC가 반도체 성장 전망치를 낮추자, 삼성전자와 SK하이닉스 등 반도체 업종 주가가 꺾이면서 지수 하락 폭을 키우고 있고, 이에 따라 유가증권시장에서 기관과 외국인이 각각 6712억원, 2743억원 ‘팔자’에 나서며 지수를 끌어내렸다. \n",
      "\n",
      "이에 약세를 보이고 있다.\n",
      "\n",
      "김석환 미래에셋증권 연구원은 “TSMC가반도체 업황을 하향 조정한 여파로 밤사이 미국 증시에서 반도체 관련 종목군의 약세가 뚜렷했다”며 “한국 증시에서도 관련 종목군을 주가 약세가 지수 하락을 주도하고 있다” 고 했다. \n",
      "\n",
      "김약환 미래에셋증권은 김석환 티브엠을 비롯한 코스닥시장 시가총액 상위 종목 주식 대부분이 전날보다 낮은 가격에 거래 중이다\n",
      " \n",
      "\n",
      "\n",
      "이에 미국 국채 2년물 금리가 5%에 육박하는 가운데 외환 당국의 구두개입으로 주춤했던 환율도 하루 만에 반등했다.\n",
      "(왼쪽(왼쪽(왼쪽) \n",
      "\n",
      "====  noahkim/KoT5_news_summarization  ===\n",
      "19일 장 중 세계 최대 파운드리 업체인 대만 TSMC가 반도체 성장 전망치를 낮추자 반도체와 반도체장비의 하락률이 3.8%로 커지면서 코스피·코스닥지수가 약세를 보이고 있으며, 특히 고금리·고환율·저유가 등 이른바 3고 우려가 다시 불거지면서 19일장중 코스피와 코스닥지수는 약세 폭을 키우고 있고, 미국 국채 2년물 금리가 5%에 육박하는 가운데 외환 당국의 구두개입으로 주춤했던 환율도 하루 만에 반등한 것으로 보인다.\n",
      "\n",
      "\n",
      "한국 증시에서도 관련 종목군의 주가 약세가 지수 하락을 주도하고 있다.\n",
      "한국의 코스피지수 역시 전날보다 67.93포인트(2.58%) 하락했다. 한국 주식시장 시가총액 상위 종목 주식 대부분이 전날 보다 낮은 가격에 거래 중이다.\n",
      "미국 달러 대비 원화(원·달러) 환율은 이날 오전 1390원선을 또 넘어섰다. \n",
      "\n",
      "====  psyche/KoT5-summarization  ===\n",
      "세계 최대 파운드리(반도체 위탁생산) 업체인 대만 TSMC가 반도체 성장 전망치를 낮추자, 삼성전자와 SK하이닉스 등 반도체 업종 주가가 꺾이면서 19일 장 중 코스피·코스닥지수가 약세를 보이고 있다. 유가증권시장에서 기관과 외국인이 각각 6712억원, 2743억원 팔자에 나서며 지수를 끌어내렸고 유가증권시장 대장주인 삼성전자와SK하이닉스가 각각 3%, 5% 이상 약세를 보이는 등 지난 1월 이후 가장 낮은 수준이다. 김석환 미래에셋증권 연구원은 TSMC의 반도체 업황을 하향 조정한 여파로 밤사이 미국 증시에서 반도체 관련 종목군의 약세가 뚜렷했다며 한국 증시에서도 관련종목군의 주가 약세가 지수 하락을 주도하고 있다 고 했다. 고 했다. 고금리·고환율·고유가 등 이른바 3고() 우려가 다시 불거지면서 19일 오전 11시 4분 기준 2566.77로 전날보다 67.93포인트(2.58%) 하락했다. \n",
      "\n",
      "====  KETI-AIR-Downstream/long-ke-t5-base-summarization  ===\n",
      "세계 최대 파운드리 업체인 대만 TSMC가 반도체 성장 전망치를 낮추자, 삼성전자와 SK하이닉스 등 반도체 업종 주가가 꺾이면서 19일 장 중 코스피·코스닥지수가 약세를 보이고 있으며, 특히 코스피지수는 이날 오전 11시 4분 기준 2566.77로 전날보다 67.93포인트(2.57%) 하락한 것으로 나타났다.. 김석환 미래에셋증권 연구원은 “TSMC의 반도체 업황 하향 조정 여파로 밤사이 미국 증시에서 반도체 관련 종목군의 약세가 뚜렷했다”며 “한국 증시에서도 관련 종목 군의 주가 약세가 지수 하락을 주도하고 있다” 고 했다.. ”. 코스닥시장 시가총액 상위 종목 주식 대부분이 전날 보다 낮은 가격에 거래 중이다.” ”. \". 미국 국채 2년물 금리가 5%에 육박하는 가운데 외환 당국의 구두개입으로 주춤했던 환율도 하루 만에 반등하였다. 미국 서부텍사스원유(WTI) 5월물과 브렌트유 6월물 모두 현재 3%대 오름세를 보인다. \n",
      "\n"
     ]
    }
   ],
   "source": [
    "run_summarize(sentence, models, max_tokens=300, min_tokens=200, num_beams=2) # do_sample = False, no_repeat = 3"
   ]
  },
  {
   "cell_type": "code",
   "execution_count": 110,
   "id": "294db175",
   "metadata": {},
   "outputs": [],
   "source": [
    "def summarize(input_text, tokenizer, model, device, max_tokens=200, min_tokens=100, num_beams=2) :\n",
    "    input_ids = tokenizer.encode(input_text, return_tensors=\"pt\").to(device)\n",
    "\n",
    "    # Generate Summary Text Ids\n",
    "    summary_text_ids = model.generate(\n",
    "        input_ids=input_ids,\n",
    "        bos_token_id=model.config.bos_token_id,\n",
    "        eos_token_id=model.config.eos_token_id,\n",
    "        length_penalty=2.0,\n",
    "        max_new_tokens=max_tokens,\n",
    "        min_new_tokens=min_tokens,\n",
    "        no_repeat_ngram_size=3,\n",
    "        num_beams=num_beams,\n",
    "        top_p=0.95,\n",
    "        do_sample=False #True\n",
    "    )\n",
    "\n",
    "    response = tokenizer.decode(summary_text_ids[0], skip_special_tokens=True)\n",
    "\n",
    "    #print(len(input_text), len(response))\n",
    "\n",
    "    return response"
   ]
  },
  {
   "cell_type": "code",
   "execution_count": 111,
   "id": "c0111b74",
   "metadata": {},
   "outputs": [
    {
     "name": "stdout",
     "output_type": "stream",
     "text": [
      "====  ainize/kobart-news  ===\n",
      "파금리·고환율·고유가 등 이른바 3고(高) 우려가 다시 불거지면서 19일 장 중 코스피·코스닥지수가 약세를 보여, 특히 세계 최대 파운드리(반도체 위탁생산) 업체인 대만 TSMC가 반도체 성장 전망치를 낮추자, 삼성전자와 SK하이닉스 등 반도체 업종 주가가 꺾이면서 지수 하락 폭을 키우고 있고, 이에 따라 유가증권시장에서 기관과 외국인이 각각 6712억원, 2743억원 ‘팔자’에 나서며 지수를 끌어내렸다. \n",
      "\n",
      "이에 약세를 보이고 있다.\n",
      "\n",
      "김석환 미래에셋증권 연구원은 “TSMC가반도체 업황을 하향 조정한 여파로 밤사이 미국 증시에서 반도체 관련 종목군의 약세가 뚜렷했다”며 “한국 증시에서도 관련 종목군을 주가 약세가 지수 하락을 주도하고 있다” 고 했다. \n",
      "\n",
      "김약환 미래에셋증권은 김석환 티브엠을 비롯한 코스닥시장 시가총액 상위 종목 주식 대부분이 전날보다 낮은 가격에 거래 중이다\n",
      " \n",
      "\n",
      "\n",
      "이에 미국 국채 2년물 금리가 5%에 육박하는 가운데 외환 당국의 구두개입으로 주춤했던 환율도 하루 만에 반등했다.\n",
      "(왼쪽(왼쪽(왼쪽) \n",
      "\n",
      "====  noahkim/KoT5_news_summarization  ===\n",
      "19일 장 중 세계 최대 파운드리 업체인 대만 TSMC가 반도체 성장 전망치를 낮추자 반도체와 반도체장비의 하락률이 3.8%로 커지면서 코스피·코스닥지수가 약세를 보이고 있으며, 특히 고금리·고환율·저유가 등 이른바 3고 우려가 다시 불거지면서 19일장중 코스피와 코스닥지수는 약세 폭을 키우고 있고, 미국 국채 2년물 금리가 5%에 육박하는 가운데 외환 당국의 구두개입으로 주춤했던 환율도 하루 만에 반등한 것으로 보인다.\n",
      "\n",
      "\n",
      "한국 증시에서도 관련 종목군의 주가 약세가 지수 하락을 주도하고 있다.\n",
      "한국의 코스피지수 역시 전날보다 67.93포인트(2.58%) 하락했다. 한국 주식시장 시가총액 상위 종목 주식 대부분이 전날 보다 낮은 가격에 거래 중이다.\n",
      "미국 달러 대비 원화(원·달러) 환율은 이날 오전 1390원선을 또 넘어섰다. \n",
      "\n",
      "====  psyche/KoT5-summarization  ===\n",
      "세계 최대 파운드리(반도체 위탁생산) 업체인 대만 TSMC가 반도체 성장 전망치를 낮추자, 삼성전자와 SK하이닉스 등 반도체 업종 주가가 꺾이면서 19일 장 중 코스피·코스닥지수가 약세를 보이고 있다. 유가증권시장에서 기관과 외국인이 각각 6712억원, 2743억원 팔자에 나서며 지수를 끌어내렸고 유가증권시장 대장주인 삼성전자와SK하이닉스가 각각 3%, 5% 이상 약세를 보이는 등 지난 1월 이후 가장 낮은 수준이다. 김석환 미래에셋증권 연구원은 TSMC의 반도체 업황을 하향 조정한 여파로 밤사이 미국 증시에서 반도체 관련 종목군의 약세가 뚜렷했다며 한국 증시에서도 관련종목군의 주가 약세가 지수 하락을 주도하고 있다 고 했다. 고 했다. 고금리·고환율·고유가 등 이른바 3고() 우려가 다시 불거지면서 19일 오전 11시 4분 기준 2566.77로 전날보다 67.93포인트(2.58%) 하락했다. \n",
      "\n",
      "====  KETI-AIR-Downstream/long-ke-t5-base-summarization  ===\n",
      "세계 최대 파운드리 업체인 대만 TSMC가 반도체 성장 전망치를 낮추자, 삼성전자와 SK하이닉스 등 반도체 업종 주가가 꺾이면서 19일 장 중 코스피·코스닥지수가 약세를 보이고 있으며, 특히 코스피지수는 이날 오전 11시 4분 기준 2566.77로 전날보다 67.93포인트(2.57%) 하락한 것으로 나타났다.. 김석환 미래에셋증권 연구원은 “TSMC의 반도체 업황 하향 조정 여파로 밤사이 미국 증시에서 반도체 관련 종목군의 약세가 뚜렷했다”며 “한국 증시에서도 관련 종목 군의 주가 약세가 지수 하락을 주도하고 있다” 고 했다.. ”. 코스닥시장 시가총액 상위 종목 주식 대부분이 전날 보다 낮은 가격에 거래 중이다.” ”. \". 미국 국채 2년물 금리가 5%에 육박하는 가운데 외환 당국의 구두개입으로 주춤했던 환율도 하루 만에 반등하였다. 미국 서부텍사스원유(WTI) 5월물과 브렌트유 6월물 모두 현재 3%대 오름세를 보인다. \n",
      "\n"
     ]
    }
   ],
   "source": [
    "run_summarize(sentence, models, max_tokens=300, min_tokens=200, num_beams=2) # do_sample = False, no_repeat = 3"
   ]
  },
  {
   "cell_type": "code",
   "execution_count": 114,
   "id": "d429d2ed",
   "metadata": {},
   "outputs": [
    {
     "name": "stdout",
     "output_type": "stream",
     "text": [
      "====  ainize/kobart-news  ===\n",
      "파금리·고환율·고유가 등 이른바 3고(高) 우려가 다시 불거지면서 19일 장 중 코스피·코스닥지수가 약세를 보여, 특히 세계 최대 파운드리(반도체 위탁생산) 업체인 대만 TSMC가 반도체 성장 전망치를 낮추자, 삼성전자와 SK하이닉스 등 반도체 업종 주가가 꺾이면서 지수 하락 폭을 키우고 있고, 이에 따라 유가증권시장에서 기관과 외국인이 각각 6712억원, 2743억원 ‘팔자’에 나서며 지수를 끌어내렸다. \n",
      "\n",
      "====  noahkim/KoT5_news_summarization  ===\n",
      "19일 장 중 세계 최대 파운드리 업체인 대만 TSMC가 반도체 성장 전망치를 낮추자 반도체와 반도체장비의 하락률이 3.8%로 커지면서 코스피·코스닥지수가 약세를 보이고 있으며, 특히 고금리·고환율·저유가 등 이른바 3고 우려가 다시 불거지면서 19일장중 코스피와 코스닥지수는 약세 폭을 키우고 있다. \n",
      "\n",
      "====  psyche/KoT5-summarization  ===\n",
      "세계 최대 파운드리(반도체 위탁생산) 업체인 대만 TSMC가 반도체 성장 전망치를 낮추자, 삼성전자와 SK하이닉스 등 반도체 업종 주가가 꺾이면서 19일 장 중 코스피·코스닥지수가 약세를 보이고 있다. 유가증권시장에서 기관과 외국인이 각각 6712억원, 2743억원 팔자에 나서며 지수를 끌어내렸고 유가증권시장 대장주인 삼성전자와SK하이닉스가 각각 3%, 5% 이상 약세를 나타내고 있다. 코스피지수는 이날 오전 11시 4분 기준 2566.77이다. \n",
      "\n",
      "====  KETI-AIR-Downstream/long-ke-t5-base-summarization  ===\n",
      "세계 최대 파운드리 업체인 대만 TSMC가 반도체 성장 전망치를 낮추자, 삼성전자와 SK하이닉스 등 반도체 업종 주가가 꺾이면서 19일 장 중 코스피·코스닥지수가 약세를 보이고 있으며, 특히 코스피지수는 이날 오전 11시 4분 기준 2566.77로 전날보다 67.93포인트(2.57%) 하락한 것으로 나타났다.. 김석환 미래에셋증권 연구원은 “TSMC의 반도체 업황 하향 조정 여파로 밤사이 미국 증시에서 반도체 관련 종목군의 약세가 뚜렷했다”며 “한국 증시에서도 관련 종목 군의 주가 약세가 지수 하락을 주도하고 있다” 고 했다. \n",
      "\n"
     ]
    }
   ],
   "source": [
    "run_summarize(sentence, models, max_tokens=300, min_tokens=100, num_beams=2) # do_sample = False, no_repeat = 3"
   ]
  },
  {
   "cell_type": "code",
   "execution_count": 115,
   "id": "35e1769e",
   "metadata": {},
   "outputs": [
    {
     "name": "stdout",
     "output_type": "stream",
     "text": [
      "====  ainize/kobart-news  ===\n",
      "파금리·고환율·고유가 등 이른바 3고(高) 우려가 다시 불거지면서 19일 장 중 코스피·코스닥지수가 약세를 보이고 있는 가운데 특히 세계 최대 파운드리(반도체 위탁생산) 업체인 대만 TSMC가 반도체 성장 전망치를 낮추자 삼성전자와 SK하이닉스 등 반도체 업종 주가가 꺾이면서 지수 하락 폭을 키우고 있으며 같은 시각 코스닥지수도 24.47포인트(2.86%) 내린 831.18을 기록했다. \n",
      "\n",
      "중동 정세 불안으로 국제 유가도 뛰었다. \n",
      "\n",
      "이스라엘이 계획 중인 가자지구 남단 라파 지상전을 두고 미국 백악관은 민간인 피해 가능성을 여전히 우려하지만, 팔레스타인 무장 정파 하마스를 격퇴한다는 공동의 목표에 합의했다고 발표했다. \n",
      "\n",
      "====  noahkim/KoT5_news_summarization  ===\n",
      "19일 장 중 세계 최대 파운드리 업체인 대만 TSMC가 반도체 성장 전망치를 낮추자 반도체와 반도체장비의 하락률이 3.8%로 커지면서 코스피·코스닥지수가 약세를 보이고 있으며, 특히 미국 국채 2년물 금리가 5%에 육박하는 가운데 외환 당국의 구두개입으로 주춤했던 환율도 하루 만에 반등했다. \n",
      "\n",
      "====  psyche/KoT5-summarization  ===\n",
      "세계 최대 파운드리(반도체 위탁생산) 업체인 대만 TSMC가 반도체 성장 전망치를 낮추자, 삼성전자와 SK하이닉스 등 반도체 업종 주가가 꺾이면서 19일 장 중 코스피·코스닥지수가 약세를 보이고 있다. 유가증권시장에서 기관과 외국인이 각각 6712억원, 2743억원 팔자에 나서며 지수를 끌어내렸다. 김석환 미래에셋증권 연구원은 한국 증시에서도 관련 종목군의 주가 약세가 지수 하락을 주도하고 있다고 했다. \n",
      "\n",
      "====  KETI-AIR-Downstream/long-ke-t5-base-summarization  ===\n",
      "세계 최대 파운드리 업체인 대만 TSMC가 반도체 성장 전망치를 낮추자, 삼성전자와 SK하이닉스 등 반도체 업종 주가가 꺾이면서 19일 장 중 코스피·코스닥지수가 약세를 보이고 있으며, 특히 코스피지수는 이날 오전 11시 4분 기준 2566.77로 전날보다 67.93포인트(2.57%) 하락한 것으로 나타나 지난 1월 이후 가장 낮은 수준인 것으로 분석된다. \n",
      "\n"
     ]
    }
   ],
   "source": [
    "run_summarize(sentence, models, max_tokens=300, min_tokens=100, num_beams=3) # do_sample = False, no_repeat = 3"
   ]
  },
  {
   "cell_type": "code",
   "execution_count": 116,
   "id": "94ee0a88",
   "metadata": {},
   "outputs": [
    {
     "name": "stdout",
     "output_type": "stream",
     "text": [
      "====  ainize/kobart-news  ===\n",
      "파금리·고환율·고유가 등 이른바 3고(高) 우려가 다시 불거지면서 19일 장 중 코스피·코스닥지수가 약세를 보여, 특히 세계 최대 파운드리(반도체 위탁생산) 업체인 대만 TSMC가 반도체 성장 전망치를 낮추자, 삼성전자와 SK하이닉스 등 반도체 업종 주가가 꺾이면서 지수 하락 폭을 키우고 있고, 이에 따라 유가증권시장에서 기관과 외국인이 각각 6712억원, 2743억원 ‘팔자’에 나서며 지수를 끌어내렸다. \n",
      "\n",
      "====  noahkim/KoT5_news_summarization  ===\n",
      "19일 장 중 세계 최대 파운드리 업체인 대만 TSMC가 반도체 성장 전망치를 낮추자, 삼성전자와 SK하이닉스 등 반도체업종 주가가 꺾이면서 코스피·코스닥지수가 약세를 보이고 있으며 특히 고금리·고환율,고유가 등의 이른바 3고 우려가 다시 불거지면서 18일 이후 가장 낮은 수준으로 하락 폭을 키우고 있는 가운데 코스피지수는 이날 오전 11시 4분 기준 2566.77로 전날보다 67.93포인트(2.58%) 하락했다. \n",
      "\n",
      "====  psyche/KoT5-summarization  ===\n",
      "세계 최대 파운드리(반도체 위탁생산) 업체인 대만 TSMC가 반도체 성장 전망치를 낮추자, 삼성전자와 SK하이닉스 등 반도체 업종 주가가 꺾이면서 19일 장 중 코스피·코스닥지수가 약세를 보이고 있다. 유가증권시장에서 기관과 외국인이 각각 6712억원, 2743억원 팔자에 나서며 지수를 끌어내렸다. 김석환 미래에셋증권 연구원은 한국 증시에서도 관련 종목군의 주가 약세가 지수 하락을 주도하고 있다고 했다. \n",
      "\n",
      "====  KETI-AIR-Downstream/long-ke-t5-base-summarization  ===\n",
      "세계 최대 파운드리 업체인 대만 TSMC가 반도체 성장 전망치를 낮추자, 삼성전자와 SK하이닉스 등 반도체 업종 주가가 꺾이면서 19일 장 중 코스피·코스닥지수가 약세를 보이고 있으며, 특히 코스피지수는 이날 오전 11시 4분 기준 2566.77로 전날보다 67.93포인트(2.57%) 하락한 것으로 나타나 지난 1월 이후 가장 낮은 수준을 나타내고 있다. \n",
      "\n"
     ]
    }
   ],
   "source": [
    "run_summarize(sentence, models, max_tokens=300, min_tokens=100, num_beams=4) # do_sample = False, no_repeat = 3"
   ]
  },
  {
   "cell_type": "code",
   "execution_count": 117,
   "id": "561e086e",
   "metadata": {},
   "outputs": [
    {
     "name": "stdout",
     "output_type": "stream",
     "text": [
      "====  ainize/kobart-news  ===\n",
      "파금리·고환율·고유가 등 이른바 3고(高) 우려가 다시 불거지면서 19일 장 중 코스피·코스닥지수가 약세를 보여, 특히 세계 최대 파운드리(반도체 위탁생산) 업체인 대만 TSMC가 반도체 성장 전망치를 낮추자, 삼성전자와 SK하이닉스 등 반도체 업종 주가가 꺾이면서 지수 하락 폭을 키우고 있고, 이에 따라 유가증권시장에서 기관과 외국인이 각각 6712억원, 2743억원 ‘팔자’에 나서며 지수를 끌어내렸다. \n",
      "\n",
      "====  noahkim/KoT5_news_summarization  ===\n",
      "세계 최대 파운드리 업체인 대만 TSMC가 올해 메모리 반도체를 제외한 전체 반도체 시장 성장률 전망치를 기존 ‘10% 이상’에서 10%로 낮춘 영향으로 19일 장 중 코스피·코스닥지수가 약세를 보이고 있는 가운데, 김석환 미래에셋증권 연구원은 미국 국채 2년물 금리가 5%에 육박하는 가운데 외환 당국의 구두개입으로 주춤했던 환율도 하루 만에 반등했다. \n",
      "\n",
      "====  psyche/KoT5-summarization  ===\n",
      "세계 최대 파운드리(반도체 위탁생산) 업체인 대만 TSMC가 반도체 성장 전망치를 낮추자, 삼성전자와 SK하이닉스 등 반도체 업종 주가가 꺾이면서 19일 장 중 코스피·코스닥지수가 약세를 보이고 있다. 유가증권시장에서 기관과 외국인이 각각 6712억원, 2743억원 팔자에 나서며 지수를 끌어내렸다. 코스피지수는 이날 오전 11시 4분 기준 2566.77이며 전날보다 67.93포인트(2.58%) 하락했다. \n",
      "\n",
      "====  KETI-AIR-Downstream/long-ke-t5-base-summarization  ===\n",
      "세계 최대 파운드리(반도체 위탁생산) 업체인 대만 TSMC가 반도체 성장 전망치를 낮추자, 삼성전자와 SK하이닉스 등 반도체 업종 주가가 꺾이면서 19일 장 중 코스피·코스닥지수가 약세를 보이고 있으며, 특히 코스피지수는 이날 오전 11시 4분 기준 2566.77로 전날보다 67.93포인트(2.57%) 하락한 것으로 나타났으며, 이에 대해 김석환 미래에셋증권 연구원은 “TSMC의 반도체 업황 하향 조정 여파로 밤사이 미국 증시에서 반도체 관련 종목군의 약세가 뚜렷했다”고 밝혔다. \n",
      "\n"
     ]
    }
   ],
   "source": [
    "run_summarize(sentence, models, max_tokens=300, min_tokens=100, num_beams=8) # do_sample = False, no_repeat = 3"
   ]
  },
  {
   "cell_type": "code",
   "execution_count": 118,
   "id": "641fde4a",
   "metadata": {},
   "outputs": [
    {
     "name": "stdout",
     "output_type": "stream",
     "text": [
      "====  ainize/kobart-news  ===\n",
      "파금리·고환율·고유가 등 이른바 3고(高) 우려가 다시 불거지면서 19일 장 중 코스피·코스닥지수가 약세를 보여, 특히 세계 최대 파운드리(반도체 위탁생산) 업체인 대만 TSMC가 반도체 성장 전망치를 낮추자, 삼성전자와 SK하이닉스 등 반도체 업종 주가가 꺾이면서 지수 하락 폭을 키우고 있고, 이에 따라 유가증권시장에서 기관과 외국인이 각각 6712억원, 2743억원 ‘팔자’에 나서며 지수를 끌어내렸다. \n",
      "\n",
      "====  noahkim/KoT5_news_summarization  ===\n",
      "세계 최대 파운드리 업체인 대만 TSMC가 올해 메모리 반도체를 제외한 전체 반도체 시장 성장률 전망치를 기존 ‘10% 이상’에서 10%로 낮추는 등 이른바 3고 우려가 다시 불거지면서 19일 장 중 코스피·코스닥지수가 약세를 보이고 있는 가운데, 김석환 미래에셋증권 연구원은 미국 국채 2년물 금리가 5%에 육박하는 가운데 외환 당국의 구두개입으로 주춤했던 환율도 하루 만에 반등했다. \n",
      "\n",
      "====  psyche/KoT5-summarization  ===\n",
      "고금리·고환율·고유가 등 이른바 3고() 우려가 다시 불거지면서 19일 장 중 코스피·코스닥지수가 약세를 보이고 있다. 특히 세계 최대 파운드리(반도체 위탁생산) 업체인 대만 TSMC가 반도체 성장 전망치를 낮추자, 삼성전자와 SK하이닉스 등 반도체 업종 주가가 꺾이면서 지수 하락 폭을 키우고 있다. 유가증권시장에서 기관과 외국인이 각각 6712억원, 2743억원 팔자에 나서며 지수를 끌어내렸다. \n",
      "\n",
      "====  KETI-AIR-Downstream/long-ke-t5-base-summarization  ===\n",
      "19일 장 중 코스피·코스닥지수가 약세를 보이고 있는데, 특히 세계 최대 파운드리 업체인 대만 TSMC가 반도체 성장 전망치를 낮추자, 삼성전자와 SK하이닉스 등 반도체 업종 주가가 꺾이면서 지수 하락 폭을 키우고 있으며, 코스피지수는 이날 오전 11시 4분 기준 2566.77로 전날보다 67.93포인트(2.5종자) 하락한 것으로 나타났으며, 이에 대해 김석환 미래에셋증권 연구원은 “TSMC의 반도체 업황 하향 조정 여파로 밤사이 미국 증시에서 반도체 관련 종목군의 약세가 뚜렷했다”며 “한국 증시에서도 관련종목군의 주가 약세가 지수 하락을 주도하고 있다” 고 했다. \n",
      "\n"
     ]
    }
   ],
   "source": [
    "run_summarize(sentence, models, max_tokens=300, min_tokens=100, num_beams=16) # do_sample = False, no_repeat = 3"
   ]
  },
  {
   "cell_type": "code",
   "execution_count": 119,
   "id": "813818cb",
   "metadata": {},
   "outputs": [
    {
     "name": "stdout",
     "output_type": "stream",
     "text": [
      "====  ainize/kobart-news  ===\n",
      "파금리·고환율·고유가 등 이른바 3고(高) 우려가 다시 불거지면서 19일 장 중 코스피·코스닥지수가 약세를 보여, 특히 세계 최대 파운드리(반도체 위탁생산) 업체인 대만 TSMC가 반도체 성장 전망치를 낮추자, 삼성전자와 SK하이닉스 등 반도체 업종 주가가 꺾이면서 지수 하락 폭을 키우고 있고, 이에 따라 유가증권시장에서 기관과 외국인이 각각 6712억원, 2743억원 ‘팔자’에 나서며 지수를 끌어내렸다. \n",
      "\n",
      "====  noahkim/KoT5_news_summarization  ===\n",
      "세계 최대 파운드리 업체인 대만 TSMC가 올해 메모리 반도체를 제외한 전체 반도체 시장 성장률 전망치를 기존 ‘10% 이상’에서 10%로 낮춘 영향으로 미국 국채 2년물 금리가 5%에 육박하는 가운데 외환 당국의 구두개입으로 주춤했던 환율도 하루 만에 반등하는 등 이른바 3고 우려가 다시 불거지면서 19일 장 중 코스피·코스닥지수가 약세를 보이고 있다. \n",
      "\n",
      "====  psyche/KoT5-summarization  ===\n",
      "고금리·고환율·고유가 등 이른바 3고() 우려가 다시 불거지면서 19일 장 중 코스피·코스닥지수가 약세를 보이고 있다. 특히 세계 최대 파운드리(반도체 위탁생산) 업체인 대만 TSMC가 반도체 성장 전망치를 낮추자, 삼성전자와 SK하이닉스 등 반도체 업종 주가가 꺾이면서 지수 하락 폭을 키우고 있다. 유가증권시장에서 기관과 외국인이 각각 6712억원, 2743억원 팔자에 나서며 지수를 끌어내렸다. 같은 시각 코스닥지수도 24.47포인트(2.86%) 내린 831.18을 기록했다. 중동 정세 불안으로 국제 유가도 뛰었다. 이스라엘이 계획 중인 가자지구 남단 라파 지상전을 두고 미국 백악관은 민간인 피해 가능성을 여전히 우려하지만, 팔레스타인 무장 정파 하마스를 격퇴한다는 공동의 목표에 합의했다고 발표했다. 이어 이스라엘이 이란 본토를 미사일로 공격했다는 보도도 나왔다. 미국 서부텍사스원유(WTI) 5월물과 브렌트유 6월물 모두 현재 3%대 오름세를 나타내고 있다. \n",
      "\n",
      "====  KETI-AIR-Downstream/long-ke-t5-base-summarization  ===\n",
      "고금리·고환율·고유가 등 이른바 3고(高) 우려가 다시 불거지면서 19일 장 중 코스피·코스닥지수가 약세를 보이고 있는데 특히 세계 최대 파운드리(반도체 위탁생산) 업체인 대만 TSMC가 반도체 성장 전망치를 낮추자, 삼성전자와 SK하이닉스 등 반도체 업종 주가가 꺾이면서 지수 하락 폭을 키우고 있으며 유가증권시장에서 기관과 외국인이 각각 6712억원, 2743억원 ‘팔자’에 나서며 지수를 끌어내렸다. \n",
      "\n"
     ]
    }
   ],
   "source": [
    "run_summarize(sentence, models, max_tokens=300, min_tokens=100, num_beams=32) # do_sample = False, no_repeat = 3"
   ]
  },
  {
   "cell_type": "code",
   "execution_count": 148,
   "id": "0d1d3295",
   "metadata": {},
   "outputs": [],
   "source": [
    "def summarize(input_text, tokenizer, model, device, max_tokens=200, min_tokens=100, num_beams=2) :\n",
    "    input_ids = tokenizer.encode(input_text, return_tensors=\"pt\").to(device)\n",
    "\n",
    "    # Generate Summary Text Ids\n",
    "    summary_text_ids = model.generate(\n",
    "        input_ids=input_ids,\n",
    "        bos_token_id=model.config.bos_token_id,\n",
    "        eos_token_id=model.config.eos_token_id,\n",
    "        length_penalty=2.0,\n",
    "        max_new_tokens=max_tokens,\n",
    "        min_new_tokens=min_tokens,\n",
    "        no_repeat_ngram_size=3,\n",
    "        num_beams=num_beams,\n",
    "        top_p=0.95, # 누적 확률이 top_p %인 후보집합에서만 생성\n",
    "        top_k=50, # 확률 순위 top_k 밖의 sample은 제외\n",
    "        do_sample=True\n",
    "    )\n",
    "\n",
    "    response = tokenizer.decode(summary_text_ids[0], skip_special_tokens=True)\n",
    "\n",
    "    #print(len(input_text), len(response))\n",
    "\n",
    "    return response"
   ]
  },
  {
   "cell_type": "code",
   "execution_count": 131,
   "id": "ed0fe130",
   "metadata": {},
   "outputs": [
    {
     "name": "stdout",
     "output_type": "stream",
     "text": [
      "====  ainize/kobart-news  ===\n",
      "파금리·고환율·고유가 등 이른바 3고(高) 우려가 다시 불거지면서 19일 장 중 코스피·코스닥지수가 약세를 보여, 특히 세계 최대 파운드리(반도체 위탁생산) 업체인 대만 TSMC가 반도체 성장 전망치를 낮추자, 삼성전자와 SK하이닉스 등 반도체 업종 주가가 꺾이면서 지수 하락 폭을 키우고 있고, 이에 따라 유가증권시장에서 기관과 외국인이 각각 6712억원, 2743억원 ‘팔자’에 나서며 지수를 끌어내렸다. \n",
      "\n",
      "====  noahkim/KoT5_news_summarization  ===\n",
      "19일 장 중 세계 최대 파운드리 업체인 대만 TSMC가 반도체 성장 전망치를 낮추자 반도체와 반도체장비의 하락률이 3.8%로 커지면서 코스피·코스닥지수가 약세를 보이고 있으며 이에 김석환 미래에셋증권 연구원은 미국 국채 2년물 금리가 5%에 육박하는 가운데 외환 당국의 구두개입으로 주춤했던 환율도 하루 만에 반등한 것은 중동 정세 불안으로 국제 유가도 뛰었고 이스라엘이 계획 중인 가자지구 남단 라파 지상전을 두고 백악관은 민간인 피해 가능성을 여전히 우려하지만, 팔레스타인 무장 정파 하마스를 격퇴한다는 공동의 목표에 합의했다고 발표했다. 뉴욕 증시에서 기관과 외국인이 각각 6712억원, 2743억원 ‘팔자’에 나서며 지수를 끌어내렸다. 같은 시각 코스닥지수도 24.47포인트(2.86%) 내린 831.18을 기록했다. \n",
      "\n",
      "====  psyche/KoT5-summarization  ===\n",
      "세계 최대 파운드리(반도체 위탁생산) 업체인 대만 TSMC가 반도체 성장 전망치를 낮추자, 삼성전자와 SK하이닉스 등 반도체 업종 주가가 꺾이면서 19일 장 중 코스피·코스닥지수가 약세를 보이고 있다. 유가증권시장에서 기관과 외국인이 각각 6712억원, 2743억원 팔자에 나서며 지수를 끌어내렸고, 같은 시각 코스닥지수도 24.47포인트(2.86%) 내린 831.18을 기록했다. 중동 정세 불안으로 국제 유가도 뛰었다. 이스라엘이 계획 중인 가자지구 남단 라파 지상전을 두고 미국 백악관은 민간인 피해 가능성을 여전히 우려하지만, 팔레스타인 무장 정파 하마스를 격퇴한다는 공동의 목표에 합의했다고 발표했다. 이어 이스라엘이 이란 본토를 미사일로 공격했다는 보도도 나왔다. 미국 서부텍사스원유(WTI) 5월물과 브렌트유 6월물 모두 현재 3%대 오름세를 나타내고 있다. \n",
      "\n",
      "====  KETI-AIR-Downstream/long-ke-t5-base-summarization  ===\n",
      "19일 장 중 코스피·코스닥지수가 약세를 보이고 있는데, 특히 세계 최대 파운드리 업체인 대만 TSMC가 반도체 성장 전망치를 낮추자, 삼성전자와 SK하이닉스 등 반도체 업종 주가가 꺾이면서 지수 하락 폭을 키우고 있고, 코스닥시장에서도 외국인과 기관이 3185억원, 330억원을 순매도하고 있어 지수를 방어하기엔 벅찬 상황이며, 미국 국채 2년물 금리가 5%에 육박하는 가운데 외환 당국의 구두개입으로 주춤했던 환율도 하루 만에 반등했다. \n",
      "\n"
     ]
    }
   ],
   "source": [
    "run_summarize(sentence, models, max_tokens=300, min_tokens=100, num_beams=32) # top_p = 0.95, top_k = 0"
   ]
  },
  {
   "cell_type": "code",
   "execution_count": 133,
   "id": "66fff7fb",
   "metadata": {},
   "outputs": [
    {
     "name": "stdout",
     "output_type": "stream",
     "text": [
      "====  ainize/kobart-news  ===\n",
      "파금리·고환율·고유가 등 이른바 3고(高) 우려가 다시 불거지면서 19일 장 중 코스피·코스닥지수가 약세를 보여, 특히 세계 최대 파운드리(반도체 위탁생산) 업체인 대만 TSMC가 반도체 성장 전망치를 낮추자, 삼성전자와 SK하이닉스 등 반도체 업종 주가가 꺾이면서 지수 하락 폭을 키우고 있고, 이에 따라 유가증권시장에서 기관과 외국인이 각각 6712억원, 2743억원 ‘팔자’에 나서며 지수를 끌어내렸다. \n",
      "\n",
      "====  noahkim/KoT5_news_summarization  ===\n",
      "19일 장 중 세계 최대 파운드리 업체인 대만 TSMC가 반도체 성장 전망치를 낮추자 반도체와 반도체장비의 하락률이 3.8%로 커지면서 코스피·코스닥지수가 약세를 보이고 있으며, 미국 국채 2년물 금리가 5%에 육박하는 가운데 외환 당국의 구두개입으로 주춤했던 환율도 하루 만에 반등했다. \n",
      "\n",
      "====  psyche/KoT5-summarization  ===\n",
      "세계 최대 파운드리(반도체 위탁생산) 업체인 대만 TSMC가 반도체 성장 전망치를 낮추자, 삼성전자와 SK하이닉스 등 반도체 업종 주가가 꺾이면서 19일 장 중 코스피·코스닥지수가 약세를 보이고 있다. 유가증권시장에서 기관과 외국인이 각각 6712억원, 2743억원 팔자에 나서며 지수를 끌어내렸다. 코스피지수는 이날 오전 11시 4분 기준 2566.77이며 전날보다 67.93포인트(2.58%) 하락했다. \n",
      "\n",
      "====  KETI-AIR-Downstream/long-ke-t5-base-summarization  ===\n",
      "세계 최대 파운드리 업체인 대만 TSMC가 반도체 성장 전망치를 낮추자, 삼성전자와 SK하이닉스 등 반도체 업종 주가가 꺾이면서 19일 장 중 코스피·코스닥지수가 약세를 보이고 있으며, 특히 코스피지수는 이날 오전 11시 4분 기준 2566.77로 전날보다 67.93포인트(2.57%) 하락한 것으로 나타났으며, 이는 지난 1월 이후 가장 낮은 수준이다. \n",
      "\n"
     ]
    }
   ],
   "source": [
    "run_summarize(sentence, models, max_tokens=300, min_tokens=100, num_beams=8) # do_sample = False, no_repeat = 3"
   ]
  },
  {
   "cell_type": "code",
   "execution_count": 135,
   "id": "89293b42",
   "metadata": {},
   "outputs": [
    {
     "name": "stdout",
     "output_type": "stream",
     "text": [
      "====  ainize/kobart-news  ===\n",
      "파금리·고환율·고유가 등 이른바 3고(高) 우려가 다시 불거지면서 19일 장 중 코스피·코스닥지수가 약세를 보여, 특히 세계 최대 파운드리(반도체 위탁생산) 업체인 대만 TSMC가 반도체 성장 전망치를 낮추자, 삼성전자와 SK하이닉스 등 반도체 업종 주가가 꺾이면서 지수 하락 폭을 키우고 있고, 이에 따라 유가증권시장에서 기관과 외국인이 각각 6712억원, 2743억원 ‘팔자’에 나서며 지수를 끌어내렸다. \n",
      "\n",
      "====  noahkim/KoT5_news_summarization  ===\n",
      "19일 장 중 세계 최대 파운드리 업체인 대만 TSMC가 반도체 성장 전망치를 낮추자 반도체와 반도체장비의 하락률이 3.8%로 커지면서 코스피·코스닥지수가 약세를 보이고 있으며 이에 김석환 미래에셋증권 연구원은 미국 국채 2년물 금리가 5%에 육박하는 가운데 외환 당국의 구두개입으로 주춤했던 환율도 하루 만에 반등한 것은 중동 정세 불안으로 국제 유가도 뛰었고 이스라엘이 계획 중인 가자지구 남단 라파 지상전을 두고 백악관은 민간인 피해 가능성을 여전히 우려하지만, 팔레스타인 무장 정파 하마스를 격퇴한다는 공동의 목표에 합의했다고 발표했다. 뉴욕 증시에서 기관과 외국인이 각각 6712억원, 2743억원 ‘팔자’에 나서며 지수를 끌어내렸다. 한국 증시에서도 관련 종목군의 주가 약세가 지수 하락을 주도하고 있다. 같은 시각 코스닥지수도 24.47포인트(2.86%) 내린 8 \n",
      "\n",
      "====  psyche/KoT5-summarization  ===\n",
      "세계 최대 파운드리(반도체 위탁생산) 업체인 대만 TSMC가 반도체 성장 전망치를 낮추자, 삼성전자와 SK하이닉스 등 반도체 업종 주가가 꺾이면서 19일 장 중 코스피·코스닥지수가 약세를 보이고 있다. 유가증권시장에서 기관과 외국인이 각각 6712억원, 2743억원 팔자에 나서며 지수를 끌어내렸고, 같은 시각 코스닥지수도 24.47포인트(2.86%) 내린 831.18을 기록했다. 중동 정세 불안으로 국제 유가도 뛰었다. 이스라엘이 계획 중인 가자지구 남단 라파 지상전을 두고 미국 백악관은 민간인 피해 가능성을 여전히 우려하지만, 팔레스타인 무장 정파 하마스를 격퇴한다는 공동의 목표에 합의했다고 발표했다. 이어 이스라엘이 이란 본토를 미사일로 공격했다는 보도도 나왔다. 미국 서부텍사스원유(WTI) 5월물과 브렌트유 6월물 모두 현재 3%대 오름세를 나타내고 있다. \n",
      "\n",
      "====  KETI-AIR-Downstream/long-ke-t5-base-summarization  ===\n",
      "19일 장 중 코스피·코스닥지수가 약세를 보이고 있는데, 특히 세계 최대 파운드리 업체인 대만 TSMC가 반도체 성장 전망치를 낮추자, 삼성전자와 SK하이닉스 등 반도체 업종 주가가 꺾이면서 지수 하락 폭을 키우고 있으며, 코스피지수는 이날 오전 11시 4분 기준 2566.77로 전날보다 67.93포인트(2.57%) 하락한 것으로 나타났고, 이에 대해 김석환 미래에셋증권 연구원은 “TSMC의 반도체 업황 하향 조정 여파로 밤사이 미국 증시에서 반도체 관련 종목군의 약세가 뚜렷했다”며 “한국 증시에서도 관련종목군의 주가 약세가 지수 하락을 주도하고 있다” 고 했다. \n",
      "\n"
     ]
    }
   ],
   "source": [
    "run_summarize(sentence, models, max_tokens=300, min_tokens=100, num_beams=32) # top_k = 20"
   ]
  },
  {
   "cell_type": "code",
   "execution_count": 136,
   "id": "b6ecc7ff",
   "metadata": {},
   "outputs": [
    {
     "name": "stdout",
     "output_type": "stream",
     "text": [
      "====  ainize/kobart-news  ===\n",
      "파금리·고환율·고유가 등 이른바 3고(高) 우려가 다시 불거지면서 19일 장 중 코스피·코스닥지수가 약세를 보이고 있는 가운데 특히 세계 최대 파운드리(반도체 위탁생산) 업체인 대만 TSMC가 반도체 성장 전망치를 낮추자 삼성전자와 SK하이닉스 등 반도체 업종 주가가 꺾이면서 지수 하락 폭을 키우고 있어 코스피지수는 이날 오전 11시 4분 기준 2566.77로 전날보다 67.93포인트(2.58%) 하락했다. \n",
      "\n",
      "====  noahkim/KoT5_news_summarization  ===\n",
      "19일 장 중 세계 최대 파운드리 업체인 대만 TSMC가 반도체 성장 전망치를 낮추자 반도체와 반도체장비의 하락률이 3.8%로 커지면서 코스피·코스닥지수가 약세를 보이고 있으며 미국 국채 2년물 금리가 5%에 육박하는 가운데 외환 당국의 구두개입으로 주춤했던 환율도 하루 만에 반등했다. \n",
      "\n",
      "====  psyche/KoT5-summarization  ===\n",
      "세계 최대 파운드리(반도체 위탁생산) 업체인 대만 TSMC가 반도체 성장 전망치를 낮추자, 삼성전자와 SK하이닉스 등 반도체 업종 주가가 꺾이면서 19일 장 중 코스피·코스닥지수가 고금리·고환율·고유가 등 이른바 3고() 우려가 다시 불거지면서 19일 오전 11시 4분 기준 2566.77로 전날보다 67.93포인트(2.58%) 하락하며 약세를 보이고 있다. 유가증권시장에서 기관과 외국인이 각각 6712억원, 2743억원 팔자에 나서며 지수를 끌어내렸다. 김석환 미래에셋증권 연구원은 반도체 업황을 하향 조정한 여파로 밤사이 미국 증시에서 반도체 관련 종목군의 약세가 뚜렷했다며 한국 증시에서도 관련종목군의 주가 약세가 지수 하락을 주도하고 있다고 했다. \n",
      "\n",
      "====  KETI-AIR-Downstream/long-ke-t5-base-summarization  ===\n",
      "19일 장 중 코스피·코스닥지수가 약세를 보이고 있는데, 특히 세계 최대 파운드리 업체인 대만 TSMC가 반도체 성장 전망치를 낮추자, 삼성전자와 SK하이닉스 등 반도체 업종 주가가 꺾이면서 지수 하락 폭을 키우고 있으며, 코스피지수는 이날 오전 11시 4분 기준 2566.77로 전날보다 67.93포인트(2.57%) 하락한 것으로 나타나고 있다. \n",
      "\n"
     ]
    }
   ],
   "source": [
    "run_summarize(sentence, models, max_tokens=300, min_tokens=100, num_beams=8) # top_k = 20"
   ]
  },
  {
   "cell_type": "code",
   "execution_count": 137,
   "id": "5b0a6dc5",
   "metadata": {},
   "outputs": [
    {
     "name": "stdout",
     "output_type": "stream",
     "text": [
      "====  ainize/kobart-news  ===\n",
      "파금리·고환율·고유가 등 이른바 3고(高) 우려가 다시 불거지면서 19일 장 중 코스피·코스닥지수가 약세를 보이고 있는 가운데 특히 세계 최대 파운드리(반도체 위탁생산) 업체인 대만 TSMC가 반도체 성장 전망치를 낮추자 삼성전자와 SK하이닉스 등 반도체 업종 주가가 꺾이면서 지수 하락 폭을 키우고 있으며 같은 시각 코스닥지수도 24.47포인트(2.86%) 내린 831.18을 기록하며 전날 상승분을 모두 반납했다. \n",
      "\n",
      "====  noahkim/KoT5_news_summarization  ===\n",
      "19일 장 중 세계 최대 파운드리 업체인 대만 TSMC가 반도체 성장 전망치를 낮추자 반도체와 반도체장비의 하락률이 3.8%로 커지면서 코스피·코스닥지수가 약세를 보이고 있으며, 미국 국채 2년물 금리가 5%에 육박하는 가운데 외환 당국의 구두개입으로 주춤했던 환율도 하루 만에 반등했다. \n",
      "\n",
      "====  psyche/KoT5-summarization  ===\n",
      "세계 최대 파운드리 업체인 대만 TSMC가 반도체 성장 전망치를 낮추자, 삼성전자와 SK하이닉스 등 반도체 업종 주가가 꺾이면서 19일 장 중 코스피·코스닥지수가 약세를 보이고 있다. 유가증권시장에서 기관과 외국인이 각각 6712억원, 2743억원 팔자에 나서며 지수를 끌어내렸다. 같은 시각 코스닥지수도 24.47포인트(2.86%) 내린 831.18을 기록했다. 중동 정세 불안으로 국제 유가도 뛰었다. 이스라엘이 계획 중인 가자지구 남단 라파 지상전을 두고 미국 백악관은 민간인 피해 가능성을 여전히 우려하지만, 팔레스타인 무장 정파 하마스를 격퇴한다는 공동의 목표에 합의했다고 발표했다. 이어 이스라엘이 이란 본토를 미사일로 공격했다는 보도도 나왔다. 미국 서부텍사스원유(WTI) 5월물과 브렌트유 6월물 모두 현재 3%대 오름세를 나타내고 있다. \n",
      "\n",
      "====  KETI-AIR-Downstream/long-ke-t5-base-summarization  ===\n",
      "19일 장 중 코스피·코스닥지수가 약세를 보이고 있는데, 특히 세계 최대 파운드리 업체인 대만 TSMC가 반도체 성장 전망치를 낮추자, 삼성전자와 SK하이닉스 등 반도체 업종 주가가 꺾이면서 지수 하락 폭을 키우고 있으며, 코스피지수는 이날 오전 11시 4분 기준 2566.77로 전날보다 67.93포인트(2.57%) 하락한 것으로 나타나고 있다. \n",
      "\n"
     ]
    }
   ],
   "source": [
    "run_summarize(sentence, models, max_tokens=300, min_tokens=100, num_beams=8) # top_k = 20"
   ]
  },
  {
   "cell_type": "code",
   "execution_count": 138,
   "id": "29ced951",
   "metadata": {},
   "outputs": [
    {
     "name": "stdout",
     "output_type": "stream",
     "text": [
      "====  ainize/kobart-news  ===\n",
      "파금리·고환율·고유가 등 이른바 3고(高) 우려가 다시 불거지면서 19일 장 중 코스피·코스닥지수가 약세를 보여, 특히 세계 최대 파운드리(반도체 위탁생산) 업체인 대만 TSMC가 반도체 성장 전망치를 낮추자, 삼성전자와 SK하이닉스 등 반도체 업종 주가가 꺾이면서 지수 하락 폭을 키우고 있고, 이에 따라 유가증권시장에서 기관과 외국인이 각각 6712억원, 2743억원 ‘팔자’에 나서며 지수를 끌어내렸다. \n",
      "\n",
      "====  noahkim/KoT5_news_summarization  ===\n",
      "19일 장 중 세계 최대 파운드리 업체인 대만 TSMC가 반도체 성장 전망치를 낮추자 반도체와 반도체장비의 하락률이 3.8%로 커지면서 코스피·코스닥지수가 약세를 보이고 있으며 미국 국채 2년물 금리가 5%에 육박하는 가운데 외환 당국의 구두개입으로 주춤했던 환율도 하루 만에 반등했다. \n",
      "\n",
      "====  psyche/KoT5-summarization  ===\n",
      "세계 최대 파운드리(반도체 위탁생산) 업체인 대만 TSMC가 반도체 성장 전망치를 낮추자, 삼성전자와 SK하이닉스 등 반도체 업종 주가가 꺾이면서 19일 장 중 코스피·코스닥지수가 약세를 보이고 있다. 유가증권시장에서 기관과 외국인이 각각 6712억원, 2743억원 팔자에 나서며 지수를 끌어내렸다. 김석환 미래에셋증권 연구원은 한국 증시에서도 관련 종목군의 주가 약세가 지수 하락을 주도하고 있다고 했다. 중동 정세 불안으로 국제 유가도 뛰었다. 이스라엘이 계획 중인 가자지구 남단 라파 지상전을 두고 미국 백악관은 민간인 피해 가능성을 여전히 우려하지만, 팔레스타인 무장 정파 하마스를 격퇴한다는 공동의 목표에 합의했다고 발표했다. 이어 이스라엘이 이란 본토를 미사일로 공격했다는 보도도 나왔다. 미국 서부텍사스원유(WTI) 5월물과 브렌트유 6월물 모두 현재 3%대 오름세를 나타내고 있다. \n",
      "\n",
      "====  KETI-AIR-Downstream/long-ke-t5-base-summarization  ===\n",
      "19일 장 중 코스피·코스닥지수가 약세를 보이고 있는데, 특히 세계 최대 파운드리 업체인 대만 TSMC가 반도체 성장 전망치를 낮추자, 삼성전자와 SK하이닉스 등 반도체 업종 주가가 꺾이면서 지수 하락 폭을 키우고 있으며, 특히 코스피지수는 이날 오전 11시 4분 기준 2566.77로 전날보다 67.93포인트(2.57%) 하락한 것으로 나타났다.  \n",
      "\n"
     ]
    }
   ],
   "source": [
    "run_summarize(sentence, models, max_tokens=300, min_tokens=100, num_beams=8) #  top_k = 20"
   ]
  },
  {
   "cell_type": "code",
   "execution_count": 140,
   "id": "9665dfcc",
   "metadata": {},
   "outputs": [
    {
     "name": "stdout",
     "output_type": "stream",
     "text": [
      "====  ainize/kobart-news  ===\n",
      "파금리·고환율·고유가 등 이른바 3고(高) 우려가 다시 불거지면서 19일 장 중 코스피·코스닥지수가 약세를 보이고 있는 가운데 특히 세계 최대 파운드리(반도체 위탁생산) 업체인 대만 TSMC가 반도체 성장 전망치를 낮추자 삼성전자와 SK하이닉스 등 반도체 업종 주가가 꺾이면서 지수 하락 폭을 키우고 있으며 같은 시각 코스닥지수도 24.47포인트(2.86%) 내린 831.18을 기록하며 전날 상승분을 모두 반납했다. \n",
      "\n",
      "====  noahkim/KoT5_news_summarization  ===\n",
      "19일 장 중 세계 최대 파운드리 업체인 대만 TSMC가 반도체 성장 전망치를 낮추자 반도체와 반도체장비의 하락률이 3.8%로 커지면서 코스피·코스닥지수가 약세를 보이고 있으며 미국 국채 2년물 금리가 5%에 육박하는 가운데 외환 당국의 구두개입으로 주춤했던 환율도 하루 만에 반등했다. \n",
      "\n",
      "====  psyche/KoT5-summarization  ===\n",
      "세계 최대 파운드리(반도체 위탁생산) 업체인 대만 TSMC가 반도체 성장 전망치를 낮추자, 삼성전자와 SK하이닉스 등 반도체 업종 주가가 꺾이면서 19일 장 중 코스피·코스닥지수가 약세를 보이고 있다. 유가증권시장에서 기관과 외국인이 각각 6712억원, 2743억원 팔자에 나서며 지수를 끌어내렸고, 같은 시각 코스닥지수도 24.47포인트(2.86%) 내린 831.18을 기록했다. 중동 정세 불안으로 국제 유가도 뛰었다. 이스라엘이 계획 중인 가자지구 남단 라파 지상전을 두고 미국 백악관은 민간인 피해 가능성을 여전히 우려하지만, 팔레스타인 무장 정파 하마스를 격퇴한다는 공동의 목표에 합의했다고 발표했다. 이어 이스라엘이 이란 본토를 미사일로 공격했다는 보도도 나왔다. \n",
      "\n",
      "====  KETI-AIR-Downstream/long-ke-t5-base-summarization  ===\n",
      "19일 장 중 코스피·코스닥지수가 약세를 보이고 있는데, 특히 세계 최대 파운드리 업체인 대만 TSMC가 반도체 성장 전망치를 낮추자, 삼성전자와 SK하이닉스 등 반도체 업종 주가가 꺾이면서 지수 하락 폭을 키우고 있으며, 코스피지수는 이날 오전 11시 4분 기준 2566.77로 전날보다 67.93포인트(2.57%) 하락한 것으로 나타났으며, 이는 지난 1월 이후 가장 낮은 수준이다. \n",
      "\n"
     ]
    }
   ],
   "source": [
    "run_summarize(sentence, models, max_tokens=300, min_tokens=100, num_beams=8) #  top_k = 20, top_p = 0.95"
   ]
  },
  {
   "cell_type": "code",
   "execution_count": 141,
   "id": "f9e3f8ed",
   "metadata": {},
   "outputs": [
    {
     "name": "stdout",
     "output_type": "stream",
     "text": [
      "====  ainize/kobart-news  ===\n",
      "파금리·고환율·고유가 등 이른바 3고(高) 우려가 다시 불거지면서 19일 장 중 코스피·코스닥지수가 약세를 보이고 있는 가운데 특히 세계 최대 파운드리(반도체 위탁생산) 업체인 대만 TSMC가 반도체 성장 전망치를 낮추자 삼성전자와 SK하이닉스 등 반도체 업종 주가가 꺾이면서 지수 하락 폭을 키우고 있으며 같은 시각 코스닥지수도 24.47포인트(2.86%) 내린 831.18을 기록했다. \n",
      ". 하락하며 하루 만에 국채 2년물 금리가 5%에 육박하는 가운데 외환 당국의 구두개입으로 주춤했던 환율도 하루 만에 반등했다.\n",
      "\n",
      "또 이스라엘이 계획 중인 가자지구 남단 라파 지상전을 두고 미국 백악관은 민간인 피해 가능성을 우려하지만, 팔레스타인 무장 정파 하마스를 격퇴한다는 공동의 목표에 합의했다고 발표했다라는 발표와 이스라엘이 이란 본토를 미사일로 공격했다는 보도도 나오면서 중동 정세 불안으로 국제 유가도 뛰었다. \n",
      "\n",
      "====  noahkim/KoT5_news_summarization  ===\n",
      "19일 장 중 세계 최대 파운드리 업체인 대만 TSMC가 반도체 성장 전망치를 낮추자 반도체와 반도체장비의 하락률이 3.8%로 커지면서 코스피·코스닥지수가 약세를 보이고 있으며, 특히 고금리·고환율, 고유가 등 이른바 3고 우려가 다시 불거지면서 19일, 미국 국채 2년물 금리가 5%에 육박하는 가운데 외환 당국의 구두개입으로 주춤했던 환율도 하루 만에 반등했다. \n",
      "\n",
      "====  psyche/KoT5-summarization  ===\n",
      "세계 최대 파운드리(반도체 위탁생산) 업체인 대만 TSMC가 반도체 성장 전망치를 낮추자, 삼성전자와 SK하이닉스 등 반도체 업종 주가가 꺾이면서 19일 장 중 코스피·코스닥지수가 약세를 보이고 있다. 유가증권시장에서 기관과 외국인이 각각 6712억원, 2743억원 팔자에 나서며 지수를 끌어내렸고, 같은 시각 코스닥지수도 24.47포인트(2.86%) 내린 831.18을 기록했다. 중동 정세 불안으로 국제 유가도 뛰었다. 이스라엘이 계획 중인 가자지구 남단 라파 지상전을 두고 미국 백악관은 민간인 피해 가능성을 여전히 우려하지만, 팔레스타인 무장 정파 하마스를 격퇴한다는 공동의 목표에 합의했다고 발표했다. 이어 이스라엘이 이란 본토를 미사일로 공격했다는 보도도 나왔다. \n",
      "\n",
      "====  KETI-AIR-Downstream/long-ke-t5-base-summarization  ===\n",
      "19일 장 중 코스피·코스닥지수가 약세를 보이고 있는데, 특히 세계 최대 파운드리 업체인 대만 TSMC가 반도체 성장 전망치를 낮추자, 삼성전자와 SK하이닉스 등 반도체 업종 주가가 꺾이면서 지수 하락 폭을 키우고 있으며, 코스피지수는 이날 오전 11시 4분 기준 2566.77로 전날보다 67.93포인트(2.5종자) 하락한 것으로 나타났으며, 이는 지난 1월 이후 가장 낮은 수준이다. \n",
      "\n"
     ]
    }
   ],
   "source": [
    "run_summarize(sentence, models, max_tokens=300, min_tokens=100, num_beams=8) #  top_k = 20, top_p = 0.95"
   ]
  },
  {
   "cell_type": "code",
   "execution_count": 142,
   "id": "afd80d65",
   "metadata": {},
   "outputs": [
    {
     "name": "stdout",
     "output_type": "stream",
     "text": [
      "====  ainize/kobart-news  ===\n",
      "파금리·고환율·고유가 등 이른바 3고(高) 우려가 다시 불거지면서 19일 장 중 코스피·코스닥지수가 약세를 보여, 특히 세계 최대 파운드리(반도체 위탁생산) 업체인 대만 TSMC가 반도체 성장 전망치를 낮추자, 삼성전자와 SK하이닉스 등 반도체 업종 주가가 꺾이면서 지수 하락 폭을 키우고 있고, 이에 따라 유가증권시장에서 기관과 외국인이 각각 6712억원, 2743억원 ‘팔자’에 나서며 지수를 끌어내렸다. \n",
      "\n",
      "====  noahkim/KoT5_news_summarization  ===\n",
      "19일 장 중 세계 최대 파운드리 업체인 대만 TSMC가 반도체 성장 전망치를 낮추자 반도체와 반도체장비의 하락률이 3.8%로 커지면서 코스피·코스닥지수가 약세를 보이고 있으며 미국 국채 2년물 금리가 5%에 육박하는 가운데 외환 당국의 구두개입으로 주춤했던 환율도 하루 만에 반등했다. \n",
      "\n",
      "====  psyche/KoT5-summarization  ===\n",
      "세계 최대 파운드리 업체인 대만 TSMC가 반도체 성장 전망치를 낮추자, 삼성전자와 SK하이닉스 등 반도체 업종 주가가 꺾이면서 19일 장 중 코스피·코스닥지수가 약세를 보이고 있다. 유가증권시장에서 기관과 외국인이 각각 6712억원, 2743억원 팔자에 나서며 지수를 끌어내렸다. 코스피지수는 이날 오전 11시 4분 기준 2566.77으로 전날보다 67.93포인트(2.58%) 하락했다. 코스피지수와 코스닥지수도 24.47포인트(2.86%) 내린 831.18을 기록했으며 코스닥시장 시가총액 상위 종목 주식 대부분이 전날보다 낮은 가격에 거래 중이다. 미국 국채 2년물 금리가 5%에 육박하는 가운데 외환 당국의 구두개입으로 주춤했던 환율도 하루 만에 반등했다. 중동 정세 불안으로 국제 유가도 뛰었다. 이스라엘이 계획 중인 가자지구 남단 라파 지상전을 두고 미국 백악관은 민간인 피해 가능성을 여전히 우려하지만, 팔레스타인 무장 정파 하마스를 격퇴한다는 공동의 목표에 합의했다고 발표했고 이어 이스라엘이 이란 본토를 미사일로 공격했다는 보도도 나왔다. \n",
      "\n",
      "====  KETI-AIR-Downstream/long-ke-t5-base-summarization  ===\n",
      "19일 장 중 코스피·코스닥지수가 약세를 보이고 있는데, 특히 세계 최대 파운드리 업체인 대만 TSMC가 반도체 성장 전망치를 낮추자, 삼성전자와 SK하이닉스 등 반도체 업종 주가가 꺾이면서 지수 하락 폭을 키우고 있으며, 코스피지수는 이날 오전 11시 4분 기준 2566.77로 전날보다 67.93포인트(2.57%) 하락한 것으로 나타났으며, 이에 대해 김석환 미래에셋증권 연구원은 “TSMC의 반도체 업황 하향 조정 여파로 밤사이 미국 증시에서 반도체 관련 종목군의 약세가 뚜렷했다”고 밝혔다. \n",
      "\n"
     ]
    }
   ],
   "source": [
    "run_summarize(sentence, models, max_tokens=300, min_tokens=100, num_beams=8) #  top_k = 20, top_p = 0.95"
   ]
  },
  {
   "cell_type": "code",
   "execution_count": 146,
   "id": "6df3ffc2",
   "metadata": {},
   "outputs": [
    {
     "name": "stdout",
     "output_type": "stream",
     "text": [
      "====  ainize/kobart-news  ===\n",
      "파금리·고환율·고유가 등 이른바 3고(高) 우려가 다시 불거지면서 19일 장 중 코스피·코스닥지수가 약세를 보이고 있는 가운데 특히 세계 최대 파운드리(반도체 위탁생산) 업체인 대만 TSMC가 반도체 성장 전망치를 낮추자 삼성전자와 SK하이닉스 등 반도체 업종 주가가 꺾이면서 지수 하락 폭을 키우고 있으며 같은 시각 코스닥지수도 24.47포인트(2.86%) 내린 831.18을 기록하며 전날 상승분을 모두 반납했다. \n",
      "\n",
      "====  noahkim/KoT5_news_summarization  ===\n",
      "19일 장 중 세계 최대 파운드리 업체인 대만 TSMC가 반도체 성장 전망치를 낮추자 반도체와 반도체장비의 하락률이 3.8%로 커지면서 코스피·코스닥지수가 약세를 보이고 있으며 미국 국채 2년물 금리가 5%에 육박하는 가운데 외환 당국의 구두개입으로 주춤했던 환율도 하루 만에 반등했다. \n",
      "\n",
      "====  psyche/KoT5-summarization  ===\n",
      "세계 최대 파운드리(반도체 위탁생산) 업체인 대만 TSMC가 반도체 성장 전망치를 낮추자, 삼성전자와 SK하이닉스 등 반도체 업종 주가가 꺾이면서 19일 장 중 코스피·코스닥지수가 약세를 보이고 있다. 유가증권시장에서 기관과 외국인이 각각 6712억원, 2743억원 팔자에 나서며 지수를 끌어내렸다. 코스피지수는 이날 오전 11시 4분 기준 2566.77이며 전날보다 67.93포인트(2.58%) 하락했다. \n",
      "\n",
      "====  KETI-AIR-Downstream/long-ke-t5-base-summarization  ===\n",
      "19일 장 중 코스피·코스닥지수가 약세를 보이고 있는데 특히 세계 최대 파운드리(반도체 위탁생산) 업체인 대만 TSMC가 반도체 성장 전망치를 낮추자, 삼성전자와 SK하이닉스 등 반도체 업종 주가가 꺾이면서 지수 하락 폭을 키우고 있고 코스닥시장에서도 외국인과 기관이 3185억원, 330억원을 순매도하고 있어 지수를 방어하기엔 벅찬 상황이며 미국 국채 2년물 금리가 5%에 육박하는 가운데 외환 당국의 구두개입으로 주춤했던 환율도 하루 만에 반등했다. \n",
      "\n"
     ]
    }
   ],
   "source": [
    "run_summarize(sentence, models, max_tokens=300, min_tokens=100, num_beams=8) #  top_k = 20, top_p = 0.95"
   ]
  },
  {
   "cell_type": "code",
   "execution_count": 147,
   "id": "eb7f3d3c",
   "metadata": {},
   "outputs": [
    {
     "name": "stdout",
     "output_type": "stream",
     "text": [
      "====  ainize/kobart-news  ===\n",
      "파금리·고환율·고유가 등 이른바 3고(高) 우려가 다시 불거지면서 19일 장 중 코스피·코스닥지수가 약세를 보이고 있는 가운데 특히 세계 최대 파운드리(반도체 위탁생산) 업체인 대만 TSMC가 반도체 성장 전망치를 낮추자 삼성전자와 SK하이닉스 등 반도체 업종 주가가 꺾이면서 지수 하락 폭을 키우고 있으며 같은 시각 코스닥지수도 24.47포인트(2.86%) 내린 831.18을 기록했다. \n",
      "\n",
      "중동 정세 불안으로 국제 유가도 뛰었으며 특히 이스라엘이 계획 중인 가자지구 남단 라파 지상전을 두고 미국 백악관은 민간인 피해 가능성을 우려하지만, 팔레스타인 무장 정파 하마스를 격퇴한다는 공동의 목표에 합의했다고 발표했다. \n",
      "\n",
      "====  noahkim/KoT5_news_summarization  ===\n",
      "19일 장 중 세계 최대 파운드리 업체인 대만 TSMC가 반도체 성장 전망치를 낮추자 반도체와 반도체장비의 하락률이 3.8%로 커지면서 코스피·코스닥지수가 약세를 보이고 있으며, 특히 고금리·고환율,고유가 등 이른바 3고 우려가 다시 불거지면서 19일, 코스피지수는 이날 오전 11시 4분 기준 2566.77로 전날보다 67.93포인트(2.58%) 하락했다. \n",
      "\n",
      "====  psyche/KoT5-summarization  ===\n",
      "세계 최대 파운드리(반도체 위탁생산) 업체인 대만 TSMC가 반도체 성장 전망치를 낮추자, 삼성전자와 SK하이닉스 등 반도체 업종 주가가 꺾이면서 19일 장 중 코스피·코스닥지수가 약세를 보이고 있다. 유가증권시장에서 기관과 외국인이 각각 6712억원, 2743억원 팔자에 나서며 지수를 끌어내렸다. 같은 시각 코스닥지수도 24.47포인트(2.86%) 내린 831.18을 기록했다. 중동 정세 불안으로 국제 유가도 뛰었다. \n",
      "\n",
      "====  KETI-AIR-Downstream/long-ke-t5-base-summarization  ===\n",
      "19일 장 중 코스피·코스닥지수가 약세를 보이고 있는데, 특히 세계 최대 파운드리 업체인 대만 TSMC가 반도체 성장 전망치를 낮추자, 삼성전자와 SK하이닉스 등 반도체 업종 주가가 꺾이면서 지수 하락 폭을 키우고 있고, 코스닥시장에서도 외국인과 기관이 3185억원, 330억원을 순매도하고 있어 지수를 방어하기엔 벅찬 상황이다.  \n",
      "\n"
     ]
    }
   ],
   "source": [
    "run_summarize(sentence, models, max_tokens=300, min_tokens=100, num_beams=8) #  top_k = 20, top_p = 0.95"
   ]
  },
  {
   "cell_type": "code",
   "execution_count": 149,
   "id": "dbff8d9e",
   "metadata": {},
   "outputs": [
    {
     "name": "stdout",
     "output_type": "stream",
     "text": [
      "====  ainize/kobart-news  ===\n",
      "파금리·고환율·고유가 등 이른바 3고(高) 우려가 다시 불거지면서 19일 장 중 코스피·코스닥지수가 약세를 보여, 특히 세계 최대 파운드리(반도체 위탁생산) 업체인 대만 TSMC가 반도체 성장 전망치를 낮추자, 삼성전자와 SK하이닉스 등 반도체 업종 주가가 꺾이면서 지수 하락 폭을 키우고 있고, 이에 따라 유가증권시장에서 기관과 외국인이 각각 6712억원, 2743억원 ‘팔자’에 나서며 지수를 끌어내렸다. \n",
      "\n",
      "====  noahkim/KoT5_news_summarization  ===\n",
      "19일 장 중 세계 최대 파운드리 업체인 대만 TSMC가 반도체 성장 전망치를 낮추자 반도체와 반도체장비의 하락률이 3.8%로 커지면서 코스피·코스닥지수가 약세를 보이고 있으며, 특히 고금리·고환율·저유가 등 이른바 3고 우려가 다시 불거지면서 19일, 미국 국채 2년물 금리가 5%에 육박하는 가운데 외환 당국의 구두개입으로 주춤했던 환율도 하루 만에 반등한 것은 중동 정세 불안으로 국제 유가도 뛰었다. \n",
      "\n",
      "====  psyche/KoT5-summarization  ===\n",
      "세계 최대 파운드리(반도체 위탁생산) 업체인 대만 TSMC가 반도체 성장 전망치를 낮추자, 삼성전자와 SK하이닉스 등 반도체 업종 주가가 꺾이면서 19일 장 중 코스피·코스닥지수가 약세를 보이고 있다. 유가증권시장에서 기관과 외국인이 각각 6712억원, 2743억원 팔자에 나서며 지수를 끌어내렸고, 같은 시각 코스닥지수도 24.47포인트(2.86%) 내린 831.18을 기록했다. 중동 정세 불안으로 국제 유가도 뛰었다. 이스라엘이 계획 중인 가자지구 남단 라파 지상전을 두고 미국 백악관은 민간인 피해 가능성을 여전히 우려하지만, 팔레스타인 무장 정파 하마스를 격퇴한다는 공동의 목표에 합의했다고 발표했다. 이어 이스라엘이 이란 본토를 미사일로 공격했다는 보도도 나왔다. 미국 서부텍사스원유(WTI) 5월물과 브렌트유 6월물 모두 현재 3%대 오름세를 보이고 있는 상황이다. \n",
      "\n",
      "====  KETI-AIR-Downstream/long-ke-t5-base-summarization  ===\n",
      "19일 장 중 코스피·코스닥지수가 약세를 보이고 있는데, 특히 세계 최대 파운드리 업체인 대만 TSMC가 반도체 성장 전망치를 낮추자, 삼성전자와 SK하이닉스 등 반도체 업종 주가가 꺾이면서 지수 하락 폭을 키우고 있으며, 코스피지수는 이날 오전 11시 4분 기준 2566.77로 전날보다 67.93포인트(2.57%) 하락한 것으로 나타났으며, 이에 대해 김석환 미래에셋증권 연구원은 “TSMC의 반도체 업황 하향 조정 여파로 밤사이 미국 증시에서 반도체 관련 종목군의 약세가 뚜렷했다”고 밝혔다. \n",
      "\n"
     ]
    }
   ],
   "source": [
    "run_summarize(sentence, models, max_tokens=300, min_tokens=100, num_beams=8) #  top_k = 50, top_p = 0.95"
   ]
  },
  {
   "cell_type": "code",
   "execution_count": 150,
   "id": "e854dad3",
   "metadata": {},
   "outputs": [
    {
     "name": "stdout",
     "output_type": "stream",
     "text": [
      "====  ainize/kobart-news  ===\n",
      "파금리·고환율·고유가 등 이른바 3고(高) 우려가 다시 불거지면서 19일 장 중 코스피·코스닥지수가 약세를 보여, 특히 세계 최대 파운드리(반도체 위탁생산) 업체인 대만 TSMC가 반도체 성장 전망치를 낮추자, 삼성전자와 SK하이닉스 등 반도체 업종 주가가 꺾이면서 지수 하락 폭을 키우고 있고, 이에 따라 유가증권시장에서 기관과 외국인이 각각 6712억원, 2743억원 ‘팔자’에 나서며 지수를 끌어내렸다. \n",
      "\n",
      "====  noahkim/KoT5_news_summarization  ===\n",
      "19일 장 중 세계 최대 파운드리 업체인 대만 TSMC가 반도체 성장 전망치를 낮추자 반도체와 반도체장비의 하락률이 3.8%로 커지면서 코스피·코스닥지수가 약세를 보이고 있으며, 특히 고금리·고환율·저유가 등 이른바 3고 우려가 다시 불거지면서 19일장 내에서 코스피지수와 코스닥지수의 약세 폭을 키우고 있고, 미국 국채 2년물 금리가 5%에 육박하는 가운데 외환 당국의 구두개입으로 주춤했던 환율도 하루 만에 반등한 것은 중동 정세 불안으로 국제 유가도 뛰었고, 이스라엘이 계획 중인 가자지구 남단 라파 지상전을 두고 백악관은 민간인 피해 가능성을 여전히 우려하지만, 팔레스타인 무장 정파 하마스를 격퇴한다는 공동의 목표에 합의했다고 발표했다. 같은 시각 코스닥지수도 24.47포인트(2.86%) 내린 831.18을 기록했으며, 코스닥시장 시가총액 상위 종목 주식 대부분이 전날보다 낮은 가격 \n",
      "\n",
      "====  psyche/KoT5-summarization  ===\n",
      "세계 최대 파운드리(반도체 위탁생산) 업체인 대만 TSMC가 반도체 성장 전망치를 낮추자, 삼성전자와 SK하이닉스 등 반도체 업종 주가가 꺾이면서 19일 장 중 코스피·코스닥지수가 약세를 보이고 있는 가운데, 김석환 미래에셋증권 연구원은 \"한국 증시에서도 관련 종목군의 주가 약세가 지수 하락을 주도하고 있다\"고 했고, 코스닥시장에서도 외국인과 기관이 3185억원, 330억원을 순매도하고 있으나 지수를 방어하기엔 벅찬 상황이다. 중동 정세 불안으로 국제 유가도 뛰었다. 이스라엘이 계획 중인 가자지구 남단 라파 지상전을 두고 미국 백악관은 민간인 피해 가능성을 여전히 우려하지만, 팔레스타인 무장 정파 하마스를 격퇴한다는 공동의 목표에 합의했다고 발표했다. 이어 이스라엘이 이란 본토를 미사일로 공격했다는 보도도 나왔다. 미국 서부텍사스원유(WTI) 5월물과 브렌트유 6월물 모두 현재 3%대 오름세를 보이고 있다. \n",
      "\n",
      "====  KETI-AIR-Downstream/long-ke-t5-base-summarization  ===\n",
      "세계 최대 파운드리 업체인 대만 TSMC가 반도체 성장 전망치를 낮추자, 삼성전자와 SK하이닉스 등 반도체 업종 주가가 꺾이면서 19일 장 중 코스피·코스닥지수가 약세를 보이고 있으며, 특히 코스피지수는 이날 오전 11시 4분 기준 2566.77로 전날보다 67.93포인트(2.57%) 하락한 것으로 나타났으며, 이는 지난 1월 이후 가장 낮은 수준으로, 유가증권시장에서 기관과 외국인이 각각 6712억원, 2743억원 ‘팔자’에 나서며 지수를 끌어내렸다. \n",
      "\n"
     ]
    }
   ],
   "source": [
    "run_summarize(sentence, models, max_tokens=300, min_tokens=100, num_beams=8) #  top_k = 50, top_p = 0.95"
   ]
  },
  {
   "cell_type": "code",
   "execution_count": 154,
   "id": "f84e99c2",
   "metadata": {},
   "outputs": [
    {
     "name": "stdout",
     "output_type": "stream",
     "text": [
      "====  ainize/kobart-news  ===\n",
      "파금리·고환율·고유가 등 이른바 3고(高) 우려가 다시 불거지면서 19일 장 중 코스피·코스닥지수가 약세를 보여, 특히 세계 최대 파운드리(반도체 위탁생산) 업체인 대만 TSMC가 반도체 성장 전망치를 낮추자, 삼성전자와 SK하이닉스 등 반도체 업종 주가가 꺾이면서 지수 하락 폭을 키우고 있고, 이에 따라 유가증권시장에서 기관과 외국인이 각각 6712억원, 2743억원 ‘팔자’에 나서며 지수를 끌어내렸다. \n",
      "\n",
      "====  noahkim/KoT5_news_summarization  ===\n",
      "19일 장 중 세계 최대 파운드리 업체인 대만 TSMC가 반도체 성장 전망치를 낮추자 반도체와 반도체장비의 하락률이 3.8%로 커지면서 코스피·코스닥지수가 약세를 보이고 있으며 이에 김석환 미래에셋증권 연구원은 “미국 국채 2년물 금리가 5%에 육박하는 가운데 외환 당국의 구두개입으로 주춤했던 환율도 하루 만에 반등했다”고 말했다. \n",
      "\n",
      "====  psyche/KoT5-summarization  ===\n",
      "세계 최대 파운드리(반도체 위탁생산) 업체인 대만 TSMC가 반도체 성장 전망치를 낮추자, 삼성전자와 SK하이닉스 등 반도체 업종 주가가 꺾이면서 19일 장 중 코스피·코스닥지수가 약세를 보이고 있다. 유가증권시장에서 기관과 외국인이 각각 6712억원, 2743억원 팔자에 나서며 지수를 끌어내렸다. 코스피지수는 이날 오전 11시 4분 기준 2566.77이며 전날보다 67.93포인트(2.58%) 하락했다. \n",
      "\n",
      "====  KETI-AIR-Downstream/long-ke-t5-base-summarization  ===\n",
      "세계 최대 파운드리 업체인 대만 TSMC가 반도체 성장 전망치를 낮추자, 삼성전자와 SK하이닉스 등 반도체 업종 주가가 꺾이면서 19일 장 중 코스피·코스닥지수가 약세를 보이고 있는 가운데, 코스피지수는 이날 오전 11시 4분 기준 2566.77로 전날보다 67.93포인트(2.57%) 하락한 것으로 나타났으며, 이는 지난 1월 이후 가장 낮은 수준이다. \n",
      "\n"
     ]
    }
   ],
   "source": [
    "run_summarize(sentence, models, max_tokens=300, min_tokens=100, num_beams=4) #  top_k = 50, top_p = 0.95"
   ]
  },
  {
   "cell_type": "code",
   "execution_count": 155,
   "id": "c3289a41",
   "metadata": {},
   "outputs": [
    {
     "name": "stdout",
     "output_type": "stream",
     "text": [
      "====  ainize/kobart-news  ===\n",
      "파금리·고환율·고유가 등 이른바 3고(高) 우려가 다시 불거지면서 19일 장 중 코스피·코스닥지수가 약세를 보여, 특히 세계 최대 파운드리(반도체 위탁생산) 업체인 대만 TSMC가 반도체 성장 전망치를 낮추자, 삼성전자와 SK하이닉스 등 반도체 업종 주가가 꺾이면서 지수 하락 폭을 키우고 있고, 이에 따라 유가증권시장에서 기관과 외국인이 각각 6712억원, 2743억원 ‘팔자’에 나서며 지수를 끌어내렸다. \n",
      "\n",
      "====  noahkim/KoT5_news_summarization  ===\n",
      "19일 장 중 세계 최대 파운드리 업체인 대만 TSMC가 반도체 성장 전망치를 낮추자 반도체와 반도체장비의 하락률이 3.8%로 커지면서 코스피·코스닥지수가 약세를 보이고 있으며, 미국 국채 2년물 금리가 5%에 육박하는 가운데 외환 당국의 구두개입으로 주춤했던 환율도 하루 만에 반등했다. \n",
      "\n",
      "====  psyche/KoT5-summarization  ===\n",
      "세계 최대 파운드리(반도체 위탁생산) 업체인 대만 TSMC가 반도체 성장 전망치를 낮추자, 삼성전자와 SK하이닉스 등 반도체 업종 주가가 꺾이면서 19일 장 중 코스피·코스닥지수가 약세를 보이고 있다. 유가증권시장에서 기관과 외국인이 각각 6712억원, 2743억원 팔자에 나서며 지수를 끌어내렸다. 김석환 미래에셋증권 연구원은 한국 증시에서도 관련 종목군의 주가 약세가 지수 하락을 주도하고 있다고 했다. \n",
      "\n",
      "====  KETI-AIR-Downstream/long-ke-t5-base-summarization  ===\n",
      "19일 장 중 코스피·코스닥지수가 약세를 보이고 있는데, 특히 세계 최대 파운드리 업체인 대만 TSMC가 반도체 성장 전망치를 낮추자, 삼성전자와 SK하이닉스 등 반도체 업종 주가가 꺾이면서 지수 하락 폭을 키우고 있으며, 코스닥시장에서도 외국인과 기관이 3185억원, 330억원을 순매도하고 있어 지수를 방어하기엔 벅찬 상황이다.  \n",
      "\n"
     ]
    }
   ],
   "source": [
    "run_summarize(sentence, models, max_tokens=300, min_tokens=100, num_beams=8) #  top_k = 50, top_p = 0.95"
   ]
  },
  {
   "cell_type": "code",
   "execution_count": 156,
   "id": "6fb1b00d",
   "metadata": {},
   "outputs": [],
   "source": [
    "def summarize(input_text, tokenizer, model, device, max_tokens=200, min_tokens=100, num_beams=2) :\n",
    "    input_ids = tokenizer.encode(input_text, return_tensors=\"pt\").to(device)\n",
    "\n",
    "    # Generate Summary Text Ids\n",
    "    summary_text_ids = model.generate(\n",
    "        input_ids=input_ids,\n",
    "        bos_token_id=model.config.bos_token_id,\n",
    "        eos_token_id=model.config.eos_token_id,\n",
    "        length_penalty=2.0,\n",
    "        max_new_tokens=max_tokens,\n",
    "        min_new_tokens=min_tokens,\n",
    "        no_repeat_ngram_size=3,\n",
    "        num_beams=num_beams,\n",
    "        top_p=0.92, # 누적 확률이 top_p %인 후보집합에서만 생성\n",
    "        top_k=50, # 확률 순위 top_k 밖의 sample은 제외\n",
    "        do_sample=True\n",
    "    )\n",
    "\n",
    "    response = tokenizer.decode(summary_text_ids[0], skip_special_tokens=True)\n",
    "\n",
    "    #print(len(input_text), len(response))\n",
    "\n",
    "    return response"
   ]
  },
  {
   "cell_type": "code",
   "execution_count": 157,
   "id": "b4c528d6",
   "metadata": {},
   "outputs": [
    {
     "name": "stdout",
     "output_type": "stream",
     "text": [
      "====  ainize/kobart-news  ===\n",
      "파금리·고환율·고유가 등 이른바 3고(高) 우려가 다시 불거지면서 19일 장 중 코스피·코스닥지수가 약세를 보이고 있는 가운데 특히 세계 최대 파운드리(반도체 위탁생산) 업체인 대만 TSMC가 반도체 성장 전망치를 낮추자 삼성전자와 SK하이닉스 등 반도체 업종 주가가 꺾이면서 지수 하락 폭을 키우고 있으며 같은 시각 코스닥지수도 24.47포인트(2.86%) 내린 831.18을 기록하며 전날 상승분을 모두 반납했다. \n",
      "\n",
      "====  noahkim/KoT5_news_summarization  ===\n",
      "19일 장 중 세계 최대 파운드리 업체인 대만 TSMC가 반도체 성장 전망치를 낮추자 반도체와 반도체장비의 하락률이 3.8%로 커지면서 코스피·코스닥지수가 약세를 보이고 있으며 미국 국채 2년물 금리가 5%에 육박하는 가운데 외환 당국의 구두개입으로 주춤했던 환율도 하루 만에 반등했다. \n",
      "\n",
      "====  psyche/KoT5-summarization  ===\n",
      "세계 최대 파운드리(반도체 위탁생산) 업체인 대만 TSMC가 반도체 성장 전망치를 낮추자, 삼성전자와 SK하이닉스 등 반도체 업종 주가가 꺾이면서 19일 장 중 코스피·코스닥지수가 약세를 보이고 있다. 유가증권시장에서 기관과 외국인이 각각 6712억원, 2743억원 팔자에 나서며 지수를 끌어내렸고, 같은 시각 코스닥지수도 24.47포인트(2.86%) 내린 831.18을 기록했다. 중동 정세 불안으로 국제 유가도 뛰었다. 이스라엘이 계획 중인 가자지구 남단 라파 지상전을 두고 미국 백악관은 민간인 피해 가능성을 여전히 우려하지만, 팔레스타인 무장 정파 하마스를 격퇴한다는 공동의 목표에 합의했다고 발표했다. 이어 이스라엘이 이란 본토를 미사일로 공격했다는 보도도 나왔다. \n",
      "\n",
      "====  KETI-AIR-Downstream/long-ke-t5-base-summarization  ===\n",
      "19일 장 중 코스피·코스닥지수가 약세를 보이고 있는데, 특히 세계 최대 파운드리 업체인 대만 TSMC가 반도체 성장 전망치를 낮추자, 삼성전자와 SK하이닉스 등 반도체 업종 주가가 꺾이면서 지수 하락 폭을 키우고 있으며, 코스피지수는 이날 오전 11시 4분 기준 2566.77로 전날보다 67.93포인트(2.57%) 하락한 것으로 나타났으며, 이에 대해 김석환 미래에셋증권 연구원은 “TSMC의 반도체 업황 하향 조정 여파로 밤사이 미국 증시에서 반도체 관련 종목군의 약세가 뚜렷했다”고 밝혔다. \n",
      "\n"
     ]
    }
   ],
   "source": [
    "run_summarize(sentence, models, max_tokens=300, min_tokens=100, num_beams=8) #  top_k = 50, top_p = 0.95"
   ]
  },
  {
   "cell_type": "code",
   "execution_count": 158,
   "id": "1876c97b",
   "metadata": {},
   "outputs": [
    {
     "name": "stdout",
     "output_type": "stream",
     "text": [
      "====  ainize/kobart-news  ===\n",
      "파금리·고환율·고유가 등 이른바 3고(高) 우려가 다시 불거지면서 19일 장 중 코스피·코스닥지수가 약세를 보이고 있는 가운데 특히 세계 최대 파운드리(반도체 위탁생산) 업체인 대만 TSMC가 반도체 성장 전망치를 낮추자 삼성전자와 SK하이닉스 등 반도체 업종 주가가 꺾이면서 지수 하락 폭을 키우고 있으며 같은 시각 코스닥지수도 24.47포인트(2.86%) 내린 831.18을 기록하며 전날 상승분을 모두 반납했다. \n",
      "\n",
      "====  noahkim/KoT5_news_summarization  ===\n",
      "19일 장 중 세계 최대 파운드리 업체인 대만 TSMC가 올해 메모리 반도체를 제외한 전체 반도체 시장 성장률 전망치를 기존 ‘10% 이상’에서 10%로 낮춘 영향으로 코스피·코스닥지수가 약세를 보이고 있는 가운데 김석환 미래에셋증권 연구원은 미국 국채 2년물 금리가 5%에 육박하는 가운데, 외환 당국의 구두개입으로 주춤했던 환율도 하루 만에 반등했다. \n",
      "\n",
      "====  psyche/KoT5-summarization  ===\n",
      "세계 최대 파운드리(반도체 위탁생산) 업체인 대만 TSMC가 반도체 성장 전망치를 낮추자, 삼성전자와 SK하이닉스 등 반도체 업종 주가가 꺾이면서 19일 장 중 코스피·코스닥지수가 약세를 보이고 있다. 유가증권시장에서 기관과 외국인이 각각 6712억원, 2743억원 팔자에 나서며 지수를 끌어내렸다. 김석환 미래에셋증권 연구원은 한국 증시에서도 관련 종목군의 주가 약세가 지수 하락을 주도하고 있다고 했다. \n",
      "\n",
      "====  KETI-AIR-Downstream/long-ke-t5-base-summarization  ===\n",
      "세계 최대 파운드리 업체인 대만 TSMC가 반도체 성장 전망치를 낮추자, 삼성전자와 SK하이닉스 등 반도체 업종 주가가 꺾이면서 19일 장 중 코스피·코스닥지수가 약세를 보이고 있는데, 이는 지난 1월 이후 가장 낮은 수준이며, 코스피지수는 이날 오전 11시 4분 기준 2566.77로 전날보다 67.93포인트(2.57%) 하락한 수치이다..  \n",
      "\n"
     ]
    }
   ],
   "source": [
    "run_summarize(sentence, models, max_tokens=300, min_tokens=100, num_beams=4) #  top_k = 50, top_p = 0.95"
   ]
  },
  {
   "cell_type": "code",
   "execution_count": 160,
   "id": "e6fc081b",
   "metadata": {},
   "outputs": [
    {
     "name": "stdout",
     "output_type": "stream",
     "text": [
      "====  ainize/kobart-news  ===\n",
      "파금리·고환율·고유가 등 이른바 3고(高) 우려가 다시 불거지면서 19일 장 중 코스피·코스닥지수가 약세를 보여, 특히 세계 최대 파운드리(반도체 위탁생산) 업체인 대만 TSMC가 반도체 성장 전망치를 낮추자, 삼성전자와 SK하이닉스 등 반도체 업종 주가가 꺾이면서 지수 하락 폭을 키우고 있고, 이에 따라 유가증권시장에서 기관과 외국인이 각각 6712억원, 2743억원 ‘팔자’에 나서며 지수를 끌어내렸다. \n",
      "\n",
      "====  noahkim/KoT5_news_summarization  ===\n",
      "19일 장 중 세계 최대 파운드리 업체인 대만 TSMC가 반도체 성장 전망치를 낮추자 반도체와 반도체장비의 하락률이 3.8%로 커지면서 코스피·코스닥지수가 약세를 보이고 있으며 미국 국채 2년물 금리가 5%에 육박하는 가운데 외환 당국의 구두개입으로 주춤했던 환율도 하루 만에 반등했다. \n",
      "\n",
      "====  psyche/KoT5-summarization  ===\n",
      "세계 최대 파운드리 업체인 대만 TSMC가 반도체 성장 전망치를 낮추자, 삼성전자와 SK하이닉스 등 반도체 업종 주가가 꺾이면서 19일 장 중 코스피·코스닥지수가 약세를 보이고 있다. 유가증권시장에서 기관과 외국인이 각각 6712억원, 2743억원 팔자에 나서며 지수를 끌어내렸고, 같은 시각 코스닥지수도 24.47포인트(2.86%) 내린 831.18을 기록했다. 미국 국채 2년물 금리가 5%에 육박하는 가운데 외환 당국의 구두개입으로 주춤했던 환율도 하루 만에 반등했다. \n",
      "\n",
      "====  KETI-AIR-Downstream/long-ke-t5-base-summarization  ===\n",
      "세계 최대 파운드리 업체인 대만 TSMC가 반도체 성장 전망치를 낮추자, 삼성전자와 SK하이닉스 등 반도체 업종 주가가 꺾이면서 19일 장 중 코스피·코스닥지수가 약세를 보이고 있으며 이는 지난 1월 이후 가장 낮은 수준으로 코스피지수는 이날 오전 11시 4분 기준 2566.77로 전날보다 67.93포인트(2.57%) 하락한 수치이다.. 이에 대해 김석환 미래에셋증권 연구원은 “TSMC의 반도체 업황 하향 조정 여파로 밤사이 미국 증시에서 반도체 관련 종목군의 약세가 뚜렷했다”며 “한국 증시에서도 관련종목군의 주가 약세가 지수 하락을 주도하고 있다” 고 했다. \n",
      "\n"
     ]
    }
   ],
   "source": [
    "run_summarize(sentence, models, max_tokens=300, min_tokens=100, num_beams=4) #  top_k = 50, top_p = 0.95"
   ]
  },
  {
   "cell_type": "code",
   "execution_count": 162,
   "id": "e9f818df",
   "metadata": {},
   "outputs": [
    {
     "name": "stdout",
     "output_type": "stream",
     "text": [
      "====  ainize/kobart-news  ===\n",
      "파금리·고환율·고유가 등 이른바 3고(高) 우려가 다시 불거지면서 19일 장 중 코스피·코스닥지수가 약세를 보이고 있는 가운데 특히 세계 최대 파운드리(반도체 위탁생산) 업체인 대만 TSMC가 반도체 성장 전망치를 낮추자 삼성전자와 SK하이닉스 등 반도체 업종 주가가 꺾이면서 지수 하락 폭을 키우고 있으며 같은 시각 코스닥지수도 24.47포인트(2.86%) 내린 831.18을 기록했다. \n",
      "\n",
      "중동 정세 불안으로 국제 유가도 뛰었으며 특히 이스라엘이 계획 중인 가자지구 남단 라파 지상전을 두고 미국 백악관은 민간인 피해 가능성을 우려하지만, 팔레스타인 무장 정파 하마스를 격퇴한다는 공동의 목표에 합의했다고 발표했다. \n",
      "\n",
      "====  noahkim/KoT5_news_summarization  ===\n",
      "19일 장 중 세계 최대 파운드리 업체인 대만 TSMC가 반도체 성장 전망치를 낮추자 반도체와 반도체장비의 하락률이 3.8%로 커지면서 코스피·코스닥지수가 약세를 보이고 있으며 미국 국채 2년물 금리가 5%에 육박하는 가운데 외환 당국의 구두개입으로 주춤했던 환율도 하루 만에 반등했다. \n",
      "\n",
      "====  psyche/KoT5-summarization  ===\n",
      "세계 최대 파운드리(반도체 위탁생산) 업체인 대만 TSMC가 반도체 성장 전망치를 낮추자, 삼성전자와 SK하이닉스 등 반도체 업종 주가가 꺾이면서 19일 장 중 코스피·코스닥지수가 약세를 보이고 있다. 유가증권시장에서 기관과 외국인이 각각 6712억원, 2743억원 팔자에 나서며 지수를 끌어내렸다. 코스피지수는 이날 오전 11시 4분 기준 2566.77이며 전날보다 67.93포인트(2.58%) 하락했다. \n",
      "\n",
      "====  KETI-AIR-Downstream/long-ke-t5-base-summarization  ===\n",
      "19일 장 중 코스피·코스닥지수가 약세를 보이고 있는데, 특히 세계 최대 파운드리 업체인 대만 TSMC가 반도체 성장 전망치를 낮추자, 삼성전자와 SK하이닉스 등 반도체 업종 주가가 꺾이면서 지수 하락 폭을 키우고 있으며, 코스피지수는 이날 오전 11시 4분 기준 2566.77로 전날보다 67.93포인트(2.57%) 하락한 것으로 나타났다.. \n",
      "\n"
     ]
    }
   ],
   "source": [
    "run_summarize(sentence, models, max_tokens=300, min_tokens=100, num_beams=8) #  top_k = 50, top_p = 0.95"
   ]
  },
  {
   "cell_type": "code",
   "execution_count": 167,
   "id": "c8e9bb78",
   "metadata": {},
   "outputs": [],
   "source": [
    "def summarize(input_text, tokenizer, model, device, max_tokens=200, min_tokens=100, num_beams=2) :\n",
    "    input_ids = tokenizer.encode(input_text, return_tensors=\"pt\").to(device)\n",
    "\n",
    "    # Generate Summary Text Ids\n",
    "    summary_text_ids = model.generate(\n",
    "        input_ids=input_ids,\n",
    "        bos_token_id=model.config.bos_token_id,\n",
    "        eos_token_id=model.config.eos_token_id,\n",
    "        length_penalty=2.0,\n",
    "        max_new_tokens=max_tokens,\n",
    "        min_new_tokens=min_tokens,\n",
    "        no_repeat_ngram_size=3,\n",
    "        num_beams=num_beams,\n",
    "        #top_p=0.92, # 누적 확률이 top_p %인 후보집합에서만 생성\n",
    "        #top_k=50, # 확률 순위 top_k 밖의 sample은 제외\n",
    "        do_sample=False # Greedy\n",
    "    )\n",
    "\n",
    "    response = tokenizer.decode(summary_text_ids[0], skip_special_tokens=True)\n",
    "\n",
    "    #print(len(input_text), len(response))\n",
    "\n",
    "    return response"
   ]
  },
  {
   "cell_type": "code",
   "execution_count": 168,
   "id": "1b548af8",
   "metadata": {},
   "outputs": [
    {
     "name": "stdout",
     "output_type": "stream",
     "text": [
      "====  ainize/kobart-news  ===\n",
      "파금리·고환율·고유가 등 이른바 3고(高) 우려가 다시 불거지면서 19일 장 중 코스피·코스닥지수가 약세를 보여, 특히 세계 최대 파운드리(반도체 위탁생산) 업체인 대만 TSMC가 반도체 성장 전망치를 낮추자, 삼성전자와 SK하이닉스 등 반도체 업종 주가가 꺾이면서 지수 하락 폭을 키우고 있고, 이에 따라 유가증권시장에서 기관과 외국인이 각각 6712억원, 2743억원 ‘팔자’에 나서며 지수를 끌어내렸다. \n",
      "\n",
      "====  noahkim/KoT5_news_summarization  ===\n",
      "세계 최대 파운드리 업체인 대만 TSMC가 올해 메모리 반도체를 제외한 전체 반도체 시장 성장률 전망치를 기존 ‘10% 이상’에서 10%로 낮춘 영향으로 19일 장 중 코스피·코스닥지수가 약세를 보이고 있는 가운데, 김석환 미래에셋증권 연구원은 미국 국채 2년물 금리가 5%에 육박하는 가운데 외환 당국의 구두개입으로 주춤했던 환율도 하루 만에 반등했다. \n",
      "\n",
      "====  psyche/KoT5-summarization  ===\n",
      "세계 최대 파운드리(반도체 위탁생산) 업체인 대만 TSMC가 반도체 성장 전망치를 낮추자, 삼성전자와 SK하이닉스 등 반도체 업종 주가가 꺾이면서 19일 장 중 코스피·코스닥지수가 약세를 보이고 있다. 유가증권시장에서 기관과 외국인이 각각 6712억원, 2743억원 팔자에 나서며 지수를 끌어내렸다. 코스피지수는 이날 오전 11시 4분 기준 2566.77이며 전날보다 67.93포인트(2.58%) 하락했다. \n",
      "\n",
      "====  KETI-AIR-Downstream/long-ke-t5-base-summarization  ===\n",
      "세계 최대 파운드리(반도체 위탁생산) 업체인 대만 TSMC가 반도체 성장 전망치를 낮추자, 삼성전자와 SK하이닉스 등 반도체 업종 주가가 꺾이면서 19일 장 중 코스피·코스닥지수가 약세를 보이고 있으며, 특히 코스피지수는 이날 오전 11시 4분 기준 2566.77로 전날보다 67.93포인트(2.57%) 하락한 것으로 나타났으며, 이에 대해 김석환 미래에셋증권 연구원은 “TSMC의 반도체 업황 하향 조정 여파로 밤사이 미국 증시에서 반도체 관련 종목군의 약세가 뚜렷했다”고 밝혔다. \n",
      "\n"
     ]
    }
   ],
   "source": [
    "run_summarize(sentence, models, max_tokens=300, min_tokens=100, num_beams=8) #  top_k = 50, top_p = 0.95"
   ]
  },
  {
   "cell_type": "code",
   "execution_count": 169,
   "id": "10f70f38",
   "metadata": {},
   "outputs": [
    {
     "name": "stdout",
     "output_type": "stream",
     "text": [
      "====  ainize/kobart-news  ===\n",
      "파금리·고환율·고유가 등 이른바 3고(高) 우려가 다시 불거지면서 19일 장 중 코스피·코스닥지수가 약세를 보여, 특히 세계 최대 파운드리(반도체 위탁생산) 업체인 대만 TSMC가 반도체 성장 전망치를 낮추자, 삼성전자와 SK하이닉스 등 반도체 업종 주가가 꺾이면서 지수 하락 폭을 키우고 있고, 이에 따라 유가증권시장에서 기관과 외국인이 각각 6712억원, 2743억원 ‘팔자’에 나서며 지수를 끌어내렸다. \n",
      "\n",
      "====  noahkim/KoT5_news_summarization  ===\n",
      "세계 최대 파운드리 업체인 대만 TSMC가 올해 메모리 반도체를 제외한 전체 반도체 시장 성장률 전망치를 기존 ‘10% 이상’에서 10%로 낮추는 등 이른바 3고 우려가 다시 불거지면서 19일 장 중 코스피·코스닥지수가 약세를 보이고 있는 가운데, 김석환 미래에셋증권 연구원은 미국 국채 2년물 금리가 5%에 육박하는 가운데 외환 당국의 구두개입으로 주춤했던 환율도 하루 만에 반등했다. \n",
      "\n",
      "====  psyche/KoT5-summarization  ===\n",
      "고금리·고환율·고유가 등 이른바 3고() 우려가 다시 불거지면서 19일 장 중 코스피·코스닥지수가 약세를 보이고 있다. 특히 세계 최대 파운드리(반도체 위탁생산) 업체인 대만 TSMC가 반도체 성장 전망치를 낮추자, 삼성전자와 SK하이닉스 등 반도체 업종 주가가 꺾이면서 지수 하락 폭을 키우고 있다. 유가증권시장에서 기관과 외국인이 각각 6712억원, 2743억원 팔자에 나서며 지수를 끌어내렸다. \n",
      "\n",
      "====  KETI-AIR-Downstream/long-ke-t5-base-summarization  ===\n",
      "19일 장 중 코스피·코스닥지수가 약세를 보이고 있는데, 특히 세계 최대 파운드리 업체인 대만 TSMC가 반도체 성장 전망치를 낮추자, 삼성전자와 SK하이닉스 등 반도체 업종 주가가 꺾이면서 지수 하락 폭을 키우고 있으며, 코스피지수는 이날 오전 11시 4분 기준 2566.77로 전날보다 67.93포인트(2.5종자) 하락한 것으로 나타났으며, 이에 대해 김석환 미래에셋증권 연구원은 “TSMC의 반도체 업황 하향 조정 여파로 밤사이 미국 증시에서 반도체 관련 종목군의 약세가 뚜렷했다”며 “한국 증시에서도 관련종목군의 주가 약세가 지수 하락을 주도하고 있다” 고 했다. \n",
      "\n"
     ]
    }
   ],
   "source": [
    "run_summarize(sentence, models, max_tokens=300, min_tokens=100, num_beams=16) #  top_k = 50, top_p = 0.95"
   ]
  },
  {
   "cell_type": "code",
   "execution_count": 170,
   "id": "db106615",
   "metadata": {},
   "outputs": [
    {
     "name": "stdout",
     "output_type": "stream",
     "text": [
      "====  ainize/kobart-news  ===\n",
      "파금리·고환율·고유가 등 이른바 3고(高) 우려가 다시 불거지면서 19일 장 중 코스피·코스닥지수가 약세를 보여, 특히 세계 최대 파운드리(반도체 위탁생산) 업체인 대만 TSMC가 반도체 성장 전망치를 낮추자, 삼성전자와 SK하이닉스 등 반도체 업종 주가가 꺾이면서 지수 하락 폭을 키우고 있고, 이에 따라 유가증권시장에서 기관과 외국인이 각각 6712억원, 2743억원 ‘팔자’에 나서며 지수를 끌어내렸다. \n",
      "\n",
      "====  noahkim/KoT5_news_summarization  ===\n",
      "세계 최대 파운드리 업체인 대만 TSMC가 올해 메모리 반도체를 제외한 전체 반도체 시장 성장률 전망치를 기존 ‘10% 이상’에서 10%로 낮춘 영향으로 미국 국채 2년물 금리가 5%에 육박하는 가운데 외환 당국의 구두개입으로 주춤했던 환율도 하루 만에 반등하는 등 이른바 3고 우려가 다시 불거지면서 19일 장 중 코스피·코스닥지수가 약세를 보이고 있다. \n",
      "\n",
      "====  psyche/KoT5-summarization  ===\n",
      "고금리·고환율·고유가 등 이른바 3고() 우려가 다시 불거지면서 19일 장 중 코스피·코스닥지수가 약세를 보이고 있다. 특히 세계 최대 파운드리(반도체 위탁생산) 업체인 대만 TSMC가 반도체 성장 전망치를 낮추자, 삼성전자와 SK하이닉스 등 반도체 업종 주가가 꺾이면서 지수 하락 폭을 키우고 있다. 유가증권시장에서 기관과 외국인이 각각 6712억원, 2743억원 팔자에 나서며 지수를 끌어내렸다. 같은 시각 코스닥지수도 24.47포인트(2.86%) 내린 831.18을 기록했다. 중동 정세 불안으로 국제 유가도 뛰었다. 이스라엘이 계획 중인 가자지구 남단 라파 지상전을 두고 미국 백악관은 민간인 피해 가능성을 여전히 우려하지만, 팔레스타인 무장 정파 하마스를 격퇴한다는 공동의 목표에 합의했다고 발표했다. 이어 이스라엘이 이란 본토를 미사일로 공격했다는 보도도 나왔다. 미국 서부텍사스원유(WTI) 5월물과 브렌트유 6월물 모두 현재 3%대 오름세를 나타내고 있다. \n",
      "\n",
      "====  KETI-AIR-Downstream/long-ke-t5-base-summarization  ===\n",
      "고금리·고환율·고유가 등 이른바 3고(高) 우려가 다시 불거지면서 19일 장 중 코스피·코스닥지수가 약세를 보이고 있는데 특히 세계 최대 파운드리(반도체 위탁생산) 업체인 대만 TSMC가 반도체 성장 전망치를 낮추자, 삼성전자와 SK하이닉스 등 반도체 업종 주가가 꺾이면서 지수 하락 폭을 키우고 있으며 유가증권시장에서 기관과 외국인이 각각 6712억원, 2743억원 ‘팔자’에 나서며 지수를 끌어내렸다. \n",
      "\n"
     ]
    }
   ],
   "source": [
    "run_summarize(sentence, models, max_tokens=300, min_tokens=100, num_beams=32) #  top_k = 50, top_p = 0.95"
   ]
  },
  {
   "cell_type": "code",
   "execution_count": 171,
   "id": "93eaa51d",
   "metadata": {},
   "outputs": [
    {
     "name": "stdout",
     "output_type": "stream",
     "text": [
      "====  ainize/kobart-news  ===\n",
      "파금리·고환율·고유가 등 이른바 3고(高) 우려가 다시 불거지면서 19일 장 중 코스피·코스닥지수가 약세를 보여, 특히 세계 최대 파운드리(반도체 위탁생산) 업체인 대만 TSMC가 반도체 성장 전망치를 낮추자, 삼성전자와 SK하이닉스 등 반도체 업종 주가가 꺾이면서 지수 하락 폭을 키우고 있고, 이에 따라 유가증권시장에서 기관과 외국인이 각각 6712억원, 2743억원 ‘팔자’에 나서며 지수를 끌어내렸다. \n",
      "\n",
      "====  noahkim/KoT5_news_summarization  ===\n",
      "세계 최대 파운드리 업체인 대만 TSMC가 올해 메모리 반도체를 제외한 전체 반도체 시장 성장률 전망치를 기존 ‘10% 이상’에서 10%로 낮추는 등 이른바 3고 우려가 다시 불거지면서 19일 장 중 코스피·코스닥지수가 약세를 보이고 있는 가운데, 김석환 미래에셋증권 연구원은 미국 국채 2년물 금리가 5%에 육박하는 가운데 외환 당국의 구두개입으로 주춤했던 환율도 하루 만에 반등했다. \n",
      "\n",
      "====  psyche/KoT5-summarization  ===\n",
      "고금리·고환율·고유가 등 이른바 3고() 우려가 다시 불거지면서 19일 장 중 코스피·코스닥지수가 약세를 보이고 있다. 특히 세계 최대 파운드리(반도체 위탁생산) 업체인 대만 TSMC가 반도체 성장 전망치를 낮추자, 삼성전자와 SK하이닉스 등 반도체 업종 주가가 꺾이면서 지수 하락 폭을 키우고 있다. 유가증권시장에서 기관과 외국인이 각각 6712억원, 2743억원 팔자에 나서며 지수를 끌어내렸다. \n",
      "\n",
      "====  KETI-AIR-Downstream/long-ke-t5-base-summarization  ===\n",
      "19일 장 중 코스피·코스닥지수가 약세를 보이고 있는데, 특히 세계 최대 파운드리 업체인 대만 TSMC가 반도체 성장 전망치를 낮추자, 삼성전자와 SK하이닉스 등 반도체 업종 주가가 꺾이면서 지수 하락 폭을 키우고 있으며, 코스피지수는 이날 오전 11시 4분 기준 2566.77로 전날보다 67.93포인트(2.5종자) 하락한 것으로 나타났으며, 이에 대해 김석환 미래에셋증권 연구원은 “TSMC의 반도체 업황 하향 조정 여파로 밤사이 미국 증시에서 반도체 관련 종목군의 약세가 뚜렷했다”며 “한국 증시에서도 관련종목군의 주가 약세가 지수 하락을 주도하고 있다” 고 했다. \n",
      "\n"
     ]
    }
   ],
   "source": [
    "run_summarize(sentence, models, max_tokens=300, min_tokens=100, num_beams=16) #  top_k = 50, top_p = 0.95"
   ]
  },
  {
   "cell_type": "code",
   "execution_count": null,
   "id": "76672bf1",
   "metadata": {},
   "outputs": [],
   "source": []
  }
 ],
 "metadata": {
  "kernelspec": {
   "display_name": "Python 3 (ipykernel)",
   "language": "python",
   "name": "python3"
  },
  "language_info": {
   "codemirror_mode": {
    "name": "ipython",
    "version": 3
   },
   "file_extension": ".py",
   "mimetype": "text/x-python",
   "name": "python",
   "nbconvert_exporter": "python",
   "pygments_lexer": "ipython3",
   "version": "3.9.13"
  }
 },
 "nbformat": 4,
 "nbformat_minor": 5
}
