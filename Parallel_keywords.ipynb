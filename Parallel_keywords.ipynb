{
 "cells": [
  {
   "cell_type": "code",
   "execution_count": 29,
   "id": "978eae86",
   "metadata": {},
   "outputs": [],
   "source": [
    "import pandas as pd\n",
    "import multiprocessing as mp\n",
    "from sklearn.feature_extraction.text import TfidfVectorizer\n",
    "from konlpy.tag import Okt\n",
    "import networkx as nx\n",
    "import numpy as np\n",
    "from tqdm import tqdm"
   ]
  },
  {
   "cell_type": "code",
   "execution_count": 2,
   "id": "dd94205f",
   "metadata": {},
   "outputs": [],
   "source": [
    "okt = Okt()"
   ]
  },
  {
   "cell_type": "code",
   "execution_count": 4,
   "id": "d70737d3",
   "metadata": {},
   "outputs": [],
   "source": [
    "def tokenize(text):\n",
    "    # 형태소 분석을 통해 명사만 추출\n",
    "    return [word for word in okt.nouns(text) if len(word) > 1]"
   ]
  },
  {
   "cell_type": "code",
   "execution_count": 10,
   "id": "0bde6f04",
   "metadata": {},
   "outputs": [],
   "source": [
    "def extract_keywords_tfidf(text, num_keywords=20):\n",
    "    # TF-IDF 벡터화기 생성\n",
    "    vectorizer = TfidfVectorizer(tokenizer=tokenize, min_df=1)\n",
    "    X = vectorizer.fit_transform([text])  # 문자열 전체를 하나의 문서로 처리\n",
    "\n",
    "    # 단어와 TF-IDF 점수 매핑\n",
    "    tfidf_scores = X.sum(axis=0).A1\n",
    "    words = vectorizer.get_feature_names_out()\n",
    "\n",
    "    # 단어와 TF-IDF 점수를 데이터프레임으로 변환\n",
    "    tfidf_df = pd.DataFrame({'Word': words, 'TF-IDF Score': tfidf_scores})\n",
    "\n",
    "    # TF-IDF 점수로 정렬하여 상위 num개 키워드 출력\n",
    "    return tfidf_df.sort_values(by='TF-IDF Score', ascending=False).head(num_keywords)"
   ]
  },
  {
   "cell_type": "code",
   "execution_count": 9,
   "id": "ecf07b7b",
   "metadata": {},
   "outputs": [],
   "source": [
    "def extract_keywords_textrank(text, num_keywords=20):\n",
    "    okt = Okt()\n",
    "    \n",
    "    # 형태소 분석 및 명사 추출\n",
    "    words = tokenize(text)\n",
    "    \n",
    "    # 단어들의 출현 빈도수 계산\n",
    "    word_counts = Counter(words)\n",
    "    \n",
    "    # 그래프 생성\n",
    "    graph = nx.Graph()\n",
    "    \n",
    "    # 단어 노드 추가\n",
    "    for word, count in word_counts.items():\n",
    "        if count > 1:  # 최소 출현 빈도 조건\n",
    "            graph.add_node(word, count=count)\n",
    "    \n",
    "    # 단어의 연결을 위한 윈도우 크기 설정\n",
    "    window_size = 4\n",
    "    \n",
    "    # 윈도우 안에서 단어 간의 연결 설정\n",
    "    for i in range(len(words) - window_size + 1):\n",
    "        window_words = words[i:i + window_size]\n",
    "        for w1, w2 in combinations(window_words, 2):\n",
    "            if graph.has_node(w1) and graph.has_node(w2):\n",
    "                if graph.has_edge(w1, w2):\n",
    "                    graph[w1][w2]['weight'] += 1\n",
    "                else:\n",
    "                    graph.add_edge(w1, w2, weight=1)\n",
    "    \n",
    "    # PageRank 계산\n",
    "    rank = nx.pagerank(graph, weight='weight')\n",
    "    \n",
    "    # 상위 num_keywords개의 키워드 추출\n",
    "    top_keywords = sorted(rank.items(), key=lambda x: x[1], reverse=True)[:num_keywords]\n",
    "    \n",
    "    return top_keywords\n",
    "\n",
    "    #return [keyword for keyword, _ in top_keywords]"
   ]
  },
  {
   "cell_type": "code",
   "execution_count": 48,
   "id": "9343db36",
   "metadata": {},
   "outputs": [],
   "source": [
    "def extract_keywords_df(df, func=extract_keywords_tfidf, num=20):\n",
    "    doc_keywords = []\n",
    "    \n",
    "    for doc in df['text'] :\n",
    "        keywords = func(doc, num)\n",
    "        doc_keywords.append(keywords)\n",
    "        \n",
    "    #df.loc[:, 'keywords'] = doc_keywords\n",
    "    \n",
    "    return doc_keywords"
   ]
  },
  {
   "cell_type": "code",
   "execution_count": 11,
   "id": "cd80d8a4",
   "metadata": {},
   "outputs": [],
   "source": [
    "# 텍스트 데이터 나누기\n",
    "def chunk_dataframe(df, chunk_size):\n",
    "    return [df[i:i + chunk_size] for i in range(0, df.shape[0], chunk_size)]"
   ]
  },
  {
   "cell_type": "code",
   "execution_count": 23,
   "id": "ae631aed",
   "metadata": {},
   "outputs": [],
   "source": [
    "def extract_keywords_from_chunk(chunk, top_n=10):\n",
    "    # TF-IDF 벡터화기 생성\n",
    "    vectorizer = TfidfVectorizer(tokenizer=tokenize, min_df=1)\n",
    "    X = vectorizer.fit_transform(chunk['text'])\n",
    "    \n",
    "    # 단어와 TF-IDF 점수 매핑\n",
    "    words = vectorizer.get_feature_names_out()\n",
    "    tfidf_scores = X.toarray()\n",
    "    \n",
    "    # 각 문서별 키워드 추출\n",
    "    keywords_per_document = []\n",
    "    for i, doc_scores in tqdm(enumerate(tfidf_scores)):\n",
    "        tfidf_df = pd.DataFrame({'Word': words, 'TF-IDF Score': doc_scores})\n",
    "        top_keywords = tfidf_df.sort_values(by='TF-IDF Score', ascending=False).head(top_n)\n",
    "        keywords_per_document.append({\n",
    "            'Document': i,\n",
    "            'Keywords': ', '.join(top_keywords['Word'])\n",
    "        })\n",
    "    \n",
    "    return pd.DataFrame(keywords_per_document)"
   ]
  },
  {
   "cell_type": "code",
   "execution_count": 15,
   "id": "6ba60560",
   "metadata": {},
   "outputs": [],
   "source": [
    "# 병렬 처리 함수\n",
    "def parallelize_dataframe(df, func, num_cores=4):\n",
    "    df_split = chunk_dataframe(df, chunk_size=int(df.shape[0] / num_cores))\n",
    "    pool = mp.Pool(num_cores)\n",
    "    df = pd.concat(pool.map(func, df_split))\n",
    "    pool.close()\n",
    "    pool.join()\n",
    "    \n",
    "    return df"
   ]
  },
  {
   "cell_type": "code",
   "execution_count": 16,
   "id": "fb3d39dc",
   "metadata": {},
   "outputs": [],
   "source": [
    "def test(df):\n",
    "    print(len(df))\n",
    "    \n",
    "    return df"
   ]
  },
  {
   "cell_type": "code",
   "execution_count": 12,
   "id": "5f78f3f7",
   "metadata": {},
   "outputs": [],
   "source": [
    "directory_path = '/home/osung/data/korean/modu/json'\n",
    "df = pd.read_csv(directory_path+'/combined_news.tsv', sep='\\t')"
   ]
  },
  {
   "cell_type": "code",
   "execution_count": 20,
   "id": "d9bf71d3",
   "metadata": {},
   "outputs": [
    {
     "data": {
      "text/plain": [
       "902856.0"
      ]
     },
     "execution_count": 20,
     "metadata": {},
     "output_type": "execute_result"
    }
   ],
   "source": [
    "len(df)/ 4"
   ]
  },
  {
   "cell_type": "code",
   "execution_count": 13,
   "id": "f906efb2",
   "metadata": {},
   "outputs": [],
   "source": [
    "df2 = df.drop(columns=['topic'])"
   ]
  },
  {
   "cell_type": "code",
   "execution_count": 14,
   "id": "7810ddd5",
   "metadata": {},
   "outputs": [
    {
     "data": {
      "text/plain": [
       "Index(['id', 'text'], dtype='object')"
      ]
     },
     "execution_count": 14,
     "metadata": {},
     "output_type": "execute_result"
    }
   ],
   "source": [
    "df2.columns"
   ]
  },
  {
   "cell_type": "code",
   "execution_count": 22,
   "id": "54a7acf1",
   "metadata": {},
   "outputs": [
    {
     "name": "stdout",
     "output_type": "stream",
     "text": [
      "250\n",
      "250\n",
      "250\n",
      "250\n"
     ]
    }
   ],
   "source": [
    "# 데이터 병렬 처리\n",
    "num_cores = 4 #mp.cpu_count()\n",
    "df_with_keywords = parallelize_dataframe(df[:1000], test, num_cores=num_cores)"
   ]
  },
  {
   "cell_type": "code",
   "execution_count": 50,
   "id": "c281f263",
   "metadata": {},
   "outputs": [
    {
     "name": "stdout",
     "output_type": "stream",
     "text": [
      "CPU times: user 50 s, sys: 391 ms, total: 50.4 s\n",
      "Wall time: 49.5 s\n"
     ]
    }
   ],
   "source": [
    "%%time \n",
    "\n",
    "keys = extract_keywords_df(df[:100])"
   ]
  },
  {
   "cell_type": "code",
   "execution_count": 51,
   "id": "11f289e9",
   "metadata": {},
   "outputs": [
    {
     "ename": "KeyboardInterrupt",
     "evalue": "",
     "output_type": "error",
     "traceback": [
      "\u001b[0;31m---------------------------------------------------------------------------\u001b[0m",
      "\u001b[0;31mKeyboardInterrupt\u001b[0m                         Traceback (most recent call last)",
      "\u001b[0;32m/tmp/ipykernel_6752/2572713984.py\u001b[0m in \u001b[0;36m<module>\u001b[0;34m\u001b[0m\n\u001b[1;32m      1\u001b[0m \u001b[0;31m# 데이터 병렬 처리\u001b[0m\u001b[0;34m\u001b[0m\u001b[0;34m\u001b[0m\u001b[0m\n\u001b[1;32m      2\u001b[0m \u001b[0mnum_cores\u001b[0m \u001b[0;34m=\u001b[0m \u001b[0;36m2\u001b[0m \u001b[0;31m#mp.cpu_count()\u001b[0m\u001b[0;34m\u001b[0m\u001b[0;34m\u001b[0m\u001b[0m\n\u001b[0;32m----> 3\u001b[0;31m \u001b[0mkeys2\u001b[0m \u001b[0;34m=\u001b[0m \u001b[0mparallelize_dataframe\u001b[0m\u001b[0;34m(\u001b[0m\u001b[0mdf\u001b[0m\u001b[0;34m[\u001b[0m\u001b[0;34m:\u001b[0m\u001b[0;36m100\u001b[0m\u001b[0;34m]\u001b[0m\u001b[0;34m,\u001b[0m \u001b[0mextract_keywords_df\u001b[0m\u001b[0;34m,\u001b[0m \u001b[0mnum_cores\u001b[0m\u001b[0;34m=\u001b[0m\u001b[0mnum_cores\u001b[0m\u001b[0;34m)\u001b[0m\u001b[0;34m\u001b[0m\u001b[0;34m\u001b[0m\u001b[0m\n\u001b[0m",
      "\u001b[0;32m/tmp/ipykernel_6752/141941609.py\u001b[0m in \u001b[0;36mparallelize_dataframe\u001b[0;34m(df, func, num_cores)\u001b[0m\n\u001b[1;32m      3\u001b[0m     \u001b[0mdf_split\u001b[0m \u001b[0;34m=\u001b[0m \u001b[0mchunk_dataframe\u001b[0m\u001b[0;34m(\u001b[0m\u001b[0mdf\u001b[0m\u001b[0;34m,\u001b[0m \u001b[0mchunk_size\u001b[0m\u001b[0;34m=\u001b[0m\u001b[0mint\u001b[0m\u001b[0;34m(\u001b[0m\u001b[0mdf\u001b[0m\u001b[0;34m.\u001b[0m\u001b[0mshape\u001b[0m\u001b[0;34m[\u001b[0m\u001b[0;36m0\u001b[0m\u001b[0;34m]\u001b[0m \u001b[0;34m/\u001b[0m \u001b[0mnum_cores\u001b[0m\u001b[0;34m)\u001b[0m\u001b[0;34m)\u001b[0m\u001b[0;34m\u001b[0m\u001b[0;34m\u001b[0m\u001b[0m\n\u001b[1;32m      4\u001b[0m     \u001b[0mpool\u001b[0m \u001b[0;34m=\u001b[0m \u001b[0mmp\u001b[0m\u001b[0;34m.\u001b[0m\u001b[0mPool\u001b[0m\u001b[0;34m(\u001b[0m\u001b[0mnum_cores\u001b[0m\u001b[0;34m)\u001b[0m\u001b[0;34m\u001b[0m\u001b[0;34m\u001b[0m\u001b[0m\n\u001b[0;32m----> 5\u001b[0;31m     \u001b[0mdf\u001b[0m \u001b[0;34m=\u001b[0m \u001b[0mpd\u001b[0m\u001b[0;34m.\u001b[0m\u001b[0mconcat\u001b[0m\u001b[0;34m(\u001b[0m\u001b[0mpool\u001b[0m\u001b[0;34m.\u001b[0m\u001b[0mmap\u001b[0m\u001b[0;34m(\u001b[0m\u001b[0mfunc\u001b[0m\u001b[0;34m,\u001b[0m \u001b[0mdf_split\u001b[0m\u001b[0;34m)\u001b[0m\u001b[0;34m)\u001b[0m\u001b[0;34m\u001b[0m\u001b[0;34m\u001b[0m\u001b[0m\n\u001b[0m\u001b[1;32m      6\u001b[0m     \u001b[0mpool\u001b[0m\u001b[0;34m.\u001b[0m\u001b[0mclose\u001b[0m\u001b[0;34m(\u001b[0m\u001b[0;34m)\u001b[0m\u001b[0;34m\u001b[0m\u001b[0;34m\u001b[0m\u001b[0m\n\u001b[1;32m      7\u001b[0m     \u001b[0mpool\u001b[0m\u001b[0;34m.\u001b[0m\u001b[0mjoin\u001b[0m\u001b[0;34m(\u001b[0m\u001b[0;34m)\u001b[0m\u001b[0;34m\u001b[0m\u001b[0;34m\u001b[0m\u001b[0m\n",
      "\u001b[0;32m~/anaconda3/lib/python3.9/multiprocessing/pool.py\u001b[0m in \u001b[0;36mmap\u001b[0;34m(self, func, iterable, chunksize)\u001b[0m\n\u001b[1;32m    362\u001b[0m         \u001b[0;32min\u001b[0m \u001b[0ma\u001b[0m \u001b[0mlist\u001b[0m \u001b[0mthat\u001b[0m \u001b[0;32mis\u001b[0m \u001b[0mreturned\u001b[0m\u001b[0;34m.\u001b[0m\u001b[0;34m\u001b[0m\u001b[0;34m\u001b[0m\u001b[0m\n\u001b[1;32m    363\u001b[0m         '''\n\u001b[0;32m--> 364\u001b[0;31m         \u001b[0;32mreturn\u001b[0m \u001b[0mself\u001b[0m\u001b[0;34m.\u001b[0m\u001b[0m_map_async\u001b[0m\u001b[0;34m(\u001b[0m\u001b[0mfunc\u001b[0m\u001b[0;34m,\u001b[0m \u001b[0miterable\u001b[0m\u001b[0;34m,\u001b[0m \u001b[0mmapstar\u001b[0m\u001b[0;34m,\u001b[0m \u001b[0mchunksize\u001b[0m\u001b[0;34m)\u001b[0m\u001b[0;34m.\u001b[0m\u001b[0mget\u001b[0m\u001b[0;34m(\u001b[0m\u001b[0;34m)\u001b[0m\u001b[0;34m\u001b[0m\u001b[0;34m\u001b[0m\u001b[0m\n\u001b[0m\u001b[1;32m    365\u001b[0m \u001b[0;34m\u001b[0m\u001b[0m\n\u001b[1;32m    366\u001b[0m     \u001b[0;32mdef\u001b[0m \u001b[0mstarmap\u001b[0m\u001b[0;34m(\u001b[0m\u001b[0mself\u001b[0m\u001b[0;34m,\u001b[0m \u001b[0mfunc\u001b[0m\u001b[0;34m,\u001b[0m \u001b[0miterable\u001b[0m\u001b[0;34m,\u001b[0m \u001b[0mchunksize\u001b[0m\u001b[0;34m=\u001b[0m\u001b[0;32mNone\u001b[0m\u001b[0;34m)\u001b[0m\u001b[0;34m:\u001b[0m\u001b[0;34m\u001b[0m\u001b[0;34m\u001b[0m\u001b[0m\n",
      "\u001b[0;32m~/anaconda3/lib/python3.9/multiprocessing/pool.py\u001b[0m in \u001b[0;36mget\u001b[0;34m(self, timeout)\u001b[0m\n\u001b[1;32m    763\u001b[0m \u001b[0;34m\u001b[0m\u001b[0m\n\u001b[1;32m    764\u001b[0m     \u001b[0;32mdef\u001b[0m \u001b[0mget\u001b[0m\u001b[0;34m(\u001b[0m\u001b[0mself\u001b[0m\u001b[0;34m,\u001b[0m \u001b[0mtimeout\u001b[0m\u001b[0;34m=\u001b[0m\u001b[0;32mNone\u001b[0m\u001b[0;34m)\u001b[0m\u001b[0;34m:\u001b[0m\u001b[0;34m\u001b[0m\u001b[0;34m\u001b[0m\u001b[0m\n\u001b[0;32m--> 765\u001b[0;31m         \u001b[0mself\u001b[0m\u001b[0;34m.\u001b[0m\u001b[0mwait\u001b[0m\u001b[0;34m(\u001b[0m\u001b[0mtimeout\u001b[0m\u001b[0;34m)\u001b[0m\u001b[0;34m\u001b[0m\u001b[0;34m\u001b[0m\u001b[0m\n\u001b[0m\u001b[1;32m    766\u001b[0m         \u001b[0;32mif\u001b[0m \u001b[0;32mnot\u001b[0m \u001b[0mself\u001b[0m\u001b[0;34m.\u001b[0m\u001b[0mready\u001b[0m\u001b[0;34m(\u001b[0m\u001b[0;34m)\u001b[0m\u001b[0;34m:\u001b[0m\u001b[0;34m\u001b[0m\u001b[0;34m\u001b[0m\u001b[0m\n\u001b[1;32m    767\u001b[0m             \u001b[0;32mraise\u001b[0m \u001b[0mTimeoutError\u001b[0m\u001b[0;34m\u001b[0m\u001b[0;34m\u001b[0m\u001b[0m\n",
      "\u001b[0;32m~/anaconda3/lib/python3.9/multiprocessing/pool.py\u001b[0m in \u001b[0;36mwait\u001b[0;34m(self, timeout)\u001b[0m\n\u001b[1;32m    760\u001b[0m \u001b[0;34m\u001b[0m\u001b[0m\n\u001b[1;32m    761\u001b[0m     \u001b[0;32mdef\u001b[0m \u001b[0mwait\u001b[0m\u001b[0;34m(\u001b[0m\u001b[0mself\u001b[0m\u001b[0;34m,\u001b[0m \u001b[0mtimeout\u001b[0m\u001b[0;34m=\u001b[0m\u001b[0;32mNone\u001b[0m\u001b[0;34m)\u001b[0m\u001b[0;34m:\u001b[0m\u001b[0;34m\u001b[0m\u001b[0;34m\u001b[0m\u001b[0m\n\u001b[0;32m--> 762\u001b[0;31m         \u001b[0mself\u001b[0m\u001b[0;34m.\u001b[0m\u001b[0m_event\u001b[0m\u001b[0;34m.\u001b[0m\u001b[0mwait\u001b[0m\u001b[0;34m(\u001b[0m\u001b[0mtimeout\u001b[0m\u001b[0;34m)\u001b[0m\u001b[0;34m\u001b[0m\u001b[0;34m\u001b[0m\u001b[0m\n\u001b[0m\u001b[1;32m    763\u001b[0m \u001b[0;34m\u001b[0m\u001b[0m\n\u001b[1;32m    764\u001b[0m     \u001b[0;32mdef\u001b[0m \u001b[0mget\u001b[0m\u001b[0;34m(\u001b[0m\u001b[0mself\u001b[0m\u001b[0;34m,\u001b[0m \u001b[0mtimeout\u001b[0m\u001b[0;34m=\u001b[0m\u001b[0;32mNone\u001b[0m\u001b[0;34m)\u001b[0m\u001b[0;34m:\u001b[0m\u001b[0;34m\u001b[0m\u001b[0;34m\u001b[0m\u001b[0m\n",
      "\u001b[0;32m~/anaconda3/lib/python3.9/threading.py\u001b[0m in \u001b[0;36mwait\u001b[0;34m(self, timeout)\u001b[0m\n\u001b[1;32m    579\u001b[0m             \u001b[0msignaled\u001b[0m \u001b[0;34m=\u001b[0m \u001b[0mself\u001b[0m\u001b[0;34m.\u001b[0m\u001b[0m_flag\u001b[0m\u001b[0;34m\u001b[0m\u001b[0;34m\u001b[0m\u001b[0m\n\u001b[1;32m    580\u001b[0m             \u001b[0;32mif\u001b[0m \u001b[0;32mnot\u001b[0m \u001b[0msignaled\u001b[0m\u001b[0;34m:\u001b[0m\u001b[0;34m\u001b[0m\u001b[0;34m\u001b[0m\u001b[0m\n\u001b[0;32m--> 581\u001b[0;31m                 \u001b[0msignaled\u001b[0m \u001b[0;34m=\u001b[0m \u001b[0mself\u001b[0m\u001b[0;34m.\u001b[0m\u001b[0m_cond\u001b[0m\u001b[0;34m.\u001b[0m\u001b[0mwait\u001b[0m\u001b[0;34m(\u001b[0m\u001b[0mtimeout\u001b[0m\u001b[0;34m)\u001b[0m\u001b[0;34m\u001b[0m\u001b[0;34m\u001b[0m\u001b[0m\n\u001b[0m\u001b[1;32m    582\u001b[0m             \u001b[0;32mreturn\u001b[0m \u001b[0msignaled\u001b[0m\u001b[0;34m\u001b[0m\u001b[0;34m\u001b[0m\u001b[0m\n\u001b[1;32m    583\u001b[0m \u001b[0;34m\u001b[0m\u001b[0m\n",
      "\u001b[0;32m~/anaconda3/lib/python3.9/threading.py\u001b[0m in \u001b[0;36mwait\u001b[0;34m(self, timeout)\u001b[0m\n\u001b[1;32m    310\u001b[0m         \u001b[0;32mtry\u001b[0m\u001b[0;34m:\u001b[0m    \u001b[0;31m# restore state no matter what (e.g., KeyboardInterrupt)\u001b[0m\u001b[0;34m\u001b[0m\u001b[0;34m\u001b[0m\u001b[0m\n\u001b[1;32m    311\u001b[0m             \u001b[0;32mif\u001b[0m \u001b[0mtimeout\u001b[0m \u001b[0;32mis\u001b[0m \u001b[0;32mNone\u001b[0m\u001b[0;34m:\u001b[0m\u001b[0;34m\u001b[0m\u001b[0;34m\u001b[0m\u001b[0m\n\u001b[0;32m--> 312\u001b[0;31m                 \u001b[0mwaiter\u001b[0m\u001b[0;34m.\u001b[0m\u001b[0macquire\u001b[0m\u001b[0;34m(\u001b[0m\u001b[0;34m)\u001b[0m\u001b[0;34m\u001b[0m\u001b[0;34m\u001b[0m\u001b[0m\n\u001b[0m\u001b[1;32m    313\u001b[0m                 \u001b[0mgotit\u001b[0m \u001b[0;34m=\u001b[0m \u001b[0;32mTrue\u001b[0m\u001b[0;34m\u001b[0m\u001b[0;34m\u001b[0m\u001b[0m\n\u001b[1;32m    314\u001b[0m             \u001b[0;32melse\u001b[0m\u001b[0;34m:\u001b[0m\u001b[0;34m\u001b[0m\u001b[0;34m\u001b[0m\u001b[0m\n",
      "\u001b[0;31mKeyboardInterrupt\u001b[0m: "
     ]
    }
   ],
   "source": [
    "# 데이터 병렬 처리\n",
    "num_cores = 2 #mp.cpu_count()\n",
    "keys2 = parallelize_dataframe(df[:100], extract_keywords_df, num_cores=num_cores)"
   ]
  },
  {
   "cell_type": "code",
   "execution_count": 35,
   "id": "5941d9b6",
   "metadata": {},
   "outputs": [
    {
     "data": {
      "text/html": [
       "<div>\n",
       "<style scoped>\n",
       "    .dataframe tbody tr th:only-of-type {\n",
       "        vertical-align: middle;\n",
       "    }\n",
       "\n",
       "    .dataframe tbody tr th {\n",
       "        vertical-align: top;\n",
       "    }\n",
       "\n",
       "    .dataframe thead th {\n",
       "        text-align: right;\n",
       "    }\n",
       "</style>\n",
       "<table border=\"1\" class=\"dataframe\">\n",
       "  <thead>\n",
       "    <tr style=\"text-align: right;\">\n",
       "      <th></th>\n",
       "      <th>Word</th>\n",
       "      <th>TF-IDF Score</th>\n",
       "    </tr>\n",
       "  </thead>\n",
       "  <tbody>\n",
       "    <tr>\n",
       "      <th>93</th>\n",
       "      <td>사람</td>\n",
       "      <td>0.305852</td>\n",
       "    </tr>\n",
       "    <tr>\n",
       "      <th>4</th>\n",
       "      <td>가락시장</td>\n",
       "      <td>0.244682</td>\n",
       "    </tr>\n",
       "    <tr>\n",
       "      <th>99</th>\n",
       "      <td>새벽</td>\n",
       "      <td>0.214096</td>\n",
       "    </tr>\n",
       "    <tr>\n",
       "      <th>5</th>\n",
       "      <td>가명</td>\n",
       "      <td>0.214096</td>\n",
       "    </tr>\n",
       "    <tr>\n",
       "      <th>121</th>\n",
       "      <td>시장</td>\n",
       "      <td>0.214096</td>\n",
       "    </tr>\n",
       "    <tr>\n",
       "      <th>116</th>\n",
       "      <td>수산시장</td>\n",
       "      <td>0.183511</td>\n",
       "    </tr>\n",
       "    <tr>\n",
       "      <th>82</th>\n",
       "      <td>배추</td>\n",
       "      <td>0.183511</td>\n",
       "    </tr>\n",
       "    <tr>\n",
       "      <th>115</th>\n",
       "      <td>수산물</td>\n",
       "      <td>0.152926</td>\n",
       "    </tr>\n",
       "    <tr>\n",
       "      <th>102</th>\n",
       "      <td>생선</td>\n",
       "      <td>0.152926</td>\n",
       "    </tr>\n",
       "    <tr>\n",
       "      <th>97</th>\n",
       "      <td>상인</td>\n",
       "      <td>0.152926</td>\n",
       "    </tr>\n",
       "    <tr>\n",
       "      <th>14</th>\n",
       "      <td>경제</td>\n",
       "      <td>0.152926</td>\n",
       "    </tr>\n",
       "    <tr>\n",
       "      <th>104</th>\n",
       "      <td>서민</td>\n",
       "      <td>0.152926</td>\n",
       "    </tr>\n",
       "    <tr>\n",
       "      <th>218</th>\n",
       "      <td>하루</td>\n",
       "      <td>0.152926</td>\n",
       "    </tr>\n",
       "    <tr>\n",
       "      <th>13</th>\n",
       "      <td>경매</td>\n",
       "      <td>0.122341</td>\n",
       "    </tr>\n",
       "    <tr>\n",
       "      <th>167</th>\n",
       "      <td>작년</td>\n",
       "      <td>0.122341</td>\n",
       "    </tr>\n",
       "    <tr>\n",
       "      <th>199</th>\n",
       "      <td>채소</td>\n",
       "      <td>0.122341</td>\n",
       "    </tr>\n",
       "    <tr>\n",
       "      <th>209</th>\n",
       "      <td>택시</td>\n",
       "      <td>0.122341</td>\n",
       "    </tr>\n",
       "    <tr>\n",
       "      <th>45</th>\n",
       "      <td>도매</td>\n",
       "      <td>0.122341</td>\n",
       "    </tr>\n",
       "    <tr>\n",
       "      <th>81</th>\n",
       "      <td>방어</td>\n",
       "      <td>0.091756</td>\n",
       "    </tr>\n",
       "    <tr>\n",
       "      <th>55</th>\n",
       "      <td>마지막</td>\n",
       "      <td>0.091756</td>\n",
       "    </tr>\n",
       "  </tbody>\n",
       "</table>\n",
       "</div>"
      ],
      "text/plain": [
       "     Word  TF-IDF Score\n",
       "93     사람      0.305852\n",
       "4    가락시장      0.244682\n",
       "99     새벽      0.214096\n",
       "5      가명      0.214096\n",
       "121    시장      0.214096\n",
       "116  수산시장      0.183511\n",
       "82     배추      0.183511\n",
       "115   수산물      0.152926\n",
       "102    생선      0.152926\n",
       "97     상인      0.152926\n",
       "14     경제      0.152926\n",
       "104    서민      0.152926\n",
       "218    하루      0.152926\n",
       "13     경매      0.122341\n",
       "167    작년      0.122341\n",
       "199    채소      0.122341\n",
       "209    택시      0.122341\n",
       "45     도매      0.122341\n",
       "81     방어      0.091756\n",
       "55    마지막      0.091756"
      ]
     },
     "execution_count": 35,
     "metadata": {},
     "output_type": "execute_result"
    }
   ],
   "source": [
    "df3.keywords[0]"
   ]
  },
  {
   "cell_type": "code",
   "execution_count": 20,
   "id": "61fb5863",
   "metadata": {},
   "outputs": [
    {
     "name": "stdout",
     "output_type": "stream",
     "text": [
      "                 id topic                                               text  \\\n",
      "0  NIRW1900000001.1    사회  \"대통령, 시장 방문만 하지 말고 실천해달라\" 2008년의 마지막 새벽, 언론의 카...   \n",
      "1  NIRW1900000001.4    사회  진성호 의원, 겨우 이 정도였나 오늘(31일) 한나라당 의원 총회에서 조선일보 출신...   \n",
      "2  NIRW1900000001.5    사회  \"소의 해, 정치인들 싸움 좀 그만하시죠\" 지난해 12월 31일 대구국채보상기념운동...   \n",
      "3  NIRW1900000001.6    사회  'MB악법 저지' 촛불 들고 새해 맞은 대전시민들 촛불의 물결이 전국을 뒤 덮었던 ...   \n",
      "4  NIRW1900000001.7    사회  산(酸) 몰아내니 누이 좋고 매부 좋고 겨울철 우리의 입맛을 돋우는 먹을거리 가운데...   \n",
      "\n",
      "                  keywords  \n",
      "0  [것은, 대통령은, 말했다, 있는, 있다]  \n",
      "1  [것은, 대통령은, 말했다, 있는, 있다]  \n",
      "2  [것은, 대통령은, 말했다, 있는, 있다]  \n",
      "3  [것은, 대통령은, 말했다, 있는, 있다]  \n",
      "4  [것은, 대통령은, 말했다, 있는, 있다]  \n"
     ]
    }
   ],
   "source": [
    "print(df_with_keywords.head())"
   ]
  },
  {
   "cell_type": "code",
   "execution_count": 11,
   "id": "e3669183",
   "metadata": {},
   "outputs": [
    {
     "data": {
      "text/html": [
       "<div>\n",
       "<style scoped>\n",
       "    .dataframe tbody tr th:only-of-type {\n",
       "        vertical-align: middle;\n",
       "    }\n",
       "\n",
       "    .dataframe tbody tr th {\n",
       "        vertical-align: top;\n",
       "    }\n",
       "\n",
       "    .dataframe thead th {\n",
       "        text-align: right;\n",
       "    }\n",
       "</style>\n",
       "<table border=\"1\" class=\"dataframe\">\n",
       "  <thead>\n",
       "    <tr style=\"text-align: right;\">\n",
       "      <th></th>\n",
       "      <th>id</th>\n",
       "      <th>text</th>\n",
       "    </tr>\n",
       "  </thead>\n",
       "  <tbody>\n",
       "    <tr>\n",
       "      <th>0</th>\n",
       "      <td>1</td>\n",
       "      <td>This is a test sentence number 1</td>\n",
       "    </tr>\n",
       "    <tr>\n",
       "      <th>1</th>\n",
       "      <td>2</td>\n",
       "      <td>This is a test sentence number 2</td>\n",
       "    </tr>\n",
       "    <tr>\n",
       "      <th>2</th>\n",
       "      <td>3</td>\n",
       "      <td>This is a test sentence number 3</td>\n",
       "    </tr>\n",
       "    <tr>\n",
       "      <th>3</th>\n",
       "      <td>4</td>\n",
       "      <td>This is a test sentence number 4</td>\n",
       "    </tr>\n",
       "    <tr>\n",
       "      <th>4</th>\n",
       "      <td>5</td>\n",
       "      <td>This is a test sentence number 5</td>\n",
       "    </tr>\n",
       "    <tr>\n",
       "      <th>5</th>\n",
       "      <td>6</td>\n",
       "      <td>This is a test sentence number 6</td>\n",
       "    </tr>\n",
       "    <tr>\n",
       "      <th>6</th>\n",
       "      <td>7</td>\n",
       "      <td>This is a test sentence number 7</td>\n",
       "    </tr>\n",
       "    <tr>\n",
       "      <th>7</th>\n",
       "      <td>8</td>\n",
       "      <td>This is a test sentence number 8</td>\n",
       "    </tr>\n",
       "    <tr>\n",
       "      <th>8</th>\n",
       "      <td>9</td>\n",
       "      <td>This is a test sentence number 9</td>\n",
       "    </tr>\n",
       "    <tr>\n",
       "      <th>9</th>\n",
       "      <td>10</td>\n",
       "      <td>This is a test sentence number 10</td>\n",
       "    </tr>\n",
       "  </tbody>\n",
       "</table>\n",
       "</div>"
      ],
      "text/plain": [
       "   id                               text\n",
       "0   1   This is a test sentence number 1\n",
       "1   2   This is a test sentence number 2\n",
       "2   3   This is a test sentence number 3\n",
       "3   4   This is a test sentence number 4\n",
       "4   5   This is a test sentence number 5\n",
       "5   6   This is a test sentence number 6\n",
       "6   7   This is a test sentence number 7\n",
       "7   8   This is a test sentence number 8\n",
       "8   9   This is a test sentence number 9\n",
       "9  10  This is a test sentence number 10"
      ]
     },
     "execution_count": 11,
     "metadata": {},
     "output_type": "execute_result"
    }
   ],
   "source": [
    "df[:10]"
   ]
  },
  {
   "cell_type": "code",
   "execution_count": null,
   "id": "34f26b26",
   "metadata": {},
   "outputs": [],
   "source": []
  }
 ],
 "metadata": {
  "kernelspec": {
   "display_name": "Python 3 (ipykernel)",
   "language": "python",
   "name": "python3"
  },
  "language_info": {
   "codemirror_mode": {
    "name": "ipython",
    "version": 3
   },
   "file_extension": ".py",
   "mimetype": "text/x-python",
   "name": "python",
   "nbconvert_exporter": "python",
   "pygments_lexer": "ipython3",
   "version": "3.9.19"
  }
 },
 "nbformat": 4,
 "nbformat_minor": 5
}
