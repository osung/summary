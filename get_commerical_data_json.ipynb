{
 "cells": [
  {
   "cell_type": "code",
   "execution_count": 1,
   "id": "61836b9a",
   "metadata": {},
   "outputs": [],
   "source": [
    "import os\n",
    "import sys\n",
    "import pandas as pd\n",
    "import json\n",
    "from tqdm import tqdm"
   ]
  },
  {
   "cell_type": "code",
   "execution_count": 6,
   "id": "8be67572",
   "metadata": {},
   "outputs": [],
   "source": [
    "raw_dir = '/home/osung/data/korean/commercial/json/'"
   ]
  },
  {
   "cell_type": "code",
   "execution_count": 78,
   "id": "f5c70f00",
   "metadata": {},
   "outputs": [],
   "source": [
    "codes = {'21', '22', '23'} # 상품, 부동산, 서비스"
   ]
  },
  {
   "cell_type": "code",
   "execution_count": 25,
   "id": "eb539140",
   "metadata": {},
   "outputs": [],
   "source": [
    "filename = raw_dir + 'ET_M13_494183_L.json'"
   ]
  },
  {
   "cell_type": "code",
   "execution_count": 26,
   "id": "d24fb446",
   "metadata": {},
   "outputs": [],
   "source": [
    "f = open(filename, 'r')\n",
    "data = f.read()"
   ]
  },
  {
   "cell_type": "code",
   "execution_count": 35,
   "id": "507dfe65",
   "metadata": {},
   "outputs": [],
   "source": [
    "json_data = json.loads(data)\n",
    "pattern = json_data['sourceDataInfo']['processPattern']"
   ]
  },
  {
   "cell_type": "code",
   "execution_count": 37,
   "id": "8590ce68",
   "metadata": {},
   "outputs": [
    {
     "data": {
      "text/plain": [
       "str"
      ]
     },
     "execution_count": 37,
     "metadata": {},
     "output_type": "execute_result"
    }
   ],
   "source": [
    "type(pattern)"
   ]
  },
  {
   "cell_type": "code",
   "execution_count": 40,
   "id": "90731985",
   "metadata": {},
   "outputs": [],
   "source": [
    "pattern = '21'"
   ]
  },
  {
   "cell_type": "code",
   "execution_count": 41,
   "id": "0b80e782",
   "metadata": {},
   "outputs": [
    {
     "data": {
      "text/plain": [
       "True"
      ]
     },
     "execution_count": 41,
     "metadata": {},
     "output_type": "execute_result"
    }
   ],
   "source": [
    "pattern in codes"
   ]
  },
  {
   "cell_type": "code",
   "execution_count": 30,
   "id": "376ffe59",
   "metadata": {},
   "outputs": [],
   "source": [
    "def get_processPattern(filename):\n",
    "    f = open(raw_dir + filename, 'r')\n",
    "    json_data = json.loads(f.read())\n",
    "\n",
    "    return json_data['sourceDataInfo']['processPattern']"
   ]
  },
  {
   "cell_type": "code",
   "execution_count": 81,
   "id": "8dc26947",
   "metadata": {},
   "outputs": [],
   "source": [
    "def get_contents(filename):\n",
    "    f = open(raw_dir + filename, 'r')\n",
    "    json_data = json.loads(f.read())\n",
    "\n",
    "    return {'title': json_data['sourceDataInfo']['newsTitle'],\n",
    "            'text':  json_data['sourceDataInfo']['newsContent'], \n",
    "            'topic': json_data['sourceDataInfo']['newsCategory'], \n",
    "            'subtopic': json_data['sourceDataInfo']['newsSubcategory'],\n",
    "            'pattern': json_data['sourceDataInfo']['processPattern']\n",
    "           }"
   ]
  },
  {
   "cell_type": "code",
   "execution_count": 31,
   "id": "b6522ff6",
   "metadata": {},
   "outputs": [
    {
     "data": {
      "text/plain": [
       "'99'"
      ]
     },
     "execution_count": 31,
     "metadata": {},
     "output_type": "execute_result"
    }
   ],
   "source": [
    "get_processPattern('ET_M13_494143_L.json')"
   ]
  },
  {
   "cell_type": "code",
   "execution_count": 32,
   "id": "16058d34",
   "metadata": {},
   "outputs": [],
   "source": [
    "json_files = [f for f in os.listdir(raw_dir) if f.endswith('.json')]"
   ]
  },
  {
   "cell_type": "code",
   "execution_count": 34,
   "id": "45f51d3a",
   "metadata": {},
   "outputs": [
    {
     "data": {
      "text/plain": [
       "'EC_M02_464986_L.json'"
      ]
     },
     "execution_count": 34,
     "metadata": {},
     "output_type": "execute_result"
    }
   ],
   "source": [
    "json_files[0]"
   ]
  },
  {
   "cell_type": "code",
   "execution_count": 79,
   "id": "00f3ecbb",
   "metadata": {},
   "outputs": [
    {
     "name": "stderr",
     "output_type": "stream",
     "text": [
      "100%|█████████████████████████████████| 294353/294353 [01:09<00:00, 4261.31it/s]\n"
     ]
    }
   ],
   "source": [
    "commercials =[]\n",
    "\n",
    "for filename in tqdm(json_files):\n",
    "    pattern = get_processPattern(filename)\n",
    "    if pattern in codes :\n",
    "        commercials.append(filename)\n",
    "    "
   ]
  },
  {
   "cell_type": "code",
   "execution_count": 80,
   "id": "72705aff",
   "metadata": {},
   "outputs": [
    {
     "data": {
      "text/plain": [
       "23894"
      ]
     },
     "execution_count": 80,
     "metadata": {},
     "output_type": "execute_result"
    }
   ],
   "source": [
    "len(commercials)"
   ]
  },
  {
   "cell_type": "code",
   "execution_count": 44,
   "id": "3b568162",
   "metadata": {},
   "outputs": [
    {
     "data": {
      "text/plain": [
       "23894"
      ]
     },
     "execution_count": 44,
     "metadata": {},
     "output_type": "execute_result"
    }
   ],
   "source": [
    "len(commercials)"
   ]
  },
  {
   "cell_type": "code",
   "execution_count": 82,
   "id": "f9608316",
   "metadata": {},
   "outputs": [
    {
     "data": {
      "text/plain": [
       "{'title': \"넥슨, 2019 상반기 모바일 게임 쏟아내...'바람의나라'·'크아' 출시\",\n",
       " 'text': '넥슨이 2019년 상반기 10여 종의 모바일 게임을 쏟아낸다.\\n넥슨은 고전 IP와 신규 IP, 해외 유명 IP 등을 활용해 화려한 라인업을 구성했다.\\n넥슨은 12일 서울시 서초구 넥슨 아레나에서 \\'넥슨 스페셜 데이\\'를 열고 사전예약 중인 \\'크레이지아케이드 BnB M\\'과 행사에서 첫 공개하는 액션 RPG \\'마기아: 카르마 사가\\'의 서비스 일정과 세부 콘텐츠를 발표했다.\\n2019년 상반기 모바일 게임 라인업은 넥슨 IP를 활용한 \\'크레이지아케이드 BnB M\\', \\'바람의 나라:연\\', 신규 IP인 \\'트라하\\', \\'마기아: 카르마 사가\\', \\'린: 더 라이트브링어\\', 해외 유명 IP \\'고질라\\', \\'시노앨리스\\' 등으로 구성됐다.\\n글로벌 진출작으로는 \\'메이플스토리M\\', \\'야생의 땅 듀랑고\\', \\'오버히트\\'가 있다.\\n넥슨 김현 부사장은 이날 환영사를 통해 \\\\\"넥슨만의 경쟁력을 증명하는 다양성을 갖춘 모바일 게임을 대거 준비 중\\\\\"이라며 \\\\\"앞으로도 플랫폼과 장르를 넘어 도전적인 행보를 이어나가겠다\\\\\"고 밝혔다.\\n서용석 모바일사업본부 부본부장은 김정주 NXC 대표의 넥슨 매각 등 외부 환경이 개발에 미치는 영향에 대해 \\\\\"개발과 퍼블리싱은 외부 환경과 관계 없이 잘 진행되고 있다\\\\\"고 밝혔다.\\n크레이지 아케이드, 바람의나라...고전 IP 모바일로 재탄생 넥슨의 대표적인 고전 게임, \\'크레이지 아케이드\\'와 \\'바람의 나라\\'를 이번 상반기 모바일로 만날 수 있게 됐다.\\n모바일 게임 \\'크레이지 아케이드 BnB\\'는 기존 PC게임의 감성을 그대로 옮기면서도 새로운 대전방식을 도입해 차별화를 꾀했다.\\n앱에서만 만날 수 있는 신규 캐릭터, 캐릭터 커스터마이징, 맵 등이 준비됐다.\\n크레이지 아케이드의 노멀 대전 모드는 \\'2vs2\\'로, 상대를 먼저 다섯 번 쓰러뜨리면 된다.\\n더불어 유저 레벨을 쌓을 수 있는 \\'래더매치\\', 16명이 승부를 가르는 \\'스페셜 모드\\', 상대 팀보다 더 많이 먹으면 승리하는 \\'만두먹기\\' 등도 선보인다.\\n론칭 일정은 오는 21일로, 사전예약 200만 명을 돌파했다.\\n정우용 디렉터는 \\\\\"크레이지 아케이드의 PC 버전은 빠르고 정교한 조작을 요한다. 그대로 모바일에 재현하기보다는 한계를 인정하고, 새로운 컨셉을 도입해 전략적 즐거움을 만들었다고 생각한다\\\\\"고 밝혔다. \\'바람의 나라:연\\'은 넥슨의 고전 MMORPG \\'바람의 나라\\'를 기반으로 한 모바일 게임이다.\\n올 상반기 국내 출시를 목표로 비공개 시범 테스트를 준비 중이다.\\n넥슨은 \\\\\"원작이 가진 감성 그대로 리소스와 콘텐츠를 구현하고 있으며 커뮤니티 요소, 파티플레이에 중점을 뒀다\\\\\"고 밝혔다.\\n올 상반기 신규 IP도 출시를 앞두고 있다.\\n슈퍼애시드가 개발한 액션RPG \\'마기아: 카르마 사가\\'는 상반기 중 국내, 글로벌 출시가 예정돼 있다.\\n또, 120여 개 캐릭터 수집과 성장요소를 갖춘 수집형 RPG \\'린: 더 라이트브링어\\'는 3월 14일 국내외 출시를 앞두고 최종 담금질을 마쳤다.\\n해외 유명 IP 활용한 신작 출시...국내 인기게임 글로벌 출사표 넥슨은 해외에서 검증된 유명 IP 바탕의 모바일 게임 2종을 공개하고 넥슨 인기게임 3종의 글로벌 출사표를 던졌다.\\n일본 토호주식회사의 \\'고질라\\' IP를 활용한 \\'고질라 디펜스 포스\\'는 100여 종의 고질라와 괴수가 등장하는 방치형 기지 매니지먼트 게임이다.\\n오는 5월 국내외 출시 예정이다.\\n다크 판타지 RPG \\'시노앨리스\\'는 올 상반기 중으로 국내 및 글로벌 원빌드로 선보인다. \\'야생의 땅: 듀랑고\\'는 상반기 중국과 일본을 제외한 글로벌 전역에서 서비스를 진행한다. \\'오버히트\\'는 상반기 내 150여 개국에서 사전예약 및 론칭에 돌입한다. \\'메이플스토리M\\'은 4월 일본 시장 출시를 앞두고 있다.\\n박재민 모바일사업본부 본부장은 미디어SR에 \\\\\"각 타이틀들의 국내외 성과를 발판삼아 앞으로 예정된 신작도 성공적으로 론칭할 수 있도록 준비하고 있다\\\\\"며 \\\\\"획일화되지 않은 장르와 콘텐츠로 많은 분들이 만족할 수 있는 완성도 높은 게임을 선보이겠다\\\\\"고 밝혔다.',\n",
       " 'topic': '경제',\n",
       " 'subtopic': '산업',\n",
       " 'pattern': '23'}"
      ]
     },
     "execution_count": 82,
     "metadata": {},
     "output_type": "execute_result"
    }
   ],
   "source": [
    "get_contents(commercials[7])"
   ]
  },
  {
   "cell_type": "code",
   "execution_count": 98,
   "id": "c3564723",
   "metadata": {},
   "outputs": [],
   "source": [
    "import warnings"
   ]
  },
  {
   "cell_type": "code",
   "execution_count": 99,
   "id": "11a46d4f",
   "metadata": {},
   "outputs": [],
   "source": [
    "warnings.filterwarnings('ignore', category=FutureWarning)"
   ]
  },
  {
   "cell_type": "code",
   "execution_count": 100,
   "id": "081bb71d",
   "metadata": {},
   "outputs": [],
   "source": [
    "df = pd.DataFrame(columns={'title', 'text', 'topic', 'subtopic', 'pattern'})"
   ]
  },
  {
   "cell_type": "code",
   "execution_count": 101,
   "id": "e6c979d8",
   "metadata": {},
   "outputs": [
    {
     "name": "stderr",
     "output_type": "stream",
     "text": [
      "100%|████████████████████████████████████| 23894/23894 [00:52<00:00, 453.13it/s]\n"
     ]
    }
   ],
   "source": [
    "for filename in tqdm(commercials) :\n",
    "    data = get_contents(filename)\n",
    "    df = df.append(data, ignore_index=True)"
   ]
  },
  {
   "cell_type": "code",
   "execution_count": 103,
   "id": "c087f0ef",
   "metadata": {},
   "outputs": [
    {
     "data": {
      "text/html": [
       "<div>\n",
       "<style scoped>\n",
       "    .dataframe tbody tr th:only-of-type {\n",
       "        vertical-align: middle;\n",
       "    }\n",
       "\n",
       "    .dataframe tbody tr th {\n",
       "        vertical-align: top;\n",
       "    }\n",
       "\n",
       "    .dataframe thead th {\n",
       "        text-align: right;\n",
       "    }\n",
       "</style>\n",
       "<table border=\"1\" class=\"dataframe\">\n",
       "  <thead>\n",
       "    <tr style=\"text-align: right;\">\n",
       "      <th></th>\n",
       "      <th>pattern</th>\n",
       "      <th>title</th>\n",
       "      <th>text</th>\n",
       "      <th>topic</th>\n",
       "      <th>subtopic</th>\n",
       "    </tr>\n",
       "  </thead>\n",
       "  <tbody>\n",
       "    <tr>\n",
       "      <th>0</th>\n",
       "      <td>23</td>\n",
       "      <td>신협, 포항 지진피해 성금 5,000만 원 및 구호물품 1,500만 원 지원</td>\n",
       "      <td>신협사회공헌재단(이사장 문철상)은지난 22일 경북 포항시청을 방문하여 지진 피해 복...</td>\n",
       "      <td>경제</td>\n",
       "      <td>은행</td>\n",
       "    </tr>\n",
       "    <tr>\n",
       "      <th>1</th>\n",
       "      <td>23</td>\n",
       "      <td>금감원, \\\"스튜어드십 코드 확산 위해 참여 현황 모니터링할 것\\\"</td>\n",
       "      <td>금융감독원이 12일 스튜어드십 코드 확산을 위해 자산운용사 등의 코드 참여 이행 현...</td>\n",
       "      <td>경제</td>\n",
       "      <td>일반</td>\n",
       "    </tr>\n",
       "    <tr>\n",
       "      <th>2</th>\n",
       "      <td>23</td>\n",
       "      <td>김기찬 교수, \\\"4만불 시대로 가기 위해선 사람중심 기업가정신 필요해\\\"</td>\n",
       "      <td>\\\"사람중심 기업은 직원들이 회사의 비전에 공감하는 것을 말한다. 그러면 직원들이 ...</td>\n",
       "      <td>경제</td>\n",
       "      <td>일반</td>\n",
       "    </tr>\n",
       "    <tr>\n",
       "      <th>3</th>\n",
       "      <td>23</td>\n",
       "      <td>금감원, 금리인상 여파에 가계대출 관리 나서</td>\n",
       "      <td>최근 미국이 기준금리를 0.25% 인상해 10년 만에 연 2%대 기준금리로 올라서면...</td>\n",
       "      <td>경제</td>\n",
       "      <td>은행</td>\n",
       "    </tr>\n",
       "    <tr>\n",
       "      <th>4</th>\n",
       "      <td>23</td>\n",
       "      <td>카카오M, 이병헌·공유 소속사와 협업 공식화 \\\"한류 밸류체인 확대할 것\\\"</td>\n",
       "      <td>카카오M이 BH엔터테인먼트, 숲엔터테인먼트,제이와이드엔터테인먼트 등 3개 배우 매니...</td>\n",
       "      <td>경제</td>\n",
       "      <td>산업</td>\n",
       "    </tr>\n",
       "    <tr>\n",
       "      <th>...</th>\n",
       "      <td>...</td>\n",
       "      <td>...</td>\n",
       "      <td>...</td>\n",
       "      <td>...</td>\n",
       "      <td>...</td>\n",
       "    </tr>\n",
       "    <tr>\n",
       "      <th>23879</th>\n",
       "      <td>21</td>\n",
       "      <td>\\\"일상을 작품으로\\\"…소니, 소지섭과 풀프레임 두번째 광고 온에어</td>\n",
       "      <td>소니코리아가 배우 소지섭과 함께한 풀프레임 카메라 '알파7(A7) III' 새 광고...</td>\n",
       "      <td>IT&amp;과학</td>\n",
       "      <td>IT/과학, 헬스 &gt; 컴퓨팅/디바이스</td>\n",
       "    </tr>\n",
       "    <tr>\n",
       "      <th>23880</th>\n",
       "      <td>21</td>\n",
       "      <td>'면접도 화상으로'…라인, 신입 개발자 '언택트' 채용</td>\n",
       "      <td>네이버 자회사 라인이 코로나19 확산 방지를 위해 신입 개발자 공채를 100% 비대...</td>\n",
       "      <td>IT&amp;과학</td>\n",
       "      <td>IT/과학, 헬스 &gt; 인터넷/보안</td>\n",
       "    </tr>\n",
       "    <tr>\n",
       "      <th>23881</th>\n",
       "      <td>21</td>\n",
       "      <td>외국인 여행 플랫폼 '크리에이트립', 제휴처 300개 돌파</td>\n",
       "      <td>외국인 대상 국내 여행 정보 제공 플랫폼을 운영하는 크리에이트립이 제휴 업체수 30...</td>\n",
       "      <td>IT&amp;과학</td>\n",
       "      <td>IT/과학, 헬스 &gt; 인터넷/보안</td>\n",
       "    </tr>\n",
       "    <tr>\n",
       "      <th>23882</th>\n",
       "      <td>21</td>\n",
       "      <td>LGU+, '코로나19 피해' 알뜰폰 사업자에 온라인 판촉물 지원</td>\n",
       "      <td>LG유플러스는 코로나19(COVID-19) 영향으로 경영에 어려움을 겪고 있는 알뜰...</td>\n",
       "      <td>IT&amp;과학</td>\n",
       "      <td>IT/과학, 헬스 &gt; 통신/미디어</td>\n",
       "    </tr>\n",
       "    <tr>\n",
       "      <th>23883</th>\n",
       "      <td>21</td>\n",
       "      <td>택시에 두고 내린 분실물 파랑·빨간색이 많은 이유</td>\n",
       "      <td>지난해 우버 승객들이 차량에 깜박 두고 내리는 분실물의 색상은 유독 파란색과 빨간색...</td>\n",
       "      <td>IT&amp;과학</td>\n",
       "      <td>IT/과학, 헬스 &gt; 일반</td>\n",
       "    </tr>\n",
       "  </tbody>\n",
       "</table>\n",
       "<p>23884 rows × 5 columns</p>\n",
       "</div>"
      ],
      "text/plain": [
       "      pattern                                       title  \\\n",
       "0          23  신협, 포항 지진피해 성금 5,000만 원 및 구호물품 1,500만 원 지원   \n",
       "1          23       금감원, \\\"스튜어드십 코드 확산 위해 참여 현황 모니터링할 것\\\"   \n",
       "2          23   김기찬 교수, \\\"4만불 시대로 가기 위해선 사람중심 기업가정신 필요해\\\"   \n",
       "3          23                    금감원, 금리인상 여파에 가계대출 관리 나서   \n",
       "4          23  카카오M, 이병헌·공유 소속사와 협업 공식화 \\\"한류 밸류체인 확대할 것\\\"   \n",
       "...       ...                                         ...   \n",
       "23879      21       \\\"일상을 작품으로\\\"…소니, 소지섭과 풀프레임 두번째 광고 온에어   \n",
       "23880      21              '면접도 화상으로'…라인, 신입 개발자 '언택트' 채용   \n",
       "23881      21            외국인 여행 플랫폼 '크리에이트립', 제휴처 300개 돌파   \n",
       "23882      21        LGU+, '코로나19 피해' 알뜰폰 사업자에 온라인 판촉물 지원   \n",
       "23883      21                 택시에 두고 내린 분실물 파랑·빨간색이 많은 이유   \n",
       "\n",
       "                                                    text  topic  \\\n",
       "0      신협사회공헌재단(이사장 문철상)은지난 22일 경북 포항시청을 방문하여 지진 피해 복...     경제   \n",
       "1      금융감독원이 12일 스튜어드십 코드 확산을 위해 자산운용사 등의 코드 참여 이행 현...     경제   \n",
       "2      \\\"사람중심 기업은 직원들이 회사의 비전에 공감하는 것을 말한다. 그러면 직원들이 ...     경제   \n",
       "3      최근 미국이 기준금리를 0.25% 인상해 10년 만에 연 2%대 기준금리로 올라서면...     경제   \n",
       "4      카카오M이 BH엔터테인먼트, 숲엔터테인먼트,제이와이드엔터테인먼트 등 3개 배우 매니...     경제   \n",
       "...                                                  ...    ...   \n",
       "23879  소니코리아가 배우 소지섭과 함께한 풀프레임 카메라 '알파7(A7) III' 새 광고...  IT&과학   \n",
       "23880  네이버 자회사 라인이 코로나19 확산 방지를 위해 신입 개발자 공채를 100% 비대...  IT&과학   \n",
       "23881  외국인 대상 국내 여행 정보 제공 플랫폼을 운영하는 크리에이트립이 제휴 업체수 30...  IT&과학   \n",
       "23882  LG유플러스는 코로나19(COVID-19) 영향으로 경영에 어려움을 겪고 있는 알뜰...  IT&과학   \n",
       "23883  지난해 우버 승객들이 차량에 깜박 두고 내리는 분실물의 색상은 유독 파란색과 빨간색...  IT&과학   \n",
       "\n",
       "                   subtopic  \n",
       "0                        은행  \n",
       "1                        일반  \n",
       "2                        일반  \n",
       "3                        은행  \n",
       "4                        산업  \n",
       "...                     ...  \n",
       "23879  IT/과학, 헬스 > 컴퓨팅/디바이스  \n",
       "23880    IT/과학, 헬스 > 인터넷/보안  \n",
       "23881    IT/과학, 헬스 > 인터넷/보안  \n",
       "23882    IT/과학, 헬스 > 통신/미디어  \n",
       "23883        IT/과학, 헬스 > 일반  \n",
       "\n",
       "[23884 rows x 5 columns]"
      ]
     },
     "execution_count": 103,
     "metadata": {},
     "output_type": "execute_result"
    }
   ],
   "source": [
    "df[:-10]"
   ]
  },
  {
   "cell_type": "code",
   "execution_count": 104,
   "id": "aafa3aea",
   "metadata": {},
   "outputs": [],
   "source": [
    "df.to_csv('/home/osung/data/korean/commercial/csv/commercials.tsv', sep='\\t', index=False)"
   ]
  },
  {
   "cell_type": "code",
   "execution_count": 87,
   "id": "c46cd473",
   "metadata": {},
   "outputs": [],
   "source": [
    "data = get_contents(commercials[7])"
   ]
  },
  {
   "cell_type": "code",
   "execution_count": 94,
   "id": "8a79cb5d",
   "metadata": {},
   "outputs": [
    {
     "data": {
      "text/plain": [
       "{'title': '[서울모빌리티쇼]마세라티, MC20·르반떼 GT 하이브리드 국내 첫 공개',\n",
       " 'text': '마세라티가 25일 경기도 일산 킨텍스에서 열린 \\'2021 서울모빌리티쇼\\' 보도 발표회에서 슈퍼 스포츠카 MC20와 브랜드 최초의 하이브리드 스포츠유틸리티(SUV) 모델 르반떼 GT 하이브리드를 국내에서 최초로 선보였다.\\n올해 초 프랑스에서 열린 국제자동차페스티벌에서 \\'2021 올해의 가장 아름다운 스포츠카\\'에 선정된 MC20는 최대토크 73.4㎏·m, 제로백(정지상태에서 시속 100㎞까지 도달하는 시간) 2.9초, 최고속도 325㎞/h의 성능을 발휘하는 630마력의 신형 V6 3.0ℓ 네튜노(Nettuno) 엔진이 장착되었다.\\n네튜노 엔진은 그간 F1 경기에서만 볼 수 있었던 기술을 도로 위로 이전한 마세라티의 자체기술로 개발된 새 엔진으로 전량 이탈리아 모데나에서 생산된다.\\n마세라티는 외관 디자인과 무게를 고려해 MC20의 전체 섀시를 탄소섬유와 복합소재로 만들었다.\\n또한 우아함, 역동성, 경량화를 위해 공기역학적으로 설계됐다.\\n특히 또한 보닛의 에어벤트와 측면의 에어 인테이크는 자연스럽게 제 기능을 수행하면서도 특정 각도에서 바라봤을 때는 거의 보이지 않도록 디자인 됐다.\\nMC20의 가격(부가세포함, 개별소비세 인하 적용)은 3억900만원이다.\\n마세라티는 이번 행사에서 하이브리드 SUV 르반떼 GT 하이브리드도 전시했다.\\n르반떼 GT 하이브리드는 마세라티 전동화의 미래가 투영된 마세라티 최초의 하이브리드 SUV모델이다.\\n르반떼 GT 하이브리드 출시로 경쟁력, 혁신성, 시장요구에 대한 대응능력이 향상됐다고 마세라티는 설명했다.\\n르반떼 GT 하이브리드는 최고의 퍼포먼스를 위해 동급 6기통 엔진보다 가벼우며 전면에 엔진, 후면에 배터리가 각각 탑재돼 중량 배분이 향상됐다.\\n터보차저와 e부스터도 모데나에 있는 마세라티 이노베이션 랩에서 심층 엔지니어링 작업을 통해 개발됐다.\\n르반떼 GT 하이브리드는 최고출력 330마력과 2250 rpm에서 발현되는 45.9 ㎏·m토크 등 올 휠 드라이브 방식으로 구동된다.\\n최고속도는 245㎞/h이며 제로백은 6초다.\\n특히 유럽 국제표준방식(WLTP) 기준 이산화탄소 배출량을 220~243g/㎞까지 줄이고 350마력 V6버전에 비해 연비를 18%이상 절약했다.\\n르반떼 GT 하이브리드에는 아주로 아스트로 (Azzurro Astro)라 불리는 신규 메탈릭 트라이코트 블루인 외장 색상이 옵션으로 제공된다.\\n또한 이미 기블리 하이브리드에서 선보인 그리지오 에볼루지오네 색상도 르반떼 GT 하이브리드 버전에서 볼 수 있게 된다.\\n외관의 사이드 에어벤트(측면 흡입구)와 브레이크 캘리퍼, C필러(차체 후면 기둥) 로고는 블루 색상으로 처리했다. ‘르반떼 GT 하이브리드’를 통해 특별한 형상의 새 로고를 최초로 선보인다.\\n르반떼 GT하이브리드의 가격은 1억1800만원이다.\\n김광철 마세라티 공식 수입사 FMK 대표이사는 환영사를 통해 \\\\\"마세라티의 정체성을 재정립하는 슈퍼 스포츠카MC20와 마세라티 최초의 전동화 SUV 모델인 르반떼 GT 하이브리드를 선보이게 되어 매우 기쁘다\\\\\"며 \\\\\"다른 매력을 가진 두 모델의 출시가 마세라티 특유의 감성과 퍼포먼스를 전달하며, 하이엔드 수입차 시장에 매력적인 선택지로 거듭날 것\\\\\"이라고 밝혔다.\\n한편, 마세라티는 이번 2021 서울모빌리티쇼에서 공개된 ‘MC20’와 ‘르반떼 GT 하이브리드’ 외에도 스트리트 패션계에서 화제를 모으고 있는 패션하우스 프라그먼트 (Fragment)와 협업한 기블리 프라그먼트, 콰트로포르테 트로페오, 르반떼 F 트리뷰토 등의 차량도 함께 선보인다.\\n또한, 머천다이징 물품을 구입할 수 있는 공간과 개인의 취향을 마세라티에 반영할 수 있는 푸오리세리에(Fuoriserie) 프로그램도 선보일 예정이다.',\n",
       " 'topic': '경제',\n",
       " 'subtopic': '자동차',\n",
       " 'pattern': '22'}"
      ]
     },
     "execution_count": 94,
     "metadata": {},
     "output_type": "execute_result"
    }
   ],
   "source": [
    "data"
   ]
  },
  {
   "cell_type": "code",
   "execution_count": 97,
   "id": "43f0ee9f",
   "metadata": {},
   "outputs": [
    {
     "name": "stderr",
     "output_type": "stream",
     "text": [
      "/tmp/ipykernel_263146/2220528818.py:1: FutureWarning: In a future version of pandas all arguments of concat except for the argument 'objs' will be keyword-only.\n",
      "  pd.concat(df, data)\n"
     ]
    },
    {
     "ename": "TypeError",
     "evalue": "first argument must be an iterable of pandas objects, you passed an object of type \"DataFrame\"",
     "output_type": "error",
     "traceback": [
      "\u001b[0;31m---------------------------------------------------------------------------\u001b[0m",
      "\u001b[0;31mTypeError\u001b[0m                                 Traceback (most recent call last)",
      "\u001b[0;32m/tmp/ipykernel_263146/2220528818.py\u001b[0m in \u001b[0;36m<module>\u001b[0;34m\u001b[0m\n\u001b[0;32m----> 1\u001b[0;31m \u001b[0mpd\u001b[0m\u001b[0;34m.\u001b[0m\u001b[0mconcat\u001b[0m\u001b[0;34m(\u001b[0m\u001b[0mdf\u001b[0m\u001b[0;34m,\u001b[0m \u001b[0mdata\u001b[0m\u001b[0;34m)\u001b[0m\u001b[0;34m\u001b[0m\u001b[0;34m\u001b[0m\u001b[0m\n\u001b[0m",
      "\u001b[0;32m~/anaconda3/lib/python3.9/site-packages/pandas/util/_decorators.py\u001b[0m in \u001b[0;36mwrapper\u001b[0;34m(*args, **kwargs)\u001b[0m\n\u001b[1;32m    309\u001b[0m                     \u001b[0mstacklevel\u001b[0m\u001b[0;34m=\u001b[0m\u001b[0mstacklevel\u001b[0m\u001b[0;34m,\u001b[0m\u001b[0;34m\u001b[0m\u001b[0;34m\u001b[0m\u001b[0m\n\u001b[1;32m    310\u001b[0m                 )\n\u001b[0;32m--> 311\u001b[0;31m             \u001b[0;32mreturn\u001b[0m \u001b[0mfunc\u001b[0m\u001b[0;34m(\u001b[0m\u001b[0;34m*\u001b[0m\u001b[0margs\u001b[0m\u001b[0;34m,\u001b[0m \u001b[0;34m**\u001b[0m\u001b[0mkwargs\u001b[0m\u001b[0;34m)\u001b[0m\u001b[0;34m\u001b[0m\u001b[0;34m\u001b[0m\u001b[0m\n\u001b[0m\u001b[1;32m    312\u001b[0m \u001b[0;34m\u001b[0m\u001b[0m\n\u001b[1;32m    313\u001b[0m         \u001b[0;32mreturn\u001b[0m \u001b[0mwrapper\u001b[0m\u001b[0;34m\u001b[0m\u001b[0;34m\u001b[0m\u001b[0m\n",
      "\u001b[0;32m~/anaconda3/lib/python3.9/site-packages/pandas/core/reshape/concat.py\u001b[0m in \u001b[0;36mconcat\u001b[0;34m(objs, axis, join, ignore_index, keys, levels, names, verify_integrity, sort, copy)\u001b[0m\n\u001b[1;32m    345\u001b[0m     \u001b[0mValueError\u001b[0m\u001b[0;34m:\u001b[0m \u001b[0mIndexes\u001b[0m \u001b[0mhave\u001b[0m \u001b[0moverlapping\u001b[0m \u001b[0mvalues\u001b[0m\u001b[0;34m:\u001b[0m \u001b[0;34m[\u001b[0m\u001b[0;34m'a'\u001b[0m\u001b[0;34m]\u001b[0m\u001b[0;34m\u001b[0m\u001b[0;34m\u001b[0m\u001b[0m\n\u001b[1;32m    346\u001b[0m     \"\"\"\n\u001b[0;32m--> 347\u001b[0;31m     op = _Concatenator(\n\u001b[0m\u001b[1;32m    348\u001b[0m         \u001b[0mobjs\u001b[0m\u001b[0;34m,\u001b[0m\u001b[0;34m\u001b[0m\u001b[0;34m\u001b[0m\u001b[0m\n\u001b[1;32m    349\u001b[0m         \u001b[0maxis\u001b[0m\u001b[0;34m=\u001b[0m\u001b[0maxis\u001b[0m\u001b[0;34m,\u001b[0m\u001b[0;34m\u001b[0m\u001b[0;34m\u001b[0m\u001b[0m\n",
      "\u001b[0;32m~/anaconda3/lib/python3.9/site-packages/pandas/core/reshape/concat.py\u001b[0m in \u001b[0;36m__init__\u001b[0;34m(self, objs, axis, join, keys, levels, names, ignore_index, verify_integrity, copy, sort)\u001b[0m\n\u001b[1;32m    380\u001b[0m     ):\n\u001b[1;32m    381\u001b[0m         \u001b[0;32mif\u001b[0m \u001b[0misinstance\u001b[0m\u001b[0;34m(\u001b[0m\u001b[0mobjs\u001b[0m\u001b[0;34m,\u001b[0m \u001b[0;34m(\u001b[0m\u001b[0mABCSeries\u001b[0m\u001b[0;34m,\u001b[0m \u001b[0mABCDataFrame\u001b[0m\u001b[0;34m,\u001b[0m \u001b[0mstr\u001b[0m\u001b[0;34m)\u001b[0m\u001b[0;34m)\u001b[0m\u001b[0;34m:\u001b[0m\u001b[0;34m\u001b[0m\u001b[0;34m\u001b[0m\u001b[0m\n\u001b[0;32m--> 382\u001b[0;31m             raise TypeError(\n\u001b[0m\u001b[1;32m    383\u001b[0m                 \u001b[0;34m\"first argument must be an iterable of pandas \"\u001b[0m\u001b[0;34m\u001b[0m\u001b[0;34m\u001b[0m\u001b[0m\n\u001b[1;32m    384\u001b[0m                 \u001b[0;34mf'objects, you passed an object of type \"{type(objs).__name__}\"'\u001b[0m\u001b[0;34m\u001b[0m\u001b[0;34m\u001b[0m\u001b[0m\n",
      "\u001b[0;31mTypeError\u001b[0m: first argument must be an iterable of pandas objects, you passed an object of type \"DataFrame\""
     ]
    }
   ],
   "source": [
    "pd.concat(df, data)"
   ]
  },
  {
   "cell_type": "code",
   "execution_count": 90,
   "id": "4d88ad75",
   "metadata": {},
   "outputs": [
    {
     "data": {
      "text/html": [
       "<div>\n",
       "<style scoped>\n",
       "    .dataframe tbody tr th:only-of-type {\n",
       "        vertical-align: middle;\n",
       "    }\n",
       "\n",
       "    .dataframe tbody tr th {\n",
       "        vertical-align: top;\n",
       "    }\n",
       "\n",
       "    .dataframe thead th {\n",
       "        text-align: right;\n",
       "    }\n",
       "</style>\n",
       "<table border=\"1\" class=\"dataframe\">\n",
       "  <thead>\n",
       "    <tr style=\"text-align: right;\">\n",
       "      <th></th>\n",
       "      <th>pattern</th>\n",
       "      <th>title</th>\n",
       "      <th>text</th>\n",
       "      <th>topic</th>\n",
       "      <th>subtopic</th>\n",
       "    </tr>\n",
       "  </thead>\n",
       "  <tbody>\n",
       "  </tbody>\n",
       "</table>\n",
       "</div>"
      ],
      "text/plain": [
       "Empty DataFrame\n",
       "Columns: [pattern, title, text, topic, subtopic]\n",
       "Index: []"
      ]
     },
     "execution_count": 90,
     "metadata": {},
     "output_type": "execute_result"
    }
   ],
   "source": [
    "df"
   ]
  },
  {
   "cell_type": "code",
   "execution_count": null,
   "id": "86d42680",
   "metadata": {},
   "outputs": [],
   "source": []
  }
 ],
 "metadata": {
  "kernelspec": {
   "display_name": "Python 3 (ipykernel)",
   "language": "python",
   "name": "python3"
  },
  "language_info": {
   "codemirror_mode": {
    "name": "ipython",
    "version": 3
   },
   "file_extension": ".py",
   "mimetype": "text/x-python",
   "name": "python",
   "nbconvert_exporter": "python",
   "pygments_lexer": "ipython3",
   "version": "3.9.19"
  }
 },
 "nbformat": 4,
 "nbformat_minor": 5
}
