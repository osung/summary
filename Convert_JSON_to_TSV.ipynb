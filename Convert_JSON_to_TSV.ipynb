{
 "cells": [
  {
   "cell_type": "code",
   "execution_count": 1,
   "id": "833b69a9",
   "metadata": {},
   "outputs": [],
   "source": [
    "import os\n",
    "import json\n",
    "import pandas as pd\n",
    "from tqdm import tqdm"
   ]
  },
  {
   "cell_type": "code",
   "execution_count": 39,
   "id": "4663a566",
   "metadata": {},
   "outputs": [],
   "source": [
    "allowed_topics = ['경제', '사회', '정치', '기술']"
   ]
  },
  {
   "cell_type": "code",
   "execution_count": 40,
   "id": "d58926a9",
   "metadata": {},
   "outputs": [],
   "source": [
    "def read_and_combine_paragraphs(file_path):\n",
    "    with open(file_path, 'r', encoding='utf-8') as file:\n",
    "        data = json.load(file)\n",
    "\n",
    "    documents = data['document']\n",
    "    doc_data = []\n",
    "\n",
    "    for document in documents:\n",
    "        doc_id = document['id']\n",
    "        topic = document['metadata']['topic']\n",
    "        \n",
    "        if 'IT' in topic or '과학' in topic : \n",
    "            topic = '기술'\n",
    "        \n",
    "        paragraphs = document['paragraph']\n",
    "        combined_text = ' '.join(paragraph['form'] for paragraph in paragraphs)\n",
    "        doc_data.append({\n",
    "            'id': doc_id,\n",
    "            'topic': topic,\n",
    "            'text': combined_text\n",
    "        })\n",
    "\n",
    "        \n",
    "    df = pd.DataFrame(doc_data)\n",
    "    \n",
    "    return df[df['topic'].isin(allowed_topics)]"
   ]
  },
  {
   "cell_type": "code",
   "execution_count": 19,
   "id": "fc39efa5",
   "metadata": {},
   "outputs": [],
   "source": [
    "json_file_path = '/home/osung/data/korean/modu/json/NZRW1900000001.json'"
   ]
  },
  {
   "cell_type": "code",
   "execution_count": 41,
   "id": "4e8af908",
   "metadata": {},
   "outputs": [],
   "source": [
    "df = read_and_combine_paragraphs(json_file_path)"
   ]
  },
  {
   "cell_type": "code",
   "execution_count": 42,
   "id": "32bbbcff",
   "metadata": {},
   "outputs": [
    {
     "data": {
      "text/plain": [
       "0       경제\n",
       "1       사회\n",
       "2       경제\n",
       "3       정치\n",
       "4       기술\n",
       "        ..\n",
       "2107    사회\n",
       "2108    사회\n",
       "2109    기술\n",
       "2110    기술\n",
       "2120    사회\n",
       "Name: topic, Length: 1134, dtype: object"
      ]
     },
     "execution_count": 42,
     "metadata": {},
     "output_type": "execute_result"
    }
   ],
   "source": [
    "df['topic']"
   ]
  },
  {
   "cell_type": "code",
   "execution_count": 43,
   "id": "d984b865",
   "metadata": {},
   "outputs": [
    {
     "data": {
      "text/plain": [
       "array(['경제', '사회', '정치', '기술'], dtype=object)"
      ]
     },
     "execution_count": 43,
     "metadata": {},
     "output_type": "execute_result"
    }
   ],
   "source": [
    "df.topic.unique()"
   ]
  },
  {
   "cell_type": "code",
   "execution_count": 44,
   "id": "e76f80c3",
   "metadata": {},
   "outputs": [
    {
     "data": {
      "text/plain": [
       "id                                      NWRW1900000055.467\n",
       "topic                                                   경제\n",
       "text     차명계좌 관련 주요 사건 개요   차명계좌 관련 내용 진행상황 이건희삼성전자 회장 ...\n",
       "Name: 0, dtype: object"
      ]
     },
     "execution_count": 44,
     "metadata": {},
     "output_type": "execute_result"
    }
   ],
   "source": [
    "df.iloc[0]"
   ]
  },
  {
   "cell_type": "code",
   "execution_count": 46,
   "id": "53c14114",
   "metadata": {},
   "outputs": [],
   "source": [
    "directory_path = '/home/osung/data/korean/modu/json'"
   ]
  },
  {
   "cell_type": "code",
   "execution_count": 52,
   "id": "a4b6e2ff",
   "metadata": {},
   "outputs": [
    {
     "name": "stderr",
     "output_type": "stream",
     "text": [
      "Processing JSON files: 100%|██████████████████| 468/468 [05:39<00:00,  1.38it/s]\n"
     ]
    }
   ],
   "source": [
    "combined_df = pd.DataFrame()\n",
    "\n",
    "json_files = [f for f in os.listdir(directory_path) if f.endswith('.json')]\n",
    "    \n",
    "for filename in tqdm(json_files, desc=\"Processing JSON files\"):\n",
    "    if filename.endswith('.json'):\n",
    "        file_path = os.path.join(directory_path, filename)\n",
    "        df = read_and_combine_paragraphs(file_path)\n",
    "        combined_df = pd.concat([combined_df, df], ignore_index=True)"
   ]
  },
  {
   "cell_type": "code",
   "execution_count": 53,
   "id": "69ad34b3",
   "metadata": {},
   "outputs": [
    {
     "data": {
      "text/plain": [
       "3611424"
      ]
     },
     "execution_count": 53,
     "metadata": {},
     "output_type": "execute_result"
    }
   ],
   "source": [
    "len(combined_df)"
   ]
  },
  {
   "cell_type": "code",
   "execution_count": 54,
   "id": "3df2adaa",
   "metadata": {},
   "outputs": [
    {
     "data": {
      "text/plain": [
       "(3611424, 3)"
      ]
     },
     "execution_count": 54,
     "metadata": {},
     "output_type": "execute_result"
    }
   ],
   "source": [
    "combined_df.shape"
   ]
  },
  {
   "cell_type": "code",
   "execution_count": 55,
   "id": "8ef5d998",
   "metadata": {},
   "outputs": [
    {
     "data": {
      "text/plain": [
       "array(['사회', '기술', '경제', '정치'], dtype=object)"
      ]
     },
     "execution_count": 55,
     "metadata": {},
     "output_type": "execute_result"
    }
   ],
   "source": [
    "combined_df['topic'].unique()"
   ]
  },
  {
   "cell_type": "code",
   "execution_count": 58,
   "id": "2c0a4034",
   "metadata": {},
   "outputs": [],
   "source": [
    "combined_df.to_csv(directory_path + '/combined_news.tsv', sep='\\t', index=False)"
   ]
  },
  {
   "cell_type": "code",
   "execution_count": 59,
   "id": "1fa6f889",
   "metadata": {},
   "outputs": [
    {
     "data": {
      "text/plain": [
       "사회    1808896\n",
       "경제     864427\n",
       "정치     555588\n",
       "기술     382513\n",
       "Name: topic, dtype: int64"
      ]
     },
     "execution_count": 59,
     "metadata": {},
     "output_type": "execute_result"
    }
   ],
   "source": [
    "combined_df['topic'].value_counts()"
   ]
  },
  {
   "cell_type": "code",
   "execution_count": 62,
   "id": "ed7d4cc7",
   "metadata": {},
   "outputs": [
    {
     "ename": "ModuleNotFoundError",
     "evalue": "No module named 'gensim.summarization'",
     "output_type": "error",
     "traceback": [
      "\u001b[0;31m---------------------------------------------------------------------------\u001b[0m",
      "\u001b[0;31mModuleNotFoundError\u001b[0m                       Traceback (most recent call last)",
      "\u001b[0;32m/tmp/ipykernel_3583976/1322314901.py\u001b[0m in \u001b[0;36m<module>\u001b[0;34m\u001b[0m\n\u001b[0;32m----> 1\u001b[0;31m \u001b[0;32mfrom\u001b[0m \u001b[0mgensim\u001b[0m\u001b[0;34m.\u001b[0m\u001b[0msummarization\u001b[0m \u001b[0;32mimport\u001b[0m \u001b[0mkeywords\u001b[0m\u001b[0;34m\u001b[0m\u001b[0;34m\u001b[0m\u001b[0m\n\u001b[0m",
      "\u001b[0;31mModuleNotFoundError\u001b[0m: No module named 'gensim.summarization'"
     ]
    }
   ],
   "source": [
    "from gensim.summarization import keywords"
   ]
  },
  {
   "cell_type": "code",
   "execution_count": 64,
   "id": "a808b7bc",
   "metadata": {},
   "outputs": [
    {
     "name": "stdout",
     "output_type": "stream",
     "text": [
      "/bin/bash: /home/osung/anaconda3/envs/diffusion/lib/libtinfo.so.6: no version information available (required by /bin/bash)\n",
      "\u001b[31mERROR: Could not find a version that satisfies the requirement gensim.summarization (from versions: none)\u001b[0m\u001b[31m\n",
      "\u001b[0m\u001b[31mERROR: No matching distribution found for gensim.summarization\u001b[0m\u001b[31m\n",
      "\u001b[0m"
     ]
    }
   ],
   "source": [
    "!pip install gensim.summarization"
   ]
  },
  {
   "cell_type": "code",
   "execution_count": 63,
   "id": "8f4b47ae",
   "metadata": {},
   "outputs": [
    {
     "ename": "ModuleNotFoundError",
     "evalue": "No module named 'gensim.summarization'",
     "output_type": "error",
     "traceback": [
      "\u001b[0;31m---------------------------------------------------------------------------\u001b[0m",
      "\u001b[0;31mModuleNotFoundError\u001b[0m                       Traceback (most recent call last)",
      "\u001b[0;32m/tmp/ipykernel_3583976/1322314901.py\u001b[0m in \u001b[0;36m<module>\u001b[0;34m\u001b[0m\n\u001b[0;32m----> 1\u001b[0;31m \u001b[0;32mfrom\u001b[0m \u001b[0mgensim\u001b[0m\u001b[0;34m.\u001b[0m\u001b[0msummarization\u001b[0m \u001b[0;32mimport\u001b[0m \u001b[0mkeywords\u001b[0m\u001b[0;34m\u001b[0m\u001b[0;34m\u001b[0m\u001b[0m\n\u001b[0m",
      "\u001b[0;31mModuleNotFoundError\u001b[0m: No module named 'gensim.summarization'"
     ]
    }
   ],
   "source": [
    "from gensim.summarization import keywords"
   ]
  },
  {
   "cell_type": "code",
   "execution_count": 68,
   "id": "a7f4c097",
   "metadata": {},
   "outputs": [
    {
     "data": {
      "text/plain": [
       "'윤호중 “인력 전혀 안줄여 놀라” 검찰 개혁 비협조 비판 검찰이 검경 수사권 조정이 됐는데도 기소권 중심의 조직으로 개편하거나 수사권 인력을 전혀 조정하지 않고 있다는 지적이 제기돼 주목된다. 특히 이것이 검찰이 수사권 조정을 흔쾌히 받아들이지 않고 있고, 검찰개혁에 협조하지 않으려는 것 아니냐는 목소리도 나왔다. 윤호중 국회 법제사법위원장은 7일 더불어민주당 당대표 회의실에서 열린 ‘더불어민주당 검찰개혁특위 3차회의’에서 이같이 전했다. 윤 위원장은 특위 출범 후 엊그제 2차회의에서 검경 수사권 조정후 검찰의 이행 상황 현황을 점검한 결과 “검찰개혁특위를 즉각 가동해 중단없는 2단계 검찰개혁에 착수한 일을 정말 잘했구나라고 확인했다”고 지적했다. 그 이유를 두고 윤 위원장은 “검찰이 직접 수사해오던 범위가 대폭 축소돼 6대 범죄 중에서도 중대 규모 범죄에 대해서만 수사하게 돼 있고 검찰의 직접 수사건수도 4분의 1 이하로 줄어들게 됐는데도 검찰은 그동안 운영해왔던 검찰 수사 인력을 전혀 조정하지 않고 있었다”며 “수사권이 줄었으니 기소권을 중심으로 운영하려면 기소권 중심으로 개편해야 하는데, 이 또한 전혀 이뤄지지 않고 있었다”고 전했다. 윤 위원장은 위원들이 다들 굉장히 놀랐다며 “검찰은 지금도 검찰 수사권 조정을 흔쾌히 받아들이고 있지 않은 상황이었다”고 평가했다. 윤 위원장은 “국회가 법 개정으로 검찰개혁을 추진해왔고 앞으로 해나갈텐데 검찰이 적극 협조하려는 의사 있는지 의심하지 않을 수 없다”며 “더욱더 검찰개혁에 매진해야겠다는 그런 사실을 확인했다”고 강조했다. 윤 위원장은 향후 검찰개혁 특위가 입법과제를 발굴해 오는 2월 초까지 입법안을 마련해 국회에 제출할 예정이라고 덧붙였다. 이낙연 더불어민주당 대표는 지난해 검경수사권 조정을 통해 6대 범죄만 검찰이 직접 수사하도록 하는 형사소송법 개정한 것을 들어 “개정 형사소송법이 1일부터 이미 시행되고 있다”고 전했다. 이 대표는 이와 함께 공수처 출범이 검찰의 기소독점에 예외를 만드는 70년 형사사법 역사가 새로운 변화를 맞는다고도 평가했다. 이어 이 대표는 검찰의 기소와 수사권 분리를 두고 “불공정한 수사와 선택적 기소를 포함한 검찰권 남용 방지를 포함해 검찰개혁의 추가 과제를 신속하고 과감하게 이행해 나가야 한다”며 “검찰청법과 형소법 개정안을 다음달 2월까지 국회 제출하고 그 안을 토대로 검찰개혁 추가 과제를 신속 착실하게 추진해가도록 하겠다”고 밝혔다. 이 대표는 “제도에 못지 않게 조직 문화나 구성원 의식 변화 수반돼야 한다”며 “할 수 있다면 그런 문제까지 포함해서 검찰이 문자 그대로 국민의 검찰 성숙한 민주검찰로 거듭나도록 해야 한다”고 촉구했다.'"
      ]
     },
     "execution_count": 68,
     "metadata": {},
     "output_type": "execute_result"
    }
   ],
   "source": [
    "df.iloc[2].text"
   ]
  },
  {
   "cell_type": "code",
   "execution_count": 70,
   "id": "c8ae1a76",
   "metadata": {},
   "outputs": [
    {
     "data": {
      "text/plain": [
       "'이낙연 측근이 말하는 ‘치밀한’ 사면론 카드 “결국 문재인 대통령이 어떤 판단을 하느냐에 달렸다. 대통령이 사면을 결정하면 지지층의 반발도 어느 정도 잦아들 가능성이 있다.” 이낙연 더불어민주당 대표가 새해 첫 메시지로 던진 이명박·박근혜 두 전직 대통령 사면 관련 논란에 대한 이 대표 측 한 인사의 말이다. 정치권에선 이 대표 사면론에 대해 비판 일색이었다. 여권 내부에선 ‘사과도 없는 범죄자들을 어떻게 사면하느냐’, ‘특히 박근혜씨는 형사범죄뿐 아니라 국민들의 판단(탄핵)도 있었다’ 등의 의견이 있고, 야권에서도 ‘이낙연 지지율 반등 카드’라는 지적과 함께 김종인 국민의힘 비상대책위원장의 두 전직 대통령 범죄 관련 사과로 환영만 할수 없다는 분위기도 있다. 해당 관계자는 미디어오늘에 “당장은 비난이 많을 수밖에 없고 나도 원론적 입장만 따지면 사면 반대입장이지만 이 대표 입장에선 정치적으로 고려한 결정 아니겠느냐”고 했다. 여기서 ‘정치적 고려’란 문 대통령이 느끼는 정치적 부담과 이 대표 대권 행보를 뜻한다. 문 대통령 입장에선 자신의 임기 직전 두 전직 대통령이 모두 옥에 갇혔고, 박근혜씨의 경우 전직 대통령 중 최장기간(약 3년10개월) 수감 중인데 이는 법적인 문제를 떠나 문 대통령에게 정치적 부담으로 느껴진 게 사실이라고 전했다. 또한 호남 인사로 분류되는 이 대표가 향후 대권행보에서 영남권 지지를 얻을 돌파구이기도 하다는 게 해당 관계자의 설명이다. 이런 가운데 6일 리얼미터·오마이뉴스 여론조사를 보면 두 전직 대통령 사면에 대해 찬성(47.7%)과 반대(48%) 의견은 팽팽했다. 정치권과 언론에서 사면론에 비판적 의견이 지배했던 것과 다른 분위기다. 민주당 지지층에선 반대(88.8%), 국민의힘 지지층에선 찬성(81.4%)이 압도적으로 나타난 것을 봐도 ‘표계산’의 관점에서 볼 때 사면론 카드를 실패했다고 단정하긴 어렵다. 또한 7일 조선일보는 “박근혜는 사면, 이명박은 보류 검토”란 기사에서 ‘여권 핵심 관계자’의 말을 인용해 박근혜씨 사면을 검토한다는 내용을 전했다. 이는 이 대표 쪽 관계자일 가능성이 높다. 조선일보 취재에 청와대 관계자는 “사면 관련 입장이 없다”고 했고, 해당 보도 이후 청와대 대변인은 “사면을 검토한 적 없다”고 했지만 여당 대표가 실제 사면을 건의할 경우 청와대가 이를 일방적으로 외면할 수 없는 것도 사실이다. 이 대표 쪽 관계자는 미디어오늘에 “문 대통령과 이 대표가 지난 연말에 만났는데 그 자리에서 무엇을 논의했는지는 당사자들만 알 수 있다”고 선을 그으면서도 “두분은 서로 어떤 생각을 하는지 알만한 각별한 사이”라며 사전교감 가능성을 열어뒀다. 이 대표는 사면건의와 영수회담 제안에 대해 “대통령과 사전교감이 없었다”고 말해왔다. 사전교감 여부를 떠나 결과적으로 공은 대통령에게 넘어간 분위기다. 문 대통령이 이 대표 건의를 받아들여 사면할 경우 이 대표는 그가 말한대로 ‘대통령에 대한 충정’을 보이면서 동시에 영남·보수성향 지지층에게도 어필하는 두 마리 토끼를 잡게 된다. 문 대통령이 최종적으로 임기 내에 사면을 단행하지 않더라도 이 대표에 대한 메시지를 내놓을 것이란 예상도 가능하다. 여권의 유력 대선주자인 이 대표가 혼자서 소위 ‘쇼’를 한 모양새가 되는 건 정권 입장에서도 부담스러운 일이기 때문이다. 이 대표는 사면 건의를 꺼내든 이유로 ‘국민통합’을 말했다. 이는 총리 시절부터 그가 구상해 온 생각인 만큼 앞으로 국민통합과 관련한 의제를 더 던질 것이라고 해당 관계자는 전했다. 이달 내 진행할 것으로 보이는 문 대통령과 이 대표의 신년기자회견에서 어떤 메시지가 나올지 주목된다.'"
      ]
     },
     "execution_count": 70,
     "metadata": {},
     "output_type": "execute_result"
    }
   ],
   "source": [
    "df.iloc[0].text"
   ]
  },
  {
   "cell_type": "code",
   "execution_count": null,
   "id": "6a949bf9",
   "metadata": {},
   "outputs": [],
   "source": []
  }
 ],
 "metadata": {
  "kernelspec": {
   "display_name": "Python 3 (ipykernel)",
   "language": "python",
   "name": "python3"
  },
  "language_info": {
   "codemirror_mode": {
    "name": "ipython",
    "version": 3
   },
   "file_extension": ".py",
   "mimetype": "text/x-python",
   "name": "python",
   "nbconvert_exporter": "python",
   "pygments_lexer": "ipython3",
   "version": "3.9.19"
  }
 },
 "nbformat": 4,
 "nbformat_minor": 5
}
